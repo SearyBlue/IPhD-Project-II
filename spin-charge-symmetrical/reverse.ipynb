{
 "metadata": {
  "language_info": {
   "codemirror_mode": {
    "name": "ipython",
    "version": 3
   },
   "file_extension": ".py",
   "mimetype": "text/x-python",
   "name": "python",
   "nbconvert_exporter": "python",
   "pygments_lexer": "ipython3",
   "version": "3.9.4-final"
  },
  "orig_nbformat": 2,
  "kernelspec": {
   "name": "python3",
   "display_name": "Python 3"
  }
 },
 "nbformat": 4,
 "nbformat_minor": 2,
 "cells": [
  {
   "source": [
    "### IR Wavefunction\n",
    "\n",
    "$$\n",
    "\\newcommand{\\ket}[1]{\\vert{#1}\\rangle}\\\\\n",
    "\\newcommand{\\bra}[1]{\\langle{#1}\\vert}\\\\\n",
    "\t\\ket{\\text{IR}} = \\frac{1}{2}\\bigg[\\ket{\\uparrow^d}\\frac{1}{\\sqrt 2}\\left(\\ket{k_1 \\downarrow} + \\ket{k_{-1} \\downarrow}\\right) - \\ket{\\downarrow^d}\\frac{1}{\\sqrt 2}\\left(\\ket{k_1 \\uparrow} + \\ket{k_{-1} \\uparrow}\\right) + \\ket{2^d}\\ket{0} - \\ket{0^d}\\ket{k_1 \\uparrow, k_1 \\downarrow,k_{-1} \\uparrow,k_{-1} \\downarrow}\\bigg] \\otimes \\\\\\ket{k_{-2} \\uparrow} \\ket{k_{-2} \\downarrow} \\ket{k_{-3} \\uparrow} \\ket{k_{-3} \\downarrow} \n",
    "$$"
   ],
   "cell_type": "markdown",
   "metadata": {}
  },
  {
   "source": [
    "### Creating impurity and c-bath basis"
   ],
   "cell_type": "markdown",
   "metadata": {}
  },
  {
   "cell_type": "code",
   "execution_count": 7,
   "metadata": {},
   "outputs": [
    {
     "output_type": "stream",
     "name": "stdout",
     "text": [
      "[-2, -1, 1, 2]\n"
     ]
    }
   ],
   "source": [
    "from qutip import *\n",
    "from math import *\n",
    "import itertools\n",
    "\n",
    "moms = list(range(-2, 3))\n",
    "moms.remove(0)\n",
    "print (moms)\n",
    "spins = (\"u\", \"d\")\n",
    "occs = (0, 1)\n",
    "cb = dict()\n",
    "for k, spin, occ in itertools.product(moms, spins, occs):\n",
    "    cb[str(k)+spin+str(occ)] = basis(2,occ)\n",
    "ib = dict()\n",
    "for spin, occ in itertools.product(spins, occs):\n",
    "    ib[spin+str(occ)] = basis(2,occ)"
   ]
  },
  {
   "source": [
    "### Writing the IR wavefunction"
   ],
   "cell_type": "markdown",
   "metadata": {}
  },
  {
   "cell_type": "code",
   "execution_count": 8,
   "metadata": {},
   "outputs": [],
   "source": [
    "updn = (1/sqrt(2)) * (tensor(ib[\"u1\"], ib[\"d0\"], cb[\"-1u0\"], cb[\"-1d0\"], cb[\"1u0\"], cb[\"1d1\"]) + tensor(ib[\"u1\"], ib[\"d0\"], cb[\"-1u0\"], cb[\"-1d1\"], cb[\"1u0\"], cb[\"1d0\"]))\n",
    "dnup = (1/sqrt(2)) * (tensor(ib[\"u0\"], ib[\"d1\"], cb[\"-1u0\"], cb[\"-1d0\"], cb[\"1u1\"], cb[\"1d0\"]) + tensor(ib[\"u0\"], ib[\"d1\"], cb[\"-1u1\"], cb[\"-1d0\"], cb[\"1u0\"], cb[\"1d0\"]))\n",
    "# cloud_part = tensor(ib[\"u1\"], kcloud_dn) - tensor(ib[\"d1\"], kcloud_up) + tensor(ib[\"u1\"], ib[\"d1\"],kcloud_dn) + tensor(imp_2, kcloud_0) - tensor(imp_0, kcloud_2)\n",
    "ioms1 = tensor(cb[\"-2u1\"], cb[\"-2d1\"])\n",
    "ioms2 = tensor(cb[\"2u0\"], cb[\"2d0\"])\n",
    "psi_IR = tensor(ioms1, updn - dnup, ioms2).unit()"
   ]
  },
  {
   "cell_type": "code",
   "execution_count": null,
   "metadata": {},
   "outputs": [],
   "source": [
    "c1 = 1\n",
    "c2 = 1\n",
    "c3 = 1\n",
    "V = 1\n",
    "J = 1\n",
    "K = 1\n",
    "eta21_u = V * tensor(create(2), identity(2), destroy(2), c1 * num(2) + c2 * (1 - num(2)), identity(2), identity(2)) + c3 * ((J/2) + (K/2)) \n",
    "Udag_21_u = (1/sqrt(2))(1 + eta_21_u)\n",
    "Udag_21_d = (1/sqrt(2))(1 + eta_21_d)"
   ]
  }
 ]
}