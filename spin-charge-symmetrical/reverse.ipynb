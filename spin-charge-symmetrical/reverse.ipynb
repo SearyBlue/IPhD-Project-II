{
 "cells": [
  {
   "cell_type": "markdown",
   "metadata": {},
   "source": [
    "### IR Wavefunction\n",
    "\n",
    "$$\n",
    "\\newcommand{\\ket}[1]{\\vert{#1}\\rangle}\\\\\n",
    "\\newcommand{\\bra}[1]{\\langle{#1}\\vert}\\\\\n",
    "\\ket{\\text{IR}} = \\ket{\\hat n_{k_{-2}} = \\hat n_{k_{-3}} = 2} \\otimes \\frac{1}{2}\\bigg[ \\ket{\\uparrow^d}\\frac{1}{\\sqrt 2}\\left(\\ket{k_1 \\downarrow} + \\ket{k_{-1} \\downarrow}\\right) - \\ket{\\downarrow^d}\\frac{1}{\\sqrt 2}\\left(\\ket{k_1 \\uparrow} + \\ket{k_{-1} \\uparrow}\\right) + \\ket{2^d}\\ket{0} - \\ket{0^d}\\ket{k_1 \\uparrow, k_1 \\downarrow,k_{-1} \\uparrow,k_{-1} \\downarrow}\\bigg] \\otimes  \\ket{\\hat n_{k_{2}} = \\hat n_{k_{3} } = 0} = \\ket{1111}\\ket{0000}\\\\\n",
    "=\\frac{1}{2}\\ket{0000} \\otimes \\left[\\ket{10}\\ket{0101} - \\ket{01}\\ket{1010} + \\ket{11}\\ket{0000} - \\ket{00}\\ket{1111}\\right] \\otimes \\ket{1111}\\\\\n",
    "U^\\dagger_{k_+, k_-} = \\frac{1}{2}\\left[1 + \\eta_{k_- \\uparrow} + \\eta^\\dagger_{k_+ \\uparrow} + \\eta_{k_- \\downarrow} + \\eta^\\dagger_{k_+ \\downarrow}\\right] \\\\\n",
    " \\\\\n",
    "\\eta_{k_+\\beta}^\\dagger = V \\left[\\lambda_2 \\hat n_{d\\overline\\beta} + \\lambda_1 \\left( 1 - \\hat n_{d \\overline \\beta} \\right)  \\right]c^\\dagger_{q\\beta}c_{d\\beta} + \\lambda_3 \\sum_{k} \\left\\{ \\frac{J}{2}\\left( S_d^z \\beta c^\\dagger_{q\\beta}c_{k\\beta} + c^\\dagger_{d \\overline \\beta}c_{d\\beta}c^\\dagger_{q\\beta}c_{k \\overline \\beta}\\right) + \\frac{K}{2}\\left( C^z_d c^\\dagger_{q\\beta}c_{k\\beta} + c^\\dagger_{q\\beta}c^\\dagger_{k \\overline \\beta}c_{d \\overline \\beta}c_{d\\beta} \\right) \\right\\}\\\\\n",
    "\\eta_{k_-\\beta} = V^* \\left[\\lambda_1 \\hat n_{d \\overline \\beta} + \\lambda_2 \\left( 1 - \\hat n_{d \\overline \\beta} \\right)  \\right]c^\\dagger_{d\\beta}c_{q\\beta} + \\lambda_3 \\sum_{k} \\left\\{ \\frac{J}{2}\\left( S_d^z \\beta c^\\dagger_{k\\beta}c_{q\\beta} + c^\\dagger_{d\\beta}c_{d \\overline \\beta}c^\\dagger_{k \\overline \\beta}c_{q\\beta}\\right)+ \\frac{K}{2}\\left( C^z_d c^\\dagger_{k\\beta}c_{q\\beta} + c^\\dagger_{d\\beta}c^\\dagger_{d \\overline \\beta}c_{k \\overline \\beta}c_{q\\beta} \\right) \\right\\} \\\\\n",
    "\\lambda_1 = \\frac{1}{\\omega - \\frac{1}{2}D + \\epsilon_d + \\frac{1}{2}K}, \\lambda_2 = \\frac{1}{\\omega - \\frac{1}{2}D - \\epsilon_d + \\frac{1}{2}J}, \\lambda_3 = \\frac{1}{\\omega - \\frac{1}{2}D + \\frac{1}{4}\\left(J + K\\right)} \n",
    "$$"
   ]
  },
  {
   "cell_type": "code",
   "execution_count": 1,
   "metadata": {},
   "outputs": [],
   "source": [
    "from qutip import *\n",
    "from math import *\n",
    "import itertools\n",
    "from itertools import product\n",
    "import matplotlib\n",
    "from matplotlib import pyplot as plt\n",
    "\n",
    "import numpy as np\n",
    "\n",
    "font = {'size'   : 17}\n",
    "\n",
    "matplotlib.rc('font', **font)\n",
    "matplotlib.rcParams['text.usetex'] = True\n",
    "plt.rcParams[\"figure.figsize\"]= 5, 5\n",
    "#plt.rcParams['figure.dpi'] = 90\n",
    "matplotlib.rcParams['lines.linewidth'] = 2\n",
    "plt.rcParams['axes.grid'] = True\n",
    "\n",
    "idt = identity(2)\n",
    "n = create(2) * destroy(2)\n",
    "\n",
    "Cdz = 0.5 * (tensor(n, idt) +  tensor(idt, n) - 1)\n",
    "# isospin z component\n",
    "\n",
    " "
   ]
  },
  {
   "cell_type": "markdown",
   "metadata": {},
   "source": [
    "### Writing the impurity+cloud wavefunction"
   ]
  },
  {
   "cell_type": "code",
   "execution_count": 2,
   "metadata": {},
   "outputs": [],
   "source": [
    "def get_cloud(csm, ccm):\n",
    "    up = [1, 0, 0, 1, 0, 1]\n",
    "    down = [0, 1, 1, 0, 1, 0]\n",
    "    two = [1, 1, 0, 0, 0, 0]\n",
    "    zero = [0, 0, 1, 1, 1, 1]\n",
    "    cloudup = csm * tensor([basis(2,i) for i in up])\n",
    "    clouddown = csm * tensor([basis(2,i) for i in down])\n",
    "    cloudtwo = ccm * tensor([basis(2,i) for i in two])\n",
    "    cloudzero = ccm * tensor([basis(2,i) for i in zero])\n",
    "    psi_cloud = tensor(cloudup - clouddown + cloudtwo - cloudzero)\n",
    "    return psi_cloud    "
   ]
  },
  {
   "cell_type": "markdown",
   "metadata": {},
   "source": [
    "## Creating the unitary\n",
    "\n",
    "$ \\eta^{\\dagger/-} = \\eta_1^{\\dagger/-} + \\eta_2^{\\dagger/-} + \\eta_3^{\\dagger/-}$"
   ]
  },
  {
   "cell_type": "markdown",
   "metadata": {},
   "source": [
    "### Create $c^\\dagger_{q\\beta}\\otimes I_{\\overline\\beta}$ or $c_{q\\beta}\\otimes I_{\\overline\\beta}$"
   ]
  },
  {
   "cell_type": "code",
   "execution_count": 3,
   "metadata": {},
   "outputs": [],
   "source": [
    "def cq(beta, conj):\n",
    "    cq_ = create(2) if conj == 1 else destroy(2)\n",
    "    # use c^dagger_q is conj == 1 else c_q\n",
    "\n",
    "    return tensor(cq_, idt) if beta == 1 else tensor(idt, cq_)\n",
    "    # place cq first if beta == up else place idt first"
   ]
  },
  {
   "cell_type": "markdown",
   "metadata": {},
   "source": [
    "### Creating $\\sum_k c_{k\\beta}$"
   ]
  },
  {
   "cell_type": "code",
   "execution_count": 4,
   "metadata": {},
   "outputs": [],
   "source": [
    "def sum_k_ck(beta, conj):\n",
    "    # returns \\sum_{k}c_{k\\beta}, the conjugate is obtained by applying .dag() on this return value\n",
    "\n",
    "    ck = create(2) if conj == 1 else destroy(2)\n",
    "    # variable conj is supposed to tell me whether i require \\sum_k c^\\dagger_k or \\sum_k c_k\n",
    "\n",
    "    sum=0\n",
    "    num = 2 * ins\n",
    "    for i in range(num):\n",
    "        # outer loop shifts the position of k over all cloud momenta\n",
    "\n",
    "        cur = 0\n",
    "        for j in range(num):\n",
    "            # inner loop creates the string for a particular k\n",
    "\n",
    "            if i != j: # if not the particular k, fill with idt\n",
    "                cur = tensor(cur, idt, idt) if cur !=0 else tensor(idt, idt)\n",
    "            elif beta == 1: \n",
    "                # otherwise, check if spin is up or down, up goes first, down goes second\n",
    "                cur = tensor(cur, ck, idt) if cur !=0 else tensor(ck, idt)\n",
    "            else: \n",
    "                cur = tensor(cur, idt, ck) if cur !=0 else tensor(idt, ck)\n",
    "        sum = cur if sum == 0 else sum + cur \n",
    "    return sum"
   ]
  },
  {
   "cell_type": "markdown",
   "metadata": {},
   "source": [
    "### Creating first part of $\\eta$\n",
    "\n",
    "$$\n",
    "V \\left[\\lambda_2 \\hat n_{d\\overline\\beta} + \\lambda_1 \\left( 1 - \\hat n_{d \\overline \\beta} \\right)  \\right]c^\\dagger_{q\\beta}c_{d\\beta}\n",
    "$$\n",
    "or\n",
    "$$\n",
    "V^* \\left[\\lambda_1 \\hat n_{d \\overline \\beta} + \\lambda_2 \\left( 1 - \\hat n_{d \\overline \\beta} \\right)  \\right]c^\\dagger_{d\\beta}c_{q\\beta}\n",
    "$$"
   ]
  },
  {
   "cell_type": "code",
   "execution_count": 5,
   "metadata": {},
   "outputs": [],
   "source": [
    "def eta1(beta, conj, args):\n",
    "    c1, c2, c3, V, J, K = args\n",
    "    \n",
    "    c_q = cq(beta, conj)\n",
    "    # gets either c^\\dagger_{q\\beta}\\otimes identity(q\\ol\\beta), or c_{q\\beta}iden(q\\ol\\beta), depending on conj=\\pm 1\n",
    "\n",
    "    betaSdz = beta * 0.5 * (tensor(n, idt) - tensor(idt, n))\n",
    "    # gets \\beta S_d^z\n",
    "\n",
    "    cimp = create(2) if conj == -1 else destroy(2)\n",
    "    # impurity beta operator will be c_{d\\beta} if conj = 1 else c^\\dagger_{d\\beta}\n",
    "    \n",
    "    imp_part = [cimp, c2 * n + c1 * (1-n)] if beta == 1 else [c2 * n + c1 * (1-n), cimp]\n",
    "    # the full impurity part will be cimp \\otimes idt(2) if beta is up, else idt(2) \\otimes cimp,\n",
    "    # because up part comes first\n",
    "\n",
    "    cloud_part = [idt]*2*2*ins\n",
    "    # cloud electrons do not participate in this part of eta, hence just identities. \n",
    "    # (ins) is number of k states on one side of FS, *2 for both sides, another *2 for spin \n",
    "\n",
    "    eta_1 = V * tensor([c_q] + imp_part + cloud_part) if conj == 1 else V * tensor(imp_part + cloud_part + [c_q])\n",
    "    # if conj == 1 (if we are creating eta^dagger), then q is above the FS and eta_1 will be \n",
    "    # c^\\dagger_q \\otimes imp_part \\otimes cloud_part, otherwise it will be imp_part \\otimes cloud_part \\otimes c_q,\n",
    "    # because q will be below the FS\n",
    "\n",
    "    return eta_1"
   ]
  },
  {
   "cell_type": "markdown",
   "metadata": {},
   "source": [
    "### Creating second part of $\\eta$\n",
    "\n",
    "$$\n",
    "\\lambda_3 \\sum_{k} \\frac{J}{2}c^\\dagger_{q\\beta}\\left( S_d^z \\beta c_{k\\beta} + c^\\dagger_{d \\overline \\beta}c_{d\\beta}c_{k \\overline \\beta}\\right), \\text{ conj} == 1\n",
    "$$\n",
    "or\n",
    "$$\n",
    "\\lambda_3 \\sum_{k} \\frac{J}{2}\\left( S_d^z \\beta c^\\dagger_{k\\beta} + c^\\dagger_{d\\beta}c_{d \\overline \\beta}c^\\dagger_{k \\overline \\beta}\\right)c_{q\\beta}, \\text{ conj} == -1\n",
    "$$\n",
    "The impurity part can be written as\n",
    "$$\n",
    "\\text{imp-part} = \\begin{cases} c^\\dagger_{d\\uparrow}c_{d \\downarrow}, \\text{ if }\\beta \\neq \\text{conj} \\\\ -c_{d\\uparrow}c^\\dagger_{d \\downarrow}, \\text{ if }\\beta == \\text{conj} \\end{cases}\n",
    "$$\n",
    "Cloud part is $\\sum_k c_{k\\beta}(conj)$"
   ]
  },
  {
   "cell_type": "code",
   "execution_count": 6,
   "metadata": {},
   "outputs": [],
   "source": [
    "def eta2(beta, conj, args):\n",
    "    c1, c2, c3, V, J, K = args\n",
    "    \n",
    "    betaSdz = beta * 0.5 * (tensor(n, idt) - tensor(idt, n))\n",
    "    # gets \\beta S_d^z\n",
    "        \n",
    "    c_q = cq(beta, conj)\n",
    "    # gets either c^\\dagger_{q\\beta}\\otimes identity(q\\ol\\beta), or c_{q\\beta}iden(q\\ol\\beta), depending on conj=\\pm 1\n",
    "\n",
    "    imp_part = -tensor(destroy(2), create(2)) if conj == beta else tensor(create(2), destroy(2))\n",
    "    \n",
    "    k_beta = sum_k_ck(beta, conj)\n",
    "    k_beta_bar = sum_k_ck(-beta, conj)\n",
    "\n",
    "    eta_2 = (tensor(c_q, betaSdz, k_beta) + tensor(c_q, imp_part, k_beta_bar)) if conj == 1 else (tensor(betaSdz, k_beta, c_q) + tensor(imp_part, k_beta_bar, c_q))\n",
    "    return (c3 / 2) * J * eta_2"
   ]
  },
  {
   "cell_type": "markdown",
   "metadata": {},
   "source": [
    "### Creating third part of $\\eta$\n",
    "\n",
    "$$\n",
    "\\lambda_3 \\sum_{k} \\frac{K}{2}\\left( C^z_d c^\\dagger_{q\\beta}c_{k\\beta} + c^\\dagger_{q\\beta}c^\\dagger_{k \\overline \\beta}c_{d \\overline \\beta}c_{d\\beta} \\right)\n",
    "$$\n",
    "or\n",
    "$$\n",
    "\\lambda_3 \\sum_{k} \\frac{K}{2}\\left( C^z_d c^\\dagger_{k\\beta}c_{q\\beta} + c^\\dagger_{d\\beta}c^\\dagger_{d \\overline \\beta}c_{k \\overline \\beta}c_{q\\beta} \\right)\n",
    "$$\n",
    "Impurity part is\n",
    "$$\n",
    "\\text{imp-part} = \\begin{cases}-c_{d \\uparrow}c_{d \\downarrow}, \\beta = \\text{conj} = 1 \\\\\n",
    "c_{d \\uparrow}c_{d \\downarrow}, \\beta = -1, \\text{conj} = 1 \\\\\n",
    "c^\\dagger_{d \\uparrow}c^\\dagger_{d \\downarrow}, \\beta = 1, \\text{conj} = -1 \\\\\n",
    "-c^\\dagger_{d \\uparrow}c^\\dagger_{d \\downarrow}, \\beta = \\text{conj} = -1 \\end{cases} = -(\\beta \\times \\text{conj}) * (c_{d \\uparrow}c_{d \\downarrow})(conj)\n",
    "$$\n",
    "The cloud parts are\n",
    "$$\n",
    "\\sum_k(\\beta, -conj) \\text{ and }\\sum_k(-\\beta, conj)\n",
    "$$"
   ]
  },
  {
   "cell_type": "code",
   "execution_count": 7,
   "metadata": {},
   "outputs": [],
   "source": [
    "def eta3(beta, conj, args):\n",
    "    c1, c2, c3, V, J, K = args\n",
    "         \n",
    "    betaSdz = beta * 0.5 * (tensor(n, idt) - tensor(idt, n))\n",
    "    # gets \\beta S_d^z\n",
    "               \n",
    "    c_q = cq(beta, conj)\n",
    "    # gets either c^\\dagger_{q\\beta}\\otimes identity(q\\ol\\beta), or c_{q\\beta}iden(q\\ol\\beta), depending on conj=\\pm 1\n",
    "\n",
    "    imp_part = -beta*conj*(tensor(destroy(2), destroy(2)) if conj == 1 else tensor(create(2), create(2)))\n",
    "    \n",
    "    k_beta = sum_k_ck(beta, -conj)\n",
    "    k_beta_bar = sum_k_ck(-beta, conj)\n",
    "\n",
    "    eta_3 = (tensor(c_q, Cdz, k_beta) + tensor(c_q, imp_part, k_beta_bar)) if conj == 1 else (tensor(Cdz, k_beta, c_q) + tensor(imp_part, k_beta_bar, c_q))\n",
    "    return (c3 / 2) * K * eta_3"
   ]
  },
  {
   "cell_type": "code",
   "execution_count": 8,
   "metadata": {},
   "outputs": [],
   "source": [
    "def rev_one_step(psi, out, ins, args=[1]*4):\n",
    "\n",
    "    Udag = 1/2\n",
    "    for conj, beta in product([1, -1], [1, -1]):    \n",
    "        # conj = 1 means eta dagger (q is above FS), conj = -1 means eta (q is below)\n",
    "\n",
    "        print (conj, beta)\n",
    "        iom1 = 2*(out - 1) if conj == 1 else 2 * out\n",
    "        iom2 = 2*(out - 1) if conj == -1 else 2 * out\n",
    "        # iom1 == k states above the FS that are unchanged b4 & after this reverse RG step.\n",
    "        # If conj == 1, that means I am working with a q that's empty, so iom1 will lose 2 states (q up, q down).\n",
    "        # iom2 will lose two states if the electron being re-entangled is below FS, that is if conj == -1\n",
    "        U, J, K, V, D, w = args\n",
    "        \n",
    "        c1 = 1/(w - D/2 - U/2 + K/2)\n",
    "        c2 = 1/(w - D/2 + U/2 + J/2)\n",
    "        c3 = 1/(w - D/2 + K/4 + J/4)\n",
    "\n",
    "        args = (c1, c2, c3, V, J, K)\n",
    "        \n",
    "        eta_1 = eta1(beta, conj, args)\n",
    "        eta_2 = eta2(beta, conj, args)\n",
    "        eta_3 = eta3(beta, conj, args)\n",
    "        # get the three parts of eta (V part, S part and C part)\n",
    "        \n",
    "        eta_beta_conj = eta_1 + eta_2 + eta_3\n",
    "        # get eta for this value of beta and conf.\n",
    "        # For example, this is the eta for k=+1 and beta = up\n",
    "        \n",
    "        # add the iom identity parts\n",
    "        for k in range(iom1):\n",
    "            eta_beta_conj = tensor(idt, eta_beta_conj)\n",
    "        for k in range(iom2):\n",
    "            eta_beta_conj = tensor(eta_beta_conj, idt)\n",
    "        \n",
    "        Udag += eta_beta_conj/2\n",
    "    \n",
    "    return Udag(psi)\n",
    "\n"
   ]
  },
  {
   "cell_type": "markdown",
   "metadata": {},
   "source": [
    "## Mutual Information\n",
    "\n",
    "$$\n",
    "\\rho = \\text{density matrix} = \\ket{\\Psi}\\bra{\\Psi}\n",
    "$$\n",
    "$$\n",
    "I(A:B) = S_A + S_B - S_{AB}\n",
    "$$\n",
    "$$\n",
    "S_X = \\text{Tr}_X \\left[{\\rho}\\right]\n",
    "$$"
   ]
  },
  {
   "cell_type": "code",
   "execution_count": 9,
   "metadata": {},
   "outputs": [],
   "source": [
    "def mut_inf(psi, a, b):\n",
    "    rho = psi * psi.dag()\n",
    "    rho_ab = rho.ptrace([a, b])\n",
    "    rho_a = rho.ptrace(a)\n",
    "    rho_b = rho.ptrace(b)\n",
    "    S_a = entropy_vn(rho_a) \n",
    "    S_b = entropy_vn(rho_b)\n",
    "    S_ab = entropy_vn(rho_ab) \n",
    "    return S_a + S_b - S_ab"
   ]
  },
  {
   "cell_type": "code",
   "execution_count": 10,
   "metadata": {},
   "outputs": [
    {
     "output_type": "stream",
     "name": "stdout",
     "text": [
      "1 1\n",
      "1 -1\n",
      "-1 1\n",
      "-1 -1\n",
      "1 1\n",
      "1 -1\n",
      "-1 1\n",
      "-1 -1\n",
      "[0.6931471805599453, 0.10541080904477451, 0.002148943384546742]\n"
     ]
    },
    {
     "output_type": "display_data",
     "data": {
      "text/plain": "<Figure size 360x360 with 1 Axes>",
      "image/svg+xml": "<?xml version=\"1.0\" encoding=\"utf-8\" standalone=\"no\"?>\n<!DOCTYPE svg PUBLIC \"-//W3C//DTD SVG 1.1//EN\"\n  \"http://www.w3.org/Graphics/SVG/1.1/DTD/svg11.dtd\">\n<!-- Created with matplotlib (https://matplotlib.org/) -->\n<svg height=\"308.255739pt\" version=\"1.1\" viewBox=\"0 0 331.083475 308.255739\" width=\"331.083475pt\" xmlns=\"http://www.w3.org/2000/svg\" xmlns:xlink=\"http://www.w3.org/1999/xlink\">\n <metadata>\n  <rdf:RDF xmlns:cc=\"http://creativecommons.org/ns#\" xmlns:dc=\"http://purl.org/dc/elements/1.1/\" xmlns:rdf=\"http://www.w3.org/1999/02/22-rdf-syntax-ns#\">\n   <cc:Work>\n    <dc:type rdf:resource=\"http://purl.org/dc/dcmitype/StillImage\"/>\n    <dc:date>2021-05-25T22:22:35.351468</dc:date>\n    <dc:format>image/svg+xml</dc:format>\n    <dc:creator>\n     <cc:Agent>\n      <dc:title>Matplotlib v3.3.4, https://matplotlib.org/</dc:title>\n     </cc:Agent>\n    </dc:creator>\n   </cc:Work>\n  </rdf:RDF>\n </metadata>\n <defs>\n  <style type=\"text/css\">*{stroke-linecap:butt;stroke-linejoin:round;}</style>\n </defs>\n <g id=\"figure_1\">\n  <g id=\"patch_1\">\n   <path d=\"M 0 308.255739 \nL 331.083475 308.255739 \nL 331.083475 0 \nL 0 0 \nz\n\" style=\"fill:none;\"/>\n  </g>\n  <g id=\"axes_1\">\n   <g id=\"patch_2\">\n    <path d=\"M 44.883475 279 \nL 323.883475 279 \nL 323.883475 7.2 \nL 44.883475 7.2 \nz\n\" style=\"fill:#ffffff;\"/>\n   </g>\n   <g id=\"matplotlib.axis_1\">\n    <g id=\"xtick_1\">\n     <g id=\"line2d_1\">\n      <path clip-path=\"url(#p6e7073baeb)\" d=\"M 57.565293 279 \nL 57.565293 7.2 \n\" style=\"fill:none;stroke:#b0b0b0;stroke-linecap:square;stroke-width:0.8;\"/>\n     </g>\n     <g id=\"line2d_2\">\n      <defs>\n       <path d=\"M 0 0 \nL 0 3.5 \n\" id=\"me55737476e\" style=\"stroke:#000000;stroke-width:0.8;\"/>\n      </defs>\n      <g>\n       <use style=\"stroke:#000000;stroke-width:0.8;\" x=\"57.565293\" xlink:href=\"#me55737476e\" y=\"279\"/>\n      </g>\n     </g>\n     <g id=\"text_1\">\n      <!-- $\\mathdefault{0.0}$ -->\n      <g transform=\"translate(47.494652 297.761452)scale(0.17 -0.17)\">\n       <defs>\n        <path d=\"M 42 31.84375 \nC 42 37.96875 41.90625 48.421875 37.703125 56.453125 \nC 34 63.484375 28.09375 66 22.90625 66 \nC 18.09375 66 12 63.78125 8.203125 56.5625 \nC 4.203125 49.015625 3.796875 39.671875 3.796875 31.84375 \nC 3.796875 26.109375 3.90625 17.375 7 9.734375 \nC 11.296875 -0.609375 19 -2 22.90625 -2 \nC 27.5 -2 34.5 -0.109375 38.59375 9.4375 \nC 41.59375 16.375 42 24.5 42 31.84375 \nz\nM 22.90625 -0.40625 \nC 16.5 -0.40625 12.703125 5.125 11.296875 12.75 \nC 10.203125 18.6875 10.203125 27.328125 10.203125 32.953125 \nC 10.203125 40.6875 10.203125 47.109375 11.5 53.234375 \nC 13.40625 61.78125 19 64.390625 22.90625 64.390625 \nC 27 64.390625 32.296875 61.671875 34.203125 53.4375 \nC 35.5 47.71875 35.59375 40.984375 35.59375 32.953125 \nC 35.59375 26.421875 35.59375 18.375 34.40625 12.453125 \nC 32.296875 1.5 26.40625 -0.40625 22.90625 -0.40625 \nz\n\" id=\"CMR17-48\"/>\n        <path d=\"M 18.40625 4.796875 \nC 18.40625 7.6875 16 9.6875 13.59375 9.6875 \nC 10.703125 9.6875 8.703125 7.296875 8.703125 4.890625 \nC 8.703125 2 11.09375 0 13.5 0 \nC 16.40625 0 18.40625 2.390625 18.40625 4.796875 \nz\n\" id=\"CMMI12-58\"/>\n       </defs>\n       <use transform=\"scale(0.996264)\" xlink:href=\"#CMR17-48\"/>\n       <use transform=\"translate(45.690477 0)scale(0.996264)\" xlink:href=\"#CMMI12-58\"/>\n       <use transform=\"translate(72.787654 0)scale(0.996264)\" xlink:href=\"#CMR17-48\"/>\n      </g>\n     </g>\n    </g>\n    <g id=\"xtick_2\">\n     <g id=\"line2d_3\">\n      <path clip-path=\"url(#p6e7073baeb)\" d=\"M 120.974384 279 \nL 120.974384 7.2 \n\" style=\"fill:none;stroke:#b0b0b0;stroke-linecap:square;stroke-width:0.8;\"/>\n     </g>\n     <g id=\"line2d_4\">\n      <g>\n       <use style=\"stroke:#000000;stroke-width:0.8;\" x=\"120.974384\" xlink:href=\"#me55737476e\" y=\"279\"/>\n      </g>\n     </g>\n     <g id=\"text_2\">\n      <!-- $\\mathdefault{0.5}$ -->\n      <g transform=\"translate(110.903743 297.761452)scale(0.17 -0.17)\">\n       <defs>\n        <path d=\"M 11.40625 58.59375 \nC 12.40625 58.1875 16.5 56.890625 20.703125 56.890625 \nC 30 56.890625 35.09375 61.890625 38 64.6875 \nC 38 65.484375 38 66 37.40625 66 \nC 37.296875 66 37.09375 66 36.296875 65.59375 \nC 32.796875 64.09375 28.703125 63 23.703125 63 \nC 20.703125 63 16.203125 63.359375 11.296875 65.484375 \nC 10.203125 66 10 66 9.90625 66 \nC 9.40625 66 9.296875 65.890625 9.296875 63.90625 \nL 9.296875 34.859375 \nC 9.296875 33.015625 9.296875 32.5 10.296875 32.5 \nC 10.796875 32.5 11 32.703125 11.5 33.421875 \nC 14.703125 38.046875 19.09375 40 24.09375 40 \nC 27.59375 40 35.09375 37.734375 35.09375 20.203125 \nC 35.09375 16.984375 35.09375 11.1875 32.09375 6.59375 \nC 29.59375 2.484375 25.703125 0.390625 21.40625 0.390625 \nC 14.796875 0.390625 8.09375 4.984375 6.296875 12.6875 \nC 6.703125 12.59375 7.5 12.390625 7.90625 12.390625 \nC 9.203125 12.390625 11.703125 13.09375 11.703125 16.1875 \nC 11.703125 18.890625 9.796875 20 7.90625 20 \nC 5.59375 20 4.09375 18.59375 4.09375 15.796875 \nC 4.09375 7.09375 11 -2 21.59375 -2 \nC 31.90625 -2 41.703125 6.890625 41.703125 19.796875 \nC 41.703125 32.09375 33.90625 41.59375 24.203125 41.59375 \nC 19.09375 41.59375 14.796875 39.6875 11.40625 36 \nz\n\" id=\"CMR17-53\"/>\n       </defs>\n       <use transform=\"scale(0.996264)\" xlink:href=\"#CMR17-48\"/>\n       <use transform=\"translate(45.690477 0)scale(0.996264)\" xlink:href=\"#CMMI12-58\"/>\n       <use transform=\"translate(72.787654 0)scale(0.996264)\" xlink:href=\"#CMR17-53\"/>\n      </g>\n     </g>\n    </g>\n    <g id=\"xtick_3\">\n     <g id=\"line2d_5\">\n      <path clip-path=\"url(#p6e7073baeb)\" d=\"M 184.383475 279 \nL 184.383475 7.2 \n\" style=\"fill:none;stroke:#b0b0b0;stroke-linecap:square;stroke-width:0.8;\"/>\n     </g>\n     <g id=\"line2d_6\">\n      <g>\n       <use style=\"stroke:#000000;stroke-width:0.8;\" x=\"184.383475\" xlink:href=\"#me55737476e\" y=\"279\"/>\n      </g>\n     </g>\n     <g id=\"text_3\">\n      <!-- $\\mathdefault{1.0}$ -->\n      <g transform=\"translate(174.312834 297.761452)scale(0.17 -0.17)\">\n       <defs>\n        <path d=\"M 26.59375 63.796875 \nC 26.59375 65.890625 26.5 66 25.09375 66 \nC 21.203125 61.359375 15.296875 59.890625 9.703125 59.6875 \nC 9.40625 59.6875 8.90625 59.6875 8.796875 59.5 \nC 8.703125 59.296875 8.703125 59.09375 8.703125 57 \nC 11.796875 57 17 57.59375 21 59.984375 \nL 21 7.296875 \nC 21 3.796875 20.796875 2.59375 12.203125 2.59375 \nL 9.203125 2.59375 \nL 9.203125 0 \nC 14 0.09375 19 0.1875 23.796875 0.1875 \nC 28.59375 0.1875 33.59375 0.09375 38.40625 0 \nL 38.40625 2.59375 \nL 35.40625 2.59375 \nC 26.796875 2.59375 26.59375 3.6875 26.59375 7.296875 \nz\n\" id=\"CMR17-49\"/>\n       </defs>\n       <use transform=\"scale(0.996264)\" xlink:href=\"#CMR17-49\"/>\n       <use transform=\"translate(45.690477 0)scale(0.996264)\" xlink:href=\"#CMMI12-58\"/>\n       <use transform=\"translate(72.787654 0)scale(0.996264)\" xlink:href=\"#CMR17-48\"/>\n      </g>\n     </g>\n    </g>\n    <g id=\"xtick_4\">\n     <g id=\"line2d_7\">\n      <path clip-path=\"url(#p6e7073baeb)\" d=\"M 247.792566 279 \nL 247.792566 7.2 \n\" style=\"fill:none;stroke:#b0b0b0;stroke-linecap:square;stroke-width:0.8;\"/>\n     </g>\n     <g id=\"line2d_8\">\n      <g>\n       <use style=\"stroke:#000000;stroke-width:0.8;\" x=\"247.792566\" xlink:href=\"#me55737476e\" y=\"279\"/>\n      </g>\n     </g>\n     <g id=\"text_4\">\n      <!-- $\\mathdefault{1.5}$ -->\n      <g transform=\"translate(237.721925 297.761452)scale(0.17 -0.17)\">\n       <use transform=\"scale(0.996264)\" xlink:href=\"#CMR17-49\"/>\n       <use transform=\"translate(45.690477 0)scale(0.996264)\" xlink:href=\"#CMMI12-58\"/>\n       <use transform=\"translate(72.787654 0)scale(0.996264)\" xlink:href=\"#CMR17-53\"/>\n      </g>\n     </g>\n    </g>\n    <g id=\"xtick_5\">\n     <g id=\"line2d_9\">\n      <path clip-path=\"url(#p6e7073baeb)\" d=\"M 311.201657 279 \nL 311.201657 7.2 \n\" style=\"fill:none;stroke:#b0b0b0;stroke-linecap:square;stroke-width:0.8;\"/>\n     </g>\n     <g id=\"line2d_10\">\n      <g>\n       <use style=\"stroke:#000000;stroke-width:0.8;\" x=\"311.201657\" xlink:href=\"#me55737476e\" y=\"279\"/>\n      </g>\n     </g>\n     <g id=\"text_5\">\n      <!-- $\\mathdefault{2.0}$ -->\n      <g transform=\"translate(301.131016 297.761452)scale(0.17 -0.17)\">\n       <defs>\n        <path d=\"M 41.703125 15.46875 \nL 39.90625 15.46875 \nC 38.90625 8.390625 38.09375 7.1875 37.703125 6.59375 \nC 37.203125 5.796875 30 5.796875 28.59375 5.796875 \nL 9.40625 5.796875 \nC 13 9.6875 20 16.765625 28.5 24.9375 \nC 34.59375 30.71875 41.703125 37.5 41.703125 47.390625 \nC 41.703125 59.1875 32.296875 66 21.796875 66 \nC 10.796875 66 4.09375 56.296875 4.09375 47.296875 \nC 4.09375 43.390625 7 42.890625 8.203125 42.890625 \nC 9.203125 42.890625 12.203125 43.484375 12.203125 46.984375 \nC 12.203125 50.09375 9.59375 51 8.203125 51 \nC 7.59375 51 7 50.890625 6.59375 50.6875 \nC 8.5 59.1875 14.296875 63.390625 20.40625 63.390625 \nC 29.09375 63.390625 34.796875 56.5 34.796875 47.390625 \nC 34.796875 38.703125 29.703125 31.21875 24 24.734375 \nL 4.09375 2.296875 \nL 4.09375 0 \nL 39.296875 0 \nz\n\" id=\"CMR17-50\"/>\n       </defs>\n       <use transform=\"scale(0.996264)\" xlink:href=\"#CMR17-50\"/>\n       <use transform=\"translate(45.690477 0)scale(0.996264)\" xlink:href=\"#CMMI12-58\"/>\n       <use transform=\"translate(72.787654 0)scale(0.996264)\" xlink:href=\"#CMR17-48\"/>\n      </g>\n     </g>\n    </g>\n   </g>\n   <g id=\"matplotlib.axis_2\">\n    <g id=\"ytick_1\">\n     <g id=\"line2d_11\">\n      <path clip-path=\"url(#p6e7073baeb)\" d=\"M 44.883475 200.871275 \nL 323.883475 200.871275 \n\" style=\"fill:none;stroke:#b0b0b0;stroke-linecap:square;stroke-width:0.8;\"/>\n     </g>\n     <g id=\"line2d_12\">\n      <defs>\n       <path d=\"M 0 0 \nL -3.5 0 \n\" id=\"m4b1faf33e1\" style=\"stroke:#000000;stroke-width:0.8;\"/>\n      </defs>\n      <g>\n       <use style=\"stroke:#000000;stroke-width:0.8;\" x=\"44.883475\" xlink:href=\"#m4b1faf33e1\" y=\"200.871275\"/>\n      </g>\n     </g>\n     <g id=\"text_6\">\n      <!-- $\\mathdefault{10^{-2}}$ -->\n      <g transform=\"translate(7.2 206.752001)scale(0.17 -0.17)\">\n       <defs>\n        <path d=\"M 65.90625 23 \nC 67.59375 23 69.40625 23 69.40625 25 \nC 69.40625 27 67.59375 27 65.90625 27 \nL 11.796875 27 \nC 10.09375 27 8.296875 27 8.296875 25 \nC 8.296875 23 10.09375 23 11.796875 23 \nz\n\" id=\"CMSY10-0\"/>\n       </defs>\n       <use transform=\"scale(0.996264)\" xlink:href=\"#CMR17-49\"/>\n       <use transform=\"translate(45.690477 0)scale(0.996264)\" xlink:href=\"#CMR17-48\"/>\n       <use transform=\"translate(91.380954 36.153639)scale(0.697382)\" xlink:href=\"#CMSY10-0\"/>\n       <use transform=\"translate(145.621947 36.153639)scale(0.697382)\" xlink:href=\"#CMR17-50\"/>\n      </g>\n     </g>\n    </g>\n    <g id=\"ytick_2\">\n     <g id=\"line2d_13\">\n      <path clip-path=\"url(#p6e7073baeb)\" d=\"M 44.883475 102.373762 \nL 323.883475 102.373762 \n\" style=\"fill:none;stroke:#b0b0b0;stroke-linecap:square;stroke-width:0.8;\"/>\n     </g>\n     <g id=\"line2d_14\">\n      <g>\n       <use style=\"stroke:#000000;stroke-width:0.8;\" x=\"44.883475\" xlink:href=\"#m4b1faf33e1\" y=\"102.373762\"/>\n      </g>\n     </g>\n     <g id=\"text_7\">\n      <!-- $\\mathdefault{10^{-1}}$ -->\n      <g transform=\"translate(7.2 108.254488)scale(0.17 -0.17)\">\n       <use transform=\"scale(0.996264)\" xlink:href=\"#CMR17-49\"/>\n       <use transform=\"translate(45.690477 0)scale(0.996264)\" xlink:href=\"#CMR17-48\"/>\n       <use transform=\"translate(91.380954 36.153639)scale(0.697382)\" xlink:href=\"#CMSY10-0\"/>\n       <use transform=\"translate(145.621947 36.153639)scale(0.697382)\" xlink:href=\"#CMR17-49\"/>\n      </g>\n     </g>\n    </g>\n    <g id=\"ytick_3\">\n     <g id=\"line2d_15\">\n      <defs>\n       <path d=\"M 0 0 \nL -2 0 \n\" id=\"md84f410f27\" style=\"stroke:#000000;stroke-width:0.6;\"/>\n      </defs>\n      <g>\n       <use style=\"stroke:#000000;stroke-width:0.6;\" x=\"44.883475\" xlink:href=\"#md84f410f27\" y=\"269.718082\"/>\n      </g>\n     </g>\n    </g>\n    <g id=\"ytick_4\">\n     <g id=\"line2d_16\">\n      <g>\n       <use style=\"stroke:#000000;stroke-width:0.6;\" x=\"44.883475\" xlink:href=\"#md84f410f27\" y=\"252.373531\"/>\n      </g>\n     </g>\n    </g>\n    <g id=\"ytick_5\">\n     <g id=\"line2d_17\">\n      <g>\n       <use style=\"stroke:#000000;stroke-width:0.6;\" x=\"44.883475\" xlink:href=\"#md84f410f27\" y=\"240.067376\"/>\n      </g>\n     </g>\n    </g>\n    <g id=\"ytick_6\">\n     <g id=\"line2d_18\">\n      <g>\n       <use style=\"stroke:#000000;stroke-width:0.6;\" x=\"44.883475\" xlink:href=\"#md84f410f27\" y=\"230.521981\"/>\n      </g>\n     </g>\n    </g>\n    <g id=\"ytick_7\">\n     <g id=\"line2d_19\">\n      <g>\n       <use style=\"stroke:#000000;stroke-width:0.6;\" x=\"44.883475\" xlink:href=\"#md84f410f27\" y=\"222.722825\"/>\n      </g>\n     </g>\n    </g>\n    <g id=\"ytick_8\">\n     <g id=\"line2d_20\">\n      <g>\n       <use style=\"stroke:#000000;stroke-width:0.6;\" x=\"44.883475\" xlink:href=\"#md84f410f27\" y=\"216.128733\"/>\n      </g>\n     </g>\n    </g>\n    <g id=\"ytick_9\">\n     <g id=\"line2d_21\">\n      <g>\n       <use style=\"stroke:#000000;stroke-width:0.6;\" x=\"44.883475\" xlink:href=\"#md84f410f27\" y=\"210.41667\"/>\n      </g>\n     </g>\n    </g>\n    <g id=\"ytick_10\">\n     <g id=\"line2d_22\">\n      <g>\n       <use style=\"stroke:#000000;stroke-width:0.6;\" x=\"44.883475\" xlink:href=\"#md84f410f27\" y=\"205.378274\"/>\n      </g>\n     </g>\n    </g>\n    <g id=\"ytick_11\">\n     <g id=\"line2d_23\">\n      <g>\n       <use style=\"stroke:#000000;stroke-width:0.6;\" x=\"44.883475\" xlink:href=\"#md84f410f27\" y=\"171.220569\"/>\n      </g>\n     </g>\n    </g>\n    <g id=\"ytick_12\">\n     <g id=\"line2d_24\">\n      <g>\n       <use style=\"stroke:#000000;stroke-width:0.6;\" x=\"44.883475\" xlink:href=\"#md84f410f27\" y=\"153.876018\"/>\n      </g>\n     </g>\n    </g>\n    <g id=\"ytick_13\">\n     <g id=\"line2d_25\">\n      <g>\n       <use style=\"stroke:#000000;stroke-width:0.6;\" x=\"44.883475\" xlink:href=\"#md84f410f27\" y=\"141.569863\"/>\n      </g>\n     </g>\n    </g>\n    <g id=\"ytick_14\">\n     <g id=\"line2d_26\">\n      <g>\n       <use style=\"stroke:#000000;stroke-width:0.6;\" x=\"44.883475\" xlink:href=\"#md84f410f27\" y=\"132.024468\"/>\n      </g>\n     </g>\n    </g>\n    <g id=\"ytick_15\">\n     <g id=\"line2d_27\">\n      <g>\n       <use style=\"stroke:#000000;stroke-width:0.6;\" x=\"44.883475\" xlink:href=\"#md84f410f27\" y=\"124.225312\"/>\n      </g>\n     </g>\n    </g>\n    <g id=\"ytick_16\">\n     <g id=\"line2d_28\">\n      <g>\n       <use style=\"stroke:#000000;stroke-width:0.6;\" x=\"44.883475\" xlink:href=\"#md84f410f27\" y=\"117.63122\"/>\n      </g>\n     </g>\n    </g>\n    <g id=\"ytick_17\">\n     <g id=\"line2d_29\">\n      <g>\n       <use style=\"stroke:#000000;stroke-width:0.6;\" x=\"44.883475\" xlink:href=\"#md84f410f27\" y=\"111.919157\"/>\n      </g>\n     </g>\n    </g>\n    <g id=\"ytick_18\">\n     <g id=\"line2d_30\">\n      <g>\n       <use style=\"stroke:#000000;stroke-width:0.6;\" x=\"44.883475\" xlink:href=\"#md84f410f27\" y=\"106.880761\"/>\n      </g>\n     </g>\n    </g>\n    <g id=\"ytick_19\">\n     <g id=\"line2d_31\">\n      <g>\n       <use style=\"stroke:#000000;stroke-width:0.6;\" x=\"44.883475\" xlink:href=\"#md84f410f27\" y=\"72.723056\"/>\n      </g>\n     </g>\n    </g>\n    <g id=\"ytick_20\">\n     <g id=\"line2d_32\">\n      <g>\n       <use style=\"stroke:#000000;stroke-width:0.6;\" x=\"44.883475\" xlink:href=\"#md84f410f27\" y=\"55.378505\"/>\n      </g>\n     </g>\n    </g>\n    <g id=\"ytick_21\">\n     <g id=\"line2d_33\">\n      <g>\n       <use style=\"stroke:#000000;stroke-width:0.6;\" x=\"44.883475\" xlink:href=\"#md84f410f27\" y=\"43.07235\"/>\n      </g>\n     </g>\n    </g>\n    <g id=\"ytick_22\">\n     <g id=\"line2d_34\">\n      <g>\n       <use style=\"stroke:#000000;stroke-width:0.6;\" x=\"44.883475\" xlink:href=\"#md84f410f27\" y=\"33.526955\"/>\n      </g>\n     </g>\n    </g>\n    <g id=\"ytick_23\">\n     <g id=\"line2d_35\">\n      <g>\n       <use style=\"stroke:#000000;stroke-width:0.6;\" x=\"44.883475\" xlink:href=\"#md84f410f27\" y=\"25.727799\"/>\n      </g>\n     </g>\n    </g>\n    <g id=\"ytick_24\">\n     <g id=\"line2d_36\">\n      <g>\n       <use style=\"stroke:#000000;stroke-width:0.6;\" x=\"44.883475\" xlink:href=\"#md84f410f27\" y=\"19.133707\"/>\n      </g>\n     </g>\n    </g>\n    <g id=\"ytick_25\">\n     <g id=\"line2d_37\">\n      <g>\n       <use style=\"stroke:#000000;stroke-width:0.6;\" x=\"44.883475\" xlink:href=\"#md84f410f27\" y=\"13.421645\"/>\n      </g>\n     </g>\n    </g>\n    <g id=\"ytick_26\">\n     <g id=\"line2d_38\">\n      <g>\n       <use style=\"stroke:#000000;stroke-width:0.6;\" x=\"44.883475\" xlink:href=\"#md84f410f27\" y=\"8.383248\"/>\n      </g>\n     </g>\n    </g>\n   </g>\n   <g id=\"line2d_39\">\n    <path clip-path=\"url(#p6e7073baeb)\" d=\"M 57.565293 19.554545 \nL 184.383475 100.119632 \nL 311.201657 266.645455 \n\" style=\"fill:none;stroke:#1f77b4;stroke-linecap:square;stroke-width:2;\"/>\n   </g>\n   <g id=\"patch_3\">\n    <path d=\"M 44.883475 279 \nL 44.883475 7.2 \n\" style=\"fill:none;stroke:#000000;stroke-linecap:square;stroke-linejoin:miter;stroke-width:0.8;\"/>\n   </g>\n   <g id=\"patch_4\">\n    <path d=\"M 323.883475 279 \nL 323.883475 7.2 \n\" style=\"fill:none;stroke:#000000;stroke-linecap:square;stroke-linejoin:miter;stroke-width:0.8;\"/>\n   </g>\n   <g id=\"patch_5\">\n    <path d=\"M 44.883475 279 \nL 323.883475 279 \n\" style=\"fill:none;stroke:#000000;stroke-linecap:square;stroke-linejoin:miter;stroke-width:0.8;\"/>\n   </g>\n   <g id=\"patch_6\">\n    <path d=\"M 44.883475 7.2 \nL 323.883475 7.2 \n\" style=\"fill:none;stroke:#000000;stroke-linecap:square;stroke-linejoin:miter;stroke-width:0.8;\"/>\n   </g>\n  </g>\n </g>\n <defs>\n  <clipPath id=\"p6e7073baeb\">\n   <rect height=\"271.8\" width=\"279\" x=\"44.883475\" y=\"7.2\"/>\n  </clipPath>\n </defs>\n</svg>\n",
      "image/png": "[encoded data removed]"
     },
     "metadata": {
      "needs_background": "light"
     }
    }
   ],
   "source": [
    "out = 2\n",
    "# no of momenta states outside cloud, on each side of FS\n",
    "\n",
    "ins = 1\n",
    "# no of momenta states inside cloud, on each side of FS\n",
    "\n",
    "a = 2*out + 1\n",
    "b = a + 2\n",
    "\n",
    "U =  [0, 0, 0, 0, 0, 0]\n",
    "J =  [41.65137072728905, 7.421985528256318, 3.0764876297977835, 1.7632993761561673, 1.1893810568831, 0.8818478505045518]\n",
    "K =  [0.11014854383139917, 0.10349303670420885, 0.09899373972501821, 0.09516847820969296, 0.09175302137185129, 0.08864547352971129]\n",
    "V =  [698.7912946938286, 56.013376355019446, 16.783149824539997, 7.729738695156247, 4.4289952117072, 2.887478398100373]\n",
    "\n",
    "count =  [1, 2, 3, 4, 5, 6]\n",
    "D =  [0.1, 0.2, 0.3, 0.4, 0.5, 0.6]\n",
    "\n",
    "w = -D[0]\n",
    "j = J[0] * count[0]\n",
    "k = K[0] * count[0]\n",
    "v = V[0] * sqrt(count[0])\n",
    "gamma = (3*j + k + 2*U[0])/(8*v)\n",
    "csm = sqrt(sqrt(gamma**2 + 4) + gamma)\n",
    "ccm = -sqrt(sqrt(gamma**2 + 4) - gamma)\n",
    "\n",
    "iom_above = tensor([basis(2,0)] * 2 * out)\n",
    "iom_below = tensor([basis(2,1)] * 2 * out)\n",
    "psi = tensor(iom_above, get_cloud(csm, ccm), iom_below).unit()\n",
    "\n",
    "I = [mut_inf(psi, a, b)]\n",
    "\n",
    "for i in range(out):\n",
    "    args = (U[i+1], J[i+1], K[i+1], V[i+1], D[i+1], w)\n",
    "    psi = rev_one_step(psi, out, ins, args).unit()\n",
    "    out -= 1\n",
    "    ins += 1\n",
    "    I.append(mut_inf(psi, a, b))\n",
    "\n",
    "print (I)\n",
    "plt.plot(I)\n",
    "plt.yscale(\"log\")\n",
    "plt.show()"
   ]
  }
 ],
 "metadata": {
  "kernelspec": {
   "display_name": "Python 3",
   "language": "python",
   "name": "python3"
  },
  "language_info": {
   "codemirror_mode": {
    "name": "ipython",
    "version": 3
   },
   "file_extension": ".py",
   "mimetype": "text/x-python",
   "name": "python",
   "nbconvert_exporter": "python",
   "pygments_lexer": "ipython3",
   "version": "3.9.4-final"
  }
 },
 "nbformat": 4,
 "nbformat_minor": 4
}