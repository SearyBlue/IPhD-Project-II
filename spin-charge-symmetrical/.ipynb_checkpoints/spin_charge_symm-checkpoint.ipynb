{
 "cells": [
  {
   "cell_type": "code",
   "execution_count": null,
   "id": "floating-capitol",
   "metadata": {},
   "outputs": [],
   "source": [
    "import itertools\n",
    "from tqdm import tqdm\n",
    "from time import sleep\n",
    "from math import sqrt\n",
    "from multiprocessing import Pool\n",
    "from itertools import product\n",
    "import matplotlib\n",
    "from matplotlib import pyplot as plt\n",
    "\n",
    "import numpy as np\n",
    "\n",
    "font = {'size'   : 35}\n",
    "\n",
    "matplotlib.rc('font', **font)\n",
    "matplotlib.rcParams['text.usetex'] = True\n",
    "plt.rcParams[\"figure.figsize\"]= 12, 8\n",
    "matplotlib.rcParams['lines.linewidth'] = 4\n",
    "props = dict(boxstyle='round', ec='black', fc='white', alpha=0.8)\n",
    "\n",
    "deltaD = 0.1"
   ]
  },
  {
   "cell_type": "markdown",
   "id": "continued-arrest",
   "metadata": {},
   "source": [
    "Defines and evaluates denominators in the RG equations. The denominators in the RG equations are\n",
    "$$\n",
    "d_0 = \\omega - \\frac{D}{2} - \\frac{U}{2} + \\frac{K}{4}, \\quad d_1 = \\omega - \\frac{D}{2} + \\frac{U}{2} + \\frac{J}{4}, \\quad d_2 = \\omega - \\frac{D}{2} + \\frac{J}{4}, \\quad d_3 = \\omega - \\frac{D}{2} + \\frac{K}{4}\n",
    "$$"
   ]
  },
  {
   "cell_type": "code",
   "execution_count": null,
   "id": "educational-movie",
   "metadata": {},
   "outputs": [],
   "source": [
    "def den(w, D, U, J, K):\n",
    "    d0 = w - D/2 - U/2 + K/4\n",
    "    d1 = w - D/2 + U/2 + J/4\n",
    "    d2 = w - D/2  + J/4\n",
    "    d3 = w - D/2  + K/4\n",
    "    return np.array([d0, d1, d2, d3])"
   ]
  },
  {
   "cell_type": "markdown",
   "id": "dense-plastic",
   "metadata": {},
   "source": [
    "# RG Equations\n",
    "\n",
    "The RG equations for the symmetric spin-charge Anderson-Kondo are \n",
    "$$\n",
    "\\Delta U = 4V^2 n_j\\left(\\frac{1}{d_0} - \\frac{1}{d_1}\\right) - \\frac{n_j}{2}\\left(\\frac{J^2}{d_2} - \\frac{K^2}{d_3}\\right),\\\\\n",
    "\\Delta V = -\\frac{3n_j V}{8}\\left[J\\left(\\frac{1}{d_2} + \\frac{1}{d_1}\\right) + K \\left(\\frac{1}{d_3} + \\frac{1}{d_0}\\right)\\right],\\\\\n",
    "\\Delta J = -\\frac{n_j J^2}{d_2}, \\quad\\quad\\Delta K = -\\frac{n_j K^2}{d_3}\n",
    "$$"
   ]
  },
  {
   "cell_type": "markdown",
   "id": "a804ecea-cd51-4687-95ae-2325460efb78",
   "metadata": {},
   "source": [
    "### $U>0,J>0,K<0$\n",
    "$K$ is irrelevant."
   ]
  },
  {
   "cell_type": "code",
   "execution_count": null,
   "id": "isolated-price",
   "metadata": {},
   "outputs": [],
   "source": [
    "def rg1(w, D, U, V, J):\n",
    "    K = 0\n",
    "    rho = 2/deltaD\n",
    "    nj = rho*deltaD\n",
    "    d0,d1,d2,d3 = den(w, D, U, J, K)\n",
    "    deltaU = 4*V**2*nj*(1/d1 - 1/d0) - nj*J**2/(2*d2) if d1 < 0 else 0\n",
    "    deltaV = -3*nj*V*J*(1/d1 + 1/d2)/8 if d1 < 0 else 0\n",
    "    deltaJ = -nj*J**2/d2\n",
    "\n",
    "    U = 0 if (U + deltaU) * U <= 0 else U + deltaU\n",
    "    V = 0 if (V + deltaV) * V <= 0 else V + deltaV\n",
    "    J = 0 if (J + deltaJ) * J <= 0 else J + deltaJ\n",
    "\n",
    "    return U, V, J, K"
   ]
  },
  {
   "cell_type": "markdown",
   "id": "damaged-reading",
   "metadata": {},
   "source": [
    "The following function does one complete RG for a given set of bare couplings and returns arrays of the flowing couplings."
   ]
  },
  {
   "cell_type": "code",
   "execution_count": null,
   "id": "brutal-greene",
   "metadata": {},
   "outputs": [],
   "source": [
    "def complete_RG(w, D0, U0, V0, J0):\n",
    "    U = [U0]\n",
    "    V = [V0]\n",
    "    J = [J0]\n",
    "    E = [D0]\n",
    "    for D in np.arange(D0, 0, -deltaD):\n",
    "        U_j, V_j, J_j, K_j = rg1(w, D, U[-1], V[-1], J[-1])\n",
    "        U.append(U_j)\n",
    "        V.append(V_j)\n",
    "        J.append(J_j)\n",
    "        E.append(D - deltaD)\n",
    "        d0,d1,d2,d3 = den(w, D-deltaD, U[-1], J[-1], 0)\n",
    "        if d2 >= 0:\n",
    "            break\n",
    "        \n",
    "    return np.array(E), np.array(U), np.array(V), np.array(J)\n"
   ]
  },
  {
   "cell_type": "code",
   "execution_count": null,
   "id": "4eebc024-2eca-4f32-8414-406669eea5e0",
   "metadata": {},
   "outputs": [],
   "source": [
    "D0 = 10\n",
    "w = -D0/2\n",
    "U0 = 1\n",
    "V0 = 0.1\n",
    "J0 = 0.05\n",
    "E, U, V, J = complete_RG(w, D0, U0, V0, J0)\n",
    "steps = E/D0\n",
    "fig, ax = plt.subplots(1, 3, figsize=(30,8))\n",
    "ax[0].plot(steps, U/D0)\n",
    "ax[0].set_xlabel(r\"\\% of RG completed\")\n",
    "ax[0].set_ylabel(r\"$U/D_0$\")\n",
    "ax[1].plot(steps, V/D0)\n",
    "ax[1].set_xlabel(r\"\\% of RG completed\")\n",
    "ax[1].set_ylabel(r\"$V/D_0$\")\n",
    "ax[1].set_yscale(\"log\")\n",
    "ax[2].plot(steps, J/D0)\n",
    "ax[2].set_xlabel(r\"\\% of RG completed\")\n",
    "ax[2].set_ylabel(r\"$J/D_0$\")\n",
    "ax[2].set_yscale(\"log\")\n",
    "txt = '\\n'.join([r\"$U_0/D_0 = {:.3f}$\".format(U0/D0), r\"$V_0/D_0 = {:.3f}$\".format(V0/D0), r\"$J_0/D_0 = {:.3f}$\".format(J0/D0)])\n",
    "ax[1].text(0.5, 0.8, txt, bbox=props, size=35, horizontalalignment='center', verticalalignment='center', transform=ax[1].transAxes)\n",
    "plt.tight_layout()\n",
    "plt.savefig(\"U_irr,U>0.pdf\", bbox_inches='tight')\n",
    "V0 = 0.05\n",
    "J0 = 0.1\n",
    "E, U, V, J = complete_RG(w, D0, U0, V0, J0)\n",
    "steps = E/D0\n",
    "fig, ax = plt.subplots(1, 3, figsize=(30,8))\n",
    "ax[0].plot(steps, U/D0)\n",
    "ax[0].set_xlabel(r\"\\% of RG completed\")\n",
    "ax[0].set_ylabel(r\"$U/D_0$\")\n",
    "ax[0].set_yscale(\"log\")\n",
    "ax[1].plot(steps, V/D0)\n",
    "ax[1].set_xlabel(r\"\\% of RG completed\")\n",
    "ax[1].set_ylabel(r\"$V/D_0$\")\n",
    "ax[1].set_yscale(\"log\")\n",
    "ax[2].plot(steps, J/D0)\n",
    "ax[2].set_xlabel(r\"\\% of RG completed\")\n",
    "ax[2].set_ylabel(r\"$J/D_0$\")\n",
    "ax[2].set_yscale(\"log\")\n",
    "txt = '\\n'.join([r\"$U_0/D_0 = {:.3f}$\".format(U0/D0), r\"$V_0/D_0 = {:.3f}$\".format(V0/D0), r\"$J_0/D_0 = {:.3f}$\".format(J0/D0)])\n",
    "ax[1].text(0.5, 0.8, txt, bbox=props, size=35, horizontalalignment='center', verticalalignment='center', transform=ax[1].transAxes)\n",
    "plt.tight_layout()\n",
    "plt.savefig(\"U_rel,U>0.pdf\", bbox_inches='tight')"
   ]
  },
  {
   "cell_type": "code",
   "execution_count": null,
   "id": "5552cb92-0b1a-410e-a8e4-ce16f5801360",
   "metadata": {},
   "outputs": [],
   "source": [
    "def get_rel_V(J0):\n",
    "    rel = []\n",
    "    irr = []\n",
    "    for V0 in 10**np.linspace(-3, 1, 100):\n",
    "        E, U, V, J = complete_RG(w, D0, U0, V0, J0)\n",
    "        if U[-1] > U0:\n",
    "            rel.append(V0/D0)\n",
    "        else:\n",
    "            if V0 == 1e-3:\n",
    "                print (\"Outlier:\", J0/D0)\n",
    "            irr.append(V0/D0)\n",
    "    return rel, irr\n",
    "\n",
    "D0 = 100\n",
    "w = -D0/2\n",
    "U0 = 0.5\n",
    "J0_range = 10**np.linspace(-3, 1, 100)\n",
    "results = list(tqdm(Pool().imap(get_rel_V, J0_range), total=len(J0_range)))\n",
    "for J0, (rel, irr) in zip(J0_range, results):\n",
    "    plt.plot([J0/D0]*len(rel), rel, color='r')\n",
    "    plt.plot([J0/D0]*len(irr), irr, color='b')\n",
    "plt.plot([],[],color='r', label=r\"$U$ relevant\")\n",
    "plt.plot([],[],color='b', label=r\"$U$ irrelevant\")\n",
    "plt.xscale(\"log\")\n",
    "plt.yscale(\"log\")\n",
    "plt.xlabel(r\"$J_0/D_0$\")\n",
    "plt.ylabel(r\"$V_0/D_0$\")\n",
    "plt.legend(loc=2)\n",
    "plt.text(0.75, 0.2, r\"$U_0/D_0 = {:.2f}$\".format(U0/D0), bbox=props, size=35, horizontalalignment='center', verticalalignment='center', transform=plt.gca().transAxes)\n",
    "plt.savefig(\"VvsJ_relvsirr.pdf\", bbox_inches='tight')\n",
    "plt.show()"
   ]
  },
  {
   "cell_type": "code",
   "execution_count": null,
   "id": "868c7255-dc1f-48af-b00d-4ac5410af932",
   "metadata": {},
   "outputs": [],
   "source": [
    "def get_rel_U(J0):\n",
    "    rel = []\n",
    "    irr = []\n",
    "    for U0 in 10**np.linspace(-4, 3, 300):\n",
    "        E, U, V, J = complete_RG(w, D0, U0, V0, J0)\n",
    "        if U[-1] > U0:\n",
    "            rel.append(U0/D0)\n",
    "        else:\n",
    "            if U0 == 1e-4:\n",
    "                print (\"Outlier:\", J0/D0)\n",
    "            irr.append(U0/D0)\n",
    "    return rel, irr\n",
    "\n",
    "D0 = 100\n",
    "w = -D0/2\n",
    "V0 = 0.1\n",
    "J0_range = 10**np.linspace(-3, 1, 100)\n",
    "results = list(tqdm(Pool(40).imap(get_rel_U, J0_range), total=len(J0_range)))\n",
    "for J0, (rel, irr) in zip(J0_range, results):\n",
    "    plt.plot([J0/D0]*len(rel), rel, color='r')\n",
    "    plt.plot([J0/D0]*len(irr), irr, color='b')\n",
    "plt.plot([],[],color='r', label=r\"$U$ relevant\")\n",
    "plt.plot([],[],color='b', label=r\"$U$ irrelevant\")\n",
    "plt.xscale(\"log\")\n",
    "plt.yscale(\"log\")\n",
    "plt.xlabel(r\"$J_0/D_0$\")\n",
    "plt.ylabel(r\"$U_0/D_0$\")\n",
    "plt.legend(loc=2)\n",
    "plt.text(0.75, 0.2, r\"$V_0/D_0 = {:.3f}$\".format(V0/D0), bbox=props, size=35, horizontalalignment='center', verticalalignment='center', transform=plt.gca().transAxes)\n",
    "plt.savefig(\"UvsJ_relvsirr.pdf\", bbox_inches='tight')\n",
    "plt.show()"
   ]
  },
  {
   "cell_type": "code",
   "execution_count": null,
   "id": "6b3c11fd-c0f3-4ce4-8f1a-44c264a1c09b",
   "metadata": {},
   "outputs": [],
   "source": [
    "def get_Uc(J0):\n",
    "    rel = []\n",
    "    irr = []\n",
    "    for U0 in 10**np.linspace(-6, 3, 200):\n",
    "        E, U, V, J = complete_RG(w, D0, U0, V0, J0)\n",
    "        if U[-1] > U0:\n",
    "            continue\n",
    "        else:\n",
    "            return U0/D0\n",
    "\n",
    "D0 = 100\n",
    "w = -D0\n",
    "V0 = 0.2\n",
    "J0_range = 10**np.linspace(-3.5, 1, 100)\n",
    "Uc = list(tqdm(Pool(40).imap(get_Uc, J0_range), total=len(J0_range)))\n",
    "plt.scatter(J0_range/D0, Uc, color='black', marker='.')\n",
    "plt.xscale(\"log\")\n",
    "plt.yscale(\"log\")\n",
    "plt.xlabel(r\"$J_0/D_0$\")\n",
    "plt.ylabel(r\"$U_c/D_0$\")\n",
    "plt.text(0.75, 0.2, r\"$V_0/D_0 = {:.3f}$\".format(V0/D0), bbox=props, size=35, horizontalalignment='center', verticalalignment='center', transform=plt.gca().transAxes)\n",
    "plt.savefig(\"UcvsJ.pdf\", bbox_inches='tight')\n",
    "plt.show()"
   ]
  },
  {
   "cell_type": "code",
   "execution_count": null,
   "id": "23b306c0-57a0-40ad-a955-e4b4534f938a",
   "metadata": {},
   "outputs": [],
   "source": [
    "def get_Vc(J0):\n",
    "    rel = []\n",
    "    irr = []\n",
    "    for V0 in 10**np.linspace(-3, 1, 100):\n",
    "        E, U, V, J = complete_RG(w, D0, U0, V0, J0)\n",
    "        if U[-1] > U0:\n",
    "            continue\n",
    "        else:\n",
    "            return V0/D0\n",
    "\n",
    "D0 = 100\n",
    "w = -D0\n",
    "U0 = 1\n",
    "J0_range = 10**np.linspace(-3, 1, 200)\n",
    "Vc = list(tqdm(Pool(40).imap(get_Vc, J0_range), total=len(J0_range)))\n",
    "plt.scatter(J0_range/D0, Vc, color='black', marker='.')\n",
    "plt.xscale(\"log\")\n",
    "plt.yscale(\"log\")\n",
    "plt.xlabel(r\"$J_0/D_0$\")\n",
    "plt.ylabel(r\"$V_c/D_0$\")\n",
    "plt.text(0.75, 0.2, r\"$U_0/D_0 = {:.2f}$\".format(U0/D0), bbox=props, size=35, horizontalalignment='center', verticalalignment='center', transform=plt.gca().transAxes)\n",
    "plt.savefig(\"VcvsJ.pdf\", bbox_inches='tight')\n",
    "plt.show()"
   ]
  },
  {
   "cell_type": "markdown",
   "id": "interpreted-thinking",
   "metadata": {},
   "source": [
    "# 1. $V=0$\n",
    "\n",
    "First we will look at the simplified case of $V=0$. Since the RG equation for $V$ involves $V$, it will not flow. We need to look only at $U$, $J$ and $K$. Depending on the value of $\\omega$, the denominator can be either positive or negative. We look at the two cases separately."
   ]
  },
  {
   "cell_type": "code",
   "execution_count": null,
   "id": "422604f7-09d0-43e2-920e-9d6eb2a1b013",
   "metadata": {},
   "outputs": [],
   "source": [
    "D0 = 20\n",
    "V0 = 0"
   ]
  },
  {
   "cell_type": "code",
   "execution_count": null,
   "id": "62a6d7e3-d9bf-4dee-9e4d-eacc6e38ca70",
   "metadata": {},
   "outputs": [],
   "source": [
    "def plot(x,y,ylabels,locn,bare,log=[]):\n",
    "    if log == []:\n",
    "        log = [0]*len(y)\n",
    "    for yi,yl,logi in zip(y, ylabels, log):\n",
    "        plt.plot(x,yi)\n",
    "        plt.ylabel(yl)\n",
    "        plt.xlabel(r'RG Step')\n",
    "        text = '\\n'.join([r\"$J_0={}, K_0={}, V_0 = {}$,\".format(*bare[:3]), r\"$U_0={}, D_0={}, \\omega={}\\times D$\".format(*bare[3:])])\n",
    "        plt.text(locn[0], locn[1], text, bbox=props, size=25, horizontalalignment='center', verticalalignment='center', transform=plt.gca().transAxes)\n",
    "        plt.tight_layout()\n",
    "        if logi == 1:\n",
    "            plt.yscale(\"log\")\n",
    "        plt.show()\n"
   ]
  },
  {
   "cell_type": "markdown",
   "id": "forbidden-capitol",
   "metadata": {},
   "source": [
    "## a. $\\omega - \\frac{\\epsilon_q}{2} + \\frac{1}{4}J + \\frac{1}{4}K>0$ (high $\\omega$):\n",
    "\n",
    "These aren't truly URG fixed points because the denominator will not converge towards zero."
   ]
  },
  {
   "cell_type": "markdown",
   "id": "reasonable-bouquet",
   "metadata": {},
   "source": [
    "### i. $J=K$\n",
    "\n",
    "Since $\\Delta U \\propto K^2 - J^2$, $U$ will be marginal here."
   ]
  },
  {
   "cell_type": "code",
   "execution_count": null,
   "id": "hybrid-parker",
   "metadata": {},
   "outputs": [],
   "source": [
    "U0 = 1\n",
    "J0 = K0 = 0.1\n",
    "E,U,V,J,K = complete_RG(lambda x: x, D0, U0, V0, J0, K0)\n",
    "steps = np.array(E)/D0\n",
    "plot(steps, (U, J), (r\"$U$\", r\"$J$\"), (0.4,0.8), (J0, K0, 0, U0, D0, 1))"
   ]
  },
  {
   "cell_type": "markdown",
   "id": "dependent-calcium",
   "metadata": {},
   "source": [
    "### ii. $J > K$\n",
    "\n",
    "$U$ will be irrelevant here."
   ]
  },
  {
   "cell_type": "code",
   "execution_count": null,
   "id": "modified-supervision",
   "metadata": {},
   "outputs": [],
   "source": [
    "U0 = 6\n",
    "J0 = 0.02\n",
    "K0 = 0.01\n",
    "E,U,V,J,K = complete_RG(lambda x: x, D0, U0, V0, J0, K0)\n",
    "steps = np.array(E)/D0\n",
    "plot(steps, (U, J, K), (r\"$U$\", r\"$J$\", r\"$K$\"), (0.4,0.8), (J0, K0, 0, U0, D0, 1))"
   ]
  },
  {
   "cell_type": "markdown",
   "id": "unsigned-campbell",
   "metadata": {},
   "source": [
    "### iii. $J < K$\n",
    "\n",
    "$U$ will be relevant here."
   ]
  },
  {
   "cell_type": "code",
   "execution_count": null,
   "id": "precious-proceeding",
   "metadata": {},
   "outputs": [],
   "source": [
    "U0 = 0.1\n",
    "J0 = 0.02\n",
    "K0 = 0.03\n",
    "\n",
    "E,U,V,J,K = complete_RG(lambda x:x, D0, U0, V0, J0, K0)\n",
    "steps = np.array(E)/D0\n",
    "plot(steps, (U, J), (r\"$U$\", r\"$J$\"), (0.3,0.5), (J0, K0, 0, U0, D0, 1), log=[1,1])"
   ]
  },
  {
   "cell_type": "markdown",
   "id": "green-karen",
   "metadata": {},
   "source": [
    "## b. $\\omega - \\frac{\\epsilon_q}{2} + \\frac{1}{4}J + \\frac{1}{4}K<0$ (low $\\omega$):\n",
    "\n",
    "This is the regime where we achieve true strong-coupling fixed points in $J,K$. The signature of $K^2 - J^2$ will determine whether $U$ is relevant or irrelevant."
   ]
  },
  {
   "cell_type": "markdown",
   "id": "standard-serbia",
   "metadata": {},
   "source": [
    "### i. $J>K$"
   ]
  },
  {
   "cell_type": "code",
   "execution_count": null,
   "id": "dressed-consortium",
   "metadata": {},
   "outputs": [],
   "source": [
    "U0 = 0.01\n",
    "J0 = 0.05\n",
    "K0 = 0.04\n",
    "\n",
    "E,U,V,J,K = complete_RG(lambda x:-x, D0, U0, V0, J0, K0)\n",
    "steps = np.array(E)/D0\n",
    "\n",
    "plot(steps, (U, J, K), (r\"$U$\", r\"$J$\", r\"$K$\"), (0.6,0.8), (J0, K0, 0, U0, D0, -0.5), log=[1,1,1])"
   ]
  },
  {
   "cell_type": "markdown",
   "id": "australian-arthritis",
   "metadata": {},
   "source": [
    "### i. $J<K$"
   ]
  },
  {
   "cell_type": "code",
   "execution_count": null,
   "id": "ordinary-delhi",
   "metadata": {},
   "outputs": [],
   "source": [
    "U0 = 20\n",
    "J0 = 0.01\n",
    "K0 = 0.1\n",
    "\n",
    "E,U,V,J,K = complete_RG(lambda x: -x, D0, U0, V0, J0, K0)\n",
    "steps = np.array(E)/D0\n",
    "\n",
    "plot(steps, (U, J, K), (r\"$U$\", r\"$J$\", r\"$K$\"), (0.7,0.5), (J0, K0, 0, U0, D0, -1), log=[0,1,1])"
   ]
  },
  {
   "cell_type": "markdown",
   "id": "neural-parker",
   "metadata": {},
   "source": [
    "To wrap up the $V=0$ case, we look at an RG-invariant:\n",
    "\n",
    "$\\frac{\\Delta J}{\\Delta K} = \\frac{J^2}{K^2} \\implies \\frac{1}{J} - \\frac{1}{K} = \\frac{1}{J_0} - \\frac{1}{K_0}$\n",
    "\n",
    "Note that this is an invariant even when $V$ is turned on."
   ]
  },
  {
   "cell_type": "code",
   "execution_count": null,
   "id": "downtown-lingerie",
   "metadata": {},
   "outputs": [],
   "source": [
    "w = lambda x:0\n",
    "U0 = 1\n",
    "J0 = 0.01\n",
    "K0 = 0.02\n",
    "E,U,V,J,K = complete_RG(w, D0, U0, V0, J0, K0)\n",
    "plt.xlabel(r\"$K$\")\n",
    "plt.ylabel(r\"$J$\")\n",
    "plt.plot(K, J, label=r'$J<K$')\n",
    "J0 = 0.02\n",
    "K0 = 0.01\n",
    "E,U,V,J,K = complete_RG(w, D0, U0, V0, J0, K0)\n",
    "plt.plot(K, J, label=r'$J>K$')\n",
    "J0 = 0.01\n",
    "K0 = 0.01\n",
    "E,U,V,J,K = complete_RG(w, D0, U0, V0, J0, K0)\n",
    "plt.plot(K, J, label=r'$J=K$')\n",
    "plt.xscale(\"log\")\n",
    "plt.yscale(\"log\")\n",
    "plt.legend()\n",
    "plt.title(r\"$\\omega = {}, U_0 = {}, D_0={}$\".format(0, U0, D0))\n",
    "plt.show()"
   ]
  },
  {
   "cell_type": "markdown",
   "id": "literary-murder",
   "metadata": {},
   "source": [
    "# 2. $V > 0$\n",
    "\n",
    "$$\n",
    "\t\\Delta U = 4|V|^2 \\left[\\frac{1}{\\omega - \\frac{\\epsilon_q}{2} + \\frac{U}{2} + \\frac{1}{2}J}  - \\frac{1}{\\omega - \\frac{\\epsilon_q}{2} - \\frac{U}{2} + \\frac{1}{2}K}\\right] + \\sum_{k<\\Lambda_j} \\frac{3}{4}\\frac{K^2 - J^2}{\\omega - \\frac{\\epsilon_q}{2} + \\frac{1}{4}J + \\frac{1}{4}K}\n",
    "$$\n",
    "$$\n",
    "\t\\Delta V = \\frac{V K}{16}\\left(\\frac{1}{\\omega - \\frac{\\epsilon_q}{2} - \\frac{U}{2} + \\frac{1}{2}K} + \\frac{1}{\\omega - \\frac{\\epsilon_q}{2} + \\frac{1}{4}J + \\frac{1}{4}K} \\right) - \\frac{3VJ}{4}\\left( \\frac{1}{\\omega - \\frac{\\epsilon_q}{2} + \\frac{U}{2} + \\frac{1}{2}J} + \\frac{1}{\\omega - \\frac{\\epsilon_q}{2} + \\frac{1}{4}J + \\frac{1}{4}K} \\right)\n",
    "$$\n",
    "$$\n",
    "\t\\Delta J = - \\frac{J^2}{\\omega - \\frac{\\epsilon_q}{2} + \\frac{1}{4}J + \\frac{1}{4}K}\n",
    "$$\n",
    "$$\n",
    "\t\\Delta K = - \\frac{K^2}{\\omega - \\frac{\\epsilon_q}{2} + \\frac{1}{4}J + \\frac{1}{4}K}\n",
    "$$"
   ]
  },
  {
   "cell_type": "markdown",
   "id": "55f39b7f-9557-4f30-90f8-9c4225f773ce",
   "metadata": {},
   "source": [
    "## $U>0, 0 < J = -K$"
   ]
  },
  {
   "cell_type": "code",
   "execution_count": null,
   "id": "c73f2d97-e08b-4263-9754-87a0eac6dbb8",
   "metadata": {},
   "outputs": [],
   "source": [
    "D0 = 50\n",
    "V0 = D0/10\n",
    "J0 = V0\n",
    "K0 = -J0/1.2"
   ]
  },
  {
   "cell_type": "markdown",
   "id": "058f3193-1c49-43fd-9b59-f9a7f8dd5b6c",
   "metadata": {},
   "source": [
    "### $\\omega < \\frac{D_0}{2} - U$"
   ]
  },
  {
   "cell_type": "code",
   "execution_count": null,
   "id": "0b34ba23-f8d4-4b65-af2c-49f47e945e5d",
   "metadata": {},
   "outputs": [],
   "source": [
    "w0 = -D0/2 - abs(J0)/4 - abs(K0)/4 - abs(U0)/2"
   ]
  },
  {
   "cell_type": "code",
   "execution_count": null,
   "id": "fee5c251-3695-4c1a-94f1-41f6ca8d0917",
   "metadata": {},
   "outputs": [],
   "source": [
    "def get_bounds(U0):\n",
    "    w0 = -D0/2 - abs(J0)/4 - abs(K0)/4 - abs(U0)/2\n",
    "    lower = []\n",
    "    upper = []\n",
    "    for wi in w0*10**np.linspace(3, -3, 50):\n",
    "        w = lambda x: wi\n",
    "        E,U,V,J,K = complete_RG(w, D0, U0, V0, J0, K0)\n",
    "        if U[-1] >= U0:\n",
    "            lower.append((wi, 1))\n",
    "        else:\n",
    "            # print (0)\n",
    "            lower.append((wi, 0))\n",
    "    return lower\n",
    "    # for wi in np.linspace(w0, w0*1e5, 10000):\n",
    "    #     w = lambda x: wi\n",
    "    #     E,U,V,J,K = complete_RG(w, D0, U0, V0, J0, K0)\n",
    "    #     if U[-1] >= U0:\n",
    "    #         upper = w(0)\n",
    "    #         break\n",
    "    # return (lower, upper)\n",
    "\n",
    "U0_range = D0*10**np.linspace(-3, 3, 30)\n",
    "up = []\n",
    "lw = []\n",
    "# for bound in list(tqdm(Pool().imap(get_bounds, U0_range), total=len(U0_range))):\n",
    "#     up.append(bound[1])\n",
    "#     lw.append(bound[0])\n",
    "\n",
    "plt.figure(figsize=(30,20))\n",
    "\n",
    "spectrum = list(tqdm(Pool().imap(get_bounds, U0_range), total=len(U0_range)))\n",
    "for U0, state in zip(U0_range, spectrum):\n",
    "    rel = []\n",
    "    irr = []\n",
    "    for wi, sign in state:\n",
    "        # print (wi)\n",
    "        if sign == 0:\n",
    "            irr.append(wi)\n",
    "            # print (irr[-1])\n",
    "        else:\n",
    "            rel.append(wi)\n",
    "    plt.scatter([U0/D0]*len(irr), -np.array(irr), color='b')\n",
    "    plt.scatter([U0/D0]*len(rel), -np.array(rel), color='r')  \n",
    "        \n",
    "# up = np.array(up)\n",
    "# lw = np.array(lw)\n",
    "\n",
    "# plt.plot(U0_range/D0, -up/D0, color='r', label=r'$-\\omega_{c,+}/D_0$')\n",
    "# plt.plot(U0_range/D0, -lw/D0, color='b', label=r'$-\\omega_{c,-}/D_0$')\n",
    "# plt.xlabel(r\"$U_0/D_0$\")\n",
    "# plt.ylabel(r\"$-\\omega_c/D_0$\")\n",
    "plt.xscale(\"log\")\n",
    "plt.yscale(\"log\")\n",
    "# plt.legend()\n",
    "# plt.text(0.22, 0.5,'\\n'.join([r\"$V_0/D_0={:.2f}$\".format(V0/D0), r\"$J_0/D_0={:.2f}$\".format(J0/D0), r\"$K_0/D_0={:.3f}$\".format(K0/D0)]), bbox=props, horizontalalignment='center', verticalalignment='center', transform=plt.gca().transAxes)\n",
    "plt.show()"
   ]
  },
  {
   "cell_type": "code",
   "execution_count": null,
   "id": "abd2ca90-c574-456d-8a62-6f40f6ffee23",
   "metadata": {},
   "outputs": [],
   "source": [
    "D0 = 10\n",
    "V0 = D0/40\n",
    "J0 = V0\n",
    "K0 = -J0/2\n",
    "U0 = 10\n",
    "w0 = -D0/2 - abs(J0)/4 - abs(K0)/4 - abs(U0)/2\n",
    "lw, up = get_bounds(U0)\n",
    "print (lw, up, (lw + up)/2)\n",
    "for wi in (lw/3, -50, up):\n",
    "    fig, ax = plt.subplots(1,3, figsize=(30,6))\n",
    "    w = lambda x: wi\n",
    "    E,U,V,J,K = complete_RG(w, D0, U0, V0, J0, K0)\n",
    "    steps = np.array(E)/D0\n",
    "    ax[0].plot(steps, U)\n",
    "    ax[0].set_ylabel(r\"$U$\")\n",
    "    ax[1].plot(steps, V)\n",
    "    ax[1].set_ylabel(r\"$V$\")\n",
    "    ax[2].plot(steps, J)\n",
    "    ax[2].set_ylabel(r\"$J$\")\n",
    "    plt.show()"
   ]
  },
  {
   "cell_type": "code",
   "execution_count": null,
   "id": "916e3b75-c61d-4fd5-934d-d65d078b8dba",
   "metadata": {},
   "outputs": [],
   "source": [
    "D0 = 20\n",
    "V0 = 0.1\n",
    "J0 = 0.01\n",
    "K0 = -J0\n",
    "w = lambda x: -x/2\n",
    "\n",
    "for U0 in [1, 0.5, 0.05, 0]:\n",
    "    E,U,V,J,K = complete_RG(w, D0, U0, V0, J0, K0)\n",
    "    J = np.array(J)\n",
    "    U = np.array(U)\n",
    "\n",
    "    if U0 != 0:\n",
    "        plt.plot(J[np.where(U > 0)], U[np.where(U > 0)], label=r\"$U_0 = {}$\".format(U0))\n",
    "        rang = len(J[np.where(U > 0)])\n",
    "    else:\n",
    "        plt.plot(J[:rang], U[:rang], label=r\"$U_0 = {}$\".format(U0))\n",
    "    plt.ylabel(r\"$U$\")\n",
    "    plt.xlabel(r\"$J$\")\n",
    "plt.legend()\n",
    "plt.title(r\"$V_0 = {}, J_0 = {}, K_0 = {}, D_0 = {}, \\omega = {}$\".format(V0, J0, K0, D0, 0))\n",
    "plt.show()"
   ]
  },
  {
   "cell_type": "code",
   "execution_count": null,
   "id": "87a555ed",
   "metadata": {},
   "outputs": [],
   "source": [
    "D0 = 20\n",
    "V0 = 0.1\n",
    "J0 = 0.02\n",
    "K0 = 0\n",
    "w = lambda x: -x/2\n",
    "U0 = 0.5\n",
    "\n",
    "E,U,V,J,K = complete_RG(w, D0, U0, V0, J0, K0)\n",
    "steps = np.array(E)/D0\n",
    "U = np.array(U)\n",
    "V = np.array(V)\n",
    "J = np.array(J)\n",
    "\n",
    "plt.plot(J[U>0], U[U>0])\n",
    "plt.xlabel(r\"$J$\")\n",
    "plt.ylabel(r\"$U$\")\n",
    "plt.show()\n",
    "plt.plot(V[U>0], U[U>0])\n",
    "plt.ylabel(r\"$U$\")\n",
    "plt.xlabel(r\"$V$\")\n",
    "# plt.suptitle(r\"$U_0 = {}, V_0 = {}, J_0 = {}, K_0 = {}, D_0 = {}, \\omega = {}\\times D$\".format(U0, V0, J0, K0, D0, -0.5), y=0.95)\n",
    "# plt.show()"
   ]
  },
  {
   "cell_type": "code",
   "execution_count": null,
   "id": "b756166d",
   "metadata": {},
   "outputs": [],
   "source": [
    "def plot(x, y, xlabel, ylabel, ax):\n",
    "    ax.plot(x,y)\n",
    "    ax.set_xlabel(xlabel)\n",
    "    ax.set_ylabel(ylabel)\n",
    "    # ax.set_yscale(\"log\")\n",
    "    \n",
    "\n",
    "D0 = 10\n",
    "U0 = -2 * D0\n",
    "V0 = 1\n",
    "K0 = abs(V0**2/U0)\n",
    "J0 = -K0\n",
    "w = lambda x:-x\n",
    "\n",
    "E,U,V,J,K = complete_RG(w, D0, U0, V0, J0, K0)\n",
    "steps = np.array(E)/D0\n",
    "plt.plot(steps, U)\n",
    "plt.show()\n",
    "plt.plot(steps, K)\n",
    "plt.show()\n",
    "plt.plot(steps, V)\n",
    "# plot(steps, np.array(U), r\"RG steps\", r\"$-|U|$\", ax[0])\n",
    "# plot(steps, K, r\"RG steps\", r\"$K$\", ax[1])\n",
    "\n",
    "# plt.suptitle(r\"$U_0 = {}, V_0 = {}, J_0 = {}, K_0 = {}, D_0 = {}, \\omega = {}\\times D$\".format(U0, V0, J0, K0, D0, -0.5), y=0.9)\n",
    "# fig.tight_layout()\n",
    "# plt.show()"
   ]
  },
  {
   "cell_type": "markdown",
   "id": "weekly-elder",
   "metadata": {},
   "source": [
    "## Scaling of $J^*$ and $V^*$ with system size"
   ]
  },
  {
   "cell_type": "code",
   "execution_count": null,
   "id": "forward-package",
   "metadata": {},
   "outputs": [],
   "source": [
    "def plot_vs_D(w, U0, V0, J0, K0, D0_range):\n",
    "    couplings = [[], [], []]\n",
    "    x = []\n",
    "    for D0 in tqdm(D0_range):\n",
    "        E,U,V,J,K = complete_RG(w, D0, U0, V0, J0, K0)\n",
    "        if V[-1] == 0:\n",
    "            continue\n",
    "    \n",
    "        couplings[0].append(V[-1])\n",
    "        couplings[1].append(J[-1])\n",
    "        couplings[2].append(K[-1])\n",
    "        x.append(D0)\n",
    "    \n",
    "    for coupling, ylabel in zip(couplings, [r\"$V^*$\", r\"$J^*$\", r\"$K^*$\"]):\n",
    "        plt.scatter(x, couplings[0], color=\"r\")\n",
    "        plt.xscale(\"log\")\n",
    "        plt.yscale(\"log\")\n",
    "        plt.ylabel(ylabel)\n",
    "        plt.xlabel(r\"$D_0$\")\n",
    "        plt.show()\n",
    "    \n",
    "V0 = 0.1\n",
    "K0 = 0.01\n",
    "U0 = 10\n",
    "J0 = 0.2\n",
    "w = 0\n",
    "D0_range = 10**np.linspace(0, 7, 6)\n",
    "plot_vs_D(w, U0, V0, J0, K0, D0_range)"
   ]
  },
  {
   "cell_type": "markdown",
   "id": "atlantic-jewelry",
   "metadata": {},
   "source": [
    "### First Quadrant"
   ]
  },
  {
   "cell_type": "markdown",
   "id": "distributed-interval",
   "metadata": {},
   "source": [
    "## Scaling of $\\frac{j}{v}$ with system size"
   ]
  },
  {
   "cell_type": "code",
   "execution_count": null,
   "id": "romantic-legend",
   "metadata": {},
   "outputs": [],
   "source": [
    "def plot_ratio(args):\n",
    "    U0, V0 = args\n",
    "    for D0 in tqdm(D0_range):\n",
    "        w = 0\n",
    "        E,U,V,J,K = complete_RG(w, D0, U0, V0, J0, K0)\n",
    "        if V[-1] == 0:\n",
    "            continue\n",
    "        count = E[-1]*2/deltaD\n",
    "        gamma = (((3*J[-1] + K[-1])*sqrt(count) + 2*U[-1])/V[-1])\n",
    "        plt.scatter(D0, gamma, color='r')\n",
    "\n",
    "\n",
    "    plt.xscale(\"log\")\n",
    "    plt.yscale(\"log\")\n",
    "    plt.title(r\"$U_0={}, V_0={}$\".format(U0,V0))\n",
    "    plt.show()"
   ]
  },
  {
   "cell_type": "code",
   "execution_count": null,
   "id": "b613dcd7-66cb-4c83-a4b6-a361e0ce489d",
   "metadata": {},
   "outputs": [],
   "source": [
    "D0_range = 10**np.linspace(0, 5, 9)\n",
    "J0 = 0.01\n",
    "K0 = 0.2\n",
    "U0 = 10\n",
    "V0 = 0.01\n",
    "plot_ratio((U0, V0))"
   ]
  },
  {
   "cell_type": "code",
   "execution_count": null,
   "id": "acf4bb9e-2a94-4be5-b4d9-59b28b2d71aa",
   "metadata": {},
   "outputs": [],
   "source": [
    "D0_range = 10**np.linspace(0, 5, 10)\n",
    "J0 = 0.2\n",
    "K0 = 0.01\n",
    "U0 = 10\n",
    "V0 = 0.01\n",
    "plot_ratio((U0, V0))\n",
    "V0 = 1\n",
    "plot_ratio((U0, V0))"
   ]
  },
  {
   "cell_type": "markdown",
   "id": "190966dd",
   "metadata": {},
   "source": [
    "## Ground state\n",
    "\n",
    "$$\n",
    "\\Delta E = \tE_-^2 - E_c^2 = \\frac{1}{2}\\epsilon_d - \\frac{3j + k}{8} + k - \\sqrt{4v^2 + \\left(\\frac{3j+k}{8} -\\frac{1}{2} \\epsilon_d\\right) ^2}\n",
    "$$"
   ]
  },
  {
   "cell_type": "code",
   "execution_count": null,
   "id": "8bf69afb",
   "metadata": {},
   "outputs": [],
   "source": [
    "D0 = 20\n",
    "J0 = 1\n",
    "V0 = 0.7\n",
    "w = 0\n",
    "signs = []\n",
    "K0_range = np.linspace(2,0,20,endpoint=True)\n",
    "for K0 in K0_range:\n",
    "    U0 = 0.4 * np.sign(J0 - K0)\n",
    "    E,U,V,J,K = complete_RG(w, D0, U0, V0, J0, K0)\n",
    "    count = E[-1]/deltaD\n",
    "    j = J[-1] * count\n",
    "    k = K[-1] * count\n",
    "    v = V[-1] * sqrt(count)\n",
    "    U = U[-1]\n",
    "    delta = -U/4 - 3*j/8 + 7*j/8 - sqrt(4*v**2 + ((3*j+k)/8 + U/4)**2)\n",
    "    signs.append(np.sign(delta))\n",
    "\n",
    "signs = np.array(signs)\n",
    "plt.title(r\"$U_0 = \\pm 0.4, V_0=0.7, J_0=1$\")\n",
    "plt.plot((K0_range - J0)[signs > 0], signs[signs > 0])\n",
    "plt.plot((K0_range - J0)[signs < 0], signs[signs < 0])\n",
    "plt.xlabel(r\"$K_0 - J_0$\")\n",
    "plt.ylabel(r\"sign ($\\Delta E_g$)\")\n",
    "plt.show()"
   ]
  },
  {
   "cell_type": "code",
   "execution_count": null,
   "id": "b0e9d67f-4339-41f3-ba4c-43e00d01f445",
   "metadata": {},
   "outputs": [],
   "source": []
  }
 ],
 "metadata": {
  "kernelspec": {
   "display_name": "Python 3 (ipykernel)",
   "language": "python",
   "name": "python3"
  },
  "language_info": {
   "codemirror_mode": {
    "name": "ipython",
    "version": 3
   },
   "file_extension": ".py",
   "mimetype": "text/x-python",
   "name": "python",
   "nbconvert_exporter": "python",
   "pygments_lexer": "ipython3",
   "version": "3.9.7"
  }
 },
 "nbformat": 4,
 "nbformat_minor": 5
}
