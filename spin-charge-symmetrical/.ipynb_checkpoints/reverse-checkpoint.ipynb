{
 "cells": [
  {
   "cell_type": "markdown",
   "metadata": {},
   "source": [
    "### IR Wavefunction\n",
    "\n",
    "$$\n",
    "\\newcommand{\\ket}[1]{\\vert{#1}\\rangle}\\\\\n",
    "\\newcommand{\\bra}[1]{\\langle{#1}\\vert}\\\\\n",
    "\\ket{\\text{IR}} = \\ket{\\hat n_{k_{-2}} = \\hat n_{k_{-3}} = 2} \\otimes \\frac{1}{2}\\bigg[ \\ket{\\uparrow^d}\\frac{1}{\\sqrt 2}\\left(\\ket{k_1 \\downarrow} + \\ket{k_{-1} \\downarrow}\\right) - \\ket{\\downarrow^d}\\frac{1}{\\sqrt 2}\\left(\\ket{k_1 \\uparrow} + \\ket{k_{-1} \\uparrow}\\right) + \\ket{2^d}\\ket{0} - \\ket{0^d}\\ket{k_1 \\uparrow, k_1 \\downarrow,k_{-1} \\uparrow,k_{-1} \\downarrow}\\bigg] \\otimes  \\ket{\\hat n_{k_{2}} = \\hat n_{k_{3} } = 0} = \\ket{1111}\\ket{0000}\\\\\n",
    "=\\frac{1}{2}\\ket{0000} \\otimes \\left[\\ket{10}\\ket{0101} - \\ket{01}\\ket{1010} + \\ket{11}\\ket{0000} - \\ket{00}\\ket{1111}\\right] \\otimes \\ket{1111}\\\\\n",
    "U^\\dagger_{k_+, k_-} = \\frac{1}{2}\\left[1 + \\eta_{k_- \\uparrow} + \\eta^\\dagger_{k_+ \\uparrow} + \\eta_{k_- \\downarrow} + \\eta^\\dagger_{k_+ \\downarrow}\\right] \\\\\n",
    " \\\\\n",
    "\\eta_{k_+\\beta}^\\dagger = V \\left[\\lambda_2 \\hat n_{d\\overline\\beta} + \\lambda_1 \\left( 1 - \\hat n_{d \\overline \\beta} \\right)  \\right]c^\\dagger_{q\\beta}c_{d\\beta} + \\lambda_3 \\sum_{k} \\left\\{ \\frac{J}{2}\\left( S_d^z \\beta c^\\dagger_{q\\beta}c_{k\\beta} + c^\\dagger_{d \\overline \\beta}c_{d\\beta}c^\\dagger_{q\\beta}c_{k \\overline \\beta}\\right) + \\frac{K}{2}\\left( C^z_d c^\\dagger_{q\\beta}c_{k\\beta} + c^\\dagger_{q\\beta}c^\\dagger_{k \\overline \\beta}c_{d \\overline \\beta}c_{d\\beta} \\right) \\right\\}\\\\\n",
    "\\eta_{k_-\\beta} = V^* \\left[\\lambda_1 \\hat n_{d \\overline \\beta} + \\lambda_2 \\left( 1 - \\hat n_{d \\overline \\beta} \\right)  \\right]c^\\dagger_{d\\beta}c_{q\\beta} + \\lambda_3 \\sum_{k} \\left\\{ \\frac{J}{2}\\left( S_d^z \\beta c^\\dagger_{k\\beta}c_{q\\beta} + c^\\dagger_{d\\beta}c_{d \\overline \\beta}c^\\dagger_{k \\overline \\beta}c_{q\\beta}\\right)+ \\frac{K}{2}\\left( C^z_d c^\\dagger_{k\\beta}c_{q\\beta} + c^\\dagger_{d\\beta}c^\\dagger_{d \\overline \\beta}c_{k \\overline \\beta}c_{q\\beta} \\right) \\right\\} \\\\\n",
    "\\lambda_1 = \\frac{1}{\\omega - \\frac{1}{2}D + \\epsilon_d + \\frac{1}{2}K}, \\lambda_2 = \\frac{1}{\\omega - \\frac{1}{2}D - \\epsilon_d + \\frac{1}{2}J}, \\lambda_3 = \\frac{1}{\\omega - \\frac{1}{2}D + \\frac{1}{4}\\left(J + K\\right)} \n",
    "$$"
   ]
  },
  {
   "cell_type": "code",
   "execution_count": 1,
   "metadata": {},
   "outputs": [],
   "source": [
    "from qutip import *\n",
    "from math import *\n",
    "import itertools\n",
    "from itertools import product\n",
    "import matplotlib\n",
    "from matplotlib import pyplot as plt\n",
    "\n",
    "import numpy as np\n",
    "\n",
    "font = {'size'   : 17}\n",
    "\n",
    "matplotlib.rc('font', **font)\n",
    "matplotlib.rcParams['text.usetex'] = True\n",
    "plt.rcParams[\"figure.figsize\"]= 5, 5\n",
    "#plt.rcParams['figure.dpi'] = 90\n",
    "matplotlib.rcParams['lines.linewidth'] = 2\n",
    "plt.rcParams['axes.grid'] = True\n",
    "\n",
    "idt = identity(2)\n",
    "n = create(2) * destroy(2)\n",
    "\n",
    "Cdz = 0.5 * (tensor(n, idt) +  tensor(idt, n) - 1)\n",
    "# isospin z component\n",
    "\n",
    " "
   ]
  },
  {
   "cell_type": "markdown",
   "metadata": {},
   "source": [
    "### Writing the impurity+cloud wavefunction"
   ]
  },
  {
   "cell_type": "code",
   "execution_count": 2,
   "metadata": {},
   "outputs": [],
   "source": [
    "def get_cloud(csm, ccm):\n",
    "    up = [1, 0, 0, 1, 0, 1]\n",
    "    down = [0, 1, 1, 0, 1, 0]\n",
    "    two = [1, 1, 0, 0, 0, 0]\n",
    "    zero = [0, 0, 1, 1, 1, 1]\n",
    "    cloudup = csm * tensor([basis(2,i) for i in up])\n",
    "    clouddown = csm * tensor([basis(2,i) for i in down])\n",
    "    cloudtwo = ccm * tensor([basis(2,i) for i in two])\n",
    "    cloudzero = ccm * tensor([basis(2,i) for i in zero])\n",
    "    psi_cloud = tensor(cloudup - clouddown + cloudtwo - cloudzero)\n",
    "    return psi_cloud    "
   ]
  },
  {
   "cell_type": "markdown",
   "metadata": {},
   "source": [
    "## Creating the unitary\n",
    "\n",
    "$ \\eta^{\\dagger/-} = \\eta_1^{\\dagger/-} + \\eta_2^{\\dagger/-} + \\eta_3^{\\dagger/-}$"
   ]
  },
  {
   "cell_type": "markdown",
   "metadata": {},
   "source": [
    "### Create $c^\\dagger_{q\\beta}\\otimes I_{\\overline\\beta}$ or $c_{q\\beta}\\otimes I_{\\overline\\beta}$"
   ]
  },
  {
   "cell_type": "code",
   "execution_count": 3,
   "metadata": {},
   "outputs": [],
   "source": [
    "def cq(beta, conj):\n",
    "    cq_ = create(2) if conj == 1 else destroy(2)\n",
    "    # use c^dagger_q is conj == 1 else c_q\n",
    "\n",
    "    return tensor(cq_, idt) if beta == 1 else tensor(idt, cq_)\n",
    "    # place cq first if beta == up else place idt first"
   ]
  },
  {
   "cell_type": "markdown",
   "metadata": {},
   "source": [
    "### Creating $\\sum_k c_{k\\beta}$"
   ]
  },
  {
   "cell_type": "code",
   "execution_count": 4,
   "metadata": {},
   "outputs": [],
   "source": [
    "def sum_k_ck(beta, conj):\n",
    "    # returns \\sum_{k}c_{k\\beta}, the conjugate is obtained by applying .dag() on this return value\n",
    "\n",
    "    ck = create(2) if conj == 1 else destroy(2)\n",
    "    # variable conj is supposed to tell me whether i require \\sum_k c^\\dagger_k or \\sum_k c_k\n",
    "\n",
    "    sum=0\n",
    "    num = 2 * ins\n",
    "    for i in range(num):\n",
    "        # outer loop shifts the position of k over all cloud momenta\n",
    "\n",
    "        cur = 0\n",
    "        for j in range(num):\n",
    "            # inner loop creates the string for a particular k\n",
    "\n",
    "            if i != j: # if not the particular k, fill with idt\n",
    "                cur = tensor(cur, idt, idt) if cur !=0 else tensor(idt, idt)\n",
    "            elif beta == 1: \n",
    "                # otherwise, check if spin is up or down, up goes first, down goes second\n",
    "                cur = tensor(cur, ck, idt) if cur !=0 else tensor(ck, idt)\n",
    "            else: \n",
    "                cur = tensor(cur, idt, ck) if cur !=0 else tensor(idt, ck)\n",
    "        sum = cur if sum == 0 else sum + cur \n",
    "    return sum"
   ]
  },
  {
   "cell_type": "markdown",
   "metadata": {},
   "source": [
    "### Creating first part of $\\eta$\n",
    "\n",
    "$$\n",
    "V \\left[\\lambda_2 \\hat n_{d\\overline\\beta} + \\lambda_1 \\left( 1 - \\hat n_{d \\overline \\beta} \\right)  \\right]c^\\dagger_{q\\beta}c_{d\\beta}\n",
    "$$\n",
    "or\n",
    "$$\n",
    "V^* \\left[\\lambda_1 \\hat n_{d \\overline \\beta} + \\lambda_2 \\left( 1 - \\hat n_{d \\overline \\beta} \\right)  \\right]c^\\dagger_{d\\beta}c_{q\\beta}\n",
    "$$"
   ]
  },
  {
   "cell_type": "code",
   "execution_count": 5,
   "metadata": {},
   "outputs": [],
   "source": [
    "def eta1(beta, conj, args):\n",
    "    c1, c2, c3, V, J, K = args\n",
    "    \n",
    "    c_q = cq(beta, conj)\n",
    "    # gets either c^\\dagger_{q\\beta}\\otimes identity(q\\ol\\beta), or c_{q\\beta}iden(q\\ol\\beta), depending on conj=\\pm 1\n",
    "\n",
    "    betaSdz = beta * 0.5 * (tensor(n, idt) - tensor(idt, n))\n",
    "    # gets \\beta S_d^z\n",
    "\n",
    "    cimp = create(2) if conj == -1 else destroy(2)\n",
    "    # impurity beta operator will be c_{d\\beta} if conj = 1 else c^\\dagger_{d\\beta}\n",
    "    \n",
    "    imp_part = [cimp, c2 * n + c1 * (1-n)] if beta == 1 else [c2 * n + c1 * (1-n), cimp]\n",
    "    # the full impurity part will be cimp \\otimes idt(2) if beta is up, else idt(2) \\otimes cimp,\n",
    "    # because up part comes first\n",
    "\n",
    "    cloud_part = [idt]*2*2*ins\n",
    "    # cloud electrons do not participate in this part of eta, hence just identities. \n",
    "    # (ins) is number of k states on one side of FS, *2 for both sides, another *2 for spin \n",
    "\n",
    "    eta_1 = V * tensor([c_q] + imp_part + cloud_part) if conj == 1 else V * tensor(imp_part + cloud_part + [c_q])\n",
    "    # if conj == 1 (if we are creating eta^dagger), then q is above the FS and eta_1 will be \n",
    "    # c^\\dagger_q \\otimes imp_part \\otimes cloud_part, otherwise it will be imp_part \\otimes cloud_part \\otimes c_q,\n",
    "    # because q will be below the FS\n",
    "\n",
    "    return eta_1"
   ]
  },
  {
   "cell_type": "markdown",
   "metadata": {},
   "source": [
    "### Creating second part of $\\eta$\n",
    "\n",
    "$$\n",
    "\\lambda_3 \\sum_{k} \\frac{J}{2}c^\\dagger_{q\\beta}\\left( S_d^z \\beta c_{k\\beta} + c^\\dagger_{d \\overline \\beta}c_{d\\beta}c_{k \\overline \\beta}\\right), \\text{ conj} == 1\n",
    "$$\n",
    "or\n",
    "$$\n",
    "\\lambda_3 \\sum_{k} \\frac{J}{2}\\left( S_d^z \\beta c^\\dagger_{k\\beta} + c^\\dagger_{d\\beta}c_{d \\overline \\beta}c^\\dagger_{k \\overline \\beta}\\right)c_{q\\beta}, \\text{ conj} == -1\n",
    "$$\n",
    "The impurity part can be written as\n",
    "$$\n",
    "\\text{imp-part} = \\begin{cases} c^\\dagger_{d\\uparrow}c_{d \\downarrow}, \\text{ if }\\beta \\neq \\text{conj} \\\\ -c_{d\\uparrow}c^\\dagger_{d \\downarrow}, \\text{ if }\\beta == \\text{conj} \\end{cases}\n",
    "$$\n",
    "Cloud part is $\\sum_k c_{k\\beta}(conj)$"
   ]
  },
  {
   "cell_type": "code",
   "execution_count": 6,
   "metadata": {},
   "outputs": [],
   "source": [
    "def eta2(beta, conj, args):\n",
    "    c1, c2, c3, V, J, K = args\n",
    "    \n",
    "    betaSdz = beta * 0.5 * (tensor(n, idt) - tensor(idt, n))\n",
    "    # gets \\beta S_d^z\n",
    "        \n",
    "    c_q = cq(beta, conj)\n",
    "    # gets either c^\\dagger_{q\\beta}\\otimes identity(q\\ol\\beta), or c_{q\\beta}iden(q\\ol\\beta), depending on conj=\\pm 1\n",
    "\n",
    "    imp_part = -tensor(destroy(2), create(2)) if conj == beta else tensor(create(2), destroy(2))\n",
    "    \n",
    "    k_beta = sum_k_ck(beta, conj)\n",
    "    k_beta_bar = sum_k_ck(-beta, conj)\n",
    "\n",
    "    eta_2 = (tensor(c_q, betaSdz, k_beta) + tensor(c_q, imp_part, k_beta_bar)) if conj == 1 else (tensor(betaSdz, k_beta, c_q) + tensor(imp_part, k_beta_bar, c_q))\n",
    "    return (c3 / 2) * J * eta_2"
   ]
  },
  {
   "cell_type": "markdown",
   "metadata": {},
   "source": [
    "### Creating third part of $\\eta$\n",
    "\n",
    "$$\n",
    "\\lambda_3 \\sum_{k} \\frac{K}{2}\\left( C^z_d c^\\dagger_{q\\beta}c_{k\\beta} + c^\\dagger_{q\\beta}c^\\dagger_{k \\overline \\beta}c_{d \\overline \\beta}c_{d\\beta} \\right)\n",
    "$$\n",
    "or\n",
    "$$\n",
    "\\lambda_3 \\sum_{k} \\frac{K}{2}\\left( C^z_d c^\\dagger_{k\\beta}c_{q\\beta} + c^\\dagger_{d\\beta}c^\\dagger_{d \\overline \\beta}c_{k \\overline \\beta}c_{q\\beta} \\right)\n",
    "$$\n",
    "Impurity part is\n",
    "$$\n",
    "\\text{imp-part} = \\begin{cases}-c_{d \\uparrow}c_{d \\downarrow}, \\beta = \\text{conj} = 1 \\\\\n",
    "c_{d \\uparrow}c_{d \\downarrow}, \\beta = -1, \\text{conj} = 1 \\\\\n",
    "c^\\dagger_{d \\uparrow}c^\\dagger_{d \\downarrow}, \\beta = 1, \\text{conj} = -1 \\\\\n",
    "-c^\\dagger_{d \\uparrow}c^\\dagger_{d \\downarrow}, \\beta = \\text{conj} = -1 \\end{cases} = -(\\beta \\times \\text{conj}) * (c_{d \\uparrow}c_{d \\downarrow})(conj)\n",
    "$$\n",
    "The cloud parts are\n",
    "$$\n",
    "\\sum_k(\\beta, -conj) \\text{ and }\\sum_k(-\\beta, conj)\n",
    "$$"
   ]
  },
  {
   "cell_type": "code",
   "execution_count": 7,
   "metadata": {},
   "outputs": [],
   "source": [
    "def eta3(beta, conj, args):\n",
    "    c1, c2, c3, V, J, K = args\n",
    "         \n",
    "    betaSdz = beta * 0.5 * (tensor(n, idt) - tensor(idt, n))\n",
    "    # gets \\beta S_d^z\n",
    "               \n",
    "    c_q = cq(beta, conj)\n",
    "    # gets either c^\\dagger_{q\\beta}\\otimes identity(q\\ol\\beta), or c_{q\\beta}iden(q\\ol\\beta), depending on conj=\\pm 1\n",
    "\n",
    "    imp_part = -beta*conj*(tensor(destroy(2), destroy(2)) if conj == 1 else tensor(create(2), create(2)))\n",
    "    \n",
    "    k_beta = sum_k_ck(beta, -conj)\n",
    "    k_beta_bar = sum_k_ck(-beta, conj)\n",
    "\n",
    "    eta_3 = (tensor(c_q, Cdz, k_beta) + tensor(c_q, imp_part, k_beta_bar)) if conj == 1 else (tensor(Cdz, k_beta, c_q) + tensor(imp_part, k_beta_bar, c_q))\n",
    "    return (c3 / 2) * K * eta_3"
   ]
  },
  {
   "cell_type": "code",
   "execution_count": 8,
   "metadata": {},
   "outputs": [],
   "source": [
    "def rev_one_step(psi, out, ins, args=[1]*4):\n",
    "\n",
    "    Udag = 1/2\n",
    "    for conj, beta in product([1, -1], [1, -1]):    \n",
    "        # conj = 1 means eta dagger (q is above FS), conj = -1 means eta (q is below)\n",
    "\n",
    "        print (conj, beta)\n",
    "        iom1 = 2*(out - 1) if conj == 1 else 2 * out\n",
    "        iom2 = 2*(out - 1) if conj == -1 else 2 * out\n",
    "        # iom1 == k states above the FS that are unchanged b4 & after this reverse RG step.\n",
    "        # If conj == 1, that means I am working with a q that's empty, so iom1 will lose 2 states (q up, q down).\n",
    "        # iom2 will lose two states if the electron being re-entangled is below FS, that is if conj == -1\n",
    "        U, J, K, V, D, w = args\n",
    "        \n",
    "        c1 = 1/(w - D/2 - U/2 + K/2)\n",
    "        c2 = 1/(w - D/2 + U/2 + J/2)\n",
    "        c3 = 1/(w - D/2 + K/4 + J/4)\n",
    "\n",
    "        args = (c1, c2, c3, V, J, K)\n",
    "        \n",
    "        eta_1 = eta1(beta, conj, args)\n",
    "        eta_2 = eta2(beta, conj, args)\n",
    "        eta_3 = eta3(beta, conj, args)\n",
    "        # get the three parts of eta (V part, S part and C part)\n",
    "        \n",
    "        eta_beta_conj = eta_1 + eta_2 + eta_3\n",
    "        # get eta for this value of beta and conf.\n",
    "        # For example, this is the eta for k=+1 and beta = up\n",
    "        \n",
    "        # add the iom identity parts\n",
    "        for k in range(iom1):\n",
    "            eta_beta_conj = tensor(idt, eta_beta_conj)\n",
    "        for k in range(iom2):\n",
    "            eta_beta_conj = tensor(eta_beta_conj, idt)\n",
    "        \n",
    "        Udag += eta_beta_conj/2\n",
    "    \n",
    "    return Udag(psi)\n",
    "\n"
   ]
  },
  {
   "cell_type": "markdown",
   "metadata": {},
   "source": [
    "## Mutual Information\n",
    "\n",
    "$$\n",
    "\\rho = \\text{density matrix} = \\ket{\\Psi}\\bra{\\Psi}\n",
    "$$\n",
    "$$\n",
    "I(A:B) = S_A + S_B - S_{AB}\n",
    "$$\n",
    "$$\n",
    "S_X = \\text{Tr}_X \\left[{\\rho}\\right]\n",
    "$$"
   ]
  },
  {
   "cell_type": "code",
   "execution_count": 9,
   "metadata": {},
   "outputs": [],
   "source": [
    "def mut_inf(psi, a, b):\n",
    "    rho = psi * psi.dag()\n",
    "    rho_ab = rho.ptrace([a, b])\n",
    "    rho_a = rho.ptrace(a)\n",
    "    rho_b = rho.ptrace(b)\n",
    "    S_a = entropy_vn(rho_a) \n",
    "    S_b = entropy_vn(rho_b)\n",
    "    S_ab = entropy_vn(rho_ab) \n",
    "    return S_a + S_b - S_ab"
   ]
  },
  {
   "cell_type": "code",
   "execution_count": 10,
   "metadata": {},
   "outputs": [
    {
     "name": "stdout",
     "output_type": "stream",
     "text": [
      "1 1\n",
      "1 -1\n",
      "-1 1\n",
      "-1 -1\n",
      "1 1\n",
      "1 -1\n",
      "-1 1\n",
      "-1 -1\n",
      "[0.6931471805599453, 0.0012335803806249207, 0.0010724258550681128]\n"
     ]
    },
    {
     "data": {
      "image/png": "[encoded data removed]",
      "text/plain": [
       "<Figure size 360x360 with 1 Axes>"
      ]
     },
     "metadata": {
      "needs_background": "light"
     },
     "output_type": "display_data"
    }
   ],
   "source": [
    "out = 2\n",
    "# no of momenta states outside cloud, on each side of FS\n",
    "\n",
    "ins = 1\n",
    "# no of momenta states inside cloud, on each side of FS\n",
    "\n",
    "a = 2*out + 1\n",
    "b = a + 2\n",
    "\n",
    "# U =  [0, 0, 0, 0, 0, 0]\n",
    "# J =  [41.65137072728905, 7.421985528256318, 3.0764876297977835, 1.7632993761561673, 1.1893810568831, 0.8818478505045518]\n",
    "# K =  [0.11014854383139917, 0.10349303670420885, 0.09899373972501821, 0.09516847820969296, 0.09175302137185129, 0.08864547352971129]\n",
    "# V =  [698.7912946938286, 56.013376355019446, 16.783149824539997, 7.729738695156247, 4.4289952117072, 2.887478398100373]\n",
    "\n",
    "U =  [0, 0, 0, 0, 0, 0]\n",
    "J =  [10, 5, 3.0764876297977835, 1, 0.5, 0.1]\n",
    "K =  [0.2, 0.1, 0.05, 0.03, 0.02, 0.019]\n",
    "V =  [698.7912946938286, 56.013376355019446, 16.783149824539997, 7.729738695156247, 4.4289952117072, 2.887478398100373]\n",
    "count =  [1, 2, 3, 4, 5, 6]\n",
    "D =  [0.1, 0.2, 0.3, 0.4, 0.5, 0.6]\n",
    "\n",
    "w = -D[0]/2\n",
    "j = J[0] * count[0]\n",
    "k = K[0] * count[0]\n",
    "v = V[0] * sqrt(count[0])\n",
    "gamma = (3*j + k + 2*U[0])/(8*v)\n",
    "csm = sqrt(sqrt(gamma**2 + 4) + gamma)\n",
    "ccm = -sqrt(sqrt(gamma**2 + 4) - gamma)\n",
    "\n",
    "iom_above = tensor([basis(2,0)] * 2 * out)\n",
    "iom_below = tensor([basis(2,1)] * 2 * out)\n",
    "psi = tensor(iom_above, get_cloud(csm, ccm), iom_below).unit()\n",
    "\n",
    "I = [mut_inf(psi, a, b)]\n",
    "\n",
    "for i in range(out):\n",
    "    args = (U[i+1], J[i+1], K[i+1], V[i+1], D[i+1], w)\n",
    "    psi = rev_one_step(psi, out, ins, args).unit()\n",
    "    out -= 1\n",
    "    ins += 1\n",
    "    I.append(mut_inf(psi, a, b))\n",
    "\n",
    "print (I)\n",
    "plt.plot(I)\n",
    "plt.yscale(\"log\")\n",
    "plt.show()"
   ]
  },
  {
   "cell_type": "code",
   "execution_count": null,
   "metadata": {},
   "outputs": [],
   "source": []
  }
 ],
 "metadata": {
  "kernelspec": {
   "display_name": "Python 3",
   "language": "python",
   "name": "python3"
  },
  "language_info": {
   "codemirror_mode": {
    "name": "ipython",
    "version": 3
   },
   "file_extension": ".py",
   "mimetype": "text/x-python",
   "name": "python",
   "nbconvert_exporter": "python",
   "pygments_lexer": "ipython3",
   "version": "3.9.4"
  }
 },
 "nbformat": 4,
 "nbformat_minor": 4
}
