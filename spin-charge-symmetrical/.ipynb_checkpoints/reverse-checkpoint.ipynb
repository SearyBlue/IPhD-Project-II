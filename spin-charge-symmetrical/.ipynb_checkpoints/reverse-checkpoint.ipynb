{
 "cells": [
  {
   "cell_type": "markdown",
   "metadata": {},
   "source": [
    "### IR Wavefunction\n",
    "\n",
    "$$\n",
    "\\newcommand{\\ket}[1]{\\vert{#1}\\rangle}\\\\\n",
    "\\newcommand{\\bra}[1]{\\langle{#1}\\vert}\\\\\n",
    "\\ket{\\text{IR}} = \\ket{\\hat n_{k_{-2}} = \\hat n_{k_{-3}} = 2} \\otimes \\frac{1}{2}\\bigg[ \\ket{\\uparrow^d}\\frac{1}{\\sqrt 2}\\left(\\ket{k_1 \\downarrow} + \\ket{k_{-1} \\downarrow}\\right) - \\ket{\\downarrow^d}\\frac{1}{\\sqrt 2}\\left(\\ket{k_1 \\uparrow} + \\ket{k_{-1} \\uparrow}\\right) + \\ket{2^d}\\ket{0} - \\ket{0^d}\\ket{k_1 \\uparrow, k_1 \\downarrow,k_{-1} \\uparrow,k_{-1} \\downarrow}\\bigg] \\otimes  \\ket{\\hat n_{k_{2}} = \\hat n_{k_{3} } = 0} = \\ket{1111}\\ket{0000}\\\\\n",
    "=\\frac{1}{2}\\ket{0000} \\otimes \\left[\\ket{10}\\ket{0101} - \\ket{01}\\ket{1010} + \\ket{11}\\ket{0000} - \\ket{00}\\ket{1111}\\right] \\otimes \\ket{1111}\\\\\n",
    "U^\\dagger_\\beta = \\frac{1}{2}\\left[1 + \\eta_{1\\beta} + \\eta^\\dagger_{0\\beta} \\right] \\\\\n",
    "\\eta_{0\\beta}^\\dagger = V \\left[\\lambda_2 \\hat n_{d\\ol\\beta} + \\lambda_1 \\left( 1 - \\hat n_{d\\ol\\beta} \\right)  \\right]c^\\dagger_{q\\beta}c_{d\\beta} + \\lambda_3 \\sum_{k} \\left\\{ \\frac{J}{2}\\left( S_d^z \\beta c^\\dagger_{q\\beta}c_{k\\beta} + c^\\dagger_{d\\ol\\beta}c_{d\\beta}c^\\dagger_{q\\beta}c_{k\\ol\\beta}\\right) + \\frac{K}{2}\\left( C^z_d c^\\dagger_{q\\beta}c_{k\\beta} + c^\\dagger_{q\\beta}c^\\dagger_{k\\ol\\beta}c_{d\\ol\\beta}c_{d\\beta} \\right) \\right\\} \\\\\n",
    "$$\n",
    "$$\n",
    "\\eta_{1\\beta} = V^* \\left[\\lambda_1 \\hat n_{d\\ol\\beta} + \\lambda_2 \\left( 1 - \\hat n_{d\\ol\\beta} \\right)  \\right]c^\\dagger_{d\\beta}c_{q\\beta} + \\lambda_3 \\sum_{k} \\left\\{ \\frac{J}{2}\\left( S_d^z \\beta c^\\dagger_{k\\beta}c_{q\\beta} + c^\\dagger_{d\\beta}c_{d\\ol\\beta}c^\\dagger_{k\\ol\\beta}c_{q\\beta}\\right)+ \\frac{K}{2}\\left( C^z_d c^\\dagger_{k\\beta}c_{q\\beta} + c^\\dagger_{d\\beta}c^\\dagger_{d\\ol\\beta}c_{k\\ol\\beta}c_{q\\beta} \\right) \\right\\} \\\\\n",
    "\\lambda_1 = \\frac{1}{\\omega - \\frac{1}{2}D + \\epsilon_d + \\frac{1}{2}K}, && \\lambda_2 = \\frac{1}{\\omega - \\frac{1}{2}D - \\epsilon_d + \\frac{1}{2}J}, && \\lambda_3 = \\frac{1}{\\omega - \\frac{1}{2}D + \\frac{1}{4}\\left(J + K\\right)} \n",
    "$$"
   ]
  },
  {
   "cell_type": "markdown",
   "metadata": {},
   "source": [
    "### Creating impurity and c-bath basis"
   ]
  },
  {
   "cell_type": "code",
   "execution_count": 1,
   "metadata": {},
   "outputs": [],
   "source": [
    "from qutip import *\n",
    "from math import *\n",
    "import itertools\n",
    "\n",
    "moms = list(range(-2, 3))\n",
    "moms.remove(0)\n",
    "spins = (\"u\", \"d\")\n",
    "occs = (0, 1)\n",
    "cb = dict()\n",
    "for k, spin, occ in itertools.product(moms, spins, occs):\n",
    "    cb[str(k)+spin+str(occ)] = basis(2,occ)\n",
    "ib = dict()\n",
    "for spin, occ in itertools.product(spins, occs):\n",
    "    ib[spin+str(occ)] = basis(2,occ)"
   ]
  },
  {
   "cell_type": "markdown",
   "metadata": {},
   "source": [
    "### Writing the IR wavefunction"
   ]
  },
  {
   "cell_type": "code",
   "execution_count": 8,
   "metadata": {},
   "outputs": [],
   "source": [
    "updn = (1/sqrt(2)) * (tensor(ib[\"u1\"], ib[\"d0\"], cb[\"-1u0\"], cb[\"-1d0\"], cb[\"1u0\"], cb[\"1d1\"]) + tensor(ib[\"u1\"], ib[\"d0\"], cb[\"-1u0\"], cb[\"-1d1\"], cb[\"1u0\"], cb[\"1d0\"]))\n",
    "dnup = (1/sqrt(2)) * (tensor(ib[\"u0\"], ib[\"d1\"], cb[\"-1u0\"], cb[\"-1d0\"], cb[\"1u1\"], cb[\"1d0\"]) + tensor(ib[\"u0\"], ib[\"d1\"], cb[\"-1u1\"], cb[\"-1d0\"], cb[\"1u0\"], cb[\"1d0\"]))\n",
    "# cloud_part = tensor(ib[\"u1\"], kcloud_dn) - tensor(ib[\"d1\"], kcloud_up) + tensor(ib[\"u1\"], ib[\"d1\"],kcloud_dn) + tensor(imp_2, kcloud_0) - tensor(imp_0, kcloud_2)\n",
    "ioms1 = tensor(cb[\"-2u1\"], cb[\"-2d1\"])\n",
    "ioms2 = tensor(cb[\"2u0\"], cb[\"2d0\"])\n",
    "psi_IR = tensor(ioms1, updn - dnup, ioms2).unit()"
   ]
  },
  {
   "cell_type": "code",
   "execution_count": null,
   "metadata": {},
   "outputs": [],
   "source": [
    "c1 = 1\n",
    "c2 = 1\n",
    "c3 = 1\n",
    "V = 1\n",
    "J = 1\n",
    "K = 1\n",
    "eta21_u = V * tensor(create(2), identity(2), destroy(2), c1 * num(2) + c2 * (1 - num(2)), identity(2), identity(2)) + c3 * ((J/2) + (K/2)) \n",
    "Udag_21_u = (1/sqrt(2))(1 + eta_21_u)\n",
    "Udag_21_d = (1/sqrt(2))(1 + eta_21_d)"
   ]
  }
 ],
 "metadata": {
  "kernelspec": {
   "display_name": "Python 3",
   "language": "python",
   "name": "python3"
  },
  "language_info": {
   "codemirror_mode": {
    "name": "ipython",
    "version": 3
   },
   "file_extension": ".py",
   "mimetype": "text/x-python",
   "name": "python",
   "nbconvert_exporter": "python",
   "pygments_lexer": "ipython3",
   "version": "3.9.4"
  }
 },
 "nbformat": 4,
 "nbformat_minor": 4
}
