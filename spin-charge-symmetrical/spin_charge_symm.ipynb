{
 "cells": [
  {
   "cell_type": "code",
   "execution_count": 74,
   "id": "floating-capitol",
   "metadata": {},
   "outputs": [],
   "source": [
    "import itertools\n",
    "from tqdm import tqdm\n",
    "from time import sleep\n",
    "from math import sqrt\n",
    "from multiprocessing import Pool\n",
    "\n",
    "import matplotlib\n",
    "from matplotlib import pyplot as plt\n",
    "\n",
    "import numpy as np\n",
    "\n",
    "font = {'size'   : 25}\n",
    "\n",
    "matplotlib.rc('font', **font)\n",
    "matplotlib.rcParams['text.usetex'] = True\n",
    "plt.rcParams[\"figure.figsize\"]= 10, 6\n",
    "matplotlib.rcParams['lines.linewidth'] = 3\n",
    "\n",
    "\n",
    "deltaD = 0.1"
   ]
  },
  {
   "cell_type": "markdown",
   "id": "continued-arrest",
   "metadata": {},
   "source": [
    "Defines and evaluates denominators in the RG equations. The denominators in the RG equations are\n",
    "$$\n",
    "d_0 = \\omega - \\frac{1}{2}\\left(D - \\mu\\right) - \\frac{U}{2} + \\frac{K}{2}\n",
    "$$\n",
    "$$\n",
    "d_1 = \\omega - \\frac{1}{2}\\left(D - \\mu\\right) + \\frac{U}{2} + \\frac{J}{2}\n",
    "$$\n",
    "$$\n",
    "d_2 = \\omega - \\frac{1}{2}\\left(D - \\mu\\right) + \\frac{J}{4} + \\frac{K}{4}\n",
    "$$"
   ]
  },
  {
   "cell_type": "code",
   "execution_count": null,
   "id": "educational-movie",
   "metadata": {},
   "outputs": [],
   "source": [
    "def den(w, D, U, J, K):\n",
    "    d0 = w - 0.5 * D - U/2 + K/2\n",
    "    d1 = w - 0.5 * D + U/2 + J/2\n",
    "    d2 = w - 0.5 * D + J/4 + K/4\n",
    "    return np.array([d0, d1, d2])"
   ]
  },
  {
   "cell_type": "markdown",
   "id": "dense-plastic",
   "metadata": {},
   "source": [
    "# RG Equations\n",
    "\n",
    "The RG equations for the symmetric spin-charge Anderson-Kondo are \n",
    "\n",
    "$$\n",
    "\\Delta U = 4|V|^2 \\left[\\frac{1}{\\omega - \\frac{1}{2}\\left(D - \\mu\\right) + \\frac{U}{2} + \\frac{1}{2}J}  - \\frac{1}{\\omega - \\frac{1}{2}\\left(D - \\mu\\right) - \\frac{U}{2} + \\frac{1}{2}K}\\right] + \\sum_{k<\\Lambda_j} \\frac{3}{4}\\frac{K^2 - J^2}{\\omega - \\frac{1}{2}\\left(D - \\mu\\right) + \\frac{1}{4}J + \\frac{1}{4}K}\n",
    "$$\n",
    "\n",
    "$$\n",
    "\\Delta V = \\frac{V K}{16}\\left(\\frac{1}{\\omega - \\frac{1}{2}\\left(D - \\mu\\right) - \\frac{U}{2} + \\frac{1}{2}K} + \\frac{1}{\\omega - \\frac{1}{2}\\left(D - \\mu\\right) + \\frac{1}{4}J + \\frac{1}{4}K} \\right) - \\frac{3VJ}{4}\\left( \\frac{1}{\\omega - \\frac{1}{2}\\left(D - \\mu\\right) + \\frac{U}{2} + \\frac{1}{2}J} + \\frac{1}{\\omega - \\frac{1}{2}\\left(D - \\mu\\right) + \\frac{1}{4}J + \\frac{1}{4}K} \\right)\n",
    "$$\n",
    "\n",
    "$$\n",
    "\\Delta J = - J^2\\left(\\omega - \\frac{1}{2}\\left(D - \\mu\\right) + \\frac{1}{4}J + \\frac{1}{4}K\\right)^{-1}\n",
    "$$\n",
    "\n",
    "$$\n",
    "\\Delta K = - K^2\\left(\\omega - \\frac{1}{2}\\left(D - \\mu\\right) + \\frac{1}{4}J + \\frac{1}{4}K\\right)^{-1}\n",
    "$$\n",
    "\n",
    "The following equation accepts the coupling values at the $j^{th}$ step of the RG, applies the RG equations on them and returns the couplings for the $(j-1)^{th}$ step. _If any coupling changes sign, it is set to 0._"
   ]
  },
  {
   "cell_type": "code",
   "execution_count": 80,
   "id": "isolated-price",
   "metadata": {},
   "outputs": [],
   "source": [
    "\n",
    "def rg(w, D, U, V, J, K, flags):\n",
    "    rho = 2/deltaD\n",
    "    n = rho*deltaD\n",
    "    dens = den(w, D, U, J, K)\n",
    "    deltaU = int(flags[2])*(-4 * V**2 * (1/dens[0] - 1/dens[1]) - (3* (J**2 - K**2)/8) * (D*n/deltaD) / dens[2])\n",
    "    deltaV = int(flags[2])*((1/16) * K * V * (1/dens[0] - 1/dens[2]) - (3/4) * J * V * (1/dens[1] + 1/dens[2]))\n",
    "    deltaJ = - int(flags[2]) * J**2 / dens[2]\n",
    "    deltaK = - int(flags[2]) * K**2 / dens[2]\n",
    "\n",
    "    U = 0 if (U + n*deltaU) * U <= 0 else U + n*deltaU\n",
    "    V = 0 if (V + n*deltaV) * V <= 0 else V + n*deltaV\n",
    "    J = 0 if (J + n*deltaJ) * J <= 0 else J + n*deltaJ\n",
    "    K = 0 if (K + n*deltaK) * K <= 0 else K + n*deltaK\n",
    "\n",
    "    return U, V, J, K"
   ]
  },
  {
   "cell_type": "markdown",
   "id": "damaged-reading",
   "metadata": {},
   "source": [
    "The following function does one complete RG for a given set of bare couplings and returns arrays of the flowing couplings."
   ]
  },
  {
   "cell_type": "code",
   "execution_count": 103,
   "id": "brutal-greene",
   "metadata": {},
   "outputs": [],
   "source": [
    "def complete_RG(w, D0, U0, V0, J0, K0):\n",
    "    U = [U0]\n",
    "    V = [V0]\n",
    "    J = [J0]\n",
    "    K = [K0]\n",
    "    E = [D0]\n",
    "    old_den = den(w, D0, U[-1], J[-1], K[-1])\n",
    "    for D in np.arange(D0, 0, -deltaD):\n",
    "        w = -D0/2\n",
    "        new_den = den(w, D, U[-1], J[-1], K[-1])\n",
    "        flags = old_den * new_den > 0\n",
    "        if not flags[2]:\n",
    "            break\n",
    "        old_den = new_den\n",
    "        U_j, V_j, J_j, K_j = rg(w, D, U[-1], V[-1], J[-1], K[-1], flags)\n",
    "        U.append(U_j)\n",
    "        V.append(V_j)\n",
    "        J.append(J_j)\n",
    "        K.append(K_j)\n",
    "        E.append(D - deltaD)\n",
    "        \n",
    "    return E,U,V,J,K"
   ]
  },
  {
   "cell_type": "markdown",
   "id": "interpreted-thinking",
   "metadata": {},
   "source": [
    "# 1. $V=0$\n",
    "\n",
    "First we will look at the simplified case of $V=0$. Since the RG equation for $V$ involves $V$, it will not flow. We need to look only at $U$, $J$ and $K$. Depending on the value of $\\omega$, the denominator can be either positive or negative. We look at the two cases separately."
   ]
  },
  {
   "cell_type": "markdown",
   "id": "forbidden-capitol",
   "metadata": {},
   "source": [
    "## a. $\\omega - \\frac{\\epsilon_q}{2} + \\frac{1}{4}J + \\frac{1}{4}K>0$ (high $\\omega$):\n",
    "\n",
    "These aren't truly URG fixed points because the denominator will not converge towards zero."
   ]
  },
  {
   "cell_type": "markdown",
   "id": "reasonable-bouquet",
   "metadata": {},
   "source": [
    "### i. $J=K$\n",
    "\n",
    "Since $\\Delta U \\propto K^2 - J^2$, $U$ will be marginal here."
   ]
  },
  {
   "cell_type": "code",
   "execution_count": null,
   "id": "hybrid-parker",
   "metadata": {},
   "outputs": [],
   "source": [
    "D0 = 20\n",
    "w = D0\n",
    "U0 = 1\n",
    "J0 = K0 = 0.1\n",
    "V0 = 0\n",
    "E,U,V,J,K = complete_RG(w, D0, U0, V0, J0, K0)\n",
    "steps = np.array(E)/D0\n",
    "fig, ax = plt.subplots(1,2,figsize=(16, 6))\n",
    "ax[0].set_ylabel(r'$U$')\n",
    "ax[0].set_xlabel(r'RG Step')\n",
    "ax[0].plot(steps, U)\n",
    "ax[1].set_ylabel(r'$J$')\n",
    "ax[1].yaxis.set_label_position(\"right\")\n",
    "ax[1].yaxis.tick_right()\n",
    "ax[1].set_xlabel(r'RG Step')\n",
    "ax[1].plot(steps, J)\n",
    "plt.suptitle(r\"$J_0=K_0={}, U_0={}, \\omega = {}, D_0 = {}$\".format(J0, U0, w, D0), y=0.91)\n",
    "plt.tight_layout()\n",
    "plt.show()\n"
   ]
  },
  {
   "cell_type": "markdown",
   "id": "dependent-calcium",
   "metadata": {},
   "source": [
    "### ii. $J > K$\n",
    "\n",
    "$U$ will be irrelevant here."
   ]
  },
  {
   "cell_type": "code",
   "execution_count": null,
   "id": "modified-supervision",
   "metadata": {},
   "outputs": [],
   "source": [
    "deltaD = 0.1\n",
    "D0 = 20\n",
    "w = D0\n",
    "U0 = 1\n",
    "J0 = 0.01\n",
    "K0 = 0.009\n",
    "V0 = 0\n",
    "E,U,V,J,K = complete_RG(w, D0, U0, V0, J0, K0)\n",
    "steps = np.array(E)/D0\n",
    "\n",
    "fig, ax = plt.subplots(1,3)\n",
    "fig.set_size_inches(24,6)\n",
    "ax[0].set_ylabel(r'$J$')\n",
    "ax[0].set_xlabel(r'RG Step')\n",
    "ax[0].plot(steps, J)\n",
    "ax[1].set_ylabel(r'$K$')\n",
    "ax[1].set_xlabel(r'RG Step')\n",
    "ax[1].plot(steps, K)\n",
    "ax[2].set_ylabel(r'$U$')\n",
    "ax[2].set_xlabel(r'RG Step')\n",
    "ax[2].plot(steps, U)\n",
    "plt.suptitle(r\"$J_0=K_0={}, U_0={}$\".format(J0, U0), y=0.91)\n",
    "plt.tight_layout()\n",
    "plt.show()"
   ]
  },
  {
   "cell_type": "markdown",
   "id": "unsigned-campbell",
   "metadata": {},
   "source": [
    "### iii. $J < K$\n",
    "\n",
    "$U$ will be relevant here."
   ]
  },
  {
   "cell_type": "code",
   "execution_count": null,
   "id": "precious-proceeding",
   "metadata": {},
   "outputs": [],
   "source": [
    "D0 = 20\n",
    "w = D0\n",
    "U0 = 1\n",
    "J0 = 0.01\n",
    "K0 = 0.02\n",
    "V0 = 0\n",
    "\n",
    "E,U,V,J,K = complete_RG(w, D0, U0, V0, J0, K0)\n",
    "steps = np.array(E)/D0\n",
    "\n",
    "fig, ax = plt.subplots(1,2)\n",
    "fig.set_size_inches(16, 6)\n",
    "ax[0].set_ylabel(r'$U$')\n",
    "ax[0].set_xlabel(r'RG Step')\n",
    "ax[0].plot(steps, U)\n",
    "ax[1].set_ylabel(r'$J$')\n",
    "\n",
    "ax[1].set_xlabel(r'RG Step')\n",
    "ax[1].plot(steps, J)\n",
    "plt.suptitle(r\"$J_0=K_0={}, U_0={}$\".format(J0, U0), y=0.91)\n",
    "plt.tight_layout()\n",
    "plt.show()\n"
   ]
  },
  {
   "cell_type": "markdown",
   "id": "green-karen",
   "metadata": {},
   "source": [
    "## b. $\\omega - \\frac{\\epsilon_q}{2} + \\frac{1}{4}J + \\frac{1}{4}K<0$ (low $\\omega$):\n",
    "\n",
    "This is the regime where we achieve true strong-coupling fixed points in $J,K$. The signature of $K^2 - J^2$ will determine whether $U$ is relevant or irrelevant."
   ]
  },
  {
   "cell_type": "markdown",
   "id": "standard-serbia",
   "metadata": {},
   "source": [
    "### i. $J>K$"
   ]
  },
  {
   "cell_type": "code",
   "execution_count": null,
   "id": "dressed-consortium",
   "metadata": {},
   "outputs": [],
   "source": [
    "w = -D0/2\n",
    "D0 = 10\n",
    "U0 = 0.01\n",
    "J0 = 0.05\n",
    "K0 = 0.04\n",
    "V0 = 0\n",
    "\n",
    "E,U,V,J,K = complete_RG(w, D0, U0, V0, J0, K0)\n",
    "steps = np.array(E)/D0\n",
    "\n",
    "fig, ax = plt.subplots(1,3)\n",
    "fig.set_size_inches(24, 6)\n",
    "ax[0].set_ylabel(r'$K$')\n",
    "ax[0].set_xlabel(r'RG Step')\n",
    "ax[0].plot(steps, K)\n",
    "\n",
    "ax[1].set_ylabel(r'$J$')\n",
    "ax[1].set_xlabel(r'RG Step')\n",
    "ax[1].plot(steps, J)\n",
    "\n",
    "ax[2].set_ylabel(r'$U$')\n",
    "ax[2].set_xlabel(r'RG Step')\n",
    "ax[2].plot(steps, U)\n",
    "\n",
    "for ax in ax:\n",
    "    ax.set_yscale(\"log\")\n",
    "plt.suptitle(r\"$J_0={}, K_0={}, U_0={}, \\omega={}$\".format(J0, K0, U0, w), y=0.91)\n",
    "plt.tight_layout()\n",
    "plt.show()"
   ]
  },
  {
   "cell_type": "markdown",
   "id": "australian-arthritis",
   "metadata": {},
   "source": [
    "### i. $J<K$"
   ]
  },
  {
   "cell_type": "code",
   "execution_count": null,
   "id": "ordinary-delhi",
   "metadata": {},
   "outputs": [],
   "source": [
    "w = -D0/2\n",
    "D0 = 10\n",
    "U0 = 1\n",
    "J0 = 0.05\n",
    "K0 = 0.06\n",
    "V0 = 0\n",
    "\n",
    "E,U,V,J,K = complete_RG(w, D0, U0, V0, J0, K0)\n",
    "steps = np.array(E)/D0\n",
    "\n",
    "plt.ylabel(r'$U$')\n",
    "plt.xlabel(r'RG Step')\n",
    "plt.plot(steps, U)\n",
    "plt.title(r\"$J_0={}, K_0={}, U_0={}, \\omega={}$\".format(J0, K0, U0, w))\n",
    "plt.show()\n",
    "plt.ylabel(r'$J$')\n",
    "plt.xlabel(r'RG Step')\n",
    "plt.plot(steps, J)\n",
    "plt.show()"
   ]
  },
  {
   "cell_type": "markdown",
   "id": "neural-parker",
   "metadata": {},
   "source": [
    "To wrap up the $V=0$ case, we look at an RG-invariant:\n",
    "\n",
    "$\\frac{\\Delta J}{\\Delta K} = \\frac{J^2}{K^2} \\implies \\frac{1}{J} - \\frac{1}{K} = \\frac{1}{J_0} - \\frac{1}{K_0}$\n",
    "\n",
    "Note that this is an invariant even when $V$ is turned on."
   ]
  },
  {
   "cell_type": "code",
   "execution_count": null,
   "id": "downtown-lingerie",
   "metadata": {},
   "outputs": [],
   "source": [
    "w = 0\n",
    "D0 = 10\n",
    "U0 = 1\n",
    "J0 = 0.01\n",
    "K0 = 0.02\n",
    "V0 = 0\n",
    "E,U,V,J,K = complete_RG(w, D0, U0, V0, J0, K0)\n",
    "plt.xlabel(r\"$K$\")\n",
    "plt.ylabel(r\"$J$\")\n",
    "plt.plot(K, J, label=r'$J<K$')\n",
    "J0 = 0.02\n",
    "K0 = 0.01\n",
    "E,U,V,J,K = complete_RG(w, D0, U0, V0, J0, K0)\n",
    "plt.plot(K, J, label=r'$J>K$')\n",
    "J0 = 0.01\n",
    "K0 = 0.01\n",
    "E,U,V,J,K = complete_RG(w, D0, U0, V0, J0, K0)\n",
    "plt.plot(K, J, label=r'$J=K$')\n",
    "plt.xscale(\"log\")\n",
    "plt.yscale(\"log\")\n",
    "plt.legend()\n",
    "plt.title(r\"$\\omega = {}, U_0 = {}, D_0={}$\".format(w, U0, D0))\n",
    "plt.show()"
   ]
  },
  {
   "cell_type": "markdown",
   "id": "literary-murder",
   "metadata": {},
   "source": [
    "# 2. $V > 0$\n",
    "\n",
    "The inclusion of $V$ will mean that there will not by any sharply defined phase of $U^*$ any more. We will still be working in the regime where $J,K$ flow to strong-coupling, and since those RG equations do not depend on $V$, their flows are unchanged. The behaviour of $U$ will get complicated however. To make \n",
    "sense, we will see how the total (over a range of $\\omega$ and bare $U$) number of fixed points where $U^* > U_0$ and the total number of fixed points where $U^* < U_0$, in each of the four quadrants of the phase diagram, varies against the bare value $V_0$."
   ]
  },
  {
   "cell_type": "code",
   "execution_count": null,
   "id": "historic-retrieval",
   "metadata": {
    "tags": []
   },
   "outputs": [],
   "source": [
    "D0 = 20\n",
    "V0 = 0.1\n",
    "J0 = 0.01\n",
    "K0 = 0\n",
    "w = 0\n",
    "\n",
    "for U0 in [1.5, 0.5, 0.05, 0]:\n",
    "    E,U,V,J,K = complete_RG(w, D0, U0, V0, J0, K0)\n",
    "    J = np.array(J)\n",
    "    U = np.array(U)\n",
    "\n",
    "    if U0 != 0:\n",
    "        plt.plot(J[np.where(U > 0)], U[np.where(U > 0)], label=r\"$U_0 = {}$\".format(U0))\n",
    "        rang = len(J[np.where(U > 0)])\n",
    "    else:\n",
    "        plt.plot(J[:rang], U[:rang], label=r\"$U_0 = {}$\".format(U0))\n",
    "    plt.ylabel(r\"$U$\")\n",
    "    plt.xlabel(r\"$J$\")\n",
    "plt.legend()\n",
    "plt.title(r\"$V_0 = {}, J_0 = {}, K_0 = {}, D_0 = {}, \\omega = {}$\".format(V0, J0, K0, D0, w))\n",
    "plt.show()\n"
   ]
  },
  {
   "cell_type": "code",
   "execution_count": null,
   "id": "032d186d",
   "metadata": {},
   "outputs": [],
   "source": [
    "def plot(x, y, xlabel, ylabel, ax):\n",
    "    ax.plot(x,y)\n",
    "    ax.set_xlabel(xlabel)\n",
    "    ax.set_ylabel(ylabel)\n",
    "\n",
    "    \n",
    "D0 = 20\n",
    "V0 = 0.1\n",
    "J0 = 0.01\n",
    "K0 = 0\n",
    "w = 0\n",
    "U0 = 0.1\n",
    "\n",
    "E,U,V,J,K = complete_RG(w, D0, U0, V0, J0, K0)\n",
    "steps = np.array(E)/D0\n",
    "\n",
    "fig, ax = plt.subplots(2,2, figsize=(16,12))\n",
    "\n",
    "plot(steps, U, r\"RG steps\", r\"$U$\", ax[0][0])\n",
    "plot(steps, V, r\"RG steps\", r\"$V$\", ax[0][1])\n",
    "plot(steps, J, r\"RG steps\", r\"$J$\", ax[1][0])\n",
    "plot(steps, K, r\"RG steps\", r\"$K$\", ax[1][1])\n",
    "ax[0][1].set_yscale(\"log\")\n",
    "ax[1][0].set_yscale(\"log\")\n",
    "plt.tight_layout()\n",
    "plt.suptitle(r\"$U_0 = {}, V_0 = {}, J_0 = {}, K_0 = {}, D_0 = {}, \\omega = {}$\".format(U0, V0, J0, K0, D0, w), y=1)\n",
    "plt.show()"
   ]
  },
  {
   "cell_type": "code",
   "execution_count": null,
   "id": "87a555ed",
   "metadata": {},
   "outputs": [],
   "source": [
    "def plot(x, y, xlabel, ylabel, ax):\n",
    "    ax.plot(x,y)\n",
    "    ax.set_xlabel(xlabel)\n",
    "    ax.set_ylabel(ylabel)\n",
    "\n",
    "D0 = 20\n",
    "V0 = 0.1\n",
    "J0 = 0.01\n",
    "K0 = 0\n",
    "w = 0\n",
    "U0 = 0.01\n",
    "\n",
    "E,U,V,J,K = complete_RG(w, D0, U0, V0, J0, K0)\n",
    "steps = np.array(E)/D0\n",
    "U = np.array(U)\n",
    "V = np.array(V)\n",
    "J = np.array(J)\n",
    "\n",
    "fig, ax = plt.subplots(1,2, sharey=True, figsize=(14,5))\n",
    "\n",
    "plot(J[U>0], U[U>0], r\"$J$\", r\"$U$\", ax[0])\n",
    "plot(V[U>0], U[U>0], r\"$V$\", r\"$U$\", ax[1])\n",
    "\n",
    "plt.suptitle(r\"$U_0 = {}, V_0 = {}, J_0 = {}, K_0 = {}, D_0 = {}, \\omega = {}$\".format(U0, V0, J0, K0, D0, w), y=0.94)\n",
    "plt.show()"
   ]
  },
  {
   "cell_type": "code",
   "execution_count": null,
   "id": "b756166d",
   "metadata": {},
   "outputs": [],
   "source": [
    "def plot(x, y, xlabel, ylabel, ax):\n",
    "    ax.plot(x,y)\n",
    "    ax.set_xlabel(xlabel)\n",
    "    ax.set_ylabel(ylabel)\n",
    "    ax.set_yscale(\"log\")\n",
    "    \n",
    "\n",
    "D0 = 20\n",
    "V0 = 0.01\n",
    "J0 = 0\n",
    "K0 = 0.01\n",
    "w = 0\n",
    "U0 = -0.1\n",
    "\n",
    "E,U,V,J,K = complete_RG(w, D0, U0, V0, J0, K0)\n",
    "steps = np.array(E)/D0\n",
    "\n",
    "fig, ax = plt.subplots(1,2, figsize=(16, 6))\n",
    "\n",
    "plot(steps, -np.array(U), r\"RG steps\", r\"$-|U|$\", ax[0])\n",
    "plot(steps, K, r\"RG steps\", r\"$K$\", ax[1])\n",
    "\n",
    "plt.suptitle(r\"$U_0 = {}, V_0 = {}, J_0 = {}, K_0 = {}, D_0 = {}, \\omega = {}$\".format(U0, V0, J0, K0, D0, w), y=0.9)\n",
    "fig.tight_layout()\n",
    "plt.show()"
   ]
  },
  {
   "cell_type": "markdown",
   "id": "weekly-elder",
   "metadata": {},
   "source": [
    "## Scaling of $J^*$ and $V^*$ with system size"
   ]
  },
  {
   "cell_type": "code",
   "execution_count": null,
   "id": "forward-package",
   "metadata": {},
   "outputs": [],
   "source": [
    "def plot(y, ylabel, y0=[]):\n",
    "    N = D0_range * 10\n",
    "    plt.plot(N, y, color=\"r\")\n",
    "    plt.scatter(N, y, color=\"b\", marker=\"o\")\n",
    "    if len(y0) != 0:\n",
    "        plt.plot(N, y0, color=\"g\", label=r\"$y_0$\")\n",
    "        plt.legend()\n",
    "    plt.xscale(\"log\")\n",
    "    plt.yscale(\"log\")\n",
    "    plt.xlabel(r\"$N$\")\n",
    "    plt.title(r\"$V_0 = {}, U_0 = {}, J_0 = {}$\".format(V0, U0, J0))\n",
    "    plt.ylabel(ylabel)\n",
    "    plt.show()\n",
    "    \n",
    "def JV_D(D0_range, V0, K0, U0, J0):\n",
    "    Jstar = []\n",
    "    Vstar = []\n",
    "    Kstar = []\n",
    "    Ustar = []\n",
    "    j = []\n",
    "    k = []\n",
    "    v = []\n",
    "    for D0 in tqdm(D0_range):\n",
    "        w = 0 # 0.9 * (D0/2 - abs(U0)/2 - max(J0,K0)/2)\n",
    "        E,U,V,J,K = complete_RG(w, D0, U0, V0, J0, K0)\n",
    "        Ustar.append(U[-1])\n",
    "        Jstar.append(J[-1])\n",
    "        Kstar.append(K[-1])\n",
    "        Vstar.append(V[-1])\n",
    "        count = E[-1]/deltaD\n",
    "        j.append(J[-1] * count)\n",
    "        k.append(K[-1] * count)\n",
    "        v.append(V[-1] * sqrt(count))\n",
    "\n",
    "    plot(Jstar, r\"$J^*$\")\n",
    "    plot(Vstar, r\"$V^*$\")\n",
    "    plot(j, \"j\")\n",
    "    plot(k, \"k\")\n",
    "    plot(v, \"v\")"
   ]
  },
  {
   "cell_type": "markdown",
   "id": "atlantic-jewelry",
   "metadata": {},
   "source": [
    "### First Quadrant"
   ]
  },
  {
   "cell_type": "code",
   "execution_count": null,
   "id": "bound-password",
   "metadata": {},
   "outputs": [],
   "source": [
    "V0 = 0.1 \n",
    "K0 = 0.1\n",
    "U0 = 0.1\n",
    "J0 = 0.2\n",
    "D0_range = 10**np.arange(1,7.1,2)\n",
    "JV_D(D0_range, V0, K0, U0, J0)"
   ]
  },
  {
   "cell_type": "markdown",
   "id": "distributed-interval",
   "metadata": {},
   "source": [
    "## Scaling of $\\gamma$ with system size"
   ]
  },
  {
   "cell_type": "code",
   "execution_count": 106,
   "id": "romantic-legend",
   "metadata": {},
   "outputs": [
    {
     "name": "stderr",
     "output_type": "stream",
     "text": [
      "100%|██████████| 21/21 [00:02<00:00,  9.16it/s] \n"
     ]
    },
    {
     "data": {
      "image/png": "[encoded data removed]",
      "text/plain": [
       "<Figure size 720x432 with 2 Axes>"
      ]
     },
     "metadata": {
      "needs_background": "light"
     },
     "output_type": "display_data"
    },
    {
     "data": {
      "image/png": "[encoded data removed]",
      "text/plain": [
       "<Figure size 720x432 with 1 Axes>"
      ]
     },
     "metadata": {
      "needs_background": "light"
     },
     "output_type": "display_data"
    }
   ],
   "source": [
    "D0_range = 10**np.arange(0,4.1,0.2)\n",
    "J0 = 0.1\n",
    "V0 = 0.2\n",
    "K0 = 0\n",
    "U0 = 1\n",
    "c1sq = []\n",
    "c2sq = []\n",
    "gamma_arr = []\n",
    "size = []\n",
    "for D0 in tqdm(D0_range):\n",
    "    w = -D0\n",
    "    E,U,V,J,K = complete_RG(w, D0, U0, V0, J0, K0)\n",
    "    count = E[-1]*2/deltaD\n",
    "    if count <=0:\n",
    "        count = 1\n",
    "    j = J[-1] * count\n",
    "    k = K[-1] * count\n",
    "    v = V[-1] * sqrt(count)\n",
    "    U = U[-1]\n",
    "    if v != 0:\n",
    "        gamma = ((3*j+k)/4 + U/2)/(2*v)\n",
    "        gamma_arr.append(gamma)\n",
    "        c1sq.append((sqrt(gamma**2 + 4) + gamma)/(2 * sqrt(gamma**2 + 4)))\n",
    "        c2sq.append((sqrt(gamma**2 + 4) - gamma)/(2 * sqrt(gamma**2 + 4)))\n",
    "        size.append(np.log10(D0*10))\n",
    "\n",
    "fig, ax = plt.subplots()\n",
    "ax.plot(size, (c1sq), color=\"r\")\n",
    "ax.set_xlabel(r\"$\\log_{10}N$\")\n",
    "ax.set_ylabel(r\"$\\left( c^s_- \\right)^2$\", color=\"r\")\n",
    "ax2 = ax.twinx()\n",
    "ax2.plot(size, (c2sq), color=\"b\")\n",
    "ax2.set_xlabel(r\"$\\log_{10}N$\")\n",
    "ax2.set_ylabel(r\"$\\left( c^c_- \\right)^2$\", color=\"b\")\n",
    "plt.title(r\"$J_0 = {}, K_0 = {}, V_0 = {}, U_0 = {}$\".format(J0, K0, V0, U0))\n",
    "plt.show()\n",
    "plt.plot(size[3:], np.log10(gamma_arr)[3:])\n",
    "plt.ylabel(r\"$\\log_{10}\\gamma$\")\n",
    "plt.xlabel(r\"$\\log_{10}N$\")\n",
    "plt.title(r\"$J_0 = {}, K_0 = {}, V_0 = {}, U_0 = {}$\".format(J0, K0, V0, U0))\n",
    "plt.show()"
   ]
  },
  {
   "cell_type": "code",
   "execution_count": null,
   "id": "competent-finger",
   "metadata": {},
   "outputs": [],
   "source": [
    "D0_range = 10**np.arange(1,4.1,0.2)\n",
    "K0 = 0.03\n",
    "V0 = 0.3\n",
    "U0 = -0.01\n",
    "J0 = 0.01\n",
    "c1sq = []\n",
    "c2sq = []\n",
    "gamma_arr = []\n",
    "size = []\n",
    "for D0 in tqdm(D0_range):\n",
    "    E,U,V,J,K = complete_RG(w, D0, U0, V0, J0, K0)\n",
    "    count = E[-1]/deltaD\n",
    "    j = J[-1] * count\n",
    "    k = K[-1] * count\n",
    "    v = V[-1] * sqrt(count)\n",
    "    U = U[-1]\n",
    "    if v != 0:\n",
    "        gamma = ((3*j+k)/4 + U/2)/(2*v)\n",
    "        gamma_arr.append(gamma)\n",
    "        c1sq.append((sqrt(gamma**2 + 4) + gamma)/(2 * sqrt(gamma**2 + 4)))\n",
    "        c2sq.append((sqrt(gamma**2 + 4) - gamma)/(2 * sqrt(gamma**2 + 4)))\n",
    "        size.append(np.log10(D0*10))\n",
    "\n",
    "gamma_arr = np.array(gamma_arr)\n",
    "fig, ax = plt.subplots()\n",
    "ax.plot(size, (c1sq), color=\"r\")\n",
    "ax.set_xlabel(r\"$\\log_{10}N$\")\n",
    "ax.set_ylabel(r\"$\\left( c^s_- \\right)^2$\", color=\"r\")\n",
    "ax2 = ax.twinx()\n",
    "ax2.plot(size, (c2sq), color=\"b\")\n",
    "ax2.set_xlabel(r\"$\\log_{10}N$\")\n",
    "ax2.set_ylabel(r\"$\\left( c^c_- \\right)^2$\", color=\"b\")\n",
    "plt.title(r\"$J_0 = {}, K_0 = {}, V_0 = {}, U_0 = {}$\".format(J0, K0, V0, U0))\n",
    "plt.show()\n",
    "plt.plot(size[2:], np.log10(-gamma_arr)[2:])\n",
    "plt.ylabel(r\"$\\log_{10}-\\gamma$\")\n",
    "plt.xlabel(r\"$\\log_{10}N$\")\n",
    "plt.title(r\"$J_0 = {}, K_0 = {}, V_0 = {}, U_0 = {}$\".format(J0, K0, V0, U0))\n",
    "plt.show()"
   ]
  },
  {
   "cell_type": "markdown",
   "id": "190966dd",
   "metadata": {},
   "source": [
    "## Ground state\n",
    "\n",
    "$$\n",
    "\\Delta E = \tE_-^2 - E_c^2 = \\frac{1}{2}\\epsilon_d - \\frac{3j + k}{8} + k - \\sqrt{4v^2 + \\left(\\frac{3j+k}{8} -\\frac{1}{2} \\epsilon_d\\right) ^2}\n",
    "$$"
   ]
  },
  {
   "cell_type": "code",
   "execution_count": null,
   "id": "8bf69afb",
   "metadata": {},
   "outputs": [],
   "source": [
    "D0 = 20\n",
    "J0 = 1\n",
    "V0 = 0.7\n",
    "signs = []\n",
    "K0_range = np.linspace(2,0,20,endpoint=True)\n",
    "for K0 in K0_range:\n",
    "    U0 = 0.4 * np.sign(J0 - K0)\n",
    "    E,U,V,J,K = complete_RG(w, D0, U0, V0, J0, K0)\n",
    "    count = E[-1]/deltaD\n",
    "    j = J[-1] * count\n",
    "    k = K[-1] * count\n",
    "    v = V[-1] * sqrt(count)\n",
    "    U = U[-1]\n",
    "    delta = -U/4 - 3*j/8 + 7*j/8 - sqrt(4*v**2 + ((3*j+k)/8 + U/4)**2)\n",
    "    signs.append(np.sign(delta))\n",
    "\n",
    "signs = np.array(signs)\n",
    "plt.title(r\"$U_0 = \\pm 0.4, V_0=0.7, J_0=1$\")\n",
    "plt.plot((K0_range - J0)[signs > 0], signs[signs > 0])\n",
    "plt.plot((K0_range - J0)[signs < 0], signs[signs < 0])\n",
    "plt.xlabel(r\"$K_0 - J_0$\")\n",
    "plt.ylabel(r\"sign ($\\Delta E_g$)\")\n",
    "plt.show()"
   ]
  },
  {
   "cell_type": "code",
   "execution_count": null,
   "id": "b0e9d67f-4339-41f3-ba4c-43e00d01f445",
   "metadata": {},
   "outputs": [],
   "source": []
  }
 ],
 "metadata": {
  "kernelspec": {
   "display_name": "Python 3 (ipykernel)",
   "language": "python",
   "name": "python3"
  },
  "language_info": {
   "codemirror_mode": {
    "name": "ipython",
    "version": 3
   },
   "file_extension": ".py",
   "mimetype": "text/x-python",
   "name": "python",
   "nbconvert_exporter": "python",
   "pygments_lexer": "ipython3",
   "version": "3.9.7"
  }
 },
 "nbformat": 4,
 "nbformat_minor": 5
}
