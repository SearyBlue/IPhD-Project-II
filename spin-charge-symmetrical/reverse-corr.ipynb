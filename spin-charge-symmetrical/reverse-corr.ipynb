{
 "cells": [
  {
   "cell_type": "markdown",
   "metadata": {
    "id": "9BCqFAZWQaD9"
   },
   "source": [
    "### IR Wavefunction\n",
    "\n",
    "$$\n",
    "\\newcommand{\\ket}[1]{\\vert{#1}\\rangle}\\\\\n",
    "\\newcommand{\\bra}[1]{\\langle{#1}\\vert}\\\\\n",
    "\\ket{\\text{IR}} = \\ket{\\hat n_{k_{-2}} = \\hat n_{k_{-3}} = 2} \\otimes \\frac{1}{2}\\bigg[ \\ket{\\uparrow^d}\\frac{1}{\\sqrt 2}\\left(\\ket{k_1 \\downarrow} + \\ket{k_{-1} \\downarrow}\\right) - \\ket{\\downarrow^d}\\frac{1}{\\sqrt 2}\\left(\\ket{k_1 \\uparrow} + \\ket{k_{-1} \\uparrow}\\right) + \\ket{2^d}\\ket{0} - \\ket{0^d}\\ket{k_1 \\uparrow, k_1 \\downarrow,k_{-1} \\uparrow,k_{-1} \\downarrow}\\bigg] \\otimes  \\ket{\\hat n_{k_{2}} = \\hat n_{k_{3} } = 0} = \\ket{1111}\\ket{0000}\\\\\n",
    "=\\frac{1}{2}\\ket{0000} \\otimes \\left[\\ket{10}\\ket{0101} - \\ket{01}\\ket{1010} + \\ket{11}\\ket{0000} - \\ket{00}\\ket{1111}\\right] \\otimes \\ket{1111}\\\\\n",
    "=\\frac{1}{2}\\ket{0000} \\otimes \\left[\\ket{01} \\underbrace{\\ket{10}}_\\text{imp}\\ket{01} - \\ket{10}\\underbrace{\\ket{01}}_\\text{imp}\\ket{10} + \\ket{00}\\underbrace{\\ket{11}}_\\text{imp}\\ket{00} - \\ket{11}\\underbrace{\\ket{00}}_\\text{imp}\\ket{11}\\right] \\otimes \\ket{1111}\\\\\n",
    "U^\\dagger_{k_+, k_-} = \\frac{1}{2}\\left[1 + \\eta_{k_- \\uparrow} + \\eta^\\dagger_{k_+ \\uparrow} + \\eta_{k_- \\downarrow} + \\eta^\\dagger_{k_+ \\downarrow}\\right] \\\\\n",
    " \\\\\n",
    "\\eta_{k_+\\beta}^\\dagger = V \\left[\\lambda_2 \\hat n_{d\\overline\\beta} + \\lambda_1 \\left( 1 - \\hat n_{d \\overline \\beta} \\right)  \\right]c^\\dagger_{q\\beta}c_{d\\beta} + \\lambda_3 \\sum_{k} \\left\\{ \\frac{J}{2}\\left( S_d^z \\beta c^\\dagger_{q\\beta}c_{k\\beta} + c^\\dagger_{d \\overline \\beta}c_{d\\beta}c^\\dagger_{q\\beta}c_{k \\overline \\beta}\\right) + \\frac{K}{2}\\left( C^z_d c^\\dagger_{q\\beta}c_{k\\beta} + c^\\dagger_{q\\beta}c^\\dagger_{k \\overline \\beta}c_{d \\overline \\beta}c_{d\\beta} \\right) \\right\\}\\\\\n",
    "\\eta_{k_-\\beta} = V^* \\left[\\lambda_1 \\hat n_{d \\overline \\beta} + \\lambda_2 \\left( 1 - \\hat n_{d \\overline \\beta} \\right)  \\right]c^\\dagger_{d\\beta}c_{q\\beta} + \\lambda_3 \\sum_{k} \\left\\{ \\frac{J}{2}\\left( S_d^z \\beta c^\\dagger_{k\\beta}c_{q\\beta} + c^\\dagger_{d\\beta}c_{d \\overline \\beta}c^\\dagger_{k \\overline \\beta}c_{q\\beta}\\right)+ \\frac{K}{2}\\left( C^z_d c^\\dagger_{k\\beta}c_{q\\beta} + c^\\dagger_{d\\beta}c^\\dagger_{d \\overline \\beta}c_{k \\overline \\beta}c_{q\\beta} \\right) \\right\\} \\\\\n",
    "\\lambda_1 = \\frac{1}{\\omega - \\frac{1}{2}D + \\epsilon_d + \\frac{1}{2}K}, \\lambda_2 = \\frac{1}{\\omega - \\frac{1}{2}D - \\epsilon_d + \\frac{1}{2}J}, \\lambda_3 = \\frac{1}{\\omega - \\frac{1}{2}D + \\frac{1}{4}\\left(J + K\\right)} \n",
    "$$"
   ]
  },
  {
   "cell_type": "code",
   "execution_count": 2,
   "metadata": {
    "colab": {
     "base_uri": "https://localhost:8080/"
    },
    "id": "ItCCBwGHQaEI",
    "outputId": "eaa96e66-673b-4138-e8af-eec927f8061b"
   },
   "outputs": [
    {
     "output_type": "stream",
     "name": "stdout",
     "text": [
      "Requirement already satisfied: qutip in /home/kirito/miniconda3/lib/python3.9/site-packages (4.6.1)\n",
      "Requirement already satisfied: packaging in /home/kirito/miniconda3/lib/python3.9/site-packages (from qutip) (20.9)\n",
      "Requirement already satisfied: numpy>=1.16.6 in /home/kirito/miniconda3/lib/python3.9/site-packages (from qutip) (1.20.1)\n",
      "Requirement already satisfied: scipy>=1.0 in /home/kirito/miniconda3/lib/python3.9/site-packages (from qutip) (1.6.2)\n",
      "Requirement already satisfied: pyparsing>=2.0.2 in /home/kirito/miniconda3/lib/python3.9/site-packages (from packaging->qutip) (2.4.7)\n"
     ]
    }
   ],
   "source": [
    "!pip install qutip\n",
    "from qutip import *\n",
    "from math import *\n",
    "import itertools\n",
    "from itertools import product\n",
    "import matplotlib\n",
    "from matplotlib import pyplot as plt\n",
    "\n",
    "import numpy as np\n",
    "\n",
    "font = {'size'   : 17}\n",
    "\n",
    "matplotlib.rc('font', **font)\n",
    "matplotlib.rcParams['text.usetex'] = True\n",
    "plt.rcParams[\"figure.figsize\"]= 6, 4\n",
    "#plt.rcParams['figure.dpi'] = 90\n",
    "matplotlib.rcParams['lines.linewidth'] = 2\n",
    "plt.rcParams['axes.grid'] = True\n",
    "\n",
    "idt = identity(2)\n",
    "n = create(2) * destroy(2)\n",
    "\n",
    "Cdz = 0.5 * (tensor(n, idt) +  tensor(idt, n) - 1)\n",
    "# isospin z component\n",
    "\n",
    " "
   ]
  },
  {
   "cell_type": "markdown",
   "metadata": {
    "id": "pHX_PmeNQaEL"
   },
   "source": [
    "### Writing the impurity+cloud wavefunction"
   ]
  },
  {
   "cell_type": "code",
   "execution_count": 3,
   "metadata": {
    "id": "EiawBOhmQaEM"
   },
   "outputs": [],
   "source": [
    "def get_cloud(csm, ccm):\n",
    "    up = [0, 1, 1, 0, 0, 1]\n",
    "    down = [1, 0, 0, 1, 1, 0]\n",
    "    two = [0, 0, 1, 1, 0, 0]\n",
    "    zero = [1, 1, 0, 0, 1, 1]\n",
    "    cloudup = csm * tensor([basis(2,i) for i in up])\n",
    "    clouddown = csm * tensor([basis(2,i) for i in down])\n",
    "    cloudtwo = ccm * tensor([basis(2,i) for i in two])\n",
    "    cloudzero = ccm * tensor([basis(2,i) for i in zero])\n",
    "    psi_cloud = tensor(cloudup - clouddown + cloudtwo + cloudzero)\n",
    "    return psi_cloud    "
   ]
  },
  {
   "cell_type": "markdown",
   "metadata": {
    "id": "UjM4aSqlQaEN"
   },
   "source": [
    "## Creating the unitary\n",
    "\n",
    "$ \\eta^{\\dagger/-} = \\eta_1^{\\dagger/-} + \\eta_2^{\\dagger/-} + \\eta_3^{\\dagger/-}$"
   ]
  },
  {
   "cell_type": "markdown",
   "metadata": {
    "id": "gzP4JMThQaEP"
   },
   "source": [
    "### Create $c^\\dagger_{q\\beta}\\otimes I_{\\overline\\beta}$ or $c_{q\\beta}\\otimes I_{\\overline\\beta}$"
   ]
  },
  {
   "cell_type": "code",
   "execution_count": 4,
   "metadata": {
    "id": "ll0bRi44QaEQ"
   },
   "outputs": [],
   "source": [
    "def cq(beta, conj):\n",
    "    cq_ = create(2) if conj == 1 else destroy(2)\n",
    "    # use c^dagger_q is conj == 1 else c_q\n",
    "\n",
    "    return tensor([cq_, idt]) if beta == 1 else tensor([idt, cq_])\n",
    "    # place cq first if beta == up else place idt first"
   ]
  },
  {
   "cell_type": "markdown",
   "metadata": {
    "id": "AzEvy7_5QaER"
   },
   "source": [
    "### Creating $\\sum_k c_{k\\beta}$"
   ]
  },
  {
   "cell_type": "code",
   "execution_count": 5,
   "metadata": {
    "id": "-tb6q3AaQaES"
   },
   "outputs": [],
   "source": [
    "def sum_k_ck(beta, conj, imp):\n",
    "    # returns \\sum_{k}c_{k\\beta} or its conjugate\n",
    "    \n",
    "    ck = ([create(2), idt] if beta == 1 else [idt, create(2)]) if conj == 1 else ([destroy(2), idt] if beta == 1 else [idt, destroy(2)])\n",
    "    # variable conj is supposed to tell me whether i require \\sum_k c^\\dagger_k or \\sum_k c_k\n",
    "\n",
    "    init = [idt]*2*ins + [imp] + [idt]*2*ins\n",
    "    sum_over_k = 0\n",
    "    for k in list(range(0, 2*ins, 2)) + list(range(2*ins+1, 4*ins+1, 2)):\n",
    "        sum_over_k += tensor(init[:k] + ck + init[k+2:])\n",
    "#     sum_over_k = sum([tensor(init[:2*k] + ck + init[2*k+1:]) for k in range(2*ins)])\n",
    "\n",
    "#     num = 2 * ins\n",
    "#     for i in range(num):\n",
    "#         # outer loop shifts the position of k over all cloud momenta\n",
    "\n",
    "#         cur = 0\n",
    "#         for j in range(num):\n",
    "#             # inner loop creates the string for a particular k\n",
    "\n",
    "#             if i != j: # if not the particular k, fill with idt\n",
    "#                 cur = tensor(cur, idt, idt) if cur !=0 else tensor(idt, idt)\n",
    "#             elif beta == 1: \n",
    "#                 # otherwise, check if spin is up or down, up goes first, down goes second\n",
    "#                 cur = tensor(cur, ck, idt) if cur !=0 else tensor(ck, idt)\n",
    "#             else: \n",
    "#                 cur = tensor(cur, idt, ck) if cur !=0 else tensor(idt, ck)\n",
    "#         sum = cur if sum == 0 else sum + cur \n",
    "#     return sum\n",
    "    return sum_over_k"
   ]
  },
  {
   "cell_type": "markdown",
   "metadata": {
    "id": "bwkQ6TfTQaEV"
   },
   "source": [
    "### Creating first part of $\\eta$\n",
    "\n",
    "$$\n",
    "V \\left[\\lambda_2 \\hat n_{d\\overline\\beta} + \\lambda_1 \\left( 1 - \\hat n_{d \\overline \\beta} \\right)  \\right]c^\\dagger_{q\\beta}c_{d\\beta}\n",
    "$$\n",
    "or\n",
    "$$\n",
    "V^* \\left[\\lambda_1 \\hat n_{d \\overline \\beta} + \\lambda_2 \\left( 1 - \\hat n_{d \\overline \\beta} \\right)  \\right]c^\\dagger_{d\\beta}c_{q\\beta}\n",
    "$$"
   ]
  },
  {
   "cell_type": "code",
   "execution_count": 6,
   "metadata": {
    "id": "f0npIVqIQaEX"
   },
   "outputs": [],
   "source": [
    "def eta1(beta, conj, args):\n",
    "    c1, c2, c3, V, J, K = args\n",
    "    \n",
    "    c_q = cq(beta, conj)\n",
    "    # gets either c^\\dagger_{q\\beta}\\otimes identity(q\\ol\\beta), or c_{q\\beta}iden(q\\ol\\beta), depending on conj=\\pm 1\n",
    "\n",
    "    betaSdz = beta * 0.5 * (tensor(n, idt) - tensor(idt, n))\n",
    "    # gets \\beta S_d^z\n",
    "\n",
    "    cimp = create(2) if conj == -1 else destroy(2)\n",
    "    # impurity beta operator will be c_{d\\beta} if conj = 1 else c^\\dagger_{d\\beta}\n",
    "    \n",
    "    imp_part = [cimp, c2 * n + c1 * (1-n)] if beta == 1 else [c2 * n + c1 * (1-n), cimp]\n",
    "    # the full impurity part will be cimp \\otimes idt(2) if beta is up, else idt(2) \\otimes cimp,\n",
    "    # because up part comes first\n",
    "\n",
    "    cloud_imp_part = tensor([idt]*2*ins + imp_part + [idt]*2*ins)\n",
    "    # cloud electrons do not participate in this part of eta, hence just identities. \n",
    "    # (ins) is number of k states on one side of FS, *2 for both sides, another *2 for spin \n",
    "\n",
    "    if conj == 1:\n",
    "        return V * tensor(c_q, cloud_imp_part, identity(2), identity(2))\n",
    "    else:\n",
    "        return V * tensor(identity(2), identity(2), cloud_imp_part, c_q)\n",
    "    # if conj == 1 (if we are creating eta^dagger), then q is above the FS and eta_1 will be \n",
    "    # c^\\dagger_q \\otimes imp_part \\otimes cloud_part, otherwise it will be imp_part \\otimes cloud_part \\otimes c_q,\n",
    "    # because q will be below the FS"
   ]
  },
  {
   "cell_type": "markdown",
   "metadata": {
    "id": "3ozmH-O8QaEZ"
   },
   "source": [
    "### Creating second part of $\\eta$\n",
    "\n",
    "$$\n",
    "\\lambda_3 \\sum_{k} \\frac{J}{2}c^\\dagger_{q\\beta}\\left( S_d^z \\beta c_{k\\beta} + c^\\dagger_{d \\overline \\beta}c_{d\\beta}c_{k \\overline \\beta}\\right), \\text{ conj} == 1\n",
    "$$\n",
    "or\n",
    "$$\n",
    "\\lambda_3 \\sum_{k} \\frac{J}{2}\\left( S_d^z \\beta c^\\dagger_{k\\beta} + c^\\dagger_{d\\beta}c_{d \\overline \\beta}c^\\dagger_{k \\overline \\beta}\\right)c_{q\\beta}, \\text{ conj} == -1\n",
    "$$\n",
    "The impurity part can be written as\n",
    "$$\n",
    "\\text{imp-part} = \\begin{cases} c^\\dagger_{d\\uparrow}c_{d \\downarrow}, \\text{ if }\\beta \\neq \\text{conj} \\\\ -c_{d\\uparrow}c^\\dagger_{d \\downarrow}, \\text{ if }\\beta == \\text{conj} \\end{cases}\n",
    "$$\n",
    "Cloud part is $\\sum_k c_{k\\beta}(conj)$"
   ]
  },
  {
   "cell_type": "code",
   "execution_count": 7,
   "metadata": {
    "id": "kORcckGQQaEa"
   },
   "outputs": [],
   "source": [
    "def eta2(beta, conj, args):\n",
    "    c1, c2, c3, V, J, K = args\n",
    "    \n",
    "    betaSdz = beta * 0.5 * (tensor(n, idt) - tensor(idt, n))\n",
    "    # gets \\beta S_d^z\n",
    "        \n",
    "    c_q = cq(beta, conj)\n",
    "    # gets either c^\\dagger_{q\\beta}\\otimes identity(q\\ol\\beta), or c_{q\\beta}iden(q\\ol\\beta), depending on conj=\\pm 1\n",
    "\n",
    "    imp_part = -tensor(destroy(2), create(2)) if conj == beta else tensor(create(2), destroy(2))\n",
    "    \n",
    "    k_beta_1 = sum_k_ck(beta, -conj, betaSdz)\n",
    "    k_beta_bar_2 = sum_k_ck(-beta, -conj, imp_part)\n",
    "\n",
    "    if conj == 1:\n",
    "        return (c3 / 2) * J * (tensor(c_q, k_beta_1, identity(2), identity(2)) + tensor(c_q, k_beta_bar_2, identity(2), identity(2)))\n",
    "    else:\n",
    "        return (c3 / 2) * J * (tensor(identity(2), identity(2), k_beta_1.dag(), c_q) + tensor(identity(2), identity(2), k_beta_bar_2.dag(), c_q))"
   ]
  },
  {
   "cell_type": "markdown",
   "metadata": {
    "id": "F8G8ZrDuQaEb"
   },
   "source": [
    "### Creating third part of $\\eta$\n",
    "\n",
    "$$\n",
    "\\lambda_3 \\sum_{k} \\frac{K}{2}\\left( C^z_d c^\\dagger_{q\\beta}c_{k\\beta} + c^\\dagger_{q\\beta}c^\\dagger_{k \\overline \\beta}c_{d \\overline \\beta}c_{d\\beta} \\right)\n",
    "$$\n",
    "or\n",
    "$$\n",
    "\\lambda_3 \\sum_{k} \\frac{K}{2}\\left( C^z_d c^\\dagger_{k\\beta}c_{q\\beta} + c^\\dagger_{d\\beta}c^\\dagger_{d \\overline \\beta}c_{k \\overline \\beta}c_{q\\beta} \\right)\n",
    "$$\n",
    "Impurity part is\n",
    "$$\n",
    "\\text{imp-part} = \\begin{cases}-c_{d \\uparrow}c_{d \\downarrow}, \\beta = \\text{conj} = 1 \\\\\n",
    "c_{d \\uparrow}c_{d \\downarrow}, \\beta = -1, \\text{conj} = 1 \\\\\n",
    "c^\\dagger_{d \\uparrow}c^\\dagger_{d \\downarrow}, \\beta = 1, \\text{conj} = -1 \\\\\n",
    "-c^\\dagger_{d \\uparrow}c^\\dagger_{d \\downarrow}, \\beta = \\text{conj} = -1 \\end{cases} = -(\\beta \\times \\text{conj}) * (c_{d \\uparrow}c_{d \\downarrow})(conj)\n",
    "$$\n",
    "The cloud parts are\n",
    "$$\n",
    "\\sum_k(\\beta, -conj) \\text{ and }\\sum_k(-\\beta, conj)\n",
    "$$"
   ]
  },
  {
   "cell_type": "code",
   "execution_count": 8,
   "metadata": {
    "id": "DdqLFfQ9QaEd"
   },
   "outputs": [],
   "source": [
    "def eta3(beta, conj, args):\n",
    "    c1, c2, c3, V, J, K = args\n",
    "               \n",
    "    c_q = cq(beta, conj)\n",
    "    # gets either c^\\dagger_{q\\beta}\\otimes identity(q\\ol\\beta), or c_{q\\beta}iden(q\\ol\\beta), depending on conj=\\pm 1\n",
    "\n",
    "    imp_part = -beta*conj*(tensor(destroy(2), destroy(2)) if conj == 1 else tensor(create(2), create(2)))\n",
    "    \n",
    "    k_beta_1 = sum_k_ck(beta, -conj, Cdz)\n",
    "    k_beta_bar_2 = sum_k_ck(-beta, conj, imp_part)\n",
    "\n",
    "    if conj == 1:\n",
    "        return (c3 / 2) * K * (tensor(c_q, k_beta_1, identity(2), identity(2)) + tensor(c_q, k_beta_bar_2, identity(2), identity(2)))\n",
    "    else:\n",
    "        return (c3 / 2) * K * (tensor(identity(2), identity(2), k_beta_1.dag(), c_q) + tensor(identity(2), identity(2), k_beta_bar_2.dag(), c_q))"
   ]
  },
  {
   "cell_type": "code",
   "execution_count": 9,
   "metadata": {
    "id": "p-eYRPsQQaEe"
   },
   "outputs": [],
   "source": [
    "def rev_one_step(psi, out, ins, args=[1]*4):\n",
    "\n",
    "    Udag = 1/2\n",
    "    Upsi = psi/2\n",
    "    for conj, beta in product([1, -1], [1, -1]):   \n",
    "        # conj = 1 means eta dagger (q is above FS), conj = -1 means eta (q is below)\n",
    "\n",
    "        iom1 = 2*(out - 1) if conj == 1 else 2 * out\n",
    "        iom2 = 2*(out - 1) if conj == -1 else 2 * out\n",
    "        # iom1 == k states above the FS that are unchanged b4 & after this reverse RG step.\n",
    "        # If conj == 1, that means I am working with a q that's empty, so iom1 will lose 2 states (q up, q down).\n",
    "        # iom2 will lose two states if the electron being re-entangled is below FS, that is if conj == -1\n",
    "        U, J, K, V, D, w = args\n",
    "        \n",
    "        c1 = 1/(w - D/2 - U/2 + K/2)\n",
    "        c2 = 1/(w - D/2 + U/2 + J/2)\n",
    "        c3 = 1/(w - D/2 + K/4 + J/4)\n",
    "\n",
    "        args = (c1, c2, c3, V, J, K)\n",
    "        \n",
    "        eta_1 = eta1(beta, conj, args)\n",
    "        eta_2 = eta2(beta, conj, args)\n",
    "        eta_3 = eta3(beta, conj, args)\n",
    "#         print (eta_1)\n",
    "#         print (eta_2)\n",
    "#         print (eta_3)\n",
    "#         print (Upsi)\n",
    "        c = 1\n",
    "        for eta_beta_conj in [eta_1, eta_2, eta_3]:\n",
    "#             print (eta_beta_conj)\n",
    "#             print (psi)\n",
    "#             print (c)\n",
    "            c += 1\n",
    "#             for k in range(iom1):\n",
    "#                 eta_beta_conj = tensor(idt, eta_beta_conj)\n",
    "#             for k in range(iom2):\n",
    "#                 eta_beta_conj = tensor(eta_beta_conj, idt)\n",
    "            Upsi += 0.5 * eta_beta_conj(psi)\n",
    "#         eta_beta_conj = eta_3 + eta_2 + eta_1\n",
    "        # get eta for this value of beta and conf.\n",
    "        # For example, this is the eta for k=+1 and beta = up\n",
    "        \n",
    "        # add the iom identity parts\n",
    "#         for k in range(iom1):\n",
    "#             eta_beta_conj = tensor(idt, eta_beta_conj)\n",
    "#         for k in range(iom2):\n",
    "#             eta_beta_conj = tensor(eta_beta_conj, idt)\n",
    "#         # Udag += eta_beta_conj/2\n",
    "#         Upsi += 0.5 * eta_beta_conj(psi)\n",
    "        eta_beta_conj =  eta_1 = eta_2 = _eta_3 = []\n",
    "    \n",
    "    \n",
    "    # return Udag(psi)\n",
    "    return Upsi\n",
    "\n"
   ]
  },
  {
   "cell_type": "markdown",
   "metadata": {
    "id": "W88JSzy5QaEg"
   },
   "source": [
    "## Measures of Entanglement\n",
    "\n",
    "### Mutual Information\n",
    "\n",
    "$\n",
    "\\rho = \\text{density matrix} = \\ket{\\Psi}\\bra{\\Psi}\n",
    "$\n",
    ",\n",
    "$\n",
    "I(A:B) = S_A + S_B - S_{AB}\n",
    "$\n",
    ",\n",
    "$\n",
    "S_X = \\text{Tr}_X \\left[{\\rho}\\right]\n",
    "$"
   ]
  },
  {
   "cell_type": "code",
   "execution_count": 10,
   "metadata": {
    "id": "26Pii8aB2VVf"
   },
   "outputs": [],
   "source": [
    "def ptrace(psi, indices):\n",
    "    N = 4*(out + ins) + 2\n",
    "    bit = [basis(2, 0), basis(2, 1)]\n",
    "    # gen = [bit]*(a) + [[0]] + [bit]*(N-a-1)\n",
    "    gen = [bit] * N\n",
    "    for i in indices:\n",
    "        gen[i] = [identity(2)]\n",
    "    dm_a = 0\n",
    "    for term in tqdm(itertools.product(*gen), total=2**(N-2)):\n",
    "        base = tensor(*term)\n",
    "        bra = psi.dag() * base\n",
    "        dm_a += bra.dag() * bra\n",
    "    return dm_a\n"
   ]
  },
  {
   "cell_type": "code",
   "execution_count": 11,
   "metadata": {
    "id": "F1nt-q0bQaEh"
   },
   "outputs": [],
   "source": [
    "def mut_inf(psi, a, b):\n",
    "\n",
    "    \n",
    "    # rho = psi * psi.dag()\n",
    "    # rho_ab = rho.ptrace([a, b])\n",
    "    # rho_a = rho.ptrace(a)\n",
    "    # rho_b = rho.ptrace(b)\n",
    "\n",
    "    N = 4*(out + ins) + 2\n",
    "    bit = [basis(2, 0), basis(2, 1)]\n",
    "    gen = [[identity(2)]] * N\n",
    "    i = 0\n",
    "    while gen.count(bit) < N - 14:\n",
    "        if i not in (a,b):\n",
    "            gen[i] = bit\n",
    "        i += 1\n",
    "\n",
    "    gen[a] = [identity(2)]\n",
    "    gen[b] = [identity(2)]\n",
    "    tot = gen.count(bit)\n",
    "    if tot > 0:\n",
    "        rho_ab = 0\n",
    "        for term in tqdm(itertools.product(*gen), total=2**tot):\n",
    "            # base = tensor(*term)\n",
    "            bra = psi.dag() * tensor(*term)\n",
    "            rho_ab += bra.dag() * bra\n",
    "        a = 0 if a <= N - 14 - 1 else a - (N - 14)\n",
    "        b = 0 if b <= N - 14 - 1 else b - (N - 14)\n",
    "    else:\n",
    "        rho_ab = psi * psi.dag()\n",
    "    \n",
    "    rho_ab = rho_ab.ptrace([a,b])\n",
    "    rho_a = rho_ab.ptrace(int(a>b))\n",
    "    rho_b = rho_ab.ptrace(int(a<b))\n",
    "\n",
    "\n",
    "    S_a = entropy_vn(rho_a) \n",
    "    S_b = entropy_vn(rho_b)\n",
    "    S_ab = entropy_vn(rho_ab)\n",
    "\n",
    "    return S_a + S_b - S_ab"
   ]
  },
  {
   "cell_type": "code",
   "execution_count": 12,
   "metadata": {},
   "outputs": [],
   "source": [
    "def corr(psi):\n",
    "    # spin = tensor([idt]*(2*out + 2*ins - 1) + [n, idt, idt, n] + [idt]*(2*out + 2*ins - 1))\n",
    "    # # n_{1 down} n_{-1 up}\n",
    "\n",
    "    # charge = tensor([idt]*(2*out + 2*ins - 1) + [n, idt, idt, idt, n] + [idt]*(2*out + 2*ins - 2))\n",
    "    # # n_{1 dn} n_{-1 dn}\n",
    "\n",
    "    # off_diag_1 = tensor([idt]*(2*out + 2*ins - 1) + [create(2), idt, idt, destroy(2)] + [idt]*(2*out + 2*ins - 1))\n",
    "    # # c^\\dagger_{1 down}c_{-1 up}\n",
    "\n",
    "    # off_diag_2 = tensor([idt]*(2*out + 2*ins - 2) + [create(2), idt, idt, idt, destroy(2)] + [idt]*(2*out + 2*ins - 1))\n",
    "    # # c^\\dagger_{1 up}c_{-1 up}\n",
    "    \n",
    "    # off_diag_3 = tensor([idt]*(2*out + 2*ins - 2) + [create(2), create(2), idt, idt, destroy(2), destroy(2)] + [idt]*(2*out + 2*ins - 2))\n",
    "    # # c^\\dagger_{1 up} c^\\dagger_1 dn} c_{-1 up} c_{-1 dn}\n",
    "\n",
    "    off_diag_4 = tensor([idt]*(2*out + 2*ins + 2) + [create(2), create(2), destroy(2), destroy(2)] + [idt]*(2*out + 2*ins - 4))\n",
    "    # c^\\dagger_{-1 up} c^\\dagger_{-1 dn} c_{-2 up} c_{-2 dn}\n",
    "    \n",
    "    # c1 = np.real(psi.dag() * spin * psi)[0][0]\n",
    "    # c2 = np.real(psi.dag() * charge * psi)[0][0]\n",
    "    # c3 = np.real(psi.dag() * off_diag_1 * psi)[0][0]\n",
    "    # c4 = np.real(psi.dag() * off_diag_2 * psi)[0][0]\n",
    "    # c5 = np.real(psi.dag() * off_diag_3 * psi)[0][0]\n",
    "    # return [c1, c2, c3, c4]\n",
    "    return np.real(psi.dag() * off_diag_4 * psi)[0][0]"
   ]
  },
  {
   "cell_type": "code",
   "execution_count": 13,
   "metadata": {
    "colab": {
     "base_uri": "https://localhost:8080/"
    },
    "id": "v0md4tIeQaEi",
    "outputId": "c3233b65-5c6b-4ce5-bf06-548822512831"
   },
   "outputs": [
    {
     "output_type": "stream",
     "name": "stdout",
     "text": [
      "0\n"
     ]
    },
    {
     "output_type": "error",
     "ename": "NameError",
     "evalue": "name 'corrs' is not defined",
     "traceback": [
      "\u001b[0;31m---------------------------------------------------------------------------\u001b[0m",
      "\u001b[0;31mNameError\u001b[0m                                 Traceback (most recent call last)",
      "\u001b[0;32m<ipython-input-13-4f3c69beae60>\u001b[0m in \u001b[0;36m<module>\u001b[0;34m\u001b[0m\n\u001b[1;32m     70\u001b[0m     \u001b[0mcloud1up\u001b[0m \u001b[0;34m=\u001b[0m \u001b[0mimp_up\u001b[0m \u001b[0;34m-\u001b[0m \u001b[0;36m2\u001b[0m\u001b[0;34m\u001b[0m\u001b[0;34m\u001b[0m\u001b[0m\n\u001b[1;32m     71\u001b[0m     \u001b[0mcloud2up\u001b[0m \u001b[0;34m=\u001b[0m \u001b[0mimp_up\u001b[0m \u001b[0;34m+\u001b[0m \u001b[0;36m2\u001b[0m\u001b[0;34m\u001b[0m\u001b[0;34m\u001b[0m\u001b[0m\n\u001b[0;32m---> 72\u001b[0;31m     \u001b[0mcorrs\u001b[0m\u001b[0;34m.\u001b[0m\u001b[0mappend\u001b[0m\u001b[0;34m(\u001b[0m\u001b[0mcorr\u001b[0m\u001b[0;34m(\u001b[0m\u001b[0mpsi\u001b[0m\u001b[0;34m)\u001b[0m\u001b[0;34m)\u001b[0m\u001b[0;34m\u001b[0m\u001b[0;34m\u001b[0m\u001b[0m\n\u001b[0m\u001b[1;32m     73\u001b[0m     \u001b[0mprint\u001b[0m \u001b[0;34m(\u001b[0m\u001b[0mcorrs\u001b[0m\u001b[0;34m[\u001b[0m\u001b[0;34m-\u001b[0m\u001b[0;36m1\u001b[0m\u001b[0;34m]\u001b[0m\u001b[0;34m)\u001b[0m\u001b[0;34m\u001b[0m\u001b[0;34m\u001b[0m\u001b[0m\n\u001b[1;32m     74\u001b[0m \u001b[0;31m#     I1.append(mut_inf(psi, cloud1up, cloud2up))\u001b[0m\u001b[0;34m\u001b[0m\u001b[0;34m\u001b[0m\u001b[0;34m\u001b[0m\u001b[0m\n",
      "\u001b[0;31mNameError\u001b[0m: name 'corrs' is not defined"
     ]
    }
   ],
   "source": [
    "from tqdm import tqdm\n",
    "from multiprocessing import Pool\n",
    "\n",
    "out = 1\n",
    "# no of momenta states outside cloud, on each side of FS\n",
    "\n",
    "ins = 1\n",
    "# no of momenta states inside cloud, on each side of FS\n",
    "\n",
    "lastup = 0\n",
    "# position of the last electron to get recoupled\n",
    "\n",
    "imp_up = 2 * (ins + out) \n",
    "imp_down = imp_up + 1\n",
    "\n",
    "cloud1up = imp_up - 2\n",
    "cloud2up = imp_up + 2\n",
    "# positions of the innermost cloud electrons\n",
    "\n",
    "U =  [0, 0, 0, 0, 0, 0, 0.4335012857596981]\n",
    "J =  [41.65137072728905, 7.421985528256318, 3.0764876297977835, 1.7632993761561673, 1.1893810568831, 0.8818478505045518, 0.6946383568070326]\n",
    "K =  [0.11014854383139917, 0.10349303670420885, 0.09899373972501821, 0.09516847820969296, 0.09175302137185129, 0.08864547352971129, 0.08578996582056872]\n",
    "V =  [698.7912946938286, 56.013376355019446, 16.783149824539997, 7.729738695156247, 4.4289952117072, 2.887478398100373, 2.033462108444947]\n",
    "count =  [1, 2, 3, 4, 5, 6, 7]\n",
    "D =  [0.1, 0.2, 0.3, 0.4, 0.5, 0.6, 0.7]\n",
    "\n",
    "# U =  [0, 0, 0, 2.903671720911781, 3.227607510088996, 3.011643496163671]\n",
    "# J =  [41.65137072728905, 7.421985528256318, 3.0764876297977835, 1.7632993761561673, 1.1893810568831, 0.8818478505045518]\n",
    "# K =  [0.11014854383139917, 0.10349303670420885, 0.09899373972501821, 0.09516847820969296, 0.09175302137185129, 0.08864547352971129]\n",
    "# V =  [698.7912946938286, 56.013376355019446, 16.783149824539997, 7.729738695156247, 4.4289952117072, 2.887478398100373]\n",
    "# count =  [1, 2, 3, 4, 5, 6]\n",
    "# D =  [0.1, 0.2, 0.3, 0.4, 0.5, 0.6]\n",
    "\n",
    "\n",
    "w = -D[0]\n",
    "j = J[0] * count[0]\n",
    "k = K[0] * count[0]\n",
    "v = V[0] * sqrt(count[0])\n",
    "gamma = (3*j + k + 2*U[0])/(8*v)\n",
    "csm = sqrt(sqrt(gamma**2 + 4) + gamma)\n",
    "ccm = -sqrt(sqrt(gamma**2 + 4) - gamma)\n",
    "\n",
    "iom_above = tensor([basis(2,0)] * 2 * out)\n",
    "iom_below = tensor([basis(2,1)] * 2 * out)\n",
    "psi = tensor(iom_above, get_cloud(csm, ccm), iom_below).unit()\n",
    "\n",
    "# I1 = [mut_inf(psi, cloud1up, cloud2up)]\n",
    "# print (\"I1:\",I1[-1])\n",
    "# mutual information between two electrons inside the cloud, of same spin\n",
    "\n",
    "# I2 = [mut_inf(psi, lastup, cloud1up)]\n",
    "# print (I2[-1])\n",
    "# mutual information between the innermost and outermost electron\n",
    "\n",
    "# I3 = [mut_inf(psi, imp_up, cloud1up)]\n",
    "# print (\"I3:\",I3[-1])\n",
    "# mutual information between the innermost up and impurity up electrons\n",
    "\n",
    "# corrs = [corr(psi)]\n",
    "corrs = []\n",
    "for i in range(6):\n",
    "    # print (corrs[-1])\n",
    "    print (i)\n",
    "    args = (U[i+1], J[i+1], K[i+1], V[i+1], D[i+1], w)\n",
    "    psi = rev_one_step(psi, out, ins, args).unit()\n",
    "    out -= 1\n",
    "    ins += 1\n",
    "    imp_up = 2 * (ins + out) \n",
    "    imp_down = imp_up + 1\n",
    "    cloud1up = imp_up - 2\n",
    "    cloud2up = imp_up + 2\n",
    "    corrs.append(corr(psi))\n",
    "    print (corrs[-1])\n",
    "#     I1.append(mut_inf(psi, cloud1up, cloud2up))\n",
    "#     print (\"I1:\",I1[-1])\n",
    "#     I2.append(mut_inf(psi, lastup, cloud1up))\n",
    "#     print (I3[-1])\n",
    "#     I3.append(mut_inf(psi, imp_up, cloud1up))\n",
    "#     print (\"I3:\",I3[-1])\n",
    "    out += 1\n",
    "    psi = tensor(basis(2, 0), basis(2, 0), psi, basis(2, 1), basis(2, 1))\n",
    "\n",
    "print (\"c1 = \", [c[0] for c in corrs])\n",
    "print (\"c2 = \", [c[1] for c in corrs])\n",
    "print (\"c3 = \", [c[2] for c in corrs])\n",
    "print (\"c4 = \", [c[3] for c in corrs])\n",
    "# I1 = mut_inf(psi, cloud1up, cloud2up)\n",
    "# print (I1)\n",
    "# print (I3)\n",
    "# print (I3)"
   ]
  },
  {
   "cell_type": "code",
   "execution_count": 33,
   "metadata": {
    "id": "y4DN_HPJQaEl"
   },
   "outputs": [
    {
     "output_type": "display_data",
     "data": {
      "text/plain": "<Figure size 720x648 with 6 Axes>",
      "image/svg+xml": "<?xml version=\"1.0\" encoding=\"utf-8\" standalone=\"no\"?>\n<!DOCTYPE svg PUBLIC \"-//W3C//DTD SVG 1.1//EN\"\n  \"http://www.w3.org/Graphics/SVG/1.1/DTD/svg11.dtd\">\n<!-- Created with matplotlib (https://matplotlib.org/) -->\n<svg height=\"625.68pt\" version=\"1.1\" viewBox=\"0 0 697.68 625.68\" width=\"697.68pt\" xmlns=\"http://www.w3.org/2000/svg\" xmlns:xlink=\"http://www.w3.org/1999/xlink\">\n <metadata>\n  <rdf:RDF xmlns:cc=\"http://creativecommons.org/ns#\" xmlns:dc=\"http://purl.org/dc/elements/1.1/\" xmlns:rdf=\"http://www.w3.org/1999/02/22-rdf-syntax-ns#\">\n   <cc:Work>\n    <dc:type rdf:resource=\"http://purl.org/dc/dcmitype/StillImage\"/>\n    <dc:date>2021-05-30T18:19:48.297325</dc:date>\n    <dc:format>image/svg+xml</dc:format>\n    <dc:creator>\n     <cc:Agent>\n      <dc:title>Matplotlib v3.3.4, https://matplotlib.org/</dc:title>\n     </cc:Agent>\n    </dc:creator>\n   </cc:Work>\n  </rdf:RDF>\n </metadata>\n <defs>\n  <style type=\"text/css\">*{stroke-linecap:butt;stroke-linejoin:round;}</style>\n </defs>\n <g id=\"figure_1\">\n  <g id=\"patch_1\">\n   <path d=\"M 0 625.68 \nL 697.68 625.68 \nL 697.68 0 \nL 0 0 \nz\n\" style=\"fill:none;\"/>\n  </g>\n  <g id=\"axes_1\">\n   <g id=\"patch_2\">\n    <path d=\"M 77.662197 166.728657 \nL 331.892619 166.728657 \nL 331.892619 7.2 \nL 77.662197 7.2 \nz\n\" style=\"fill:#ffffff;\"/>\n   </g>\n   <g id=\"matplotlib.axis_1\">\n    <g id=\"xtick_1\">\n     <g id=\"line2d_1\">\n      <path clip-path=\"url(#p2e64f702b9)\" d=\"M 89.218126 166.728657 \nL 89.218126 7.2 \n\" style=\"fill:none;stroke:#b0b0b0;stroke-linecap:square;stroke-width:0.8;\"/>\n     </g>\n     <g id=\"line2d_2\">\n      <defs>\n       <path d=\"M 0 0 \nL 0 3.5 \n\" id=\"m5b1aa0e5d9\" style=\"stroke:#000000;stroke-width:0.8;\"/>\n      </defs>\n      <g>\n       <use style=\"stroke:#000000;stroke-width:0.8;\" x=\"89.218126\" xlink:href=\"#m5b1aa0e5d9\" y=\"166.728657\"/>\n      </g>\n     </g>\n     <g id=\"text_1\">\n      <!-- $\\mathdefault{0}$ -->\n      <g transform=\"translate(85.334435 185.490109)scale(0.17 -0.17)\">\n       <defs>\n        <path d=\"M 42 31.84375 \nC 42 37.96875 41.90625 48.421875 37.703125 56.453125 \nC 34 63.484375 28.09375 66 22.90625 66 \nC 18.09375 66 12 63.78125 8.203125 56.5625 \nC 4.203125 49.015625 3.796875 39.671875 3.796875 31.84375 \nC 3.796875 26.109375 3.90625 17.375 7 9.734375 \nC 11.296875 -0.609375 19 -2 22.90625 -2 \nC 27.5 -2 34.5 -0.109375 38.59375 9.4375 \nC 41.59375 16.375 42 24.5 42 31.84375 \nz\nM 22.90625 -0.40625 \nC 16.5 -0.40625 12.703125 5.125 11.296875 12.75 \nC 10.203125 18.6875 10.203125 27.328125 10.203125 32.953125 \nC 10.203125 40.6875 10.203125 47.109375 11.5 53.234375 \nC 13.40625 61.78125 19 64.390625 22.90625 64.390625 \nC 27 64.390625 32.296875 61.671875 34.203125 53.4375 \nC 35.5 47.71875 35.59375 40.984375 35.59375 32.953125 \nC 35.59375 26.421875 35.59375 18.375 34.40625 12.453125 \nC 32.296875 1.5 26.40625 -0.40625 22.90625 -0.40625 \nz\n\" id=\"CMR17-48\"/>\n       </defs>\n       <use transform=\"scale(0.996264)\" xlink:href=\"#CMR17-48\"/>\n      </g>\n     </g>\n    </g>\n    <g id=\"xtick_2\">\n     <g id=\"line2d_3\">\n      <path clip-path=\"url(#p2e64f702b9)\" d=\"M 181.665552 166.728657 \nL 181.665552 7.2 \n\" style=\"fill:none;stroke:#b0b0b0;stroke-linecap:square;stroke-width:0.8;\"/>\n     </g>\n     <g id=\"line2d_4\">\n      <g>\n       <use style=\"stroke:#000000;stroke-width:0.8;\" x=\"181.665552\" xlink:href=\"#m5b1aa0e5d9\" y=\"166.728657\"/>\n      </g>\n     </g>\n     <g id=\"text_2\">\n      <!-- $\\mathdefault{2}$ -->\n      <g transform=\"translate(177.781861 185.490109)scale(0.17 -0.17)\">\n       <defs>\n        <path d=\"M 41.703125 15.46875 \nL 39.90625 15.46875 \nC 38.90625 8.390625 38.09375 7.1875 37.703125 6.59375 \nC 37.203125 5.796875 30 5.796875 28.59375 5.796875 \nL 9.40625 5.796875 \nC 13 9.6875 20 16.765625 28.5 24.9375 \nC 34.59375 30.71875 41.703125 37.5 41.703125 47.390625 \nC 41.703125 59.1875 32.296875 66 21.796875 66 \nC 10.796875 66 4.09375 56.296875 4.09375 47.296875 \nC 4.09375 43.390625 7 42.890625 8.203125 42.890625 \nC 9.203125 42.890625 12.203125 43.484375 12.203125 46.984375 \nC 12.203125 50.09375 9.59375 51 8.203125 51 \nC 7.59375 51 7 50.890625 6.59375 50.6875 \nC 8.5 59.1875 14.296875 63.390625 20.40625 63.390625 \nC 29.09375 63.390625 34.796875 56.5 34.796875 47.390625 \nC 34.796875 38.703125 29.703125 31.21875 24 24.734375 \nL 4.09375 2.296875 \nL 4.09375 0 \nL 39.296875 0 \nz\n\" id=\"CMR17-50\"/>\n       </defs>\n       <use transform=\"scale(0.996264)\" xlink:href=\"#CMR17-50\"/>\n      </g>\n     </g>\n    </g>\n    <g id=\"xtick_3\">\n     <g id=\"line2d_5\">\n      <path clip-path=\"url(#p2e64f702b9)\" d=\"M 274.112978 166.728657 \nL 274.112978 7.2 \n\" style=\"fill:none;stroke:#b0b0b0;stroke-linecap:square;stroke-width:0.8;\"/>\n     </g>\n     <g id=\"line2d_6\">\n      <g>\n       <use style=\"stroke:#000000;stroke-width:0.8;\" x=\"274.112978\" xlink:href=\"#m5b1aa0e5d9\" y=\"166.728657\"/>\n      </g>\n     </g>\n     <g id=\"text_3\">\n      <!-- $\\mathdefault{4}$ -->\n      <g transform=\"translate(270.229287 185.490109)scale(0.17 -0.17)\">\n       <defs>\n        <path d=\"M 33.59375 64.796875 \nC 33.59375 66.890625 33.5 67 31.703125 67 \nL 2 19.59375 \nL 2 17 \nL 27.796875 17 \nL 27.796875 7.1875 \nC 27.796875 3.59375 27.59375 2.59375 20.59375 2.59375 \nL 18.703125 2.59375 \nL 18.703125 0 \nC 21.90625 0.1875 27.296875 0.1875 30.703125 0.1875 \nC 34.09375 0.1875 39.5 0.1875 42.703125 0 \nL 42.703125 2.59375 \nL 40.796875 2.59375 \nC 33.796875 2.59375 33.59375 3.59375 33.59375 7.1875 \nL 33.59375 17 \nL 43.796875 17 \nL 43.796875 19.59375 \nL 33.59375 19.59375 \nz\nM 28.09375 58.171875 \nL 28.09375 19.59375 \nL 4 19.59375 \nz\n\" id=\"CMR17-52\"/>\n       </defs>\n       <use transform=\"scale(0.996264)\" xlink:href=\"#CMR17-52\"/>\n      </g>\n     </g>\n    </g>\n   </g>\n   <g id=\"matplotlib.axis_2\">\n    <g id=\"ytick_1\">\n     <g id=\"line2d_7\">\n      <path clip-path=\"url(#p2e64f702b9)\" d=\"M 77.662197 112.664225 \nL 331.892619 112.664225 \n\" style=\"fill:none;stroke:#b0b0b0;stroke-linecap:square;stroke-width:0.8;\"/>\n     </g>\n     <g id=\"line2d_8\">\n      <defs>\n       <path d=\"M 0 0 \nL -3.5 0 \n\" id=\"mfcdaad7ab6\" style=\"stroke:#000000;stroke-width:0.8;\"/>\n      </defs>\n      <g>\n       <use style=\"stroke:#000000;stroke-width:0.8;\" x=\"77.662197\" xlink:href=\"#mfcdaad7ab6\" y=\"112.664225\"/>\n      </g>\n     </g>\n     <g id=\"text_4\">\n      <!-- $\\mathdefault{0.4}$ -->\n      <g transform=\"translate(50.520915 118.544951)scale(0.17 -0.17)\">\n       <defs>\n        <path d=\"M 18.40625 4.796875 \nC 18.40625 7.6875 16 9.6875 13.59375 9.6875 \nC 10.703125 9.6875 8.703125 7.296875 8.703125 4.890625 \nC 8.703125 2 11.09375 0 13.5 0 \nC 16.40625 0 18.40625 2.390625 18.40625 4.796875 \nz\n\" id=\"CMMI12-58\"/>\n       </defs>\n       <use transform=\"scale(0.996264)\" xlink:href=\"#CMR17-48\"/>\n       <use transform=\"translate(45.690477 0)scale(0.996264)\" xlink:href=\"#CMMI12-58\"/>\n       <use transform=\"translate(72.787654 0)scale(0.996264)\" xlink:href=\"#CMR17-52\"/>\n      </g>\n     </g>\n    </g>\n    <g id=\"ytick_2\">\n     <g id=\"line2d_9\">\n      <path clip-path=\"url(#p2e64f702b9)\" d=\"M 77.662197 45.658346 \nL 331.892619 45.658346 \n\" style=\"fill:none;stroke:#b0b0b0;stroke-linecap:square;stroke-width:0.8;\"/>\n     </g>\n     <g id=\"line2d_10\">\n      <g>\n       <use style=\"stroke:#000000;stroke-width:0.8;\" x=\"77.662197\" xlink:href=\"#mfcdaad7ab6\" y=\"45.658346\"/>\n      </g>\n     </g>\n     <g id=\"text_5\">\n      <!-- $\\mathdefault{0.6}$ -->\n      <g transform=\"translate(50.520915 51.539072)scale(0.17 -0.17)\">\n       <defs>\n        <path d=\"M 10.59375 34.34375 \nC 10.59375 58 21.796875 63.6875 28.296875 63.6875 \nC 30.40625 63.6875 35.5 63.265625 37.5 59.09375 \nC 35.90625 59.09375 32.90625 59.09375 32.90625 55.59375 \nC 32.90625 52.890625 35.09375 52 36.5 52 \nC 37.40625 52 40.09375 52.390625 40.09375 55.796875 \nC 40.09375 62.296875 35.09375 66 28.203125 66 \nC 16.296875 66 3.796875 53.296875 3.796875 31.421875 \nC 3.796875 4.015625 15.09375 -2 23.09375 -2 \nC 32.796875 -2 42 6.734375 42 20.234375 \nC 42 32.828125 33.90625 42 23.703125 42 \nC 17.59375 42 13.09375 37.96875 10.59375 30.921875 \nz\nM 23.09375 0.390625 \nC 10.796875 0.390625 10.796875 18.9375 10.796875 22.65625 \nC 10.796875 29.90625 14.203125 40.390625 23.5 40.390625 \nC 25.203125 40.390625 30.09375 40.390625 33.40625 33.4375 \nC 35.203125 29.515625 35.203125 25.375 35.203125 20.34375 \nC 35.203125 14.90625 35.203125 10.875 33.09375 6.84375 \nC 30.90625 2.703125 27.703125 0.390625 23.09375 0.390625 \nz\n\" id=\"CMR17-54\"/>\n       </defs>\n       <use transform=\"scale(0.996264)\" xlink:href=\"#CMR17-48\"/>\n       <use transform=\"translate(45.690477 0)scale(0.996264)\" xlink:href=\"#CMMI12-58\"/>\n       <use transform=\"translate(72.787654 0)scale(0.996264)\" xlink:href=\"#CMR17-54\"/>\n      </g>\n     </g>\n    </g>\n    <g id=\"text_6\">\n     <!-- I:cloud-cloud -->\n     <g transform=\"translate(43.226628 129.224881)rotate(-90)scale(0.17 -0.17)\">\n      <defs>\n       <path d=\"M 17.09375 69 \nL 8.703125 69 \nL 8.703125 0 \nL 17.09375 0 \nz\n\" id=\"CMSS17-73\"/>\n       <path d=\"M 17 43 \nL 9 43 \nL 9 34.984375 \nL 17 34.984375 \nz\nM 9 8 \nL 9 0 \nL 17 0 \nL 17 8 \nz\n\" id=\"CMSS17-58\"/>\n       <path d=\"M 38.5 39.6875 \nC 38.5 40.390625 33.90625 42.390625 32.703125 42.796875 \nC 29.40625 44 25.203125 44 24.09375 44 \nC 11.09375 44 3.296875 32.6875 3.296875 21.296875 \nC 3.296875 9.296875 12 -1 23.703125 -1 \nC 30.40625 -1 35.203125 1.1875 39.09375 3.796875 \nL 38.5 10.390625 \nC 34.203125 7.09375 29.203125 5.296875 23.796875 5.296875 \nC 16 5.296875 10.90625 12.09375 10.90625 21.390625 \nC 10.90625 28.59375 14.203125 37.6875 24.203125 37.6875 \nC 29.703125 37.6875 32.796875 36.59375 37.40625 33.484375 \nz\n\" id=\"CMSS17-99\"/>\n       <path d=\"M 14.796875 69 \nL 7.40625 69 \nL 7.40625 0 \nL 14.796875 0 \nz\n\" id=\"CMSS17-108\"/>\n       <path d=\"M 44.203125 21.1875 \nC 44.203125 33.984375 34.703125 44 23.5 44 \nC 12 44 2.703125 33.6875 2.703125 21.1875 \nC 2.703125 8.5 12.296875 -1 23.40625 -1 \nC 34.796875 -1 44.203125 8.796875 44.203125 21.1875 \nz\nM 23.5 5.296875 \nC 16.40625 5.296875 10.296875 11.09375 10.296875 21.984375 \nC 10.296875 33.59375 17.40625 37.890625 23.40625 37.890625 \nC 29.90625 37.890625 36.59375 33.1875 36.59375 21.984375 \nC 36.59375 10.6875 30.09375 5.296875 23.5 5.296875 \nz\n\" id=\"CMSS17-111\"/>\n       <path d=\"M 40.90625 43 \nL 33.296875 43 \nL 33.296875 15.25 \nC 33.296875 7.8125 27.90625 4.796875 22.203125 4.796875 \nC 15.59375 4.796875 15 7 15 11.125 \nL 15 43 \nL 7.40625 43 \nL 7.40625 10.625 \nC 7.40625 2.796875 10.09375 -1 17 -1 \nC 20.40625 -1 28.09375 -0.203125 33.5 4.796875 \nL 33.5 -0.203125 \nL 40.90625 -0.203125 \nz\n\" id=\"CMSS17-117\"/>\n       <path d=\"M 40.796875 69 \nL 33.40625 69 \nL 33.40625 38.984375 \nC 30.296875 41.59375 25.203125 44 19.59375 44 \nC 10.5 44 3.296875 34.046875 3.296875 21.484375 \nC 3.296875 8.9375 10.40625 -1 19.296875 -1 \nC 26.203125 -1 30.796875 2.6875 33.203125 4.796875 \nL 33.203125 -0.203125 \nL 40.796875 -0.203125 \nz\nM 33.203125 13.296875 \nC 33.203125 11.875 33.203125 10.359375 30.09375 7.625 \nC 28.09375 5.90625 25.703125 5.09375 23.40625 5.09375 \nC 18 5.09375 10.90625 9.140625 10.90625 21.390625 \nC 10.90625 34.140625 18.90625 37.890625 24.40625 37.890625 \nC 28.09375 37.890625 31.09375 36.0625 33.203125 33.03125 \nz\n\" id=\"CMSS17-100\"/>\n       <path d=\"M 26 19 \nL 26 24.796875 \nL 1 24.796875 \nL 1 19 \nz\n\" id=\"CMSS17-45\"/>\n      </defs>\n      <use transform=\"scale(0.996264)\" xlink:href=\"#CMSS17-73\"/>\n      <use transform=\"translate(25.783926 0)scale(0.996264)\" xlink:href=\"#CMSS17-58\"/>\n      <use transform=\"translate(51.80813 0)scale(0.996264)\" xlink:href=\"#CMSS17-99\"/>\n      <use transform=\"translate(93.446952 0)scale(0.996264)\" xlink:href=\"#CMSS17-108\"/>\n      <use transform=\"translate(115.627676 0)scale(0.996264)\" xlink:href=\"#CMSS17-111\"/>\n      <use transform=\"translate(162.471299 0)scale(0.996264)\" xlink:href=\"#CMSS17-117\"/>\n      <use transform=\"translate(210.676242 0)scale(0.996264)\" xlink:href=\"#CMSS17-100\"/>\n      <use transform=\"translate(258.881185 0)scale(0.996264)\" xlink:href=\"#CMSS17-45\"/>\n      <use transform=\"translate(290.110298 0)scale(0.996264)\" xlink:href=\"#CMSS17-99\"/>\n      <use transform=\"translate(331.74912 0)scale(0.996264)\" xlink:href=\"#CMSS17-108\"/>\n      <use transform=\"translate(353.929843 0)scale(0.996264)\" xlink:href=\"#CMSS17-111\"/>\n      <use transform=\"translate(400.773467 0)scale(0.996264)\" xlink:href=\"#CMSS17-117\"/>\n      <use transform=\"translate(448.97841 0)scale(0.996264)\" xlink:href=\"#CMSS17-100\"/>\n     </g>\n    </g>\n   </g>\n   <g id=\"line2d_11\">\n    <path clip-path=\"url(#p2e64f702b9)\" d=\"M 89.218126 14.451303 \nL 135.441839 78.223379 \nL 181.665552 98.301252 \nL 227.889265 117.192634 \nL 274.112978 159.477355 \nL 320.336691 158.181619 \n\" style=\"fill:none;stroke:#1f77b4;stroke-linecap:square;stroke-width:2;\"/>\n   </g>\n   <g id=\"patch_3\">\n    <path d=\"M 77.662197 166.728657 \nL 77.662197 7.2 \n\" style=\"fill:none;stroke:#000000;stroke-linecap:square;stroke-linejoin:miter;stroke-width:0.8;\"/>\n   </g>\n   <g id=\"patch_4\">\n    <path d=\"M 331.892619 166.728657 \nL 331.892619 7.2 \n\" style=\"fill:none;stroke:#000000;stroke-linecap:square;stroke-linejoin:miter;stroke-width:0.8;\"/>\n   </g>\n   <g id=\"patch_5\">\n    <path d=\"M 77.662197 166.728657 \nL 331.892619 166.728657 \n\" style=\"fill:none;stroke:#000000;stroke-linecap:square;stroke-linejoin:miter;stroke-width:0.8;\"/>\n   </g>\n   <g id=\"patch_6\">\n    <path d=\"M 77.662197 7.2 \nL 331.892619 7.2 \n\" style=\"fill:none;stroke:#000000;stroke-linecap:square;stroke-linejoin:miter;stroke-width:0.8;\"/>\n   </g>\n  </g>\n  <g id=\"axes_2\">\n   <g id=\"patch_7\">\n    <path d=\"M 436.249579 166.728657 \nL 690.48 166.728657 \nL 690.48 7.2 \nL 436.249579 7.2 \nz\n\" style=\"fill:#ffffff;\"/>\n   </g>\n   <g id=\"matplotlib.axis_3\">\n    <g id=\"xtick_4\">\n     <g id=\"line2d_12\">\n      <path clip-path=\"url(#pb7c834e3c0)\" d=\"M 447.805507 166.728657 \nL 447.805507 7.2 \n\" style=\"fill:none;stroke:#b0b0b0;stroke-linecap:square;stroke-width:0.8;\"/>\n     </g>\n     <g id=\"line2d_13\">\n      <g>\n       <use style=\"stroke:#000000;stroke-width:0.8;\" x=\"447.805507\" xlink:href=\"#m5b1aa0e5d9\" y=\"166.728657\"/>\n      </g>\n     </g>\n     <g id=\"text_7\">\n      <!-- $\\mathdefault{0}$ -->\n      <g transform=\"translate(443.921816 185.490109)scale(0.17 -0.17)\">\n       <use transform=\"scale(0.996264)\" xlink:href=\"#CMR17-48\"/>\n      </g>\n     </g>\n    </g>\n    <g id=\"xtick_5\">\n     <g id=\"line2d_14\">\n      <path clip-path=\"url(#pb7c834e3c0)\" d=\"M 540.252933 166.728657 \nL 540.252933 7.2 \n\" style=\"fill:none;stroke:#b0b0b0;stroke-linecap:square;stroke-width:0.8;\"/>\n     </g>\n     <g id=\"line2d_15\">\n      <g>\n       <use style=\"stroke:#000000;stroke-width:0.8;\" x=\"540.252933\" xlink:href=\"#m5b1aa0e5d9\" y=\"166.728657\"/>\n      </g>\n     </g>\n     <g id=\"text_8\">\n      <!-- $\\mathdefault{2}$ -->\n      <g transform=\"translate(536.369242 185.490109)scale(0.17 -0.17)\">\n       <use transform=\"scale(0.996264)\" xlink:href=\"#CMR17-50\"/>\n      </g>\n     </g>\n    </g>\n    <g id=\"xtick_6\">\n     <g id=\"line2d_16\">\n      <path clip-path=\"url(#pb7c834e3c0)\" d=\"M 632.700359 166.728657 \nL 632.700359 7.2 \n\" style=\"fill:none;stroke:#b0b0b0;stroke-linecap:square;stroke-width:0.8;\"/>\n     </g>\n     <g id=\"line2d_17\">\n      <g>\n       <use style=\"stroke:#000000;stroke-width:0.8;\" x=\"632.700359\" xlink:href=\"#m5b1aa0e5d9\" y=\"166.728657\"/>\n      </g>\n     </g>\n     <g id=\"text_9\">\n      <!-- $\\mathdefault{4}$ -->\n      <g transform=\"translate(628.816668 185.490109)scale(0.17 -0.17)\">\n       <use transform=\"scale(0.996264)\" xlink:href=\"#CMR17-52\"/>\n      </g>\n     </g>\n    </g>\n   </g>\n   <g id=\"matplotlib.axis_4\">\n    <g id=\"ytick_3\">\n     <g id=\"line2d_18\">\n      <path clip-path=\"url(#pb7c834e3c0)\" d=\"M 436.249579 159.852219 \nL 690.48 159.852219 \n\" style=\"fill:none;stroke:#b0b0b0;stroke-linecap:square;stroke-width:0.8;\"/>\n     </g>\n     <g id=\"line2d_19\">\n      <g>\n       <use style=\"stroke:#000000;stroke-width:0.8;\" x=\"436.249579\" xlink:href=\"#mfcdaad7ab6\" y=\"159.852219\"/>\n      </g>\n     </g>\n     <g id=\"text_10\">\n      <!-- $\\mathdefault{0.0}$ -->\n      <g transform=\"translate(409.108296 165.732945)scale(0.17 -0.17)\">\n       <use transform=\"scale(0.996264)\" xlink:href=\"#CMR17-48\"/>\n       <use transform=\"translate(45.690477 0)scale(0.996264)\" xlink:href=\"#CMMI12-58\"/>\n       <use transform=\"translate(72.787654 0)scale(0.996264)\" xlink:href=\"#CMR17-48\"/>\n      </g>\n     </g>\n    </g>\n    <g id=\"ytick_4\">\n     <g id=\"line2d_20\">\n      <path clip-path=\"url(#pb7c834e3c0)\" d=\"M 436.249579 101.033966 \nL 690.48 101.033966 \n\" style=\"fill:none;stroke:#b0b0b0;stroke-linecap:square;stroke-width:0.8;\"/>\n     </g>\n     <g id=\"line2d_21\">\n      <g>\n       <use style=\"stroke:#000000;stroke-width:0.8;\" x=\"436.249579\" xlink:href=\"#mfcdaad7ab6\" y=\"101.033966\"/>\n      </g>\n     </g>\n     <g id=\"text_11\">\n      <!-- $\\mathdefault{0.1}$ -->\n      <g transform=\"translate(409.108296 106.914692)scale(0.17 -0.17)\">\n       <defs>\n        <path d=\"M 26.59375 63.796875 \nC 26.59375 65.890625 26.5 66 25.09375 66 \nC 21.203125 61.359375 15.296875 59.890625 9.703125 59.6875 \nC 9.40625 59.6875 8.90625 59.6875 8.796875 59.5 \nC 8.703125 59.296875 8.703125 59.09375 8.703125 57 \nC 11.796875 57 17 57.59375 21 59.984375 \nL 21 7.296875 \nC 21 3.796875 20.796875 2.59375 12.203125 2.59375 \nL 9.203125 2.59375 \nL 9.203125 0 \nC 14 0.09375 19 0.1875 23.796875 0.1875 \nC 28.59375 0.1875 33.59375 0.09375 38.40625 0 \nL 38.40625 2.59375 \nL 35.40625 2.59375 \nC 26.796875 2.59375 26.59375 3.6875 26.59375 7.296875 \nz\n\" id=\"CMR17-49\"/>\n       </defs>\n       <use transform=\"scale(0.996264)\" xlink:href=\"#CMR17-48\"/>\n       <use transform=\"translate(45.690477 0)scale(0.996264)\" xlink:href=\"#CMMI12-58\"/>\n       <use transform=\"translate(72.787654 0)scale(0.996264)\" xlink:href=\"#CMR17-49\"/>\n      </g>\n     </g>\n    </g>\n    <g id=\"ytick_5\">\n     <g id=\"line2d_22\">\n      <path clip-path=\"url(#pb7c834e3c0)\" d=\"M 436.249579 42.215714 \nL 690.48 42.215714 \n\" style=\"fill:none;stroke:#b0b0b0;stroke-linecap:square;stroke-width:0.8;\"/>\n     </g>\n     <g id=\"line2d_23\">\n      <g>\n       <use style=\"stroke:#000000;stroke-width:0.8;\" x=\"436.249579\" xlink:href=\"#mfcdaad7ab6\" y=\"42.215714\"/>\n      </g>\n     </g>\n     <g id=\"text_12\">\n      <!-- $\\mathdefault{0.2}$ -->\n      <g transform=\"translate(409.108296 48.09644)scale(0.17 -0.17)\">\n       <use transform=\"scale(0.996264)\" xlink:href=\"#CMR17-48\"/>\n       <use transform=\"translate(45.690477 0)scale(0.996264)\" xlink:href=\"#CMMI12-58\"/>\n       <use transform=\"translate(72.787654 0)scale(0.996264)\" xlink:href=\"#CMR17-50\"/>\n      </g>\n     </g>\n    </g>\n    <g id=\"text_13\">\n     <!-- $&lt;n_{1 \\downarrow} n_ {-1 \\uparrow}&gt;$ -->\n     <g transform=\"translate(400.262622 131.430371)rotate(-90)scale(0.17 -0.17)\">\n      <defs>\n       <path d=\"M 65.90625 48.96875 \nC 67.703125 49.78125 67.90625 50.484375 67.90625 51.09375 \nC 67.90625 52.1875 67.09375 53 66 53 \nC 65.796875 53 65.703125 52.890625 64.296875 52.296875 \nL 10.203125 27.15625 \nC 8.40625 26.359375 8.203125 25.640625 8.203125 25.046875 \nC 8.203125 24.328125 8.296875 23.734375 10.203125 22.8125 \nL 64.296875 -2.3125 \nC 65.59375 -2.90625 65.796875 -3 66 -3 \nC 67.09375 -3 67.90625 -2.203125 67.90625 -1.109375 \nC 67.90625 -0.5 67.703125 0.203125 65.90625 1.015625 \nL 14.40625 24.9375 \nz\n\" id=\"CMMI12-60\"/>\n       <path d=\"M 20.59375 29.21875 \nC 20.796875 29.828125 23.296875 34.8125 27 38 \nC 29.59375 40.390625 33 41.984375 36.90625 41.984375 \nC 40.90625 41.984375 42.296875 39 42.296875 35.015625 \nC 42.296875 29.328125 38.203125 17.953125 36.203125 12.5625 \nC 35.296875 10.171875 34.796875 8.875 34.796875 7.078125 \nC 34.796875 2.59375 37.90625 -1 42.703125 -1 \nC 52 -1 55.5 13.65625 55.5 14.265625 \nC 55.5 14.765625 55.09375 15.15625 54.5 15.15625 \nC 53.59375 15.15625 53.5 14.859375 53 13.15625 \nC 50.703125 4.984375 46.90625 1 43 1 \nC 42 1 40.40625 1.09375 40.40625 4.28125 \nC 40.40625 6.78125 41.5 9.765625 42.09375 11.171875 \nC 44.09375 16.65625 48.296875 27.828125 48.296875 33.515625 \nC 48.296875 39.5 44.796875 44 37.203125 44 \nC 28.296875 44 23.59375 37.703125 21.796875 35.203125 \nC 21.5 40.890625 17.40625 44 13 44 \nC 9.796875 44 7.59375 42.09375 5.90625 38.703125 \nC 4.09375 35.109375 2.703125 29.125 2.703125 28.71875 \nC 2.703125 28.328125 3.09375 27.828125 3.796875 27.828125 \nC 4.59375 27.828125 4.703125 27.921875 5.296875 30.21875 \nC 6.90625 36.3125 8.703125 41.984375 12.703125 41.984375 \nC 15 41.984375 15.796875 40.390625 15.796875 37.40625 \nC 15.796875 35.203125 14.796875 31.3125 14.09375 28.234375 \nL 11.296875 17.453125 \nC 10.90625 15.5625 9.796875 11.0625 9.296875 9.265625 \nC 8.59375 6.671875 7.5 1.984375 7.5 1.484375 \nC 7.5 0.09375 8.59375 -1 10.09375 -1 \nC 11.296875 -1 12.703125 -0.40625 13.5 1.09375 \nC 13.703125 1.59375 14.59375 5.078125 15.09375 7.078125 \nL 17.296875 16.0625 \nz\n\" id=\"CMMI12-110\"/>\n       <path d=\"M 27 65.40625 \nC 27 67.1875 27 69 25 69 \nC 23 69 23 67.1875 23 65.40625 \nL 23 -5.390625 \nC 20.59375 -1.625 17.796875 1.15625 15.296875 3.046875 \nC 9.203125 7.609375 3.09375 8.609375 2.90625 8.609375 \nC 1.703125 8.609375 1.703125 7.515625 1.703125 6.71875 \nC 1.703125 5.140625 1.796875 5.03125 4 4.34375 \nC 10.796875 2.453125 14.703125 -1.125 17 -3.609375 \nC 22.09375 -9.0625 23.296875 -15.015625 23.90625 -18.109375 \nC 24 -18.609375 24.296875 -19.109375 25 -19.109375 \nC 25.90625 -19.109375 26 -18.40625 26.203125 -17.515625 \nC 28.40625 -6.28125 35.59375 1.453125 46.59375 4.53125 \nC 48.09375 5.03125 48.296875 5.03125 48.296875 6.71875 \nC 48.296875 7.515625 48.296875 8.609375 47.09375 8.609375 \nC 46.796875 8.609375 40.90625 7.515625 35.203125 3.453125 \nC 31.90625 0.96875 29.203125 -2.015625 27 -5.390625 \nz\n\" id=\"CMSY10-35\"/>\n       <path d=\"M 65.90625 23 \nC 67.59375 23 69.40625 23 69.40625 25 \nC 69.40625 27 67.59375 27 65.90625 27 \nL 11.796875 27 \nC 10.09375 27 8.296875 27 8.296875 25 \nC 8.296875 23 10.09375 23 11.796875 23 \nz\n\" id=\"CMSY10-0\"/>\n       <path d=\"M 27 55.28125 \nC 29.40625 51.5 32.203125 48.71875 34.703125 46.828125 \nC 40.796875 42.265625 46.90625 41.28125 47.09375 41.28125 \nC 48.296875 41.28125 48.296875 42.359375 48.296875 43.15625 \nC 48.296875 44.75 48.203125 44.84375 46 45.546875 \nC 39.203125 47.4375 35.296875 51 33 53.484375 \nC 27.90625 58.953125 26.703125 64.90625 26.09375 68.09375 \nC 26 68.59375 25.59375 69 25 69 \nC 24.09375 69 24 68.390625 23.796875 67.1875 \nC 21.5 56.171875 14.40625 48.421875 3.40625 45.34375 \nC 1.90625 44.84375 1.703125 44.84375 1.703125 43.15625 \nC 1.703125 42.359375 1.703125 41.28125 2.90625 41.28125 \nC 3.203125 41.28125 9.09375 42.359375 14.796875 46.4375 \nC 18.09375 48.921875 20.796875 51.90625 23 55.28125 \nL 23 -15.515625 \nC 23 -17.3125 23 -19.109375 25 -19.109375 \nC 27 -19.109375 27 -17.3125 27 -15.515625 \nz\n\" id=\"CMSY10-34\"/>\n       <path d=\"M 65.90625 22.8125 \nC 67.796875 23.734375 67.90625 24.328125 67.90625 25.046875 \nC 67.90625 25.640625 67.703125 26.359375 65.90625 27.15625 \nL 11.796875 52.296875 \nC 10.5 52.890625 10.296875 53 10.09375 53 \nC 8.90625 53 8.203125 51.984375 8.203125 51.1875 \nC 8.203125 49.984375 9 49.578125 10.296875 48.96875 \nL 61.703125 25.046875 \nL 10.203125 1.015625 \nC 8.203125 0.109375 8.203125 -0.609375 8.203125 -1.203125 \nC 8.203125 -2 8.90625 -3 10.09375 -3 \nC 10.296875 -3 10.40625 -2.90625 11.796875 -2.3125 \nz\n\" id=\"CMMI12-62\"/>\n      </defs>\n      <use transform=\"scale(0.996264)\" xlink:href=\"#CMMI12-60\"/>\n      <use transform=\"translate(103.546105 0)scale(0.996264)\" xlink:href=\"#CMMI12-110\"/>\n      <use transform=\"translate(161.776152 -14.943915)scale(0.697382)\" xlink:href=\"#CMR17-49\"/>\n      <use transform=\"translate(193.759334 -14.943915)scale(0.697382)\" xlink:href=\"#CMSY10-35\"/>\n      <use transform=\"translate(229.126676 0)scale(0.996264)\" xlink:href=\"#CMMI12-110\"/>\n      <use transform=\"translate(287.356723 -14.943915)scale(0.697382)\" xlink:href=\"#CMSY10-0\"/>\n      <use transform=\"translate(341.597716 -14.943915)scale(0.697382)\" xlink:href=\"#CMR17-49\"/>\n      <use transform=\"translate(373.580898 -14.943915)scale(0.697382)\" xlink:href=\"#CMSY10-34\"/>\n      <use transform=\"translate(436.622249 0)scale(0.996264)\" xlink:href=\"#CMMI12-62\"/>\n     </g>\n    </g>\n   </g>\n   <g id=\"line2d_24\">\n    <path clip-path=\"url(#pb7c834e3c0)\" d=\"M 447.805507 14.451303 \nL 494.02922 158.770569 \nL 540.252933 157.978882 \nL 586.476646 159.477355 \nL 632.700359 158.277158 \nL 678.924072 159.073609 \n\" style=\"fill:none;stroke:#1f77b4;stroke-linecap:square;stroke-width:2;\"/>\n   </g>\n   <g id=\"patch_8\">\n    <path d=\"M 436.249579 166.728657 \nL 436.249579 7.2 \n\" style=\"fill:none;stroke:#000000;stroke-linecap:square;stroke-linejoin:miter;stroke-width:0.8;\"/>\n   </g>\n   <g id=\"patch_9\">\n    <path d=\"M 690.48 166.728657 \nL 690.48 7.2 \n\" style=\"fill:none;stroke:#000000;stroke-linecap:square;stroke-linejoin:miter;stroke-width:0.8;\"/>\n   </g>\n   <g id=\"patch_10\">\n    <path d=\"M 436.249579 166.728657 \nL 690.48 166.728657 \n\" style=\"fill:none;stroke:#000000;stroke-linecap:square;stroke-linejoin:miter;stroke-width:0.8;\"/>\n   </g>\n   <g id=\"patch_11\">\n    <path d=\"M 436.249579 7.2 \nL 690.48 7.2 \n\" style=\"fill:none;stroke:#000000;stroke-linecap:square;stroke-linejoin:miter;stroke-width:0.8;\"/>\n   </g>\n  </g>\n  <g id=\"axes_3\">\n   <g id=\"patch_12\">\n    <path d=\"M 77.662197 381.576459 \nL 331.892619 381.576459 \nL 331.892619 222.047802 \nL 77.662197 222.047802 \nz\n\" style=\"fill:#ffffff;\"/>\n   </g>\n   <g id=\"matplotlib.axis_5\">\n    <g id=\"xtick_7\">\n     <g id=\"line2d_25\">\n      <path clip-path=\"url(#p30ecaabd91)\" d=\"M 89.218126 381.576459 \nL 89.218126 222.047802 \n\" style=\"fill:none;stroke:#b0b0b0;stroke-linecap:square;stroke-width:0.8;\"/>\n     </g>\n     <g id=\"line2d_26\">\n      <g>\n       <use style=\"stroke:#000000;stroke-width:0.8;\" x=\"89.218126\" xlink:href=\"#m5b1aa0e5d9\" y=\"381.576459\"/>\n      </g>\n     </g>\n     <g id=\"text_14\">\n      <!-- $\\mathdefault{0}$ -->\n      <g transform=\"translate(85.334435 400.337911)scale(0.17 -0.17)\">\n       <use transform=\"scale(0.996264)\" xlink:href=\"#CMR17-48\"/>\n      </g>\n     </g>\n    </g>\n    <g id=\"xtick_8\">\n     <g id=\"line2d_27\">\n      <path clip-path=\"url(#p30ecaabd91)\" d=\"M 181.665552 381.576459 \nL 181.665552 222.047802 \n\" style=\"fill:none;stroke:#b0b0b0;stroke-linecap:square;stroke-width:0.8;\"/>\n     </g>\n     <g id=\"line2d_28\">\n      <g>\n       <use style=\"stroke:#000000;stroke-width:0.8;\" x=\"181.665552\" xlink:href=\"#m5b1aa0e5d9\" y=\"381.576459\"/>\n      </g>\n     </g>\n     <g id=\"text_15\">\n      <!-- $\\mathdefault{2}$ -->\n      <g transform=\"translate(177.781861 400.337911)scale(0.17 -0.17)\">\n       <use transform=\"scale(0.996264)\" xlink:href=\"#CMR17-50\"/>\n      </g>\n     </g>\n    </g>\n    <g id=\"xtick_9\">\n     <g id=\"line2d_29\">\n      <path clip-path=\"url(#p30ecaabd91)\" d=\"M 274.112978 381.576459 \nL 274.112978 222.047802 \n\" style=\"fill:none;stroke:#b0b0b0;stroke-linecap:square;stroke-width:0.8;\"/>\n     </g>\n     <g id=\"line2d_30\">\n      <g>\n       <use style=\"stroke:#000000;stroke-width:0.8;\" x=\"274.112978\" xlink:href=\"#m5b1aa0e5d9\" y=\"381.576459\"/>\n      </g>\n     </g>\n     <g id=\"text_16\">\n      <!-- $\\mathdefault{4}$ -->\n      <g transform=\"translate(270.229287 400.337911)scale(0.17 -0.17)\">\n       <use transform=\"scale(0.996264)\" xlink:href=\"#CMR17-52\"/>\n      </g>\n     </g>\n    </g>\n   </g>\n   <g id=\"matplotlib.axis_6\">\n    <g id=\"ytick_6\">\n     <g id=\"line2d_31\">\n      <path clip-path=\"url(#p30ecaabd91)\" d=\"M 77.662197 347.49033 \nL 331.892619 347.49033 \n\" style=\"fill:none;stroke:#b0b0b0;stroke-linecap:square;stroke-width:0.8;\"/>\n     </g>\n     <g id=\"line2d_32\">\n      <g>\n       <use style=\"stroke:#000000;stroke-width:0.8;\" x=\"77.662197\" xlink:href=\"#mfcdaad7ab6\" y=\"347.49033\"/>\n      </g>\n     </g>\n     <g id=\"text_17\">\n      <!-- $\\mathdefault{0.2}$ -->\n      <g transform=\"translate(50.520915 353.371056)scale(0.17 -0.17)\">\n       <use transform=\"scale(0.996264)\" xlink:href=\"#CMR17-48\"/>\n       <use transform=\"translate(45.690477 0)scale(0.996264)\" xlink:href=\"#CMMI12-58\"/>\n       <use transform=\"translate(72.787654 0)scale(0.996264)\" xlink:href=\"#CMR17-50\"/>\n      </g>\n     </g>\n    </g>\n    <g id=\"ytick_7\">\n     <g id=\"line2d_33\">\n      <path clip-path=\"url(#p30ecaabd91)\" d=\"M 77.662197 268.69618 \nL 331.892619 268.69618 \n\" style=\"fill:none;stroke:#b0b0b0;stroke-linecap:square;stroke-width:0.8;\"/>\n     </g>\n     <g id=\"line2d_34\">\n      <g>\n       <use style=\"stroke:#000000;stroke-width:0.8;\" x=\"77.662197\" xlink:href=\"#mfcdaad7ab6\" y=\"268.69618\"/>\n      </g>\n     </g>\n     <g id=\"text_18\">\n      <!-- $\\mathdefault{0.4}$ -->\n      <g transform=\"translate(50.520915 274.576906)scale(0.17 -0.17)\">\n       <use transform=\"scale(0.996264)\" xlink:href=\"#CMR17-48\"/>\n       <use transform=\"translate(45.690477 0)scale(0.996264)\" xlink:href=\"#CMMI12-58\"/>\n       <use transform=\"translate(72.787654 0)scale(0.996264)\" xlink:href=\"#CMR17-52\"/>\n      </g>\n     </g>\n    </g>\n    <g id=\"text_19\">\n     <!-- $&lt;n_{1 \\downarrow} n_ {-1 \\downarrow}&gt;$ -->\n     <g transform=\"translate(41.675241 346.278173)rotate(-90)scale(0.17 -0.17)\">\n      <use transform=\"scale(0.996264)\" xlink:href=\"#CMMI12-60\"/>\n      <use transform=\"translate(103.546105 0)scale(0.996264)\" xlink:href=\"#CMMI12-110\"/>\n      <use transform=\"translate(161.776152 -14.943915)scale(0.697382)\" xlink:href=\"#CMR17-49\"/>\n      <use transform=\"translate(193.759334 -14.943915)scale(0.697382)\" xlink:href=\"#CMSY10-35\"/>\n      <use transform=\"translate(229.126676 0)scale(0.996264)\" xlink:href=\"#CMMI12-110\"/>\n      <use transform=\"translate(287.356723 -14.943915)scale(0.697382)\" xlink:href=\"#CMSY10-0\"/>\n      <use transform=\"translate(341.597716 -14.943915)scale(0.697382)\" xlink:href=\"#CMR17-49\"/>\n      <use transform=\"translate(373.580898 -14.943915)scale(0.697382)\" xlink:href=\"#CMSY10-35\"/>\n      <use transform=\"translate(436.622249 0)scale(0.996264)\" xlink:href=\"#CMMI12-62\"/>\n     </g>\n    </g>\n   </g>\n   <g id=\"line2d_35\">\n    <path clip-path=\"url(#p30ecaabd91)\" d=\"M 89.218126 229.299105 \nL 135.441839 346.159664 \nL 181.665552 361.971427 \nL 227.889265 368.318354 \nL 274.112978 374.325157 \nL 320.336691 373.865506 \n\" style=\"fill:none;stroke:#1f77b4;stroke-linecap:square;stroke-width:2;\"/>\n   </g>\n   <g id=\"patch_13\">\n    <path d=\"M 77.662197 381.576459 \nL 77.662197 222.047802 \n\" style=\"fill:none;stroke:#000000;stroke-linecap:square;stroke-linejoin:miter;stroke-width:0.8;\"/>\n   </g>\n   <g id=\"patch_14\">\n    <path d=\"M 331.892619 381.576459 \nL 331.892619 222.047802 \n\" style=\"fill:none;stroke:#000000;stroke-linecap:square;stroke-linejoin:miter;stroke-width:0.8;\"/>\n   </g>\n   <g id=\"patch_15\">\n    <path d=\"M 77.662197 381.576459 \nL 331.892619 381.576459 \n\" style=\"fill:none;stroke:#000000;stroke-linecap:square;stroke-linejoin:miter;stroke-width:0.8;\"/>\n   </g>\n   <g id=\"patch_16\">\n    <path d=\"M 77.662197 222.047802 \nL 331.892619 222.047802 \n\" style=\"fill:none;stroke:#000000;stroke-linecap:square;stroke-linejoin:miter;stroke-width:0.8;\"/>\n   </g>\n  </g>\n  <g id=\"axes_4\">\n   <g id=\"patch_17\">\n    <path d=\"M 436.249579 381.576459 \nL 690.48 381.576459 \nL 690.48 222.047802 \nL 436.249579 222.047802 \nz\n\" style=\"fill:#ffffff;\"/>\n   </g>\n   <g id=\"matplotlib.axis_7\">\n    <g id=\"xtick_10\">\n     <g id=\"line2d_36\">\n      <path clip-path=\"url(#p6492a343ab)\" d=\"M 447.805507 381.576459 \nL 447.805507 222.047802 \n\" style=\"fill:none;stroke:#b0b0b0;stroke-linecap:square;stroke-width:0.8;\"/>\n     </g>\n     <g id=\"line2d_37\">\n      <g>\n       <use style=\"stroke:#000000;stroke-width:0.8;\" x=\"447.805507\" xlink:href=\"#m5b1aa0e5d9\" y=\"381.576459\"/>\n      </g>\n     </g>\n     <g id=\"text_20\">\n      <!-- $\\mathdefault{0}$ -->\n      <g transform=\"translate(443.921816 400.337911)scale(0.17 -0.17)\">\n       <use transform=\"scale(0.996264)\" xlink:href=\"#CMR17-48\"/>\n      </g>\n     </g>\n    </g>\n    <g id=\"xtick_11\">\n     <g id=\"line2d_38\">\n      <path clip-path=\"url(#p6492a343ab)\" d=\"M 540.252933 381.576459 \nL 540.252933 222.047802 \n\" style=\"fill:none;stroke:#b0b0b0;stroke-linecap:square;stroke-width:0.8;\"/>\n     </g>\n     <g id=\"line2d_39\">\n      <g>\n       <use style=\"stroke:#000000;stroke-width:0.8;\" x=\"540.252933\" xlink:href=\"#m5b1aa0e5d9\" y=\"381.576459\"/>\n      </g>\n     </g>\n     <g id=\"text_21\">\n      <!-- $\\mathdefault{2}$ -->\n      <g transform=\"translate(536.369242 400.337911)scale(0.17 -0.17)\">\n       <use transform=\"scale(0.996264)\" xlink:href=\"#CMR17-50\"/>\n      </g>\n     </g>\n    </g>\n    <g id=\"xtick_12\">\n     <g id=\"line2d_40\">\n      <path clip-path=\"url(#p6492a343ab)\" d=\"M 632.700359 381.576459 \nL 632.700359 222.047802 \n\" style=\"fill:none;stroke:#b0b0b0;stroke-linecap:square;stroke-width:0.8;\"/>\n     </g>\n     <g id=\"line2d_41\">\n      <g>\n       <use style=\"stroke:#000000;stroke-width:0.8;\" x=\"632.700359\" xlink:href=\"#m5b1aa0e5d9\" y=\"381.576459\"/>\n      </g>\n     </g>\n     <g id=\"text_22\">\n      <!-- $\\mathdefault{4}$ -->\n      <g transform=\"translate(628.816668 400.337911)scale(0.17 -0.17)\">\n       <use transform=\"scale(0.996264)\" xlink:href=\"#CMR17-52\"/>\n      </g>\n     </g>\n    </g>\n   </g>\n   <g id=\"matplotlib.axis_8\">\n    <g id=\"ytick_8\">\n     <g id=\"line2d_42\">\n      <path clip-path=\"url(#p6492a343ab)\" d=\"M 436.249579 374.325157 \nL 690.48 374.325157 \n\" style=\"fill:none;stroke:#b0b0b0;stroke-linecap:square;stroke-width:0.8;\"/>\n     </g>\n     <g id=\"line2d_43\">\n      <g>\n       <use style=\"stroke:#000000;stroke-width:0.8;\" x=\"436.249579\" xlink:href=\"#mfcdaad7ab6\" y=\"374.325157\"/>\n      </g>\n     </g>\n     <g id=\"text_23\">\n      <!-- $\\mathdefault{0.00000}$ -->\n      <g transform=\"translate(378.038772 380.205882)scale(0.17 -0.17)\">\n       <use transform=\"scale(0.996264)\" xlink:href=\"#CMR17-48\"/>\n       <use transform=\"translate(45.690477 0)scale(0.996264)\" xlink:href=\"#CMMI12-58\"/>\n       <use transform=\"translate(72.787654 0)scale(0.996264)\" xlink:href=\"#CMR17-48\"/>\n       <use transform=\"translate(118.478131 0)scale(0.996264)\" xlink:href=\"#CMR17-48\"/>\n       <use transform=\"translate(164.168608 0)scale(0.996264)\" xlink:href=\"#CMR17-48\"/>\n       <use transform=\"translate(209.859086 0)scale(0.996264)\" xlink:href=\"#CMR17-48\"/>\n       <use transform=\"translate(255.549563 0)scale(0.996264)\" xlink:href=\"#CMR17-48\"/>\n      </g>\n     </g>\n    </g>\n    <g id=\"ytick_9\">\n     <g id=\"line2d_44\">\n      <path clip-path=\"url(#p6492a343ab)\" d=\"M 436.249579 332.906681 \nL 690.48 332.906681 \n\" style=\"fill:none;stroke:#b0b0b0;stroke-linecap:square;stroke-width:0.8;\"/>\n     </g>\n     <g id=\"line2d_45\">\n      <g>\n       <use style=\"stroke:#000000;stroke-width:0.8;\" x=\"436.249579\" xlink:href=\"#mfcdaad7ab6\" y=\"332.906681\"/>\n      </g>\n     </g>\n     <g id=\"text_24\">\n      <!-- $\\mathdefault{0.00025}$ -->\n      <g transform=\"translate(378.038772 338.787407)scale(0.17 -0.17)\">\n       <defs>\n        <path d=\"M 11.40625 58.59375 \nC 12.40625 58.1875 16.5 56.890625 20.703125 56.890625 \nC 30 56.890625 35.09375 61.890625 38 64.6875 \nC 38 65.484375 38 66 37.40625 66 \nC 37.296875 66 37.09375 66 36.296875 65.59375 \nC 32.796875 64.09375 28.703125 63 23.703125 63 \nC 20.703125 63 16.203125 63.359375 11.296875 65.484375 \nC 10.203125 66 10 66 9.90625 66 \nC 9.40625 66 9.296875 65.890625 9.296875 63.90625 \nL 9.296875 34.859375 \nC 9.296875 33.015625 9.296875 32.5 10.296875 32.5 \nC 10.796875 32.5 11 32.703125 11.5 33.421875 \nC 14.703125 38.046875 19.09375 40 24.09375 40 \nC 27.59375 40 35.09375 37.734375 35.09375 20.203125 \nC 35.09375 16.984375 35.09375 11.1875 32.09375 6.59375 \nC 29.59375 2.484375 25.703125 0.390625 21.40625 0.390625 \nC 14.796875 0.390625 8.09375 4.984375 6.296875 12.6875 \nC 6.703125 12.59375 7.5 12.390625 7.90625 12.390625 \nC 9.203125 12.390625 11.703125 13.09375 11.703125 16.1875 \nC 11.703125 18.890625 9.796875 20 7.90625 20 \nC 5.59375 20 4.09375 18.59375 4.09375 15.796875 \nC 4.09375 7.09375 11 -2 21.59375 -2 \nC 31.90625 -2 41.703125 6.890625 41.703125 19.796875 \nC 41.703125 32.09375 33.90625 41.59375 24.203125 41.59375 \nC 19.09375 41.59375 14.796875 39.6875 11.40625 36 \nz\n\" id=\"CMR17-53\"/>\n       </defs>\n       <use transform=\"scale(0.996264)\" xlink:href=\"#CMR17-48\"/>\n       <use transform=\"translate(45.690477 0)scale(0.996264)\" xlink:href=\"#CMMI12-58\"/>\n       <use transform=\"translate(72.787654 0)scale(0.996264)\" xlink:href=\"#CMR17-48\"/>\n       <use transform=\"translate(118.478131 0)scale(0.996264)\" xlink:href=\"#CMR17-48\"/>\n       <use transform=\"translate(164.168608 0)scale(0.996264)\" xlink:href=\"#CMR17-48\"/>\n       <use transform=\"translate(209.859086 0)scale(0.996264)\" xlink:href=\"#CMR17-50\"/>\n       <use transform=\"translate(255.549563 0)scale(0.996264)\" xlink:href=\"#CMR17-53\"/>\n      </g>\n     </g>\n    </g>\n    <g id=\"ytick_10\">\n     <g id=\"line2d_46\">\n      <path clip-path=\"url(#p6492a343ab)\" d=\"M 436.249579 291.488205 \nL 690.48 291.488205 \n\" style=\"fill:none;stroke:#b0b0b0;stroke-linecap:square;stroke-width:0.8;\"/>\n     </g>\n     <g id=\"line2d_47\">\n      <g>\n       <use style=\"stroke:#000000;stroke-width:0.8;\" x=\"436.249579\" xlink:href=\"#mfcdaad7ab6\" y=\"291.488205\"/>\n      </g>\n     </g>\n     <g id=\"text_25\">\n      <!-- $\\mathdefault{0.00050}$ -->\n      <g transform=\"translate(378.038772 297.368931)scale(0.17 -0.17)\">\n       <use transform=\"scale(0.996264)\" xlink:href=\"#CMR17-48\"/>\n       <use transform=\"translate(45.690477 0)scale(0.996264)\" xlink:href=\"#CMMI12-58\"/>\n       <use transform=\"translate(72.787654 0)scale(0.996264)\" xlink:href=\"#CMR17-48\"/>\n       <use transform=\"translate(118.478131 0)scale(0.996264)\" xlink:href=\"#CMR17-48\"/>\n       <use transform=\"translate(164.168608 0)scale(0.996264)\" xlink:href=\"#CMR17-48\"/>\n       <use transform=\"translate(209.859086 0)scale(0.996264)\" xlink:href=\"#CMR17-53\"/>\n       <use transform=\"translate(255.549563 0)scale(0.996264)\" xlink:href=\"#CMR17-48\"/>\n      </g>\n     </g>\n    </g>\n    <g id=\"ytick_11\">\n     <g id=\"line2d_48\">\n      <path clip-path=\"url(#p6492a343ab)\" d=\"M 436.249579 250.069729 \nL 690.48 250.069729 \n\" style=\"fill:none;stroke:#b0b0b0;stroke-linecap:square;stroke-width:0.8;\"/>\n     </g>\n     <g id=\"line2d_49\">\n      <g>\n       <use style=\"stroke:#000000;stroke-width:0.8;\" x=\"436.249579\" xlink:href=\"#mfcdaad7ab6\" y=\"250.069729\"/>\n      </g>\n     </g>\n     <g id=\"text_26\">\n      <!-- $\\mathdefault{0.00075}$ -->\n      <g transform=\"translate(378.038772 255.950455)scale(0.17 -0.17)\">\n       <defs>\n        <path d=\"M 45.09375 61.796875 \nL 45.09375 64 \nL 21.59375 64 \nC 9.90625 64 9.703125 65.09375 9.296875 67 \nL 7.5 67 \nL 4.59375 48.5 \nL 6.40625 48.5 \nC 6.703125 50.40625 7.40625 55.5 8.59375 57.390625 \nC 9.203125 58.1875 16.59375 58.1875 18.296875 58.1875 \nL 40.296875 58.1875 \nL 29.203125 41.71875 \nC 21.796875 30.640625 16.703125 15.671875 16.703125 2.59375 \nC 16.703125 1.390625 16.703125 -2 20.296875 -2 \nC 23.90625 -2 23.90625 1.390625 23.90625 2.6875 \nL 23.90625 7.28125 \nC 23.90625 23.65625 26.703125 34.4375 31.296875 41.3125 \nz\n\" id=\"CMR17-55\"/>\n       </defs>\n       <use transform=\"scale(0.996264)\" xlink:href=\"#CMR17-48\"/>\n       <use transform=\"translate(45.690477 0)scale(0.996264)\" xlink:href=\"#CMMI12-58\"/>\n       <use transform=\"translate(72.787654 0)scale(0.996264)\" xlink:href=\"#CMR17-48\"/>\n       <use transform=\"translate(118.478131 0)scale(0.996264)\" xlink:href=\"#CMR17-48\"/>\n       <use transform=\"translate(164.168608 0)scale(0.996264)\" xlink:href=\"#CMR17-48\"/>\n       <use transform=\"translate(209.859086 0)scale(0.996264)\" xlink:href=\"#CMR17-55\"/>\n       <use transform=\"translate(255.549563 0)scale(0.996264)\" xlink:href=\"#CMR17-53\"/>\n      </g>\n     </g>\n    </g>\n    <g id=\"text_27\">\n     <!-- $&lt;c^\\dagger_{1 \\downarrow} n_ {-1 \\uparrow}&gt;$ -->\n     <g transform=\"translate(366.624482 344.897197)rotate(-90)scale(0.17 -0.17)\">\n      <defs>\n       <path d=\"M 39.09375 38 \nC 37.203125 38 36.296875 38 34.90625 36.796875 \nC 34.296875 36.296875 33.203125 34.796875 33.203125 33.1875 \nC 33.203125 31.1875 34.703125 29.984375 36.59375 29.984375 \nC 39 29.984375 41.703125 31.984375 41.703125 35.984375 \nC 41.703125 40.484375 37.09375 44 30.203125 44 \nC 17.09375 44 4 30.1875 4 15.796875 \nC 4 6.96875 9.40625 -1 19.59375 -1 \nC 33.203125 -1 41.796875 9.71875 41.796875 11.03125 \nC 41.796875 11.640625 41.203125 12.140625 40.796875 12.140625 \nC 40.5 12.140625 40.40625 12.046875 39.5 11.125 \nC 33.09375 2.515625 23.59375 1 19.796875 1 \nC 12.90625 1 10.703125 7.078125 10.703125 12.140625 \nC 10.703125 15.6875 12.40625 25.53125 16 32.390625 \nC 18.59375 37.09375 24 41.984375 30.296875 41.984375 \nC 31.59375 41.984375 37.09375 41.8125 39.09375 38 \nz\n\" id=\"CMMI12-99\"/>\n       <path d=\"M 23.203125 42.296875 \nC 24.59375 42.09375 25.5 42.09375 27.796875 41.390625 \nC 29.90625 40.796875 33 40 35.09375 40 \nC 38.296875 40 38.796875 42.390625 38.796875 43.296875 \nC 38.796875 44.6875 38 46.6875 35.09375 46.6875 \nC 34.296875 46.6875 32.40625 46.5 29.203125 45.59375 \nC 25.703125 44.6875 24.703125 44.59375 23.203125 44.390625 \nC 23.203125 46.09375 23.296875 48.8125 24.296875 54.859375 \nC 24.796875 58.59375 25.5 63.140625 25.5 66.765625 \nC 25.5 67.6875 25.5 71 22.203125 71 \nC 18.796875 71 18.796875 67.78125 18.796875 66.765625 \nC 18.796875 63.234375 19.703125 57.09375 20.09375 54.359375 \nC 21 48.40625 21.09375 46.296875 21.09375 44.390625 \nC 19.703125 44.59375 18.796875 44.59375 16.5 45.296875 \nC 14.40625 45.890625 11.296875 46.6875 9.203125 46.6875 \nC 6 46.6875 5.5 44.296875 5.5 43.390625 \nC 5.5 42 6.296875 40 9.203125 40 \nC 10 40 11.90625 40.1875 15.09375 41.09375 \nC 18.59375 42 19.59375 42.09375 21.09375 42.296875 \nC 21 40.1875 20.90625 39.078125 19.90625 33.8125 \nC 18.796875 27.953125 18.796875 26.734375 18.796875 21.875 \nC 18.796875 5.890625 20 -11.203125 20.796875 -20 \nC 20.90625 -21.40625 21 -22 22.09375 -22 \nC 23.296875 -22 23.296875 -21.5 23.5 -20.203125 \nC 24 -15.5625 24.40625 -9.484375 24.59375 -4.625 \nC 24.703125 -2.8125 25.5 10.75 25.5 21.875 \nC 25.5 26.84375 25.5 27.953125 24.40625 33.71875 \nC 23.40625 38.984375 23.296875 40.296875 23.203125 42.296875 \nz\n\" id=\"CMSY10-121\"/>\n      </defs>\n      <use transform=\"scale(0.996264)\" xlink:href=\"#CMMI12-60\"/>\n      <use transform=\"translate(103.546105 0)scale(0.996264)\" xlink:href=\"#CMMI12-99\"/>\n      <use transform=\"translate(145.529338 47.875931)scale(0.697382)\" xlink:href=\"#CMSY10-121\"/>\n      <use transform=\"translate(145.529338 -30.053361)scale(0.697382)\" xlink:href=\"#CMR17-49\"/>\n      <use transform=\"translate(177.51252 -30.053361)scale(0.697382)\" xlink:href=\"#CMSY10-35\"/>\n      <use transform=\"translate(212.879862 0)scale(0.996264)\" xlink:href=\"#CMMI12-110\"/>\n      <use transform=\"translate(271.109909 -14.943915)scale(0.697382)\" xlink:href=\"#CMSY10-0\"/>\n      <use transform=\"translate(325.350903 -14.943915)scale(0.697382)\" xlink:href=\"#CMR17-49\"/>\n      <use transform=\"translate(357.334085 -14.943915)scale(0.697382)\" xlink:href=\"#CMSY10-34\"/>\n      <use transform=\"translate(420.375435 0)scale(0.996264)\" xlink:href=\"#CMMI12-62\"/>\n     </g>\n    </g>\n   </g>\n   <g id=\"line2d_50\">\n    <path clip-path=\"url(#p6492a343ab)\" d=\"M 447.805507 374.325157 \nL 494.02922 373.928284 \nL 540.252933 374.148311 \nL 586.476646 373.066457 \nL 632.700359 350.031103 \nL 678.924072 229.299105 \n\" style=\"fill:none;stroke:#1f77b4;stroke-linecap:square;stroke-width:2;\"/>\n   </g>\n   <g id=\"patch_18\">\n    <path d=\"M 436.249579 381.576459 \nL 436.249579 222.047802 \n\" style=\"fill:none;stroke:#000000;stroke-linecap:square;stroke-linejoin:miter;stroke-width:0.8;\"/>\n   </g>\n   <g id=\"patch_19\">\n    <path d=\"M 690.48 381.576459 \nL 690.48 222.047802 \n\" style=\"fill:none;stroke:#000000;stroke-linecap:square;stroke-linejoin:miter;stroke-width:0.8;\"/>\n   </g>\n   <g id=\"patch_20\">\n    <path d=\"M 436.249579 381.576459 \nL 690.48 381.576459 \n\" style=\"fill:none;stroke:#000000;stroke-linecap:square;stroke-linejoin:miter;stroke-width:0.8;\"/>\n   </g>\n   <g id=\"patch_21\">\n    <path d=\"M 436.249579 222.047802 \nL 690.48 222.047802 \n\" style=\"fill:none;stroke:#000000;stroke-linecap:square;stroke-linejoin:miter;stroke-width:0.8;\"/>\n   </g>\n  </g>\n  <g id=\"axes_5\">\n   <g id=\"patch_22\">\n    <path d=\"M 77.662197 596.424261 \nL 331.892619 596.424261 \nL 331.892619 436.895604 \nL 77.662197 436.895604 \nz\n\" style=\"fill:#ffffff;\"/>\n   </g>\n   <g id=\"matplotlib.axis_9\">\n    <g id=\"xtick_13\">\n     <g id=\"line2d_51\">\n      <path clip-path=\"url(#p0d256ee45a)\" d=\"M 89.218126 596.424261 \nL 89.218126 436.895604 \n\" style=\"fill:none;stroke:#b0b0b0;stroke-linecap:square;stroke-width:0.8;\"/>\n     </g>\n     <g id=\"line2d_52\">\n      <g>\n       <use style=\"stroke:#000000;stroke-width:0.8;\" x=\"89.218126\" xlink:href=\"#m5b1aa0e5d9\" y=\"596.424261\"/>\n      </g>\n     </g>\n     <g id=\"text_28\">\n      <!-- $\\mathdefault{0}$ -->\n      <g transform=\"translate(85.334435 615.185713)scale(0.17 -0.17)\">\n       <use transform=\"scale(0.996264)\" xlink:href=\"#CMR17-48\"/>\n      </g>\n     </g>\n    </g>\n    <g id=\"xtick_14\">\n     <g id=\"line2d_53\">\n      <path clip-path=\"url(#p0d256ee45a)\" d=\"M 181.665552 596.424261 \nL 181.665552 436.895604 \n\" style=\"fill:none;stroke:#b0b0b0;stroke-linecap:square;stroke-width:0.8;\"/>\n     </g>\n     <g id=\"line2d_54\">\n      <g>\n       <use style=\"stroke:#000000;stroke-width:0.8;\" x=\"181.665552\" xlink:href=\"#m5b1aa0e5d9\" y=\"596.424261\"/>\n      </g>\n     </g>\n     <g id=\"text_29\">\n      <!-- $\\mathdefault{2}$ -->\n      <g transform=\"translate(177.781861 615.185713)scale(0.17 -0.17)\">\n       <use transform=\"scale(0.996264)\" xlink:href=\"#CMR17-50\"/>\n      </g>\n     </g>\n    </g>\n    <g id=\"xtick_15\">\n     <g id=\"line2d_55\">\n      <path clip-path=\"url(#p0d256ee45a)\" d=\"M 274.112978 596.424261 \nL 274.112978 436.895604 \n\" style=\"fill:none;stroke:#b0b0b0;stroke-linecap:square;stroke-width:0.8;\"/>\n     </g>\n     <g id=\"line2d_56\">\n      <g>\n       <use style=\"stroke:#000000;stroke-width:0.8;\" x=\"274.112978\" xlink:href=\"#m5b1aa0e5d9\" y=\"596.424261\"/>\n      </g>\n     </g>\n     <g id=\"text_30\">\n      <!-- $\\mathdefault{4}$ -->\n      <g transform=\"translate(270.229287 615.185713)scale(0.17 -0.17)\">\n       <use transform=\"scale(0.996264)\" xlink:href=\"#CMR17-52\"/>\n      </g>\n     </g>\n    </g>\n   </g>\n   <g id=\"matplotlib.axis_10\">\n    <g id=\"ytick_12\">\n     <g id=\"line2d_57\">\n      <path clip-path=\"url(#p0d256ee45a)\" d=\"M 77.662197 589.172959 \nL 331.892619 589.172959 \n\" style=\"fill:none;stroke:#b0b0b0;stroke-linecap:square;stroke-width:0.8;\"/>\n     </g>\n     <g id=\"line2d_58\">\n      <g>\n       <use style=\"stroke:#000000;stroke-width:0.8;\" x=\"77.662197\" xlink:href=\"#mfcdaad7ab6\" y=\"589.172959\"/>\n      </g>\n     </g>\n     <g id=\"text_31\">\n      <!-- $\\mathdefault{0.000}$ -->\n      <g transform=\"translate(34.986153 595.053684)scale(0.17 -0.17)\">\n       <use transform=\"scale(0.996264)\" xlink:href=\"#CMR17-48\"/>\n       <use transform=\"translate(45.690477 0)scale(0.996264)\" xlink:href=\"#CMMI12-58\"/>\n       <use transform=\"translate(72.787654 0)scale(0.996264)\" xlink:href=\"#CMR17-48\"/>\n       <use transform=\"translate(118.478131 0)scale(0.996264)\" xlink:href=\"#CMR17-48\"/>\n       <use transform=\"translate(164.168608 0)scale(0.996264)\" xlink:href=\"#CMR17-48\"/>\n      </g>\n     </g>\n    </g>\n    <g id=\"ytick_13\">\n     <g id=\"line2d_59\">\n      <path clip-path=\"url(#p0d256ee45a)\" d=\"M 77.662197 543.098905 \nL 331.892619 543.098905 \n\" style=\"fill:none;stroke:#b0b0b0;stroke-linecap:square;stroke-width:0.8;\"/>\n     </g>\n     <g id=\"line2d_60\">\n      <g>\n       <use style=\"stroke:#000000;stroke-width:0.8;\" x=\"77.662197\" xlink:href=\"#mfcdaad7ab6\" y=\"543.098905\"/>\n      </g>\n     </g>\n     <g id=\"text_32\">\n      <!-- $\\mathdefault{0.025}$ -->\n      <g transform=\"translate(34.986153 548.979631)scale(0.17 -0.17)\">\n       <use transform=\"scale(0.996264)\" xlink:href=\"#CMR17-48\"/>\n       <use transform=\"translate(45.690477 0)scale(0.996264)\" xlink:href=\"#CMMI12-58\"/>\n       <use transform=\"translate(72.787654 0)scale(0.996264)\" xlink:href=\"#CMR17-48\"/>\n       <use transform=\"translate(118.478131 0)scale(0.996264)\" xlink:href=\"#CMR17-50\"/>\n       <use transform=\"translate(164.168608 0)scale(0.996264)\" xlink:href=\"#CMR17-53\"/>\n      </g>\n     </g>\n    </g>\n    <g id=\"ytick_14\">\n     <g id=\"line2d_61\">\n      <path clip-path=\"url(#p0d256ee45a)\" d=\"M 77.662197 497.024852 \nL 331.892619 497.024852 \n\" style=\"fill:none;stroke:#b0b0b0;stroke-linecap:square;stroke-width:0.8;\"/>\n     </g>\n     <g id=\"line2d_62\">\n      <g>\n       <use style=\"stroke:#000000;stroke-width:0.8;\" x=\"77.662197\" xlink:href=\"#mfcdaad7ab6\" y=\"497.024852\"/>\n      </g>\n     </g>\n     <g id=\"text_33\">\n      <!-- $\\mathdefault{0.050}$ -->\n      <g transform=\"translate(34.986153 502.905577)scale(0.17 -0.17)\">\n       <use transform=\"scale(0.996264)\" xlink:href=\"#CMR17-48\"/>\n       <use transform=\"translate(45.690477 0)scale(0.996264)\" xlink:href=\"#CMMI12-58\"/>\n       <use transform=\"translate(72.787654 0)scale(0.996264)\" xlink:href=\"#CMR17-48\"/>\n       <use transform=\"translate(118.478131 0)scale(0.996264)\" xlink:href=\"#CMR17-53\"/>\n       <use transform=\"translate(164.168608 0)scale(0.996264)\" xlink:href=\"#CMR17-48\"/>\n      </g>\n     </g>\n    </g>\n    <g id=\"ytick_15\">\n     <g id=\"line2d_63\">\n      <path clip-path=\"url(#p0d256ee45a)\" d=\"M 77.662197 450.950798 \nL 331.892619 450.950798 \n\" style=\"fill:none;stroke:#b0b0b0;stroke-linecap:square;stroke-width:0.8;\"/>\n     </g>\n     <g id=\"line2d_64\">\n      <g>\n       <use style=\"stroke:#000000;stroke-width:0.8;\" x=\"77.662197\" xlink:href=\"#mfcdaad7ab6\" y=\"450.950798\"/>\n      </g>\n     </g>\n     <g id=\"text_34\">\n      <!-- $\\mathdefault{0.075}$ -->\n      <g transform=\"translate(34.986153 456.831524)scale(0.17 -0.17)\">\n       <use transform=\"scale(0.996264)\" xlink:href=\"#CMR17-48\"/>\n       <use transform=\"translate(45.690477 0)scale(0.996264)\" xlink:href=\"#CMMI12-58\"/>\n       <use transform=\"translate(72.787654 0)scale(0.996264)\" xlink:href=\"#CMR17-48\"/>\n       <use transform=\"translate(118.478131 0)scale(0.996264)\" xlink:href=\"#CMR17-55\"/>\n       <use transform=\"translate(164.168608 0)scale(0.996264)\" xlink:href=\"#CMR17-53\"/>\n      </g>\n     </g>\n    </g>\n    <g id=\"text_35\">\n     <!-- $&lt;c^\\dagger_{1 \\uparrow} n_ {-1 \\uparrow}&gt;$ -->\n     <g transform=\"translate(23.571864 559.744999)rotate(-90)scale(0.17 -0.17)\">\n      <use transform=\"scale(0.996264)\" xlink:href=\"#CMMI12-60\"/>\n      <use transform=\"translate(103.546105 0)scale(0.996264)\" xlink:href=\"#CMMI12-99\"/>\n      <use transform=\"translate(145.529338 47.875931)scale(0.697382)\" xlink:href=\"#CMSY10-121\"/>\n      <use transform=\"translate(145.529338 -30.053361)scale(0.697382)\" xlink:href=\"#CMR17-49\"/>\n      <use transform=\"translate(177.51252 -30.053361)scale(0.697382)\" xlink:href=\"#CMSY10-34\"/>\n      <use transform=\"translate(212.879862 0)scale(0.996264)\" xlink:href=\"#CMMI12-110\"/>\n      <use transform=\"translate(271.109909 -14.943915)scale(0.697382)\" xlink:href=\"#CMSY10-0\"/>\n      <use transform=\"translate(325.350903 -14.943915)scale(0.697382)\" xlink:href=\"#CMR17-49\"/>\n      <use transform=\"translate(357.334085 -14.943915)scale(0.697382)\" xlink:href=\"#CMSY10-34\"/>\n      <use transform=\"translate(420.375435 0)scale(0.996264)\" xlink:href=\"#CMMI12-62\"/>\n     </g>\n    </g>\n   </g>\n   <g id=\"line2d_65\">\n    <path clip-path=\"url(#p0d256ee45a)\" d=\"M 89.218126 589.172959 \nL 135.441839 589.157444 \nL 181.665552 588.807194 \nL 227.889265 577.291425 \nL 274.112978 447.120929 \nL 320.336691 444.146907 \n\" style=\"fill:none;stroke:#1f77b4;stroke-linecap:square;stroke-width:2;\"/>\n   </g>\n   <g id=\"patch_23\">\n    <path d=\"M 77.662197 596.424261 \nL 77.662197 436.895604 \n\" style=\"fill:none;stroke:#000000;stroke-linecap:square;stroke-linejoin:miter;stroke-width:0.8;\"/>\n   </g>\n   <g id=\"patch_24\">\n    <path d=\"M 331.892619 596.424261 \nL 331.892619 436.895604 \n\" style=\"fill:none;stroke:#000000;stroke-linecap:square;stroke-linejoin:miter;stroke-width:0.8;\"/>\n   </g>\n   <g id=\"patch_25\">\n    <path d=\"M 77.662197 596.424261 \nL 331.892619 596.424261 \n\" style=\"fill:none;stroke:#000000;stroke-linecap:square;stroke-linejoin:miter;stroke-width:0.8;\"/>\n   </g>\n   <g id=\"patch_26\">\n    <path d=\"M 77.662197 436.895604 \nL 331.892619 436.895604 \n\" style=\"fill:none;stroke:#000000;stroke-linecap:square;stroke-linejoin:miter;stroke-width:0.8;\"/>\n   </g>\n  </g>\n  <g id=\"axes_6\">\n   <g id=\"patch_27\">\n    <path d=\"M 436.249579 596.424261 \nL 690.48 596.424261 \nL 690.48 436.895604 \nL 436.249579 436.895604 \nz\n\" style=\"fill:#ffffff;\"/>\n   </g>\n   <g id=\"matplotlib.axis_11\">\n    <g id=\"xtick_16\">\n     <g id=\"line2d_66\">\n      <path clip-path=\"url(#p42c65d3b78)\" d=\"M 447.805507 596.424261 \nL 447.805507 436.895604 \n\" style=\"fill:none;stroke:#b0b0b0;stroke-linecap:square;stroke-width:0.8;\"/>\n     </g>\n     <g id=\"line2d_67\">\n      <g>\n       <use style=\"stroke:#000000;stroke-width:0.8;\" x=\"447.805507\" xlink:href=\"#m5b1aa0e5d9\" y=\"596.424261\"/>\n      </g>\n     </g>\n     <g id=\"text_36\">\n      <!-- $\\mathdefault{0}$ -->\n      <g transform=\"translate(443.921816 615.185713)scale(0.17 -0.17)\">\n       <use transform=\"scale(0.996264)\" xlink:href=\"#CMR17-48\"/>\n      </g>\n     </g>\n    </g>\n    <g id=\"xtick_17\">\n     <g id=\"line2d_68\">\n      <path clip-path=\"url(#p42c65d3b78)\" d=\"M 540.252933 596.424261 \nL 540.252933 436.895604 \n\" style=\"fill:none;stroke:#b0b0b0;stroke-linecap:square;stroke-width:0.8;\"/>\n     </g>\n     <g id=\"line2d_69\">\n      <g>\n       <use style=\"stroke:#000000;stroke-width:0.8;\" x=\"540.252933\" xlink:href=\"#m5b1aa0e5d9\" y=\"596.424261\"/>\n      </g>\n     </g>\n     <g id=\"text_37\">\n      <!-- $\\mathdefault{2}$ -->\n      <g transform=\"translate(536.369242 615.185713)scale(0.17 -0.17)\">\n       <use transform=\"scale(0.996264)\" xlink:href=\"#CMR17-50\"/>\n      </g>\n     </g>\n    </g>\n    <g id=\"xtick_18\">\n     <g id=\"line2d_70\">\n      <path clip-path=\"url(#p42c65d3b78)\" d=\"M 632.700359 596.424261 \nL 632.700359 436.895604 \n\" style=\"fill:none;stroke:#b0b0b0;stroke-linecap:square;stroke-width:0.8;\"/>\n     </g>\n     <g id=\"line2d_71\">\n      <g>\n       <use style=\"stroke:#000000;stroke-width:0.8;\" x=\"632.700359\" xlink:href=\"#m5b1aa0e5d9\" y=\"596.424261\"/>\n      </g>\n     </g>\n     <g id=\"text_38\">\n      <!-- $\\mathdefault{4}$ -->\n      <g transform=\"translate(628.816668 615.185713)scale(0.17 -0.17)\">\n       <use transform=\"scale(0.996264)\" xlink:href=\"#CMR17-52\"/>\n      </g>\n     </g>\n    </g>\n   </g>\n   <g id=\"matplotlib.axis_12\">\n    <g id=\"ytick_16\">\n     <g id=\"line2d_72\">\n      <path clip-path=\"url(#p42c65d3b78)\" d=\"M 436.249579 589.172959 \nL 690.48 589.172959 \n\" style=\"fill:none;stroke:#b0b0b0;stroke-linecap:square;stroke-width:0.8;\"/>\n     </g>\n     <g id=\"line2d_73\">\n      <g>\n       <use style=\"stroke:#000000;stroke-width:0.8;\" x=\"436.249579\" xlink:href=\"#mfcdaad7ab6\" y=\"589.172959\"/>\n      </g>\n     </g>\n     <g id=\"text_39\">\n      <!-- $\\mathdefault{0}$ -->\n      <g transform=\"translate(421.482197 595.053684)scale(0.17 -0.17)\">\n       <use transform=\"scale(0.996264)\" xlink:href=\"#CMR17-48\"/>\n      </g>\n     </g>\n    </g>\n    <g id=\"ytick_17\">\n     <g id=\"line2d_74\">\n      <path clip-path=\"url(#p42c65d3b78)\" d=\"M 436.249579 544.693129 \nL 690.48 544.693129 \n\" style=\"fill:none;stroke:#b0b0b0;stroke-linecap:square;stroke-width:0.8;\"/>\n     </g>\n     <g id=\"line2d_75\">\n      <g>\n       <use style=\"stroke:#000000;stroke-width:0.8;\" x=\"436.249579\" xlink:href=\"#mfcdaad7ab6\" y=\"544.693129\"/>\n      </g>\n     </g>\n     <g id=\"text_40\">\n      <!-- $\\mathdefault{2}$ -->\n      <g transform=\"translate(421.482197 550.573855)scale(0.17 -0.17)\">\n       <use transform=\"scale(0.996264)\" xlink:href=\"#CMR17-50\"/>\n      </g>\n     </g>\n    </g>\n    <g id=\"ytick_18\">\n     <g id=\"line2d_76\">\n      <path clip-path=\"url(#p42c65d3b78)\" d=\"M 436.249579 500.2133 \nL 690.48 500.2133 \n\" style=\"fill:none;stroke:#b0b0b0;stroke-linecap:square;stroke-width:0.8;\"/>\n     </g>\n     <g id=\"line2d_77\">\n      <g>\n       <use style=\"stroke:#000000;stroke-width:0.8;\" x=\"436.249579\" xlink:href=\"#mfcdaad7ab6\" y=\"500.2133\"/>\n      </g>\n     </g>\n     <g id=\"text_41\">\n      <!-- $\\mathdefault{4}$ -->\n      <g transform=\"translate(421.482197 506.094026)scale(0.17 -0.17)\">\n       <use transform=\"scale(0.996264)\" xlink:href=\"#CMR17-52\"/>\n      </g>\n     </g>\n    </g>\n    <g id=\"ytick_19\">\n     <g id=\"line2d_78\">\n      <path clip-path=\"url(#p42c65d3b78)\" d=\"M 436.249579 455.733471 \nL 690.48 455.733471 \n\" style=\"fill:none;stroke:#b0b0b0;stroke-linecap:square;stroke-width:0.8;\"/>\n     </g>\n     <g id=\"line2d_79\">\n      <g>\n       <use style=\"stroke:#000000;stroke-width:0.8;\" x=\"436.249579\" xlink:href=\"#mfcdaad7ab6\" y=\"455.733471\"/>\n      </g>\n     </g>\n     <g id=\"text_42\">\n      <!-- $\\mathdefault{6}$ -->\n      <g transform=\"translate(421.482197 461.614197)scale(0.17 -0.17)\">\n       <use transform=\"scale(0.996264)\" xlink:href=\"#CMR17-54\"/>\n      </g>\n     </g>\n    </g>\n    <g id=\"text_43\">\n     <!-- $&lt;c^\\dagger_{1 \\uparrow} c^\\dagger_{1 \\downarrow} c_{-1 \\uparrow} n_ {-1 \\downarrow}&gt;$ -->\n     <g transform=\"translate(410.067908 583.846262)rotate(-90)scale(0.17 -0.17)\">\n      <use transform=\"scale(0.996264)\" xlink:href=\"#CMMI12-60\"/>\n      <use transform=\"translate(103.546105 0)scale(0.996264)\" xlink:href=\"#CMMI12-99\"/>\n      <use transform=\"translate(145.529338 47.875931)scale(0.697382)\" xlink:href=\"#CMSY10-121\"/>\n      <use transform=\"translate(145.529338 -30.053361)scale(0.697382)\" xlink:href=\"#CMR17-49\"/>\n      <use transform=\"translate(177.51252 -30.053361)scale(0.697382)\" xlink:href=\"#CMSY10-34\"/>\n      <use transform=\"translate(212.879862 0)scale(0.996264)\" xlink:href=\"#CMMI12-99\"/>\n      <use transform=\"translate(254.863096 47.875931)scale(0.697382)\" xlink:href=\"#CMSY10-121\"/>\n      <use transform=\"translate(254.863096 -30.053361)scale(0.697382)\" xlink:href=\"#CMR17-49\"/>\n      <use transform=\"translate(286.846278 -30.053361)scale(0.697382)\" xlink:href=\"#CMSY10-35\"/>\n      <use transform=\"translate(322.21362 0)scale(0.996264)\" xlink:href=\"#CMMI12-99\"/>\n      <use transform=\"translate(364.196853 -14.943915)scale(0.697382)\" xlink:href=\"#CMSY10-0\"/>\n      <use transform=\"translate(418.437847 -14.943915)scale(0.697382)\" xlink:href=\"#CMR17-49\"/>\n      <use transform=\"translate(450.421029 -14.943915)scale(0.697382)\" xlink:href=\"#CMSY10-34\"/>\n      <use transform=\"translate(485.788371 0)scale(0.996264)\" xlink:href=\"#CMMI12-110\"/>\n      <use transform=\"translate(544.018418 -14.943915)scale(0.697382)\" xlink:href=\"#CMSY10-0\"/>\n      <use transform=\"translate(598.259411 -14.943915)scale(0.697382)\" xlink:href=\"#CMR17-49\"/>\n      <use transform=\"translate(630.242593 -14.943915)scale(0.697382)\" xlink:href=\"#CMSY10-35\"/>\n      <use transform=\"translate(693.283944 0)scale(0.996264)\" xlink:href=\"#CMMI12-62\"/>\n     </g>\n    </g>\n    <g id=\"text_44\">\n     <!-- $\\times\\mathdefault{10^{−6}}\\mathdefault{}$ -->\n     <g transform=\"translate(436.249579 433.895604)scale(0.17 -0.17)\">\n      <defs>\n       <path d=\"M 38.90625 27.734375 \nL 18.90625 47.59375 \nC 17.703125 48.796875 17.5 49 16.703125 49 \nC 15.703125 49 14.703125 48.09375 14.703125 47 \nC 14.703125 46.296875 14.90625 46.09375 16 45 \nL 36 24.9375 \nL 16 4.890625 \nC 14.90625 3.796875 14.703125 3.59375 14.703125 2.890625 \nC 14.703125 1.796875 15.703125 0.890625 16.703125 0.890625 \nC 17.5 0.890625 17.703125 1.09375 18.90625 2.296875 \nL 38.796875 22.15625 \nL 59.5 1.484375 \nC 59.703125 1.390625 60.40625 0.890625 61 0.890625 \nC 62.203125 0.890625 63 1.796875 63 2.890625 \nC 63 3.09375 63 3.484375 62.703125 3.984375 \nC 62.59375 4.1875 46.703125 19.859375 41.703125 24.9375 \nL 60 43.203125 \nC 60.5 43.796875 62 45.09375 62.5 45.703125 \nC 62.59375 45.890625 63 46.296875 63 47 \nC 63 48.09375 62.203125 49 61 49 \nC 60.203125 49 59.796875 48.59375 58.703125 47.5 \nz\n\" id=\"CMSY10-2\"/>\n      </defs>\n      <use transform=\"scale(0.996264)\" xlink:href=\"#CMSY10-2\"/>\n      <use transform=\"translate(77.487468 0)scale(0.996264)\" xlink:href=\"#CMR17-49\"/>\n      <use transform=\"translate(123.177945 0)scale(0.996264)\" xlink:href=\"#CMR17-48\"/>\n      <use transform=\"translate(168.868422 36.153639)scale(0.697382)\" xlink:href=\"#CMSY10-0\"/>\n      <use transform=\"translate(223.109415 36.153639)scale(0.697382)\" xlink:href=\"#CMR17-54\"/>\n     </g>\n    </g>\n   </g>\n   <g id=\"line2d_80\">\n    <path clip-path=\"url(#p42c65d3b78)\" d=\"M 447.805507 589.172959 \nL 494.02922 589.172959 \nL 540.252933 589.168734 \nL 586.476646 584.417283 \nL 632.700359 566.667845 \nL 678.924072 444.146907 \n\" style=\"fill:none;stroke:#1f77b4;stroke-linecap:square;stroke-width:2;\"/>\n   </g>\n   <g id=\"patch_28\">\n    <path d=\"M 436.249579 596.424261 \nL 436.249579 436.895604 \n\" style=\"fill:none;stroke:#000000;stroke-linecap:square;stroke-linejoin:miter;stroke-width:0.8;\"/>\n   </g>\n   <g id=\"patch_29\">\n    <path d=\"M 690.48 596.424261 \nL 690.48 436.895604 \n\" style=\"fill:none;stroke:#000000;stroke-linecap:square;stroke-linejoin:miter;stroke-width:0.8;\"/>\n   </g>\n   <g id=\"patch_30\">\n    <path d=\"M 436.249579 596.424261 \nL 690.48 596.424261 \n\" style=\"fill:none;stroke:#000000;stroke-linecap:square;stroke-linejoin:miter;stroke-width:0.8;\"/>\n   </g>\n   <g id=\"patch_31\">\n    <path d=\"M 436.249579 436.895604 \nL 690.48 436.895604 \n\" style=\"fill:none;stroke:#000000;stroke-linecap:square;stroke-linejoin:miter;stroke-width:0.8;\"/>\n   </g>\n  </g>\n </g>\n <defs>\n  <clipPath id=\"p2e64f702b9\">\n   <rect height=\"159.528657\" width=\"254.230421\" x=\"77.662197\" y=\"7.2\"/>\n  </clipPath>\n  <clipPath id=\"pb7c834e3c0\">\n   <rect height=\"159.528657\" width=\"254.230421\" x=\"436.249579\" y=\"7.2\"/>\n  </clipPath>\n  <clipPath id=\"p30ecaabd91\">\n   <rect height=\"159.528657\" width=\"254.230421\" x=\"77.662197\" y=\"222.047802\"/>\n  </clipPath>\n  <clipPath id=\"p6492a343ab\">\n   <rect height=\"159.528657\" width=\"254.230421\" x=\"436.249579\" y=\"222.047802\"/>\n  </clipPath>\n  <clipPath id=\"p0d256ee45a\">\n   <rect height=\"159.528657\" width=\"254.230421\" x=\"77.662197\" y=\"436.895604\"/>\n  </clipPath>\n  <clipPath id=\"p42c65d3b78\">\n   <rect height=\"159.528657\" width=\"254.230421\" x=\"436.249579\" y=\"436.895604\"/>\n  </clipPath>\n </defs>\n</svg>\n",
      "image/png": "[encoded data removed]"
     },
     "metadata": {
      "needs_background": "light"
     }
    }
   ],
   "source": [
    "# !apt install texlive-fonts-recommended texlive-fonts-extra cm-super dvipng\n",
    "\n",
    "I1 = [0.6931471805599453, 0.5027994750013625, 0.44287078352334314, 0.3864835472164138, 0.2602715743804396, 0.26413910332887736]\n",
    "\n",
    "'''corrs = [\n",
    "0.2472037332913408, 0.5, 0.0, 0.0]\n",
    "0\n",
    "[0.001838969723091228, 0.2033775756011223, -2.395501581717002e-06, 8.418052584954193e-06]\n",
    "1\n",
    "[0.0031849587068003785, 0.16324321724051036, -1.0674324405191036e-06, 0.00019846561793481634]\n",
    "2\n",
    "[0.0006373262042843603, 0.1471330701462955, 7.597450009337662e-06, 0.006446976306860242]\n",
    "3\n",
    "[0.0026778433681072557, 0.1318862466660754, 0.00014663777870428625, 0.07707810516699248]\n",
    "4\n",
    "[0.0013237558398355744, 0.13305295934205227, 0.0008753705255651228, 0.0786918237687373]]\n",
    "]'''\n",
    "\n",
    "# I3 = [0.6931471805599453, 0.1038192509827075, 0.004080831503544768, 0.02812412852145668, 0.07890958543772397, ]\n",
    "\n",
    "# I1 = [round(element, 10) for element in I1]\n",
    "# I2 = [round(element, 10) for element in I2]\n",
    "# I3 = [round(element, 10) for element in I3]\n",
    "\n",
    "c1 =  [0.2472037332913408, 0.001838969723091228, 0.0031849587068003785, 0.0006373262042843603, 0.0026778433681072557, 0.0013237558398355744]\n",
    "c2 =  [0.5, 0.2033775756011223, 0.16324321724051036, 0.1471330701462955, 0.1318862466660754, 0.13305295934205227]\n",
    "c3 =  [0.0, -2.395501581717002e-06, -1.0674324405191036e-06, 7.597450009337662e-06, 0.00014663777870428625, 0.0008753705255651228]\n",
    "c4 =  [0.0, 8.418052584954193e-06, 0.00019846561793481634, 0.006446976306860242, 0.07707810516699248, 0.0786918237687373]\n",
    "c5 = [0.0, 0.0, 1.8994337469080465e-10, 2.1383517007372293e-07, 1.011924450973683e-06, 6.520980617901891e-06]\n",
    "\n",
    "fig, ax = plt.subplots(3,2)\n",
    "fig.set_size_inches(11,9)\n",
    "ax[0][0].plot(I1)\n",
    "ax[0][0].set_ylabel(r\"I:cloud-cloud\")\n",
    "ax[0][1].plot(np.abs(c1))\n",
    "ax[0][1].set_ylabel(r\"$<n_{1 \\downarrow} n_ {-1 \\uparrow}>$\")\n",
    "ax[1][0].plot(np.abs(c2))\n",
    "ax[1][0].set_ylabel(r\"$<n_{1 \\downarrow} n_ {-1 \\downarrow}>$\")\n",
    "ax[1][1].plot(np.abs(c3))\n",
    "ax[1][1].set_ylabel(r\"$<c^\\dagger_{1 \\downarrow} c{-1 \\uparrow}>$\")\n",
    "ax[2][0].plot(np.abs(c4))\n",
    "ax[2][0].set_ylabel(r\"$<c^\\dagger_{1 \\uparrow} c{-1 \\uparrow}>$\")\n",
    "ax[2][1].plot(np.abs(c5))\n",
    "ax[2][1].set_ylabel(r\"$<c^\\dagger_{1 \\uparrow} c^\\dagger_{1 \\downarrow} c_{-1 \\uparrow} c{-1 \\downarrow}>$\")\n",
    "plt.tight_layout()\n",
    "plt.show()\n",
    "# plt.plot(I2)\n",
    "# # plt.yscale(\"log\")\n",
    "# plt.xlabel(r\"RG step\")\n",
    "# plt.ylabel(r\"$I({}:{})$\".format(lastup, cloud1up))\n",
    "# plt.show()\n",
    "# plt.plot(I3)\n",
    "# # plt.yscale(\"log\")\n",
    "# plt.xlabel(r\"RG step\")\n",
    "# plt.ylabel(r\"$I({}:{})$\".format(imp_up, cloud1up))\n",
    "# plt.show()"
   ]
  },
  {
   "cell_type": "code",
   "execution_count": null,
   "metadata": {},
   "outputs": [],
   "source": []
  }
 ],
 "metadata": {
  "colab": {
   "collapsed_sections": [],
   "name": "reverse.ipynb",
   "provenance": []
  },
  "kernelspec": {
   "display_name": "Python 3",
   "language": "python",
   "name": "python3"
  },
  "language_info": {
   "codemirror_mode": {
    "name": "ipython",
    "version": 3
   },
   "file_extension": ".py",
   "mimetype": "text/x-python",
   "name": "python",
   "nbconvert_exporter": "python",
   "pygments_lexer": "ipython3",
   "version": "3.9.4-final"
  }
 },
 "nbformat": 4,
 "nbformat_minor": 4
}