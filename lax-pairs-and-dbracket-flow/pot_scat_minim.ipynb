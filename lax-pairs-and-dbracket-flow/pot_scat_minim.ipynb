{
 "metadata": {
  "language_info": {
   "codemirror_mode": {
    "name": "ipython",
    "version": 3
   },
   "file_extension": ".py",
   "mimetype": "text/x-python",
   "name": "python",
   "nbconvert_exporter": "python",
   "pygments_lexer": "ipython3",
   "version": "3.9.2-final"
  },
  "orig_nbformat": 2,
  "kernelspec": {
   "name": "python3",
   "display_name": "Python 3"
  }
 },
 "nbformat": 4,
 "nbformat_minor": 2,
 "cells": [
  {
   "cell_type": "code",
   "execution_count": 1,
   "metadata": {},
   "outputs": [],
   "source": [
    "from matplotlib import pyplot as plt\n",
    "import numpy as np\n",
    "import matplotlib\n",
    "\n",
    "font = {'family' : 'Source Code Pro',\n",
    "        'size'   : 15}\n",
    "\n",
    "matplotlib.rc('font', **font)\n",
    "matplotlib.rcParams['text.usetex'] = True"
   ]
  },
  {
   "cell_type": "code",
   "execution_count": null,
   "metadata": {},
   "outputs": [],
   "source": [
    "def rg(w,D,J):\n",
    "    delta = J**2 /(w - D/2)\n",
    "    if J * (J + delta) <= 0:\n",
    "        return 0\n",
    "    else:\n",
    "        return J+delta"
   ]
  },
  {
   "cell_type": "code",
   "execution_count": null,
   "metadata": {},
   "outputs": [],
   "source": [
    "for Dmax in [10]:\n",
    "    J = 0.1\n",
    "    N = 1000\n",
    "    w = 0.1\n",
    "    ax[0].set_title(r'$J = {}, N = {}, D = {}, \\omega={}$'.format(J, N, Dmax, w))\n",
    "    ax[1].set_title(r'$J = {}, N = {}, D = {}, \\omega={}$'.format(J, N, Dmax, w))\n",
    "    count = N\n",
    "    X = []\n",
    "    Y = []\n",
    "    Z = []\n",
    "    den = w - Dmax/2\n",
    "    for D in np.linspace(Dmax,0,N):\n",
    "        trace = J**2 * count\n",
    "        X.append(count)\n",
    "        Y.append(trace)\n",
    "        Z.append(J)\n",
    "        if den * (w - D/2) <= 0:\n",
    "            print (count)\n",
    "            print (trace)\n",
    "            ax[0].plot(X, Y)\n",
    "            ax[0].set_xlabel(r'RG step')\n",
    "            ax[0].set_ylabel(r'$\\chi$')\n",
    "            ax[1].plot(X, Z)\n",
    "            ax[1].set_xlabel(r'RG step')\n",
    "            ax[1].set_ylabel(r'$J$')\n",
    "            plt.show()\n",
    "            quit()\n",
    "        den = w - D/2\n",
    "        J = rg2(w, D, J)\n",
    "        count -= 1"
   ]
  }
 ]
}