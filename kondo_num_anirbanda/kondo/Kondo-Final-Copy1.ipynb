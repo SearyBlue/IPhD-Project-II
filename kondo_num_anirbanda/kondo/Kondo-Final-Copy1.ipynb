{
 "cells": [
  {
   "cell_type": "code",
   "execution_count": 1,
   "metadata": {},
   "outputs": [
    {
     "data": {
      "text/html": [
       "<style>.container { width:100% !important; }</style>"
      ],
      "text/plain": [
       "<IPython.core.display.HTML object>"
      ]
     },
     "metadata": {},
     "output_type": "display_data"
    }
   ],
   "source": [
    "from IPython.core.display import display, HTML\n",
    "display(HTML(\"<style>.container { width:100% !important; }</style>\"))"
   ]
  },
  {
   "cell_type": "code",
   "execution_count": 2,
   "metadata": {},
   "outputs": [],
   "source": [
    "import numpy as np\n",
    "import re\n",
    "from numpy import linalg as LA\n",
    "from time import time\n",
    "from scipy import sparse\n",
    "import matplotlib.pyplot as plt"
   ]
  },
  {
   "cell_type": "code",
   "execution_count": 3,
   "metadata": {},
   "outputs": [
    {
     "name": "stderr",
     "output_type": "stream",
     "text": [
      "/home/nivedita/anaconda3/lib/python3.7/site-packages/matplotlib/contour.py:1000: UserWarning: The following kwargs were not used by contour: 'color'\n",
      "  s)\n"
     ]
    }
   ],
   "source": [
    "N=100\n",
    "kx=np.linspace(0,np.pi,N)\n",
    "ky=np.linspace(0,np.pi,N)\n",
    "plt.rcParams['figure.figsize'] = [7,7]\n",
    "Kx,Ky=np.meshgrid(kx,ky)\n",
    "E=-2*(np.cos(Kx)+np.cos(Ky))\n",
    "E_F=-3.8\n",
    "CS=plt.contour(kx,ky,E,levels=[E_F],color='red')\n",
    "#plt.contour(-kx,ky,E,levels=[E_F],color='red')\n",
    "#plt.contour(-kx,-ky,E,levels=[E_F],color='red')\n",
    "#plt.contour(kx,-ky,E,levels=[E_F],color='red')\n",
    "#plt.contourf(kx,ky,E,cmap='Blues')\n",
    "#plt.contourf(-kx,ky,E,cmap='Blues')\n",
    "#plt.contourf(-kx,-ky,E,cmap='Blues')\n",
    "#plt.contourf(kx,-ky,E,cmap='Blues')\n",
    "F = CS.collections[0].get_paths()[0]\n",
    "plt.close()\n",
    "coordsF = F.vertices\n",
    "vF = np.dstack([2*np.sin(coordsF[:,0]),2*np.sin(coordsF[:,1])])[0]\n",
    "vFmag = vF[:,0]*vF[:,0]+vF[:,1]*vF[:,1]\n",
    "shatF  = vF/np.transpose([vFmag])\n",
    "thetaF0 =  np.float64(np.arctan((vF[:,1]+1e-2)/(vF[:,0]+1e-2))) \n",
    "coordsFx_irr = coordsF[:,0]\n",
    "coordsFy_irr = coordsF[:,1]\n",
    "Lambda0=np.pi/(2*np.sqrt(2))\n",
    "steps=30000 #30000\n",
    "eps=(1-1/(N*N)) #0.9999\n",
    "lambdaF=Lambda0*eps**np.linspace(0,steps-1,steps)\n",
    "ThetaF,LambdaF=np.meshgrid(thetaF0,lambdaF)\n",
    "Fwvfx_out = coordsFx_irr+LambdaF*np.cos(ThetaF)\n",
    "Fwvfy_out = coordsFy_irr+LambdaF*np.sin(ThetaF)\n",
    "EFwvf=-2*(np.cos(Fwvfx_out)+np.cos(Fwvfy_out))"
   ]
  },
  {
   "cell_type": "code",
   "execution_count": 4,
   "metadata": {},
   "outputs": [],
   "source": [
    "EFwvfAvg=np.sum(EFwvf,axis=1)/len(thetaF0)"
   ]
  },
  {
   "cell_type": "code",
   "execution_count": 5,
   "metadata": {},
   "outputs": [
    {
     "data": {
      "text/plain": [
       "array([-1.90793625, -1.9081885 , -1.90844072, ..., -3.7488182 ,\n",
       "       -3.74882362, -3.74882903])"
      ]
     },
     "execution_count": 5,
     "metadata": {},
     "output_type": "execute_result"
    }
   ],
   "source": [
    "EFwvfAvg"
   ]
  },
  {
   "cell_type": "code",
   "execution_count": 6,
   "metadata": {},
   "outputs": [],
   "source": [
    "J0=1/(N*N)#1.19e9/(N*N)#5e-3/(N*N)\n",
    "J=np.zeros(steps)\n",
    "J[0]=J0\n",
    "omega=4 #1/2 of bandwidth in 2D"
   ]
  },
  {
   "cell_type": "code",
   "execution_count": 7,
   "metadata": {},
   "outputs": [
    {
     "data": {
      "text/plain": [
       "[<matplotlib.lines.Line2D at 0x7f15600ab710>]"
      ]
     },
     "execution_count": 7,
     "metadata": {},
     "output_type": "execute_result"
    },
    {
     "data": {
      "image/png": "[encoded data removed]",
      "text/plain": [
       "<Figure size 504x504 with 1 Axes>"
      ]
     },
     "metadata": {
      "needs_background": "light"
     },
     "output_type": "display_data"
    }
   ],
   "source": [
    "plt.plot(lambdaF/Lambda0,EFwvfAvg-E_F)"
   ]
  },
  {
   "cell_type": "code",
   "execution_count": 8,
   "metadata": {},
   "outputs": [],
   "source": [
    "k=0\n",
    "for i in range(len(lambdaF)-1):\n",
    "    Ek=EFwvfAvg[i]-E_F\n",
    "    if(Ek-J[0]/4>0):\n",
    "        if(Ek-J[i]/4>0):\n",
    "\n",
    "            J[i+1]=J[i]+2*np.pi*np.sqrt(0.2)*J[i]*(1/((Ek)**2-J[i]**2/16))*J[i]*(Ek)\n",
    "        else:\n",
    "            J[i:]=4*Ek\n",
    "            k=i\n",
    "            break\n",
    "    else:\n",
    "        if(Ek-J[i]/4<0):\n",
    "\n",
    "            J[i+1]=J[i]+2*np.pi*np.sqrt(0.2)*J[i]*(1/((Ek)**2-J[i]**2/16))*J[i]*(Ek)\n",
    "        else:\n",
    "            J[i:]=4*Ek\n",
    "            k=i\n",
    "            break\n",
    "    "
   ]
  },
  {
   "cell_type": "code",
   "execution_count": 9,
   "metadata": {},
   "outputs": [
    {
     "data": {
      "text/plain": [
       "[<matplotlib.lines.Line2D at 0x7f156003d240>]"
      ]
     },
     "execution_count": 9,
     "metadata": {},
     "output_type": "execute_result"
    },
    {
     "data": {
      "image/png": "[encoded data removed]",
      "text/plain": [
       "<Figure size 504x504 with 1 Axes>"
      ]
     },
     "metadata": {
      "needs_background": "light"
     },
     "output_type": "display_data"
    }
   ],
   "source": [
    "plt.plot(-np.log(lambdaF/Lambda0),J[::-1])"
   ]
  },
  {
   "cell_type": "markdown",
   "metadata": {},
   "source": [
    "Let us write the Kondo Singlet wavefunction in terms of four electronic states near Fermi surface $|k_{F},\\uparrow\\rangle$, $|k_{F},\\downarrow\\rangle$,$|k_{F}+\\delta,\\uparrow\\rangle$,$|k_{F}+\\delta,\\downarrow\\rangle$ that are coupled to the Kondo impurity configurations $|\\Uparrow\\rangle$ $|\\Downarrow\\rangle$ respectively. Additionally at wave-vector $|k_{F}+2\\delta,\\uparrow\\rangle$, $|k_{F}+2\\delta,\\downarrow\\rangle$ we place another electronic state in the occupied configuration representing the local Fermi liquid. <br>\n",
    "$|\\Psi\\rangle = \\frac{1}{\\sqrt{2}}\\left[\\sum_{j=0}^{1}|\\Uparrow 1_{k_{F}+j\\delta,\\downarrow}\\rangle| \\text{other states}\\rangle-\\sum_{j=0}^{1}|\\Downarrow 1_{k_{F}+j\\delta,\\uparrow}\\rangle| \\text{other states}\\rangle\\right]$ "
   ]
  },
  {
   "cell_type": "markdown",
   "metadata": {},
   "source": [
    "11000\n",
    "00100\n",
    "10010\n",
    "00001"
   ]
  },
  {
   "cell_type": "code",
   "execution_count": 22,
   "metadata": {},
   "outputs": [],
   "source": [
    "labelSites='I112233445566'\n",
    "labelSpins=' 010101010101'\n",
    "conf0='1100010000000'\n",
    "conf1='0010010000000'\n",
    "conf2='1001010000000'\n",
    "conf3='0000110000000'\n",
    "weights=[0.5,-0.5,0.5,-0.5]\n",
    "f=open('KondoWvFn0.txt','+w')\n",
    "f.write(labelSites+'\\n')\n",
    "f.write(labelSpins+'\\n')\n",
    "f.write(conf0+str(weights[0])+'\\n')\n",
    "f.write(conf1+str(weights[1])+'\\n')\n",
    "f.write(conf2+str(weights[2])+'\\n')\n",
    "f.write(conf3+str(weights[3]))\n",
    "f.close()"
   ]
  },
  {
   "cell_type": "code",
   "execution_count": 23,
   "metadata": {},
   "outputs": [
    {
     "data": {
      "text/plain": [
       "array([0.04490949, 0.05061228, 0.05785655, 0.06732477, 0.08014817,\n",
       "       0.09832636, 0.12569486, 0.17044278, 0.2528032 , 0.43441638,\n",
       "       0.97506934, 3.83940447])"
      ]
     },
     "execution_count": 23,
     "metadata": {},
     "output_type": "execute_result"
    }
   ],
   "source": [
    "J[4794:4806]"
   ]
  },
  {
   "cell_type": "code",
   "execution_count": 24,
   "metadata": {},
   "outputs": [],
   "source": [
    "from tqdm import tqdm\n",
    "invG=(EFwvfAvg[4794:4806]-E_F)[::-1]*0.5\n",
    "Jarr=J[4794:4806][::-1]\n",
    "N=13\n",
    "list1=np.array([i+1 for i in range(12)],dtype=np.int)\n",
    "def reverseRG(Psi,j):\n",
    "    Ket=np.array([np.array([conf[:N],conf[N:]]) for conf in Psi[2:]])\n",
    "    PsiOld=np.rec.fromarrays([Ket[:,0],Ket[:,1].astype(np.float64)],names='keys,vals')\n",
    "    iom=j+4\n",
    "    if(iom<13):\n",
    "        print(iom)\n",
    "        ents=list1[0:iom]\n",
    "        PsiNew = np.rec.fromarrays([np.zeros(len(PsiOld)*(4*j+5),dtype='<U32') ,np.zeros(len(PsiOld)*(4*j+5),dtype=np.float32)], names='keys,vals')\n",
    "        #putting old confs into new conf\n",
    "        Nold=len(PsiOld)\n",
    "        PsiNew['keys'][0:Nold]=PsiOld['keys']\n",
    "        PsiNew['vals'][0:Nold]=PsiOld['vals']\n",
    "        checkConf=lambda conf,iom,ent:1 if conf[ent]==conf[iom] else 0\n",
    "        confEig=lambda conf:-1 if conf=='0' else 1\n",
    "        mod=lambda conf:'0' if conf=='1' else '1'\n",
    "        process=lambda conf,a,b:conf[0:a]+conf[b]+conf[a+1:b]+conf[a]+conf[b+1:] if (a+b)%2==0 else mod(conf[0])+conf[1:a]+conf[b]+conf[a+1:b]+conf[a]+conf[b+1:] \n",
    "        exchangeString=lambda a,b: (-1)**(a-b)\n",
    "        weight=lambda conf,iom,ent,j:exchangeString(iom,ent)*(invG[iom]*confEig(conf[iom])-Jarr[j]*0.25*confEig(conf[iom])*confEig(conf[0]))**(-1)*Jarr[j]\n",
    "        supCoeffForConf= lambda w,Nold,PsiNew,modConf:w+PsiNew[0:Nold][np.where(PsiNew[0:Nold]['keys']==modConf)]['vals'] if modConf in PsiNew[0:Nold]['keys'] else w\n",
    "        indFun=lambda modConf,PsiNew,Nold:np.where(PsiNew['keys'][0:Nold]==modConf)[0][0] if modConf in PsiNew[0:Nold]['keys'] else Nold\n",
    "        for conf in tqdm(PsiOld):\n",
    "            for i in range(len(ents)):\n",
    "                if checkConf(conf['keys'],iom, ents[i])==0:\n",
    "                    modConf=process(conf['keys'],ents[i],iom)\n",
    "                    w=weight(conf['keys'],iom,ents[i],j)\n",
    "                    coeff=supCoeffForConf(w,Nold,PsiNew,modConf)\n",
    "                    ind=indFun(modConf,PsiNew,Nold)\n",
    "                    PsiNew['vals'][ind]=coeff\n",
    "                    PsiNew['keys'][ind]=modConf\n",
    "                    Nold=Nold if ind!=Nold else Nold+1\n",
    "        PsiNew['vals']=PsiNew['vals']/np.sqrt(np.sum(PsiNew['vals']*PsiNew['vals']))\n",
    "        PsiNew=PsiNew[PsiNew['vals']!=0.0]\n",
    "        return PsiNew[PsiNew['keys']!='']\n",
    "    else:\n",
    "        print('No decoupled electrons left to be entangled')"
   ]
  },
  {
   "cell_type": "code",
   "execution_count": 25,
   "metadata": {},
   "outputs": [
    {
     "name": "stderr",
     "output_type": "stream",
     "text": [
      "100%|██████████| 4/4 [00:00<00:00, 1132.07it/s]"
     ]
    },
    {
     "name": "stdout",
     "output_type": "stream",
     "text": [
      "5\n",
      "[('1100010000000',  0.05177316) ('0010010000000', -0.05177316)\n",
      " ('1001010000000',  0.05177316) ('0000110000000', -0.05177316)\n",
      " ('0110000000000', -0.26303467) ('1101000000000',  0.7988307 )\n",
      " ('0100100000000', -0.26303467) ('0011000000000', -0.26303467)\n",
      " ('1010100000000', -0.27276137) ('0001100000000', -0.26303467)]\n"
     ]
    },
    {
     "name": "stderr",
     "output_type": "stream",
     "text": [
      "\n"
     ]
    }
   ],
   "source": [
    "Psi=open(\"KondoWvFn0.txt\",\"+r\").readlines()\n",
    "Tpsi=reverseRG(Psi,1)\n",
    "print(Tpsi)\n",
    "PsiN=open(\"KondoWvFn1.txt\",\"+w\")\n",
    "PsiWrite = labelSites+'\\n'+labelSpins+'\\n'+''.join([conf['keys']+str(conf['vals'])+'\\n' for conf in Tpsi])\n",
    "PsiN.write(PsiWrite)\n",
    "PsiN.close()"
   ]
  },
  {
   "cell_type": "code",
   "execution_count": 26,
   "metadata": {},
   "outputs": [
    {
     "name": "stderr",
     "output_type": "stream",
     "text": [
      "100%|██████████| 10/10 [00:00<00:00, 1483.34it/s]"
     ]
    },
    {
     "name": "stdout",
     "output_type": "stream",
     "text": [
      "['I112233445566\\n', ' 010101010101\\n', '11000100000000.05177316\\n', '0010010000000-0.05177316\\n', '10010100000000.05177316\\n', '0000110000000-0.05177316\\n', '0110000000000-0.26303467\\n', '11010000000000.7988307\\n', '0100100000000-0.26303467\\n', '0011000000000-0.26303467\\n', '1010100000000-0.27276137\\n', '0001100000000-0.26303467\\n']\n",
      "6\n",
      "[('1100010000000',  0.02298251) ('0010010000000', -0.02298251)\n",
      " ('1001010000000',  0.02298251) ('0000110000000', -0.02298251)\n",
      " ('0110000000000', -0.11676317) ('1101000000000',  0.35460722)\n",
      " ('0100100000000', -0.11676317) ('0011000000000', -0.11676317)\n",
      " ('1010100000000', -0.12108092) ('0001100000000', -0.11676317)\n",
      " ('0000011000000',  0.35673714) ('0100001000000',  0.35673714)\n",
      " ('1010001000000',  0.4588908 ) ('0001001000000',  0.35673714)\n",
      " ('1000101000000',  0.45889086)]\n"
     ]
    },
    {
     "name": "stderr",
     "output_type": "stream",
     "text": [
      "\n"
     ]
    }
   ],
   "source": [
    "Psi=open(\"KondoWvFn1.txt\",\"+r\").readlines()\n",
    "print(Psi)\n",
    "Tpsi=reverseRG(Psi,2)\n",
    "print(Tpsi)\n",
    "PsiN=open(\"KondoWvFn2.txt\",\"+w\")\n",
    "PsiWrite = labelSites+'\\n'+labelSpins+'\\n'+''.join([conf['keys']+str(conf['vals'])+'\\n' for conf in Tpsi])\n",
    "PsiN.write(PsiWrite)\n",
    "PsiN.close()"
   ]
  },
  {
   "cell_type": "code",
   "execution_count": 27,
   "metadata": {},
   "outputs": [
    {
     "name": "stderr",
     "output_type": "stream",
     "text": [
      "100%|██████████| 15/15 [00:00<00:00, 1328.88it/s]"
     ]
    },
    {
     "name": "stdout",
     "output_type": "stream",
     "text": [
      "['I112233445566\\n', ' 010101010101\\n', '11000100000000.022982514\\n', '0010010000000-0.022982514\\n', '10010100000000.022982514\\n', '0000110000000-0.022982514\\n', '0110000000000-0.11676317\\n', '11010000000000.35460722\\n', '0100100000000-0.11676317\\n', '0011000000000-0.11676317\\n', '1010100000000-0.12108092\\n', '0001100000000-0.11676317\\n', '00000110000000.35673714\\n', '01000010000000.35673714\\n', '10100010000000.4588908\\n', '00010010000000.35673714\\n', '10001010000000.45889086\\n']\n",
      "7\n",
      "[('1100010000000',  0.02087151) ('0010010000000', -0.02087151)\n",
      " ('1001010000000',  0.02087151) ('0000110000000', -0.02087151)\n",
      " ('0110000000000', -0.10603814) ('1101000000000',  0.32203555)\n",
      " ('0100100000000', -0.10603814) ('0011000000000', -0.10603814)\n",
      " ('1010100000000', -0.1099593 ) ('0001100000000', -0.10603814)\n",
      " ('0000011000000',  0.3239698 ) ('0100001000000',  0.3239698 )\n",
      " ('1010001000000',  0.4167404 ) ('0001001000000',  0.3239698 )\n",
      " ('1000101000000',  0.41674042) ('1000010100000',  0.17091356)\n",
      " ('1100000100000',  0.17091356) ('0010000100000', -0.17091362)\n",
      " ('1001000100000',  0.17091356) ('0000100100000', -0.17091356)\n",
      " ('0000001100000', -0.17091356)]\n"
     ]
    },
    {
     "name": "stderr",
     "output_type": "stream",
     "text": [
      "\n"
     ]
    }
   ],
   "source": [
    "Psi=open(\"KondoWvFn2.txt\",\"+r\").readlines()\n",
    "print(Psi)\n",
    "Tpsi=reverseRG(Psi,3)\n",
    "print(Tpsi)\n",
    "PsiN=open(\"KondoWvFn3.txt\",\"+w\")\n",
    "PsiWrite = labelSites+'\\n'+labelSpins+'\\n'+''.join([conf['keys']+str(conf['vals'])+'\\n' for conf in Tpsi])\n",
    "PsiN.write(PsiWrite)\n",
    "PsiN.close()"
   ]
  },
  {
   "cell_type": "code",
   "execution_count": 28,
   "metadata": {},
   "outputs": [
    {
     "name": "stderr",
     "output_type": "stream",
     "text": [
      "100%|██████████| 21/21 [00:00<00:00, 1355.52it/s]"
     ]
    },
    {
     "name": "stdout",
     "output_type": "stream",
     "text": [
      "8\n",
      "[('1100010000000',  0.01507295) ('0010010000000', -0.01507295)\n",
      " ('1001010000000',  0.01507295) ('0000110000000', -0.01507295)\n",
      " ('0110000000000', -0.07657845) ('1101000000000',  0.23256709)\n",
      " ('0100100000000', -0.07657845) ('0011000000000', -0.07657845)\n",
      " ('1010100000000', -0.07941022) ('0001100000000', -0.07657845)\n",
      " ('0000011000000',  0.23396397) ('0100001000000',  0.23396397)\n",
      " ('1010001000000',  0.30096087) ('0001001000000',  0.23396397)\n",
      " ('1000101000000',  0.3009609 ) ('1000010100000',  0.12343007)\n",
      " ('1100000100000',  0.12343007) ('0010000100000', -0.12343011)\n",
      " ('1001000100000',  0.12343007) ('0000100100000', -0.12343007)\n",
      " ('0000001100000', -0.12343007) ('0000010010000',  0.12847786)\n",
      " ('0100000010000',  0.12847786) ('1010000010000',  0.37077948)\n",
      " ('0001000010000',  0.12847786) ('1000100010000',  0.37077948)\n",
      " ('1000001010000',  0.37077948) ('0000000110000',  0.12847786)]\n"
     ]
    },
    {
     "name": "stderr",
     "output_type": "stream",
     "text": [
      "\n"
     ]
    }
   ],
   "source": [
    "Psi=open(\"KondoWvFn3.txt\",\"+r\").readlines()\n",
    "Tpsi=reverseRG(Psi,4)\n",
    "print(Tpsi)\n",
    "PsiN=open(\"KondoWvFn4.txt\",\"+w\")\n",
    "PsiWrite = labelSites+'\\n'+labelSpins+'\\n'+''.join([conf['keys']+str(conf['vals'])+'\\n' for conf in Tpsi])\n",
    "PsiN.write(PsiWrite)\n",
    "PsiN.close()"
   ]
  },
  {
   "cell_type": "code",
   "execution_count": 29,
   "metadata": {},
   "outputs": [
    {
     "name": "stderr",
     "output_type": "stream",
     "text": [
      "100%|██████████| 28/28 [00:00<00:00, 1402.48it/s]"
     ]
    },
    {
     "name": "stdout",
     "output_type": "stream",
     "text": [
      "['I112233445566\\n', ' 010101010101\\n', '11000100000000.015072948\\n', '0010010000000-0.015072948\\n', '10010100000000.015072948\\n', '0000110000000-0.015072948\\n', '0110000000000-0.076578446\\n', '11010000000000.23256709\\n', '0100100000000-0.076578446\\n', '0011000000000-0.076578446\\n', '1010100000000-0.07941022\\n', '0001100000000-0.076578446\\n', '00000110000000.23396397\\n', '01000010000000.23396397\\n', '10100010000000.30096087\\n', '00010010000000.23396397\\n', '10001010000000.3009609\\n', '10000101000000.123430066\\n', '11000001000000.123430066\\n', '0010000100000-0.12343011\\n', '10010001000000.123430066\\n', '0000100100000-0.123430066\\n', '0000001100000-0.123430066\\n', '00000100100000.12847786\\n', '01000000100000.12847786\\n', '10100000100000.37077948\\n', '00010000100000.12847786\\n', '10001000100000.37077948\\n', '10000010100000.37077948\\n', '00000001100000.12847786\\n']\n",
      "9\n",
      "[('1100010000000',  0.01399311) ('0010010000000', -0.01399311)\n",
      " ('1001010000000',  0.01399311) ('0000110000000', -0.01399311)\n",
      " ('0110000000000', -0.07109232) ('1101000000000',  0.21590586)\n",
      " ('0100100000000', -0.07109232) ('0011000000000', -0.07109232)\n",
      " ('1010100000000', -0.07372123) ('0001100000000', -0.07109232)\n",
      " ('0000011000000',  0.21720266) ('0100001000000',  0.21720266)\n",
      " ('1010001000000',  0.27939987) ('0001001000000',  0.21720266)\n",
      " ('1000101000000',  0.2793999 ) ('1000010100000',  0.11458747)\n",
      " ('1100000100000',  0.11458747) ('0010000100000', -0.11458752)\n",
      " ('1001000100000',  0.11458747) ('0000100100000', -0.11458747)\n",
      " ('0000001100000', -0.11458747) ('0000010010000',  0.11927363)\n",
      " ('0100000010000',  0.11927363) ('1010000010000',  0.34421664)\n",
      " ('0001000010000',  0.11927363) ('1000100010000',  0.34421664)\n",
      " ('1000001010000',  0.34421664) ('0000000110000',  0.11927363)\n",
      " ('1000010001000',  0.13140994) ('1100000001000',  0.13140994)\n",
      " ('0010000001000', -0.13140996) ('1001000001000',  0.13140994)\n",
      " ('0000100001000', -0.13140996) ('0000001001000', -0.13140996)\n",
      " ('1000000101000',  0.13140993) ('0000000011000', -0.13140997)]\n"
     ]
    },
    {
     "name": "stderr",
     "output_type": "stream",
     "text": [
      "\n"
     ]
    }
   ],
   "source": [
    "Psi=open(\"KondoWvFn4.txt\",\"+r\").readlines()\n",
    "print(Psi)\n",
    "Tpsi=reverseRG(Psi,5)\n",
    "print(Tpsi)\n",
    "PsiN=open(\"KondoWvFn5.txt\",\"+w\")\n",
    "PsiWrite = labelSites+'\\n'+labelSpins+'\\n'+''.join([conf['keys']+str(conf['vals'])+'\\n' for conf in Tpsi])\n",
    "PsiN.write(PsiWrite)\n",
    "PsiN.close()"
   ]
  },
  {
   "cell_type": "code",
   "execution_count": 30,
   "metadata": {},
   "outputs": [
    {
     "name": "stderr",
     "output_type": "stream",
     "text": [
      "100%|██████████| 36/36 [00:00<00:00, 1388.09it/s]"
     ]
    },
    {
     "name": "stdout",
     "output_type": "stream",
     "text": [
      "10\n"
     ]
    },
    {
     "name": "stderr",
     "output_type": "stream",
     "text": [
      "\n"
     ]
    }
   ],
   "source": [
    "Psi=open(\"KondoWvFn5.txt\",\"+r\").readlines()\n",
    "Tpsi=reverseRG(Psi,6)\n",
    "PsiN=open(\"KondoWvFn6.txt\",\"+w\")\n",
    "PsiWrite = labelSites+'\\n'+labelSpins+'\\n'+''.join([conf['keys']+str(conf['vals'])+'\\n' for conf in Tpsi])\n",
    "PsiN.write(PsiWrite)\n",
    "PsiN.close()"
   ]
  },
  {
   "cell_type": "code",
   "execution_count": 31,
   "metadata": {},
   "outputs": [
    {
     "name": "stderr",
     "output_type": "stream",
     "text": [
      "100%|██████████| 45/45 [00:00<00:00, 1441.26it/s]"
     ]
    },
    {
     "name": "stdout",
     "output_type": "stream",
     "text": [
      "11\n"
     ]
    },
    {
     "name": "stderr",
     "output_type": "stream",
     "text": [
      "\n"
     ]
    }
   ],
   "source": [
    "Psi=open(\"KondoWvFn6.txt\",\"+r\").readlines()\n",
    "Tpsi=reverseRG(Psi,7)\n",
    "PsiN=open(\"KondoWvFn7.txt\",\"+w\")\n",
    "PsiWrite = labelSites+'\\n'+labelSpins+'\\n'+''.join([conf['keys']+str(conf['vals'])+'\\n' for conf in Tpsi])\n",
    "PsiN.write(PsiWrite)\n",
    "PsiN.close()"
   ]
  },
  {
   "cell_type": "code",
   "execution_count": 173,
   "metadata": {},
   "outputs": [
    {
     "name": "stderr",
     "output_type": "stream",
     "text": [
      "  0%|          | 0/55 [00:00<?, ?it/s]"
     ]
    },
    {
     "name": "stdout",
     "output_type": "stream",
     "text": [
      "12\n"
     ]
    },
    {
     "name": "stderr",
     "output_type": "stream",
     "text": [
      "\n"
     ]
    },
    {
     "ename": "IndexError",
     "evalue": "index 12 is out of bounds for axis 0 with size 12",
     "output_type": "error",
     "traceback": [
      "\u001b[0;31m---------------------------------------------------------------------------\u001b[0m",
      "\u001b[0;31mIndexError\u001b[0m                                Traceback (most recent call last)",
      "\u001b[0;32m<ipython-input-173-d1a3a8deed8b>\u001b[0m in \u001b[0;36m<module>\u001b[0;34m\u001b[0m\n\u001b[1;32m      1\u001b[0m \u001b[0mPsi\u001b[0m\u001b[0;34m=\u001b[0m\u001b[0mopen\u001b[0m\u001b[0;34m(\u001b[0m\u001b[0;34m\"KondoWvFn7.txt\"\u001b[0m\u001b[0;34m,\u001b[0m\u001b[0;34m\"+r\"\u001b[0m\u001b[0;34m)\u001b[0m\u001b[0;34m.\u001b[0m\u001b[0mreadlines\u001b[0m\u001b[0;34m(\u001b[0m\u001b[0;34m)\u001b[0m\u001b[0;34m\u001b[0m\u001b[0;34m\u001b[0m\u001b[0m\n\u001b[0;32m----> 2\u001b[0;31m \u001b[0mTpsi\u001b[0m\u001b[0;34m=\u001b[0m\u001b[0mreverseRG\u001b[0m\u001b[0;34m(\u001b[0m\u001b[0mPsi\u001b[0m\u001b[0;34m,\u001b[0m\u001b[0;36m8\u001b[0m\u001b[0;34m)\u001b[0m\u001b[0;34m\u001b[0m\u001b[0;34m\u001b[0m\u001b[0m\n\u001b[0m\u001b[1;32m      3\u001b[0m \u001b[0mPsiN\u001b[0m\u001b[0;34m=\u001b[0m\u001b[0mopen\u001b[0m\u001b[0;34m(\u001b[0m\u001b[0;34m\"KondoWvFn8.txt\"\u001b[0m\u001b[0;34m,\u001b[0m\u001b[0;34m\"+w\"\u001b[0m\u001b[0;34m)\u001b[0m\u001b[0;34m\u001b[0m\u001b[0;34m\u001b[0m\u001b[0m\n\u001b[1;32m      4\u001b[0m \u001b[0mPsiWrite\u001b[0m \u001b[0;34m=\u001b[0m \u001b[0mlabelSites\u001b[0m\u001b[0;34m+\u001b[0m\u001b[0;34m'\\n'\u001b[0m\u001b[0;34m+\u001b[0m\u001b[0mlabelSpins\u001b[0m\u001b[0;34m+\u001b[0m\u001b[0;34m'\\n'\u001b[0m\u001b[0;34m+\u001b[0m\u001b[0;34m''\u001b[0m\u001b[0;34m.\u001b[0m\u001b[0mjoin\u001b[0m\u001b[0;34m(\u001b[0m\u001b[0;34m[\u001b[0m\u001b[0mconf\u001b[0m\u001b[0;34m[\u001b[0m\u001b[0;34m'keys'\u001b[0m\u001b[0;34m]\u001b[0m\u001b[0;34m+\u001b[0m\u001b[0mstr\u001b[0m\u001b[0;34m(\u001b[0m\u001b[0mconf\u001b[0m\u001b[0;34m[\u001b[0m\u001b[0;34m'vals'\u001b[0m\u001b[0;34m]\u001b[0m\u001b[0;34m)\u001b[0m\u001b[0;34m+\u001b[0m\u001b[0;34m'\\n'\u001b[0m \u001b[0;32mfor\u001b[0m \u001b[0mconf\u001b[0m \u001b[0;32min\u001b[0m \u001b[0mTpsi\u001b[0m\u001b[0;34m]\u001b[0m\u001b[0;34m)\u001b[0m\u001b[0;34m\u001b[0m\u001b[0;34m\u001b[0m\u001b[0m\n\u001b[1;32m      5\u001b[0m \u001b[0mPsiN\u001b[0m\u001b[0;34m.\u001b[0m\u001b[0mwrite\u001b[0m\u001b[0;34m(\u001b[0m\u001b[0mPsiWrite\u001b[0m\u001b[0;34m)\u001b[0m\u001b[0;34m\u001b[0m\u001b[0;34m\u001b[0m\u001b[0m\n",
      "\u001b[0;32m<ipython-input-163-db62fcbdb5bb>\u001b[0m in \u001b[0;36mreverseRG\u001b[0;34m(Psi, j)\u001b[0m\n\u001b[1;32m     27\u001b[0m             \u001b[0;32mif\u001b[0m \u001b[0mcheckConf\u001b[0m\u001b[0;34m(\u001b[0m\u001b[0mconf\u001b[0m\u001b[0;34m[\u001b[0m\u001b[0;34m'keys'\u001b[0m\u001b[0;34m]\u001b[0m\u001b[0;34m,\u001b[0m\u001b[0miom\u001b[0m\u001b[0;34m,\u001b[0m \u001b[0ments\u001b[0m\u001b[0;34m[\u001b[0m\u001b[0mi\u001b[0m\u001b[0;34m]\u001b[0m\u001b[0;34m)\u001b[0m\u001b[0;34m==\u001b[0m\u001b[0;36m0\u001b[0m\u001b[0;34m:\u001b[0m\u001b[0;34m\u001b[0m\u001b[0;34m\u001b[0m\u001b[0m\n\u001b[1;32m     28\u001b[0m                 \u001b[0mmodConf\u001b[0m\u001b[0;34m=\u001b[0m\u001b[0mprocess\u001b[0m\u001b[0;34m(\u001b[0m\u001b[0mconf\u001b[0m\u001b[0;34m[\u001b[0m\u001b[0;34m'keys'\u001b[0m\u001b[0;34m]\u001b[0m\u001b[0;34m,\u001b[0m\u001b[0ments\u001b[0m\u001b[0;34m[\u001b[0m\u001b[0mi\u001b[0m\u001b[0;34m]\u001b[0m\u001b[0;34m,\u001b[0m\u001b[0miom\u001b[0m\u001b[0;34m)\u001b[0m\u001b[0;34m\u001b[0m\u001b[0;34m\u001b[0m\u001b[0m\n\u001b[0;32m---> 29\u001b[0;31m                 \u001b[0mw\u001b[0m\u001b[0;34m=\u001b[0m\u001b[0mweight\u001b[0m\u001b[0;34m(\u001b[0m\u001b[0mconf\u001b[0m\u001b[0;34m[\u001b[0m\u001b[0;34m'keys'\u001b[0m\u001b[0;34m]\u001b[0m\u001b[0;34m,\u001b[0m\u001b[0miom\u001b[0m\u001b[0;34m,\u001b[0m\u001b[0ments\u001b[0m\u001b[0;34m[\u001b[0m\u001b[0mi\u001b[0m\u001b[0;34m]\u001b[0m\u001b[0;34m,\u001b[0m\u001b[0mj\u001b[0m\u001b[0;34m)\u001b[0m\u001b[0;34m\u001b[0m\u001b[0;34m\u001b[0m\u001b[0m\n\u001b[0m\u001b[1;32m     30\u001b[0m                 \u001b[0mcoeff\u001b[0m\u001b[0;34m=\u001b[0m\u001b[0msupCoeffForConf\u001b[0m\u001b[0;34m(\u001b[0m\u001b[0mw\u001b[0m\u001b[0;34m,\u001b[0m\u001b[0mNold\u001b[0m\u001b[0;34m,\u001b[0m\u001b[0mPsiNew\u001b[0m\u001b[0;34m,\u001b[0m\u001b[0mmodConf\u001b[0m\u001b[0;34m)\u001b[0m\u001b[0;34m\u001b[0m\u001b[0;34m\u001b[0m\u001b[0m\n\u001b[1;32m     31\u001b[0m                 \u001b[0mind\u001b[0m\u001b[0;34m=\u001b[0m\u001b[0mindFun\u001b[0m\u001b[0;34m(\u001b[0m\u001b[0mmodConf\u001b[0m\u001b[0;34m,\u001b[0m\u001b[0mPsiNew\u001b[0m\u001b[0;34m,\u001b[0m\u001b[0mNold\u001b[0m\u001b[0;34m)\u001b[0m\u001b[0;34m\u001b[0m\u001b[0;34m\u001b[0m\u001b[0m\n",
      "\u001b[0;32m<ipython-input-163-db62fcbdb5bb>\u001b[0m in \u001b[0;36m<lambda>\u001b[0;34m(conf, iom, ent, j)\u001b[0m\n\u001b[1;32m     20\u001b[0m     \u001b[0mprocess\u001b[0m\u001b[0;34m=\u001b[0m\u001b[0;32mlambda\u001b[0m \u001b[0mconf\u001b[0m\u001b[0;34m,\u001b[0m\u001b[0ma\u001b[0m\u001b[0;34m,\u001b[0m\u001b[0mb\u001b[0m\u001b[0;34m:\u001b[0m\u001b[0mconf\u001b[0m\u001b[0;34m[\u001b[0m\u001b[0;36m0\u001b[0m\u001b[0;34m:\u001b[0m\u001b[0ma\u001b[0m\u001b[0;34m]\u001b[0m\u001b[0;34m+\u001b[0m\u001b[0mconf\u001b[0m\u001b[0;34m[\u001b[0m\u001b[0mb\u001b[0m\u001b[0;34m]\u001b[0m\u001b[0;34m+\u001b[0m\u001b[0mconf\u001b[0m\u001b[0;34m[\u001b[0m\u001b[0ma\u001b[0m\u001b[0;34m+\u001b[0m\u001b[0;36m1\u001b[0m\u001b[0;34m:\u001b[0m\u001b[0mb\u001b[0m\u001b[0;34m]\u001b[0m\u001b[0;34m+\u001b[0m\u001b[0mconf\u001b[0m\u001b[0;34m[\u001b[0m\u001b[0ma\u001b[0m\u001b[0;34m]\u001b[0m\u001b[0;34m+\u001b[0m\u001b[0mconf\u001b[0m\u001b[0;34m[\u001b[0m\u001b[0mb\u001b[0m\u001b[0;34m+\u001b[0m\u001b[0;36m1\u001b[0m\u001b[0;34m:\u001b[0m\u001b[0;34m]\u001b[0m \u001b[0;32mif\u001b[0m \u001b[0;34m(\u001b[0m\u001b[0ma\u001b[0m\u001b[0;34m+\u001b[0m\u001b[0mb\u001b[0m\u001b[0;34m)\u001b[0m\u001b[0;34m%\u001b[0m\u001b[0;36m2\u001b[0m\u001b[0;34m==\u001b[0m\u001b[0;36m0\u001b[0m \u001b[0;32melse\u001b[0m \u001b[0mmod\u001b[0m\u001b[0;34m(\u001b[0m\u001b[0mconf\u001b[0m\u001b[0;34m[\u001b[0m\u001b[0;36m0\u001b[0m\u001b[0;34m]\u001b[0m\u001b[0;34m)\u001b[0m\u001b[0;34m+\u001b[0m\u001b[0mconf\u001b[0m\u001b[0;34m[\u001b[0m\u001b[0;36m1\u001b[0m\u001b[0;34m:\u001b[0m\u001b[0ma\u001b[0m\u001b[0;34m]\u001b[0m\u001b[0;34m+\u001b[0m\u001b[0mconf\u001b[0m\u001b[0;34m[\u001b[0m\u001b[0mb\u001b[0m\u001b[0;34m]\u001b[0m\u001b[0;34m+\u001b[0m\u001b[0mconf\u001b[0m\u001b[0;34m[\u001b[0m\u001b[0ma\u001b[0m\u001b[0;34m+\u001b[0m\u001b[0;36m1\u001b[0m\u001b[0;34m:\u001b[0m\u001b[0mb\u001b[0m\u001b[0;34m]\u001b[0m\u001b[0;34m+\u001b[0m\u001b[0mconf\u001b[0m\u001b[0;34m[\u001b[0m\u001b[0ma\u001b[0m\u001b[0;34m]\u001b[0m\u001b[0;34m+\u001b[0m\u001b[0mconf\u001b[0m\u001b[0;34m[\u001b[0m\u001b[0mb\u001b[0m\u001b[0;34m+\u001b[0m\u001b[0;36m1\u001b[0m\u001b[0;34m:\u001b[0m\u001b[0;34m]\u001b[0m\u001b[0;34m\u001b[0m\u001b[0;34m\u001b[0m\u001b[0m\n\u001b[1;32m     21\u001b[0m     \u001b[0mexchangeString\u001b[0m\u001b[0;34m=\u001b[0m\u001b[0;32mlambda\u001b[0m \u001b[0ma\u001b[0m\u001b[0;34m,\u001b[0m\u001b[0mb\u001b[0m\u001b[0;34m:\u001b[0m \u001b[0;34m(\u001b[0m\u001b[0;34m-\u001b[0m\u001b[0;36m1\u001b[0m\u001b[0;34m)\u001b[0m\u001b[0;34m**\u001b[0m\u001b[0;34m(\u001b[0m\u001b[0ma\u001b[0m\u001b[0;34m-\u001b[0m\u001b[0mb\u001b[0m\u001b[0;34m)\u001b[0m\u001b[0;34m\u001b[0m\u001b[0;34m\u001b[0m\u001b[0m\n\u001b[0;32m---> 22\u001b[0;31m     \u001b[0mweight\u001b[0m\u001b[0;34m=\u001b[0m\u001b[0;32mlambda\u001b[0m \u001b[0mconf\u001b[0m\u001b[0;34m,\u001b[0m\u001b[0miom\u001b[0m\u001b[0;34m,\u001b[0m\u001b[0ment\u001b[0m\u001b[0;34m,\u001b[0m\u001b[0mj\u001b[0m\u001b[0;34m:\u001b[0m\u001b[0mexchangeString\u001b[0m\u001b[0;34m(\u001b[0m\u001b[0miom\u001b[0m\u001b[0;34m,\u001b[0m\u001b[0ment\u001b[0m\u001b[0;34m)\u001b[0m\u001b[0;34m*\u001b[0m\u001b[0;34m(\u001b[0m\u001b[0minvG\u001b[0m\u001b[0;34m[\u001b[0m\u001b[0miom\u001b[0m\u001b[0;34m]\u001b[0m\u001b[0;34m*\u001b[0m\u001b[0mconfEig\u001b[0m\u001b[0;34m(\u001b[0m\u001b[0mconf\u001b[0m\u001b[0;34m[\u001b[0m\u001b[0miom\u001b[0m\u001b[0;34m]\u001b[0m\u001b[0;34m)\u001b[0m\u001b[0;34m-\u001b[0m\u001b[0mJarr\u001b[0m\u001b[0;34m[\u001b[0m\u001b[0mj\u001b[0m\u001b[0;34m]\u001b[0m\u001b[0;34m*\u001b[0m\u001b[0;36m0.25\u001b[0m\u001b[0;34m*\u001b[0m\u001b[0mconfEig\u001b[0m\u001b[0;34m(\u001b[0m\u001b[0mconf\u001b[0m\u001b[0;34m[\u001b[0m\u001b[0miom\u001b[0m\u001b[0;34m]\u001b[0m\u001b[0;34m)\u001b[0m\u001b[0;34m*\u001b[0m\u001b[0mconfEig\u001b[0m\u001b[0;34m(\u001b[0m\u001b[0mconf\u001b[0m\u001b[0;34m[\u001b[0m\u001b[0;36m0\u001b[0m\u001b[0;34m]\u001b[0m\u001b[0;34m)\u001b[0m\u001b[0;34m)\u001b[0m\u001b[0;34m**\u001b[0m\u001b[0;34m(\u001b[0m\u001b[0;34m-\u001b[0m\u001b[0;36m1\u001b[0m\u001b[0;34m)\u001b[0m\u001b[0;34m*\u001b[0m\u001b[0mJarr\u001b[0m\u001b[0;34m[\u001b[0m\u001b[0mj\u001b[0m\u001b[0;34m]\u001b[0m\u001b[0;34m\u001b[0m\u001b[0;34m\u001b[0m\u001b[0m\n\u001b[0m\u001b[1;32m     23\u001b[0m     \u001b[0msupCoeffForConf\u001b[0m\u001b[0;34m=\u001b[0m \u001b[0;32mlambda\u001b[0m \u001b[0mw\u001b[0m\u001b[0;34m,\u001b[0m\u001b[0mNold\u001b[0m\u001b[0;34m,\u001b[0m\u001b[0mPsiNew\u001b[0m\u001b[0;34m,\u001b[0m\u001b[0mmodConf\u001b[0m\u001b[0;34m:\u001b[0m\u001b[0mw\u001b[0m\u001b[0;34m+\u001b[0m\u001b[0mPsiNew\u001b[0m\u001b[0;34m[\u001b[0m\u001b[0;36m0\u001b[0m\u001b[0;34m:\u001b[0m\u001b[0mNold\u001b[0m\u001b[0;34m]\u001b[0m\u001b[0;34m[\u001b[0m\u001b[0mnp\u001b[0m\u001b[0;34m.\u001b[0m\u001b[0mwhere\u001b[0m\u001b[0;34m(\u001b[0m\u001b[0mPsiNew\u001b[0m\u001b[0;34m[\u001b[0m\u001b[0;36m0\u001b[0m\u001b[0;34m:\u001b[0m\u001b[0mNold\u001b[0m\u001b[0;34m]\u001b[0m\u001b[0;34m[\u001b[0m\u001b[0;34m'keys'\u001b[0m\u001b[0;34m]\u001b[0m\u001b[0;34m==\u001b[0m\u001b[0mmodConf\u001b[0m\u001b[0;34m)\u001b[0m\u001b[0;34m]\u001b[0m\u001b[0;34m[\u001b[0m\u001b[0;34m'vals'\u001b[0m\u001b[0;34m]\u001b[0m \u001b[0;32mif\u001b[0m \u001b[0mmodConf\u001b[0m \u001b[0;32min\u001b[0m \u001b[0mPsiNew\u001b[0m\u001b[0;34m[\u001b[0m\u001b[0;36m0\u001b[0m\u001b[0;34m:\u001b[0m\u001b[0mNold\u001b[0m\u001b[0;34m]\u001b[0m\u001b[0;34m[\u001b[0m\u001b[0;34m'keys'\u001b[0m\u001b[0;34m]\u001b[0m \u001b[0;32melse\u001b[0m \u001b[0mw\u001b[0m\u001b[0;34m\u001b[0m\u001b[0;34m\u001b[0m\u001b[0m\n\u001b[1;32m     24\u001b[0m     \u001b[0mindFun\u001b[0m\u001b[0;34m=\u001b[0m\u001b[0;32mlambda\u001b[0m \u001b[0mmodConf\u001b[0m\u001b[0;34m,\u001b[0m\u001b[0mPsiNew\u001b[0m\u001b[0;34m,\u001b[0m\u001b[0mNold\u001b[0m\u001b[0;34m:\u001b[0m\u001b[0mnp\u001b[0m\u001b[0;34m.\u001b[0m\u001b[0mwhere\u001b[0m\u001b[0;34m(\u001b[0m\u001b[0mPsiNew\u001b[0m\u001b[0;34m[\u001b[0m\u001b[0;34m'keys'\u001b[0m\u001b[0;34m]\u001b[0m\u001b[0;34m[\u001b[0m\u001b[0;36m0\u001b[0m\u001b[0;34m:\u001b[0m\u001b[0mNold\u001b[0m\u001b[0;34m]\u001b[0m\u001b[0;34m==\u001b[0m\u001b[0mmodConf\u001b[0m\u001b[0;34m)\u001b[0m\u001b[0;34m[\u001b[0m\u001b[0;36m0\u001b[0m\u001b[0;34m]\u001b[0m\u001b[0;34m[\u001b[0m\u001b[0;36m0\u001b[0m\u001b[0;34m]\u001b[0m \u001b[0;32mif\u001b[0m \u001b[0mmodConf\u001b[0m \u001b[0;32min\u001b[0m \u001b[0mPsiNew\u001b[0m\u001b[0;34m[\u001b[0m\u001b[0;36m0\u001b[0m\u001b[0;34m:\u001b[0m\u001b[0mNold\u001b[0m\u001b[0;34m]\u001b[0m\u001b[0;34m[\u001b[0m\u001b[0;34m'keys'\u001b[0m\u001b[0;34m]\u001b[0m \u001b[0;32melse\u001b[0m \u001b[0mNold\u001b[0m\u001b[0;34m\u001b[0m\u001b[0;34m\u001b[0m\u001b[0m\n",
      "\u001b[0;31mIndexError\u001b[0m: index 12 is out of bounds for axis 0 with size 12"
     ]
    }
   ],
   "source": []
  },
  {
   "cell_type": "code",
   "execution_count": null,
   "metadata": {},
   "outputs": [],
   "source": [
    "Psi=open(\"KondoWvFn0.txt\",\"+r\").readlines()\n",
    "Ket=np.array([np.array([conf[:N],conf[N:]]) for conf in Psi[2:]])\n",
    "Psi=np.rec.fromarrays([Ket[:,0],Ket[:,1].astype(np.float64)],names='keys,vals')\n",
    "w=0\n",
    "for conf in Psi:\n",
    "    if (conf['keys'][0:3]=='110'):\n",
    "        string='001'+conf['keys'][3:]\n",
    "        w=w+conf['vals']*Psi['vals'][np.where(Psi['keys']==string)]\n",
    "  \n",
    "                    "
   ]
  }
 ],
 "metadata": {
  "kernelspec": {
   "display_name": "Python 3",
   "language": "python",
   "name": "python3"
  },
  "language_info": {
   "codemirror_mode": {
    "name": "ipython",
    "version": 3
   },
   "file_extension": ".py",
   "mimetype": "text/x-python",
   "name": "python",
   "nbconvert_exporter": "python",
   "pygments_lexer": "ipython3",
   "version": "3.7.1"
  }
 },
 "nbformat": 4,
 "nbformat_minor": 2
}
