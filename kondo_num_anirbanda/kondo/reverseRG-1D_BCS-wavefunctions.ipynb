{
 "cells": [
  {
   "cell_type": "code",
   "execution_count": 1,
   "metadata": {},
   "outputs": [
    {
     "data": {
      "text/html": [
       "<style>.container { width:100% !important; }</style>"
      ],
      "text/plain": [
       "<IPython.core.display.HTML object>"
      ]
     },
     "metadata": {},
     "output_type": "display_data"
    }
   ],
   "source": [
    "from IPython.core.display import display, HTML\n",
    "display(HTML(\"<style>.container { width:100% !important; }</style>\"))"
   ]
  },
  {
   "cell_type": "markdown",
   "metadata": {},
   "source": [
    "# 1D BCS Reverse RG wavefunctions\n",
    "$\\omega =?$ \n",
    "$~~~~~~~~~~~~~~~~~~~~mu=?$"
   ]
  },
  {
   "cell_type": "code",
   "execution_count": 2,
   "metadata": {},
   "outputs": [],
   "source": [
    "import numpy as np\n",
    "import re\n",
    "from numpy import linalg as LA\n",
    "from time import time\n",
    "from scipy import sparse\n",
    "import matplotlib.pyplot as plt\n",
    "from tqdm import tqdm"
   ]
  },
  {
   "cell_type": "markdown",
   "metadata": {},
   "source": [
    "__Generating the Fermi surface for the 1D electronic dispersion $\\epsilon_{\\mathbf{k}}=-2t \\cos k_{x}$, Choose $k_x=\\pi/2$"
   ]
  },
  {
   "cell_type": "code",
   "execution_count": 3,
   "metadata": {},
   "outputs": [
    {
     "data": {
      "image/png": "[encoded data removed]",
      "text/plain": [
       "<Figure size 1152x288 with 1 Axes>"
      ]
     },
     "metadata": {
      "needs_background": "light"
     },
     "output_type": "display_data"
    }
   ],
   "source": [
    "kFx=np.linspace(0,np.pi,100)\n",
    "kFy=np.zeros(len(kFx))\n",
    "plt.rcParams['figure.figsize'] = [16,4]\n",
    "plt.plot(kFx,kFy,'--',color='k')\n",
    "plt.plot(-kFx,kFy,'--',color='k')\n",
    "\n",
    "\n",
    "\n",
    "kx_Fermi_point=np.pi/2\n",
    "\n",
    "ky_Fermi=np.linspace(-0.5,0.5,10)\n",
    "kx_Fermi=kx_Fermi_point*np.ones(len(ky_Fermi))\n",
    "plt.plot(kx_Fermi,ky_Fermi,'--',c='r')\n",
    "plt.plot(-kx_Fermi,ky_Fermi,'--',c='r')\n",
    "\n",
    "\n",
    "Lambda_kx=0.25   #____________________________   2*Lambda_kx  is the window width\n",
    "boxheight=2*Lambda_kx\n",
    "\n",
    "plt.plot(np.linspace(kx_Fermi-Lambda_kx,kx_Fermi+Lambda_kx,10),boxheight*np.ones(10),'-.',c='b')\n",
    "plt.plot(np.linspace(kx_Fermi-Lambda_kx,kx_Fermi+Lambda_kx,10),-boxheight*np.ones(10),'-.',c='b')\n",
    "plt.plot((kx_Fermi[0]-Lambda_kx)*np.ones(10),np.linspace(-boxheight,boxheight,10),'-.',c='r')\n",
    "plt.plot((kx_Fermi[0]+Lambda_kx)*np.ones(10),np.linspace(-boxheight,boxheight,10),'-.',c='r')\n",
    "\n",
    "plt.plot(np.linspace(-kx_Fermi-Lambda_kx,-kx_Fermi+Lambda_kx,10),boxheight*np.ones(10),'-.',c='b')\n",
    "plt.plot(np.linspace(-kx_Fermi-Lambda_kx,-kx_Fermi+Lambda_kx,10),-boxheight*np.ones(10),'-.',c='b')\n",
    "plt.plot((-kx_Fermi[0]-Lambda_kx)*np.ones(10),np.linspace(-boxheight,boxheight,10),'-.',c='r')\n",
    "plt.plot((-kx_Fermi[0]+Lambda_kx)*np.ones(10),np.linspace(-boxheight,boxheight,10),'-.',c='r')\n",
    "\n",
    "RGsteps=201#0               #25\n",
    "LambdaF=(Lambda_kx)*np.linspace(0.0,1.,RGsteps)[1:][::-1]  # Excluding the Fermi point\n",
    "#print (LambdaF)\n",
    "\n",
    "Kx_nodes_out=kx_Fermi_point+LambdaF   #np.linspace(kx_Fermi-Lambda_kx,kx_Fermi+Lambda_kx,20)\n",
    "Kx_nodes_in=kx_Fermi_point-LambdaF   #np.linspace(kx_Fermi-Lambda_kx,kx_Fermi+Lambda_kx,20)\n",
    "Ky_nodes=np.zeros(len(Kx_nodes_out))\n",
    "\n",
    "plt.plot(Kx_nodes_out,Ky_nodes,'o',c='b')\n",
    "plt.plot(-Kx_nodes_out,Ky_nodes,'o',c='b')\n",
    "plt.plot(Kx_nodes_in,Ky_nodes,'o',c='r')\n",
    "plt.plot(-Kx_nodes_in,Ky_nodes,'o',c='r')\n",
    "\n",
    "#____________________________________ t=1\n",
    "EkOut=-2*np.cos(Kx_nodes_out)\n",
    "EkIn=-2*np.cos(Kx_nodes_in)\n",
    "#EkOut\n",
    "plt.plot(kFx,-2*np.cos(kFx),'--',c='k')\n",
    "plt.plot(-kFx,-2*np.cos(kFx),'--',c='k')\n",
    "\n",
    "plt.xlim(-np.pi,np.pi)\n",
    "plt.ylim(-2,2)\n",
    "\n",
    "plt.show()"
   ]
  },
  {
   "cell_type": "code",
   "execution_count": 4,
   "metadata": {},
   "outputs": [
    {
     "data": {
      "image/png": "[encoded data removed]",
      "text/plain": [
       "<Figure size 432x216 with 1 Axes>"
      ]
     },
     "metadata": {
      "needs_background": "light"
     },
     "output_type": "display_data"
    }
   ],
   "source": [
    "plt.rcParams['figure.figsize'] = [6,3]\n",
    "plt.plot(LambdaF,EkOut,'>-',label='EkOut')\n",
    "plt.plot(LambdaF,EkIn,'<-',label='EkIn')\n",
    "plt.legend()\n",
    "plt.show()"
   ]
  },
  {
   "cell_type": "markdown",
   "metadata": {},
   "source": [
    "__Renormalization group equations resulting out of the unitary transformations<br>\n",
    "1D \n",
    "\n",
    "$H=v_F\\displaystyle\\sum_{\\Lambda,\\eta=\\pm 1} \\delta k A^z_{\\eta,\\delta k}+\\frac{U}{2N_{\\Lambda}} \\vec{A}_{+,\\Lambda}.\\vec{A}_{-,\\Lambda}+\\frac{V}{2N_{\\Lambda}} \\bigg( \\vec{A}^2_{+,\\Lambda}+\\vec{A}^2_{-,\\Lambda} \\bigg)$ <br><br>\n",
    "\n",
    "In the $\\Downarrow$ sector. In the attractive U case, $U<0$. Back Scattering most relevant thus\n",
    "\n",
    "$\\Delta U^{(j)}=\\frac{U^{(j)2}}{\\omega-\\epsilon_k- \\frac{U^{(j)}}{4} }$, $~~~~\\omega=0~~,  ~~~\\delta k = k - k_F >0.$\n",
    "\n"
   ]
  },
  {
   "cell_type": "markdown",
   "metadata": {},
   "source": [
    "# Omega       Bandwidth     Bare Coupling."
   ]
  },
  {
   "cell_type": "code",
   "execution_count": 5,
   "metadata": {},
   "outputs": [],
   "source": [
    "omega=0.0\n",
    "#Bandwith W=8t, t=1\n",
    "W=4\n",
    "U0 = W/(RGsteps)"
   ]
  },
  {
   "cell_type": "code",
   "execution_count": 6,
   "metadata": {},
   "outputs": [],
   "source": [
    "def sign(x):\n",
    "    if x>0.0:\n",
    "        return +1\n",
    "    if x<0.0:\n",
    "        return -1\n",
    "    if x==0.0:\n",
    "        return 0.0"
   ]
  },
  {
   "cell_type": "code",
   "execution_count": 7,
   "metadata": {},
   "outputs": [],
   "source": [
    "def BS_RG(BS_0):\n",
    "    invG=-0.5*(EkOut+EkOut)\n",
    "    BS= 0.0*invG.copy()\n",
    "    BS[0]=BS_0\n",
    "    #print ('U0',U0)\n",
    "    coupling_sign=sign(BS[0])\n",
    "\n",
    "    ini_sign=sign(invG[0]-BS[0]/4.)    \n",
    "    #print(\"initial sign\",ini_sign)\n",
    "    \n",
    "    for i in range(len(LambdaF)-1):\n",
    "        BS[i+1] = BS[i] + BS[i]*BS[i]/(invG[i]-BS[i]/4.)\t\n",
    "        #print ('Ts:Disentangled',i+1,'node  ',LambdaF[i+1],L[i],omega-W-mu+EkTan[i])\n",
    "        #print (L[i])\n",
    "        if sign(BS[i+1])!=coupling_sign:\n",
    "            return i+1,LambdaF[i],BS\n",
    "        \n",
    "        if (sign(invG[i+1]-BS[i+1]/4.) !=ini_sign) or i==len(LambdaF)-2:\n",
    "            return i+1,LambdaF[i+1],BS                          #L[i+1],omega-W-mu+EkTan[i]\n",
    "    \n",
    "\n",
    "arg1,LambdaStarBs,Bs=BS_RG(-U0)\n",
    "#print (arg1,'\\n',LambdaStarBs,'\\n',Bs)\n",
    "\n",
    "oldBs=Bs.copy()\n",
    "oldBs[arg1+1:]=np.min(Bs)\n",
    "newBs=Bs.copy()\n",
    "newBs[arg1:]=4*(-0.5*(EkOut+EkOut)[arg1])\n",
    "\n",
    "#print (newBs,'\\n','\\n',newBs[arg1:])#,arg1)\n",
    "#print (oldBs)\n",
    "#print (newBs)\n",
    "\n",
    "\n",
    "#plt.rcParams['figure.figsize'] = [10,6]\n",
    "#plt.plot(LambdaF,oldBs,label=r'$Bs_{c}$')\n",
    "#plt.plot(LambdaF,newBs,label=r'$Bs^{analyt}_{C}$')\n",
    "#plt.scatter(LambdaF[arg1],newBs[arg1],label=r'$R^{analyt}_{C}/8$')\n",
    "#plt.legend()\n",
    "#plt.show()"
   ]
  },
  {
   "cell_type": "code",
   "execution_count": 8,
   "metadata": {},
   "outputs": [],
   "source": [
    "argBs=arg1\n",
    "Kc=newBs       # Back Scattering\n",
    "\n",
    "Vc=np.zeros(len(Kc))       # Forward Scattering\n",
    "\n",
    "Kc=[Kc]\n",
    "Vc=[Vc]"
   ]
  },
  {
   "cell_type": "markdown",
   "metadata": {},
   "source": [
    "                                    11 12 13 14 15 16 17 18 19 20             10  9  8  7  6  5  4  3  2  1"
   ]
  },
  {
   "cell_type": "code",
   "execution_count": 9,
   "metadata": {},
   "outputs": [],
   "source": [
    "#At this step we are choosing seven points along any normal from 25 points. \n",
    "RGIt=10\n",
    "#LambdaFtrunc=[LambdaF[np.where(LambdaF==LambdaFp)[0][0]-RGIt:np.where(LambdaF==LambdaFp)[0][0]]]\n",
    "#LambdaF,LambdaF[len(LambdaF)-1-RGIt:len(LambdaF)-1]"
   ]
  },
  {
   "cell_type": "code",
   "execution_count": 10,
   "metadata": {},
   "outputs": [
    {
     "data": {
      "image/png": "[encoded data removed]",
      "text/plain": [
       "<Figure size 432x216 with 1 Axes>"
      ]
     },
     "metadata": {
      "needs_background": "light"
     },
     "output_type": "display_data"
    }
   ],
   "source": [
    "plt.plot(LambdaF,Kc[0])\n",
    "#plt.plot(LambdaF,Vc[0])\n",
    "plt.show()\n",
    "#L[0]"
   ]
  },
  {
   "cell_type": "code",
   "execution_count": 11,
   "metadata": {},
   "outputs": [
    {
     "data": {
      "text/plain": [
       "([0, 1, 2, 3, 4, 5, 6, 7, 8, 199],\n",
       " [0.25,\n",
       "  0.24875,\n",
       "  0.2475,\n",
       "  0.24625,\n",
       "  0.245,\n",
       "  0.24375,\n",
       "  0.2425,\n",
       "  0.24125,\n",
       "  0.24,\n",
       "  0.00125])"
      ]
     },
     "execution_count": 11,
     "metadata": {},
     "output_type": "execute_result"
    }
   ],
   "source": [
    "#Choosing 9 IOMs points.\n",
    "LambdaFtrunc=[]\n",
    "LambdaFtrunc_Arg=[]\n",
    "CommonIOMs=LambdaF[0:RGIt-1]\n",
    "CommonIOMs_arg=np.array(range(0,RGIt-1))\n",
    "\n",
    "#Choosing only 1 IOMs from those\n",
    "for t in range(len(CommonIOMs)):\n",
    "    LambdaFtrunc.append(CommonIOMs[t])\n",
    "    LambdaFtrunc_Arg.append(CommonIOMs_arg[t])\n",
    "    \n",
    "LambdaFtrunc.append(LambdaF[len(LambdaF)-1])\n",
    "LambdaFtrunc_Arg.append(len(LambdaF)-1)\n",
    "\n",
    "#LambdaFtrunc\n",
    "LambdaFtrunc_Arg,LambdaFtrunc\n",
    "#,LambdaF[0],LambdaF[95]"
   ]
  },
  {
   "cell_type": "code",
   "execution_count": 12,
   "metadata": {},
   "outputs": [],
   "source": [
    "VcTrunc=np.asarray([Vc[0][arg0]for arg0 in LambdaFtrunc_Arg])\n",
    "KcTrunc=np.asarray([Kc[0][arg0]for arg0 in LambdaFtrunc_Arg])\n",
    "\n",
    "EkOut_Trunc=np.asarray([EkOut[arg0]for arg0 in LambdaFtrunc_Arg])\n",
    "EkIn_Trunc=np.asarray([EkIn[arg0]for arg0 in LambdaFtrunc_Arg])\n",
    "\n",
    "#VcTrunc,KcTrunc,LTrunc"
   ]
  },
  {
   "cell_type": "code",
   "execution_count": 13,
   "metadata": {},
   "outputs": [],
   "source": [
    "#We are making an array of \"\"TWO\"\" normal directions here\n",
    "sNormal=np.array([np.pi/2,-np.pi/2])\n",
    "#number of pseudospins\n",
    "#No. of normal directions\n",
    "Ns=len(sNormal)\n",
    "#As we have chosen Two normal directions therefore N=2k\n",
    "N=RGIt*Ns#LambdaFMesh.size\n",
    "#omega,Tc[0]"
   ]
  },
  {
   "cell_type": "code",
   "execution_count": 14,
   "metadata": {},
   "outputs": [],
   "source": [
    "Psi = open(\"1D-BCS-wavefunctions/manyBodyWaveFunction28#0.txt\",\"+w\")\n",
    "#Obtaining the ground state wavefunction\n",
    "#function returns string with array as input\n",
    "def method(basisState):\n",
    "    return ''.join([str(num) for num in basisState])\n",
    "#printing the computational basis states in the file\n",
    "labels=(''.join([str(num) for num in range(RGIt)]))*len(sNormal)+'\\n'+''.join([str(num)*RGIt for num in range(Ns)])+'\\n'\n",
    "Psi.write(labels)\n",
    "#hole/electron like configurations for the three higher/lower in energy Ioms Lambda0>Lambda1>Lambda2/Lambda3>Lambda4>Lambda5\n",
    "IomString1='111111111'\n",
    "IomString0='000000000'\n",
    "#configurations of pseudospins in emergent space Lambda6 \n",
    "Conf1=IomString0+'0'+IomString1+'1'\n",
    "Conf2=IomString0+'1'+IomString1+'0'\n",
    "\n",
    "Confs=[Conf1,Conf2]\n",
    "weights=[0.5**0.5,0.5**0.5]\n",
    "for i in range(len(Confs)):\n",
    "    Psi.write(Confs[i]+str(weights[i])+\"\\n\")      \n",
    "Psi.close()\n"
   ]
  },
  {
   "cell_type": "markdown",
   "metadata": {},
   "source": [
    "                                 10 11 12 13 14 15 16 17 18  19                  9   8  7  6  5  4  3  2  1  0\n",
    "                                 1  1  1  1  1  1  1  1  1  (   ----Triplet----   )  0  0  0  0  0  0  0  0  0"
   ]
  },
  {
   "cell_type": "code",
   "execution_count": 15,
   "metadata": {},
   "outputs": [],
   "source": [
    "list1=[i for i in range(10)]\n",
    "list2=[i for i in range(10,20)]\n",
    "\n",
    "pairV=[[i,j] for i in list1 for j in list1 if i<j]+[[i,j] for i in list2 for j in list2 if i<j]+[[i,j] for i in list1 for j in list2 if i<j]\n",
    "\n",
    "pairK=[[i,j] for i in list1 for j in list1 if i<j]+[[i,j] for i in list2 for j in list2 if i<j]"
   ]
  },
  {
   "cell_type": "code",
   "execution_count": 16,
   "metadata": {},
   "outputs": [],
   "source": [
    "#ee Green function for the longitudinal scattering processes along normals s_{1} and s_{3}\n",
    "invG=-0.5*(EkOut+EkOut)\n",
    "invG=[invG]\n",
    "\n",
    "def inverseU(Psi,j):\n",
    "    manyBodyKetGS=np.array([np.array([conf[:N],conf[N:]])for conf in Psi[2:]])\n",
    "\n",
    "    PsiOld=np.rec.fromarrays([manyBodyKetGS[:,0],manyBodyKetGS[:,1].astype(np.float64)], names='keys,vals')\n",
    "    Couplings=np.array([np.array([-Vc[0][LambdaFtrunc_Arg[j]]]),np.array([-Kc[0][LambdaFtrunc_Arg[j]]])])\n",
    "\n",
    "    greenFunc = np.array([np.array([-invG[0][LambdaFtrunc_Arg[j]]-Vc[0][LambdaFtrunc_Arg[j]]]), np.array([invG[0][LambdaFtrunc_Arg[j]]-Kc[0][LambdaFtrunc_Arg[j]]])])\n",
    "    #indexes of iom's to be re-entangled\n",
    "    indIoms=[8-j,18-j]\n",
    "    #print(indIoms)\n",
    "    #indexes of pseudospins in entangled subspace\n",
    "    indEnts = list1[::-1][0:j+1]+list2[::-1][0:j+1]\n",
    "    #print(indEnts)\n",
    "\n",
    "    #Operation dictionary [pseudospin1,pseudospin2,coeffs] first two entries are the pseuospins to be swapped output is the \n",
    "    #is the scatt. coefficient \n",
    "    scatOp=lambda m,n: Couplings[1][0]*greenFunc[1][0] if [m,n] in pairK else 0\n",
    "    #checkOp=lambda m,n: 0 if [m,n] in pairK else pass\n",
    "    \n",
    "    \n",
    "    PsiNew = np.rec.fromarrays([np.zeros(len(PsiOld)*(j+1)*4,dtype='<U32') ,np.zeros(len(PsiOld)*(j+1)*4,dtype=np.float32)], names='keys,vals')\n",
    "    #putting old confs into new conf\n",
    "    Nold=len(PsiOld)\n",
    "    PsiNew['keys'][0:Nold]=PsiOld['keys']\n",
    "    PsiNew['vals'][0:Nold]=PsiOld['vals']\n",
    "    swap=lambda conf,a,b:conf[0:a]+conf[b]+conf[a+1:b]+conf[a]+conf[b+1:]\n",
    "    sgn = lambda iomInd:-1 if PsiOld['keys'][0][iomInd]=='1' else 1\n",
    "    ###########\n",
    "    #checkFunc= lambda Nold,PsiNew,conf,modConf,a,b:0 if conf['keys']==modConf else 1 if modConf in PsiNew[0:Nold]['keys'] else 2\n",
    "    ###########\n",
    "    supCoeffForConf= lambda Nold,PsiNew,conf,modConf,a,b:PsiNew[0:Nold][np.where(PsiNew[0:Nold]['keys']==modConf)]['vals'] if conf['keys']==modConf else sgn(a)*scatOp(a,b)*conf['vals']+PsiNew[0:Nold][np.where(PsiNew[0:Nold]['keys']==modConf)]['vals'] if modConf in PsiNew[0:Nold]['keys'] else sgn(a)*scatOp(a,b)*conf['vals']\n",
    "    indFun=lambda modConf,PsiNew,Nold:np.where(PsiNew['keys'][0:Nold]==modConf)[0][0] if modConf in PsiNew[0:Nold]['keys'] else Nold\n",
    "    for conf in (PsiOld):\n",
    "        for i in (range(len(indIoms))):\n",
    "            for j in range(len(indEnts)):\n",
    "                a=indIoms[i]\n",
    "                b=indEnts[j]\n",
    "                #(a,b)=(a,b) if a<b else (b,a)\n",
    "                if a>b:\n",
    "                    c=np.array([a]).copy()[0]\n",
    "                    a=np.array([b]).copy()[0]\n",
    "                    b=np.array([c]).copy()[0]\n",
    "                modConf=swap(conf['keys'],a,b)\n",
    "                ind=indFun(modConf,PsiNew,Nold)\n",
    "                PsiNew['vals'][ind]=supCoeffForConf(Nold,PsiNew,conf,modConf,a,b)\n",
    "                #if(conf['keys']!=modConf):\n",
    "                    #print(a,b,PsiNew['vals'][ind])\n",
    "                    #print(\"old conf\",conf['keys'])\n",
    "                    #print(\"new conf\",modConf)\n",
    "                    #print(\"scatweight\",scatOp(a,b),conf['vals'],'\\n')\n",
    "                PsiNew['keys'][ind]=modConf\n",
    "                Nold=Nold if ind!=Nold else Nold+1\n",
    "    PsiNew['vals']=PsiNew['vals']/np.sqrt(np.sum(PsiNew['vals']*PsiNew['vals']))\n",
    "    #print(PsiNew['keys'].shape,PsiNew['vals'].shape)\n",
    "    #print((PsiNew['vals']!=-0.0).shape)\n",
    "    PsiNew=PsiNew[PsiNew['vals']!=0.0]\n",
    "    return PsiNew[PsiNew['keys']!='']      \n",
    "    \n",
    "    \n"
   ]
  },
  {
   "cell_type": "code",
   "execution_count": 17,
   "metadata": {},
   "outputs": [
    {
     "data": {
      "text/plain": [
       "10"
      ]
     },
     "execution_count": 17,
     "metadata": {},
     "output_type": "execute_result"
    }
   ],
   "source": [
    "from scipy import sparse\n",
    "def InnerProd(A,B):\n",
    "    hashedA = np.array([hash(s) for s in A['keys']])\n",
    "    hashedB = np.array([hash(s) for s in B['keys']])\n",
    "    AdjMat=np.equal.outer(hashedB, hashedA)\n",
    "    SparsedAdjMat=sparse.csr_matrix(AdjMat)\n",
    "    IP=np.sum(sparse.csr_matrix.dot(sparse.csr_matrix.dot(B['vals'],SparsedAdjMat),A['vals']))\n",
    "    return IP\n",
    "\n",
    "#RGIt=5\n",
    "RGIt"
   ]
  },
  {
   "cell_type": "code",
   "execution_count": 18,
   "metadata": {},
   "outputs": [
    {
     "name": "stderr",
     "output_type": "stream",
     "text": [
      "\r",
      "  0%|                          | 0/9 [00:00<?, ?it/s]"
     ]
    },
    {
     "name": "stdout",
     "output_type": "stream",
     "text": [
      "File written: 1\n",
      "File written: 2\n",
      "File written: 3\n",
      "File written: 4\n"
     ]
    },
    {
     "name": "stderr",
     "output_type": "stream",
     "text": [
      "\r",
      " 44%|████████          | 4/9 [00:00<00:00, 20.01it/s]"
     ]
    },
    {
     "name": "stdout",
     "output_type": "stream",
     "text": [
      "File written: 5\n"
     ]
    },
    {
     "name": "stderr",
     "output_type": "stream",
     "text": [
      "\r",
      " 56%|██████████        | 5/9 [00:00<00:00, 13.10it/s]"
     ]
    },
    {
     "name": "stdout",
     "output_type": "stream",
     "text": [
      "File written: 6\n"
     ]
    },
    {
     "name": "stderr",
     "output_type": "stream",
     "text": [
      "\r",
      " 67%|████████████      | 6/9 [00:00<00:00,  8.86it/s]"
     ]
    },
    {
     "name": "stdout",
     "output_type": "stream",
     "text": [
      "File written: 7\n"
     ]
    },
    {
     "name": "stderr",
     "output_type": "stream",
     "text": [
      "\r",
      " 78%|██████████████    | 7/9 [00:00<00:00,  5.92it/s]"
     ]
    },
    {
     "name": "stdout",
     "output_type": "stream",
     "text": [
      "File written: 8\n"
     ]
    },
    {
     "name": "stderr",
     "output_type": "stream",
     "text": [
      "\r",
      " 89%|████████████████  | 8/9 [00:01<00:00,  2.81it/s]"
     ]
    },
    {
     "name": "stdout",
     "output_type": "stream",
     "text": [
      "File written: 9\n"
     ]
    },
    {
     "name": "stderr",
     "output_type": "stream",
     "text": [
      "100%|██████████████████| 9/9 [00:02<00:00,  2.12it/s]\n"
     ]
    },
    {
     "name": "stdout",
     "output_type": "stream",
     "text": [
      "Duration taken:  2.384040355682373\n"
     ]
    }
   ],
   "source": [
    "t0=time()\n",
    "for u in tqdm(range(0,RGIt-1)):\n",
    "#for u in tqdm(range(0,2)):\n",
    "\n",
    "    Psi=open(\"1D-BCS-wavefunctions/manyBodyWaveFunction28#%s.txt\"%(u),\"+r\").readlines()\n",
    "    Tpsi=inverseU(Psi,u)\n",
    "\n",
    "    PsiN=open(\"1D-BCS-wavefunctions/manyBodyWaveFunction28#%s.txt\"%(u+1),\"+w\")\n",
    "    PsiWrite = labels + ''.join([conf['keys']+str(conf['vals'])+'\\n' for conf in Tpsi])\n",
    "    PsiN.write(PsiWrite)\n",
    "    \n",
    "    print ('File written:',u+1)#,InnerProd(Tpsi,Tpsi))#,'  Remaining:'(RGIt-1-u),)\n",
    "    PsiN.close()\n",
    "\n",
    "tf=time()\n",
    "print ('Duration taken: ',tf-t0)"
   ]
  },
  {
   "cell_type": "code",
   "execution_count": null,
   "metadata": {},
   "outputs": [],
   "source": []
  },
  {
   "cell_type": "code",
   "execution_count": null,
   "metadata": {},
   "outputs": [],
   "source": []
  }
 ],
 "metadata": {
  "kernelspec": {
   "display_name": "Python 3",
   "language": "python",
   "name": "python3"
  },
  "language_info": {
   "codemirror_mode": {
    "name": "ipython",
    "version": 3
   },
   "file_extension": ".py",
   "mimetype": "text/x-python",
   "name": "python",
   "nbconvert_exporter": "python",
   "pygments_lexer": "ipython3",
   "version": "3.7.4"
  }
 },
 "nbformat": 4,
 "nbformat_minor": 2
}
