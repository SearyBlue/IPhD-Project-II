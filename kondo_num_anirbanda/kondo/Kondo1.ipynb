{
 "cells": [
  {
   "cell_type": "code",
   "execution_count": 1,
   "metadata": {},
   "outputs": [
    {
     "data": {
      "text/html": [
       "<style>.container { width:100% !important; }</style>"
      ],
      "text/plain": [
       "<IPython.core.display.HTML object>"
      ]
     },
     "metadata": {},
     "output_type": "display_data"
    }
   ],
   "source": [
    "from IPython.core.display import display, HTML\n",
    "display(HTML(\"<style>.container { width:100% !important; }</style>\"))"
   ]
  },
  {
   "cell_type": "code",
   "execution_count": 2,
   "metadata": {},
   "outputs": [],
   "source": [
    "import numpy as np\n",
    "import re\n",
    "from numpy import linalg as LA\n",
    "from time import time\n",
    "from scipy import sparse\n",
    "import matplotlib.pyplot as plt"
   ]
  },
  {
   "cell_type": "code",
   "execution_count": 3,
   "metadata": {},
   "outputs": [
    {
     "name": "stderr",
     "output_type": "stream",
     "text": [
      "/home/neo/anaconda3/lib/python3.7/site-packages/ipykernel_launcher.py:8: UserWarning: The following kwargs were not used by contour: 'color'\n",
      "  \n",
      "/home/neo/anaconda3/lib/python3.7/site-packages/ipykernel_launcher.py:9: UserWarning: The following kwargs were not used by contour: 'color'\n",
      "  if __name__ == '__main__':\n",
      "/home/neo/anaconda3/lib/python3.7/site-packages/ipykernel_launcher.py:10: UserWarning: The following kwargs were not used by contour: 'color'\n",
      "  # Remove the CWD from sys.path while we load stuff.\n",
      "/home/neo/anaconda3/lib/python3.7/site-packages/ipykernel_launcher.py:11: UserWarning: The following kwargs were not used by contour: 'color'\n",
      "  # This is added back by InteractiveShellApp.init_path()\n"
     ]
    },
    {
     "data": {
      "image/png": "[encoded data removed]",
      "text/plain": [
       "<Figure size 504x504 with 1 Axes>"
      ]
     },
     "metadata": {
      "needs_background": "light"
     },
     "output_type": "display_data"
    }
   ],
   "source": [
    "N=100\n",
    "kx=np.linspace(0,np.pi,N)\n",
    "ky=np.linspace(0,np.pi,N)\n",
    "plt.rcParams['figure.figsize'] = [7,7]\n",
    "Kx,Ky=np.meshgrid(kx,ky)\n",
    "E=-2*(np.cos(Kx)+np.cos(Ky))\n",
    "E_F=-3.8\n",
    "CS=plt.contour(kx,ky,E,levels=[E_F],color='red')\n",
    "plt.contour(-kx,ky,E,levels=[E_F],color='red')\n",
    "plt.contour(-kx,-ky,E,levels=[E_F],color='red')\n",
    "plt.contour(kx,-ky,E,levels=[E_F],color='red')\n",
    "plt.contourf(kx,ky,E,cmap='Blues')\n",
    "plt.contourf(-kx,ky,E,cmap='Blues')\n",
    "plt.contourf(-kx,-ky,E,cmap='Blues')\n",
    "plt.contourf(kx,-ky,E,cmap='Blues')\n",
    "F = CS.collections[0].get_paths()[0]\n",
    "coordsF = F.vertices\n",
    "vF = np.dstack([2*np.sin(coordsF[:,0]),2*np.sin(coordsF[:,1])])[0]\n",
    "vFmag = vF[:,0]*vF[:,0]+vF[:,1]*vF[:,1]\n",
    "shatF  = vF/np.transpose([vFmag])\n",
    "thetaF0 =  np.float64(np.arctan((vF[:,1]+1e-2)/(vF[:,0]+1e-2))) \n",
    "coordsFx_irr = coordsF[:,0]\n",
    "coordsFy_irr = coordsF[:,1]\n",
    "Lambda0=np.pi/np.sqrt(2)\n",
    "steps=30000 #30000\n",
    "eps=(1-1/(N*N)) #0.9999\n",
    "lambdaF=Lambda0*eps**np.linspace(0,steps-1,steps)\n",
    "ThetaF,LambdaF=np.meshgrid(thetaF0,lambdaF)\n",
    "Fwvfx_out = coordsFx_irr+LambdaF*np.cos(ThetaF)\n",
    "Fwvfy_out = coordsFy_irr+LambdaF*np.sin(ThetaF)\n",
    "EFwvf=-2*(np.cos(Fwvfx_out)+np.cos(Fwvfy_out))"
   ]
  },
  {
   "cell_type": "code",
   "execution_count": 4,
   "metadata": {},
   "outputs": [],
   "source": [
    "EFwvfAvg=np.sum(EFwvf,axis=1)/len(thetaF0)"
   ]
  },
  {
   "cell_type": "code",
   "execution_count": 5,
   "metadata": {},
   "outputs": [
    {
     "data": {
      "text/plain": [
       "[<matplotlib.lines.Line2D at 0x7f5a808199d0>]"
      ]
     },
     "execution_count": 5,
     "metadata": {},
     "output_type": "execute_result"
    },
    {
     "data": {
      "image/png": "[encoded data removed]",
      "text/plain": [
       "<Figure size 504x504 with 1 Axes>"
      ]
     },
     "metadata": {
      "needs_background": "light"
     },
     "output_type": "display_data"
    }
   ],
   "source": [
    "plt.plot(np.log(lambdaF/Lambda0),EFwvfAvg-E_F)"
   ]
  },
  {
   "cell_type": "code",
   "execution_count": 6,
   "metadata": {},
   "outputs": [],
   "source": [
    "J=np.zeros(steps)\n",
    "J_0=20\n",
    "J[0]=J_0/(N*N)\n",
    "k=0\n",
    "for i in range(len(lambdaF)-1):\n",
    "    Ek=(EFwvfAvg[i]-E_F)\n",
    "    if(Ek-J[0]/4>0):\n",
    "        if(Ek-J[i]/4.>0):\n",
    "            J[i+1]=J[i]+4*np.pi*np.sqrt(0.2)*J[i]*(1/((Ek)**2-J[i]**2/16))*J[i]*Ek\n",
    "        else:\n",
    "            Jfixed=4*Ek\n",
    "            k=i\n",
    "            J[i:]=4*Ek\n",
    "            break\n",
    "    else:\n",
    "        if(Ek-J[i]/4<0):\n",
    "            J[i+1]=J[i]+2*np.pi*np.sqrt(0.2)*J[i]*(1/((Ek)**2-J[i]**2/16))*J[i]*(Ek)\n",
    "        else:\n",
    "            Jfixed=4*Ek\n",
    "            k=i\n",
    "            J[i:]=4*Ek\n",
    "            break       \n",
    "        "
   ]
  },
  {
   "cell_type": "code",
   "execution_count": 7,
   "metadata": {},
   "outputs": [
    {
     "name": "stdout",
     "output_type": "stream",
     "text": [
      "Kondo Temp- 4.1784189388452875\n"
     ]
    }
   ],
   "source": [
    "Tk=(EFwvfAvg-E_F).max()*lambdaF[k]/Lambda0\n",
    "print(\"Kondo Temp-\",Tk)"
   ]
  },
  {
   "cell_type": "code",
   "execution_count": 8,
   "metadata": {},
   "outputs": [
    {
     "data": {
      "text/plain": [
       "(16.738797816125086, 387)"
      ]
     },
     "execution_count": 8,
     "metadata": {},
     "output_type": "execute_result"
    }
   ],
   "source": [
    "Jfixed,k"
   ]
  },
  {
   "cell_type": "markdown",
   "metadata": {},
   "source": [
    "$E_{1}=\\frac{1}{2}(-\\frac{J}{2}+\\sqrt{B^{2}+J^{2}})$, $E_{2}=\\frac{1}{2}(-\\frac{J}{2}-\\sqrt{B^{2}+J^{2}})$<br>\n",
    "$Z(B)=2\\exp(\\beta\\frac{J}{4})\\left[\\cosh(\\beta\\frac{B}{2})+\\cosh(\\frac{\\beta}{2}(\\sqrt{B^{2}+J^{2}}))\\right]$<br>\n",
    "$\\bar{Z}(B)=2\\exp(-\\beta\\epsilon^{*})Z(B+J^{*})+(1+\\exp(-2\\beta\\epsilon^{*}))Z(B)$<br>\n",
    "$\\frac{d\\bar{Z}(B)}{dB}=(1+\\exp(-2\\beta\\epsilon^{*}))\\exp(\\beta\\frac{J}{4})\\beta\\left[\\sinh(\\beta\\frac{B}{2})\n",
    "+\\frac{B}{\\sqrt{B^{2}+J^{2}}}\\sinh(\\frac{\\beta}{2}\\sqrt{B^{2}+J^{2}})\\right]$<br>\n",
    "$+\\exp(-\\beta\\epsilon^{*})\\exp(-\\beta\\frac{J}{4})\\beta\\left[\\sinh(\\beta\\frac{B+J^{*}}{2})+\\frac{B+J^{*}}{\\sqrt{(B+J^{*})^{2}+J^{2}}}\\sinh(\\frac{\\beta}{2}\\sqrt{(B+J^{*})^{2}+J^{2}})\\right]$<br>\n",
    "$M=\\frac{k_{B}T}{Z(B)}\\frac{dZ(B)}{dB}$<br>\n",
    "<br>\n",
    "$\\frac{dM}{dB}=-\\frac{k_{B}T}{(Z(B))^{2}}\\left(\\frac{dZ(B)}{dB}\\right)^{2}+\\frac{k_{B}T}{Z(B)}\\frac{d^{2}Z(B)}{dB^{2}}$<br>\n",
    "<br>\n",
    "$\\lim_{B\\to 0}k_{B}T\\frac{d^{2}Z(B)}{dB^{2}}=(1+\\exp(-2\\beta\\epsilon^{*}))\\exp(\\beta\\frac{J}{4})\\left[\\frac{\\beta}{2}+\\frac{1}{J}\\sinh(\\frac{\\beta}{2}J)\\right]$<br>\n",
    "$+\\exp(-\\beta\\epsilon^{*})\\exp(\\beta\\frac{J}{4})\\left[\\frac{\\beta}{2}\\cosh(\\beta\\frac{J^{*}}{2})+\\frac{1}{\\sqrt{(J^{*})^{2}+J^{2}}}\\sinh(\\frac{\\beta}{2}\\sqrt{(J^{*})^{2}+J^{2}})-\\frac{(J^{*})^{2}}{((J^{*})^{2}+J^{2})^{3/2}}\\sinh(\\frac{\\beta}{2}\\sqrt{(J^{*})^{2}+J^{2}})+\\frac{\\beta}{2}\\frac{(J^{*})^{2}}{(J^{*})^{2}+J^{2}}\\cosh(\\frac{\\beta}{2}\\sqrt{(J^{*})^{2}+J^{2}})\\right]$<br>\n",
    "\n",
    "$\\lim_{B\\to 0}\\frac{dM}{dB}=\\frac{(\\frac{\\beta}{4}+\\frac{1}{2J}\\sinh(\\frac{\\beta}{2}J))(1+\\cosh(\\frac{\\beta}{2}J))}{(1+\\cosh(\\frac{\\beta}{2}J))^{2}}-\\frac{\\beta}{4}\\frac{1}{(1+\\cosh(\\frac{\\beta}{2}J))^{2}}$<br>\n",
    "$=\\frac{\\frac{\\beta}{4}\\cosh(\\frac{\\beta}{2}J)+\\frac{1}{2J}\\sinh(\\frac{\\beta}{2}J)(1+\\cosh(\\frac{\\beta}{2}J))}{(1+\\cosh(\\frac{\\beta}{2}J))^{2}}$"
   ]
  },
  {
   "cell_type": "markdown",
   "metadata": {},
   "source": [
    "$4\\chi(T=0)T_{k}=\\frac{2T_{K}}{J^{*}}$\n",
    "$\\chi=\\frac{\\frac{\\beta}{4}+\\frac{1}{2J}\\sinh\\frac{\\beta J}{2}}{1+\\cosh\\beta\\frac{J}{2}}$, $\\frac{d\\chi}{dT}=-k_{B}\\beta^{2}\\frac{d\\chi}{d\\beta}$, $\\frac{d\\chi}{d\\beta}=\\frac{\\frac{1}{4}+\\frac{1}{4}\\cosh\\frac{\\beta J}{2}}{1+\\cosh\\beta\\frac{J}{2}}-\\frac{(\\frac{\\beta}{4}+\\frac{1}{2J}\\sinh\\frac{\\beta J}{2})(\\frac{J}{2}\\sinh\\frac{\\beta J}{2})}{(1+\\cosh\\beta\\frac{J}{2})^{2}}$\n",
    "\n",
    "$\\frac{d\\chi}{d\\beta}=\\frac{1}{4}-\\frac{1}{4}\\frac{(1+\\frac{2}{J\\beta}\\sinh\\frac{\\beta J}{2})(\\frac{J\\beta}{2}\\sinh\\frac{\\beta J}{2})}{(1+\\cosh\\beta\\frac{J}{2})^{2}}$ $\\implies$ $(1+\\cosh\\beta\\frac{J}{2})^{2}=\\frac{J\\beta}{2}\\sinh\\frac{\\beta J}{2}+\\sinh^{2}\\frac{\\beta J}{2}$<br>\n",
    "$\\frac{J\\beta}{2}=x$ $\\to$  $2+2\\cosh x = x\\sinh x$"
   ]
  },
  {
   "cell_type": "code",
   "execution_count": 10,
   "metadata": {},
   "outputs": [],
   "source": [
    "Temp=np.linspace(2.9e-2,5000,100000)\n",
    "kB=1\n",
    "Jstar=Jfixed"
   ]
  },
  {
   "cell_type": "code",
   "execution_count": 11,
   "metadata": {},
   "outputs": [],
   "source": [
    "Chi=(1/(4*kB*Temp)+(1/(2*Jstar))*np.sinh(Jstar/(2*kB*Temp)))/(1+np.cosh(Jstar/(2*kB*Temp)))"
   ]
  },
  {
   "cell_type": "code",
   "execution_count": 12,
   "metadata": {},
   "outputs": [
    {
     "data": {
      "text/plain": [
       "<matplotlib.lines.Line2D at 0x7f5a8082edd0>"
      ]
     },
     "execution_count": 12,
     "metadata": {},
     "output_type": "execute_result"
    },
    {
     "data": {
      "image/png": "[encoded data removed]",
      "text/plain": [
       "<Figure size 504x504 with 1 Axes>"
      ]
     },
     "metadata": {
      "needs_background": "light"
     },
     "output_type": "display_data"
    }
   ],
   "source": [
    "figure,ax=plt.subplots(1)\n",
    "ax.set_xscale('log')\n",
    "ax.plot(Temp/Tk,Chi*Tk)\n",
    "ax.axvline(x=1,linestyle='--',color='k')"
   ]
  },
  {
   "cell_type": "code",
   "execution_count": 13,
   "metadata": {},
   "outputs": [
    {
     "data": {
      "text/plain": [
       "array([0.1248124 , 0.1248124 , 0.1248124 , ..., 0.00020893, 0.00020892,\n",
       "       0.00020892])"
      ]
     },
     "execution_count": 13,
     "metadata": {},
     "output_type": "execute_result"
    }
   ],
   "source": [
    "Chi*Tk"
   ]
  },
  {
   "cell_type": "code",
   "execution_count": 14,
   "metadata": {},
   "outputs": [
    {
     "data": {
      "text/plain": [
       "0.5433019022605232"
      ]
     },
     "execution_count": 14,
     "metadata": {},
     "output_type": "execute_result"
    }
   ],
   "source": [
    "EFwvfAvg[0]"
   ]
  },
  {
   "cell_type": "code",
   "execution_count": 15,
   "metadata": {},
   "outputs": [
    {
     "name": "stderr",
     "output_type": "stream",
     "text": [
      "/home/neo/anaconda3/lib/python3.7/site-packages/ipykernel_launcher.py:8: UserWarning: The following kwargs were not used by contour: 'color'\n",
      "  \n"
     ]
    },
    {
     "data": {
      "image/png": "[encoded data removed]",
      "text/plain": [
       "<Figure size 504x504 with 1 Axes>"
      ]
     },
     "metadata": {
      "needs_background": "light"
     },
     "output_type": "display_data"
    }
   ],
   "source": [
    "N=100\n",
    "kx=np.linspace(0,np.pi,N)\n",
    "ky=np.linspace(0,np.pi,N)\n",
    "plt.rcParams['figure.figsize'] = [7,7]\n",
    "Kx,Ky=np.meshgrid(kx,ky)\n",
    "E=-2*(np.cos(Kx)+np.cos(Ky))\n",
    "E_F=-3.9\n",
    "CS=plt.contour(kx,ky,E,levels=[E_F],color='red')\n",
    "Lambda0=np.pi/np.sqrt(2)\n",
    "lambdaF=Lambda0*eps**np.linspace(0,steps-1,steps)\n",
    "ThetaF,LambdaF=np.meshgrid(thetaF0,lambdaF)\n",
    "Fwvfx_out = coordsFx_irr+LambdaF*np.cos(ThetaF)\n",
    "Fwvfy_out = coordsFy_irr+LambdaF*np.sin(ThetaF)\n",
    "EFwvf=-2*(np.cos(Fwvfx_out)+np.cos(Fwvfy_out))\n",
    "EFwvfAvg=np.sum(EFwvf,axis=1)/len(thetaF0)\n",
    "r=np.sqrt(EFwvfAvg[0]+4)"
   ]
  },
  {
   "cell_type": "code",
   "execution_count": 35,
   "metadata": {},
   "outputs": [
    {
     "name": "stdout",
     "output_type": "stream",
     "text": [
      "2.8284271247461903\n",
      "19.61298601806633\n"
     ]
    },
    {
     "name": "stderr",
     "output_type": "stream",
     "text": [
      "/home/neo/anaconda3/lib/python3.7/site-packages/ipykernel_launcher.py:9: UserWarning: The following kwargs were not used by contour: 'color'\n",
      "  if __name__ == '__main__':\n"
     ]
    },
    {
     "data": {
      "text/plain": [
       "<Figure size 504x504 with 0 Axes>"
      ]
     },
     "metadata": {},
     "output_type": "display_data"
    }
   ],
   "source": [
    "Temp0=2.9e-2 #low temperature in Kelvin\n",
    "Temp1=5000   # high temperature in Kelvin\n",
    "kB=1\n",
    "factor=4/(np.pi)#1.147 (for E_F=-3.99) #1.16 (for E_F=-3.95) #1.177 (for E_F=-3.9), 1.212(for E_F=-3.8)\n",
    "Lambda0Arr=factor*(np.pi/(np.sqrt(2)))*(1/2)**np.linspace(0,2,10)\n",
    "Chi0Arr=np.zeros(10)\n",
    "Chi1Arr=np.zeros(10)\n",
    "E_F=-3.5 #-3.8\n",
    "CS=plt.contour(kx,ky,E,levels=[E_F],color='red')\n",
    "plt.clf()\n",
    "coordsF = F.vertices\n",
    "vF = np.dstack([2*np.sin(coordsF[:,0]),2*np.sin(coordsF[:,1])])[0]\n",
    "vFmag = vF[:,0]*vF[:,0]+vF[:,1]*vF[:,1]\n",
    "shatF  = vF/np.transpose([vFmag])\n",
    "thetaF0 =  np.float64(np.arctan((vF[:,1]+1e-2)/(vF[:,0]+1e-2))) \n",
    "coordsFx_irr = coordsF[:,0]\n",
    "coordsFy_irr = coordsF[:,1]\n",
    "for i in range(1):\n",
    "    Lambda0=Lambda0Arr[i]\n",
    "    print(Lambda0)\n",
    "    N=100\n",
    "    steps=10000 #30000\n",
    "    eps=(1-1/(N*N)) #0.9999\n",
    "    E=-2*(np.cos(Kx)+np.cos(Ky))\n",
    "    lambdaF=Lambda0*eps**np.linspace(0,steps-1,steps)\n",
    "    ThetaF,LambdaF=np.meshgrid(thetaF0,lambdaF)\n",
    "    Fwvfx_out = coordsFx_irr+LambdaF*np.cos(ThetaF)\n",
    "    Fwvfy_out = coordsFy_irr+LambdaF*np.sin(ThetaF)\n",
    "    EFwvf=-2*(np.cos(Fwvfx_out)+np.cos(Fwvfy_out))\n",
    "    EFwvfAvg=np.sum(EFwvf,axis=1)/len(thetaF0)\n",
    "    J=np.zeros(steps)\n",
    "    J_0=1000              #1000 (fixed-1)\n",
    "    J[0]=J_0/(N*N)\n",
    "    k=0\n",
    "    for j in range(len(lambdaF)-1):\n",
    "        Ek=(EFwvfAvg[j]-E_F)\n",
    "        if(Ek-J[0]/4>0):\n",
    "            if(Ek-J[j]/4.>0):\n",
    "                J[j+1]=J[j]+2*np.pi*r*J[j]*(1/((Ek)**2-J[j]**2/16))*J[j]*Ek\n",
    "            else:\n",
    "                Jfixed=4*Ek\n",
    "                k=j\n",
    "                J[j:]=4*Ek\n",
    "                break\n",
    "        else:\n",
    "            if(Ek-J[j]/4<0):\n",
    "                J[j+1]=J[j]+2*np.pi*r*J[j]*(1/((Ek)**2-J[j]**2/16))*J[j]*(Ek)\n",
    "            else:\n",
    "                Jfixed=4*Ek\n",
    "                k=j\n",
    "                J[j:]=4*Ek\n",
    "                break\n",
    "    Jstar=Jfixed\n",
    "    print(Jstar)\n",
    "    Chi0Arr[i]=(1/(4*kB*Temp0)+(1/(2*Jstar))*np.sinh(Jstar/(2*kB*Temp0)))/(1+np.cosh(Jstar/(2*kB*Temp0)))\n",
    "    Chi1Arr[i]=(1/(4*kB*Temp1)+(1/(2*Jstar))*np.sinh(Jstar/(2*kB*Temp1)))/(1+np.cosh(Jstar/(2*kB*Temp1)))"
   ]
  },
  {
   "cell_type": "code",
   "execution_count": 36,
   "metadata": {},
   "outputs": [
    {
     "data": {
      "text/plain": [
       "7"
      ]
     },
     "execution_count": 36,
     "metadata": {},
     "output_type": "execute_result"
    }
   ],
   "source": [
    "k"
   ]
  },
  {
   "cell_type": "code",
   "execution_count": 37,
   "metadata": {},
   "outputs": [],
   "source": [
    "Lambda0=Lambda0Arr[0]\n",
    "lambdaF=Lambda0*eps**np.linspace(0,steps-1,steps)\n",
    "ThetaF,LambdaF=np.meshgrid(thetaF0,lambdaF)\n",
    "Fwvfx_out = coordsFx_irr+LambdaF*np.cos(ThetaF)\n",
    "Fwvfy_out = coordsFy_irr+LambdaF*np.sin(ThetaF)\n",
    "EFwvf=-2*(np.cos(Fwvfx_out)+np.cos(Fwvfy_out))\n",
    "EFwvfAvg=np.sum(EFwvf,axis=1)/len(thetaF0)"
   ]
  },
  {
   "cell_type": "code",
   "execution_count": 38,
   "metadata": {},
   "outputs": [
    {
     "data": {
      "text/plain": [
       "(0.4996501049825018, 4.899815261473591, 0.4996501049825018)"
      ]
     },
     "execution_count": 38,
     "metadata": {},
     "output_type": "execute_result"
    }
   ],
   "source": [
    "Tk=(EFwvfAvg[k]-E_F)*lambdaF[k]/Lambda0\n",
    "4*Tk*Chi0Arr[0],Tk,2*Tk/Jstar"
   ]
  },
  {
   "cell_type": "code",
   "execution_count": 30,
   "metadata": {},
   "outputs": [
    {
     "data": {
      "text/plain": [
       "-3.5"
      ]
     },
     "execution_count": 30,
     "metadata": {},
     "output_type": "execute_result"
    }
   ],
   "source": [
    "E_F"
   ]
  },
  {
   "cell_type": "code",
   "execution_count": 858,
   "metadata": {},
   "outputs": [],
   "source": [
    "Lambda0=Lambda0Arr[0]\n",
    "lambdaF=Lambda0*eps**np.linspace(0,steps-1,steps)\n",
    "ThetaF,LambdaF=np.meshgrid(thetaF0,lambdaF)\n",
    "Fwvfx_out = coordsFx_irr+LambdaF*np.cos(ThetaF)\n",
    "Fwvfy_out = coordsFy_irr+LambdaF*np.sin(ThetaF)\n",
    "EFwvf=-2*(np.cos(Fwvfx_out)+np.cos(Fwvfy_out))\n",
    "EFwvfAvg=np.sum(EFwvf,axis=1)/len(thetaF0)\n",
    "J=np.zeros(steps)\n",
    "J_0=1000#1000              #1000 (fixed-1)\n",
    "J[0]=J_0/(N*N)\n",
    "k=0\n",
    "for j in range(len(lambdaF)-1):\n",
    "    Ek=(EFwvfAvg[j]-E_F)\n",
    "    if(Ek-J[0]/4>0):\n",
    "        if(Ek-J[j]/4.>0):\n",
    "            J[j+1]=J[j]+2*np.pi*r*J[j]*(1/((Ek)**2-J[j]**2/16))*J[j]*Ek\n",
    "        else:\n",
    "            Jfixed=4*Ek\n",
    "            k=j\n",
    "            J[j:]=4*Ek\n",
    "            break\n",
    "    else:\n",
    "        if(Ek-J[j]/4<0):\n",
    "            J[j+1]=J[j]+2*np.pi*r*J[j]*(1/((Ek)**2-J[j]**2/16))*J[j]*(Ek)\n",
    "        else:\n",
    "            Jfixed=4*Ek\n",
    "            k=j\n",
    "            J[j:]=4*Ek\n",
    "            break\n",
    "Jstar=Jfixed\n"
   ]
  },
  {
   "cell_type": "code",
   "execution_count": 859,
   "metadata": {},
   "outputs": [],
   "source": [
    "Tk=(EFwvfAvg[k]-E_F)*lambdaF[k]/Lambda0"
   ]
  },
  {
   "cell_type": "code",
   "execution_count": 860,
   "metadata": {},
   "outputs": [
    {
     "data": {
      "text/plain": [
       "0.4996501049825018"
      ]
     },
     "execution_count": 860,
     "metadata": {},
     "output_type": "execute_result"
    }
   ],
   "source": [
    "2*Tk/Jstar"
   ]
  },
  {
   "cell_type": "code",
   "execution_count": 769,
   "metadata": {},
   "outputs": [],
   "source": [
    "Temp=100**np.linspace(-0.8,1.7,100)#np.linspace(2.9e-2,5000,10000)\n",
    "kB=1\n",
    "Jstar=Jfixed\n",
    "Chi=(1/(4*kB*Temp)+(1/(2*Jstar))*np.sinh(Jstar/(2*kB*Temp)))/(1+np.cosh(Jstar/(2*kB*Temp)))"
   ]
  },
  {
   "cell_type": "code",
   "execution_count": 757,
   "metadata": {},
   "outputs": [
    {
     "data": {
      "text/plain": [
       "array([2.51188643e-02, 2.82166240e-02, 3.16964118e-02, 3.56053412e-02,\n",
       "       3.99963354e-02, 4.49288448e-02, 5.04696512e-02, 5.66937721e-02,\n",
       "       6.36854767e-02, 7.15394265e-02, 8.03619571e-02, 9.02725178e-02,\n",
       "       1.01405289e-01, 1.13910998e-01, 1.27958962e-01, 1.43739377e-01,\n",
       "       1.61465896e-01, 1.81378522e-01, 2.03746853e-01, 2.28873736e-01,\n",
       "       2.57099369e-01, 2.88805900e-01, 3.24422608e-01, 3.64431712e-01,\n",
       "       4.09374901e-01, 4.59860665e-01, 5.16572536e-01, 5.80278345e-01,\n",
       "       6.51840611e-01, 7.32228224e-01, 8.22529561e-01, 9.23967224e-01,\n",
       "       1.03791459e+00, 1.16591440e+00, 1.30969967e+00, 1.47121711e+00,\n",
       "       1.65265354e+00, 1.85646544e+00, 2.08541224e+00, 2.34259369e+00,\n",
       "       2.63149179e+00, 2.95601798e+00, 3.32056603e+00, 3.73007163e+00,\n",
       "       4.19007911e+00, 4.70681656e+00, 5.28728016e+00, 5.93932887e+00,\n",
       "       6.67179086e+00, 7.49458302e+00, 8.41884522e+00, 9.45709117e+00,\n",
       "       1.06233778e+01, 1.19334956e+01, 1.34051824e+01, 1.50583635e+01,\n",
       "       1.69154217e+01, 1.90014997e+01, 2.13448413e+01, 2.39771732e+01,\n",
       "       2.69341349e+01, 3.02557610e+01, 3.39870235e+01, 3.81784403e+01,\n",
       "       4.28867595e+01, 4.81757276e+01, 5.41169527e+01, 6.07908735e+01,\n",
       "       6.82878492e+01, 7.67093822e+01, 8.61694925e+01, 9.67962619e+01,\n",
       "       1.08733567e+02, 1.22143029e+02, 1.37206200e+02, 1.54127022e+02,\n",
       "       1.73134588e+02, 1.94486244e+02, 2.18471072e+02, 2.45413806e+02,\n",
       "       2.75679226e+02, 3.09677100e+02, 3.47867729e+02, 3.90768180e+02,\n",
       "       4.38959288e+02, 4.93093517e+02, 5.53903799e+02, 6.22213449e+02,\n",
       "       6.98947321e+02, 7.85144323e+02, 8.81971488e+02, 9.90739768e+02,\n",
       "       1.11292179e+03, 1.25017180e+03, 1.40434802e+03, 1.57753789e+03,\n",
       "       1.77208622e+03, 1.99062704e+03, 2.23611919e+03, 2.51188643e+03])"
      ]
     },
     "execution_count": 757,
     "metadata": {},
     "output_type": "execute_result"
    }
   ],
   "source": [
    "Temp"
   ]
  },
  {
   "cell_type": "code",
   "execution_count": 766,
   "metadata": {},
   "outputs": [
    {
     "data": {
      "text/plain": [
       "4.137554070259932"
      ]
     },
     "execution_count": 766,
     "metadata": {},
     "output_type": "execute_result"
    }
   ],
   "source": [
    "Tk"
   ]
  },
  {
   "cell_type": "markdown",
   "metadata": {},
   "source": [
    "### $4T_{k}\\chi$ vs $T/T_{k}$"
   ]
  },
  {
   "cell_type": "code",
   "execution_count": 759,
   "metadata": {},
   "outputs": [
    {
     "data": {
      "image/png": "[encoded data removed]",
      "text/plain": [
       "<Figure size 504x504 with 1 Axes>"
      ]
     },
     "metadata": {
      "needs_background": "light"
     },
     "output_type": "display_data"
    }
   ],
   "source": [
    "figure,ax=plt.subplots()\n",
    "ax.set_xscale('log')\n",
    "ax.set_xlabel(r'$T/T_{K}$',fontsize=20)\n",
    "ax.set_ylabel(r'$4T_{k}\\chi$',fontsize=20)\n",
    "ax.tick_params(labelsize=10)\n",
    "ax.plot(Temp/Tk,Chi*Tk*4)\n",
    "ax.axvline(x=1,color='k',linestyle='--')\n",
    "plt.savefig('TkChivsTemp.png')"
   ]
  },
  {
   "cell_type": "code",
   "execution_count": 776,
   "metadata": {},
   "outputs": [
    {
     "data": {
      "text/plain": [
       "0.41348692958910144"
      ]
     },
     "execution_count": 776,
     "metadata": {},
     "output_type": "execute_result"
    }
   ],
   "source": [
    "Chi[0]*Tk*4"
   ]
  },
  {
   "cell_type": "code",
   "execution_count": 774,
   "metadata": {},
   "outputs": [
    {
     "data": {
      "text/plain": [
       "(4.137554070259932, 20.01298601806633)"
      ]
     },
     "execution_count": 774,
     "metadata": {},
     "output_type": "execute_result"
    }
   ],
   "source": [
    "Tk,Jstar"
   ]
  },
  {
   "cell_type": "code",
   "execution_count": 775,
   "metadata": {},
   "outputs": [
    {
     "data": {
      "text/plain": [
       "0.41348692958910144"
      ]
     },
     "execution_count": 775,
     "metadata": {},
     "output_type": "execute_result"
    }
   ],
   "source": [
    "2*Tk/Jstar"
   ]
  },
  {
   "cell_type": "code",
   "execution_count": 853,
   "metadata": {},
   "outputs": [
    {
     "name": "stdout",
     "output_type": "stream",
     "text": [
      "3.8914242847523695 16.060633553193647 0.48459162857601745\n",
      "4.112979341101236 16.51290526613686 0.49815332611830027\n",
      "4.137554070259932 16.561806067887577 0.49965010498250184\n",
      "4.141659135302623 16.569950365584102 0.4999000050000001\n"
     ]
    }
   ],
   "source": [
    "#Tracking the maximum value of Chi*Tk vs T/Tk curve\n",
    "Temp=np.linspace(2.9e-2,5000,1000)#100**np.linspace(-0.8,1.7,1000)\n",
    "J_0Arr=np.array([10,100,1000,10000])              \n",
    "TforChiMax=np.zeros(len(J_0Arr))\n",
    "ChiMax=np.zeros(len(J_0Arr))\n",
    "ChiSat=np.zeros(len(J_0Arr))\n",
    "JfixedArr=np.zeros(len(J_0Arr))\n",
    "TkondoArr=np.zeros(len(J_0Arr))\n",
    "for i in range(len(J_0Arr)): \n",
    "    J=np.zeros(steps)\n",
    "    J[0]=J_0Arr[i]/(N*N)\n",
    "    k=0\n",
    "    for j in range(len(lambdaF)-1):\n",
    "        Ek=(EFwvfAvg[j]-E_F)\n",
    "        if(Ek-J[0]/4>0):\n",
    "            if(Ek-J[j]/4.>0):\n",
    "                J[j+1]=J[j]+2*np.pi*r*J[j]*(1/((Ek)**2-J[j]**2/16))*J[j]*Ek\n",
    "            else:\n",
    "                Jfixed=4*Ek\n",
    "                k=j\n",
    "                J[j:]=4*Ek\n",
    "                break\n",
    "        else:\n",
    "            if(Ek-J[j]/4<0):\n",
    "                J[j+1]=J[j]+2*np.pi*r*J[j]*(1/((Ek)**2-J[j]**2/16))*J[j]*(Ek)\n",
    "            else:\n",
    "                Jfixed=4*Ek\n",
    "                k=j\n",
    "                J[j:]=4*Ek\n",
    "                break\n",
    "    JfixedArr[i]=Jfixed\n",
    "    TkondoArr[i]=(EFwvfAvg[k]-E_F)*lambdaF[k]/Lambda0\n",
    "    print(TkondoArr[i],JfixedArr[i],2*TkondoArr[i]/JfixedArr[i])\n",
    "    Chi=(1/(4*kB*Temp)+(1/(2*Jstar))*np.sinh(Jstar/(2*kB*Temp)))/(1+np.cosh(Jstar/(2*kB*Temp)))\n",
    "    ChiMax[i]=np.max(Chi)\n",
    "    TforChiMax[i]=Temp[np.where(Chi==np.max(Chi))[0][0]]"
   ]
  },
  {
   "cell_type": "code",
   "execution_count": 845,
   "metadata": {},
   "outputs": [
    {
     "data": {
      "text/plain": [
       "array([0.48804764, 0.48804764, 0.48804764, 0.48804764])"
      ]
     },
     "execution_count": 845,
     "metadata": {},
     "output_type": "execute_result"
    }
   ],
   "source": [
    "4*ChiMax*Tk"
   ]
  },
  {
   "cell_type": "code",
   "execution_count": 846,
   "metadata": {},
   "outputs": [
    {
     "data": {
      "text/plain": [
       "array([1.29360759, 1.22392445, 1.21665503, 1.21544913])"
      ]
     },
     "execution_count": 846,
     "metadata": {},
     "output_type": "execute_result"
    }
   ],
   "source": [
    "TforChiMax/TkondoArr"
   ]
  },
  {
   "cell_type": "code",
   "execution_count": 847,
   "metadata": {},
   "outputs": [
    {
     "data": {
      "text/plain": [
       "array([16.06063355, 16.51290527, 16.56180607, 16.56995037])"
      ]
     },
     "execution_count": 847,
     "metadata": {},
     "output_type": "execute_result"
    }
   ],
   "source": [
    "JfixedArr"
   ]
  },
  {
   "cell_type": "code",
   "execution_count": 848,
   "metadata": {},
   "outputs": [
    {
     "data": {
      "text/plain": [
       "array([3.89142428, 4.11297934, 4.13755407, 4.14165914])"
      ]
     },
     "execution_count": 848,
     "metadata": {},
     "output_type": "execute_result"
    }
   ],
   "source": [
    "TkondoArr"
   ]
  },
  {
   "cell_type": "code",
   "execution_count": 851,
   "metadata": {},
   "outputs": [],
   "source": [
    "ChiSat=2*TkondoArr[2]/JfixedArr[2]"
   ]
  },
  {
   "cell_type": "code",
   "execution_count": 852,
   "metadata": {},
   "outputs": [
    {
     "data": {
      "text/plain": [
       "0.49965010498250184"
      ]
     },
     "execution_count": 852,
     "metadata": {},
     "output_type": "execute_result"
    }
   ],
   "source": [
    "ChiSat"
   ]
  },
  {
   "cell_type": "code",
   "execution_count": 816,
   "metadata": {},
   "outputs": [
    {
     "data": {
      "text/plain": [
       "[<matplotlib.lines.Line2D at 0x7f2838ade290>]"
      ]
     },
     "execution_count": 816,
     "metadata": {},
     "output_type": "execute_result"
    },
    {
     "data": {
      "image/png": "[encoded data removed]",
      "text/plain": [
       "<Figure size 504x504 with 1 Axes>"
      ]
     },
     "metadata": {
      "needs_background": "light"
     },
     "output_type": "display_data"
    }
   ],
   "source": [
    "plt.plot(J_0Arr,ChiSat)"
   ]
  }
 ],
 "metadata": {
  "kernelspec": {
   "display_name": "Python 3",
   "language": "python",
   "name": "python3"
  },
  "language_info": {
   "codemirror_mode": {
    "name": "ipython",
    "version": 3
   },
   "file_extension": ".py",
   "mimetype": "text/x-python",
   "name": "python",
   "nbconvert_exporter": "python",
   "pygments_lexer": "ipython3",
   "version": "3.7.1"
  }
 },
 "nbformat": 4,
 "nbformat_minor": 2
}