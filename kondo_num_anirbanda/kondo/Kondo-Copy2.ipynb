{
 "cells": [
  {
   "cell_type": "code",
   "execution_count": 24,
   "metadata": {},
   "outputs": [
    {
     "data": {
      "text/html": [
       "<style>.container { width:100% !important; }</style>"
      ],
      "text/plain": [
       "<IPython.core.display.HTML object>"
      ]
     },
     "metadata": {},
     "output_type": "display_data"
    }
   ],
   "source": [
    "from IPython.core.display import display, HTML\n",
    "display(HTML(\"<style>.container { width:100% !important; }</style>\"))"
   ]
  },
  {
   "cell_type": "code",
   "execution_count": 25,
   "metadata": {},
   "outputs": [],
   "source": [
    "import numpy as np\n",
    "import re\n",
    "from numpy import linalg as LA\n",
    "from time import time\n",
    "from scipy import sparse\n",
    "import matplotlib.pyplot as plt"
   ]
  },
  {
   "cell_type": "code",
   "execution_count": 225,
   "metadata": {},
   "outputs": [
    {
     "name": "stderr",
     "output_type": "stream",
     "text": [
      "/home/neo/anaconda3/lib/python3.7/site-packages/ipykernel_launcher.py:8: UserWarning: The following kwargs were not used by contour: 'color'\n",
      "  \n",
      "/home/neo/anaconda3/lib/python3.7/site-packages/ipykernel_launcher.py:9: UserWarning: The following kwargs were not used by contour: 'color'\n",
      "  if __name__ == '__main__':\n",
      "/home/neo/anaconda3/lib/python3.7/site-packages/ipykernel_launcher.py:10: UserWarning: The following kwargs were not used by contour: 'color'\n",
      "  # Remove the CWD from sys.path while we load stuff.\n",
      "/home/neo/anaconda3/lib/python3.7/site-packages/ipykernel_launcher.py:11: UserWarning: The following kwargs were not used by contour: 'color'\n",
      "  # This is added back by InteractiveShellApp.init_path()\n"
     ]
    },
    {
     "data": {
      "image/png": "[encoded data removed]",
      "text/plain": [
       "<Figure size 504x504 with 1 Axes>"
      ]
     },
     "metadata": {
      "needs_background": "light"
     },
     "output_type": "display_data"
    }
   ],
   "source": [
    "N=100\n",
    "kx=np.linspace(0,np.pi,N)\n",
    "ky=np.linspace(0,np.pi,N)\n",
    "plt.rcParams['figure.figsize'] = [7,7]\n",
    "Kx,Ky=np.meshgrid(kx,ky)\n",
    "E=-2*(np.cos(Kx)+np.cos(Ky))\n",
    "E_F=-3.8\n",
    "CS=plt.contour(kx,ky,E,levels=[E_F],color='red')\n",
    "plt.contour(-kx,ky,E,levels=[E_F],color='red')\n",
    "plt.contour(-kx,-ky,E,levels=[E_F],color='red')\n",
    "plt.contour(kx,-ky,E,levels=[E_F],color='red')\n",
    "plt.contourf(kx,ky,E,cmap='Blues')\n",
    "plt.contourf(-kx,ky,E,cmap='Blues')\n",
    "plt.contourf(-kx,-ky,E,cmap='Blues')\n",
    "plt.contourf(kx,-ky,E,cmap='Blues')\n",
    "F = CS.collections[0].get_paths()[0]\n",
    "coordsF = F.vertices\n",
    "vF = np.dstack([2*np.sin(coordsF[:,0]),2*np.sin(coordsF[:,1])])[0]\n",
    "vFmag = vF[:,0]*vF[:,0]+vF[:,1]*vF[:,1]\n",
    "shatF  = vF/np.transpose([vFmag])\n",
    "thetaF0 =  np.float64(np.arctan((vF[:,1]+1e-2)/(vF[:,0]+1e-2))) \n",
    "coordsFx_irr = coordsF[:,0]\n",
    "coordsFy_irr = coordsF[:,1]\n",
    "Lambda0=np.pi/(np.sqrt(2))#np.pi/(np.sqrt(2))\n",
    "steps=30000 #30000\n",
    "eps=(1-1/(N*N)) #0.9999\n",
    "lambdaF=Lambda0*eps**np.linspace(0,steps-1,steps)\n",
    "ThetaF,LambdaF=np.meshgrid(thetaF0,lambdaF)\n",
    "Fwvfx_out = coordsFx_irr+LambdaF*np.cos(ThetaF)\n",
    "Fwvfy_out = coordsFy_irr+LambdaF*np.sin(ThetaF)\n",
    "EFwvf=-2*(np.cos(Fwvfx_out)+np.cos(Fwvfy_out))"
   ]
  },
  {
   "cell_type": "code",
   "execution_count": 226,
   "metadata": {},
   "outputs": [],
   "source": [
    "EFwvfAvg=np.sum(EFwvf,axis=1)/len(thetaF0)"
   ]
  },
  {
   "cell_type": "code",
   "execution_count": 227,
   "metadata": {},
   "outputs": [],
   "source": [
    "J=np.zeros(steps)\n",
    "J_0=20\n",
    "J[0]=J_0/(N*N)\n",
    "k=0\n",
    "for i in range(len(lambdaF)-1):\n",
    "    Ek=(EFwvfAvg[i]-E_F)\n",
    "    if(Ek-J[0]/4>0):\n",
    "        if(Ek-J[i]/4.>0):\n",
    "            J[i+1]=J[i]+4*np.pi*np.sqrt(0.2)*J[i]*(1/((Ek)**2-J[i]**2/16))*J[i]*Ek\n",
    "        else:\n",
    "            Jfixed=4*Ek\n",
    "            k=i\n",
    "            J[i:]=4*Ek\n",
    "            break\n",
    "    else:\n",
    "        if(Ek-J[i]/4<0):\n",
    "            J[i+1]=J[i]+2*np.pi*np.sqrt(0.2)*J[i]*(1/((Ek)**2-J[i]**2/16))*J[i]*(Ek)\n",
    "        else:\n",
    "            Jfixed=4*Ek\n",
    "            k=i\n",
    "            J[i:]=4*Ek\n",
    "            break       \n",
    "        "
   ]
  },
  {
   "cell_type": "code",
   "execution_count": 228,
   "metadata": {},
   "outputs": [
    {
     "data": {
      "text/plain": [
       "16.738797816125086"
      ]
     },
     "execution_count": 228,
     "metadata": {},
     "output_type": "execute_result"
    }
   ],
   "source": [
    "J[k]"
   ]
  },
  {
   "cell_type": "code",
   "execution_count": 229,
   "metadata": {},
   "outputs": [
    {
     "data": {
      "text/plain": [
       "(16.738797816125086, 387)"
      ]
     },
     "execution_count": 229,
     "metadata": {},
     "output_type": "execute_result"
    }
   ],
   "source": [
    "Jfixed,k"
   ]
  },
  {
   "cell_type": "code",
   "execution_count": 230,
   "metadata": {},
   "outputs": [],
   "source": [
    "Temp=10000**np.linspace(-0.7,1,100)"
   ]
  },
  {
   "cell_type": "code",
   "execution_count": 231,
   "metadata": {},
   "outputs": [
    {
     "data": {
      "text/plain": [
       "array([1.58489319e-03, 1.85646544e-03, 2.17457173e-03, 2.54718569e-03,\n",
       "       2.98364724e-03, 3.49489670e-03, 4.09374901e-03, 4.79521496e-03,\n",
       "       5.61687746e-03, 6.57933225e-03, 7.70670414e-03, 9.02725178e-03,\n",
       "       1.05740759e-02, 1.23859492e-02, 1.45082878e-02, 1.69942902e-02,\n",
       "       1.99062704e-02, 2.33172199e-02, 2.73126372e-02, 3.19926714e-02,\n",
       "       3.74746317e-02, 4.38959288e-02, 5.14175183e-02, 6.02279359e-02,\n",
       "       7.05480231e-02, 8.26364624e-02, 9.67962619e-02, 1.13382350e-01,\n",
       "       1.32810473e-01, 1.55567614e-01, 1.82224203e-01, 2.13448413e-01,\n",
       "       2.50022906e-01, 2.92864456e-01, 3.43046929e-01, 4.01828193e-01,\n",
       "       4.70681656e-01, 5.51333195e-01, 6.45804416e-01, 7.56463328e-01,\n",
       "       8.86083700e-01, 1.03791459e+00, 1.21576178e+00, 1.42408317e+00,\n",
       "       1.66810054e+00, 1.95393040e+00, 2.28873736e+00, 2.68091366e+00,\n",
       "       3.14028957e+00, 3.67837977e+00, 4.30867200e+00, 5.04696512e+00,\n",
       "       5.91176513e+00, 6.92474907e+00, 8.11130831e+00, 9.50118507e+00,\n",
       "       1.11292179e+01, 1.30362150e+01, 1.52699770e+01, 1.78864953e+01,\n",
       "       2.09513553e+01, 2.45413806e+01, 2.87465585e+01, 3.36722958e+01,\n",
       "       3.94420606e+01, 4.62004775e+01, 5.41169527e+01, 6.33899198e+01,\n",
       "       7.42518144e+01, 8.69749003e+01, 1.01878093e+02, 1.19334956e+02,\n",
       "       1.39783061e+02, 1.63734959e+02, 1.91791026e+02, 2.24654515e+02,\n",
       "       2.63149179e+02, 3.08239924e+02, 3.61056990e+02, 4.22924287e+02,\n",
       "       4.95392577e+02, 5.80278345e+02, 6.79709332e+02, 7.96177868e+02,\n",
       "       9.32603347e+02, 1.09240540e+03, 1.27958962e+03, 1.49884794e+03,\n",
       "       1.75567629e+03, 2.05651231e+03, 2.40889673e+03, 2.82166240e+03,\n",
       "       3.30515567e+03, 3.87149576e+03, 4.53487851e+03, 5.31193223e+03,\n",
       "       6.22213449e+03, 7.28830037e+03, 8.53715431e+03, 1.00000000e+04])"
      ]
     },
     "execution_count": 231,
     "metadata": {},
     "output_type": "execute_result"
    }
   ],
   "source": [
    "Temp"
   ]
  },
  {
   "cell_type": "code",
   "execution_count": 232,
   "metadata": {},
   "outputs": [
    {
     "data": {
      "text/plain": [
       "4.1784189388452875"
      ]
     },
     "execution_count": 232,
     "metadata": {},
     "output_type": "execute_result"
    }
   ],
   "source": [
    "Tk=(EFwvfAvg-E_F).max()*lambdaF[k]/Lambda0\n",
    "Tk"
   ]
  },
  {
   "cell_type": "code",
   "execution_count": 322,
   "metadata": {},
   "outputs": [
    {
     "name": "stdout",
     "output_type": "stream",
     "text": [
      "4.1784189388452875\n"
     ]
    }
   ],
   "source": [
    "#Temp=np.linspace(0.01,10000,10000)\n",
    "Chi=np.zeros(len(Temp))*0.0\n",
    "factor=1#25\n",
    "Tk=(EFwvfAvg-E_F).max()*lambdaF[k]/Lambda0\n",
    "Tkondo=Tk*factor\n",
    "Ek=np.linspace(-4,4,10000)#np.linspace(-4,4,45500)*factor\n",
    "FD=np.zeros(100)\n",
    "print(Tkondo)\n",
    "for i in range(len(Temp)):\n",
    "    T=Temp[i]\n",
    "    omega=Ek/T\n",
    "    FD=1/(np.exp(omega)+1)\n",
    "    Chi[i]=(2/Tkondo)*np.sum(-(1/(np.pi))*(FD*(omega/(omega**2+1)**2))*((Ek[1]-Ek[0])/T))"
   ]
  },
  {
   "cell_type": "code",
   "execution_count": 323,
   "metadata": {},
   "outputs": [
    {
     "data": {
      "text/plain": [
       "0.3183098861837907"
      ]
     },
     "execution_count": 323,
     "metadata": {},
     "output_type": "execute_result"
    }
   ],
   "source": [
    "1/np.pi"
   ]
  },
  {
   "cell_type": "code",
   "execution_count": 324,
   "metadata": {},
   "outputs": [
    {
     "data": {
      "text/plain": [
       "<matplotlib.lines.Line2D at 0x7fadcdfc0dd0>"
      ]
     },
     "execution_count": 324,
     "metadata": {},
     "output_type": "execute_result"
    },
    {
     "data": {
      "image/png": "[encoded data removed]",
      "text/plain": [
       "<Figure size 504x504 with 1 Axes>"
      ]
     },
     "metadata": {
      "needs_background": "light"
     },
     "output_type": "display_data"
    }
   ],
   "source": [
    "figure,ax=plt.subplots(1)\n",
    "ax.set_xscale('log')\n",
    "ax.plot(Temp/Tkondo,Chi*Tkondo)\n",
    "ax.set_xlabel(r'$T/T_{k}$',fontsize=20)\n",
    "ax.set_ylabel(r'$\\chi T_{k}$',fontsize=20)\n",
    "ax.tick_params(labelsize='large')\n",
    "ax.axvline(x=1,linestyle='--',color='k')"
   ]
  },
  {
   "cell_type": "code",
   "execution_count": 326,
   "metadata": {},
   "outputs": [
    {
     "data": {
      "text/plain": [
       "<matplotlib.lines.Line2D at 0x7fadcde10f50>"
      ]
     },
     "execution_count": 326,
     "metadata": {},
     "output_type": "execute_result"
    },
    {
     "data": {
      "image/png": "[encoded data removed]",
      "text/plain": [
       "<Figure size 504x504 with 1 Axes>"
      ]
     },
     "metadata": {
      "needs_background": "light"
     },
     "output_type": "display_data"
    }
   ],
   "source": [
    "figure,ax=plt.subplots(1)\n",
    "ax.set_xscale('log')\n",
    "ax.plot(Temp/Tkondo,Chi*Temp)\n",
    "ax.set_xlabel(r'$T/T_{k}$',fontsize=20)\n",
    "ax.set_ylabel(r'$\\chi T$',fontsize=20)\n",
    "ax.tick_params(labelsize='large')\n",
    "ax.axvline(x=1,linestyle='--',color='k')"
   ]
  },
  {
   "cell_type": "markdown",
   "metadata": {},
   "source": [
    "$f=\\frac{1}{\\exp(\\omega)+1}, \\omega=\\frac{\\epsilon}{k_{B}T}$, $\\frac{df}{d\\omega}=-\\frac{\\exp(\\omega)}{(1+\\exp(\\omega))^{2}}$, $\\frac{d^{2}f}{d\\omega^{2}}=-\\frac{\\exp(\\omega)}{(1+\\exp(\\omega))^{2}}+2\\frac{\\exp(2\\omega)}{(1+\\exp(\\omega))^{3}}$,<br>\n",
    "$d\\omega = -\\frac{\\omega}{T}dT$ , $\\frac{d}{dT}=-\\frac{\\omega}{T}\\frac{d}{d\\omega}$, $\\frac{d^{2}}{dT^{2}}=\\frac{\\omega^{2}}{T^{2}}\\frac{d}{d\\omega}+\\frac{\\omega}{T^{2}}\\frac{d}{d\\omega}+\\frac{\\omega^{2}}{T^{2}}\\frac{d^{2}}{d\\omega^{2}}$ <br>\n",
    "$\\frac{d^{2}f}{dT^{2}}=\\frac{\\omega^{2}}{T^{2}}\\frac{df}{d\\omega}+\\frac{\\omega}{T^{2}}\\frac{df}{d\\omega}+\\frac{\\omega^{2}}{T^{2}}\\frac{d^{2}f}{d\\omega^{2}}=-2\\frac{\\omega^{2}}{T^{2}}\\frac{\\exp(\\omega)}{1+\\exp(\\omega)}f-\\frac{\\omega}{T^{2}}\\frac{\\exp(\\omega)}{(1+\\exp(\\omega))^{2}}+\\frac{2\\omega^{2}}{T^{2}}\\frac{\\exp(2\\omega)}{(1+\\exp(\\omega))^{3}}$<br>"
   ]
  },
  {
   "cell_type": "code",
   "execution_count": 319,
   "metadata": {},
   "outputs": [
    {
     "name": "stdout",
     "output_type": "stream",
     "text": [
      "0.016982436524617447\n",
      "9.206751729735284\n"
     ]
    },
    {
     "data": {
      "text/plain": [
       "[<matplotlib.lines.Line2D at 0x7fadce002750>]"
      ]
     },
     "execution_count": 319,
     "metadata": {},
     "output_type": "execute_result"
    },
    {
     "data": {
      "image/png": "[encoded data removed]",
      "text/plain": [
       "<Figure size 504x504 with 1 Axes>"
      ]
     },
     "metadata": {
      "needs_background": "light"
     },
     "output_type": "display_data"
    }
   ],
   "source": [
    "#Temp=np.linspace(0.02,10,1000)\n",
    "Temp=1000**np.linspace(-0.59,1,100)\n",
    "print(Temp[0])\n",
    "gamma=np.zeros(len(Temp))*0.0\n",
    "factor=1#25\n",
    "Tkondo=(Tk)*factor\n",
    "Ek=np.linspace(-0.001,0.001,1000)*factor\n",
    "for i in range(1):\n",
    "    T=Temp[i+0]\n",
    "    omega=Ek/T\n",
    "    FD_T2=-2*((omega*omega)/T**2-omega/T**2)*(np.exp(omega)/((1+np.exp(omega))*(1+np.exp(omega))))+2*((omega*omega)/T**2)*np.exp(2*omega)/((1+np.exp(omega))*(1+np.exp(omega))*(1+np.exp(omega)))   \n",
    "    arctan=np.arctan(1/omega)\n",
    "#plt.plot(Temp,FD_T2)\n",
    "integral= np.trapz(FD_T2*arctan, dx=(Ek[1]-Ek[0])/T)\n",
    "print(integral)\n",
    "plt.plot(Ek,arctan*FD_T2)"
   ]
  },
  {
   "cell_type": "code",
   "execution_count": 317,
   "metadata": {},
   "outputs": [
    {
     "data": {
      "text/plain": [
       "array([-5.88843655e-03, -5.87664789e-03, -5.86485923e-03, -5.85307057e-03,\n",
       "       -5.84128191e-03, -5.82949324e-03, -5.81770458e-03, -5.80591592e-03,\n",
       "       -5.79412726e-03, -5.78233860e-03, -5.77054994e-03, -5.75876127e-03,\n",
       "       -5.74697261e-03, -5.73518395e-03, -5.72339529e-03, -5.71160663e-03,\n",
       "       -5.69981797e-03, -5.68802930e-03, -5.67624064e-03, -5.66445198e-03,\n",
       "       -5.65266332e-03, -5.64087466e-03, -5.62908599e-03, -5.61729733e-03,\n",
       "       -5.60550867e-03, -5.59372001e-03, -5.58193135e-03, -5.57014269e-03,\n",
       "       -5.55835402e-03, -5.54656536e-03, -5.53477670e-03, -5.52298804e-03,\n",
       "       -5.51119938e-03, -5.49941072e-03, -5.48762205e-03, -5.47583339e-03,\n",
       "       -5.46404473e-03, -5.45225607e-03, -5.44046741e-03, -5.42867874e-03,\n",
       "       -5.41689008e-03, -5.40510142e-03, -5.39331276e-03, -5.38152410e-03,\n",
       "       -5.36973544e-03, -5.35794677e-03, -5.34615811e-03, -5.33436945e-03,\n",
       "       -5.32258079e-03, -5.31079213e-03, -5.29900347e-03, -5.28721480e-03,\n",
       "       -5.27542614e-03, -5.26363748e-03, -5.25184882e-03, -5.24006016e-03,\n",
       "       -5.22827149e-03, -5.21648283e-03, -5.20469417e-03, -5.19290551e-03,\n",
       "       -5.18111685e-03, -5.16932819e-03, -5.15753952e-03, -5.14575086e-03,\n",
       "       -5.13396220e-03, -5.12217354e-03, -5.11038488e-03, -5.09859622e-03,\n",
       "       -5.08680755e-03, -5.07501889e-03, -5.06323023e-03, -5.05144157e-03,\n",
       "       -5.03965291e-03, -5.02786424e-03, -5.01607558e-03, -5.00428692e-03,\n",
       "       -4.99249826e-03, -4.98070960e-03, -4.96892094e-03, -4.95713227e-03,\n",
       "       -4.94534361e-03, -4.93355495e-03, -4.92176629e-03, -4.90997763e-03,\n",
       "       -4.89818896e-03, -4.88640030e-03, -4.87461164e-03, -4.86282298e-03,\n",
       "       -4.85103432e-03, -4.83924566e-03, -4.82745699e-03, -4.81566833e-03,\n",
       "       -4.80387967e-03, -4.79209101e-03, -4.78030235e-03, -4.76851369e-03,\n",
       "       -4.75672502e-03, -4.74493636e-03, -4.73314770e-03, -4.72135904e-03,\n",
       "       -4.70957038e-03, -4.69778171e-03, -4.68599305e-03, -4.67420439e-03,\n",
       "       -4.66241573e-03, -4.65062707e-03, -4.63883841e-03, -4.62704974e-03,\n",
       "       -4.61526108e-03, -4.60347242e-03, -4.59168376e-03, -4.57989510e-03,\n",
       "       -4.56810644e-03, -4.55631777e-03, -4.54452911e-03, -4.53274045e-03,\n",
       "       -4.52095179e-03, -4.50916313e-03, -4.49737446e-03, -4.48558580e-03,\n",
       "       -4.47379714e-03, -4.46200848e-03, -4.45021982e-03, -4.43843116e-03,\n",
       "       -4.42664249e-03, -4.41485383e-03, -4.40306517e-03, -4.39127651e-03,\n",
       "       -4.37948785e-03, -4.36769919e-03, -4.35591052e-03, -4.34412186e-03,\n",
       "       -4.33233320e-03, -4.32054454e-03, -4.30875588e-03, -4.29696721e-03,\n",
       "       -4.28517855e-03, -4.27338989e-03, -4.26160123e-03, -4.24981257e-03,\n",
       "       -4.23802391e-03, -4.22623524e-03, -4.21444658e-03, -4.20265792e-03,\n",
       "       -4.19086926e-03, -4.17908060e-03, -4.16729194e-03, -4.15550327e-03,\n",
       "       -4.14371461e-03, -4.13192595e-03, -4.12013729e-03, -4.10834863e-03,\n",
       "       -4.09655996e-03, -4.08477130e-03, -4.07298264e-03, -4.06119398e-03,\n",
       "       -4.04940532e-03, -4.03761666e-03, -4.02582799e-03, -4.01403933e-03,\n",
       "       -4.00225067e-03, -3.99046201e-03, -3.97867335e-03, -3.96688469e-03,\n",
       "       -3.95509602e-03, -3.94330736e-03, -3.93151870e-03, -3.91973004e-03,\n",
       "       -3.90794138e-03, -3.89615271e-03, -3.88436405e-03, -3.87257539e-03,\n",
       "       -3.86078673e-03, -3.84899807e-03, -3.83720941e-03, -3.82542074e-03,\n",
       "       -3.81363208e-03, -3.80184342e-03, -3.79005476e-03, -3.77826610e-03,\n",
       "       -3.76647744e-03, -3.75468877e-03, -3.74290011e-03, -3.73111145e-03,\n",
       "       -3.71932279e-03, -3.70753413e-03, -3.69574546e-03, -3.68395680e-03,\n",
       "       -3.67216814e-03, -3.66037948e-03, -3.64859082e-03, -3.63680216e-03,\n",
       "       -3.62501349e-03, -3.61322483e-03, -3.60143617e-03, -3.58964751e-03,\n",
       "       -3.57785885e-03, -3.56607019e-03, -3.55428152e-03, -3.54249286e-03,\n",
       "       -3.53070420e-03, -3.51891554e-03, -3.50712688e-03, -3.49533821e-03,\n",
       "       -3.48354955e-03, -3.47176089e-03, -3.45997223e-03, -3.44818357e-03,\n",
       "       -3.43639491e-03, -3.42460624e-03, -3.41281758e-03, -3.40102892e-03,\n",
       "       -3.38924026e-03, -3.37745160e-03, -3.36566294e-03, -3.35387427e-03,\n",
       "       -3.34208561e-03, -3.33029695e-03, -3.31850829e-03, -3.30671963e-03,\n",
       "       -3.29493096e-03, -3.28314230e-03, -3.27135364e-03, -3.25956498e-03,\n",
       "       -3.24777632e-03, -3.23598766e-03, -3.22419899e-03, -3.21241033e-03,\n",
       "       -3.20062167e-03, -3.18883301e-03, -3.17704435e-03, -3.16525568e-03,\n",
       "       -3.15346702e-03, -3.14167836e-03, -3.12988970e-03, -3.11810104e-03,\n",
       "       -3.10631238e-03, -3.09452371e-03, -3.08273505e-03, -3.07094639e-03,\n",
       "       -3.05915773e-03, -3.04736907e-03, -3.03558041e-03, -3.02379174e-03,\n",
       "       -3.01200308e-03, -3.00021442e-03, -2.98842576e-03, -2.97663710e-03,\n",
       "       -2.96484843e-03, -2.95305977e-03, -2.94127111e-03, -2.92948245e-03,\n",
       "       -2.91769379e-03, -2.90590513e-03, -2.89411646e-03, -2.88232780e-03,\n",
       "       -2.87053914e-03, -2.85875048e-03, -2.84696182e-03, -2.83517316e-03,\n",
       "       -2.82338449e-03, -2.81159583e-03, -2.79980717e-03, -2.78801851e-03,\n",
       "       -2.77622985e-03, -2.76444118e-03, -2.75265252e-03, -2.74086386e-03,\n",
       "       -2.72907520e-03, -2.71728654e-03, -2.70549788e-03, -2.69370921e-03,\n",
       "       -2.68192055e-03, -2.67013189e-03, -2.65834323e-03, -2.64655457e-03,\n",
       "       -2.63476591e-03, -2.62297724e-03, -2.61118858e-03, -2.59939992e-03,\n",
       "       -2.58761126e-03, -2.57582260e-03, -2.56403393e-03, -2.55224527e-03,\n",
       "       -2.54045661e-03, -2.52866795e-03, -2.51687929e-03, -2.50509063e-03,\n",
       "       -2.49330196e-03, -2.48151330e-03, -2.46972464e-03, -2.45793598e-03,\n",
       "       -2.44614732e-03, -2.43435866e-03, -2.42256999e-03, -2.41078133e-03,\n",
       "       -2.39899267e-03, -2.38720401e-03, -2.37541535e-03, -2.36362668e-03,\n",
       "       -2.35183802e-03, -2.34004936e-03, -2.32826070e-03, -2.31647204e-03,\n",
       "       -2.30468338e-03, -2.29289471e-03, -2.28110605e-03, -2.26931739e-03,\n",
       "       -2.25752873e-03, -2.24574007e-03, -2.23395141e-03, -2.22216274e-03,\n",
       "       -2.21037408e-03, -2.19858542e-03, -2.18679676e-03, -2.17500810e-03,\n",
       "       -2.16321943e-03, -2.15143077e-03, -2.13964211e-03, -2.12785345e-03,\n",
       "       -2.11606479e-03, -2.10427613e-03, -2.09248746e-03, -2.08069880e-03,\n",
       "       -2.06891014e-03, -2.05712148e-03, -2.04533282e-03, -2.03354416e-03,\n",
       "       -2.02175549e-03, -2.00996683e-03, -1.99817817e-03, -1.98638951e-03,\n",
       "       -1.97460085e-03, -1.96281218e-03, -1.95102352e-03, -1.93923486e-03,\n",
       "       -1.92744620e-03, -1.91565754e-03, -1.90386888e-03, -1.89208021e-03,\n",
       "       -1.88029155e-03, -1.86850289e-03, -1.85671423e-03, -1.84492557e-03,\n",
       "       -1.83313691e-03, -1.82134824e-03, -1.80955958e-03, -1.79777092e-03,\n",
       "       -1.78598226e-03, -1.77419360e-03, -1.76240493e-03, -1.75061627e-03,\n",
       "       -1.73882761e-03, -1.72703895e-03, -1.71525029e-03, -1.70346163e-03,\n",
       "       -1.69167296e-03, -1.67988430e-03, -1.66809564e-03, -1.65630698e-03,\n",
       "       -1.64451832e-03, -1.63272965e-03, -1.62094099e-03, -1.60915233e-03,\n",
       "       -1.59736367e-03, -1.58557501e-03, -1.57378635e-03, -1.56199768e-03,\n",
       "       -1.55020902e-03, -1.53842036e-03, -1.52663170e-03, -1.51484304e-03,\n",
       "       -1.50305438e-03, -1.49126571e-03, -1.47947705e-03, -1.46768839e-03,\n",
       "       -1.45589973e-03, -1.44411107e-03, -1.43232240e-03, -1.42053374e-03,\n",
       "       -1.40874508e-03, -1.39695642e-03, -1.38516776e-03, -1.37337910e-03,\n",
       "       -1.36159043e-03, -1.34980177e-03, -1.33801311e-03, -1.32622445e-03,\n",
       "       -1.31443579e-03, -1.30264713e-03, -1.29085846e-03, -1.27906980e-03,\n",
       "       -1.26728114e-03, -1.25549248e-03, -1.24370382e-03, -1.23191515e-03,\n",
       "       -1.22012649e-03, -1.20833783e-03, -1.19654917e-03, -1.18476051e-03,\n",
       "       -1.17297185e-03, -1.16118318e-03, -1.14939452e-03, -1.13760586e-03,\n",
       "       -1.12581720e-03, -1.11402854e-03, -1.10223988e-03, -1.09045121e-03,\n",
       "       -1.07866255e-03, -1.06687389e-03, -1.05508523e-03, -1.04329657e-03,\n",
       "       -1.03150790e-03, -1.01971924e-03, -1.00793058e-03, -9.96141919e-04,\n",
       "       -9.84353258e-04, -9.72564596e-04, -9.60775934e-04, -9.48987272e-04,\n",
       "       -9.37198611e-04, -9.25409949e-04, -9.13621287e-04, -9.01832625e-04,\n",
       "       -8.90043964e-04, -8.78255302e-04, -8.66466640e-04, -8.54677978e-04,\n",
       "       -8.42889316e-04, -8.31100655e-04, -8.19311993e-04, -8.07523331e-04,\n",
       "       -7.95734669e-04, -7.83946008e-04, -7.72157346e-04, -7.60368684e-04,\n",
       "       -7.48580022e-04, -7.36791361e-04, -7.25002699e-04, -7.13214037e-04,\n",
       "       -7.01425375e-04, -6.89636713e-04, -6.77848052e-04, -6.66059390e-04,\n",
       "       -6.54270728e-04, -6.42482066e-04, -6.30693405e-04, -6.18904743e-04,\n",
       "       -6.07116081e-04, -5.95327419e-04, -5.83538758e-04, -5.71750096e-04,\n",
       "       -5.59961434e-04, -5.48172772e-04, -5.36384110e-04, -5.24595449e-04,\n",
       "       -5.12806787e-04, -5.01018125e-04, -4.89229463e-04, -4.77440802e-04,\n",
       "       -4.65652140e-04, -4.53863478e-04, -4.42074816e-04, -4.30286155e-04,\n",
       "       -4.18497493e-04, -4.06708831e-04, -3.94920169e-04, -3.83131507e-04,\n",
       "       -3.71342846e-04, -3.59554184e-04, -3.47765522e-04, -3.35976860e-04,\n",
       "       -3.24188199e-04, -3.12399537e-04, -3.00610875e-04, -2.88822213e-04,\n",
       "       -2.77033552e-04, -2.65244890e-04, -2.53456228e-04, -2.41667566e-04,\n",
       "       -2.29878904e-04, -2.18090243e-04, -2.06301581e-04, -1.94512919e-04,\n",
       "       -1.82724257e-04, -1.70935596e-04, -1.59146934e-04, -1.47358272e-04,\n",
       "       -1.35569610e-04, -1.23780949e-04, -1.11992287e-04, -1.00203625e-04,\n",
       "       -8.84149633e-05, -7.66263015e-05, -6.48376397e-05, -5.30489780e-05,\n",
       "       -4.12603162e-05, -2.94716544e-05, -1.76829927e-05, -5.89433088e-06,\n",
       "        5.89433088e-06,  1.76829927e-05,  2.94716544e-05,  4.12603162e-05,\n",
       "        5.30489780e-05,  6.48376397e-05,  7.66263015e-05,  8.84149633e-05,\n",
       "        1.00203625e-04,  1.11992287e-04,  1.23780949e-04,  1.35569610e-04,\n",
       "        1.47358272e-04,  1.59146934e-04,  1.70935596e-04,  1.82724257e-04,\n",
       "        1.94512919e-04,  2.06301581e-04,  2.18090243e-04,  2.29878904e-04,\n",
       "        2.41667566e-04,  2.53456228e-04,  2.65244890e-04,  2.77033552e-04,\n",
       "        2.88822213e-04,  3.00610875e-04,  3.12399537e-04,  3.24188199e-04,\n",
       "        3.35976860e-04,  3.47765522e-04,  3.59554184e-04,  3.71342846e-04,\n",
       "        3.83131507e-04,  3.94920169e-04,  4.06708831e-04,  4.18497493e-04,\n",
       "        4.30286155e-04,  4.42074816e-04,  4.53863478e-04,  4.65652140e-04,\n",
       "        4.77440802e-04,  4.89229463e-04,  5.01018125e-04,  5.12806787e-04,\n",
       "        5.24595449e-04,  5.36384110e-04,  5.48172772e-04,  5.59961434e-04,\n",
       "        5.71750096e-04,  5.83538758e-04,  5.95327419e-04,  6.07116081e-04,\n",
       "        6.18904743e-04,  6.30693405e-04,  6.42482066e-04,  6.54270728e-04,\n",
       "        6.66059390e-04,  6.77848052e-04,  6.89636713e-04,  7.01425375e-04,\n",
       "        7.13214037e-04,  7.25002699e-04,  7.36791361e-04,  7.48580022e-04,\n",
       "        7.60368684e-04,  7.72157346e-04,  7.83946008e-04,  7.95734669e-04,\n",
       "        8.07523331e-04,  8.19311993e-04,  8.31100655e-04,  8.42889316e-04,\n",
       "        8.54677978e-04,  8.66466640e-04,  8.78255302e-04,  8.90043964e-04,\n",
       "        9.01832625e-04,  9.13621287e-04,  9.25409949e-04,  9.37198611e-04,\n",
       "        9.48987272e-04,  9.60775934e-04,  9.72564596e-04,  9.84353258e-04,\n",
       "        9.96141919e-04,  1.00793058e-03,  1.01971924e-03,  1.03150790e-03,\n",
       "        1.04329657e-03,  1.05508523e-03,  1.06687389e-03,  1.07866255e-03,\n",
       "        1.09045121e-03,  1.10223988e-03,  1.11402854e-03,  1.12581720e-03,\n",
       "        1.13760586e-03,  1.14939452e-03,  1.16118318e-03,  1.17297185e-03,\n",
       "        1.18476051e-03,  1.19654917e-03,  1.20833783e-03,  1.22012649e-03,\n",
       "        1.23191515e-03,  1.24370382e-03,  1.25549248e-03,  1.26728114e-03,\n",
       "        1.27906980e-03,  1.29085846e-03,  1.30264713e-03,  1.31443579e-03,\n",
       "        1.32622445e-03,  1.33801311e-03,  1.34980177e-03,  1.36159043e-03,\n",
       "        1.37337910e-03,  1.38516776e-03,  1.39695642e-03,  1.40874508e-03,\n",
       "        1.42053374e-03,  1.43232240e-03,  1.44411107e-03,  1.45589973e-03,\n",
       "        1.46768839e-03,  1.47947705e-03,  1.49126571e-03,  1.50305438e-03,\n",
       "        1.51484304e-03,  1.52663170e-03,  1.53842036e-03,  1.55020902e-03,\n",
       "        1.56199768e-03,  1.57378635e-03,  1.58557501e-03,  1.59736367e-03,\n",
       "        1.60915233e-03,  1.62094099e-03,  1.63272965e-03,  1.64451832e-03,\n",
       "        1.65630698e-03,  1.66809564e-03,  1.67988430e-03,  1.69167296e-03,\n",
       "        1.70346163e-03,  1.71525029e-03,  1.72703895e-03,  1.73882761e-03,\n",
       "        1.75061627e-03,  1.76240493e-03,  1.77419360e-03,  1.78598226e-03,\n",
       "        1.79777092e-03,  1.80955958e-03,  1.82134824e-03,  1.83313691e-03,\n",
       "        1.84492557e-03,  1.85671423e-03,  1.86850289e-03,  1.88029155e-03,\n",
       "        1.89208021e-03,  1.90386888e-03,  1.91565754e-03,  1.92744620e-03,\n",
       "        1.93923486e-03,  1.95102352e-03,  1.96281218e-03,  1.97460085e-03,\n",
       "        1.98638951e-03,  1.99817817e-03,  2.00996683e-03,  2.02175549e-03,\n",
       "        2.03354416e-03,  2.04533282e-03,  2.05712148e-03,  2.06891014e-03,\n",
       "        2.08069880e-03,  2.09248746e-03,  2.10427613e-03,  2.11606479e-03,\n",
       "        2.12785345e-03,  2.13964211e-03,  2.15143077e-03,  2.16321943e-03,\n",
       "        2.17500810e-03,  2.18679676e-03,  2.19858542e-03,  2.21037408e-03,\n",
       "        2.22216274e-03,  2.23395141e-03,  2.24574007e-03,  2.25752873e-03,\n",
       "        2.26931739e-03,  2.28110605e-03,  2.29289471e-03,  2.30468338e-03,\n",
       "        2.31647204e-03,  2.32826070e-03,  2.34004936e-03,  2.35183802e-03,\n",
       "        2.36362668e-03,  2.37541535e-03,  2.38720401e-03,  2.39899267e-03,\n",
       "        2.41078133e-03,  2.42256999e-03,  2.43435866e-03,  2.44614732e-03,\n",
       "        2.45793598e-03,  2.46972464e-03,  2.48151330e-03,  2.49330196e-03,\n",
       "        2.50509063e-03,  2.51687929e-03,  2.52866795e-03,  2.54045661e-03,\n",
       "        2.55224527e-03,  2.56403393e-03,  2.57582260e-03,  2.58761126e-03,\n",
       "        2.59939992e-03,  2.61118858e-03,  2.62297724e-03,  2.63476591e-03,\n",
       "        2.64655457e-03,  2.65834323e-03,  2.67013189e-03,  2.68192055e-03,\n",
       "        2.69370921e-03,  2.70549788e-03,  2.71728654e-03,  2.72907520e-03,\n",
       "        2.74086386e-03,  2.75265252e-03,  2.76444118e-03,  2.77622985e-03,\n",
       "        2.78801851e-03,  2.79980717e-03,  2.81159583e-03,  2.82338449e-03,\n",
       "        2.83517316e-03,  2.84696182e-03,  2.85875048e-03,  2.87053914e-03,\n",
       "        2.88232780e-03,  2.89411646e-03,  2.90590513e-03,  2.91769379e-03,\n",
       "        2.92948245e-03,  2.94127111e-03,  2.95305977e-03,  2.96484843e-03,\n",
       "        2.97663710e-03,  2.98842576e-03,  3.00021442e-03,  3.01200308e-03,\n",
       "        3.02379174e-03,  3.03558041e-03,  3.04736907e-03,  3.05915773e-03,\n",
       "        3.07094639e-03,  3.08273505e-03,  3.09452371e-03,  3.10631238e-03,\n",
       "        3.11810104e-03,  3.12988970e-03,  3.14167836e-03,  3.15346702e-03,\n",
       "        3.16525568e-03,  3.17704435e-03,  3.18883301e-03,  3.20062167e-03,\n",
       "        3.21241033e-03,  3.22419899e-03,  3.23598766e-03,  3.24777632e-03,\n",
       "        3.25956498e-03,  3.27135364e-03,  3.28314230e-03,  3.29493096e-03,\n",
       "        3.30671963e-03,  3.31850829e-03,  3.33029695e-03,  3.34208561e-03,\n",
       "        3.35387427e-03,  3.36566294e-03,  3.37745160e-03,  3.38924026e-03,\n",
       "        3.40102892e-03,  3.41281758e-03,  3.42460624e-03,  3.43639491e-03,\n",
       "        3.44818357e-03,  3.45997223e-03,  3.47176089e-03,  3.48354955e-03,\n",
       "        3.49533821e-03,  3.50712688e-03,  3.51891554e-03,  3.53070420e-03,\n",
       "        3.54249286e-03,  3.55428152e-03,  3.56607019e-03,  3.57785885e-03,\n",
       "        3.58964751e-03,  3.60143617e-03,  3.61322483e-03,  3.62501349e-03,\n",
       "        3.63680216e-03,  3.64859082e-03,  3.66037948e-03,  3.67216814e-03,\n",
       "        3.68395680e-03,  3.69574546e-03,  3.70753413e-03,  3.71932279e-03,\n",
       "        3.73111145e-03,  3.74290011e-03,  3.75468877e-03,  3.76647744e-03,\n",
       "        3.77826610e-03,  3.79005476e-03,  3.80184342e-03,  3.81363208e-03,\n",
       "        3.82542074e-03,  3.83720941e-03,  3.84899807e-03,  3.86078673e-03,\n",
       "        3.87257539e-03,  3.88436405e-03,  3.89615271e-03,  3.90794138e-03,\n",
       "        3.91973004e-03,  3.93151870e-03,  3.94330736e-03,  3.95509602e-03,\n",
       "        3.96688469e-03,  3.97867335e-03,  3.99046201e-03,  4.00225067e-03,\n",
       "        4.01403933e-03,  4.02582799e-03,  4.03761666e-03,  4.04940532e-03,\n",
       "        4.06119398e-03,  4.07298264e-03,  4.08477130e-03,  4.09655996e-03,\n",
       "        4.10834863e-03,  4.12013729e-03,  4.13192595e-03,  4.14371461e-03,\n",
       "        4.15550327e-03,  4.16729194e-03,  4.17908060e-03,  4.19086926e-03,\n",
       "        4.20265792e-03,  4.21444658e-03,  4.22623524e-03,  4.23802391e-03,\n",
       "        4.24981257e-03,  4.26160123e-03,  4.27338989e-03,  4.28517855e-03,\n",
       "        4.29696721e-03,  4.30875588e-03,  4.32054454e-03,  4.33233320e-03,\n",
       "        4.34412186e-03,  4.35591052e-03,  4.36769919e-03,  4.37948785e-03,\n",
       "        4.39127651e-03,  4.40306517e-03,  4.41485383e-03,  4.42664249e-03,\n",
       "        4.43843116e-03,  4.45021982e-03,  4.46200848e-03,  4.47379714e-03,\n",
       "        4.48558580e-03,  4.49737446e-03,  4.50916313e-03,  4.52095179e-03,\n",
       "        4.53274045e-03,  4.54452911e-03,  4.55631777e-03,  4.56810644e-03,\n",
       "        4.57989510e-03,  4.59168376e-03,  4.60347242e-03,  4.61526108e-03,\n",
       "        4.62704974e-03,  4.63883841e-03,  4.65062707e-03,  4.66241573e-03,\n",
       "        4.67420439e-03,  4.68599305e-03,  4.69778171e-03,  4.70957038e-03,\n",
       "        4.72135904e-03,  4.73314770e-03,  4.74493636e-03,  4.75672502e-03,\n",
       "        4.76851369e-03,  4.78030235e-03,  4.79209101e-03,  4.80387967e-03,\n",
       "        4.81566833e-03,  4.82745699e-03,  4.83924566e-03,  4.85103432e-03,\n",
       "        4.86282298e-03,  4.87461164e-03,  4.88640030e-03,  4.89818896e-03,\n",
       "        4.90997763e-03,  4.92176629e-03,  4.93355495e-03,  4.94534361e-03,\n",
       "        4.95713227e-03,  4.96892094e-03,  4.98070960e-03,  4.99249826e-03,\n",
       "        5.00428692e-03,  5.01607558e-03,  5.02786424e-03,  5.03965291e-03,\n",
       "        5.05144157e-03,  5.06323023e-03,  5.07501889e-03,  5.08680755e-03,\n",
       "        5.09859622e-03,  5.11038488e-03,  5.12217354e-03,  5.13396220e-03,\n",
       "        5.14575086e-03,  5.15753952e-03,  5.16932819e-03,  5.18111685e-03,\n",
       "        5.19290551e-03,  5.20469417e-03,  5.21648283e-03,  5.22827149e-03,\n",
       "        5.24006016e-03,  5.25184882e-03,  5.26363748e-03,  5.27542614e-03,\n",
       "        5.28721480e-03,  5.29900347e-03,  5.31079213e-03,  5.32258079e-03,\n",
       "        5.33436945e-03,  5.34615811e-03,  5.35794677e-03,  5.36973544e-03,\n",
       "        5.38152410e-03,  5.39331276e-03,  5.40510142e-03,  5.41689008e-03,\n",
       "        5.42867874e-03,  5.44046741e-03,  5.45225607e-03,  5.46404473e-03,\n",
       "        5.47583339e-03,  5.48762205e-03,  5.49941072e-03,  5.51119938e-03,\n",
       "        5.52298804e-03,  5.53477670e-03,  5.54656536e-03,  5.55835402e-03,\n",
       "        5.57014269e-03,  5.58193135e-03,  5.59372001e-03,  5.60550867e-03,\n",
       "        5.61729733e-03,  5.62908599e-03,  5.64087466e-03,  5.65266332e-03,\n",
       "        5.66445198e-03,  5.67624064e-03,  5.68802930e-03,  5.69981797e-03,\n",
       "        5.71160663e-03,  5.72339529e-03,  5.73518395e-03,  5.74697261e-03,\n",
       "        5.75876127e-03,  5.77054994e-03,  5.78233860e-03,  5.79412726e-03,\n",
       "        5.80591592e-03,  5.81770458e-03,  5.82949324e-03,  5.84128191e-03,\n",
       "        5.85307057e-03,  5.86485923e-03,  5.87664789e-03,  5.88843655e-03])"
      ]
     },
     "execution_count": 317,
     "metadata": {},
     "output_type": "execute_result"
    }
   ],
   "source": [
    "omega"
   ]
  },
  {
   "cell_type": "code",
   "execution_count": 313,
   "metadata": {},
   "outputs": [
    {
     "data": {
      "text/plain": [
       "5.894330884440155e-05"
      ]
     },
     "execution_count": 313,
     "metadata": {},
     "output_type": "execute_result"
    }
   ],
   "source": [
    "np.abs(omega).min()"
   ]
  },
  {
   "cell_type": "code",
   "execution_count": 314,
   "metadata": {},
   "outputs": [
    {
     "data": {
      "text/plain": [
       "0.0001178866176888031"
      ]
     },
     "execution_count": 314,
     "metadata": {},
     "output_type": "execute_result"
    }
   ],
   "source": [
    "(Ek[1]-Ek[0])/T"
   ]
  },
  {
   "cell_type": "code",
   "execution_count": 315,
   "metadata": {},
   "outputs": [
    {
     "data": {
      "text/plain": [
       "0.016982436524617447"
      ]
     },
     "execution_count": 315,
     "metadata": {},
     "output_type": "execute_result"
    }
   ],
   "source": [
    "T"
   ]
  },
  {
   "cell_type": "code",
   "execution_count": null,
   "metadata": {},
   "outputs": [],
   "source": []
  }
 ],
 "metadata": {
  "kernelspec": {
   "display_name": "Python 3",
   "language": "python",
   "name": "python3"
  },
  "language_info": {
   "codemirror_mode": {
    "name": "ipython",
    "version": 3
   },
   "file_extension": ".py",
   "mimetype": "text/x-python",
   "name": "python",
   "nbconvert_exporter": "python",
   "pygments_lexer": "ipython3",
   "version": "3.7.4"
  }
 },
 "nbformat": 4,
 "nbformat_minor": 2
}
