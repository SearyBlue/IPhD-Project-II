{
 "cells": [
  {
   "cell_type": "code",
   "execution_count": 1,
   "metadata": {},
   "outputs": [
    {
     "data": {
      "text/html": [
       "<style>.container { width:100% !important; }</style>"
      ],
      "text/plain": [
       "<IPython.core.display.HTML object>"
      ]
     },
     "metadata": {},
     "output_type": "display_data"
    }
   ],
   "source": [
    "from IPython.core.display import display, HTML\n",
    "display(HTML(\"<style>.container { width:100% !important; }</style>\"))"
   ]
  },
  {
   "cell_type": "code",
   "execution_count": 2,
   "metadata": {},
   "outputs": [],
   "source": [
    "import numpy as np\n",
    "import re\n",
    "from numpy import linalg as LA\n",
    "from time import time\n",
    "from scipy import sparse\n",
    "import matplotlib.pyplot as plt"
   ]
  },
  {
   "cell_type": "code",
   "execution_count": 53,
   "metadata": {},
   "outputs": [],
   "source": [
    "#off diagonal/diagonal four point/two electron correlations $c^{\\dagger}_{1}c^{\\dagger}_{2}c_{3}c_{4}$\n",
    "wOD=np.zeros(8)\n",
    "wD=np.zeros(8)\n",
    "for i in range(8):\n",
    "    Psi=open(\"KondoWvFn%s.txt\"%(i),\"+r\").readlines()\n",
    "    N=13\n",
    "    Ket=np.array([np.array([conf[:N],conf[N:]]) for conf in Psi[2:]])\n",
    "    Psi=np.rec.fromarrays([Ket[:,0],Ket[:,1].astype(np.float64)],names='keys,vals')\n",
    "    for conf in Psi:\n",
    "        if (conf['keys'][0:3]=='001'):\n",
    "            string='110'+conf['keys'][3:] \n",
    "            wOD[i]=wOD[i]+conf['vals']*Psi['vals'][np.where(Psi['keys']==string)]\n",
    "        if (conf['keys'][0:3]=='001'):\n",
    "            wD[i]=wD[i]+conf['vals']**2   \n",
    "  \n",
    "                    "
   ]
  },
  {
   "cell_type": "code",
   "execution_count": 54,
   "metadata": {},
   "outputs": [
    {
     "data": {
      "text/plain": [
       "(array([0.25      , 0.0718677 , 0.01416183, 0.04089117, 0.02132644,\n",
       "        0.0356488 , 0.02482657, 0.03202696]),\n",
       " array([-0.25      , -0.21280063, -0.04193326, -0.06379513, -0.03327181,\n",
       "        -0.04594392, -0.03199631, -0.03850995]))"
      ]
     },
     "execution_count": 54,
     "metadata": {},
     "output_type": "execute_result"
    }
   ],
   "source": [
    "wD,wOD"
   ]
  },
  {
   "cell_type": "code",
   "execution_count": 56,
   "metadata": {},
   "outputs": [
    {
     "data": {
      "text/plain": [
       "[<matplotlib.lines.Line2D at 0x7f69a8f7efd0>]"
      ]
     },
     "execution_count": 56,
     "metadata": {},
     "output_type": "execute_result"
    },
    {
     "data": {
      "image/png": "[encoded data removed]",
      "text/plain": [
       "<Figure size 432x288 with 1 Axes>"
      ]
     },
     "metadata": {
      "needs_background": "light"
     },
     "output_type": "display_data"
    }
   ],
   "source": [
    "figure,ax=plt.subplots(1,1)\n",
    "plt.rcParams[\"figure.figsize\"] = (10,7)\n",
    "ax.set_xlabel(r'RG Steps $\\rightarrow$',fontsize=15)\n",
    "ax.set_ylabel(r'Mutual Information($I$)',fontsize=15)\n",
    "ax.plot(wD,label=r'$I_{max}(imp:e)$')\n",
    "ax.plot(wOD,label=r'$I_{max}(e:e)$')\n",
    "ax.tick_params(labelsize=15)\n",
    "plt.legend(fontsize=15)\n",
    "plt.plot(np.abs(wOD))\n",
    "plt.plot(wD)"
   ]
  },
  {
   "cell_type": "code",
   "execution_count": null,
   "metadata": {},
   "outputs": [],
   "source": []
  }
 ],
 "metadata": {
  "kernelspec": {
   "display_name": "Python 3",
   "language": "python",
   "name": "python3"
  },
  "language_info": {
   "codemirror_mode": {
    "name": "ipython",
    "version": 3
   },
   "file_extension": ".py",
   "mimetype": "text/x-python",
   "name": "python",
   "nbconvert_exporter": "python",
   "pygments_lexer": "ipython3",
   "version": "3.7.1"
  }
 },
 "nbformat": 4,
 "nbformat_minor": 2
}
