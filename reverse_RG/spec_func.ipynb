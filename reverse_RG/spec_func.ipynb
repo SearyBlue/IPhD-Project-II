{
  "nbformat": 4,
  "nbformat_minor": 0,
  "metadata": {
    "colab": {
      "name": "sp_heat.ipynb",
      "provenance": [],
      "collapsed_sections": []
    },
    "kernelspec": {
      "display_name": "Python 3",
      "language": "python",
      "name": "python3"
    },
    "language_info": {
      "codemirror_mode": {
        "name": "ipython",
        "version": 3
      },
      "file_extension": ".py",
      "mimetype": "text/x-python",
      "name": "python",
      "nbconvert_exporter": "python",
      "pygments_lexer": "ipython3",
      "version": "3.9.4-final"
    }
  },
  "cells": [
    {
      "cell_type": "code",
      "metadata": {
        "colab": {
          "base_uri": "https://localhost:8080/"
        },
        "id": "ItCCBwGHQaEI",
        "outputId": "6bdb324d-5c8c-4a7f-b2a3-bb9d848fb6ff"
      },
      "source": [
        "# !pip install qutip\n",
        "from qutip import *\n",
        "from math import *\n",
        "import itertools\n",
        "from itertools import product\n",
        "import matplotlib\n",
        "from matplotlib import pyplot as plt\n",
        "import numpy as np\n",
        "from tqdm import tqdm\n",
        "from multiprocessing import Pool\n",
        "\n",
        "font = {'size'   : 17}\n",
        "\n",
        "matplotlib.rc('font', **font)\n",
        "# matplotlib.rcParams['text.usetex'] = True\n",
        "plt.rcParams[\"figure.figsize\"]= 6, 4\n",
        "plt.rcParams['figure.dpi'] = 90\n",
        "matplotlib.rcParams['lines.linewidth'] = 2\n",
        "plt.rcParams['axes.grid'] = True\n",
        " "
      ],
      "execution_count": 1,
      "outputs": []
    },
    {
      "cell_type": "markdown",
      "metadata": {
        "id": "lfDDaMNC_eh3"
      },
      "source": [
        "# Exact diagonalization of fixed-point Hamiltonian"
      ]
    },
    {
      "cell_type": "code",
      "metadata": {
        "id": "ZH-wBZSd_eh3"
      },
      "source": [
        "def imp_energy(Ek_0, V, J, K, U, ed):\n",
        "    dim = len(Ek_0)\n",
        "    ed = -U/2\n",
        "    imp_ed_up = [create(2)*destroy(2), identity(2)]\n",
        "    imp_ed_dn = [identity(2), create(2)*destroy(2)]\n",
        "    imp_U = [create(2)*destroy(2), create(2)*destroy(2)]\n",
        "    bath = [identity(2)]*2*dim\n",
        "    return ed*tensor(imp_ed_up+bath) + ed*tensor(imp_ed_dn+bath) + U*tensor(imp_U+bath)\n",
        "\n",
        "\n",
        "def kin_en(Ek_0, V, J, K, U, ed):\n",
        "    H = 0\n",
        "    dim = len(Ek_0)\n",
        "    for i in range(dim):\n",
        "        for sigma in [\"u\", \"d\"]:\n",
        "            # print (i, sigma)\n",
        "            imp = [identity(2)]*2\n",
        "            bef = [identity(2)]*2*i\n",
        "            tau = create(2)*destroy(2) - 1/2\n",
        "            curr = [Ek_0[i]*tau, identity(2)] if sigma == \"u\" else [identity(2), Ek_0[i]*tau]\n",
        "            aft = [identity(2)]*2*(dim - i - 1)\n",
        "            mats = imp+bef+curr+aft\n",
        "            H += tensor(mats)\n",
        "    return H\n",
        "\n",
        "\n",
        "def hyb(Ek_0, V, J, K, U, ed):\n",
        "    H = 0\n",
        "    dim = len(Ek_0)\n",
        "    for i in range(dim):\n",
        "        for sigma in [\"u\", \"d\"]:\n",
        "            # print (i, sigma)\n",
        "            tau = create(2)*destroy(2) - 1/2\n",
        "            if sigma == \"u\":\n",
        "                mats1 = [destroy(2), identity(2)] + [identity(2)]*2*i + [create(2), identity(2)] + [identity(2)]*2*(dim - i - 1)\n",
        "                mats2 = [create(2), identity(2)] + [identity(2)]*2*i + [destroy(2), identity(2)] + [identity(2)]*2*(dim - i - 1)\n",
        "            else:\n",
        "                mats1 = [identity(2), destroy(2)] + [identity(2)]*2*i + [identity(2), create(2)] + [identity(2)]*2*(dim - i - 1)\n",
        "                mats2 = [identity(2), create(2)] + [identity(2)]*2*i + [identity(2), destroy(2)] + [identity(2)]*2*(dim - i - 1)\n",
        "            H += -tensor(mats1) + tensor(mats2)\n",
        "    return V * H\n",
        "    \n",
        "    \n",
        "def spin(Ek_0, V, J, K, U, ed):\n",
        "    H = 0\n",
        "    dim = len(Ek_0)\n",
        "    idt = identity(2)\n",
        "    Sdz = 0.5 * (tensor(create(2)*destroy(2), identity(2)) - tensor(identity(2), create(2)*destroy(2)))\n",
        "    Sdplus = tensor(create(2), destroy(2))\n",
        "    Sdmin = -tensor(destroy(2), create(2))\n",
        "    Ksz = Ksplus = Ksmin = 0\n",
        "    for i,j in product(range(dim), range(dim)):\n",
        "        # print (i,j)\n",
        "        if i < j:\n",
        "            Ksz += 0.5 * tensor([idt]*2*i + [create(2), idt] + [idt]*2*(j - i - 1) + [destroy(2), idt] + [idt]*2*(dim - j - 1))\n",
        "            Ksz -= 0.5 * tensor([idt]*2*i + [idt, create(2)] + [idt]*2*(j - i - 1) + [idt, destroy(2)] + [idt]*2*(dim - j - 1))\n",
        "            Ksplus += tensor([idt]*2*i + [create(2), idt] + [idt]*2*(j - i - 1) + [idt, destroy(2)] + [idt]*2*(dim - j - 1))\n",
        "            Ksmin += tensor([idt]*2*i + [idt, destroy(2)] + [idt]*2*(j - i - 1) + [create(2), idt] + [idt]*2*(dim - j - 1))\n",
        "        elif i > j:\n",
        "            Ksz -= 0.5 * tensor([idt]*2*j + [destroy(2), idt] + [idt]*2*(i - j - 1) + [create(2), idt] + [idt]*2*(dim - i - 1))\n",
        "            Ksz += 0.5 * tensor([idt]*2*j + [idt, destroy(2)] + [idt]*2*(i - j - 1) + [idt, create(2)] + [idt]*2*(dim - i - 1))\n",
        "            Ksplus -= tensor([idt]*2*j + [idt, destroy(2)] + [idt]*2*(i - j - 1) + [create(2), idt] + [idt]*2*(dim - i - 1))\n",
        "            Ksmin -= tensor([idt]*2*j + [create(2), idt] + [idt]*2*(i - j - 1) + [idt, destroy(2)] + [idt]*2*(dim - i - 1))\n",
        "        else:\n",
        "            Ksz += 0.5 * tensor([idt]*2*i + [create(2)*destroy(2), idt] + [idt]*2*(dim - i - 1))\n",
        "            Ksz -= 0.5 * tensor([idt]*2*i + [idt, create(2)*destroy(2)] + [idt]*2*(dim - i - 1))\n",
        "            Ksplus += tensor([idt]*2*i + [create(2), destroy(2)] + [idt]*2*(dim - i - 1))\n",
        "            Ksmin -= tensor([idt]*2*i + [destroy(2), create(2)] + [idt]*2*(dim - i - 1))\n",
        "\n",
        "    return J * (tensor(Sdz, Ksz) + 0.5*tensor(Sdplus, Ksmin) + 0.5*tensor(Sdmin, Ksplus))\n",
        "\n",
        "\n",
        "def charge(Ek_0, V, J, K, U, ed):\n",
        "    H = 0\n",
        "    dim = len(Ek_0)\n",
        "    idt = identity(2)\n",
        "    Cdz = 0.5 * (tensor(create(2)*destroy(2), identity(2)) + tensor(identity(2), create(2)*destroy(2)) - 1)\n",
        "    Cdplus = tensor(create(2), create(2))\n",
        "    Cdmin = -tensor(destroy(2), destroy(2))\n",
        "    Kcz = -dim/2\n",
        "    Kcplus = Kcmin = 0\n",
        "    for i,j in product(range(dim), range(dim)):\n",
        "        # print (i,j)\n",
        "        if i < j:\n",
        "            Kcz += 0.5 * tensor([idt]*2*i + [create(2), idt] + [idt]*2*(j - i - 1) + [destroy(2), idt] + [idt]*2*(dim - j - 1))\n",
        "            Kcz += 0.5 * tensor([idt]*2*i + [idt, create(2)] + [idt]*2*(j - i - 1) + [idt, destroy(2)] + [idt]*2*(dim - j - 1))\n",
        "            Kcplus += tensor([idt]*2*i + [create(2), idt] + [idt]*2*(j - i - 1) + [idt, create(2)] + [idt]*2*(dim - j - 1))\n",
        "            Kcmin += tensor([idt]*2*i + [idt, destroy(2)] + [idt]*2*(j - i - 1) + [destroy(2), idt] + [idt]*2*(dim - j - 1))\n",
        "        elif i > j:\n",
        "            Kcz -= 0.5 * tensor([idt]*2*j + [destroy(2), idt] + [idt]*2*(i - j - 1) + [create(2), idt] + [idt]*2*(dim - i - 1))\n",
        "            Kcz -= 0.5 * tensor([idt]*2*j + [idt, destroy(2)] + [idt]*2*(i - j - 1) + [idt, create(2)] + [idt]*2*(dim - i - 1))\n",
        "            Kcplus -= tensor([idt]*2*j + [idt, create(2)] + [idt]*2*(i - j - 1) + [create(2), idt] + [idt]*2*(dim - i - 1))\n",
        "            Kcmin -= tensor([idt]*2*j + [destroy(2), idt] + [idt]*2*(i - j - 1) + [idt, destroy(2)] + [idt]*2*(dim - i - 1))\n",
        "        else:\n",
        "            Kcz += 0.5 * tensor([idt]*2*i + [create(2)*destroy(2), idt] + [idt]*2*(dim - i - 1))\n",
        "            Kcz += 0.5 * tensor([idt]*2*i + [idt, create(2)*destroy(2)] + [idt]*2*(dim - i - 1))\n",
        "            Kcplus += tensor([idt]*2*i + [create(2), create(2)] + [idt]*2*(dim - i - 1))\n",
        "            Kcmin -= tensor([idt]*2*i + [destroy(2), destroy(2)] + [idt]*2*(dim - i - 1))\n",
        "\n",
        "    return K * (tensor(Cdz, Kcz) + 0.5*tensor(Cdplus, Kcmin) + 0.5*tensor(Cdmin, Kcplus))"
      ],
      "execution_count": 2,
      "outputs": []
    },
    {
      "source": [
        "# Spectral Function"
      ],
      "cell_type": "markdown",
      "metadata": {}
    },
    {
      "source": [
        "## $T=0$"
      ],
      "cell_type": "markdown",
      "metadata": {}
    },
    {
      "cell_type": "code",
      "execution_count": 8,
      "metadata": {},
      "outputs": [
        {
          "output_type": "stream",
          "name": "stderr",
          "text": [
            "100%|██████████| 21/21 [00:35<00:00,  1.67s/it]\n"
          ]
        },
        {
          "output_type": "display_data",
          "data": {
            "text/plain": "<Figure size 540x360 with 1 Axes>",
            "image/svg+xml": "<?xml version=\"1.0\" encoding=\"utf-8\" standalone=\"no\"?>\n<!DOCTYPE svg PUBLIC \"-//W3C//DTD SVG 1.1//EN\"\n  \"http://www.w3.org/Graphics/SVG/1.1/DTD/svg11.dtd\">\n<!-- Created with matplotlib (https://matplotlib.org/) -->\n<svg height=\"255.292812pt\" version=\"1.1\" viewBox=\"0 0 394.051562 255.292812\" width=\"394.051562pt\" xmlns=\"http://www.w3.org/2000/svg\" xmlns:xlink=\"http://www.w3.org/1999/xlink\">\n <metadata>\n  <rdf:RDF xmlns:cc=\"http://creativecommons.org/ns#\" xmlns:dc=\"http://purl.org/dc/elements/1.1/\" xmlns:rdf=\"http://www.w3.org/1999/02/22-rdf-syntax-ns#\">\n   <cc:Work>\n    <dc:type rdf:resource=\"http://purl.org/dc/dcmitype/StillImage\"/>\n    <dc:date>2021-07-02T12:46:48.060071</dc:date>\n    <dc:format>image/svg+xml</dc:format>\n    <dc:creator>\n     <cc:Agent>\n      <dc:title>Matplotlib v3.3.4, https://matplotlib.org/</dc:title>\n     </cc:Agent>\n    </dc:creator>\n   </cc:Work>\n  </rdf:RDF>\n </metadata>\n <defs>\n  <style type=\"text/css\">*{stroke-linecap:butt;stroke-linejoin:round;}</style>\n </defs>\n <g id=\"figure_1\">\n  <g id=\"patch_1\">\n   <path d=\"M -0 255.292812 \nL 394.051562 255.292812 \nL 394.051562 0 \nL -0 0 \nz\n\" style=\"fill:none;\"/>\n  </g>\n  <g id=\"axes_1\">\n   <g id=\"patch_2\">\n    <path d=\"M 52.051563 224.64 \nL 386.851562 224.64 \nL 386.851562 7.2 \nL 52.051563 7.2 \nz\n\" style=\"fill:#ffffff;\"/>\n   </g>\n   <g id=\"matplotlib.axis_1\">\n    <g id=\"xtick_1\">\n     <g id=\"line2d_1\">\n      <path clip-path=\"url(#pc836f5c8b5)\" d=\"M 97.706108 224.64 \nL 97.706108 7.2 \n\" style=\"fill:none;stroke:#b0b0b0;stroke-linecap:square;stroke-width:0.8;\"/>\n     </g>\n     <g id=\"line2d_2\">\n      <defs>\n       <path d=\"M 0 0 \nL 0 3.5 \n\" id=\"mc76cc2419e\" style=\"stroke:#000000;stroke-width:0.8;\"/>\n      </defs>\n      <g>\n       <use style=\"stroke:#000000;stroke-width:0.8;\" x=\"97.706108\" xlink:href=\"#mc76cc2419e\" y=\"224.64\"/>\n      </g>\n     </g>\n     <g id=\"text_1\">\n      <!-- −0.4 -->\n      <g transform=\"translate(77.065717 244.557344)scale(0.17 -0.17)\">\n       <defs>\n        <path d=\"M 10.59375 35.5 \nL 73.1875 35.5 \nL 73.1875 27.203125 \nL 10.59375 27.203125 \nz\n\" id=\"DejaVuSans-8722\"/>\n        <path d=\"M 31.78125 66.40625 \nQ 24.171875 66.40625 20.328125 58.90625 \nQ 16.5 51.421875 16.5 36.375 \nQ 16.5 21.390625 20.328125 13.890625 \nQ 24.171875 6.390625 31.78125 6.390625 \nQ 39.453125 6.390625 43.28125 13.890625 \nQ 47.125 21.390625 47.125 36.375 \nQ 47.125 51.421875 43.28125 58.90625 \nQ 39.453125 66.40625 31.78125 66.40625 \nz\nM 31.78125 74.21875 \nQ 44.046875 74.21875 50.515625 64.515625 \nQ 56.984375 54.828125 56.984375 36.375 \nQ 56.984375 17.96875 50.515625 8.265625 \nQ 44.046875 -1.421875 31.78125 -1.421875 \nQ 19.53125 -1.421875 13.0625 8.265625 \nQ 6.59375 17.96875 6.59375 36.375 \nQ 6.59375 54.828125 13.0625 64.515625 \nQ 19.53125 74.21875 31.78125 74.21875 \nz\n\" id=\"DejaVuSans-48\"/>\n        <path d=\"M 10.6875 12.40625 \nL 21 12.40625 \nL 21 0 \nL 10.6875 0 \nz\n\" id=\"DejaVuSans-46\"/>\n        <path d=\"M 37.796875 64.3125 \nL 12.890625 25.390625 \nL 37.796875 25.390625 \nz\nM 35.203125 72.90625 \nL 47.609375 72.90625 \nL 47.609375 25.390625 \nL 58.015625 25.390625 \nL 58.015625 17.1875 \nL 47.609375 17.1875 \nL 47.609375 0 \nL 37.796875 0 \nL 37.796875 17.1875 \nL 4.890625 17.1875 \nL 4.890625 26.703125 \nz\n\" id=\"DejaVuSans-52\"/>\n       </defs>\n       <use xlink:href=\"#DejaVuSans-8722\"/>\n       <use x=\"83.789062\" xlink:href=\"#DejaVuSans-48\"/>\n       <use x=\"147.412109\" xlink:href=\"#DejaVuSans-46\"/>\n       <use x=\"179.199219\" xlink:href=\"#DejaVuSans-52\"/>\n      </g>\n     </g>\n    </g>\n    <g id=\"xtick_2\">\n     <g id=\"line2d_3\">\n      <path clip-path=\"url(#pc836f5c8b5)\" d=\"M 158.578835 224.64 \nL 158.578835 7.2 \n\" style=\"fill:none;stroke:#b0b0b0;stroke-linecap:square;stroke-width:0.8;\"/>\n     </g>\n     <g id=\"line2d_4\">\n      <g>\n       <use style=\"stroke:#000000;stroke-width:0.8;\" x=\"158.578835\" xlink:href=\"#mc76cc2419e\" y=\"224.64\"/>\n      </g>\n     </g>\n     <g id=\"text_2\">\n      <!-- −0.2 -->\n      <g transform=\"translate(137.938445 244.557344)scale(0.17 -0.17)\">\n       <defs>\n        <path d=\"M 19.1875 8.296875 \nL 53.609375 8.296875 \nL 53.609375 0 \nL 7.328125 0 \nL 7.328125 8.296875 \nQ 12.9375 14.109375 22.625 23.890625 \nQ 32.328125 33.6875 34.8125 36.53125 \nQ 39.546875 41.84375 41.421875 45.53125 \nQ 43.3125 49.21875 43.3125 52.78125 \nQ 43.3125 58.59375 39.234375 62.25 \nQ 35.15625 65.921875 28.609375 65.921875 \nQ 23.96875 65.921875 18.8125 64.3125 \nQ 13.671875 62.703125 7.8125 59.421875 \nL 7.8125 69.390625 \nQ 13.765625 71.78125 18.9375 73 \nQ 24.125 74.21875 28.421875 74.21875 \nQ 39.75 74.21875 46.484375 68.546875 \nQ 53.21875 62.890625 53.21875 53.421875 \nQ 53.21875 48.921875 51.53125 44.890625 \nQ 49.859375 40.875 45.40625 35.40625 \nQ 44.1875 33.984375 37.640625 27.21875 \nQ 31.109375 20.453125 19.1875 8.296875 \nz\n\" id=\"DejaVuSans-50\"/>\n       </defs>\n       <use xlink:href=\"#DejaVuSans-8722\"/>\n       <use x=\"83.789062\" xlink:href=\"#DejaVuSans-48\"/>\n       <use x=\"147.412109\" xlink:href=\"#DejaVuSans-46\"/>\n       <use x=\"179.199219\" xlink:href=\"#DejaVuSans-50\"/>\n      </g>\n     </g>\n    </g>\n    <g id=\"xtick_3\">\n     <g id=\"line2d_5\">\n      <path clip-path=\"url(#pc836f5c8b5)\" d=\"M 219.451563 224.64 \nL 219.451563 7.2 \n\" style=\"fill:none;stroke:#b0b0b0;stroke-linecap:square;stroke-width:0.8;\"/>\n     </g>\n     <g id=\"line2d_6\">\n      <g>\n       <use style=\"stroke:#000000;stroke-width:0.8;\" x=\"219.451563\" xlink:href=\"#mc76cc2419e\" y=\"224.64\"/>\n      </g>\n     </g>\n     <g id=\"text_3\">\n      <!-- 0.0 -->\n      <g transform=\"translate(205.933906 244.557344)scale(0.17 -0.17)\">\n       <use xlink:href=\"#DejaVuSans-48\"/>\n       <use x=\"63.623047\" xlink:href=\"#DejaVuSans-46\"/>\n       <use x=\"95.410156\" xlink:href=\"#DejaVuSans-48\"/>\n      </g>\n     </g>\n    </g>\n    <g id=\"xtick_4\">\n     <g id=\"line2d_7\">\n      <path clip-path=\"url(#pc836f5c8b5)\" d=\"M 280.32429 224.64 \nL 280.32429 7.2 \n\" style=\"fill:none;stroke:#b0b0b0;stroke-linecap:square;stroke-width:0.8;\"/>\n     </g>\n     <g id=\"line2d_8\">\n      <g>\n       <use style=\"stroke:#000000;stroke-width:0.8;\" x=\"280.32429\" xlink:href=\"#mc76cc2419e\" y=\"224.64\"/>\n      </g>\n     </g>\n     <g id=\"text_4\">\n      <!-- 0.2 -->\n      <g transform=\"translate(266.806634 244.557344)scale(0.17 -0.17)\">\n       <use xlink:href=\"#DejaVuSans-48\"/>\n       <use x=\"63.623047\" xlink:href=\"#DejaVuSans-46\"/>\n       <use x=\"95.410156\" xlink:href=\"#DejaVuSans-50\"/>\n      </g>\n     </g>\n    </g>\n    <g id=\"xtick_5\">\n     <g id=\"line2d_9\">\n      <path clip-path=\"url(#pc836f5c8b5)\" d=\"M 341.197017 224.64 \nL 341.197017 7.2 \n\" style=\"fill:none;stroke:#b0b0b0;stroke-linecap:square;stroke-width:0.8;\"/>\n     </g>\n     <g id=\"line2d_10\">\n      <g>\n       <use style=\"stroke:#000000;stroke-width:0.8;\" x=\"341.197017\" xlink:href=\"#mc76cc2419e\" y=\"224.64\"/>\n      </g>\n     </g>\n     <g id=\"text_5\">\n      <!-- 0.4 -->\n      <g transform=\"translate(327.679361 244.557344)scale(0.17 -0.17)\">\n       <use xlink:href=\"#DejaVuSans-48\"/>\n       <use x=\"63.623047\" xlink:href=\"#DejaVuSans-46\"/>\n       <use x=\"95.410156\" xlink:href=\"#DejaVuSans-52\"/>\n      </g>\n     </g>\n    </g>\n   </g>\n   <g id=\"matplotlib.axis_2\">\n    <g id=\"ytick_1\">\n     <g id=\"line2d_11\">\n      <path clip-path=\"url(#pc836f5c8b5)\" d=\"M 52.051563 214.757453 \nL 386.851562 214.757453 \n\" style=\"fill:none;stroke:#b0b0b0;stroke-linecap:square;stroke-width:0.8;\"/>\n     </g>\n     <g id=\"line2d_12\">\n      <defs>\n       <path d=\"M 0 0 \nL -3.5 0 \n\" id=\"m68d4e5a27b\" style=\"stroke:#000000;stroke-width:0.8;\"/>\n      </defs>\n      <g>\n       <use style=\"stroke:#000000;stroke-width:0.8;\" x=\"52.051563\" xlink:href=\"#m68d4e5a27b\" y=\"214.757453\"/>\n      </g>\n     </g>\n     <g id=\"text_6\">\n      <!-- 0.00 -->\n      <g transform=\"translate(7.2 221.216124)scale(0.17 -0.17)\">\n       <use xlink:href=\"#DejaVuSans-48\"/>\n       <use x=\"63.623047\" xlink:href=\"#DejaVuSans-46\"/>\n       <use x=\"95.410156\" xlink:href=\"#DejaVuSans-48\"/>\n       <use x=\"159.033203\" xlink:href=\"#DejaVuSans-48\"/>\n      </g>\n     </g>\n    </g>\n    <g id=\"ytick_2\">\n     <g id=\"line2d_13\">\n      <path clip-path=\"url(#pc836f5c8b5)\" d=\"M 52.051563 169.726188 \nL 386.851562 169.726188 \n\" style=\"fill:none;stroke:#b0b0b0;stroke-linecap:square;stroke-width:0.8;\"/>\n     </g>\n     <g id=\"line2d_14\">\n      <g>\n       <use style=\"stroke:#000000;stroke-width:0.8;\" x=\"52.051563\" xlink:href=\"#m68d4e5a27b\" y=\"169.726188\"/>\n      </g>\n     </g>\n     <g id=\"text_7\">\n      <!-- 0.02 -->\n      <g transform=\"translate(7.2 176.18486)scale(0.17 -0.17)\">\n       <use xlink:href=\"#DejaVuSans-48\"/>\n       <use x=\"63.623047\" xlink:href=\"#DejaVuSans-46\"/>\n       <use x=\"95.410156\" xlink:href=\"#DejaVuSans-48\"/>\n       <use x=\"159.033203\" xlink:href=\"#DejaVuSans-50\"/>\n      </g>\n     </g>\n    </g>\n    <g id=\"ytick_3\">\n     <g id=\"line2d_15\">\n      <path clip-path=\"url(#pc836f5c8b5)\" d=\"M 52.051563 124.694924 \nL 386.851562 124.694924 \n\" style=\"fill:none;stroke:#b0b0b0;stroke-linecap:square;stroke-width:0.8;\"/>\n     </g>\n     <g id=\"line2d_16\">\n      <g>\n       <use style=\"stroke:#000000;stroke-width:0.8;\" x=\"52.051563\" xlink:href=\"#m68d4e5a27b\" y=\"124.694924\"/>\n      </g>\n     </g>\n     <g id=\"text_8\">\n      <!-- 0.04 -->\n      <g transform=\"translate(7.2 131.153596)scale(0.17 -0.17)\">\n       <use xlink:href=\"#DejaVuSans-48\"/>\n       <use x=\"63.623047\" xlink:href=\"#DejaVuSans-46\"/>\n       <use x=\"95.410156\" xlink:href=\"#DejaVuSans-48\"/>\n       <use x=\"159.033203\" xlink:href=\"#DejaVuSans-52\"/>\n      </g>\n     </g>\n    </g>\n    <g id=\"ytick_4\">\n     <g id=\"line2d_17\">\n      <path clip-path=\"url(#pc836f5c8b5)\" d=\"M 52.051563 79.66366 \nL 386.851562 79.66366 \n\" style=\"fill:none;stroke:#b0b0b0;stroke-linecap:square;stroke-width:0.8;\"/>\n     </g>\n     <g id=\"line2d_18\">\n      <g>\n       <use style=\"stroke:#000000;stroke-width:0.8;\" x=\"52.051563\" xlink:href=\"#m68d4e5a27b\" y=\"79.66366\"/>\n      </g>\n     </g>\n     <g id=\"text_9\">\n      <!-- 0.06 -->\n      <g transform=\"translate(7.2 86.122332)scale(0.17 -0.17)\">\n       <defs>\n        <path d=\"M 33.015625 40.375 \nQ 26.375 40.375 22.484375 35.828125 \nQ 18.609375 31.296875 18.609375 23.390625 \nQ 18.609375 15.53125 22.484375 10.953125 \nQ 26.375 6.390625 33.015625 6.390625 \nQ 39.65625 6.390625 43.53125 10.953125 \nQ 47.40625 15.53125 47.40625 23.390625 \nQ 47.40625 31.296875 43.53125 35.828125 \nQ 39.65625 40.375 33.015625 40.375 \nz\nM 52.59375 71.296875 \nL 52.59375 62.3125 \nQ 48.875 64.0625 45.09375 64.984375 \nQ 41.3125 65.921875 37.59375 65.921875 \nQ 27.828125 65.921875 22.671875 59.328125 \nQ 17.53125 52.734375 16.796875 39.40625 \nQ 19.671875 43.65625 24.015625 45.921875 \nQ 28.375 48.1875 33.59375 48.1875 \nQ 44.578125 48.1875 50.953125 41.515625 \nQ 57.328125 34.859375 57.328125 23.390625 \nQ 57.328125 12.15625 50.6875 5.359375 \nQ 44.046875 -1.421875 33.015625 -1.421875 \nQ 20.359375 -1.421875 13.671875 8.265625 \nQ 6.984375 17.96875 6.984375 36.375 \nQ 6.984375 53.65625 15.1875 63.9375 \nQ 23.390625 74.21875 37.203125 74.21875 \nQ 40.921875 74.21875 44.703125 73.484375 \nQ 48.484375 72.75 52.59375 71.296875 \nz\n\" id=\"DejaVuSans-54\"/>\n       </defs>\n       <use xlink:href=\"#DejaVuSans-48\"/>\n       <use x=\"63.623047\" xlink:href=\"#DejaVuSans-46\"/>\n       <use x=\"95.410156\" xlink:href=\"#DejaVuSans-48\"/>\n       <use x=\"159.033203\" xlink:href=\"#DejaVuSans-54\"/>\n      </g>\n     </g>\n    </g>\n    <g id=\"ytick_5\">\n     <g id=\"line2d_19\">\n      <path clip-path=\"url(#pc836f5c8b5)\" d=\"M 52.051563 34.632396 \nL 386.851562 34.632396 \n\" style=\"fill:none;stroke:#b0b0b0;stroke-linecap:square;stroke-width:0.8;\"/>\n     </g>\n     <g id=\"line2d_20\">\n      <g>\n       <use style=\"stroke:#000000;stroke-width:0.8;\" x=\"52.051563\" xlink:href=\"#m68d4e5a27b\" y=\"34.632396\"/>\n      </g>\n     </g>\n     <g id=\"text_10\">\n      <!-- 0.08 -->\n      <g transform=\"translate(7.2 41.091068)scale(0.17 -0.17)\">\n       <defs>\n        <path d=\"M 31.78125 34.625 \nQ 24.75 34.625 20.71875 30.859375 \nQ 16.703125 27.09375 16.703125 20.515625 \nQ 16.703125 13.921875 20.71875 10.15625 \nQ 24.75 6.390625 31.78125 6.390625 \nQ 38.8125 6.390625 42.859375 10.171875 \nQ 46.921875 13.96875 46.921875 20.515625 \nQ 46.921875 27.09375 42.890625 30.859375 \nQ 38.875 34.625 31.78125 34.625 \nz\nM 21.921875 38.8125 \nQ 15.578125 40.375 12.03125 44.71875 \nQ 8.5 49.078125 8.5 55.328125 \nQ 8.5 64.0625 14.71875 69.140625 \nQ 20.953125 74.21875 31.78125 74.21875 \nQ 42.671875 74.21875 48.875 69.140625 \nQ 55.078125 64.0625 55.078125 55.328125 \nQ 55.078125 49.078125 51.53125 44.71875 \nQ 48 40.375 41.703125 38.8125 \nQ 48.828125 37.15625 52.796875 32.3125 \nQ 56.78125 27.484375 56.78125 20.515625 \nQ 56.78125 9.90625 50.3125 4.234375 \nQ 43.84375 -1.421875 31.78125 -1.421875 \nQ 19.734375 -1.421875 13.25 4.234375 \nQ 6.78125 9.90625 6.78125 20.515625 \nQ 6.78125 27.484375 10.78125 32.3125 \nQ 14.796875 37.15625 21.921875 38.8125 \nz\nM 18.3125 54.390625 \nQ 18.3125 48.734375 21.84375 45.5625 \nQ 25.390625 42.390625 31.78125 42.390625 \nQ 38.140625 42.390625 41.71875 45.5625 \nQ 45.3125 48.734375 45.3125 54.390625 \nQ 45.3125 60.0625 41.71875 63.234375 \nQ 38.140625 66.40625 31.78125 66.40625 \nQ 25.390625 66.40625 21.84375 63.234375 \nQ 18.3125 60.0625 18.3125 54.390625 \nz\n\" id=\"DejaVuSans-56\"/>\n       </defs>\n       <use xlink:href=\"#DejaVuSans-48\"/>\n       <use x=\"63.623047\" xlink:href=\"#DejaVuSans-46\"/>\n       <use x=\"95.410156\" xlink:href=\"#DejaVuSans-48\"/>\n       <use x=\"159.033203\" xlink:href=\"#DejaVuSans-56\"/>\n      </g>\n     </g>\n    </g>\n   </g>\n   <g id=\"line2d_21\">\n    <path clip-path=\"url(#pc836f5c8b5)\" d=\"M 67.269744 214.75635 \nL 82.487926 214.749303 \nL 97.706108 214.693591 \nL 112.92429 214.170549 \nL 128.142472 210.28028 \nL 143.360653 191.802331 \nL 158.578835 140.012098 \nL 173.797017 62.009598 \nL 189.015199 17.083636 \nL 204.233381 39.269543 \nL 219.451562 65.023946 \nL 234.669744 39.271766 \nL 249.887926 17.083761 \nL 265.106108 62.007994 \nL 280.32429 140.011885 \nL 295.542472 191.803111 \nL 310.760653 210.280461 \nL 325.978835 214.170336 \nL 341.197017 214.693512 \nL 356.415199 214.74932 \nL 371.633381 214.756364 \n\" style=\"fill:none;stroke:#1f77b4;stroke-linecap:square;stroke-width:2;\"/>\n   </g>\n   <g id=\"patch_3\">\n    <path d=\"M 52.051563 224.64 \nL 52.051563 7.2 \n\" style=\"fill:none;stroke:#000000;stroke-linecap:square;stroke-linejoin:miter;stroke-width:0.8;\"/>\n   </g>\n   <g id=\"patch_4\">\n    <path d=\"M 386.851562 224.64 \nL 386.851562 7.2 \n\" style=\"fill:none;stroke:#000000;stroke-linecap:square;stroke-linejoin:miter;stroke-width:0.8;\"/>\n   </g>\n   <g id=\"patch_5\">\n    <path d=\"M 52.051563 224.64 \nL 386.851562 224.64 \n\" style=\"fill:none;stroke:#000000;stroke-linecap:square;stroke-linejoin:miter;stroke-width:0.8;\"/>\n   </g>\n   <g id=\"patch_6\">\n    <path d=\"M 52.051563 7.2 \nL 386.851562 7.2 \n\" style=\"fill:none;stroke:#000000;stroke-linecap:square;stroke-linejoin:miter;stroke-width:0.8;\"/>\n   </g>\n  </g>\n </g>\n <defs>\n  <clipPath id=\"pc836f5c8b5\">\n   <rect height=\"217.44\" width=\"334.8\" x=\"52.051563\" y=\"7.2\"/>\n  </clipPath>\n </defs>\n</svg>\n",
            "image/png": "[encoded data removed]"
          },
          "metadata": {
            "needs_background": "light"
          }
        }
      ],
      "source": [
        "def rho_at_w(args):\n",
        "    [Em, Emp],[Xm,Xmp] = args\n",
        "    cdag_up = tensor([create(2), identity(2)] + [identity(2)]*2*len(Ek_0))\n",
        "    Vmmp_1 = Xm.dag()*cdag_up*Xmp\n",
        "    Vmmp_2 = Xmp.dag()*cdag_up*Xm\n",
        "    Vmmp_1_sq = np.real((Vmmp_1*Vmmp_1.dag())[0][0][0])\n",
        "    Vmmp_2_sq = np.real((Vmmp_2*Vmmp_2.dag())[0][0][0])\n",
        "    x1 = w + Em\n",
        "    x2 = w - Em\n",
        "    eta = abs(max(Ek_0))      # width of broadening function\n",
        "    return (Vmmp_1_sq * exp(-(x1/eta)**2)/(eta*sqrt(pi)) + Vmmp_2_sq * exp(-(x2/eta)**2)/(eta*sqrt(pi))) / Z\n",
        "\n",
        "Ek_0 = np.array([-0.1, 0, 0.1])\n",
        "# print (Ek_0)\n",
        "U = 0.2\n",
        "ed = 0.1\n",
        "V = 0.019909015762077577\n",
        "J = 0.015838964056748835\n",
        "K = J\n",
        "H = kin_en(Ek_0, V, J, K, U, ed)\n",
        "H += imp_energy(Ek_0, V, J, K, U, ed)\n",
        "H += hyb(Ek_0, V, J, K, U, ed)\n",
        "H += spin(Ek_0, V, J, K, U, ed)\n",
        "H += charge(Ek_0, V, J, K, U, ed)\n",
        "H = 0.5 * (H + H.dag())\n",
        "E, X = H.eigenstates()\n",
        "E = np.array(E)\n",
        "zeroE = E[np.where(np.abs(np.round(E,9)) == 0)]\n",
        "zeroX = X[np.where(np.abs(np.round(E,9)) == 0)]\n",
        "Z = len(E)\n",
        "w_range = np.arange(-0.5, 0.52, 0.05)\n",
        "rho = []\n",
        "for w in tqdm(w_range):\n",
        "    rho_w = sum(Pool(processes=10).map(rho_at_w, zip(product(E, zeroE), product(X, zeroX))))\n",
        "    rho.append(rho_w)\n",
        "    # for [Em, Emp],[Xm,Xmp] in zip(product(E, E), product(X, X)):\n",
        "    #     cdag_up = tensor([create(2), identity(2)] + [identity(2)]*2*len(Ek_0))\n",
        "    #     Vmmp = Xm.dag()*cdag_up*Xmp\n",
        "    #     Vmmp_sq = np.real((Vmmp*Vmmp.dag())[0][0][0])\n",
        "    #     x = w - Emp + Em\n",
        "    #     eta = Ek_0[-1]      # width of broadening function\n",
        "    #     rho[-1] += Vmmp_sq * exp(-(x/w)**2)/(w*sqrt(pi)) * (exp(-beta*Em) + exp(-beta*Emp)) / Z    \n",
        "\n",
        "plt.plot(w_range, rho)\n",
        "plt.show()"
      ]
    },
    {
      "cell_type": "code",
      "execution_count": 5,
      "metadata": {},
      "outputs": [],
      "source": [
        "def rho_at_w(args):\n",
        "    [Em, Emp],[Xm,Xmp] = args\n",
        "    cdag_up = tensor([create(2), identity(2)] + [identity(2)]*2*len(Ek_0))\n",
        "    Vmmp = Xm.dag()*cdag_up*Xmp\n",
        "    Vmmp_sq = np.real((Vmmp*Vmmp.dag())[0][0][0])\n",
        "    x = w - Emp + Em\n",
        "    eta = abs(max(Ek_0))      # width of broadening function\n",
        "    return Vmmp_sq * exp(-(x/eta)**2)/(eta*sqrt(pi)) * (exp(-beta*Em) + exp(-beta*Emp)) / Z\n",
        "\n",
        "Ek_0 = np.array([-0.2, -0.1, 0.1, 0.2])\n",
        "# print (Ek_0)\n",
        "U = 0.1\n",
        "V = 0.019909015762077577\n",
        "J = 0.015838964056748835\n",
        "K = J\n",
        "plt.rcParams[\"figure.figsize\"]= 12, 4\n",
        "H = kin_en(Ek_0, V, J, K, U)\n",
        "# H += imp_energy(Ek_0, V, J, K, U)\n",
        "H += hyb(Ek_0, V, J, K, U)\n",
        "H += spin(Ek_0, V, J, K, U)\n",
        "H += charge(Ek_0, V, J, K, U)\n",
        "H = 0.5 * (H + H.dag())\n",
        "E, X = H.eigenstates()\n",
        "# E = np.array(E)\n",
        "T = 0.1\n",
        "kb = 1\n",
        "beta = 1/(kb*T)\n",
        "Z = sum(np.exp(-beta*E))\n",
        "w_range = np.arange(-2, 2, 0.1)\n",
        "rho = []\n",
        "for w in tqdm(w_range):\n",
        "    rho_w = sum(Pool(processes=10).map(rho_at_w, zip(product(E, E), product(X, X))))\n",
        "    rho.append(rho_w)\n",
        "    # for [Em, Emp],[Xm,Xmp] in zip(product(E, E), product(X, X)):\n",
        "    #     cdag_up = tensor([create(2), identity(2)] + [identity(2)]*2*len(Ek_0))\n",
        "    #     Vmmp = Xm.dag()*cdag_up*Xmp\n",
        "    #     Vmmp_sq = np.real((Vmmp*Vmmp.dag())[0][0][0])\n",
        "    #     x = w - Emp + Em\n",
        "    #     eta = Ek_0[-1]      # width of broadening function\n",
        "    #     rho[-1] += Vmmp_sq * exp(-(x/w)**2)/(w*sqrt(pi)) * (exp(-beta*Em) + exp(-beta*Emp)) / Z    \n",
        "\n",
        "plt.plot(w_range, rho)\n",
        "plt.show()"
      ]
    },
    {
      "cell_type": "code",
      "execution_count": null,
      "metadata": {},
      "outputs": [],
      "source": []
    }
  ]
}