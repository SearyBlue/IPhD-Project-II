{
 "cells": [
  {
   "cell_type": "markdown",
   "metadata": {
    "id": "9BCqFAZWQaD9"
   },
   "source": [
    "### IR Wavefunction\n",
    "\n",
    "$$\n",
    "\\newcommand{\\ket}[1]{\\vert{#1}\\rangle}\\\\\n",
    "\\newcommand{\\bra}[1]{\\langle{#1}\\vert}\\\\\n",
    "\\ket{\\text{IR}} = \\ket{\\hat n_{k_{-2}} = \\hat n_{k_{-3}} = 2} \\otimes \\frac{1}{2}\\bigg[ \\ket{\\uparrow^d}\\frac{1}{\\sqrt 2}\\left(\\ket{k_1 \\downarrow} + \\ket{k_{-1} \\downarrow}\\right) - \\ket{\\downarrow^d}\\frac{1}{\\sqrt 2}\\left(\\ket{k_1 \\uparrow} + \\ket{k_{-1} \\uparrow}\\right) + \\ket{2^d}\\ket{0} - \\ket{0^d}\\ket{k_1 \\uparrow, k_1 \\downarrow,k_{-1} \\uparrow,k_{-1} \\downarrow}\\bigg] \\otimes  \\ket{\\hat n_{k_{2}} = \\hat n_{k_{3} } = 0} = \\ket{1111}\\ket{0000}\\\\\n",
    "=\\frac{1}{2}\\ket{0000} \\otimes \\left[\\ket{10}\\ket{0101} - \\ket{01}\\ket{1010} + \\ket{11}\\ket{0000} - \\ket{00}\\ket{1111}\\right] \\otimes \\ket{1111}\\\\\n",
    "=\\frac{1}{2}\\ket{0000} \\otimes \\left[\\ket{01} \\underbrace{\\ket{10}}_\\text{imp}\\ket{01} - \\ket{10}\\underbrace{\\ket{01}}_\\text{imp}\\ket{10} + \\ket{00}\\underbrace{\\ket{11}}_\\text{imp}\\ket{00} - \\ket{11}\\underbrace{\\ket{00}}_\\text{imp}\\ket{11}\\right] \\otimes \\ket{1111}\\\\\n",
    "U^\\dagger_{k_+, k_-} = \\frac{1}{2}\\left[1 + \\eta_{k_- \\uparrow} + \\eta^\\dagger_{k_+ \\uparrow} + \\eta_{k_- \\downarrow} + \\eta^\\dagger_{k_+ \\downarrow}\\right] \\\\\n",
    " \\\\\n",
    "\\eta_{k_+\\beta}^\\dagger = V \\left[\\lambda_2 \\hat n_{d\\overline\\beta} + \\lambda_1 \\left( 1 - \\hat n_{d \\overline \\beta} \\right)  \\right]c^\\dagger_{q\\beta}c_{d\\beta} + \\lambda_3 \\sum_{k} \\left\\{ \\frac{J}{2}\\left( S_d^z \\beta c^\\dagger_{q\\beta}c_{k\\beta} + c^\\dagger_{d \\overline \\beta}c_{d\\beta}c^\\dagger_{q\\beta}c_{k \\overline \\beta}\\right) + \\frac{K}{2}\\left( C^z_d c^\\dagger_{q\\beta}c_{k\\beta} + c^\\dagger_{q\\beta}c^\\dagger_{k \\overline \\beta}c_{d \\overline \\beta}c_{d\\beta} \\right) \\right\\}\\\\\n",
    "\\eta_{k_-\\beta} = V^* \\left[\\lambda_1 \\hat n_{d \\overline \\beta} + \\lambda_2 \\left( 1 - \\hat n_{d \\overline \\beta} \\right)  \\right]c^\\dagger_{d\\beta}c_{q\\beta} + \\lambda_3 \\sum_{k} \\left\\{ \\frac{J}{2}\\left( S_d^z \\beta c^\\dagger_{k\\beta}c_{q\\beta} + c^\\dagger_{d\\beta}c_{d \\overline \\beta}c^\\dagger_{k \\overline \\beta}c_{q\\beta}\\right)+ \\frac{K}{2}\\left( C^z_d c^\\dagger_{k\\beta}c_{q\\beta} + c^\\dagger_{d\\beta}c^\\dagger_{d \\overline \\beta}c_{k \\overline \\beta}c_{q\\beta} \\right) \\right\\} \\\\\n",
    "\\lambda_1 = \\frac{1}{\\omega - \\frac{1}{2}D + \\epsilon_d + \\frac{1}{2}K}, \\lambda_2 = \\frac{1}{\\omega - \\frac{1}{2}D - \\epsilon_d + \\frac{1}{2}J}, \\lambda_3 = \\frac{1}{\\omega - \\frac{1}{2}D + \\frac{1}{4}\\left(J + K\\right)} \n",
    "$$"
   ]
  },
  {
   "cell_type": "code",
   "execution_count": 2,
   "metadata": {
    "colab": {
     "base_uri": "https://localhost:8080/"
    },
    "id": "ItCCBwGHQaEI",
    "outputId": "eaa96e66-673b-4138-e8af-eec927f8061b"
   },
   "outputs": [],
   "source": [
    "# !pip install qutip\n",
    "from qutip import *\n",
    "from math import *\n",
    "import itertools\n",
    "from itertools import product\n",
    "import matplotlib\n",
    "from matplotlib import pyplot as plt\n",
    "\n",
    "import numpy as np\n",
    "\n",
    "font = {'size'   : 17}\n",
    "\n",
    "matplotlib.rc('font', **font)\n",
    "matplotlib.rcParams['text.usetex'] = True\n",
    "plt.rcParams[\"figure.figsize\"]= 6, 4\n",
    "#plt.rcParams['figure.dpi'] = 90\n",
    "matplotlib.rcParams['lines.linewidth'] = 2\n",
    "plt.rcParams['axes.grid'] = True\n",
    "\n",
    "idt = identity(2)\n",
    "n = create(2) * destroy(2)\n",
    "\n",
    "Cdz = 0.5 * (tensor(n, idt) +  tensor(idt, n) - 1)\n",
    "# isospin z component\n",
    "\n",
    " "
   ]
  },
  {
   "cell_type": "markdown",
   "metadata": {
    "id": "pHX_PmeNQaEL"
   },
   "source": [
    "### Writing the impurity+cloud wavefunction"
   ]
  },
  {
   "cell_type": "code",
   "execution_count": 3,
   "metadata": {
    "id": "EiawBOhmQaEM"
   },
   "outputs": [],
   "source": [
    "def get_cloud(csm, ccm):\n",
    "    up = [0, 1, 0, 1, 1, 0, 0, 1, 0, 1]\n",
    "    down = [1, 0, 1, 0, 0, 1, 1, 0, 1, 0]\n",
    "    two = [0, 0, 0, 0, 1, 1, 0, 0, 0, 0]\n",
    "    zero = [1, 1, 1, 1, 0, 0, 1, 1, 1, 1]\n",
    "    cloudup = csm * tensor([basis(2,i) for i in up])\n",
    "    clouddown = csm * tensor([basis(2,i) for i in down])\n",
    "    cloudtwo = ccm * tensor([basis(2,i) for i in two])\n",
    "    cloudzero = ccm * tensor([basis(2,i) for i in zero])\n",
    "    psi_cloud = cloudup - clouddown + cloudtwo + cloudzero\n",
    "    return psi_cloud    "
   ]
  },
  {
   "cell_type": "markdown",
   "metadata": {
    "id": "UjM4aSqlQaEN"
   },
   "source": [
    "## Creating the unitary\n",
    "\n",
    "$ \\eta^{\\dagger/-} = \\eta_1^{\\dagger/-} + \\eta_2^{\\dagger/-} + \\eta_3^{\\dagger/-}$"
   ]
  },
  {
   "cell_type": "markdown",
   "metadata": {
    "id": "gzP4JMThQaEP"
   },
   "source": [
    "### Create $c^\\dagger_{q\\beta}\\otimes I_{\\overline\\beta}$ or $c_{q\\beta}\\otimes I_{\\overline\\beta}$"
   ]
  },
  {
   "cell_type": "code",
   "execution_count": 4,
   "metadata": {
    "id": "ll0bRi44QaEQ"
   },
   "outputs": [],
   "source": [
    "def cq(beta, conj):\n",
    "    cq_ = create(2) if conj == 1 else destroy(2)\n",
    "    # use c^dagger_q is conj == 1 else c_q\n",
    "\n",
    "    return tensor([cq_, idt]) if beta == 1 else tensor([idt, cq_])\n",
    "    # place cq first if beta == up else place idt first"
   ]
  },
  {
   "cell_type": "markdown",
   "metadata": {
    "id": "AzEvy7_5QaER"
   },
   "source": [
    "### Creating $\\sum_k c_{k\\beta}$"
   ]
  },
  {
   "cell_type": "code",
   "execution_count": 5,
   "metadata": {
    "id": "-tb6q3AaQaES"
   },
   "outputs": [],
   "source": [
    "def sum_k_ck(beta, conj, imp):\n",
    "    # returns \\sum_{k}c_{k\\beta} or its conjugate\n",
    "    \n",
    "    ck = ([create(2), idt] if beta == 1 else [idt, create(2)]) if conj == 1 else ([destroy(2), idt] if beta == 1 else [idt, destroy(2)])\n",
    "    # variable conj is supposed to tell me whether i require \\sum_k c^\\dagger_k or \\sum_k c_k\n",
    "\n",
    "    init = [idt]*2*ins + [imp] + [idt]*2*ins\n",
    "    sum_over_k = 0\n",
    "    for k in list(range(0, 2*ins, 2)) + list(range(2*ins+1, 4*ins+1, 2)):\n",
    "        sum_over_k += tensor(init[:k] + ck + init[k+2:])\n",
    "#     sum_over_k = sum([tensor(init[:2*k] + ck + init[2*k+1:]) for k in range(2*ins)])\n",
    "\n",
    "#     num = 2 * ins\n",
    "#     for i in range(num):\n",
    "#         # outer loop shifts the position of k over all cloud momenta\n",
    "\n",
    "#         cur = 0\n",
    "#         for j in range(num):\n",
    "#             # inner loop creates the string for a particular k\n",
    "\n",
    "#             if i != j: # if not the particular k, fill with idt\n",
    "#                 cur = tensor(cur, idt, idt) if cur !=0 else tensor(idt, idt)\n",
    "#             elif beta == 1: \n",
    "#                 # otherwise, check if spin is up or down, up goes first, down goes second\n",
    "#                 cur = tensor(cur, ck, idt) if cur !=0 else tensor(ck, idt)\n",
    "#             else: \n",
    "#                 cur = tensor(cur, idt, ck) if cur !=0 else tensor(idt, ck)\n",
    "#         sum = cur if sum == 0 else sum + cur \n",
    "#     return sum\n",
    "    return sum_over_k"
   ]
  },
  {
   "cell_type": "markdown",
   "metadata": {
    "id": "bwkQ6TfTQaEV"
   },
   "source": [
    "### Creating first part of $\\eta$\n",
    "\n",
    "$$\n",
    "V \\left[\\lambda_2 \\hat n_{d\\overline\\beta} + \\lambda_1 \\left( 1 - \\hat n_{d \\overline \\beta} \\right)  \\right]c^\\dagger_{q\\beta}c_{d\\beta}\n",
    "$$\n",
    "or\n",
    "$$\n",
    "V^* \\left[\\lambda_1 \\hat n_{d \\overline \\beta} + \\lambda_2 \\left( 1 - \\hat n_{d \\overline \\beta} \\right)  \\right]c^\\dagger_{d\\beta}c_{q\\beta}\n",
    "$$"
   ]
  },
  {
   "cell_type": "code",
   "execution_count": 6,
   "metadata": {
    "id": "f0npIVqIQaEX"
   },
   "outputs": [],
   "source": [
    "def eta1(beta, conj, args):\n",
    "    c1, c2, c3, V, J, K = args\n",
    "    \n",
    "    c_q = cq(beta, conj)\n",
    "    # gets either c^\\dagger_{q\\beta}\\otimes identity(q\\ol\\beta), or c_{q\\beta}iden(q\\ol\\beta), depending on conj=\\pm 1\n",
    "\n",
    "    betaSdz = beta * 0.5 * (tensor(n, idt) - tensor(idt, n))\n",
    "    # gets \\beta S_d^z\n",
    "\n",
    "    cimp = create(2) if conj == -1 else destroy(2)\n",
    "    # impurity beta operator will be c_{d\\beta} if conj = 1 else c^\\dagger_{d\\beta}\n",
    "    \n",
    "    imp_part = [cimp, c2 * n + c1 * (1-n)] if beta == 1 else [c2 * n + c1 * (1-n), cimp]\n",
    "    # the full impurity part will be cimp \\otimes idt(2) if beta is up, else idt(2) \\otimes cimp,\n",
    "    # because up part comes first\n",
    "\n",
    "    cloud_imp_part = tensor([idt]*2*ins + imp_part + [idt]*2*ins)\n",
    "    # cloud electrons do not participate in this part of eta, hence just identities. \n",
    "    # (ins) is number of k states on one side of FS, *2 for both sides, another *2 for spin \n",
    "\n",
    "    if conj == 1:\n",
    "        return V * tensor(c_q, cloud_imp_part, identity(2), identity(2))\n",
    "    else:\n",
    "        return V * tensor(identity(2), identity(2), cloud_imp_part, c_q)\n",
    "    # if conj == 1 (if we are creating eta^dagger), then q is above the FS and eta_1 will be \n",
    "    # c^\\dagger_q \\otimes imp_part \\otimes cloud_part, otherwise it will be imp_part \\otimes cloud_part \\otimes c_q,\n",
    "    # because q will be below the FS"
   ]
  },
  {
   "cell_type": "markdown",
   "metadata": {
    "id": "3ozmH-O8QaEZ"
   },
   "source": [
    "### Creating second part of $\\eta$\n",
    "\n",
    "$$\n",
    "\\lambda_3 \\sum_{k} \\frac{J}{2}c^\\dagger_{q\\beta}\\left( S_d^z \\beta c_{k\\beta} + c^\\dagger_{d \\overline \\beta}c_{d\\beta}c_{k \\overline \\beta}\\right), \\text{ conj} == 1\n",
    "$$\n",
    "or\n",
    "$$\n",
    "\\lambda_3 \\sum_{k} \\frac{J}{2}\\left( S_d^z \\beta c^\\dagger_{k\\beta} + c^\\dagger_{d\\beta}c_{d \\overline \\beta}c^\\dagger_{k \\overline \\beta}\\right)c_{q\\beta}, \\text{ conj} == -1\n",
    "$$\n",
    "The impurity part can be written as\n",
    "$$\n",
    "\\text{imp-part} = \\begin{cases} c^\\dagger_{d\\uparrow}c_{d \\downarrow}, \\text{ if }\\beta \\neq \\text{conj} \\\\ -c_{d\\uparrow}c^\\dagger_{d \\downarrow}, \\text{ if }\\beta == \\text{conj} \\end{cases}\n",
    "$$\n",
    "Cloud part is $\\sum_k c_{k\\beta}(conj)$"
   ]
  },
  {
   "cell_type": "code",
   "execution_count": 7,
   "metadata": {
    "id": "kORcckGQQaEa"
   },
   "outputs": [],
   "source": [
    "def eta2(beta, conj, args):\n",
    "    c1, c2, c3, V, J, K = args\n",
    "    \n",
    "    betaSdz = beta * 0.5 * (tensor(n, idt) - tensor(idt, n))\n",
    "    # gets \\beta S_d^z\n",
    "        \n",
    "    c_q = cq(beta, conj)\n",
    "    # gets either c^\\dagger_{q\\beta}\\otimes identity(q\\ol\\beta), or c_{q\\beta}iden(q\\ol\\beta), depending on conj=\\pm 1\n",
    "\n",
    "    imp_part = -tensor(destroy(2), create(2)) if conj == beta else tensor(create(2), destroy(2))\n",
    "    \n",
    "    k_beta_1 = sum_k_ck(beta, -conj, betaSdz)\n",
    "    k_beta_bar_2 = sum_k_ck(-beta, -conj, imp_part)\n",
    "\n",
    "    if conj == 1:\n",
    "        return (c3 / 2) * J * (tensor(c_q, k_beta_1, identity(2), identity(2)) + tensor(c_q, k_beta_bar_2, identity(2), identity(2)))\n",
    "    else:\n",
    "        return (c3 / 2) * J * (tensor(identity(2), identity(2), k_beta_1.dag(), c_q) + tensor(identity(2), identity(2), k_beta_bar_2.dag(), c_q))"
   ]
  },
  {
   "cell_type": "markdown",
   "metadata": {
    "id": "F8G8ZrDuQaEb"
   },
   "source": [
    "### Creating third part of $\\eta$\n",
    "\n",
    "$$\n",
    "\\lambda_3 \\sum_{k} \\frac{K}{2}\\left( C^z_d c^\\dagger_{q\\beta}c_{k\\beta} + c^\\dagger_{q\\beta}c^\\dagger_{k \\overline \\beta}c_{d \\overline \\beta}c_{d\\beta} \\right)\n",
    "$$\n",
    "or\n",
    "$$\n",
    "\\lambda_3 \\sum_{k} \\frac{K}{2}\\left( C^z_d c^\\dagger_{k\\beta}c_{q\\beta} + c^\\dagger_{d\\beta}c^\\dagger_{d \\overline \\beta}c_{k \\overline \\beta}c_{q\\beta} \\right)\n",
    "$$\n",
    "Impurity part is\n",
    "$$\n",
    "\\text{imp-part} = \\begin{cases}-c_{d \\uparrow}c_{d \\downarrow}, \\beta = \\text{conj} = 1 \\\\\n",
    "c_{d \\uparrow}c_{d \\downarrow}, \\beta = -1, \\text{conj} = 1 \\\\\n",
    "c^\\dagger_{d \\uparrow}c^\\dagger_{d \\downarrow}, \\beta = 1, \\text{conj} = -1 \\\\\n",
    "-c^\\dagger_{d \\uparrow}c^\\dagger_{d \\downarrow}, \\beta = \\text{conj} = -1 \\end{cases} = -(\\beta \\times \\text{conj}) * (c_{d \\uparrow}c_{d \\downarrow})(conj)\n",
    "$$\n",
    "The cloud parts are\n",
    "$$\n",
    "\\sum_k(\\beta, -conj) \\text{ and }\\sum_k(-\\beta, conj)\n",
    "$$"
   ]
  },
  {
   "cell_type": "code",
   "execution_count": 8,
   "metadata": {
    "id": "DdqLFfQ9QaEd"
   },
   "outputs": [],
   "source": [
    "def eta3(beta, conj, args):\n",
    "    c1, c2, c3, V, J, K = args\n",
    "               \n",
    "    c_q = cq(beta, conj)\n",
    "    # gets either c^\\dagger_{q\\beta}\\otimes identity(q\\ol\\beta), or c_{q\\beta}iden(q\\ol\\beta), depending on conj=\\pm 1\n",
    "\n",
    "    imp_part = -beta*conj*(tensor(destroy(2), destroy(2)) if conj == 1 else tensor(create(2), create(2)))\n",
    "    \n",
    "    k_beta_1 = sum_k_ck(beta, -conj, Cdz)\n",
    "    k_beta_bar_2 = sum_k_ck(-beta, conj, imp_part)\n",
    "\n",
    "    if conj == 1:\n",
    "        return (c3 / 2) * K * (tensor(c_q, k_beta_1, identity(2), identity(2)) + tensor(c_q, k_beta_bar_2, identity(2), identity(2)))\n",
    "    else:\n",
    "        return (c3 / 2) * K * (tensor(identity(2), identity(2), k_beta_1.dag(), c_q) + tensor(identity(2), identity(2), k_beta_bar_2.dag(), c_q))"
   ]
  },
  {
   "cell_type": "code",
   "execution_count": 9,
   "metadata": {
    "id": "p-eYRPsQQaEe"
   },
   "outputs": [],
   "source": [
    "def rev_one_step(psi, out, ins, args=[1]*4):\n",
    "\n",
    "    Udag = 1/2\n",
    "    Upsi = psi/2\n",
    "    for conj, beta in product([1, -1], [1, -1]):   \n",
    "        # conj = 1 means eta dagger (q is above FS), conj = -1 means eta (q is below)\n",
    "\n",
    "        iom1 = 2*(out - 1) if conj == 1 else 2 * out\n",
    "        iom2 = 2*(out - 1) if conj == -1 else 2 * out\n",
    "        # iom1 == k states above the FS that are unchanged b4 & after this reverse RG step.\n",
    "        # If conj == 1, that means I am working with a q that's empty, so iom1 will lose 2 states (q up, q down).\n",
    "        # iom2 will lose two states if the electron being re-entangled is below FS, that is if conj == -1\n",
    "        U, J, K, V, D, w = args\n",
    "        \n",
    "        c1 = 1/(w - D/2 - U/2 + K/2)\n",
    "        c2 = 1/(w - D/2 + U/2 + J/2)\n",
    "        c3 = 1/(w - D/2 + K/4 + J/4)\n",
    "\n",
    "        args = (c1, c2, c3, V, J, K)\n",
    "        \n",
    "        eta_1 = eta1(beta, conj, args)\n",
    "        eta_2 = eta2(beta, conj, args)\n",
    "        eta_3 = eta3(beta, conj, args)\n",
    "#         print (eta_1)\n",
    "#         print (eta_2)\n",
    "#         print (eta_3)\n",
    "#         print (Upsi)\n",
    "        c = 1\n",
    "        for eta_beta_conj in [eta_1, eta_2, eta_3]:\n",
    "#             print (eta_beta_conj)\n",
    "#             print (psi)\n",
    "#             print (c)\n",
    "            c += 1\n",
    "#             for k in range(iom1):\n",
    "#                 eta_beta_conj = tensor(idt, eta_beta_conj)\n",
    "#             for k in range(iom2):\n",
    "#                 eta_beta_conj = tensor(eta_beta_conj, idt)\n",
    "            Upsi += 0.5 * eta_beta_conj(psi)\n",
    "#         eta_beta_conj = eta_3 + eta_2 + eta_1\n",
    "        # get eta for this value of beta and conf.\n",
    "        # For example, this is the eta for k=+1 and beta = up\n",
    "        \n",
    "        # add the iom identity parts\n",
    "#         for k in range(iom1):\n",
    "#             eta_beta_conj = tensor(idt, eta_beta_conj)\n",
    "#         for k in range(iom2):\n",
    "#             eta_beta_conj = tensor(eta_beta_conj, idt)\n",
    "#         # Udag += eta_beta_conj/2\n",
    "#         Upsi += 0.5 * eta_beta_conj(psi)\n",
    "        eta_beta_conj =  eta_1 = eta_2 = _eta_3 = []\n",
    "    \n",
    "    \n",
    "    # return Udag(psi)\n",
    "    return Upsi\n",
    "\n"
   ]
  },
  {
   "cell_type": "markdown",
   "metadata": {
    "id": "W88JSzy5QaEg"
   },
   "source": [
    "## Measures of Entanglement\n",
    "\n",
    "### Mutual Information\n",
    "\n",
    "$\n",
    "\\rho = \\text{density matrix} = \\ket{\\Psi}\\bra{\\Psi}\n",
    "$\n",
    ",\n",
    "$\n",
    "I(A:B) = S_A + S_B - S_{AB}\n",
    "$\n",
    ",\n",
    "$\n",
    "S_X = \\text{Tr}_X \\left[{\\rho}\\right]\n",
    "$"
   ]
  },
  {
   "cell_type": "code",
   "execution_count": 10,
   "metadata": {
    "id": "26Pii8aB2VVf"
   },
   "outputs": [],
   "source": [
    "def ptrace(psi, indices):\n",
    "    N = 4*(out + ins) + 2\n",
    "    bit = [basis(2, 0), basis(2, 1)]\n",
    "    # gen = [bit]*(a) + [[0]] + [bit]*(N-a-1)\n",
    "    gen = [bit] * N\n",
    "    for i in indices:\n",
    "        gen[i] = [identity(2)]\n",
    "    dm_a = 0\n",
    "    for term in tqdm(itertools.product(*gen), total=2**(N-2)):\n",
    "        base = tensor(*term)\n",
    "        bra = psi.dag() * base\n",
    "        dm_a += bra.dag() * bra\n",
    "    return dm_a\n"
   ]
  },
  {
   "cell_type": "code",
   "execution_count": 11,
   "metadata": {
    "id": "F1nt-q0bQaEh"
   },
   "outputs": [],
   "source": [
    "def mut_inf(psi, a, b):\n",
    "\n",
    "    \n",
    "    # rho = psi * psi.dag()\n",
    "    # rho_ab = rho.ptrace([a, b])\n",
    "    # rho_a = rho.ptrace(a)\n",
    "    # rho_b = rho.ptrace(b)\n",
    "\n",
    "    N = 4*(out + ins) + 2\n",
    "    bit = [basis(2, 0), basis(2, 1)]\n",
    "    gen = [[identity(2)]] * N\n",
    "    i = 0\n",
    "    while gen.count(bit) < N - 14:\n",
    "        if i not in (a,b):\n",
    "            gen[i] = bit\n",
    "            a = a - 1 if i < a else a\n",
    "            b = b - 1 if i < b else b\n",
    "        i += 1\n",
    "\n",
    "    tot = gen.count(bit)\n",
    "    if tot > 0:\n",
    "        rho_ab = 0\n",
    "        for term in tqdm(itertools.product(*gen), total=2**tot):\n",
    "            # base = tensor(*term)\n",
    "            bra = psi.dag() * tensor(*term)\n",
    "            rho_ab += bra.dag() * bra\n",
    "#         a = 0 if a <= N - 14 - 1 else a - (N - 14)\n",
    "#         b = 0 if b <= N - 14 - 1 else b - (N - 14)\n",
    "    else:\n",
    "        rho_ab = psi * psi.dag()\n",
    "    \n",
    "    rho_ab = rho_ab.ptrace([a,b])\n",
    "    rho_a = rho_ab.ptrace(int(a>b))\n",
    "    rho_b = rho_ab.ptrace(int(a<b))\n",
    "\n",
    "\n",
    "    S_a = entropy_vn(rho_a) \n",
    "    S_b = entropy_vn(rho_b)\n",
    "    S_ab = entropy_vn(rho_ab)\n",
    "\n",
    "    return S_a + S_b - S_ab"
   ]
  },
  {
   "cell_type": "code",
   "execution_count": 12,
   "metadata": {},
   "outputs": [],
   "source": [
    "def corr(psi):\n",
    "    spin = tensor([idt]*(2*out + 2*ins - 2) + [n, idt, idt, idt, idt, n] + [idt]*(2*out + 2*ins - 2))\n",
    "    # n_{1 down} n_{-1 up}\n",
    "\n",
    "    charge = tensor([idt]*(2*out + 2*ins - 1) + [n, idt, idt, idt, n] + [idt]*(2*out + 2*ins - 2))\n",
    "    # n_{1 dn} n_{-1 dn}\n",
    "\n",
    "    off_diag_1 = tensor([idt]*(2*out + 2*ins - 1) + [create(2), idt, idt, destroy(2)] + [idt]*(2*out + 2*ins - 1))\n",
    "    # c^\\dagger_{1 down}c_{-1 up}\n",
    "\n",
    "    off_diag_2 = tensor([idt]*(2*out + 2*ins - 2) + [create(2), idt, idt, idt, destroy(2)] + [idt]*(2*out + 2*ins - 1))\n",
    "    # c^\\dagger_{1 up}c_{-1 up}\n",
    "    \n",
    "    off_diag_3 = tensor([idt]*(2*out + 2*ins - 2) + [create(2), create(2), idt, idt, destroy(2), destroy(2)] + [idt]*(2*out + 2*ins - 2))\n",
    "    # c^\\dagger_{1 up} c^\\dagger_1 dn} c_{-1 up} c_{-1 dn}\n",
    "\n",
    "    off_diag_4 = tensor([idt]*(2*out + 2*ins -4) + [create(2), idt, idt, create(2), idt, idt, idt, destroy(2), destroy(2), idt] + [idt]*(2*out + 2*ins - 4))\n",
    "    # c^\\dagger_{2 up} c^\\dagger_{1 dn} c_{-1 dn} c_{-2 up}\n",
    "    \n",
    "    c1 = np.real(psi.dag() * spin * psi)[0][0]\n",
    "    c2 = np.real(psi.dag() * charge * psi)[0][0]\n",
    "    c3 = np.real(psi.dag() * off_diag_1 * psi)[0][0]\n",
    "    c4 = np.real(psi.dag() * off_diag_2 * psi)[0][0]\n",
    "    c5 = np.real(psi.dag() * off_diag_3 * psi)[0][0]\n",
    "    return [c5]\n",
    "#     return np.real(psi.dag() * off_diag_4 * psi)[0][0]"
   ]
  },
  {
   "cell_type": "code",
   "execution_count": 13,
   "metadata": {
    "colab": {
     "base_uri": "https://localhost:8080/"
    },
    "id": "v0md4tIeQaEi",
    "outputId": "c3233b65-5c6b-4ce5-bf06-548822512831"
   },
   "outputs": [
    {
     "name": "stdout",
     "output_type": "stream",
     "text": [
      "I1: 0.6931471805599452\n",
      "[0.0]\n",
      "1\n",
      "[0.0]\n",
      "I1: 0.27179785070460216\n",
      "2\n"
     ]
    },
    {
     "name": "stderr",
     "output_type": "stream",
     "text": [
      "100%|██████████| 16/16 [00:00<00:00, 151.51it/s]"
     ]
    },
    {
     "name": "stdout",
     "output_type": "stream",
     "text": [
      "[1.744461065268176e-05]\n"
     ]
    },
    {
     "name": "stderr",
     "output_type": "stream",
     "text": [
      "\n"
     ]
    },
    {
     "name": "stdout",
     "output_type": "stream",
     "text": [
      "I1: 0.001029900437564013\n",
      "3\n"
     ]
    },
    {
     "name": "stderr",
     "output_type": "stream",
     "text": [
      "  1%|          | 2/256 [00:00<00:19, 12.88it/s]"
     ]
    },
    {
     "name": "stdout",
     "output_type": "stream",
     "text": [
      "[0.0007067038954538607]\n"
     ]
    },
    {
     "name": "stderr",
     "output_type": "stream",
     "text": [
      "100%|██████████| 256/256 [00:24<00:00, 10.51it/s]\n"
     ]
    },
    {
     "name": "stdout",
     "output_type": "stream",
     "text": [
      "I1: 0.4859797270235502\n"
     ]
    },
    {
     "ename": "KeyboardInterrupt",
     "evalue": "",
     "output_type": "error",
     "traceback": [
      "\u001b[0;31m---------------------------------------------------------------------------\u001b[0m",
      "\u001b[0;31mKeyboardInterrupt\u001b[0m                         Traceback (most recent call last)",
      "\u001b[0;32m<ipython-input-13-8a0841b0c234>\u001b[0m in \u001b[0;36m<module>\u001b[0;34m\u001b[0m\n\u001b[1;32m    108\u001b[0m \u001b[0;31m#     print (\"I3:\",I3[-1])\u001b[0m\u001b[0;34m\u001b[0m\u001b[0;34m\u001b[0m\u001b[0;34m\u001b[0m\u001b[0m\n\u001b[1;32m    109\u001b[0m     \u001b[0mout\u001b[0m \u001b[0;34m+=\u001b[0m \u001b[0;36m1\u001b[0m\u001b[0;34m\u001b[0m\u001b[0;34m\u001b[0m\u001b[0m\n\u001b[0;32m--> 110\u001b[0;31m     \u001b[0mpsi\u001b[0m \u001b[0;34m=\u001b[0m \u001b[0mtensor\u001b[0m\u001b[0;34m(\u001b[0m\u001b[0mbasis\u001b[0m\u001b[0;34m(\u001b[0m\u001b[0;36m2\u001b[0m\u001b[0;34m,\u001b[0m \u001b[0;36m0\u001b[0m\u001b[0;34m)\u001b[0m\u001b[0;34m,\u001b[0m \u001b[0mbasis\u001b[0m\u001b[0;34m(\u001b[0m\u001b[0;36m2\u001b[0m\u001b[0;34m,\u001b[0m \u001b[0;36m0\u001b[0m\u001b[0;34m)\u001b[0m\u001b[0;34m,\u001b[0m \u001b[0mpsi\u001b[0m\u001b[0;34m,\u001b[0m \u001b[0mbasis\u001b[0m\u001b[0;34m(\u001b[0m\u001b[0;36m2\u001b[0m\u001b[0;34m,\u001b[0m \u001b[0;36m1\u001b[0m\u001b[0;34m)\u001b[0m\u001b[0;34m,\u001b[0m \u001b[0mbasis\u001b[0m\u001b[0;34m(\u001b[0m\u001b[0;36m2\u001b[0m\u001b[0;34m,\u001b[0m \u001b[0;36m1\u001b[0m\u001b[0;34m)\u001b[0m\u001b[0;34m)\u001b[0m\u001b[0;34m\u001b[0m\u001b[0;34m\u001b[0m\u001b[0m\n\u001b[0m\u001b[1;32m    111\u001b[0m \u001b[0;34m\u001b[0m\u001b[0m\n\u001b[1;32m    112\u001b[0m \u001b[0mprint\u001b[0m \u001b[0;34m(\u001b[0m\u001b[0;34m\"c1 = \"\u001b[0m\u001b[0;34m,\u001b[0m \u001b[0;34m[\u001b[0m\u001b[0mc\u001b[0m\u001b[0;34m[\u001b[0m\u001b[0;36m0\u001b[0m\u001b[0;34m]\u001b[0m \u001b[0;32mfor\u001b[0m \u001b[0mc\u001b[0m \u001b[0;32min\u001b[0m \u001b[0mcorrs\u001b[0m\u001b[0;34m]\u001b[0m\u001b[0;34m)\u001b[0m\u001b[0;34m\u001b[0m\u001b[0;34m\u001b[0m\u001b[0m\n",
      "\u001b[0;32m~/miniconda3/lib/python3.9/site-packages/qutip/tensor.py\u001b[0m in \u001b[0;36mtensor\u001b[0;34m(*args)\u001b[0m\n\u001b[1;32m    114\u001b[0m             \u001b[0mout\u001b[0m\u001b[0;34m.\u001b[0m\u001b[0mdims\u001b[0m \u001b[0;34m=\u001b[0m \u001b[0mq\u001b[0m\u001b[0;34m.\u001b[0m\u001b[0mdims\u001b[0m\u001b[0;34m\u001b[0m\u001b[0;34m\u001b[0m\u001b[0m\n\u001b[1;32m    115\u001b[0m         \u001b[0;32melse\u001b[0m\u001b[0;34m:\u001b[0m\u001b[0;34m\u001b[0m\u001b[0;34m\u001b[0m\u001b[0m\n\u001b[0;32m--> 116\u001b[0;31m             \u001b[0mout\u001b[0m\u001b[0;34m.\u001b[0m\u001b[0mdata\u001b[0m  \u001b[0;34m=\u001b[0m \u001b[0mzcsr_kron\u001b[0m\u001b[0;34m(\u001b[0m\u001b[0mout\u001b[0m\u001b[0;34m.\u001b[0m\u001b[0mdata\u001b[0m\u001b[0;34m,\u001b[0m \u001b[0mq\u001b[0m\u001b[0;34m.\u001b[0m\u001b[0mdata\u001b[0m\u001b[0;34m)\u001b[0m\u001b[0;34m\u001b[0m\u001b[0;34m\u001b[0m\u001b[0m\n\u001b[0m\u001b[1;32m    117\u001b[0m \u001b[0;34m\u001b[0m\u001b[0m\n\u001b[1;32m    118\u001b[0m             \u001b[0mout\u001b[0m\u001b[0;34m.\u001b[0m\u001b[0mdims\u001b[0m \u001b[0;34m=\u001b[0m \u001b[0;34m[\u001b[0m\u001b[0mout\u001b[0m\u001b[0;34m.\u001b[0m\u001b[0mdims\u001b[0m\u001b[0;34m[\u001b[0m\u001b[0;36m0\u001b[0m\u001b[0;34m]\u001b[0m \u001b[0;34m+\u001b[0m \u001b[0mq\u001b[0m\u001b[0;34m.\u001b[0m\u001b[0mdims\u001b[0m\u001b[0;34m[\u001b[0m\u001b[0;36m0\u001b[0m\u001b[0;34m]\u001b[0m\u001b[0;34m,\u001b[0m \u001b[0mout\u001b[0m\u001b[0;34m.\u001b[0m\u001b[0mdims\u001b[0m\u001b[0;34m[\u001b[0m\u001b[0;36m1\u001b[0m\u001b[0;34m]\u001b[0m \u001b[0;34m+\u001b[0m \u001b[0mq\u001b[0m\u001b[0;34m.\u001b[0m\u001b[0mdims\u001b[0m\u001b[0;34m[\u001b[0m\u001b[0;36m1\u001b[0m\u001b[0;34m]\u001b[0m\u001b[0;34m]\u001b[0m\u001b[0;34m\u001b[0m\u001b[0;34m\u001b[0m\u001b[0m\n",
      "\u001b[0;32m~/miniconda3/lib/python3.9/site-packages/qutip/cy/spmath.pyx\u001b[0m in \u001b[0;36mqutip.cy.spmath.zcsr_kron\u001b[0;34m()\u001b[0m\n",
      "\u001b[0;32m~/miniconda3/lib/python3.9/site-packages/qutip/cy/sparse_routines.pxi\u001b[0m in \u001b[0;36mqutip.cy.spmath.CSR_to_scipy\u001b[0;34m()\u001b[0m\n",
      "\u001b[0;32m~/miniconda3/lib/python3.9/site-packages/qutip/fastsparse.py\u001b[0m in \u001b[0;36m__init__\u001b[0;34m(self, args, shape, dtype, copy)\u001b[0m\n\u001b[1;32m     45\u001b[0m     \u001b[0mchecks\u001b[0m \u001b[0mthat\u001b[0m \u001b[0mare\u001b[0m \u001b[0mrun\u001b[0m \u001b[0meverytime\u001b[0m \u001b[0ma\u001b[0m \u001b[0mnew\u001b[0m \u001b[0mcsr_matrix\u001b[0m \u001b[0;32mis\u001b[0m \u001b[0mcreated\u001b[0m\u001b[0;34m.\u001b[0m\u001b[0;34m\u001b[0m\u001b[0;34m\u001b[0m\u001b[0m\n\u001b[1;32m     46\u001b[0m     \"\"\"\n\u001b[0;32m---> 47\u001b[0;31m     \u001b[0;32mdef\u001b[0m \u001b[0m__init__\u001b[0m\u001b[0;34m(\u001b[0m\u001b[0mself\u001b[0m\u001b[0;34m,\u001b[0m \u001b[0margs\u001b[0m\u001b[0;34m=\u001b[0m\u001b[0;32mNone\u001b[0m\u001b[0;34m,\u001b[0m \u001b[0mshape\u001b[0m\u001b[0;34m=\u001b[0m\u001b[0;32mNone\u001b[0m\u001b[0;34m,\u001b[0m \u001b[0mdtype\u001b[0m\u001b[0;34m=\u001b[0m\u001b[0;32mNone\u001b[0m\u001b[0;34m,\u001b[0m \u001b[0mcopy\u001b[0m\u001b[0;34m=\u001b[0m\u001b[0;32mFalse\u001b[0m\u001b[0;34m)\u001b[0m\u001b[0;34m:\u001b[0m\u001b[0;34m\u001b[0m\u001b[0;34m\u001b[0m\u001b[0m\n\u001b[0m\u001b[1;32m     48\u001b[0m         \u001b[0;32mif\u001b[0m \u001b[0margs\u001b[0m \u001b[0;32mis\u001b[0m \u001b[0;32mNone\u001b[0m\u001b[0;34m:\u001b[0m \u001b[0;31m#Build zero matrix\u001b[0m\u001b[0;34m\u001b[0m\u001b[0;34m\u001b[0m\u001b[0m\n\u001b[1;32m     49\u001b[0m             \u001b[0;32mif\u001b[0m \u001b[0mshape\u001b[0m \u001b[0;32mis\u001b[0m \u001b[0;32mNone\u001b[0m\u001b[0;34m:\u001b[0m\u001b[0;34m\u001b[0m\u001b[0;34m\u001b[0m\u001b[0m\n",
      "\u001b[0;31mKeyboardInterrupt\u001b[0m: "
     ]
    }
   ],
   "source": [
    "from tqdm import tqdm\n",
    "from multiprocessing import Pool\n",
    "\n",
    "out = 1\n",
    "# no of momenta states outside cloud, on each side of FS\n",
    "\n",
    "ins = 2\n",
    "# no of momenta states inside cloud, on each side of FS\n",
    "\n",
    "lastup = 0\n",
    "# position of the last electron to get recoupled\n",
    "\n",
    "imp_up = 2 * (ins + out) \n",
    "imp_down = imp_up + 1\n",
    "\n",
    "cloud1up = imp_up - 2\n",
    "cloud2up = imp_up + 2\n",
    "# positions of the innermost cloud electrons\n",
    "\n",
    "U =  [0, 0, 0, 0, 0.06463131507519854, 0.3832892301648289, 0.81035398312819, 0.9653022499322309, 1]\n",
    "J =  [0.4671215288625387, 0.1610471732413586, 0.09292714506948394, 0.06570355318275373, 0.0515190332875324, 0.04292128519020507, 0.0371787477122733, 0.03307692307692307, 0.03]\n",
    "K =  [0.4671215288625387, 0.1610471732413586, 0.09292714506948394, 0.06570355318275373, 0.0515190332875324, 0.04292128519020507, 0.0371787477122733, 0.03307692307692307, 0.03]\n",
    "V =  [3.31196040544157, 0.8600731642469739, 0.40964223204281247, 0.2526301643610369, 0.17618732751694133, 0.12356402131908403, 0.06672654361752858, 0.032185777536821183, 0.02]\n",
    "count =  [2, 3, 4, 5, 6, 7, 8, 9, 10]\n",
    "D =  [0.2, 0.30000000000000004, 0.4, 0.5, 0.6000000000000001, 0.7000000000000001, 0.8, 0.9, 1.0]\n",
    "\n",
    "# U =  [0, 0, 0, 0, 0, 0.15443547142118325, 0.4284025748088535, 0.7238155813919722, 0.9243349753694581, 1]\n",
    "# J =  [0.5792634811262696, 0.15908249187876236, 0.08657117090403557, 0.059950720028602564, 0.0466357045034351, 0.03874698140457943, 0.03355045132998477, 0.029871359402525343, 0.027127659574468086, 0.025]\n",
    "# K =  [0.5792634811262696, 0.15908249187876236, 0.08657117090403557, 0.059950720028602564, 0.0466357045034351, 0.03874698140457943, 0.03355045132998477, 0.029871359402525343, 0.027127659574468086, 0.025]\n",
    "# V =  [5.152443163391795, 1.0383978834302283, 0.460203598446732, 0.2762229814272488, 0.19339732891982997, 0.14364018712125642, 0.10646788150153877, 0.07294896345429519, 0.04484540404569752, 0.03]\n",
    "# count =  [1, 2, 3, 4, 5, 6, 7, 8, 9, 10]\n",
    "# D =  [0.1, 0.2, 0.30000000000000004, 0.4, 0.5, 0.6000000000000001, 0.7000000000000001, 0.8, 0.9, 1.0]\n",
    "\n",
    "# U =  [0, 0, 0, 0, 0, 0, 0]\n",
    "# J =  [0.5128726541813035, 0.1606594043154692, 0.08862531123150413, 0.06138771193372224, 0.04766867263207614, 0.039530931947193634, 0.0341734072071829]\n",
    "# K =  [0.09150686666305895, 0.053072039238490104, 0.03907153845597961, 0.031774307153752915, 0.02728090624614909, 0.02422490287150528, 0.0220037390387535]\n",
    "# V =  [10.767114719567038, 2.3080547486832006, 1.0225707893585192, 0.6104648829511753, 0.42534322115922385, 0.32458595047248884, 0.262603179414493]\n",
    "# count =  [1, 2, 3, 4, 5, 6, 7]\n",
    "# D =  [0.1, 0.2, 0.30000000000000004, 0.4, 0.5, 0.6000000000000001, 0.7000000000000001]\n",
    "\n",
    "# U =  [0, 0, 0, 0.003448469352309788, 0.07775250550159248, 0.11030540137762082, 0.12180623478147388]\n",
    "# J =  [1.0832695374882038, 0.292668040131517, 0.1482873153880519, 0.09710889334855943, 0.07244084983389469, 0.058277319465870905, 0.04918694230488765]\n",
    "# K =  [0.05582103687314392, 0.040603708016671215, 0.03331581375175548, 0.028810931204841704, 0.025704936543618512, 0.023417921266091456, 0.02165581771748589]\n",
    "# V =  [6.421702216225822, 1.090613489598555, 0.429756189547722, 0.23713922596594525, 0.1533853914162526, 0.11008967996812234, 0.08481346397569607]\n",
    "# count =  [1, 2, 3, 4, 5, 6, 7]\n",
    "# D =  [0.1, 0.2, 0.3, 0.4, 0.5, 0.6, 0.7]\n",
    "\n",
    "# U =  [0, 0, 0, 0, 0, 0, 0.4335012857596981]\n",
    "# J =  [41.65137072728905, 7.421985528256318, 3.0764876297977835, 1.7632993761561673, 1.1893810568831, 0.8818478505045518, 0.6946383568070326]\n",
    "# K =  [0.11014854383139917, 0.10349303670420885, 0.09899373972501821, 0.09516847820969296, 0.09175302137185129, 0.08864547352971129, 0.08578996582056872]\n",
    "# V =  [698.7912946938286, 56.013376355019446, 16.783149824539997, 7.729738695156247, 4.4289952117072, 2.887478398100373, 2.033462108444947]\n",
    "# count =  [1, 2, 3, 4, 5, 6, 7]\n",
    "# D =  [0.1, 0.2, 0.3, 0.4, 0.5, 0.6, 0.7]\n",
    "\n",
    "# U =  [0, 0, 0, 2.903671720911781, 3.227607510088996, 3.011643496163671]\n",
    "# J =  [41.65137072728905, 7.421985528256318, 3.0764876297977835, 1.7632993761561673, 1.1893810568831, 0.8818478505045518]\n",
    "# K =  [0.11014854383139917, 0.10349303670420885, 0.09899373972501821, 0.09516847820969296, 0.09175302137185129, 0.08864547352971129]\n",
    "# V =  [698.7912946938286, 56.013376355019446, 16.783149824539997, 7.729738695156247, 4.4289952117072, 2.887478398100373]\n",
    "# count =  [1, 2, 3, 4, 5, 6]\n",
    "# D =  [0.1, 0.2, 0.3, 0.4, 0.5, 0.6]\n",
    "\n",
    "\n",
    "w = -0.1\n",
    "j = J[0] * count[0]\n",
    "k = K[0] * count[0]\n",
    "v = V[0] * sqrt(count[0])\n",
    "gamma = (3*j + k + 2*U[0])/(8*v)\n",
    "csm = sqrt(sqrt(gamma**2 + 4) + gamma)\n",
    "ccm = -sqrt(sqrt(gamma**2 + 4) - gamma)\n",
    "\n",
    "iom_above = tensor([basis(2,0)] * 2 * out)\n",
    "iom_below = tensor([basis(2,1)] * 2 * out)\n",
    "psi = tensor(iom_above, get_cloud(csm, ccm), iom_below).unit()\n",
    "\n",
    "I1 = [mut_inf(psi, cloud1up, cloud2up)]\n",
    "print (\"I1:\",I1[-1])\n",
    "# mutual information between two electrons inside the cloud, of same spin\n",
    "\n",
    "# I2 = [mut_inf(psi, lastup, cloud1up)]\n",
    "# print (I2[-1])\n",
    "# mutual information between the innermost and outermost electron\n",
    "\n",
    "# I3 = [mut_inf(psi, imp_up, cloud1up)]\n",
    "# print (\"I3:\",I3[-1])\n",
    "# mutual information between the innermost up and impurity up electrons\n",
    "\n",
    "corrs = [corr(psi)]\n",
    "print (corrs[-1])\n",
    "# corrs = []\n",
    "for i in range(1, 5):\n",
    "    print (i)\n",
    "    args = (U[i+1], J[i+1], K[i+1], V[i+1], D[i+1], w)\n",
    "    psi = rev_one_step(psi, out, ins, args).unit()\n",
    "    out -= 1\n",
    "    ins += 1\n",
    "    imp_up = 2 * (ins + out) \n",
    "    imp_down = imp_up + 1\n",
    "    cloud1up = imp_up - 2\n",
    "    cloud2up = imp_up + 2\n",
    "    if i > 0:\n",
    "        corrs.append(corr(psi))\n",
    "        print (corrs[-1])\n",
    "    I1.append(mut_inf(psi, cloud1up, cloud2up))\n",
    "    print (\"I1:\",I1[-1])\n",
    "#     I2.append(mut_inf(psi, lastup, cloud1up))\n",
    "#     print (I3[-1])\n",
    "#     I3.append(mut_inf(psi, imp_up, cloud1up))\n",
    "#     print (\"I3:\",I3[-1])\n",
    "    out += 1\n",
    "    psi = tensor(basis(2, 0), basis(2, 0), psi, basis(2, 1), basis(2, 1))\n",
    "\n",
    "print (\"c1 = \", [c[0] for c in corrs])\n",
    "print (\"c2 = \", [c[1] for c in corrs])\n",
    "print (\"c3 = \", [c[2] for c in corrs])\n",
    "print (\"c4 = \", [c[3] for c in corrs])\n",
    "# I1 = mut_inf(psi, cloud1up, cloud2up)\n",
    "# print (I1)\n",
    "# print (I3)\n",
    "# print (I3)"
   ]
  },
  {
   "cell_type": "code",
   "execution_count": null,
   "metadata": {
    "id": "y4DN_HPJQaEl"
   },
   "outputs": [],
   "source": [
    "# !apt install texlive-fonts-recommended texlive-fonts-extra cm-super dvipng\n",
    "\n",
    "I1 = [0.6931471805599453, 0.5027994750013625, 0.44287078352334314, 0.3864835472164138, 0.2602715743804396, 0.26413910332887736]\n",
    "\n",
    "'''corrs = [\n",
    "0.2472037332913408, 0.5, 0.0, 0.0]\n",
    "0\n",
    "[0.001838969723091228, 0.2033775756011223, -2.395501581717002e-06, 8.418052584954193e-06]\n",
    "1\n",
    "[0.0031849587068003785, 0.16324321724051036, -1.0674324405191036e-06, 0.00019846561793481634]\n",
    "2\n",
    "[0.0006373262042843603, 0.1471330701462955, 7.597450009337662e-06, 0.006446976306860242]\n",
    "3\n",
    "[0.0026778433681072557, 0.1318862466660754, 0.00014663777870428625, 0.07707810516699248]\n",
    "4\n",
    "[0.0013237558398355744, 0.13305295934205227, 0.0008753705255651228, 0.0786918237687373]]\n",
    "]'''\n",
    "\n",
    "# I3 = [0.6931471805599453, 0.1038192509827075, 0.004080831503544768, 0.02812412852145668, 0.07890958543772397, ]\n",
    "\n",
    "# I1 = [round(element, 10) for element in I1]\n",
    "# I2 = [round(element, 10) for element in I2]\n",
    "# I3 = [round(element, 10) for element in I3]\n",
    "\n",
    "c1 =  [0.2472037332913408, 0.001838969723091228, 0.0031849587068003785, 0.0006373262042843603, 0.0026778433681072557, 0.0013237558398355744]\n",
    "c2 =  [0.5, 0.2033775756011223, 0.16324321724051036, 0.1471330701462955, 0.1318862466660754, 0.13305295934205227]\n",
    "c3 =  [0.0, -2.395501581717002e-06, -1.0674324405191036e-06, 7.597450009337662e-06, 0.00014663777870428625, 0.0008753705255651228]\n",
    "c4 =  [0.0, 8.418052584954193e-06, 0.00019846561793481634, 0.006446976306860242, 0.07707810516699248, 0.0786918237687373]\n",
    "c5 = [0.0, 0.0, 1.8994337469080465e-10, 2.1383517007372293e-07, 1.011924450973683e-06, 6.520980617901891e-06]\n",
    "\n",
    "fig, ax = plt.subplots(3,2)\n",
    "fig.set_size_inches(11,9)\n",
    "ax[0][0].plot(I1)\n",
    "ax[0][0].set_ylabel(r\"I:cloud-cloud\")\n",
    "ax[0][1].plot(np.abs(c1))\n",
    "ax[0][1].set_ylabel(r\"$<n_{1 \\downarrow} n_ {-1 \\uparrow}>$\")\n",
    "ax[1][0].plot(np.abs(c2))\n",
    "ax[1][0].set_ylabel(r\"$<n_{1 \\downarrow} n_ {-1 \\downarrow}>$\")\n",
    "ax[1][1].plot(np.abs(c3))\n",
    "ax[1][1].set_ylabel(r\"$<c^\\dagger_{1 \\downarrow} c{-1 \\uparrow}>$\")\n",
    "ax[2][0].plot(np.abs(c4))\n",
    "ax[2][0].set_ylabel(r\"$<c^\\dagger_{1 \\uparrow} c{-1 \\uparrow}>$\")\n",
    "ax[2][1].plot(np.abs(c5))\n",
    "ax[2][1].set_ylabel(r\"$<c^\\dagger_{1 \\uparrow} c^\\dagger_{1 \\downarrow} c_{-1 \\uparrow} c{-1 \\downarrow}>$\")\n",
    "plt.tight_layout()\n",
    "plt.show()\n",
    "# plt.plot(I2)\n",
    "# # plt.yscale(\"log\")\n",
    "# plt.xlabel(r\"RG step\")\n",
    "# plt.ylabel(r\"$I({}:{})$\".format(lastup, cloud1up))\n",
    "# plt.show()\n",
    "# plt.plot(I3)\n",
    "# # plt.yscale(\"log\")\n",
    "# plt.xlabel(r\"RG step\")\n",
    "# plt.ylabel(r\"$I({}:{})$\".format(imp_up, cloud1up))\n",
    "# plt.show()"
   ]
  },
  {
   "cell_type": "code",
   "execution_count": null,
   "metadata": {},
   "outputs": [],
   "source": []
  }
 ],
 "metadata": {
  "colab": {
   "collapsed_sections": [],
   "name": "reverse.ipynb",
   "provenance": []
  },
  "kernelspec": {
   "display_name": "Python 3",
   "language": "python",
   "name": "python3"
  },
  "language_info": {
   "codemirror_mode": {
    "name": "ipython",
    "version": 3
   },
   "file_extension": ".py",
   "mimetype": "text/x-python",
   "name": "python",
   "nbconvert_exporter": "python",
   "pygments_lexer": "ipython3",
   "version": "3.9.1"
  }
 },
 "nbformat": 4,
 "nbformat_minor": 4
}
