{
 "metadata": {
  "language_info": {
   "codemirror_mode": {
    "name": "ipython",
    "version": 3
   },
   "file_extension": ".py",
   "mimetype": "text/x-python",
   "name": "python",
   "nbconvert_exporter": "python",
   "pygments_lexer": "ipython3",
   "version": "3.9.4-final"
  },
  "orig_nbformat": 2,
  "kernelspec": {
   "name": "python3",
   "display_name": "Python 3"
  }
 },
 "nbformat": 4,
 "nbformat_minor": 2,
 "cells": [
  {
   "cell_type": "code",
   "execution_count": 1,
   "metadata": {},
   "outputs": [],
   "source": [
    "from qutip import *"
   ]
  },
  {
   "cell_type": "code",
   "execution_count": 11,
   "metadata": {},
   "outputs": [],
   "source": [
    "def get_state(n):\n",
    "    d_up = tensor(basis(2,1), basis(2,0))\n",
    "    d_dn = tensor(basis(2,0), basis(2,1))\n",
    "    k_up = 0\n",
    "    k_dn = 0\n",
    "    for k in range(n):\n",
    "        base = [basis(2,0)]*2*n\n",
    "        base[2*k] = basis(2,1)\n",
    "        k_up += tensor(base)\n",
    "    for k in range(n):\n",
    "        base = [basis(2,0)]*2*n\n",
    "        base[2*k+1] = basis(2,1)\n",
    "        k_dn += tensor(base)\n",
    "    return (tensor(d_up, k_dn) - tensor(d_dn, k_up)).unit()"
   ]
  },
  {
   "cell_type": "code",
   "execution_count": 12,
   "metadata": {},
   "outputs": [],
   "source": [
    "def mutI(psi):\n",
    "    rho = psi * psi.dag()\n",
    "    rho_12 = rho.ptrace([2,4])\n",
    "    rho_1 = rho_12.ptrace(0)\n",
    "    rho_2 = rho_12.ptrace(1)\n",
    "    return  entropy_vn(rho_1) + entropy_vn(rho_1) - entropy_vn(rho_12)"
   ]
  },
  {
   "cell_type": "code",
   "execution_count": 17,
   "metadata": {},
   "outputs": [
    {
     "output_type": "stream",
     "name": "stdout",
     "text": [
      "2\n",
      "3\n",
      "4\n",
      "5\n",
      "6\n",
      "7\n"
     ]
    }
   ],
   "source": [
    "I = []\n",
    "for n in range(2,6):\n",
    "    print (n)\n",
    "    I.append(mutI(get_state(n)))\n",
    "plt.plot(I)\n",
    "plt.show()"
   ]
  },
  {
   "cell_type": "code",
   "execution_count": null,
   "metadata": {},
   "outputs": [],
   "source": []
  }
 ]
}