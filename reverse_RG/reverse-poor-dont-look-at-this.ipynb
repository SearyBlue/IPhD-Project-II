{
  "nbformat": 4,
  "nbformat_minor": 0,
  "metadata": {
    "colab": {
      "name": "reverse-poor.ipynb",
      "provenance": [],
      "collapsed_sections": []
    },
    "kernelspec": {
      "display_name": "Python 3",
      "language": "python",
      "name": "python3"
    },
    "language_info": {
      "codemirror_mode": {
        "name": "ipython",
        "version": 3
      },
      "file_extension": ".py",
      "mimetype": "text/x-python",
      "name": "python",
      "nbconvert_exporter": "python",
      "pygments_lexer": "ipython3",
      "version": "3.9.4-final"
    }
  },
  "cells": [
    {
      "cell_type": "markdown",
      "metadata": {
        "id": "9BCqFAZWQaD9"
      },
      "source": [
        "### IR Wavefunction\n",
        "\n",
        "$$\n",
        "\\newcommand{\\ket}[1]{\\vert{#1}\\rangle}\\\\\n",
        "\\newcommand{\\bra}[1]{\\langle{#1}\\vert}\\\\\n",
        "\\ket{\\text{IR}} = \\ket{\\hat n_{k_{-2}} = \\hat n_{k_{-3}} = 2} \\otimes \\frac{1}{2}\\bigg[ \\ket{\\uparrow^d}\\frac{1}{\\sqrt 2}\\left(\\ket{k_1 \\downarrow} + \\ket{k_{-1} \\downarrow}\\right) - \\ket{\\downarrow^d}\\frac{1}{\\sqrt 2}\\left(\\ket{k_1 \\uparrow} + \\ket{k_{-1} \\uparrow}\\right) + \\ket{2^d}\\ket{0} - \\ket{0^d}\\ket{k_1 \\uparrow, k_1 \\downarrow,k_{-1} \\uparrow,k_{-1} \\downarrow}\\bigg] \\otimes  \\ket{\\hat n_{k_{2}} = \\hat n_{k_{3} } = 0} = \\ket{1111}\\ket{0000}\\\\\n",
        "=\\frac{1}{2}\\ket{0000} \\otimes \\left[\\ket{10}\\ket{0101} - \\ket{01}\\ket{1010} + \\ket{11}\\ket{0000} - \\ket{00}\\ket{1111}\\right] \\otimes \\ket{1111}\\\\\n",
        "U^\\dagger_{k_+, k_-} = \\frac{1}{2}\\left[1 + \\eta_{k_- \\uparrow} + \\eta^\\dagger_{k_+ \\uparrow} + \\eta_{k_- \\downarrow} + \\eta^\\dagger_{k_+ \\downarrow}\\right] \\\\\n",
        " \\\\\n",
        "\\eta_{k_+\\beta}^\\dagger = V \\left[\\lambda_2 \\hat n_{d\\overline\\beta} + \\lambda_1 \\left( 1 - \\hat n_{d \\overline \\beta} \\right)  \\right]c^\\dagger_{q\\beta}c_{d\\beta} + \\lambda_3 \\sum_{k} \\left\\{ \\frac{J}{2}\\left( S_d^z \\beta c^\\dagger_{q\\beta}c_{k\\beta} + c^\\dagger_{d \\overline \\beta}c_{d\\beta}c^\\dagger_{q\\beta}c_{k \\overline \\beta}\\right) + \\frac{K}{2}\\left( C^z_d c^\\dagger_{q\\beta}c_{k\\beta} + c^\\dagger_{q\\beta}c^\\dagger_{k \\overline \\beta}c_{d \\overline \\beta}c_{d\\beta} \\right) \\right\\}\\\\\n",
        "\\eta_{k_-\\beta} = V^* \\left[\\lambda_1 \\hat n_{d \\overline \\beta} + \\lambda_2 \\left( 1 - \\hat n_{d \\overline \\beta} \\right)  \\right]c^\\dagger_{d\\beta}c_{q\\beta} + \\lambda_3 \\sum_{k} \\left\\{ \\frac{J}{2}\\left( S_d^z \\beta c^\\dagger_{k\\beta}c_{q\\beta} + c^\\dagger_{d\\beta}c_{d \\overline \\beta}c^\\dagger_{k \\overline \\beta}c_{q\\beta}\\right)+ \\frac{K}{2}\\left( C^z_d c^\\dagger_{k\\beta}c_{q\\beta} + c^\\dagger_{d\\beta}c^\\dagger_{d \\overline \\beta}c_{k \\overline \\beta}c_{q\\beta} \\right) \\right\\} \\\\\n",
        "\\lambda_1 = \\frac{1}{\\omega - \\frac{1}{2}D + \\epsilon_d + \\frac{1}{2}K}, \\lambda_2 = \\frac{1}{\\omega - \\frac{1}{2}D - \\epsilon_d + \\frac{1}{2}J}, \\lambda_3 = \\frac{1}{\\omega - \\frac{1}{2}D + \\frac{1}{4}\\left(J + K\\right)} \n",
        "$$"
      ]
    },
    {
      "cell_type": "code",
      "metadata": {
        "colab": {
          "base_uri": "https://localhost:8080/"
        },
        "id": "ItCCBwGHQaEI",
        "outputId": "d9009752-d4c5-413c-a2df-96ad919f8024"
      },
      "source": [
        "!pip install qutip\n",
        "from qutip import *\n",
        "from math import *\n",
        "import itertools\n",
        "from itertools import product\n",
        "import matplotlib\n",
        "from matplotlib import pyplot as plt\n",
        "from multiprocessing import Pool\n",
        "\n",
        "import numpy as np\n",
        "\n",
        "font = {'size'   : 17}\n",
        "\n",
        "matplotlib.rc('font', **font)\n",
        "# matplotlib.rcParams['text.usetex'] = True\n",
        "plt.rcParams[\"figure.figsize\"]= 5, 5\n",
        "#plt.rcParams['figure.dpi'] = 90\n",
        "matplotlib.rcParams['lines.linewidth'] = 2\n",
        "plt.rcParams['axes.grid'] = True\n",
        "\n",
        "idt = identity(2)\n",
        "n = create(2) * destroy(2)\n",
        "\n",
        "def act_one(bit, op):\n",
        "    return op * bit\n",
        "\n",
        "def act(states, ops_arr):\n",
        "    outp_states = []\n",
        "    for i in range(len(states)):\n",
        "        data = zip(states[i], ops_arr)\n",
        "        outp_states += [Pool(processes=10).starmap(act_one, data)]\n",
        "        if create(2) * basis(2,1) in outp_states[-1]:\n",
        "            outp_states.pop()\n",
        "    return outp_states\n",
        "\n",
        "# def act(states, ops_arr):\n",
        "#     outp_states = []\n",
        "#     for i in range(len(states)):\n",
        "#         outp_states += [[op * bit for bit, op in zip(states[i], ops_arr)]]\n",
        "#         if create(2) * basis(2,1) in outp_states[-1]:\n",
        "#             outp_states.pop()\n",
        "#     return outp_states\n",
        "\n",
        "\n",
        " "
      ],
      "execution_count": 13,
      "outputs": [
        {
          "output_type": "stream",
          "text": [
            "Requirement already satisfied: qutip in /usr/local/lib/python3.7/dist-packages (4.6.1)\n",
            "Requirement already satisfied: scipy>=1.0 in /usr/local/lib/python3.7/dist-packages (from qutip) (1.4.1)\n",
            "Requirement already satisfied: numpy>=1.16.6 in /usr/local/lib/python3.7/dist-packages (from qutip) (1.19.5)\n",
            "Requirement already satisfied: packaging in /usr/local/lib/python3.7/dist-packages (from qutip) (20.9)\n",
            "Requirement already satisfied: pyparsing>=2.0.2 in /usr/local/lib/python3.7/dist-packages (from packaging->qutip) (2.4.7)\n"
          ],
          "name": "stdout"
        }
      ]
    },
    {
      "cell_type": "markdown",
      "metadata": {
        "id": "pHX_PmeNQaEL"
      },
      "source": [
        "### Writing the impurity+cloud wavefunction"
      ]
    },
    {
      "cell_type": "code",
      "metadata": {
        "id": "EiawBOhmQaEM"
      },
      "source": [
        "def get_ir_wf(configs, coeffs):\n",
        "    for i, config in enumerate(configs):\n",
        "        configs[i] = [basis(2,0) if bit == 0 else basis(2,1) for bit in config]\n",
        "        configs[i][0] *= coeffs.pop(0)\n",
        "    return configs\n",
        "\n",
        "\n",
        "# psi = get_ir_wf([[0,1], [1,1]], [2, 3])\n",
        "# print (psi)\n",
        "# # # ops = np.empty(2, dtype=Qobj)\n",
        "# ops = [[create(2), destroy(2)]]\n",
        "# print (act(psi, ops))"
      ],
      "execution_count": 2,
      "outputs": []
    },
    {
      "cell_type": "markdown",
      "metadata": {
        "id": "UjM4aSqlQaEN"
      },
      "source": [
        "## Creating the unitary\n",
        "\n",
        "$ \\eta^{\\dagger/-} = \\eta_1^{\\dagger/-} + \\eta_2^{\\dagger/-} + \\eta_3^{\\dagger/-}$"
      ]
    },
    {
      "cell_type": "markdown",
      "metadata": {
        "id": "AzEvy7_5QaER"
      },
      "source": [
        "### Creating $\\sum_k c_{k\\beta}$"
      ]
    },
    {
      "cell_type": "code",
      "metadata": {
        "id": "-tb6q3AaQaES"
      },
      "source": [
        "def sum_k_ck(beta, conj, k):\n",
        "    # returns \\sum_{k}c_{k\\beta}, the conjugate is obtained by applying .dag() on this return value\n",
        "\n",
        "    if conj == 1:\n",
        "        ck = [create(2), idt] if beta == 1 else [idt, create(2)]\n",
        "    else:\n",
        "        ck = [destroy(2), idt] if beta == 1 else [idt, destroy(2)]\n",
        "    # variable conj is supposed to tell me whether i require \\sum_k c^\\dagger_k or \\sum_k c_k\n",
        "\n",
        "    return [idt, idt]*k + ck + [idt, idt]*(2 * ins - k - 1)"
      ],
      "execution_count": 3,
      "outputs": []
    },
    {
      "cell_type": "markdown",
      "metadata": {
        "id": "bwkQ6TfTQaEV"
      },
      "source": [
        "### Creating first part of $\\eta$\n",
        "\n",
        "$$\n",
        "V \\left[\\lambda_2 \\hat n_{d\\overline\\beta} + \\lambda_1 \\left( 1 - \\hat n_{d \\overline \\beta} \\right)  \\right]c^\\dagger_{q\\beta}c_{d\\beta}\n",
        "$$\n",
        "or\n",
        "$$\n",
        "V^* \\left[\\lambda_1 \\hat n_{d \\overline \\beta} + \\lambda_2 \\left( 1 - \\hat n_{d \\overline \\beta} \\right)  \\right]c^\\dagger_{d\\beta}c_{q\\beta}\n",
        "$$"
      ]
    },
    {
      "cell_type": "code",
      "metadata": {
        "id": "f0npIVqIQaEX"
      },
      "source": [
        "def get_eta_1(beta, conj, args):\n",
        "    c1, c2, c3, V, J, K = args\n",
        "    \n",
        "    if beta == 1:\n",
        "        c_q = [create(2), idt] if conj == 1 else [destroy(2), idt]\n",
        "    else:\n",
        "        c_q = [idt, create(2)] if conj == 1 else [idt, destroy(2)]\n",
        "    # gets either c^\\dagger_{q\\beta}\\otimes identity(q\\ol\\beta), or c_{q\\beta}iden(q\\ol\\beta), depending on conj=\\pm 1\n",
        "\n",
        "    \n",
        "    cimp = create(2) if conj == -1 else destroy(2)\n",
        "    # impurity beta operator will be c_{d\\beta} if conj = 1 else c^\\dagger_{d\\beta}\n",
        "    \n",
        "    \n",
        "    imp_part = [cimp, c2 * n + c1 * (1-n)] if beta == 1 else [c2 * n + c1 * (1-n), cimp]\n",
        "    # the full impurity part will be cimp \\otimes idt(2) if beta is up, else idt(2) \\otimes cimp,\n",
        "    # because up part comes first\n",
        "\n",
        "    \n",
        "    cloud_part = [idt]*2*2*ins\n",
        "    cloud_part[0] *= V\n",
        "    # cloud electrons do not participate in this part of eta, hence just identities. \n",
        "    # (ins) is number of k states on one side of FS, *2 for both sides, another *2 for spin \n",
        "    \n",
        "    \n",
        "    return c_q + imp_part + cloud_part if conj == 1 else imp_part + cloud_part + c_q\n",
        "    # if conj == 1 (if we are creating eta^dagger), then q is above the FS and eta_1 will be \n",
        "    # c^\\dagger_q \\otimes imp_part \\otimes cloud_part, otherwise it will be imp_part \\otimes cloud_part \\otimes c_q,\n",
        "    # because q will be below the FS"
      ],
      "execution_count": 4,
      "outputs": []
    },
    {
      "cell_type": "markdown",
      "metadata": {
        "id": "3ozmH-O8QaEZ"
      },
      "source": [
        "### Creating second part of $\\eta$\n",
        "\n",
        "$$\n",
        "\\lambda_3 \\sum_{k} \\frac{J}{2}c^\\dagger_{q\\beta}\\left( S_d^z \\beta c_{k\\beta} + c^\\dagger_{d \\overline \\beta}c_{d\\beta}c_{k \\overline \\beta}\\right), \\text{ conj} == 1\n",
        "$$\n",
        "or\n",
        "$$\n",
        "\\lambda_3 \\sum_{k} \\frac{J}{2}\\left( S_d^z \\beta c^\\dagger_{k\\beta} + c^\\dagger_{d\\beta}c_{d \\overline \\beta}c^\\dagger_{k \\overline \\beta}\\right)c_{q\\beta}, \\text{ conj} == -1\n",
        "$$\n",
        "The impurity part can be written as\n",
        "$$\n",
        "\\text{imp-part} = \\begin{cases} c^\\dagger_{d\\uparrow}c_{d \\downarrow}, \\text{ if }\\beta \\neq \\text{conj} \\\\ -c_{d\\uparrow}c^\\dagger_{d \\downarrow}, \\text{ if }\\beta == \\text{conj} \\end{cases}\n",
        "$$\n",
        "Cloud part is $\\sum_k c_{k\\beta}(conj)$"
      ]
    },
    {
      "cell_type": "code",
      "metadata": {
        "id": "kORcckGQQaEa"
      },
      "source": [
        "def get_eta_2(index, beta, conj, k, args):\n",
        "    c1, c2, c3, V, J, K = args\n",
        "    \n",
        "    imp_parts = ([n, beta * 0.5 * idt], \\\n",
        "                [- beta * 0.5 * idt, n], \\\n",
        "                [-(c3 / 2) * J * destroy(2), create(2)] if conj == beta else [(c3 / 2) * J * create(2), destroy(2)] \\\n",
        "                )\n",
        "    imp_part = imp_parts[index]\n",
        "        \n",
        "    if beta == 1:\n",
        "        c_q = [create(2), idt] if conj == 1 else [destroy(2), idt]\n",
        "    else:\n",
        "        c_q = [idt, create(2)] if conj == 1 else [idt, destroy(2)]\n",
        "    # gets either c^\\dagger_{q\\beta}\\otimes identity(q\\ol\\beta), or c_{q\\beta}iden(q\\ol\\beta), depending on conj=\\pm 1\n",
        "\n",
        "    k_beta = sum_k_ck(beta, conj, k)\n",
        "\n",
        "    return c_q + imp_part + k_beta if conj == 1 else imp_part + k_beta + c_q\n",
        "\n",
        "# def get_eta_21(beta, conj, k, args):\n",
        "#     c1, c2, c3, V, J, K = args\n",
        "    \n",
        "#     betaSdz = [- beta * 0.5 * idt, n]\n",
        "#     # gets \\beta S_d^z\n",
        "        \n",
        "#     if beta == 1:\n",
        "#         c_q = [create(2), idt] if conj == 1 else [destroy(2), idt]\n",
        "#     else:\n",
        "#         c_q = [idt, create(2)] if conj == 1 else [idt, destroy(2)]\n",
        "#     # gets either c^\\dagger_{q\\beta}\\otimes identity(q\\ol\\beta), or c_{q\\beta}iden(q\\ol\\beta), depending on conj=\\pm 1\n",
        "\n",
        "#     k_beta = sum_k_ck(beta, conj, k)\n",
        "\n",
        "#     return c_q + betaSdz + k_beta if conj == 1 else betaSdz + k_beta + c_q\n",
        "\n",
        "# def get_eta_22(beta, conj, k, args):\n",
        "#     c1, c2, c3, V, J, K = args\n",
        "    \n",
        "#     if beta == 1:\n",
        "#         c_q = [create(2), idt] if conj == 1 else [destroy(2), idt]\n",
        "#     else:\n",
        "#         c_q = [idt, create(2)] if conj == 1 else [idt, destroy(2)]\n",
        "#     # gets either c^\\dagger_{q\\beta}\\otimes identity(q\\ol\\beta), or c_{q\\beta}iden(q\\ol\\beta), depending on conj=\\pm 1\n",
        "\n",
        "#     imp_part = [-(c3 / 2) * J * destroy(2), create(2)] if conj == beta else [(c3 / 2) * J * create(2), destroy(2)]\n",
        "    \n",
        "#     k_beta_bar = sum_k_ck(-beta, conj, k)\n",
        "\n",
        "#     return c_q + imp_part + k_beta_bar if conj == 1 else imp_part + k_beta_bar + c_q"
      ],
      "execution_count": 5,
      "outputs": []
    },
    {
      "cell_type": "markdown",
      "metadata": {
        "id": "F8G8ZrDuQaEb"
      },
      "source": [
        "### Creating third part of $\\eta$\n",
        "\n",
        "$$\n",
        "\\lambda_3 \\sum_{k} \\frac{K}{2}\\left( C^z_d c^\\dagger_{q\\beta}c_{k\\beta} + c^\\dagger_{q\\beta}c^\\dagger_{k \\overline \\beta}c_{d \\overline \\beta}c_{d\\beta} \\right)\n",
        "$$\n",
        "or\n",
        "$$\n",
        "\\lambda_3 \\sum_{k} \\frac{K}{2}\\left( C^z_d c^\\dagger_{k\\beta}c_{q\\beta} + c^\\dagger_{d\\beta}c^\\dagger_{d \\overline \\beta}c_{k \\overline \\beta}c_{q\\beta} \\right)\n",
        "$$\n",
        "Impurity part is\n",
        "$$\n",
        "\\text{imp-part} = \\begin{cases}-c_{d \\uparrow}c_{d \\downarrow}, \\beta = \\text{conj} = 1 \\\\\n",
        "c_{d \\uparrow}c_{d \\downarrow}, \\beta = -1, \\text{conj} = 1 \\\\\n",
        "c^\\dagger_{d \\uparrow}c^\\dagger_{d \\downarrow}, \\beta = 1, \\text{conj} = -1 \\\\\n",
        "-c^\\dagger_{d \\uparrow}c^\\dagger_{d \\downarrow}, \\beta = \\text{conj} = -1 \\end{cases} = -(\\beta \\times \\text{conj}) * (c_{d \\uparrow}c_{d \\downarrow})(conj)\n",
        "$$\n",
        "The cloud parts are\n",
        "$$\n",
        "\\sum_k(\\beta, -conj) \\text{ and }\\sum_k(-\\beta, conj)\n",
        "$$"
      ]
    },
    {
      "cell_type": "code",
      "metadata": {
        "id": "DdqLFfQ9QaEd"
      },
      "source": [
        "def get_eta_3(index, beta, conj, k, args):\n",
        "    c1, c2, c3, V, J, K = args\n",
        "    \n",
        "    imp_parts = (   [n, 0.5 * idt], \\\n",
        "                    [0.5 * idt, n], \\\n",
        "                    [-0.5 * idt, idt], \\\n",
        "                    [-beta * conj * destroy(2), destroy(2)] if conj == 1 else [-beta * conj * create(2), create(2)] \\\n",
        "                )\n",
        "    imp_part = imp_parts[index]\n",
        "\n",
        "    cloud_part = sum_k_ck(beta, -conj, k) if index < 3 else sum_k_ck(-beta, conj, k)\n",
        "\n",
        "    if beta == 1:\n",
        "        c_q = [create(2), (c3 / 2) * K * idt] if conj == 1 else [destroy(2), (c3 / 2) * K * idt]\n",
        "    else:\n",
        "        c_q = [(c3 / 2) * K * idt, create(2)] if conj == 1 else [(c3 / 2) * K * idt, destroy(2)]\n",
        "\n",
        "    return c_q + imp_part + cloud_part if conj == 1 else imp_part + cloud_part + c_q\n",
        "\n",
        "# def eta31(beta, conj, k, args):\n",
        "#     c1, c2, c3, V, J, K = args\n",
        "         \n",
        "#     imp_part = [0.5 * idt, n]\n",
        "#     # isospin z component\n",
        "               \n",
        "#     if beta == 1:\n",
        "#         c_q = [create(2), (c3 / 2) * K * idt] if conj == 1 else [destroy(2), (c3 / 2) * K * idt]\n",
        "#     else:\n",
        "#         c_q = [(c3 / 2) * K * idt, create(2)] if conj == 1 else [(c3 / 2) * K * idt, destroy(2)]\n",
        "#     # gets either c^\\dagger_{q\\beta}\\otimes identity(q\\ol\\beta), or c_{q\\beta}iden(q\\ol\\beta), depending on conj=\\pm 1\n",
        "\n",
        "#     k_beta = sum_k_ck(beta, -conj)\n",
        "\n",
        "#     return c_q + imp_part + k_beta if conj == 1 else imp_part + k_beta + c_q\n",
        "\n",
        "# def eta32(beta, conj, k, args):\n",
        "#     c1, c2, c3, V, J, K = args\n",
        "         \n",
        "#     imp_part = [-0.5 * idt, idt]\n",
        "#     # isospin z component\n",
        "               \n",
        "#     if beta == 1:\n",
        "#         c_q = [create(2), (c3 / 2) * K * idt] if conj == 1 else [destroy(2), (c3 / 2) * K * idt]\n",
        "#     else:\n",
        "#         c_q = [(c3 / 2) * K * idt, create(2)] if conj == 1 else [(c3 / 2) * K * idt, destroy(2)]\n",
        "#     # gets either c^\\dagger_{q\\beta}\\otimes identity(q\\ol\\beta), or c_{q\\beta}iden(q\\ol\\beta), depending on conj=\\pm 1\n",
        "\n",
        "#     k_beta = sum_k_ck(beta, -conj)\n",
        "\n",
        "#     return c_q + imp_part + k_beta if conj == 1 else imp_part + k_beta + c_q\n",
        "\n",
        "# def eta33(beta, conj, k, args):\n",
        "#     c1, c2, c3, V, J, K = args\n",
        "         \n",
        "#     if beta == 1:\n",
        "#         c_q = [create(2), (c3 / 2) * K * idt] if conj == 1 else [destroy(2), (c3 / 2) * K * idt]\n",
        "#     else:\n",
        "#         c_q = [(c3 / 2) * K * idt, create(2)] if conj == 1 else [(c3 / 2) * K * idt, destroy(2)]\n",
        "#     # gets either c^\\dagger_{q\\beta}\\otimes identity(q\\ol\\beta), or c_{q\\beta}iden(q\\ol\\beta), depending on conj=\\pm 1\n",
        "\n",
        "#     imp_part = [-beta * conj * destroy(2), destroy(2)] if conj == 1 else [create(2), create(2)]\n",
        "    \n",
        "#     # k_beta = sum_k_ck(beta, -conj)\n",
        "#     k_beta_bar = sum_k_ck(-beta, conj)\n",
        "\n",
        "#     return c_q + imp_part + k_beta_bar if conj == 1 else imp_part + k_beta_bar + c_q"
      ],
      "execution_count": 6,
      "outputs": []
    },
    {
      "cell_type": "markdown",
      "metadata": {
        "id": "uPpLPh8Zk6Qy"
      },
      "source": [
        "Each eta(beta, conj) will have the following 5 parts -\n",
        "- $c^\\dagger_{d\\beta} \\hat n_{d-\\beta}$ part\n",
        "- $\\hat n_{d \\uparrow}$ part of $S_d^z$, $2 \\times ins$ times\n",
        "- $-\\hat n_{d \\downarrow}$ part of $S_d^z$, $2 \\times ins$ times\n",
        "- $S^\\pm_d$ part, $2 \\times ins$ times\n",
        "- $\\hat n_{d \\uparrow}$ part of $C_d^z$, $2 \\times ins$ times\n",
        "- $\\hat n_{d \\downarrow}$ part of $C_d^z$, $2 \\times ins$ times\n",
        "- $1$ part of $C_d^z$, $2 \\times ins$ times\n",
        "- $C^\\pm_d$ part, $2 \\times ins$ times\n",
        "\n"
      ]
    },
    {
      "cell_type": "code",
      "metadata": {
        "id": "p-eYRPsQQaEe"
      },
      "source": [
        "def rev_one_step(psi, out, ins, args=[1]*4):\n",
        "    \n",
        "\n",
        "    N = 4 * (ins + out) + 2\n",
        "    eta_cur = [identity(2)]*N\n",
        "    eta_cur[0] *= 0.5\n",
        "    Psi_new = act(psi, eta_cur)\n",
        "    for conj, beta in product([1, -1], [1, -1]):    \n",
        "        # conj = 1 means eta dagger (q is above FS), conj = -1 means eta (q is below)\n",
        "\n",
        "        iom1 = 2*(out - 1) if conj == 1 else 2 * out\n",
        "        iom2 = 2*(out - 1) if conj == -1 else 2 * out\n",
        "        # iom1 == k states above the FS that are unchanged b4 & after this reverse RG step.\n",
        "        # If conj == 1, that means I am working with a q that's empty, so iom1 will lose 2 states (q up, q down).\n",
        "        # iom2 will lose two states if the electron being re-entangled is below FS, that is if conj == -1\n",
        "        U, J, K, V, D, w = args\n",
        "        \n",
        "        c1 = 1/(w - D/2 - U/2 + K/2)\n",
        "        c2 = 1/(w - D/2 + U/2 + J/2)\n",
        "        c3 = 1/(w - D/2 + K/4 + J/4)\n",
        "\n",
        "        args = (c1, c2, c3, V, J, K)\n",
        "        \n",
        "        eta_cur = [idt]*iom1 + get_eta_1(beta, conj, args) + [idt]*iom2\n",
        "        eta_cur[0] *= 0.5\n",
        "        Psi_new = act(psi, eta_cur)\n",
        "        for k in tqdm(range(2 * ins)):\n",
        "            for index in range(3):\n",
        "                eta_cur = [idt]*iom1 + get_eta_2(index, beta, conj, k, args) + [idt]*iom2\n",
        "                eta_cur[0] *= 0.5\n",
        "                Psi_new += act(psi, eta_cur)\n",
        "            for index in range(4):\n",
        "                eta_cur = [idt]*iom1 + get_eta_3(index, beta, conj, k, args) + [idt]*iom2\n",
        "                eta_cur[0] *= 0.5\n",
        "                Psi_new += act(psi, eta_cur)\n",
        "        \n",
        "    return Psi_new"
      ],
      "execution_count": 7,
      "outputs": []
    },
    {
      "cell_type": "markdown",
      "metadata": {
        "id": "W88JSzy5QaEg"
      },
      "source": [
        "## Measures of Entanglement\n",
        "\n",
        "### Mutual Information\n",
        "\n",
        "$\n",
        "\\rho = \\text{density matrix} = \\ket{\\Psi}\\bra{\\Psi}\n",
        "$\n",
        ",\n",
        "$\n",
        "I(A:B) = S_A + S_B - S_{AB}\n",
        "$\n",
        ",\n",
        "$\n",
        "S_X = \\text{Tr}_X \\left[{\\rho}\\right]\n",
        "$\n",
        "\n",
        "### \n"
      ]
    },
    {
      "cell_type": "code",
      "metadata": {
        "id": "26Pii8aB2VVf"
      },
      "source": [
        "def ptrace(psi, indices):\n",
        "    N = 4*(out + ins) + 2\n",
        "    bit = [basis(2, 0), basis(2, 1)]\n",
        "    # gen = [bit]*(a) + [[0]] + [bit]*(N-a-1)\n",
        "    gen = [bit] * N\n",
        "    for i in indices:\n",
        "        gen[i] = [identity(2)]\n",
        "    dm_a = 0\n",
        "    for term in tqdm(itertools.product(*gen), total=2**(N-2)):\n",
        "        base = tensor(*term)\n",
        "        bra = psi.dag() * base\n",
        "        dm_a += bra.dag() * bra\n",
        "    return dm_a\n"
      ],
      "execution_count": 8,
      "outputs": []
    },
    {
      "cell_type": "code",
      "metadata": {
        "id": "F1nt-q0bQaEh"
      },
      "source": [
        "def mut_inf(psi, a, b):\n",
        "\n",
        "    \n",
        "    # rho = psi * psi.dag()\n",
        "    # rho_ab = rho.ptrace([a, b])\n",
        "    # rho_a = rho.ptrace(a)\n",
        "    # rho_b = rho.ptrace(b)\n",
        "\n",
        "\n",
        "    N = 4*(out + ins) + 2\n",
        "    bit = [basis(2, 0), basis(2, 1)]\n",
        "    gen = [[identity(2)]] * N\n",
        "    i = 0\n",
        "    while gen.count(bit) < N - 14:\n",
        "        if i not in (a,b):\n",
        "            gen[i] = bit\n",
        "        i += 1\n",
        "\n",
        "    gen[a] = [identity(2)]\n",
        "    gen[b] = [identity(2)]\n",
        "    tot = gen.count(bit)\n",
        "    if tot > 0:\n",
        "        rho_ab = 0\n",
        "        for term in tqdm(itertools.product(*gen), total=2**tot):\n",
        "            base = tensor(*term)\n",
        "            bra = psi.dag() * base\n",
        "            rho_ab += bra.dag() * bra\n",
        "    else:\n",
        "        rho_ab = psi * psi.dag()\n",
        "    \n",
        "    a = 0 if a <= N - 14 - 1 else a - (N - 14)\n",
        "    b = 0 if b <= N - 14 - 1 else b - (N - 14)\n",
        "    \n",
        "    rho_ab = rho_ab.ptrace([a,b])\n",
        "    rho_a = rho_ab.ptrace(int(a>b))\n",
        "    rho_b = rho_ab.ptrace(int(a<b))\n",
        "\n",
        "\n",
        "    S_a = entropy_vn(rho_a) \n",
        "    S_b = entropy_vn(rho_b)\n",
        "    S_ab = entropy_vn(rho_ab)\n",
        "\n",
        "    return S_a + S_b - S_ab"
      ],
      "execution_count": 9,
      "outputs": []
    },
    {
      "cell_type": "code",
      "metadata": {
        "id": "v0md4tIeQaEi",
        "colab": {
          "base_uri": "https://localhost:8080/"
        },
        "outputId": "09ea77e8-3a3c-4f50-caef-e0a1cf5bd51f"
      },
      "source": [
        "from tqdm import tqdm\n",
        "from multiprocessing import Pool\n",
        "\n",
        "out = 6\n",
        "# no of momenta states outside cloud, on each side of FS\n",
        "\n",
        "ins = 1\n",
        "# no of momenta states inside cloud, on each side of FS\n",
        "\n",
        "lastup = 0\n",
        "# position of the last electron to get recoupled\n",
        "\n",
        "imp_up = 2 * out \n",
        "imp_down = imp_up + 1\n",
        "\n",
        "cloud1up = imp_up + 2\n",
        "cloud2up = cloud1up + 2\n",
        "# positions of the innermost cloud electrons\n",
        "\n",
        "U =  [0, 0, 0, 0, 0, 0]\n",
        "J =  [41.65137072728905, 7.421985528256318, 3.0764876297977835, 1.7632993761561673, 1.1893810568831, 0.8818478505045518]\n",
        "K =  [0.11014854383139917, 0.10349303670420885, 0.09899373972501821, 0.09516847820969296, 0.09175302137185129, 0.08864547352971129]\n",
        "V =  [698.7912946938286, 56.013376355019446, 16.783149824539997, 7.729738695156247, 4.4289952117072, 2.887478398100373]\n",
        "\n",
        "count =  [1, 2, 3, 4, 5, 6]\n",
        "D =  [0.1, 0.2, 0.3, 0.4, 0.5, 0.6]\n",
        "\n",
        "w = -D[0]\n",
        "j = J[0] * count[0]\n",
        "k = K[0] * count[0]\n",
        "v = V[0] * sqrt(count[0])\n",
        "gamma = (3*j + k + 2*U[0])/(8*v)\n",
        "csm = sqrt(sqrt(gamma**2 + 4) + gamma)\n",
        "ccm = -sqrt(sqrt(gamma**2 + 4) - gamma)\n",
        "up = [0]*2*out + [1, 0, 0, 1, 0, 1] + [1]*2*out\n",
        "down = [0]*2*out + [0, 1, 1, 0, 1, 0] + [1]*2*out\n",
        "two = [0]*2*out + [1, 1, 0, 0, 0, 0] + [1]*2*out\n",
        "zero = [0]*2*out + [0, 0, 1, 1, 1, 1] + [1]*2*out\n",
        "psi = get_ir_wf([up, down, two, zero], [csm, csm, ccm, ccm])\n",
        "\n",
        "I1 = []\n",
        "# I1 = [mut_inf(psi, cloud1up, cloud2up)]\n",
        "# mutual information between two electrons inside the cloud, of same spin\n",
        "\n",
        "# I2 = [mut_inf(psi, lastup, cloud1up)]\n",
        "# mutual information between the innermost and outermost electron\n",
        "\n",
        "# I3 = [mut_inf(psi, imp_up, cloud1up)]\n",
        "# mutual information between the innermost up and impurity up electrons\n",
        "\n",
        "\n",
        "for i in range(out):\n",
        "    print (i)\n",
        "    args = (U[i+1], J[i+1], K[i+1], V[i+1], D[i+1], w)\n",
        "    psi = rev_one_step(psi, out, ins, args)\n",
        "    print (len(psi))\n",
        "    out -= 1\n",
        "    ins += 1\n",
        "    # I1.append(mut_inf(psi, cloud1up, cloud2up))\n",
        "    # I2.append(mut_inf(psi, lastup, cloud1up))\n",
        "    # I3.append(mut_inf(psi, imp_up, cloud1up))\n",
        "\n",
        "print (I1)\n",
        "# print (I2)\n",
        "# print (I3)"
      ],
      "execution_count": null,
      "outputs": [
        {
          "output_type": "stream",
          "text": [
            "0\n"
          ],
          "name": "stdout"
        },
        {
          "output_type": "stream",
          "text": [
            "100%|██████████| 2/2 [00:14<00:00,  7.40s/it]\n",
            " 50%|█████     | 1/2 [00:18<00:18, 18.99s/it]"
          ],
          "name": "stderr"
        }
      ]
    },
    {
      "cell_type": "code",
      "metadata": {
        "id": "y4DN_HPJQaEl"
      },
      "source": [
        "# !apt install texlive-fonts-recommended texlive-fonts-extra cm-super dvipng\n",
        "\n",
        "\n",
        "# I1_3 = [0.6931471805599453, 0.5500296020684895, 0.42281417884210093, 0.2639816135621449, 0.21568559506477536]\n",
        "\n",
        "# I1 = [round(element, 10) for element in I1]\n",
        "# I2 = [round(element, 10) for element in I2]\n",
        "# I3 = [round(element, 10) for element in I3]\n",
        "\n",
        "# plt.plot(I1)\n",
        "# # plt.yscale(\"log\")\n",
        "# plt.xlabel(r\"RG step\")\n",
        "# plt.ylabel(r\"$I({}:{})$\".format(cloud1up, cloud2up))\n",
        "# plt.show()\n",
        "# plt.plot(I2)\n",
        "# # plt.yscale(\"log\")\n",
        "# plt.xlabel(r\"RG step\")\n",
        "# plt.ylabel(r\"$I({}:{})$\".format(lastup, cloud1up))\n",
        "# plt.show()\n",
        "# plt.plot(I3)\n",
        "# # plt.yscale(\"log\")\n",
        "# plt.xlabel(r\"RG step\")\n",
        "# # plt.ylabel(r\"$I({}:{})$\".format(imp_up, cloud1up))\n",
        "# # plt.show()"
      ],
      "execution_count": null,
      "outputs": []
    },
    {
      "cell_type": "code",
      "metadata": {
        "id": "vBzhSBUnQaEm"
      },
      "source": [
        ""
      ],
      "execution_count": null,
      "outputs": []
    }
  ]
}