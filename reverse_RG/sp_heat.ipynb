{
  "nbformat": 4,
  "nbformat_minor": 0,
  "metadata": {
    "colab": {
      "name": "sp_heat.ipynb",
      "provenance": [],
      "collapsed_sections": []
    },
    "kernelspec": {
      "display_name": "Python 3",
      "language": "python",
      "name": "python3"
    },
    "language_info": {
      "codemirror_mode": {
        "name": "ipython",
        "version": 3
      },
      "file_extension": ".py",
      "mimetype": "text/x-python",
      "name": "python",
      "nbconvert_exporter": "python",
      "pygments_lexer": "ipython3",
      "version": "3.9.4-final"
    }
  },
  "cells": [
    {
      "cell_type": "code",
      "metadata": {
        "colab": {
          "base_uri": "https://localhost:8080/"
        },
        "id": "ItCCBwGHQaEI",
        "outputId": "6bdb324d-5c8c-4a7f-b2a3-bb9d848fb6ff"
      },
      "source": [
        "# !pip install qutip\n",
        "from qutip import *\n",
        "from math import *\n",
        "import itertools\n",
        "from itertools import product\n",
        "import matplotlib\n",
        "from matplotlib import pyplot as plt\n",
        "import numpy as np\n",
        "from tqdm import tqdm\n",
        "from multiprocessing import Pool\n",
        "\n",
        "font = {'size'   : 17}\n",
        "\n",
        "matplotlib.rc('font', **font)\n",
        "# matplotlib.rcParams['text.usetex'] = True\n",
        "plt.rcParams[\"figure.figsize\"]= 6, 4\n",
        "plt.rcParams['figure.dpi'] = 90\n",
        "matplotlib.rcParams['lines.linewidth'] = 2\n",
        "plt.rcParams['axes.grid'] = True\n",
        " "
      ],
      "execution_count": 2,
      "outputs": []
    },
    {
      "cell_type": "markdown",
      "metadata": {
        "id": "rldkraxa_ehv"
      },
      "source": [
        "## Impurity Specific Heat"
      ]
    },
    {
      "cell_type": "markdown",
      "metadata": {
        "id": "UR-8cK4F_ehw"
      },
      "source": [
        "### 1. From Fermi liquid part of zero mode effective Hamiltonian with $k=0$\n",
        "\n",
        "$$\n",
        "C_v = \\frac{1}{k_B T^2}\\sum_{k\\sigma}\\frac{\\epsilon_{k\\sigma}^2 e^{\\beta \\epsilon_{k\\sigma}}}{\\left( 1 + e^{\\beta\\epsilon_{k\\sigma}}\\right)^2} - \\frac{1}{k_B T^2}\\sum_{k\\sigma}\\left[n_{k\\sigma} + \\frac{\\beta\\epsilon_{k\\sigma} e^{\\beta \\epsilon_{k\\sigma}}}{\\left( 1 + e^{\\beta\\epsilon_{k\\sigma}}\\right)^2}\\right]\\frac{\\partial \\epsilon_{k\\sigma}}{\\partial \\beta}\n",
        "$$"
      ]
    },
    {
      "cell_type": "code",
      "metadata": {
        "tags": [],
        "id": "mviK4Ui__ehx",
        "outputId": "795cc690-b52d-414c-d76f-f7f374ae0947"
      },
      "source": [
        "U       =  0\n",
        "J       =  0.014671215288625387\n",
        "K       =  0 # 0.04671215288625387\n",
        "V       =  3.131196040544157\n",
        "count   =  2\n",
        "D       =  0.2\n",
        "\n",
        "N = 2 * count\n",
        "j = J * N\n",
        "k = K * N\n",
        "v = V * sqrt(N)\n",
        "\n",
        "if v != 0:\n",
        "    gamma = (3*j + k + 2*U)/(8*v)\n",
        "    Eg = -U/2 - 3*j/4 + v * (gamma - sqrt(gamma*2 + 4))\n",
        "else:\n",
        "    Eg = -3*j/4\n",
        "\n",
        "Ek_0 = np.array([-0.2, -0.1, 0.1, 0.2])\n",
        "\n",
        "f = (J**2/(4*(Eg + J/4)**3) + K**2/(4*(Eg + K/4)**3) - 2*V**2/Eg**3)/(J**2/(4*(Eg + J/4)**2) + K**2/(4*(Eg + K/4)**2) - 2*V**2/Eg**2)\n",
        "print (f)\n",
        "Cv_imp = []\n",
        "gamma = []\n",
        "T_range = np.arange(-2, 0, 0.01)\n",
        "for T in 10**T_range:\n",
        "    kb = 1\n",
        "    beta = 1/(kb * T)\n",
        "    Ek_sigma_1 = Ek_0 + 2*f*Ek_0*sum(Ek_0/(1+np.exp(beta*Ek_0)))\n",
        "    n_ksigma = 1/(1+np.exp(beta*Ek_sigma_1))\n",
        "    Ek_sigma_0 = Ek_0 + 2*f*Ek_0*sum(Ek_0*n_ksigma)\n",
        "    dn_ksigma = np.exp(beta*Ek_sigma_1) * (beta*2*f*Ek_0*sum(Ek_0**2 * np.exp(beta*Ek_0)/(1+np.exp(beta*Ek_0))**2) - Ek_sigma_1)/(1+np.exp(beta*Ek_sigma_1))**2\n",
        "    Cv = 2*sum(Ek_sigma_0*dn_ksigma + n_ksigma*f*Ek_0*2*sum(Ek_0*dn_ksigma))/(-kb*T**2)\n",
        "    Cv_0 = 2*sum(Ek_0*np.exp(beta*Ek_0)/((1+np.exp(beta*Ek_0))**2))/(-kb*T**2)\n",
        "    Cv_imp.append(Cv - Cv_0)\n",
        "    gamma.append(Cv_imp[-1]/T)\n",
        "\n",
        "plt.plot(T_range, Cv_imp)\n",
        "plt.show()\n",
        "plt.plot(T_range, gamma)"
      ],
      "execution_count": 9,
      "outputs": [
        {
          "output_type": "stream",
          "name": "stdout",
          "text": [
            "-0.079631848728688\n"
          ]
        },
        {
          "output_type": "display_data",
          "data": {
            "text/plain": "<Figure size 540x360 with 1 Axes>",
            "image/svg+xml": "<?xml version=\"1.0\" encoding=\"utf-8\" standalone=\"no\"?>\n<!DOCTYPE svg PUBLIC \"-//W3C//DTD SVG 1.1//EN\"\n  \"http://www.w3.org/Graphics/SVG/1.1/DTD/svg11.dtd\">\n<!-- Created with matplotlib (https://matplotlib.org/) -->\n<svg height=\"255.292812pt\" version=\"1.1\" viewBox=\"0 0 367.01625 255.292812\" width=\"367.01625pt\" xmlns=\"http://www.w3.org/2000/svg\" xmlns:xlink=\"http://www.w3.org/1999/xlink\">\n <metadata>\n  <rdf:RDF xmlns:cc=\"http://creativecommons.org/ns#\" xmlns:dc=\"http://purl.org/dc/elements/1.1/\" xmlns:rdf=\"http://www.w3.org/1999/02/22-rdf-syntax-ns#\">\n   <cc:Work>\n    <dc:type rdf:resource=\"http://purl.org/dc/dcmitype/StillImage\"/>\n    <dc:date>2021-06-29T12:47:42.355079</dc:date>\n    <dc:format>image/svg+xml</dc:format>\n    <dc:creator>\n     <cc:Agent>\n      <dc:title>Matplotlib v3.3.4, https://matplotlib.org/</dc:title>\n     </cc:Agent>\n    </dc:creator>\n   </cc:Work>\n  </rdf:RDF>\n </metadata>\n <defs>\n  <style type=\"text/css\">*{stroke-linecap:butt;stroke-linejoin:round;}</style>\n </defs>\n <g id=\"figure_1\">\n  <g id=\"patch_1\">\n   <path d=\"M -0 255.292812 \nL 367.01625 255.292812 \nL 367.01625 0 \nL -0 0 \nz\n\" style=\"fill:none;\"/>\n  </g>\n  <g id=\"axes_1\">\n   <g id=\"patch_2\">\n    <path d=\"M 25.01625 224.64 \nL 359.81625 224.64 \nL 359.81625 7.2 \nL 25.01625 7.2 \nz\n\" style=\"fill:#ffffff;\"/>\n   </g>\n   <g id=\"matplotlib.axis_1\">\n    <g id=\"xtick_1\">\n     <g id=\"line2d_1\">\n      <path clip-path=\"url(#p2f7f8956a8)\" d=\"M 40.234432 224.64 \nL 40.234432 7.2 \n\" style=\"fill:none;stroke:#b0b0b0;stroke-linecap:square;stroke-width:0.8;\"/>\n     </g>\n     <g id=\"line2d_2\">\n      <defs>\n       <path d=\"M 0 0 \nL 0 3.5 \n\" id=\"m979e495073\" style=\"stroke:#000000;stroke-width:0.8;\"/>\n      </defs>\n      <g>\n       <use style=\"stroke:#000000;stroke-width:0.8;\" x=\"40.234432\" xlink:href=\"#m979e495073\" y=\"224.64\"/>\n      </g>\n     </g>\n     <g id=\"text_1\">\n      <!-- −2.0 -->\n      <g transform=\"translate(19.594041 244.557344)scale(0.17 -0.17)\">\n       <defs>\n        <path d=\"M 10.59375 35.5 \nL 73.1875 35.5 \nL 73.1875 27.203125 \nL 10.59375 27.203125 \nz\n\" id=\"DejaVuSans-8722\"/>\n        <path d=\"M 19.1875 8.296875 \nL 53.609375 8.296875 \nL 53.609375 0 \nL 7.328125 0 \nL 7.328125 8.296875 \nQ 12.9375 14.109375 22.625 23.890625 \nQ 32.328125 33.6875 34.8125 36.53125 \nQ 39.546875 41.84375 41.421875 45.53125 \nQ 43.3125 49.21875 43.3125 52.78125 \nQ 43.3125 58.59375 39.234375 62.25 \nQ 35.15625 65.921875 28.609375 65.921875 \nQ 23.96875 65.921875 18.8125 64.3125 \nQ 13.671875 62.703125 7.8125 59.421875 \nL 7.8125 69.390625 \nQ 13.765625 71.78125 18.9375 73 \nQ 24.125 74.21875 28.421875 74.21875 \nQ 39.75 74.21875 46.484375 68.546875 \nQ 53.21875 62.890625 53.21875 53.421875 \nQ 53.21875 48.921875 51.53125 44.890625 \nQ 49.859375 40.875 45.40625 35.40625 \nQ 44.1875 33.984375 37.640625 27.21875 \nQ 31.109375 20.453125 19.1875 8.296875 \nz\n\" id=\"DejaVuSans-50\"/>\n        <path d=\"M 10.6875 12.40625 \nL 21 12.40625 \nL 21 0 \nL 10.6875 0 \nz\n\" id=\"DejaVuSans-46\"/>\n        <path d=\"M 31.78125 66.40625 \nQ 24.171875 66.40625 20.328125 58.90625 \nQ 16.5 51.421875 16.5 36.375 \nQ 16.5 21.390625 20.328125 13.890625 \nQ 24.171875 6.390625 31.78125 6.390625 \nQ 39.453125 6.390625 43.28125 13.890625 \nQ 47.125 21.390625 47.125 36.375 \nQ 47.125 51.421875 43.28125 58.90625 \nQ 39.453125 66.40625 31.78125 66.40625 \nz\nM 31.78125 74.21875 \nQ 44.046875 74.21875 50.515625 64.515625 \nQ 56.984375 54.828125 56.984375 36.375 \nQ 56.984375 17.96875 50.515625 8.265625 \nQ 44.046875 -1.421875 31.78125 -1.421875 \nQ 19.53125 -1.421875 13.0625 8.265625 \nQ 6.59375 17.96875 6.59375 36.375 \nQ 6.59375 54.828125 13.0625 64.515625 \nQ 19.53125 74.21875 31.78125 74.21875 \nz\n\" id=\"DejaVuSans-48\"/>\n       </defs>\n       <use xlink:href=\"#DejaVuSans-8722\"/>\n       <use x=\"83.789062\" xlink:href=\"#DejaVuSans-50\"/>\n       <use x=\"147.412109\" xlink:href=\"#DejaVuSans-46\"/>\n       <use x=\"179.199219\" xlink:href=\"#DejaVuSans-48\"/>\n      </g>\n     </g>\n    </g>\n    <g id=\"xtick_2\">\n     <g id=\"line2d_3\">\n      <path clip-path=\"url(#p2f7f8956a8)\" d=\"M 116.707707 224.64 \nL 116.707707 7.2 \n\" style=\"fill:none;stroke:#b0b0b0;stroke-linecap:square;stroke-width:0.8;\"/>\n     </g>\n     <g id=\"line2d_4\">\n      <g>\n       <use style=\"stroke:#000000;stroke-width:0.8;\" x=\"116.707707\" xlink:href=\"#m979e495073\" y=\"224.64\"/>\n      </g>\n     </g>\n     <g id=\"text_2\">\n      <!-- −1.5 -->\n      <g transform=\"translate(96.067317 244.557344)scale(0.17 -0.17)\">\n       <defs>\n        <path d=\"M 12.40625 8.296875 \nL 28.515625 8.296875 \nL 28.515625 63.921875 \nL 10.984375 60.40625 \nL 10.984375 69.390625 \nL 28.421875 72.90625 \nL 38.28125 72.90625 \nL 38.28125 8.296875 \nL 54.390625 8.296875 \nL 54.390625 0 \nL 12.40625 0 \nz\n\" id=\"DejaVuSans-49\"/>\n        <path d=\"M 10.796875 72.90625 \nL 49.515625 72.90625 \nL 49.515625 64.59375 \nL 19.828125 64.59375 \nL 19.828125 46.734375 \nQ 21.96875 47.46875 24.109375 47.828125 \nQ 26.265625 48.1875 28.421875 48.1875 \nQ 40.625 48.1875 47.75 41.5 \nQ 54.890625 34.8125 54.890625 23.390625 \nQ 54.890625 11.625 47.5625 5.09375 \nQ 40.234375 -1.421875 26.90625 -1.421875 \nQ 22.3125 -1.421875 17.546875 -0.640625 \nQ 12.796875 0.140625 7.71875 1.703125 \nL 7.71875 11.625 \nQ 12.109375 9.234375 16.796875 8.0625 \nQ 21.484375 6.890625 26.703125 6.890625 \nQ 35.15625 6.890625 40.078125 11.328125 \nQ 45.015625 15.765625 45.015625 23.390625 \nQ 45.015625 31 40.078125 35.4375 \nQ 35.15625 39.890625 26.703125 39.890625 \nQ 22.75 39.890625 18.8125 39.015625 \nQ 14.890625 38.140625 10.796875 36.28125 \nz\n\" id=\"DejaVuSans-53\"/>\n       </defs>\n       <use xlink:href=\"#DejaVuSans-8722\"/>\n       <use x=\"83.789062\" xlink:href=\"#DejaVuSans-49\"/>\n       <use x=\"147.412109\" xlink:href=\"#DejaVuSans-46\"/>\n       <use x=\"179.199219\" xlink:href=\"#DejaVuSans-53\"/>\n      </g>\n     </g>\n    </g>\n    <g id=\"xtick_3\">\n     <g id=\"line2d_5\">\n      <path clip-path=\"url(#p2f7f8956a8)\" d=\"M 193.180983 224.64 \nL 193.180983 7.2 \n\" style=\"fill:none;stroke:#b0b0b0;stroke-linecap:square;stroke-width:0.8;\"/>\n     </g>\n     <g id=\"line2d_6\">\n      <g>\n       <use style=\"stroke:#000000;stroke-width:0.8;\" x=\"193.180983\" xlink:href=\"#m979e495073\" y=\"224.64\"/>\n      </g>\n     </g>\n     <g id=\"text_3\">\n      <!-- −1.0 -->\n      <g transform=\"translate(172.540592 244.557344)scale(0.17 -0.17)\">\n       <use xlink:href=\"#DejaVuSans-8722\"/>\n       <use x=\"83.789062\" xlink:href=\"#DejaVuSans-49\"/>\n       <use x=\"147.412109\" xlink:href=\"#DejaVuSans-46\"/>\n       <use x=\"179.199219\" xlink:href=\"#DejaVuSans-48\"/>\n      </g>\n     </g>\n    </g>\n    <g id=\"xtick_4\">\n     <g id=\"line2d_7\">\n      <path clip-path=\"url(#p2f7f8956a8)\" d=\"M 269.654258 224.64 \nL 269.654258 7.2 \n\" style=\"fill:none;stroke:#b0b0b0;stroke-linecap:square;stroke-width:0.8;\"/>\n     </g>\n     <g id=\"line2d_8\">\n      <g>\n       <use style=\"stroke:#000000;stroke-width:0.8;\" x=\"269.654258\" xlink:href=\"#m979e495073\" y=\"224.64\"/>\n      </g>\n     </g>\n     <g id=\"text_4\">\n      <!-- −0.5 -->\n      <g transform=\"translate(249.013868 244.557344)scale(0.17 -0.17)\">\n       <use xlink:href=\"#DejaVuSans-8722\"/>\n       <use x=\"83.789062\" xlink:href=\"#DejaVuSans-48\"/>\n       <use x=\"147.412109\" xlink:href=\"#DejaVuSans-46\"/>\n       <use x=\"179.199219\" xlink:href=\"#DejaVuSans-53\"/>\n      </g>\n     </g>\n    </g>\n    <g id=\"xtick_5\">\n     <g id=\"line2d_9\">\n      <path clip-path=\"url(#p2f7f8956a8)\" d=\"M 346.127534 224.64 \nL 346.127534 7.2 \n\" style=\"fill:none;stroke:#b0b0b0;stroke-linecap:square;stroke-width:0.8;\"/>\n     </g>\n     <g id=\"line2d_10\">\n      <g>\n       <use style=\"stroke:#000000;stroke-width:0.8;\" x=\"346.127534\" xlink:href=\"#m979e495073\" y=\"224.64\"/>\n      </g>\n     </g>\n     <g id=\"text_5\">\n      <!-- 0.0 -->\n      <g transform=\"translate(332.609877 244.557344)scale(0.17 -0.17)\">\n       <use xlink:href=\"#DejaVuSans-48\"/>\n       <use x=\"63.623047\" xlink:href=\"#DejaVuSans-46\"/>\n       <use x=\"95.410156\" xlink:href=\"#DejaVuSans-48\"/>\n      </g>\n     </g>\n    </g>\n   </g>\n   <g id=\"matplotlib.axis_2\">\n    <g id=\"ytick_1\">\n     <g id=\"line2d_11\">\n      <path clip-path=\"url(#p2f7f8956a8)\" d=\"M 25.01625 215.574797 \nL 359.81625 215.574797 \n\" style=\"fill:none;stroke:#b0b0b0;stroke-linecap:square;stroke-width:0.8;\"/>\n     </g>\n     <g id=\"line2d_12\">\n      <defs>\n       <path d=\"M 0 0 \nL -3.5 0 \n\" id=\"m0b6cdc9aeb\" style=\"stroke:#000000;stroke-width:0.8;\"/>\n      </defs>\n      <g>\n       <use style=\"stroke:#000000;stroke-width:0.8;\" x=\"25.01625\" xlink:href=\"#m0b6cdc9aeb\" y=\"215.574797\"/>\n      </g>\n     </g>\n     <g id=\"text_6\">\n      <!-- 0 -->\n      <g transform=\"translate(7.2 222.033469)scale(0.17 -0.17)\">\n       <use xlink:href=\"#DejaVuSans-48\"/>\n      </g>\n     </g>\n    </g>\n    <g id=\"ytick_2\">\n     <g id=\"line2d_13\">\n      <path clip-path=\"url(#p2f7f8956a8)\" d=\"M 25.01625 152.271045 \nL 359.81625 152.271045 \n\" style=\"fill:none;stroke:#b0b0b0;stroke-linecap:square;stroke-width:0.8;\"/>\n     </g>\n     <g id=\"line2d_14\">\n      <g>\n       <use style=\"stroke:#000000;stroke-width:0.8;\" x=\"25.01625\" xlink:href=\"#m0b6cdc9aeb\" y=\"152.271045\"/>\n      </g>\n     </g>\n     <g id=\"text_7\">\n      <!-- 1 -->\n      <g transform=\"translate(7.2 158.729717)scale(0.17 -0.17)\">\n       <use xlink:href=\"#DejaVuSans-49\"/>\n      </g>\n     </g>\n    </g>\n    <g id=\"ytick_3\">\n     <g id=\"line2d_15\">\n      <path clip-path=\"url(#p2f7f8956a8)\" d=\"M 25.01625 88.967294 \nL 359.81625 88.967294 \n\" style=\"fill:none;stroke:#b0b0b0;stroke-linecap:square;stroke-width:0.8;\"/>\n     </g>\n     <g id=\"line2d_16\">\n      <g>\n       <use style=\"stroke:#000000;stroke-width:0.8;\" x=\"25.01625\" xlink:href=\"#m0b6cdc9aeb\" y=\"88.967294\"/>\n      </g>\n     </g>\n     <g id=\"text_8\">\n      <!-- 2 -->\n      <g transform=\"translate(7.2 95.425965)scale(0.17 -0.17)\">\n       <use xlink:href=\"#DejaVuSans-50\"/>\n      </g>\n     </g>\n    </g>\n    <g id=\"ytick_4\">\n     <g id=\"line2d_17\">\n      <path clip-path=\"url(#p2f7f8956a8)\" d=\"M 25.01625 25.663542 \nL 359.81625 25.663542 \n\" style=\"fill:none;stroke:#b0b0b0;stroke-linecap:square;stroke-width:0.8;\"/>\n     </g>\n     <g id=\"line2d_18\">\n      <g>\n       <use style=\"stroke:#000000;stroke-width:0.8;\" x=\"25.01625\" xlink:href=\"#m0b6cdc9aeb\" y=\"25.663542\"/>\n      </g>\n     </g>\n     <g id=\"text_9\">\n      <!-- 3 -->\n      <g transform=\"translate(7.2 32.122214)scale(0.17 -0.17)\">\n       <defs>\n        <path d=\"M 40.578125 39.3125 \nQ 47.65625 37.796875 51.625 33 \nQ 55.609375 28.21875 55.609375 21.1875 \nQ 55.609375 10.40625 48.1875 4.484375 \nQ 40.765625 -1.421875 27.09375 -1.421875 \nQ 22.515625 -1.421875 17.65625 -0.515625 \nQ 12.796875 0.390625 7.625 2.203125 \nL 7.625 11.71875 \nQ 11.71875 9.328125 16.59375 8.109375 \nQ 21.484375 6.890625 26.8125 6.890625 \nQ 36.078125 6.890625 40.9375 10.546875 \nQ 45.796875 14.203125 45.796875 21.1875 \nQ 45.796875 27.640625 41.28125 31.265625 \nQ 36.765625 34.90625 28.71875 34.90625 \nL 20.21875 34.90625 \nL 20.21875 43.015625 \nL 29.109375 43.015625 \nQ 36.375 43.015625 40.234375 45.921875 \nQ 44.09375 48.828125 44.09375 54.296875 \nQ 44.09375 59.90625 40.109375 62.90625 \nQ 36.140625 65.921875 28.71875 65.921875 \nQ 24.65625 65.921875 20.015625 65.03125 \nQ 15.375 64.15625 9.8125 62.3125 \nL 9.8125 71.09375 \nQ 15.4375 72.65625 20.34375 73.4375 \nQ 25.25 74.21875 29.59375 74.21875 \nQ 40.828125 74.21875 47.359375 69.109375 \nQ 53.90625 64.015625 53.90625 55.328125 \nQ 53.90625 49.265625 50.4375 45.09375 \nQ 46.96875 40.921875 40.578125 39.3125 \nz\n\" id=\"DejaVuSans-51\"/>\n       </defs>\n       <use xlink:href=\"#DejaVuSans-51\"/>\n      </g>\n     </g>\n    </g>\n   </g>\n   <g id=\"line2d_19\">\n    <path clip-path=\"url(#p2f7f8956a8)\" d=\"M 40.234432 214.756364 \nL 44.822828 214.140168 \nL 47.881759 213.542863 \nL 50.94069 212.753214 \nL 53.999621 211.729921 \nL 57.058552 210.428975 \nL 60.117483 208.805057 \nL 63.176414 206.813227 \nL 66.235345 204.410808 \nL 69.294276 201.559351 \nL 72.353208 198.226549 \nL 75.412139 194.387975 \nL 78.47107 190.028517 \nL 81.530001 185.143421 \nL 84.588932 179.738858 \nL 87.647863 173.832009 \nL 90.706794 167.450657 \nL 93.765725 160.632337 \nL 98.354121 149.688317 \nL 102.942518 138.05007 \nL 109.06038 121.812056 \nL 122.825569 84.786673 \nL 127.413966 73.045411 \nL 132.002362 61.935431 \nL 135.061293 54.973166 \nL 138.120224 48.431186 \nL 141.179155 42.364689 \nL 144.238086 36.828507 \nL 147.297017 31.876657 \nL 150.355948 27.561523 \nL 151.885414 25.658363 \nL 153.41488 23.932668 \nL 154.944345 22.389947 \nL 156.473811 21.035332 \nL 158.003276 19.873521 \nL 159.532742 18.908723 \nL 161.062207 18.144601 \nL 162.591673 17.584219 \nL 164.121138 17.229991 \nL 165.650604 17.083636 \nL 167.180069 17.146139 \nL 168.709535 17.417715 \nL 170.239 17.897785 \nL 171.768466 18.58496 \nL 173.297931 19.477026 \nL 174.827397 20.570953 \nL 176.356862 21.862894 \nL 177.886328 23.348212 \nL 179.415793 25.021498 \nL 180.945259 26.876614 \nL 184.00419 31.10438 \nL 187.063121 35.969544 \nL 190.122052 41.401811 \nL 193.180983 47.324686 \nL 196.239914 53.657742 \nL 200.82831 63.746913 \nL 206.946172 77.878021 \nL 219.181896 106.335148 \nL 223.770293 116.489093 \nL 228.358689 126.14945 \nL 232.947086 135.23132 \nL 237.535483 143.68128 \nL 242.123879 151.472684 \nL 245.18281 156.297947 \nL 248.241741 160.830962 \nL 251.300672 165.077426 \nL 254.359603 169.045247 \nL 257.418534 172.744056 \nL 260.477465 176.184772 \nL 263.536396 179.379229 \nL 266.595327 182.339852 \nL 269.654258 185.079393 \nL 272.713189 187.610697 \nL 277.301586 191.045071 \nL 281.889982 194.081567 \nL 286.478379 196.760232 \nL 291.066775 199.118648 \nL 295.655172 201.191634 \nL 300.243568 203.011119 \nL 304.831965 204.606137 \nL 309.420361 206.002902 \nL 315.538224 207.597176 \nL 321.656086 208.929496 \nL 327.773948 210.041692 \nL 335.421275 211.176023 \nL 343.068603 212.079196 \nL 344.598068 212.236358 \nL 344.598068 212.236358 \n\" style=\"fill:none;stroke:#1f77b4;stroke-linecap:square;stroke-width:2;\"/>\n   </g>\n   <g id=\"patch_3\">\n    <path d=\"M 25.01625 224.64 \nL 25.01625 7.2 \n\" style=\"fill:none;stroke:#000000;stroke-linecap:square;stroke-linejoin:miter;stroke-width:0.8;\"/>\n   </g>\n   <g id=\"patch_4\">\n    <path d=\"M 359.81625 224.64 \nL 359.81625 7.2 \n\" style=\"fill:none;stroke:#000000;stroke-linecap:square;stroke-linejoin:miter;stroke-width:0.8;\"/>\n   </g>\n   <g id=\"patch_5\">\n    <path d=\"M 25.01625 224.64 \nL 359.81625 224.64 \n\" style=\"fill:none;stroke:#000000;stroke-linecap:square;stroke-linejoin:miter;stroke-width:0.8;\"/>\n   </g>\n   <g id=\"patch_6\">\n    <path d=\"M 25.01625 7.2 \nL 359.81625 7.2 \n\" style=\"fill:none;stroke:#000000;stroke-linecap:square;stroke-linejoin:miter;stroke-width:0.8;\"/>\n   </g>\n  </g>\n </g>\n <defs>\n  <clipPath id=\"p2f7f8956a8\">\n   <rect height=\"217.44\" width=\"334.8\" x=\"25.01625\" y=\"7.2\"/>\n  </clipPath>\n </defs>\n</svg>\n",
            "image/png": "[encoded data removed]"
          },
          "metadata": {
            "needs_background": "light"
          }
        },
        {
          "output_type": "execute_result",
          "data": {
            "text/plain": [
              "[<matplotlib.lines.Line2D at 0x7f88dc860e80>]"
            ]
          },
          "metadata": {},
          "execution_count": 9
        },
        {
          "output_type": "display_data",
          "data": {
            "text/plain": "<Figure size 540x360 with 1 Axes>",
            "image/svg+xml": "<?xml version=\"1.0\" encoding=\"utf-8\" standalone=\"no\"?>\n<!DOCTYPE svg PUBLIC \"-//W3C//DTD SVG 1.1//EN\"\n  \"http://www.w3.org/Graphics/SVG/1.1/DTD/svg11.dtd\">\n<!-- Created with matplotlib (https://matplotlib.org/) -->\n<svg height=\"255.292813pt\" version=\"1.1\" viewBox=\"0 0 377.8325 255.292813\" width=\"377.8325pt\" xmlns=\"http://www.w3.org/2000/svg\" xmlns:xlink=\"http://www.w3.org/1999/xlink\">\n <metadata>\n  <rdf:RDF xmlns:cc=\"http://creativecommons.org/ns#\" xmlns:dc=\"http://purl.org/dc/elements/1.1/\" xmlns:rdf=\"http://www.w3.org/1999/02/22-rdf-syntax-ns#\">\n   <cc:Work>\n    <dc:type rdf:resource=\"http://purl.org/dc/dcmitype/StillImage\"/>\n    <dc:date>2021-06-29T12:47:42.558928</dc:date>\n    <dc:format>image/svg+xml</dc:format>\n    <dc:creator>\n     <cc:Agent>\n      <dc:title>Matplotlib v3.3.4, https://matplotlib.org/</dc:title>\n     </cc:Agent>\n    </dc:creator>\n   </cc:Work>\n  </rdf:RDF>\n </metadata>\n <defs>\n  <style type=\"text/css\">*{stroke-linecap:butt;stroke-linejoin:round;}</style>\n </defs>\n <g id=\"figure_1\">\n  <g id=\"patch_1\">\n   <path d=\"M 0 255.292813 \nL 377.8325 255.292813 \nL 377.8325 0 \nL 0 0 \nz\n\" style=\"fill:none;\"/>\n  </g>\n  <g id=\"axes_1\">\n   <g id=\"patch_2\">\n    <path d=\"M 35.8325 224.64 \nL 370.6325 224.64 \nL 370.6325 7.2 \nL 35.8325 7.2 \nz\n\" style=\"fill:#ffffff;\"/>\n   </g>\n   <g id=\"matplotlib.axis_1\">\n    <g id=\"xtick_1\">\n     <g id=\"line2d_1\">\n      <path clip-path=\"url(#p5d14014c49)\" d=\"M 51.050682 224.64 \nL 51.050682 7.2 \n\" style=\"fill:none;stroke:#b0b0b0;stroke-linecap:square;stroke-width:0.8;\"/>\n     </g>\n     <g id=\"line2d_2\">\n      <defs>\n       <path d=\"M 0 0 \nL 0 3.5 \n\" id=\"m12cbe4f454\" style=\"stroke:#000000;stroke-width:0.8;\"/>\n      </defs>\n      <g>\n       <use style=\"stroke:#000000;stroke-width:0.8;\" x=\"51.050682\" xlink:href=\"#m12cbe4f454\" y=\"224.64\"/>\n      </g>\n     </g>\n     <g id=\"text_1\">\n      <!-- −2.0 -->\n      <g transform=\"translate(30.410291 244.557344)scale(0.17 -0.17)\">\n       <defs>\n        <path d=\"M 10.59375 35.5 \nL 73.1875 35.5 \nL 73.1875 27.203125 \nL 10.59375 27.203125 \nz\n\" id=\"DejaVuSans-8722\"/>\n        <path d=\"M 19.1875 8.296875 \nL 53.609375 8.296875 \nL 53.609375 0 \nL 7.328125 0 \nL 7.328125 8.296875 \nQ 12.9375 14.109375 22.625 23.890625 \nQ 32.328125 33.6875 34.8125 36.53125 \nQ 39.546875 41.84375 41.421875 45.53125 \nQ 43.3125 49.21875 43.3125 52.78125 \nQ 43.3125 58.59375 39.234375 62.25 \nQ 35.15625 65.921875 28.609375 65.921875 \nQ 23.96875 65.921875 18.8125 64.3125 \nQ 13.671875 62.703125 7.8125 59.421875 \nL 7.8125 69.390625 \nQ 13.765625 71.78125 18.9375 73 \nQ 24.125 74.21875 28.421875 74.21875 \nQ 39.75 74.21875 46.484375 68.546875 \nQ 53.21875 62.890625 53.21875 53.421875 \nQ 53.21875 48.921875 51.53125 44.890625 \nQ 49.859375 40.875 45.40625 35.40625 \nQ 44.1875 33.984375 37.640625 27.21875 \nQ 31.109375 20.453125 19.1875 8.296875 \nz\n\" id=\"DejaVuSans-50\"/>\n        <path d=\"M 10.6875 12.40625 \nL 21 12.40625 \nL 21 0 \nL 10.6875 0 \nz\n\" id=\"DejaVuSans-46\"/>\n        <path d=\"M 31.78125 66.40625 \nQ 24.171875 66.40625 20.328125 58.90625 \nQ 16.5 51.421875 16.5 36.375 \nQ 16.5 21.390625 20.328125 13.890625 \nQ 24.171875 6.390625 31.78125 6.390625 \nQ 39.453125 6.390625 43.28125 13.890625 \nQ 47.125 21.390625 47.125 36.375 \nQ 47.125 51.421875 43.28125 58.90625 \nQ 39.453125 66.40625 31.78125 66.40625 \nz\nM 31.78125 74.21875 \nQ 44.046875 74.21875 50.515625 64.515625 \nQ 56.984375 54.828125 56.984375 36.375 \nQ 56.984375 17.96875 50.515625 8.265625 \nQ 44.046875 -1.421875 31.78125 -1.421875 \nQ 19.53125 -1.421875 13.0625 8.265625 \nQ 6.59375 17.96875 6.59375 36.375 \nQ 6.59375 54.828125 13.0625 64.515625 \nQ 19.53125 74.21875 31.78125 74.21875 \nz\n\" id=\"DejaVuSans-48\"/>\n       </defs>\n       <use xlink:href=\"#DejaVuSans-8722\"/>\n       <use x=\"83.789062\" xlink:href=\"#DejaVuSans-50\"/>\n       <use x=\"147.412109\" xlink:href=\"#DejaVuSans-46\"/>\n       <use x=\"179.199219\" xlink:href=\"#DejaVuSans-48\"/>\n      </g>\n     </g>\n    </g>\n    <g id=\"xtick_2\">\n     <g id=\"line2d_3\">\n      <path clip-path=\"url(#p5d14014c49)\" d=\"M 127.523957 224.64 \nL 127.523957 7.2 \n\" style=\"fill:none;stroke:#b0b0b0;stroke-linecap:square;stroke-width:0.8;\"/>\n     </g>\n     <g id=\"line2d_4\">\n      <g>\n       <use style=\"stroke:#000000;stroke-width:0.8;\" x=\"127.523957\" xlink:href=\"#m12cbe4f454\" y=\"224.64\"/>\n      </g>\n     </g>\n     <g id=\"text_2\">\n      <!-- −1.5 -->\n      <g transform=\"translate(106.883567 244.557344)scale(0.17 -0.17)\">\n       <defs>\n        <path d=\"M 12.40625 8.296875 \nL 28.515625 8.296875 \nL 28.515625 63.921875 \nL 10.984375 60.40625 \nL 10.984375 69.390625 \nL 28.421875 72.90625 \nL 38.28125 72.90625 \nL 38.28125 8.296875 \nL 54.390625 8.296875 \nL 54.390625 0 \nL 12.40625 0 \nz\n\" id=\"DejaVuSans-49\"/>\n        <path d=\"M 10.796875 72.90625 \nL 49.515625 72.90625 \nL 49.515625 64.59375 \nL 19.828125 64.59375 \nL 19.828125 46.734375 \nQ 21.96875 47.46875 24.109375 47.828125 \nQ 26.265625 48.1875 28.421875 48.1875 \nQ 40.625 48.1875 47.75 41.5 \nQ 54.890625 34.8125 54.890625 23.390625 \nQ 54.890625 11.625 47.5625 5.09375 \nQ 40.234375 -1.421875 26.90625 -1.421875 \nQ 22.3125 -1.421875 17.546875 -0.640625 \nQ 12.796875 0.140625 7.71875 1.703125 \nL 7.71875 11.625 \nQ 12.109375 9.234375 16.796875 8.0625 \nQ 21.484375 6.890625 26.703125 6.890625 \nQ 35.15625 6.890625 40.078125 11.328125 \nQ 45.015625 15.765625 45.015625 23.390625 \nQ 45.015625 31 40.078125 35.4375 \nQ 35.15625 39.890625 26.703125 39.890625 \nQ 22.75 39.890625 18.8125 39.015625 \nQ 14.890625 38.140625 10.796875 36.28125 \nz\n\" id=\"DejaVuSans-53\"/>\n       </defs>\n       <use xlink:href=\"#DejaVuSans-8722\"/>\n       <use x=\"83.789062\" xlink:href=\"#DejaVuSans-49\"/>\n       <use x=\"147.412109\" xlink:href=\"#DejaVuSans-46\"/>\n       <use x=\"179.199219\" xlink:href=\"#DejaVuSans-53\"/>\n      </g>\n     </g>\n    </g>\n    <g id=\"xtick_3\">\n     <g id=\"line2d_5\">\n      <path clip-path=\"url(#p5d14014c49)\" d=\"M 203.997233 224.64 \nL 203.997233 7.2 \n\" style=\"fill:none;stroke:#b0b0b0;stroke-linecap:square;stroke-width:0.8;\"/>\n     </g>\n     <g id=\"line2d_6\">\n      <g>\n       <use style=\"stroke:#000000;stroke-width:0.8;\" x=\"203.997233\" xlink:href=\"#m12cbe4f454\" y=\"224.64\"/>\n      </g>\n     </g>\n     <g id=\"text_3\">\n      <!-- −1.0 -->\n      <g transform=\"translate(183.356842 244.557344)scale(0.17 -0.17)\">\n       <use xlink:href=\"#DejaVuSans-8722\"/>\n       <use x=\"83.789062\" xlink:href=\"#DejaVuSans-49\"/>\n       <use x=\"147.412109\" xlink:href=\"#DejaVuSans-46\"/>\n       <use x=\"179.199219\" xlink:href=\"#DejaVuSans-48\"/>\n      </g>\n     </g>\n    </g>\n    <g id=\"xtick_4\">\n     <g id=\"line2d_7\">\n      <path clip-path=\"url(#p5d14014c49)\" d=\"M 280.470508 224.64 \nL 280.470508 7.2 \n\" style=\"fill:none;stroke:#b0b0b0;stroke-linecap:square;stroke-width:0.8;\"/>\n     </g>\n     <g id=\"line2d_8\">\n      <g>\n       <use style=\"stroke:#000000;stroke-width:0.8;\" x=\"280.470508\" xlink:href=\"#m12cbe4f454\" y=\"224.64\"/>\n      </g>\n     </g>\n     <g id=\"text_4\">\n      <!-- −0.5 -->\n      <g transform=\"translate(259.830118 244.557344)scale(0.17 -0.17)\">\n       <use xlink:href=\"#DejaVuSans-8722\"/>\n       <use x=\"83.789062\" xlink:href=\"#DejaVuSans-48\"/>\n       <use x=\"147.412109\" xlink:href=\"#DejaVuSans-46\"/>\n       <use x=\"179.199219\" xlink:href=\"#DejaVuSans-53\"/>\n      </g>\n     </g>\n    </g>\n    <g id=\"xtick_5\">\n     <g id=\"line2d_9\">\n      <path clip-path=\"url(#p5d14014c49)\" d=\"M 356.943784 224.64 \nL 356.943784 7.2 \n\" style=\"fill:none;stroke:#b0b0b0;stroke-linecap:square;stroke-width:0.8;\"/>\n     </g>\n     <g id=\"line2d_10\">\n      <g>\n       <use style=\"stroke:#000000;stroke-width:0.8;\" x=\"356.943784\" xlink:href=\"#m12cbe4f454\" y=\"224.64\"/>\n      </g>\n     </g>\n     <g id=\"text_5\">\n      <!-- 0.0 -->\n      <g transform=\"translate(343.426127 244.557344)scale(0.17 -0.17)\">\n       <use xlink:href=\"#DejaVuSans-48\"/>\n       <use x=\"63.623047\" xlink:href=\"#DejaVuSans-46\"/>\n       <use x=\"95.410156\" xlink:href=\"#DejaVuSans-48\"/>\n      </g>\n     </g>\n    </g>\n   </g>\n   <g id=\"matplotlib.axis_2\">\n    <g id=\"ytick_1\">\n     <g id=\"line2d_11\">\n      <path clip-path=\"url(#p5d14014c49)\" d=\"M 35.8325 214.931498 \nL 370.6325 214.931498 \n\" style=\"fill:none;stroke:#b0b0b0;stroke-linecap:square;stroke-width:0.8;\"/>\n     </g>\n     <g id=\"line2d_12\">\n      <defs>\n       <path d=\"M 0 0 \nL -3.5 0 \n\" id=\"mb24e2ed1d3\" style=\"stroke:#000000;stroke-width:0.8;\"/>\n      </defs>\n      <g>\n       <use style=\"stroke:#000000;stroke-width:0.8;\" x=\"35.8325\" xlink:href=\"#mb24e2ed1d3\" y=\"214.931498\"/>\n      </g>\n     </g>\n     <g id=\"text_6\">\n      <!-- 0 -->\n      <g transform=\"translate(18.01625 221.39017)scale(0.17 -0.17)\">\n       <use xlink:href=\"#DejaVuSans-48\"/>\n      </g>\n     </g>\n    </g>\n    <g id=\"ytick_2\">\n     <g id=\"line2d_13\">\n      <path clip-path=\"url(#p5d14014c49)\" d=\"M 35.8325 150.024982 \nL 370.6325 150.024982 \n\" style=\"fill:none;stroke:#b0b0b0;stroke-linecap:square;stroke-width:0.8;\"/>\n     </g>\n     <g id=\"line2d_14\">\n      <g>\n       <use style=\"stroke:#000000;stroke-width:0.8;\" x=\"35.8325\" xlink:href=\"#mb24e2ed1d3\" y=\"150.024982\"/>\n      </g>\n     </g>\n     <g id=\"text_7\">\n      <!-- 20 -->\n      <g transform=\"translate(7.2 156.483654)scale(0.17 -0.17)\">\n       <use xlink:href=\"#DejaVuSans-50\"/>\n       <use x=\"63.623047\" xlink:href=\"#DejaVuSans-48\"/>\n      </g>\n     </g>\n    </g>\n    <g id=\"ytick_3\">\n     <g id=\"line2d_15\">\n      <path clip-path=\"url(#p5d14014c49)\" d=\"M 35.8325 85.118466 \nL 370.6325 85.118466 \n\" style=\"fill:none;stroke:#b0b0b0;stroke-linecap:square;stroke-width:0.8;\"/>\n     </g>\n     <g id=\"line2d_16\">\n      <g>\n       <use style=\"stroke:#000000;stroke-width:0.8;\" x=\"35.8325\" xlink:href=\"#mb24e2ed1d3\" y=\"85.118466\"/>\n      </g>\n     </g>\n     <g id=\"text_8\">\n      <!-- 40 -->\n      <g transform=\"translate(7.2 91.577138)scale(0.17 -0.17)\">\n       <defs>\n        <path d=\"M 37.796875 64.3125 \nL 12.890625 25.390625 \nL 37.796875 25.390625 \nz\nM 35.203125 72.90625 \nL 47.609375 72.90625 \nL 47.609375 25.390625 \nL 58.015625 25.390625 \nL 58.015625 17.1875 \nL 47.609375 17.1875 \nL 47.609375 0 \nL 37.796875 0 \nL 37.796875 17.1875 \nL 4.890625 17.1875 \nL 4.890625 26.703125 \nz\n\" id=\"DejaVuSans-52\"/>\n       </defs>\n       <use xlink:href=\"#DejaVuSans-52\"/>\n       <use x=\"63.623047\" xlink:href=\"#DejaVuSans-48\"/>\n      </g>\n     </g>\n    </g>\n    <g id=\"ytick_4\">\n     <g id=\"line2d_17\">\n      <path clip-path=\"url(#p5d14014c49)\" d=\"M 35.8325 20.21195 \nL 370.6325 20.21195 \n\" style=\"fill:none;stroke:#b0b0b0;stroke-linecap:square;stroke-width:0.8;\"/>\n     </g>\n     <g id=\"line2d_18\">\n      <g>\n       <use style=\"stroke:#000000;stroke-width:0.8;\" x=\"35.8325\" xlink:href=\"#mb24e2ed1d3\" y=\"20.21195\"/>\n      </g>\n     </g>\n     <g id=\"text_9\">\n      <!-- 60 -->\n      <g transform=\"translate(7.2 26.670622)scale(0.17 -0.17)\">\n       <defs>\n        <path d=\"M 33.015625 40.375 \nQ 26.375 40.375 22.484375 35.828125 \nQ 18.609375 31.296875 18.609375 23.390625 \nQ 18.609375 15.53125 22.484375 10.953125 \nQ 26.375 6.390625 33.015625 6.390625 \nQ 39.65625 6.390625 43.53125 10.953125 \nQ 47.40625 15.53125 47.40625 23.390625 \nQ 47.40625 31.296875 43.53125 35.828125 \nQ 39.65625 40.375 33.015625 40.375 \nz\nM 52.59375 71.296875 \nL 52.59375 62.3125 \nQ 48.875 64.0625 45.09375 64.984375 \nQ 41.3125 65.921875 37.59375 65.921875 \nQ 27.828125 65.921875 22.671875 59.328125 \nQ 17.53125 52.734375 16.796875 39.40625 \nQ 19.671875 43.65625 24.015625 45.921875 \nQ 28.375 48.1875 33.59375 48.1875 \nQ 44.578125 48.1875 50.953125 41.515625 \nQ 57.328125 34.859375 57.328125 23.390625 \nQ 57.328125 12.15625 50.6875 5.359375 \nQ 44.046875 -1.421875 33.015625 -1.421875 \nQ 20.359375 -1.421875 13.671875 8.265625 \nQ 6.984375 17.96875 6.984375 36.375 \nQ 6.984375 53.65625 15.1875 63.9375 \nQ 23.390625 74.21875 37.203125 74.21875 \nQ 40.921875 74.21875 44.703125 73.484375 \nQ 48.484375 72.75 52.59375 71.296875 \nz\n\" id=\"DejaVuSans-54\"/>\n       </defs>\n       <use xlink:href=\"#DejaVuSans-54\"/>\n       <use x=\"63.623047\" xlink:href=\"#DejaVuSans-48\"/>\n      </g>\n     </g>\n    </g>\n   </g>\n   <g id=\"line2d_19\">\n    <path clip-path=\"url(#p5d14014c49)\" d=\"M 51.050682 210.735725 \nL 54.109613 209.075028 \nL 57.168544 206.928516 \nL 58.698009 205.647429 \nL 60.227475 204.21437 \nL 61.75694 202.619694 \nL 63.286406 200.854283 \nL 64.815871 198.909703 \nL 66.345337 196.778366 \nL 69.404268 191.930215 \nL 72.463199 186.271709 \nL 75.52213 179.787139 \nL 78.581061 172.486304 \nL 81.639992 164.406251 \nL 84.698923 155.611516 \nL 87.757854 146.192787 \nL 92.346251 131.149552 \nL 99.993578 104.816694 \nL 106.11144 84.01483 \nL 110.699837 69.367818 \nL 113.758768 60.310278 \nL 116.817699 51.949992 \nL 119.87663 44.378583 \nL 122.935561 37.668001 \nL 125.994492 31.870788 \nL 127.523957 29.326059 \nL 129.053423 27.021157 \nL 130.582888 24.957778 \nL 132.112354 23.13671 \nL 133.641819 21.557907 \nL 135.171285 20.220565 \nL 136.70075 19.123195 \nL 138.230216 18.263695 \nL 139.759681 17.639419 \nL 141.289147 17.247246 \nL 142.818612 17.083636 \nL 144.348078 17.144686 \nL 145.877543 17.426176 \nL 147.407009 17.92361 \nL 148.936474 18.632251 \nL 150.46594 19.547144 \nL 151.995405 20.663133 \nL 153.524871 21.974879 \nL 155.054336 23.47686 \nL 156.583802 25.163376 \nL 159.642733 29.066281 \nL 162.701664 33.634171 \nL 165.760595 38.814239 \nL 168.819526 44.549969 \nL 171.878457 50.780915 \nL 174.937388 57.442694 \nL 179.525785 68.093501 \nL 184.114181 79.31844 \nL 202.467767 125.084234 \nL 207.056164 135.6592 \nL 211.64456 145.560109 \nL 214.703491 151.737162 \nL 217.762422 157.552544 \nL 220.821353 162.99503 \nL 223.880284 168.060117 \nL 226.939215 172.749256 \nL 229.998146 177.06901 \nL 233.057077 181.030183 \nL 236.116008 184.646964 \nL 239.174939 187.936116 \nL 242.23387 190.916234 \nL 245.292802 193.607082 \nL 248.351733 196.029027 \nL 251.410664 198.202553 \nL 254.469595 200.147874 \nL 257.528526 201.884626 \nL 260.587457 203.431636 \nL 265.175853 205.435127 \nL 269.76425 207.10717 \nL 274.352646 208.497451 \nL 278.941043 209.649731 \nL 283.529439 210.602079 \nL 289.647301 211.61682 \nL 295.765163 212.398501 \nL 303.412491 213.125582 \nL 312.589284 213.73113 \nL 323.295542 214.187971 \nL 337.060732 214.530909 \nL 355.414318 214.756364 \nL 355.414318 214.756364 \n\" style=\"fill:none;stroke:#1f77b4;stroke-linecap:square;stroke-width:2;\"/>\n   </g>\n   <g id=\"patch_3\">\n    <path d=\"M 35.8325 224.64 \nL 35.8325 7.2 \n\" style=\"fill:none;stroke:#000000;stroke-linecap:square;stroke-linejoin:miter;stroke-width:0.8;\"/>\n   </g>\n   <g id=\"patch_4\">\n    <path d=\"M 370.6325 224.64 \nL 370.6325 7.2 \n\" style=\"fill:none;stroke:#000000;stroke-linecap:square;stroke-linejoin:miter;stroke-width:0.8;\"/>\n   </g>\n   <g id=\"patch_5\">\n    <path d=\"M 35.8325 224.64 \nL 370.6325 224.64 \n\" style=\"fill:none;stroke:#000000;stroke-linecap:square;stroke-linejoin:miter;stroke-width:0.8;\"/>\n   </g>\n   <g id=\"patch_6\">\n    <path d=\"M 35.8325 7.2 \nL 370.6325 7.2 \n\" style=\"fill:none;stroke:#000000;stroke-linecap:square;stroke-linejoin:miter;stroke-width:0.8;\"/>\n   </g>\n  </g>\n </g>\n <defs>\n  <clipPath id=\"p5d14014c49\">\n   <rect height=\"217.44\" width=\"334.8\" x=\"35.8325\" y=\"7.2\"/>\n  </clipPath>\n </defs>\n</svg>\n",
            "image/png": "[encoded data removed]"
          },
          "metadata": {
            "needs_background": "light"
          }
        }
      ]
    },
    {
      "cell_type": "markdown",
      "metadata": {
        "id": "mk6ZIy6g_ehy"
      },
      "source": [
        "### 2. From Fermi liquid part of zero mode effective Hamiltonian with $k=0$, interpreting RG flow as reduction in temperature"
      ]
    },
    {
      "cell_type": "code",
      "metadata": {
        "tags": [],
        "id": "LUTxw_Ku_ehz"
      },
      "source": [
        "U_arr = np.load(\"../spin-charge-symmetrical/U.npy\")\n",
        "J_arr = np.load(\"../spin-charge-symmetrical/J.npy\")\n",
        "K_arr = np.load(\"../spin-charge-symmetrical/K.npy\")\n",
        "V_arr = np.load(\"../spin-charge-symmetrical/V.npy\")\n",
        "count_arr = np.load(\"../spin-charge-symmetrical/count.npy\")\n",
        "D_arr = count_arr/10\n",
        "Cv = []\n",
        "Cvj = []\n",
        "Cv_imp = []\n",
        "for U,J,K,V,count,D in zip(U_arr, J_arr, K_arr, V_arr, count_arr, D_arr):\n",
        "    # if count > 290:\n",
        "    #     print (U,J,K,V,count,D)\n",
        "    N = 2 * count\n",
        "    # K = 0\n",
        "    j = J * N\n",
        "    v = V * sqrt(N)\n",
        "    # k = 0\n",
        "    gamma = (3*j + k + 2*U)/(8*v)\n",
        "    Eg = -U/2 - 3*j/4 + v * (gamma - sqrt(gamma*2 + 4))\n",
        "    # Eg = -1\n",
        "    Ek = np.linspace(-D, D, N, endpoint=True)\n",
        "    fk = ((J**2/(4*(Eg + J/4)**3) - 2*V**2/Eg**3)/(J**2/(4*(Eg + J/4)**2) - 2*V**2/Eg**2)) * Ek**2\n",
        "\n",
        "    T = D\n",
        "    fd = 1/(1 + np.exp(Ek/T))\n",
        "    E = Ek + fk * fd\n",
        "    Cj = 2 * sum(E * (2*E - Ek) / (fk/T + 2 * (np.cosh(E/(2*T)))**2)) / T**2\n",
        "    C = 2 * sum(Ek**2 * np.exp(Ek/T)/((1 + np.exp(Ek/T))**2)) / T**2\n",
        "    Cvj.append((Cj))\n",
        "    Cv.append((C))\n",
        "    Cv_imp.append(Cj - C)\n",
        "\n",
        "plt.plot(D_arr, Cv_imp)\n",
        "# plt.scatter(np.log10(Trange), np.array(Cv), color=\"y\")\n",
        "# plt.xscale(\"log\")\n",
        "plt.show()\n",
        "# print (np.argmax(Cv_imp))"
      ],
      "execution_count": null,
      "outputs": []
    },
    {
      "cell_type": "markdown",
      "metadata": {
        "id": "yaf93Dfj_eh0"
      },
      "source": [
        "### 3. From partition function of zero mode two site Hamiltonian, interpreting RG flow as reduction in temperature"
      ]
    },
    {
      "cell_type": "code",
      "metadata": {
        "tags": [],
        "id": "YgOmuwG3_eh0"
      },
      "source": [
        "U_arr = np.load(\"../spin-charge-symmetrical/U.npy\")\n",
        "J_arr = np.load(\"../spin-charge-symmetrical/J.npy\")\n",
        "K_arr = np.load(\"../spin-charge-symmetrical/K.npy\")\n",
        "V_arr = np.load(\"../spin-charge-symmetrical/V.npy\")\n",
        "count_arr = np.load(\"../spin-charge-symmetrical/count.npy\")\n",
        "D_arr = count_arr/10\n",
        "Cv = []\n",
        "for U,J,K,V,count,D in zip(U_arr, J_arr, K_arr, V_arr, count_arr, D_arr):\n",
        "    N = 2 * count\n",
        "    j = J * N\n",
        "    k = K * N\n",
        "    v = V * sqrt(N)\n",
        "    delta = sqrt(2*v**2 + U**2/4)\n",
        "    gamma = (3*j + k + 2*U)/(8*v)\n",
        "    Ep = -U/2 - 3*j/4 + v * (gamma + sqrt(gamma*2 + 4))\n",
        "    Em = -U/2 - 3*j/4 + v * (gamma - sqrt(gamma*2 + 4))\n",
        "    csp = sqrt(sqrt(gamma**2 + 4) - gamma)/sqrt(2*sqrt(gamma**2 + 4))\n",
        "    csm = sqrt(sqrt(gamma**2 + 4) + gamma)/sqrt(2*sqrt(gamma**2 + 4))\n",
        "    ccp = csm\n",
        "    ccm = -csp\n",
        "    evals = np.array([k/4]*2 + [-U/4 + delta/2, -U/4 - delta/2] * 4 + [-U/2 + j/4]*3 + [-3*k/4] + [Ep, Em])\n",
        "    T = D\n",
        "    Z = sum(np.exp(-evals/T))\n",
        "    Zp = sum(evals * np.exp(-evals/T))\n",
        "    # print (Z)\n",
        "    Cv_T = sum(evals**2 * np.exp(-evals/T)) / (Z * T**2) - (sum(evals * np.exp(-evals/T)/(Z * T)))**2\n",
        "    Cv.append(Cv_T)\n",
        "plt.plot((Cv))\n",
        "plt.show()"
      ],
      "execution_count": null,
      "outputs": []
    },
    {
      "cell_type": "markdown",
      "metadata": {
        "id": "bWEDh80i_eh1"
      },
      "source": [
        "### 4. From partition function of zero mode two site Hamiltonian"
      ]
    },
    {
      "cell_type": "code",
      "metadata": {
        "tags": [],
        "id": "IHFdiPH9_eh2",
        "outputId": "ff64336f-ecf5-4728-9549-200cf4070b81"
      },
      "source": [
        "U_arr =  [0, 0, 0, 0, 0.06463131507519854, 0.3832892301648289, 0.81035398312819, 0.9653022499322309, 1]\n",
        "J_arr =  [0.4671215288625387, 0.1610471732413586, 0.09292714506948394, 0.06570355318275373, 0.0515190332875324, 0.04292128519020507, 0.0371787477122733, 0.03307692307692307, 0.03]\n",
        "K_arr =  [0.4671215288625387, 0.1610471732413586, 0.09292714506948394, 0.06570355318275373, 0.0515190332875324, 0.04292128519020507, 0.0371787477122733, 0.03307692307692307, 0.03]\n",
        "V_arr =  [3.31196040544157, 0.8600731642469739, 0.40964223204281247, 0.2526301643610369, 0.17618732751694133, 0.12356402131908403, 0.06672654361752858, 0.032185777536821183, 0.02]\n",
        "count_arr =  [2, 3, 4, 5, 6, 7, 8, 9, 10]\n",
        "D_arr =  [0.2, 0.30000000000000004, 0.4, 0.5, 0.6000000000000001, 0.7000000000000001, 0.8, 0.9, 1.0]\n",
        "D = D_arr[0]\n",
        "J = J_arr[0]\n",
        "K = K_arr[0]\n",
        "U = U_arr[0]\n",
        "V = V_arr[0]\n",
        "\n",
        "V = 0.019909015762077577\n",
        "J = 0.015838964056748835\n",
        "K = 0\n",
        "U = 0\n",
        "\n",
        "count = count_arr[0]\n",
        "N = 2 * count\n",
        "j = J * N\n",
        "k = K * N\n",
        "v = V * sqrt(N)\n",
        "delta = sqrt(2*v**2 + U**2/4)\n",
        "gamma = (3*j + k + 2*U)/(8*v)\n",
        "Eg = -U/2 - 3*j/4 + v * (gamma - sqrt(gamma*2 + 4))\n",
        "Eg *= 100\n",
        "Cv = []\n",
        "Ep = -U/2 - 3*j/4 + v * (gamma + sqrt(gamma*2 + 4))\n",
        "Em = -U/2 - 3*j/4 + v * (gamma - sqrt(gamma*2 + 4))\n",
        "csp = sqrt(sqrt(gamma**2 + 4) - gamma)/sqrt(2*sqrt(gamma**2 + 4))\n",
        "csm = sqrt(sqrt(gamma**2 + 4) + gamma)/sqrt(2*sqrt(gamma**2 + 4))\n",
        "ccp = csm\n",
        "ccm = -csp\n",
        "evals = np.array([k/4]*2 + [-U/4 + delta/2, -U/4 - delta/2] * 4 + [-U/2 + j/4]*3 + [-3*k/4] + [Ep, Em])\n",
        "Trange = 10**np.arange(-4, 0, 0.01, dtype=float)\n",
        "Gamma = []\n",
        "for T in Trange:\n",
        "    kB = 1\n",
        "    beta = 1/(kB * T)\n",
        "    Z = sum(np.exp(-evals * beta))\n",
        "    # Zp = sum(evals * np.exp(-evals * beta))\n",
        "    Cv_T = (sum(evals**2 * np.exp(-evals * beta)) / (Z * T**2) - (sum(evals * np.exp(-evals * beta)/(Z * T)))**2) / kB\n",
        "    Cv.append(Cv_T)\n",
        "    Gamma.append(Cv_T/T)\n",
        "plt.plot(np.log10(Trange), Cv)\n",
        "# plt.plot(np.log10(Trange), Gamma)\n",
        "plt.show()"
      ],
      "execution_count": null,
      "outputs": [
        {
          "output_type": "stream",
          "text": [
            "<ipython-input-127-c89e1f0c5fa0>:40: RuntimeWarning: overflow encountered in exp\n",
            "  Z = sum(np.exp(-evals * beta))\n",
            "<ipython-input-127-c89e1f0c5fa0>:42: RuntimeWarning: overflow encountered in exp\n",
            "  Cv_T = (sum(evals**2 * np.exp(-evals * beta)) / (Z * T**2) - (sum(evals * np.exp(-evals * beta)/(Z * T)))**2) / kB\n",
            "<ipython-input-127-c89e1f0c5fa0>:42: RuntimeWarning: invalid value encountered in double_scalars\n",
            "  Cv_T = (sum(evals**2 * np.exp(-evals * beta)) / (Z * T**2) - (sum(evals * np.exp(-evals * beta)/(Z * T)))**2) / kB\n",
            "<ipython-input-127-c89e1f0c5fa0>:42: RuntimeWarning: invalid value encountered in true_divide\n",
            "  Cv_T = (sum(evals**2 * np.exp(-evals * beta)) / (Z * T**2) - (sum(evals * np.exp(-evals * beta)/(Z * T)))**2) / kB\n"
          ],
          "name": "stderr"
        },
        {
          "output_type": "display_data",
          "data": {
            "image/png": "[encoded data removed]",
            "text/plain": [
              "<Figure size 864x576 with 1 Axes>"
            ]
          },
          "metadata": {
            "tags": [],
            "needs_background": "light"
          }
        }
      ]
    },
    {
      "cell_type": "markdown",
      "metadata": {
        "id": "lfDDaMNC_eh3"
      },
      "source": [
        "## Exact diagonalization of fixed-point Hamiltonian"
      ]
    },
    {
      "cell_type": "code",
      "metadata": {
        "id": "ZH-wBZSd_eh3"
      },
      "source": [
        "def imp_energy(Ek_0, V, J, K, U):\n",
        "    dim = len(Ek_0)\n",
        "    ed = -U/2\n",
        "    imp_ed_up = [create(2)*destroy(2), identity(2)]\n",
        "    imp_ed_dn = [identity(2), create(2)*destroy(2)]\n",
        "    imp_U = [create(2)*destroy(2), create(2)*destroy(2)]\n",
        "    bath = [identity(2)]*2*dim\n",
        "    return ed*tensor(imp_ed_up+bath) + ed*tensor(imp_ed_dn+bath) + U*tensor(imp_U+bath)\n",
        "\n",
        "\n",
        "def kin_en(Ek_0, V, J, K, U):\n",
        "    H = 0\n",
        "    dim = len(Ek_0)\n",
        "    for i in range(dim):\n",
        "        for sigma in [\"u\", \"d\"]:\n",
        "            # print (i, sigma)\n",
        "            imp = [identity(2)]*2\n",
        "            bef = [identity(2)]*2*i\n",
        "            tau = create(2)*destroy(2) - 1/2\n",
        "            curr = [Ek_0[i]*tau, identity(2)] if sigma == \"u\" else [identity(2), Ek_0[i]*tau]\n",
        "            aft = [identity(2)]*2*(dim - i - 1)\n",
        "            mats = imp+bef+curr+aft\n",
        "            H += tensor(mats)\n",
        "    return H\n",
        "\n",
        "\n",
        "def hyb(Ek_0, V, J, K, U):\n",
        "    H = 0\n",
        "    dim = len(Ek_0)\n",
        "    for i in range(dim):\n",
        "        for sigma in [\"u\", \"d\"]:\n",
        "            # print (i, sigma)\n",
        "            tau = create(2)*destroy(2) - 1/2\n",
        "            if sigma == \"u\":\n",
        "                mats1 = [destroy(2), identity(2)] + [identity(2)]*2*i + [create(2), identity(2)] + [identity(2)]*2*(dim - i - 1)\n",
        "                mats2 = [create(2), identity(2)] + [identity(2)]*2*i + [destroy(2), identity(2)] + [identity(2)]*2*(dim - i - 1)\n",
        "            else:\n",
        "                mats1 = [identity(2), destroy(2)] + [identity(2)]*2*i + [identity(2), create(2)] + [identity(2)]*2*(dim - i - 1)\n",
        "                mats2 = [identity(2), create(2)] + [identity(2)]*2*i + [identity(2), destroy(2)] + [identity(2)]*2*(dim - i - 1)\n",
        "            H += -tensor(mats1) + tensor(mats2)\n",
        "    return V * H\n",
        "    \n",
        "    \n",
        "def spin(Ek_0, V, J, K, U):\n",
        "    H = 0\n",
        "    dim = len(Ek_0)\n",
        "    idt = identity(2)\n",
        "    Sdz = 0.5 * (tensor(create(2)*destroy(2), identity(2)) - tensor(identity(2), create(2)*destroy(2)))\n",
        "    Sdplus = tensor(create(2), destroy(2))\n",
        "    Sdmin = -tensor(destroy(2), create(2))\n",
        "    Ksz = Ksplus = Ksmin = 0\n",
        "    for i,j in product(range(dim), range(dim)):\n",
        "        # print (i,j)\n",
        "        if i < j:\n",
        "            Ksz += 0.5 * tensor([idt]*2*i + [create(2), idt] + [idt]*2*(j - i - 1) + [destroy(2), idt] + [idt]*2*(dim - j - 1))\n",
        "            Ksz -= 0.5 * tensor([idt]*2*i + [idt, create(2)] + [idt]*2*(j - i - 1) + [idt, destroy(2)] + [idt]*2*(dim - j - 1))\n",
        "            Ksplus += tensor([idt]*2*i + [create(2), idt] + [idt]*2*(j - i - 1) + [idt, destroy(2)] + [idt]*2*(dim - j - 1))\n",
        "            Ksmin += tensor([idt]*2*i + [idt, destroy(2)] + [idt]*2*(j - i - 1) + [create(2), idt] + [idt]*2*(dim - j - 1))\n",
        "        elif i > j:\n",
        "            Ksz -= 0.5 * tensor([idt]*2*j + [destroy(2), idt] + [idt]*2*(i - j - 1) + [create(2), idt] + [idt]*2*(dim - i - 1))\n",
        "            Ksz += 0.5 * tensor([idt]*2*j + [idt, destroy(2)] + [idt]*2*(i - j - 1) + [idt, create(2)] + [idt]*2*(dim - i - 1))\n",
        "            Ksplus -= tensor([idt]*2*j + [idt, destroy(2)] + [idt]*2*(i - j - 1) + [create(2), idt] + [idt]*2*(dim - i - 1))\n",
        "            Ksmin -= tensor([idt]*2*j + [create(2), idt] + [idt]*2*(i - j - 1) + [idt, destroy(2)] + [idt]*2*(dim - i - 1))\n",
        "        else:\n",
        "            Ksz += 0.5 * tensor([idt]*2*i + [create(2)*destroy(2), idt] + [idt]*2*(dim - i - 1))\n",
        "            Ksz -= 0.5 * tensor([idt]*2*i + [idt, create(2)*destroy(2)] + [idt]*2*(dim - i - 1))\n",
        "            Ksplus += tensor([idt]*2*i + [create(2), destroy(2)] + [idt]*2*(dim - i - 1))\n",
        "            Ksmin -= tensor([idt]*2*i + [destroy(2), create(2)] + [idt]*2*(dim - i - 1))\n",
        "\n",
        "    return J * (tensor(Sdz, Ksz) + 0.5*tensor(Sdplus, Ksmin) + 0.5*tensor(Sdmin, Ksplus))\n",
        "\n",
        "\n",
        "def charge(Ek_0, V, J, K, U):\n",
        "    H = 0\n",
        "    dim = len(Ek_0)\n",
        "    idt = identity(2)\n",
        "    Cdz = 0.5 * (tensor(create(2)*destroy(2), identity(2)) + tensor(identity(2), create(2)*destroy(2)) - 1)\n",
        "    Cdplus = tensor(create(2), create(2))\n",
        "    Cdmin = -tensor(destroy(2), destroy(2))\n",
        "    Kcz = -dim/2\n",
        "    Kcplus = Kcmin = 0\n",
        "    for i,j in product(range(dim), range(dim)):\n",
        "        # print (i,j)\n",
        "        if i < j:\n",
        "            Kcz += 0.5 * tensor([idt]*2*i + [create(2), idt] + [idt]*2*(j - i - 1) + [destroy(2), idt] + [idt]*2*(dim - j - 1))\n",
        "            Kcz += 0.5 * tensor([idt]*2*i + [idt, create(2)] + [idt]*2*(j - i - 1) + [idt, destroy(2)] + [idt]*2*(dim - j - 1))\n",
        "            Kcplus += tensor([idt]*2*i + [create(2), idt] + [idt]*2*(j - i - 1) + [idt, create(2)] + [idt]*2*(dim - j - 1))\n",
        "            Kcmin += tensor([idt]*2*i + [idt, destroy(2)] + [idt]*2*(j - i - 1) + [destroy(2), idt] + [idt]*2*(dim - j - 1))\n",
        "        elif i > j:\n",
        "            Kcz -= 0.5 * tensor([idt]*2*j + [destroy(2), idt] + [idt]*2*(i - j - 1) + [create(2), idt] + [idt]*2*(dim - i - 1))\n",
        "            Kcz -= 0.5 * tensor([idt]*2*j + [idt, destroy(2)] + [idt]*2*(i - j - 1) + [idt, create(2)] + [idt]*2*(dim - i - 1))\n",
        "            Kcplus -= tensor([idt]*2*j + [idt, create(2)] + [idt]*2*(i - j - 1) + [create(2), idt] + [idt]*2*(dim - i - 1))\n",
        "            Kcmin -= tensor([idt]*2*j + [destroy(2), idt] + [idt]*2*(i - j - 1) + [idt, destroy(2)] + [idt]*2*(dim - i - 1))\n",
        "        else:\n",
        "            Kcz += 0.5 * tensor([idt]*2*i + [create(2)*destroy(2), idt] + [idt]*2*(dim - i - 1))\n",
        "            Kcz += 0.5 * tensor([idt]*2*i + [idt, create(2)*destroy(2)] + [idt]*2*(dim - i - 1))\n",
        "            Kcplus += tensor([idt]*2*i + [create(2), create(2)] + [idt]*2*(dim - i - 1))\n",
        "            Kcmin -= tensor([idt]*2*i + [destroy(2), destroy(2)] + [idt]*2*(dim - i - 1))\n",
        "\n",
        "    return K * (tensor(Cdz, Kcz) + 0.5*tensor(Cdplus, Kcmin) + 0.5*tensor(Cdmin, Kcplus))"
      ],
      "execution_count": 3,
      "outputs": []
    },
    {
      "source": [
        "## Spectral Function"
      ],
      "cell_type": "markdown",
      "metadata": {}
    },
    {
      "cell_type": "code",
      "execution_count": null,
      "metadata": {},
      "outputs": [],
      "source": [
        "def rho_at_w(args):\n",
        "    [Em, Emp],[Xm,Xmp] = args\n",
        "    cdag_up = tensor([create(2), identity(2)] + [identity(2)]*2*len(Ek_0))\n",
        "    Vmmp = Xm.dag()*cdag_up*Xmp\n",
        "    Vmmp_sq = np.real((Vmmp*Vmmp.dag())[0][0][0])\n",
        "    x = w - Emp + Em\n",
        "    eta = abs(max(Ek_0))      # width of broadening function\n",
        "    return Vmmp_sq * exp(-(x/eta)**2)/(eta*sqrt(pi)) * (exp(-beta*Em) + exp(-beta*Emp)) / Z\n",
        "\n",
        "Ek_0 = np.array([-0.1, 0.1])\n",
        "# print (Ek_0)\n",
        "U = 0\n",
        "V = 0.019909015762077577\n",
        "J = 0.015838964056748835\n",
        "K = 0\n",
        "plt.rcParams[\"figure.figsize\"]= 12, 4\n",
        "H = kin_en(Ek_0, V, J, K, U)\n",
        "# H += imp_energy(Ek_0, V, J, K, U)\n",
        "H += hyb(Ek_0, V, J, K, U)\n",
        "H += spin(Ek_0, V, J, K, U)\n",
        "H += charge(Ek_0, V, J, K, U)\n",
        "H = 0.5 * (H + H.dag())\n",
        "E, X = H.eigenstates()\n",
        "# E = np.array(E)\n",
        "T = 1\n",
        "kb = 1\n",
        "beta = 1/(kb*T)\n",
        "Z = sum(np.exp(-beta*E))\n",
        "w_range = np.arange(-1,1,0.05)\n",
        "rho = []\n",
        "for w in tqdm(w_range):\n",
        "    rho_w = sum(Pool(processes=10).map(rho_at_w, zip(product(E, E), product(X, X))))\n",
        "    rho.append(rho_w)\n",
        "    # for [Em, Emp],[Xm,Xmp] in zip(product(E, E), product(X, X)):\n",
        "    #     cdag_up = tensor([create(2), identity(2)] + [identity(2)]*2*len(Ek_0))\n",
        "    #     Vmmp = Xm.dag()*cdag_up*Xmp\n",
        "    #     Vmmp_sq = np.real((Vmmp*Vmmp.dag())[0][0][0])\n",
        "    #     x = w - Emp + Em\n",
        "    #     eta = Ek_0[-1]      # width of broadening function\n",
        "    #     rho[-1] += Vmmp_sq * exp(-(x/w)**2)/(w*sqrt(pi)) * (exp(-beta*Em) + exp(-beta*Emp)) / Z    \n",
        "\n",
        "plt.plot(w_range, rho)\n",
        "plt.show()"
      ]
    },
    {
      "cell_type": "markdown",
      "metadata": {
        "id": "w4Njkh7l_eh6"
      },
      "source": [
        "## $C_v$ using these eigenvalues"
      ]
    },
    {
      "cell_type": "code",
      "metadata": {
        "colab": {
          "base_uri": "https://localhost:8080/",
          "height": 1000
        },
        "id": "DcTBAIZ6_eh8",
        "outputId": "3d88e820-bfdf-477b-9afd-155ed76378d2"
      },
      "source": [
        "Ek_0 = np.array([-0.2, -0.1, 0.1, 0.2])\n",
        "# print (Ek_0)\n",
        "U = 0\n",
        "V = 0.019909015762077577\n",
        "J = 0.015838964056748835\n",
        "K = 0\n",
        "plt.rcParams[\"figure.figsize\"]= 12, 4\n",
        "H = kin_en(Ek_0, V, J, K, U)\n",
        "# H += imp_energy(Ek_0, V, J, K, U)\n",
        "H += hyb(Ek_0, V, J, K, U)\n",
        "H += spin(Ek_0, V, J, K, U)\n",
        "H += charge(Ek_0, V, J, K, U)\n",
        "# H = 0.5 * (H + H.dag())\n",
        "evals = H.eigenstates()\n",
        "print (evals[0][0], evals[1][0])\n",
        "return\n",
        "Trange = 10**np.arange(-4, 0.5, 0.01, dtype=float)\n",
        "Cv_imp = []\n",
        "Gamma = []\n",
        "for T in Trange:\n",
        "    kB = 1\n",
        "    beta = 1/(kB * T)\n",
        "    Z = sum(np.exp(-evals * beta))\n",
        "    # Zp = sum(evals * np.exp(-evals * beta))\n",
        "    Cv = (sum(evals**2 * np.exp(-evals * beta)) / (Z * T**2) - (sum(evals * np.exp(-evals * beta)/(Z * T)))**2) / kB\n",
        "    Cv_0 = (sum(Ek_0**2 * np.exp(-Ek_0 * beta)) / (Z * T**2) - (sum(Ek_0 * np.exp(-Ek_0 * beta)/(Z * T)))**2) / kB\n",
        "    Cv_imp.append(Cv - Cv_0)\n",
        "    Gamma.append(Cv_imp[-1]/T)\n",
        "print (\"V=\",V,\"J=\",J)\n",
        "fig,ax = plt.subplots(1,2)\n",
        "ax[0].plot(np.log10(Trange), Cv_imp)\n",
        "# plt.show()\n",
        "ax[1].plot(np.log10(Trange), Gamma)\n",
        "plt.show()"
      ],
      "execution_count": 15,
      "outputs": [
        {
          "output_type": "stream",
          "name": "stdout",
          "text": [
            "(-0.5882669825159965-2.0398953894957502e-19j) Quantum object: dims = [[2, 2, 2, 2, 2, 2, 2, 2, 2, 2], [1, 1, 1, 1, 1, 1, 1, 1, 1, 1]], shape = (1024, 1), type = ket\nQobj data =\n[[0.]\n [0.]\n [0.]\n ...\n [0.]\n [0.]\n [0.]]\n"
          ]
        },
        {
          "output_type": "error",
          "ename": "SyntaxError",
          "evalue": "'return' outside function (<ipython-input-15-6803f391f909>, line 16)",
          "traceback": [
            "\u001b[0;36m  File \u001b[0;32m\"<ipython-input-15-6803f391f909>\"\u001b[0;36m, line \u001b[0;32m16\u001b[0m\n\u001b[0;31m    return\u001b[0m\n\u001b[0m    ^\u001b[0m\n\u001b[0;31mSyntaxError\u001b[0m\u001b[0;31m:\u001b[0m 'return' outside function\n"
          ]
        }
      ]
    },
    {
      "cell_type": "code",
      "execution_count": null,
      "metadata": {},
      "outputs": [],
      "source": []
    }
  ]
}