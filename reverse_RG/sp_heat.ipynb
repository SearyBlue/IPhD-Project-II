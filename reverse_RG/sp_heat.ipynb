{
 "cells": [
  {
   "cell_type": "code",
   "execution_count": 27,
   "metadata": {
    "colab": {
     "base_uri": "https://localhost:8080/"
    },
    "id": "ItCCBwGHQaEI",
    "outputId": "eaa96e66-673b-4138-e8af-eec927f8061b"
   },
   "outputs": [],
   "source": [
    "# !pip install qutip\n",
    "from qutip import *\n",
    "from math import *\n",
    "import itertools\n",
    "from itertools import product\n",
    "import matplotlib\n",
    "from matplotlib import pyplot as plt\n",
    "import numpy as np\n",
    "\n",
    "font = {'size'   : 17}\n",
    "\n",
    "matplotlib.rc('font', **font)\n",
    "matplotlib.rcParams['text.usetex'] = True\n",
    "plt.rcParams[\"figure.figsize\"]= 12, 8\n",
    "#plt.rcParams['figure.dpi'] = 90\n",
    "matplotlib.rcParams['lines.linewidth'] = 4\n",
    "plt.rcParams['axes.grid'] = True\n",
    " "
   ]
  },
  {
   "cell_type": "markdown",
   "metadata": {},
   "source": [
    "## Impurity Specific Heat"
   ]
  },
  {
   "cell_type": "markdown",
   "metadata": {},
   "source": [
    "### 1. From Fermi liquid part of zero mode effective Hamiltonian with $k=0$"
   ]
  },
  {
   "cell_type": "code",
   "execution_count": null,
   "metadata": {
    "tags": []
   },
   "outputs": [],
   "source": [
    "U       =  0\n",
    "J       =  0.4671215288625387\n",
    "K       =  0 # 0.4671215288625387\n",
    "V       =  3.131196040544157\n",
    "count   =  2\n",
    "D       =  0.2\n",
    "# U = 0\n",
    "# j = 1\n",
    "# k = 0.5\n",
    "# v = 1\n",
    "# count = 2\n",
    "\n",
    "# J0 = 0.099\n",
    "# U = 0\n",
    "# V = 1.32072559037062\n",
    "# J = 5.387232452506739\n",
    "# K = 0.011781744590640684\n",
    "# count = 2\n",
    "# D = 0.2\n",
    "\n",
    "N = 2 * count\n",
    "j = J * N\n",
    "k = K * N\n",
    "v = V * sqrt(N)\n",
    "\n",
    "gamma = (3*j + k + 2*U)/(8*v)\n",
    "Eg = -U/2 - 3*j/4 + v * (gamma - sqrt(gamma*2 + 4))\n",
    "# Eg *= 100\n",
    "# Eg = -1\n",
    "Ek_0 = np.array([-0.2, -0.1, 0.1, 0.2])\n",
    "#        q,   qp,   k,   kp\n",
    "\n",
    "f = (J**2/(4*(Eg + J/4)**3) + K**2/(4*(Eg + K/4)**3) - 2*V**2/Eg**3)/(J**2/(4*(Eg + J/4)**2) + K**2/(4*(Eg + K/4)**2) - 2*V**2/Eg**2)\n",
    "# f = (J**2/(4*(Eg + J/4)**3) + K**2/(4*(Eg + K/4)**3) - 2*V**2/Eg**3)\n",
    "\n",
    "Cv = []\n",
    "Cvj = []\n",
    "Cv_imp = []\n",
    "gamma = []\n",
    "Trange = 10**np.arange(-3, 3, 0.1, dtype=float)\n",
    "for T in Trange:\n",
    "    kb = 1\n",
    "    beta = 1/(kb * T)\n",
    "    fd_0 = 1/(1 + np.exp(beta * Ek_0))\n",
    "    E = Ek_0 + 2*f*Ek_0*sum(Ek_0*fd_0)\n",
    "    fd = 1/(1 + np.exp(beta * E))\n",
    "    Z = 2 * sum(np.exp(-beta * E))\n",
    "    diff1 = -2*f*Ek_0*sum(np.exp(beta*Ek_0)*Ek_0**2/(1+np.exp(beta*Ek_0))**2)\n",
    "    diff2 = np.exp(-beta*E)*(E - 2*f*beta*Ek_0*sum(np.exp(beta*Ek_0)*Ek_0**2/(1+np.exp(beta*Ek_0))**2))/(1+np.exp(beta*E))**2\n",
    "    diff3 = -sum(np.exp(-beta*E) * (E + beta*diff1))\n",
    "    Cv = (-beta/T) * 2 * sum((fd*diff1 + E*diff2)/Z - diff3*E*fd/Z**2)\n",
    "    # E = Ek_0\n",
    "    # for i, ek_0 in enumerate(Ek_0):\n",
    "    #     E[i] += 2 * np.abs(sum([f*Ek_0[j]*ek_0*fd[j] for j in range(len(Ek_0))]))\n",
    "    #     # print (ek_0, np.sign(sum([f*Ek_0[j]*ek_0*fd[j] for j in range(len(Ek_0))])))\n",
    "    #     # print (ek_0)\n",
    "    # Cj = 2 * sum(E * (2*E - Ek_0) / (fk/T + 2 * (np.cosh(E/(2*T)))**2)) / T**2\n",
    "    Cv_0 = (-beta/T) * 2 * ((sum(Ek_0*np.exp(-beta*Ek_0))/sum(np.exp(-beta*Ek_0)))**2 - sum(Ek_0**2 * np.exp(-beta*Ek_0))/sum(np.exp(-beta*Ek_0)))\n",
    "    Cv_imp.append(Cv - Cv_0)\n",
    "\n",
    "plt.plot(np.log10(Trange), Cv_imp)\n",
    "# plt.scatter(np.log10(Trange), np.array(Cv), color=\"y\")\n",
    "# plt.xscale(\"log\")\n",
    "plt.show()"
   ]
  },
  {
   "cell_type": "markdown",
   "metadata": {},
   "source": [
    "### 2. From Fermi liquid part of zero mode effective Hamiltonian with $k=0$, interpreting RG flow as reduction in temperature"
   ]
  },
  {
   "cell_type": "code",
   "execution_count": null,
   "metadata": {
    "tags": []
   },
   "outputs": [],
   "source": [
    "U_arr = np.load(\"../spin-charge-symmetrical/U.npy\")\n",
    "J_arr = np.load(\"../spin-charge-symmetrical/J.npy\")\n",
    "K_arr = np.load(\"../spin-charge-symmetrical/K.npy\")\n",
    "V_arr = np.load(\"../spin-charge-symmetrical/V.npy\")\n",
    "count_arr = np.load(\"../spin-charge-symmetrical/count.npy\")\n",
    "D_arr = count_arr/10\n",
    "Cv = []\n",
    "Cvj = []\n",
    "Cv_imp = []\n",
    "for U,J,K,V,count,D in zip(U_arr, J_arr, K_arr, V_arr, count_arr, D_arr):\n",
    "    # if count > 290:\n",
    "    #     print (U,J,K,V,count,D)\n",
    "    N = 2 * count\n",
    "    # K = 0\n",
    "    j = J * N\n",
    "    v = V * sqrt(N)\n",
    "    # k = 0\n",
    "    gamma = (3*j + k + 2*U)/(8*v)\n",
    "    Eg = -U/2 - 3*j/4 + v * (gamma - sqrt(gamma*2 + 4))\n",
    "    # Eg = -1\n",
    "    Ek = np.linspace(-D, D, N, endpoint=True)\n",
    "    fk = ((J**2/(4*(Eg + J/4)**3) - 2*V**2/Eg**3)/(J**2/(4*(Eg + J/4)**2) - 2*V**2/Eg**2)) * Ek**2\n",
    "\n",
    "    T = D\n",
    "    fd = 1/(1 + np.exp(Ek/T))\n",
    "    E = Ek + fk * fd\n",
    "    Cj = 2 * sum(E * (2*E - Ek) / (fk/T + 2 * (np.cosh(E/(2*T)))**2)) / T**2\n",
    "    C = 2 * sum(Ek**2 * np.exp(Ek/T)/((1 + np.exp(Ek/T))**2)) / T**2\n",
    "    Cvj.append((Cj))\n",
    "    Cv.append((C))\n",
    "    Cv_imp.append(Cj - C)\n",
    "\n",
    "plt.plot(D_arr, Cv_imp)\n",
    "# plt.scatter(np.log10(Trange), np.array(Cv), color=\"y\")\n",
    "# plt.xscale(\"log\")\n",
    "plt.show()\n",
    "# print (np.argmax(Cv_imp))"
   ]
  },
  {
   "cell_type": "markdown",
   "metadata": {},
   "source": [
    "### 3. From partition function of zero mode two site Hamiltonian, interpreting RG flow as reduction in temperature"
   ]
  },
  {
   "cell_type": "code",
   "execution_count": null,
   "metadata": {
    "tags": []
   },
   "outputs": [],
   "source": [
    "U_arr = np.load(\"../spin-charge-symmetrical/U.npy\")\n",
    "J_arr = np.load(\"../spin-charge-symmetrical/J.npy\")\n",
    "K_arr = np.load(\"../spin-charge-symmetrical/K.npy\")\n",
    "V_arr = np.load(\"../spin-charge-symmetrical/V.npy\")\n",
    "count_arr = np.load(\"../spin-charge-symmetrical/count.npy\")\n",
    "D_arr = count_arr/10\n",
    "Cv = []\n",
    "for U,J,K,V,count,D in zip(U_arr, J_arr, K_arr, V_arr, count_arr, D_arr):\n",
    "    N = 2 * count\n",
    "    j = J * N\n",
    "    k = K * N\n",
    "    v = V * sqrt(N)\n",
    "    delta = sqrt(2*v**2 + U**2/4)\n",
    "    gamma = (3*j + k + 2*U)/(8*v)\n",
    "    Ep = -U/2 - 3*j/4 + v * (gamma + sqrt(gamma*2 + 4))\n",
    "    Em = -U/2 - 3*j/4 + v * (gamma - sqrt(gamma*2 + 4))\n",
    "    csp = sqrt(sqrt(gamma**2 + 4) - gamma)/sqrt(2*sqrt(gamma**2 + 4))\n",
    "    csm = sqrt(sqrt(gamma**2 + 4) + gamma)/sqrt(2*sqrt(gamma**2 + 4))\n",
    "    ccp = csm\n",
    "    ccm = -csp\n",
    "    evals = np.array([k/4]*2 + [-U/4 + delta/2, -U/4 - delta/2] * 4 + [-U/2 + j/4]*3 + [-3*k/4] + [Ep, Em])\n",
    "    T = D\n",
    "    Z = sum(np.exp(-evals/T))\n",
    "    Zp = sum(evals * np.exp(-evals/T))\n",
    "    # print (Z)\n",
    "    Cv_T = sum(evals**2 * np.exp(-evals/T)) / (Z * T**2) - (sum(evals * np.exp(-evals/T)/(Z * T)))**2\n",
    "    Cv.append(Cv_T)\n",
    "plt.plot((Cv))\n",
    "plt.show()"
   ]
  },
  {
   "cell_type": "markdown",
   "metadata": {},
   "source": [
    "### 4. From partition function of zero mode two site Hamiltonian"
   ]
  },
  {
   "cell_type": "code",
   "execution_count": 127,
   "metadata": {
    "tags": []
   },
   "outputs": [
    {
     "name": "stderr",
     "output_type": "stream",
     "text": [
      "<ipython-input-127-c89e1f0c5fa0>:40: RuntimeWarning: overflow encountered in exp\n",
      "  Z = sum(np.exp(-evals * beta))\n",
      "<ipython-input-127-c89e1f0c5fa0>:42: RuntimeWarning: overflow encountered in exp\n",
      "  Cv_T = (sum(evals**2 * np.exp(-evals * beta)) / (Z * T**2) - (sum(evals * np.exp(-evals * beta)/(Z * T)))**2) / kB\n",
      "<ipython-input-127-c89e1f0c5fa0>:42: RuntimeWarning: invalid value encountered in double_scalars\n",
      "  Cv_T = (sum(evals**2 * np.exp(-evals * beta)) / (Z * T**2) - (sum(evals * np.exp(-evals * beta)/(Z * T)))**2) / kB\n",
      "<ipython-input-127-c89e1f0c5fa0>:42: RuntimeWarning: invalid value encountered in true_divide\n",
      "  Cv_T = (sum(evals**2 * np.exp(-evals * beta)) / (Z * T**2) - (sum(evals * np.exp(-evals * beta)/(Z * T)))**2) / kB\n"
     ]
    },
    {
     "data": {
      "image/png": "[encoded data removed]",
      "text/plain": [
       "<Figure size 864x576 with 1 Axes>"
      ]
     },
     "metadata": {
      "needs_background": "light"
     },
     "output_type": "display_data"
    }
   ],
   "source": [
    "U_arr =  [0, 0, 0, 0, 0.06463131507519854, 0.3832892301648289, 0.81035398312819, 0.9653022499322309, 1]\n",
    "J_arr =  [0.4671215288625387, 0.1610471732413586, 0.09292714506948394, 0.06570355318275373, 0.0515190332875324, 0.04292128519020507, 0.0371787477122733, 0.03307692307692307, 0.03]\n",
    "K_arr =  [0.4671215288625387, 0.1610471732413586, 0.09292714506948394, 0.06570355318275373, 0.0515190332875324, 0.04292128519020507, 0.0371787477122733, 0.03307692307692307, 0.03]\n",
    "V_arr =  [3.31196040544157, 0.8600731642469739, 0.40964223204281247, 0.2526301643610369, 0.17618732751694133, 0.12356402131908403, 0.06672654361752858, 0.032185777536821183, 0.02]\n",
    "count_arr =  [2, 3, 4, 5, 6, 7, 8, 9, 10]\n",
    "D_arr =  [0.2, 0.30000000000000004, 0.4, 0.5, 0.6000000000000001, 0.7000000000000001, 0.8, 0.9, 1.0]\n",
    "D = D_arr[0]\n",
    "J = J_arr[0]\n",
    "K = K_arr[0]\n",
    "U = U_arr[0]\n",
    "V = V_arr[0]\n",
    "\n",
    "V = 0.019909015762077577\n",
    "J = 0.015838964056748835\n",
    "K = 0\n",
    "U = 0\n",
    "\n",
    "count = count_arr[0]\n",
    "N = 2 * count\n",
    "j = J * N\n",
    "k = K * N\n",
    "v = V * sqrt(N)\n",
    "delta = sqrt(2*v**2 + U**2/4)\n",
    "gamma = (3*j + k + 2*U)/(8*v)\n",
    "Eg = -U/2 - 3*j/4 + v * (gamma - sqrt(gamma*2 + 4))\n",
    "Eg *= 100\n",
    "Cv = []\n",
    "Ep = -U/2 - 3*j/4 + v * (gamma + sqrt(gamma*2 + 4))\n",
    "Em = -U/2 - 3*j/4 + v * (gamma - sqrt(gamma*2 + 4))\n",
    "csp = sqrt(sqrt(gamma**2 + 4) - gamma)/sqrt(2*sqrt(gamma**2 + 4))\n",
    "csm = sqrt(sqrt(gamma**2 + 4) + gamma)/sqrt(2*sqrt(gamma**2 + 4))\n",
    "ccp = csm\n",
    "ccm = -csp\n",
    "evals = np.array([k/4]*2 + [-U/4 + delta/2, -U/4 - delta/2] * 4 + [-U/2 + j/4]*3 + [-3*k/4] + [Ep, Em])\n",
    "Trange = 10**np.arange(-4, 0, 0.01, dtype=float)\n",
    "Gamma = []\n",
    "for T in Trange:\n",
    "    kB = 1\n",
    "    beta = 1/(kB * T)\n",
    "    Z = sum(np.exp(-evals * beta))\n",
    "    # Zp = sum(evals * np.exp(-evals * beta))\n",
    "    Cv_T = (sum(evals**2 * np.exp(-evals * beta)) / (Z * T**2) - (sum(evals * np.exp(-evals * beta)/(Z * T)))**2) / kB\n",
    "    Cv.append(Cv_T)\n",
    "    Gamma.append(Cv_T/T)\n",
    "plt.plot(np.log10(Trange), Cv)\n",
    "# plt.plot(np.log10(Trange), Gamma)\n",
    "plt.show()"
   ]
  },
  {
   "cell_type": "markdown",
   "metadata": {},
   "source": [
    "## Exact diagonalization of fixed-point Hamiltonian"
   ]
  },
  {
   "cell_type": "code",
   "execution_count": 124,
   "metadata": {},
   "outputs": [
    {
     "name": "stdout",
     "output_type": "stream",
     "text": [
      "0 u\n",
      "0 d\n",
      "1 u\n",
      "1 d\n",
      "0 u\n",
      "0 d\n",
      "1 u\n",
      "1 d\n",
      "0 0\n",
      "0 1\n",
      "1 0\n",
      "1 1\n",
      "0 0\n",
      "0 1\n",
      "1 0\n",
      "1 1\n"
     ]
    }
   ],
   "source": [
    "def kin_en():\n",
    "    H = 0\n",
    "    dim = len(Ek_0)\n",
    "    for i in range(dim):\n",
    "        for sigma in [\"u\", \"d\"]:\n",
    "            print (i, sigma)\n",
    "            imp = [identity(2)]*2\n",
    "            bef = [identity(2)]*2*i\n",
    "            tau = create(2)*destroy(2) - 1/2\n",
    "            curr = [Ek_0[i]*tau, identity(2)] if sigma == \"u\" else [identity(2), Ek_0[i]*tau]\n",
    "            aft = [identity(2)]*2*(dim - i - 1)\n",
    "            mats = imp+bef+curr+aft\n",
    "            H += tensor(mats)\n",
    "    return H\n",
    "\n",
    "\n",
    "def hyb():\n",
    "    H = 0\n",
    "    dim = len(Ek_0)\n",
    "    for i in range(dim):\n",
    "        for sigma in [\"u\", \"d\"]:\n",
    "            print (i, sigma)\n",
    "            tau = create(2)*destroy(2) - 1/2\n",
    "            if sigma == \"u\":\n",
    "                mats1 = [destroy(2), identity(2)] + [identity(2)]*2*i + [create(2), identity(2)] + [identity(2)]*2*(dim - i - 1)\n",
    "                mats2 = [create(2), identity(2)] + [identity(2)]*2*i + [destroy(2), identity(2)] + [identity(2)]*2*(dim - i - 1)\n",
    "            else:\n",
    "                mats1 = [identity(2), destroy(2)] + [identity(2)]*2*i + [identity(2), create(2)] + [identity(2)]*2*(dim - i - 1)\n",
    "                mats2 = [identity(2), create(2)] + [identity(2)]*2*i + [identity(2), destroy(2)] + [identity(2)]*2*(dim - i - 1)\n",
    "            H += -tensor(mats1) + tensor(mats2)\n",
    "    return V * H\n",
    "    \n",
    "    \n",
    "def spin():\n",
    "    H = 0\n",
    "    dim = len(Ek_0)\n",
    "    idt = identity(2)\n",
    "    Sdz = 0.5 * (tensor(create(2)*destroy(2), identity(2)) - tensor(identity(2), create(2)*destroy(2)))\n",
    "    Sdplus = tensor(create(2), destroy(2))\n",
    "    Sdmin = -tensor(destroy(2), create(2))\n",
    "    Ksz = Ksplus = Ksmin = 0\n",
    "    for i,j in product(range(dim), range(dim)):\n",
    "        print (i,j)\n",
    "        if i < j:\n",
    "            Ksz += 0.5 * tensor([idt]*2*i + [create(2), idt] + [idt]*2*(j - i - 1) + [destroy(2), idt] + [idt]*2*(dim - j - 1))\n",
    "            Ksz -= 0.5 * tensor([idt]*2*i + [idt, create(2)] + [idt]*2*(j - i - 1) + [idt, destroy(2)] + [idt]*2*(dim - j - 1))\n",
    "            Ksplus += tensor([idt]*2*i + [create(2), idt] + [idt]*2*(j - i - 1) + [idt, destroy(2)] + [idt]*2*(dim - j - 1))\n",
    "            Ksmin += tensor([idt]*2*i + [idt, destroy(2)] + [idt]*2*(j - i - 1) + [create(2), idt] + [idt]*2*(dim - j - 1))\n",
    "        elif i > j:\n",
    "            Ksz -= 0.5 * tensor([idt]*2*j + [destroy(2), idt] + [idt]*2*(i - j - 1) + [create(2), idt] + [idt]*2*(dim - i - 1))\n",
    "            Ksz += 0.5 * tensor([idt]*2*j + [idt, destroy(2)] + [idt]*2*(i - j - 1) + [idt, create(2)] + [idt]*2*(dim - i - 1))\n",
    "            Ksplus -= tensor([idt]*2*j + [idt, destroy(2)] + [idt]*2*(i - j - 1) + [create(2), idt] + [idt]*2*(dim - i - 1))\n",
    "            Ksmin -= tensor([idt]*2*j + [create(2), idt] + [idt]*2*(i - j - 1) + [idt, destroy(2)] + [idt]*2*(dim - i - 1))\n",
    "        else:\n",
    "            Ksz += 0.5 * tensor([idt]*2*i + [create(2)*destroy(2), idt] + [idt]*2*(dim - i - 1))\n",
    "            Ksz -= 0.5 * tensor([idt]*2*i + [idt, create(2)*destroy(2)] + [idt]*2*(dim - i - 1))\n",
    "            Ksplus += tensor([idt]*2*i + [create(2), destroy(2)] + [idt]*2*(dim - i - 1))\n",
    "            Ksmin -= tensor([idt]*2*i + [destroy(2), create(2)] + [idt]*2*(dim - i - 1))\n",
    "\n",
    "    return J * (tensor(Sdz, Ksz) + 0.5*tensor(Sdplus, Ksmin) + 0.5*tensor(Sdmin, Ksplus))\n",
    "\n",
    "\n",
    "def charge():\n",
    "    H = 0\n",
    "    dim = len(Ek_0)\n",
    "    idt = identity(2)\n",
    "    Cdz = 0.5 * (tensor(create(2)*destroy(2), identity(2)) + tensor(identity(2), create(2)*destroy(2)) - 1)\n",
    "    Cdplus = tensor(create(2), create(2))\n",
    "    Cdmin = -tensor(destroy(2), destroy(2))\n",
    "    Kcz = -dim/2\n",
    "    Kcplus = Kcmin = 0\n",
    "    for i,j in product(range(dim), range(dim)):\n",
    "        print (i,j)\n",
    "        if i < j:\n",
    "            Kcz += 0.5 * tensor([idt]*2*i + [create(2), idt] + [idt]*2*(j - i - 1) + [destroy(2), idt] + [idt]*2*(dim - j - 1))\n",
    "            Kcz += 0.5 * tensor([idt]*2*i + [idt, create(2)] + [idt]*2*(j - i - 1) + [idt, destroy(2)] + [idt]*2*(dim - j - 1))\n",
    "            Kcplus += tensor([idt]*2*i + [create(2), idt] + [idt]*2*(j - i - 1) + [idt, create(2)] + [idt]*2*(dim - j - 1))\n",
    "            Kcmin += tensor([idt]*2*i + [idt, destroy(2)] + [idt]*2*(j - i - 1) + [destroy(2), idt] + [idt]*2*(dim - j - 1))\n",
    "        elif i > j:\n",
    "            Kcz -= 0.5 * tensor([idt]*2*j + [destroy(2), idt] + [idt]*2*(i - j - 1) + [create(2), idt] + [idt]*2*(dim - i - 1))\n",
    "            Kcz -= 0.5 * tensor([idt]*2*j + [idt, destroy(2)] + [idt]*2*(i - j - 1) + [idt, create(2)] + [idt]*2*(dim - i - 1))\n",
    "            Kcplus -= tensor([idt]*2*j + [idt, create(2)] + [idt]*2*(i - j - 1) + [create(2), idt] + [idt]*2*(dim - i - 1))\n",
    "            Kcmin -= tensor([idt]*2*j + [destroy(2), idt] + [idt]*2*(i - j - 1) + [idt, destroy(2)] + [idt]*2*(dim - i - 1))\n",
    "        else:\n",
    "            Kcz += 0.5 * tensor([idt]*2*i + [create(2)*destroy(2), idt] + [idt]*2*(dim - i - 1))\n",
    "            Kcz += 0.5 * tensor([idt]*2*i + [idt, create(2)*destroy(2)] + [idt]*2*(dim - i - 1))\n",
    "            Kcplus += tensor([idt]*2*i + [create(2), create(2)] + [idt]*2*(dim - i - 1))\n",
    "            Kcmin -= tensor([idt]*2*i + [destroy(2), destroy(2)] + [idt]*2*(dim - i - 1))\n",
    "\n",
    "    return K * (tensor(Cdz, Kcz) + 0.5*tensor(Cdplus, Kcmin) + 0.5*tensor(Cdmin, Kcplus))\n",
    "\n",
    "y = 0.2\n",
    "Ek_0 = np.array([0.1, 0.2])\n",
    "# print (Ek_0)\n",
    "V = 0.019909015762077577\n",
    "J = 0.015838964056748835\n",
    "K = 0\n",
    "H = kin_en()\n",
    "H += hyb()\n",
    "H += spin()\n",
    "H += charge()\n",
    "evals = H.eigenenergies()"
   ]
  },
  {
   "cell_type": "markdown",
   "metadata": {},
   "source": [
    "## $C_v$ using these eigenvalues"
   ]
  },
  {
   "cell_type": "code",
   "execution_count": 125,
   "metadata": {},
   "outputs": [
    {
     "name": "stderr",
     "output_type": "stream",
     "text": [
      "<ipython-input-125-d87e26479916>:6: RuntimeWarning: overflow encountered in exp\n",
      "  Z = sum(np.exp(-evals * beta))\n",
      "<ipython-input-125-d87e26479916>:6: RuntimeWarning: invalid value encountered in cdouble_scalars\n",
      "  Z = sum(np.exp(-evals * beta))\n",
      "<ipython-input-125-d87e26479916>:8: RuntimeWarning: overflow encountered in exp\n",
      "  Cv = (sum(evals**2 * np.exp(-evals * beta)) / (Z * T**2) - (sum(evals * np.exp(-evals * beta)/(Z * T)))**2) / kB\n",
      "<ipython-input-125-d87e26479916>:8: RuntimeWarning: invalid value encountered in multiply\n",
      "  Cv = (sum(evals**2 * np.exp(-evals * beta)) / (Z * T**2) - (sum(evals * np.exp(-evals * beta)/(Z * T)))**2) / kB\n",
      "<ipython-input-125-d87e26479916>:8: RuntimeWarning: invalid value encountered in cdouble_scalars\n",
      "  Cv = (sum(evals**2 * np.exp(-evals * beta)) / (Z * T**2) - (sum(evals * np.exp(-evals * beta)/(Z * T)))**2) / kB\n",
      "<ipython-input-125-d87e26479916>:9: RuntimeWarning: invalid value encountered in cdouble_scalars\n",
      "  Cv_0 = (sum(Ek_0**2 * np.exp(-Ek_0 * beta)) / (Z * T**2) - (sum(Ek_0 * np.exp(-Ek_0 * beta)/(Z * T)))**2) / kB\n",
      "/home/18ip014/miniconda3/lib/python3.9/site-packages/numpy/core/_asarray.py:102: ComplexWarning: Casting complex values to real discards the imaginary part\n",
      "  return array(a, dtype, copy=False, order=order)\n"
     ]
    },
    {
     "data": {
      "image/png": "[encoded data removed]",
      "text/plain": [
       "<Figure size 864x576 with 1 Axes>"
      ]
     },
     "metadata": {
      "needs_background": "light"
     },
     "output_type": "display_data"
    }
   ],
   "source": [
    "Trange = 10**np.arange(-4, 0.5, 0.01, dtype=float)\n",
    "Cv_imp = []\n",
    "for T in Trange:\n",
    "    kB = 1\n",
    "    beta = 1/(kB * T)\n",
    "    Z = sum(np.exp(-evals * beta))\n",
    "    # Zp = sum(evals * np.exp(-evals * beta))\n",
    "    Cv = (sum(evals**2 * np.exp(-evals * beta)) / (Z * T**2) - (sum(evals * np.exp(-evals * beta)/(Z * T)))**2) / kB\n",
    "    Cv_0 = (sum(Ek_0**2 * np.exp(-Ek_0 * beta)) / (Z * T**2) - (sum(Ek_0 * np.exp(-Ek_0 * beta)/(Z * T)))**2) / kB\n",
    "    Cv_imp.append(Cv - Cv_0)\n",
    "#     Gamma.append(Cv_T/T)\n",
    "plt.plot(np.log10(Trange), Cv_imp)\n",
    "# plt.plot(np.log10(Trange), Gamma)\n",
    "plt.show()"
   ]
  },
  {
   "cell_type": "code",
   "execution_count": null,
   "metadata": {},
   "outputs": [],
   "source": []
  }
 ],
 "metadata": {
  "colab": {
   "collapsed_sections": [],
   "name": "reverse.ipynb",
   "provenance": []
  },
  "kernelspec": {
   "display_name": "Python 3",
   "language": "python",
   "name": "python3"
  },
  "language_info": {
   "codemirror_mode": {
    "name": "ipython",
    "version": 3
   },
   "file_extension": ".py",
   "mimetype": "text/x-python",
   "name": "python",
   "nbconvert_exporter": "python",
   "pygments_lexer": "ipython3",
   "version": "3.9.1"
  }
 },
 "nbformat": 4,
 "nbformat_minor": 4
}
