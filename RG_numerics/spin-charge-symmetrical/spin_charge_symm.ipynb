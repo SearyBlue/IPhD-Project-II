{
 "cells": [
  {
   "cell_type": "code",
   "execution_count": 35,
   "id": "floating-capitol",
   "metadata": {},
   "outputs": [],
   "source": [
    "import itertools\n",
    "from tqdm import tqdm\n",
    "from time import sleep\n",
    "from math import sqrt\n",
    "from multiprocessing import Pool\n",
    "from itertools import product\n",
    "import matplotlib\n",
    "from matplotlib import pyplot as plt\n",
    "import numpy as np\n",
    "from qutip import *\n",
    "\n",
    "font = {'size'   : 45}\n",
    "\n",
    "matplotlib.rc('font', **font)\n",
    "matplotlib.rcParams['text.usetex'] = True\n",
    "plt.rcParams[\"figure.figsize\"]= 12, 10\n",
    "matplotlib.rcParams['lines.linewidth'] = 4\n",
    "props = dict(boxstyle='round', ec='black', fc='white', alpha=0.8)\n",
    "\n",
    "deltaD = 0.001\n",
    "rho = 2/deltaD\n",
    "nj = rho*deltaD"
   ]
  },
  {
   "cell_type": "markdown",
   "id": "continued-arrest",
   "metadata": {},
   "source": [
    "## Denominators\n",
    "\n",
    "Defines and evaluates denominators in the RG equations. The denominators in the RG equations are\n",
    "$$\n",
    "d_0 = \\omega - \\frac{D}{2} - \\frac{U}{2} + \\frac{K}{4}, \\quad d_1 = \\omega - \\frac{D}{2} + \\frac{U}{2} + \\frac{J}{4}, \\quad d_2 = \\omega - \\frac{D}{2} + \\frac{J}{4}, \\quad d_3 = \\omega - \\frac{D}{2} + \\frac{K}{4}\n",
    "$$"
   ]
  },
  {
   "cell_type": "code",
   "execution_count": 2,
   "id": "educational-movie",
   "metadata": {},
   "outputs": [],
   "source": [
    "def den(w, D, U, J, K):\n",
    "    d0 = w - D/2 - U/2 + K/4\n",
    "    d1 = w - D/2 + U/2 + J/4\n",
    "    d2 = w - D/2  + J/4\n",
    "    d3 = w - D/2  + K/4\n",
    "    return np.array([d0, d1, d2, d3])"
   ]
  },
  {
   "cell_type": "markdown",
   "id": "dense-plastic",
   "metadata": {},
   "source": [
    "## RG Equations\n",
    "\n",
    "The RG equations for the symmetric spin-charge Anderson-Kondo are \n",
    "$$\n",
    "\\Delta U = 4V^2 n_j\\left(\\frac{1}{d_0} - \\frac{1}{d_1}\\right) - \\frac{n_j}{2}\\left(\\frac{J^2}{d_2} - \\frac{K^2}{d_3}\\right),\\\\\n",
    "\\Delta V = -\\frac{3n_j V}{8}\\left[J\\left(\\frac{1}{d_2} + \\frac{1}{d_1}\\right) + K \\left(\\frac{1}{d_3} + \\frac{1}{d_0}\\right)\\right],\\\\\n",
    "\\Delta J = -\\frac{n_j J^2}{d_2}, \\quad\\quad\\Delta K = -\\frac{n_j K^2}{d_3}\n",
    "$$"
   ]
  },
  {
   "cell_type": "code",
   "execution_count": 3,
   "id": "isolated-price",
   "metadata": {},
   "outputs": [],
   "source": [
    "def rg1(w, D, U, V, J):\n",
    "    K = 0\n",
    "    d0,d1,d2,d3 = den(w, D, U, J, K)\n",
    "    deltaU = 4*V**2*nj*(1/d1 - 1/d0) - nj*J**2/(2*d2) if d1 < 0 else 0\n",
    "    deltaV = -3*nj*V*J*(1/d1 + 1/d2)/8 if d1 < 0 else 0\n",
    "    deltaJ = -nj*J**2/d2\n",
    "\n",
    "    U = 0 if (U + deltaU) * U <= 0 else U + deltaU\n",
    "    V = 0 if (V + deltaV) * V <= 0 else V + deltaV\n",
    "    J = 0 if (J + deltaJ) * J <= 0 else J + deltaJ\n",
    "\n",
    "    return U, V, J\n",
    "\n",
    "def rg2(w, D, U, V, K):\n",
    "    J = 0\n",
    "    d0,d1,d2,d3 = den(w, D, U, J, K)\n",
    "    deltaU = 4*V**2*nj*(1/d1 - 1/d0) + nj*K**2/(2*d3) if d0 < 0 else 0\n",
    "    deltaV = -3*nj*V*K*(1/d0 + 1/d3)/8 if d0 < 0 else 0\n",
    "    deltaK = -nj*K**2/d3\n",
    "\n",
    "    U = 0 if (U + deltaU) * U <= 0 else U + deltaU\n",
    "    V = 0 if (V + deltaV) * V <= 0 else V + deltaV\n",
    "    K = 0 if (K + deltaK) * K <= 0 else K + deltaK\n",
    "\n",
    "    return U, V, K\n",
    "\n",
    "def rg3(w, D, U, V, J):\n",
    "    K = 0\n",
    "    d0,d1,d2,d3 = den(w, D, U, J, K)\n",
    "    deltaU = 4*V**2*nj*(1/d1 - 1/d0) - nj*J**2/(2*d2)\n",
    "    deltaV = -3*nj*V*J*(1/d1 + 1/d2)/8\n",
    "    deltaJ = -nj*J**2/d2\n",
    "\n",
    "    U = 0 if (U + deltaU) * U <= 0 else U + deltaU\n",
    "    V = 0 if (V + deltaV) * V <= 0 else V + deltaV\n",
    "    J = 0 if (J + deltaJ) * J <= 0 else J + deltaJ\n",
    "\n",
    "    return U, V, J"
   ]
  },
  {
   "cell_type": "markdown",
   "id": "damaged-reading",
   "metadata": {},
   "source": [
    "The following function does one complete RG for a given set of bare couplings and returns arrays of the flowing couplings."
   ]
  },
  {
   "cell_type": "code",
   "execution_count": 4,
   "id": "brutal-greene",
   "metadata": {},
   "outputs": [],
   "source": [
    "def complete_RG(w, D0, U0, V0, J0):\n",
    "    U = [U0]\n",
    "    V = [V0]\n",
    "    J = [J0]\n",
    "    E = [D0]\n",
    "    for D in np.arange(D0, 0, -deltaD):\n",
    "        U_j, V_j, J_j = rg1(w, D, U[-1], V[-1], J[-1])\n",
    "        U.append(U_j)\n",
    "        V.append(V_j)\n",
    "        J.append(J_j)\n",
    "        E.append(D - deltaD)\n",
    "        d0,d1,d2,d3 = den(w, E[-1], U[-1], J[-1], 0)\n",
    "        if d2 >= 0:\n",
    "            break\n",
    "        \n",
    "    return np.array(E), np.array(U), np.array(V), np.array(J)\n",
    "\n",
    "def complete_RG2(w, D0, U0, V0, K0):\n",
    "    U = [U0]\n",
    "    V = [V0]\n",
    "    K = [K0]\n",
    "    E = [D0]\n",
    "    for D in np.arange(D0, 0, -deltaD):\n",
    "        U_j, V_j, K_j = rg2(w, D, U[-1], V[-1], K[-1])\n",
    "        U.append(U_j)\n",
    "        V.append(V_j)\n",
    "        K.append(K_j)\n",
    "        E.append(D - deltaD)\n",
    "        d0,d1,d2,d3 = den(w, E[-1], U[-1], 0, K[-1])\n",
    "        if d3 >= 0:\n",
    "            break\n",
    "    return np.array(E), np.array(U), np.array(V), np.array(K)\n",
    "\n",
    "def complete_RG3(w, D0, U0, V0, J0):\n",
    "    U = [U0]\n",
    "    V = [V0]\n",
    "    J = [J0]\n",
    "    E = [D0]\n",
    "    for D in np.arange(D0, 0, -deltaD):\n",
    "        U_j, V_j, J_j = rg3(w, D, U[-1], V[-1], J[-1])\n",
    "        U.append(U_j)\n",
    "        V.append(V_j)\n",
    "        J.append(J_j)\n",
    "        E.append(D - deltaD)\n",
    "        d0,d1,d2,d3 = den(w, E[-1], U[-1], J[-1], 0)\n",
    "        if d2 >= 0:\n",
    "            break\n",
    "        \n",
    "    return np.array(E), np.array(U), np.array(V), np.array(J)"
   ]
  },
  {
   "cell_type": "markdown",
   "id": "86120e6a-0de4-428f-b928-553f38bf09ca",
   "metadata": {},
   "source": [
    "## Positive $U$ regime"
   ]
  },
  {
   "cell_type": "code",
   "execution_count": null,
   "id": "4eebc024-2eca-4f32-8414-406669eea5e0",
   "metadata": {},
   "outputs": [],
   "source": [
    "D0 = 10\n",
    "w = -D0/2\n",
    "U0 = D0/10\n",
    "V0 = D0/100\n",
    "J0 = D0/200\n",
    "E, U, V, J = complete_RG(w, D0, U0, V0, J0)\n",
    "steps = E/D0\n",
    "fig, ax = plt.subplots(1, 3, figsize=(30,8))\n",
    "ax[0].plot(steps, U/D0)\n",
    "ax[0].set_xlabel(r\"\\% of RG completed\")\n",
    "ax[0].set_ylabel(r\"$U/D_0$\")\n",
    "ax[1].plot(steps, V/D0)\n",
    "ax[1].set_xlabel(r\"\\% of RG completed\")\n",
    "ax[1].set_ylabel(r\"$V/D_0$\")\n",
    "ax[1].set_yscale(\"log\")\n",
    "ax[2].plot(steps, J/D0)\n",
    "ax[2].set_xlabel(r\"\\% of RG completed\")\n",
    "ax[2].set_ylabel(r\"$J/D_0$\")\n",
    "ax[2].set_yscale(\"log\")\n",
    "txt = '\\n'.join([r\"$U_0/D_0 = {}$\".format(U0/D0), r\"$V_0/D_0 = {}$\".format(V0/D0), r\"$J_0/D_0 = {}$\".format(J0/D0)])\n",
    "ax[1].text(0.5, 0.8, txt, bbox=props, size=35, horizontalalignment='center', verticalalignment='center', transform=ax[1].transAxes)\n",
    "plt.tight_layout()\n",
    "# plt.savefig(\"U_irr,U>0.pdf\", bbox_inches='tight')\n",
    "U0 = D0/10\n",
    "V0 = D0/200\n",
    "J0 = D0/100\n",
    "E, U, V, J = complete_RG(w, D0, U0, V0, J0)\n",
    "steps = E/D0\n",
    "fig, ax = plt.subplots(1, 3, figsize=(30,8))\n",
    "ax[0].plot(steps, U/D0)\n",
    "ax[0].set_xlabel(r\"\\% of RG completed\")\n",
    "ax[0].set_ylabel(r\"$U/D_0$\")\n",
    "ax[0].set_yscale(\"log\")\n",
    "ax[1].plot(steps, V/D0)\n",
    "ax[1].set_xlabel(r\"\\% of RG completed\")\n",
    "ax[1].set_ylabel(r\"$V/D_0$\")\n",
    "ax[1].set_yscale(\"log\")\n",
    "ax[2].plot(steps, J/D0)\n",
    "ax[2].set_xlabel(r\"\\% of RG completed\")\n",
    "ax[2].set_ylabel(r\"$J/D_0$\")\n",
    "ax[2].set_yscale(\"log\")\n",
    "txt = '\\n'.join([r\"$U_0/D_0 = {}$\".format(U0/D0), r\"$V_0/D_0 = {}$\".format(V0/D0), r\"$J_0/D_0 = {}$\".format(J0/D0)])\n",
    "ax[1].text(0.5, 0.8, txt, bbox=props, size=35, horizontalalignment='center', verticalalignment='center', transform=ax[1].transAxes)\n",
    "plt.tight_layout()\n",
    "# plt.savefig(\"U_rel,U>0.pdf\", bbox_inches='tight')"
   ]
  },
  {
   "cell_type": "code",
   "execution_count": 176,
   "id": "36ab61da-140a-4e3b-aae5-847c2f7b83fd",
   "metadata": {},
   "outputs": [
    {
     "data": {
      "image/png": "[encoded data removed]",
      "text/plain": [
       "<Figure size 864x864 with 1 Axes>"
      ]
     },
     "metadata": {
      "needs_background": "light"
     },
     "output_type": "display_data"
    },
    {
     "data": {
      "image/png": "[encoded data removed]",
      "text/plain": [
       "<Figure size 864x864 with 1 Axes>"
      ]
     },
     "metadata": {
      "needs_background": "light"
     },
     "output_type": "display_data"
    }
   ],
   "source": [
    "Drange = 10**np.linspace(1, 4, 6)\n",
    "U0 = 0.1\n",
    "V0 = 0.1\n",
    "J0 = 0.05\n",
    "plt.figure(figsize=(12,12))\n",
    "for D0 in Drange:\n",
    "    w = -D0/2\n",
    "    E, U, V, J = complete_RG(w, D0, U0, V0, J0)\n",
    "    plt.scatter(D0, V[-1], s=100, marker='o', color='r')\n",
    "plt.xscale(\"log\")\n",
    "plt.yscale(\"log\")\n",
    "plt.ylabel(r\"$V^*$\")\n",
    "plt.xlabel(r\"$D_0$\")\n",
    "txt = '\\n'.join([r\"$\\frac{{U_0}}{{V_0}} = {}$\".format(U0/V0), r\"$\\frac{{J_0}}{{V_0}} = {}$\".format(J0/V0)])\n",
    "plt.text(0.75, 0.2, txt, bbox=props, size=40, horizontalalignment='center', verticalalignment='center', transform=plt.gca().transAxes)\n",
    "plt.savefig(\"Vstar_vs_D_largeV.pdf\", bbox_inches='tight')\n",
    "plt.show()\n",
    "\n",
    "V0 = 0.1\n",
    "J0 = 0.25\n",
    "plt.figure(figsize=(12,12))\n",
    "for D0 in Drange:\n",
    "    w = -D0/2\n",
    "    E, U, V, J = complete_RG(w, D0, U0, V0, J0)\n",
    "    plt.scatter(D0, V[-1], s=100, marker='o', color='r')\n",
    "plt.xscale(\"log\")\n",
    "plt.yscale(\"log\")\n",
    "plt.ylabel(r\"$V^*$\")\n",
    "plt.xlabel(r\"$D_0$\")\n",
    "txt = '\\n'.join([r\"$\\frac{{U_0}}{{V_0}} = {}$\".format(U0/V0), r\"$\\frac{{J_0}}{{V_0}} = {}$\".format(J0/V0)])\n",
    "plt.text(0.75, 0.2, txt, bbox=props, size=40, horizontalalignment='center', verticalalignment='center', transform=plt.gca().transAxes)\n",
    "plt.savefig(\"Vstar_vs_D_smallV.pdf\", bbox_inches='tight')"
   ]
  },
  {
   "cell_type": "markdown",
   "id": "ad57c11c-cdb4-48aa-b128-978f2d2b83d0",
   "metadata": {},
   "source": [
    "## Get phase map of relevance of $U$ in the $J-V$ plane"
   ]
  },
  {
   "cell_type": "code",
   "execution_count": null,
   "id": "5552cb92-0b1a-410e-a8e4-ce16f5801360",
   "metadata": {},
   "outputs": [],
   "source": [
    "def get_rel_V(J0):\n",
    "    rel = []\n",
    "    irr = []\n",
    "    for V0 in 10**np.linspace(-3, 1, 100):\n",
    "        E, U, V, J = complete_RG(w, D0, U0, V0, J0)\n",
    "        if U[-1] > U0:\n",
    "            rel.append(V0/D0)\n",
    "        else:\n",
    "            if V0 == 1e-3:\n",
    "                print (\"Outlier:\", J0/D0)\n",
    "            irr.append(V0/D0)\n",
    "    return rel, irr\n",
    "\n",
    "D0 = 100\n",
    "w = -D0/2\n",
    "U0 = 0.5\n",
    "J0_range = 10**np.linspace(-3, 1, 100)\n",
    "results = list(tqdm(Pool().imap(get_rel_V, J0_range), total=len(J0_range)))\n",
    "for J0, (rel, irr) in zip(J0_range, results):\n",
    "    plt.plot([J0/D0]*len(rel), rel, color='r')\n",
    "    plt.plot([J0/D0]*len(irr), irr, color='b')\n",
    "plt.plot([],[],color='r', label=r\"$U$ relevant\")\n",
    "plt.plot([],[],color='b', label=r\"$U$ irrelevant\")\n",
    "plt.xscale(\"log\")\n",
    "plt.yscale(\"log\")\n",
    "plt.xlabel(r\"$J_0/D_0$\")\n",
    "plt.ylabel(r\"$V_0/D_0$\")\n",
    "plt.legend(loc=2)\n",
    "plt.text(0.75, 0.2, r\"$U_0/D_0 = {}$\".format(U0/D0), bbox=props, size=35, horizontalalignment='center', verticalalignment='center', transform=plt.gca().transAxes)\n",
    "# plt.savefig(\"VvsJ_relvsirr.pdf\", bbox_inches='tight')\n",
    "plt.show()"
   ]
  },
  {
   "cell_type": "markdown",
   "id": "63ef87ea-f776-449a-af7f-73b38670bd0c",
   "metadata": {},
   "source": [
    "## Get phase map of $J^*/V^*$ in $J$ vs $V$"
   ]
  },
  {
   "cell_type": "code",
   "execution_count": null,
   "id": "74f2e7bb-9f42-47d1-a8f0-706505f853b8",
   "metadata": {},
   "outputs": [],
   "source": [
    "def get_rel_JbyV(J0):\n",
    "    rel = []\n",
    "    irr = []\n",
    "    for V0 in 10**np.linspace(-2.5, 0, 50)*J0:\n",
    "        E, U, V, J = complete_RG(w, D0, U0, V0, J0)\n",
    "        if J[-1] > V[-1]:\n",
    "            rel.append(V0/D0)\n",
    "        else:\n",
    "            irr.append(V0/D0)\n",
    "    return rel, irr\n",
    "\n",
    "D0 = 10000\n",
    "w = -D0/2\n",
    "U0 = D0/10\n",
    "J0_range = 10**np.linspace(-2.5, -1, 50)*D0\n",
    "results = list(tqdm(Pool().imap(get_rel_JbyV, J0_range), total=len(J0_range)))\n",
    "for J0, (rel, irr) in zip(J0_range, results):\n",
    "    plt.plot([J0/D0]*len(rel), rel, color='r')\n",
    "    plt.plot([J0/D0]*len(irr), irr, color='b')\n",
    "plt.plot([],[],color='r', label=r\"$J^* > V^*$\")\n",
    "plt.plot([],[],color='b', label=r\"$J^* < V^*$\")\n",
    "plt.xscale(\"log\")\n",
    "plt.yscale(\"log\")\n",
    "plt.xlabel(r\"$J_0/D_0$\")\n",
    "plt.ylabel(r\"$V_0/D_0$\")\n",
    "# plt.plot(J0_range/D0 + 0.5*10**(-3), J0_range/D0, ls='--')\n",
    "plt.legend(loc=2)\n",
    "plt.text(0.75, 0.2, r\"$U_0/D_0 = {}$\".format(U0/D0), bbox=props, size=35, horizontalalignment='center', verticalalignment='center', transform=plt.gca().transAxes)\n",
    "# plt.savefig(\"VvsJ_relvsirr.pdf\", bbox_inches='tight')\n",
    "plt.show()"
   ]
  },
  {
   "cell_type": "markdown",
   "id": "298f39cf-6fff-4cc5-a693-3c982f493168",
   "metadata": {},
   "source": [
    "## Get phase map of relevance of $U$ in the $J-U$ plane"
   ]
  },
  {
   "cell_type": "code",
   "execution_count": null,
   "id": "868c7255-dc1f-48af-b00d-4ac5410af932",
   "metadata": {},
   "outputs": [],
   "source": [
    "def get_rel_U(J0):\n",
    "    rel = []\n",
    "    irr = []\n",
    "    for U0 in 10**np.linspace(-4, 3, 300):\n",
    "        E, U, V, J = complete_RG(w, D0, U0, V0, J0)\n",
    "        if U[-1] > U0:\n",
    "            rel.append(U0/D0)\n",
    "        else:\n",
    "            if U0 == 1e-4:\n",
    "                print (\"Outlier:\", J0/D0)\n",
    "            irr.append(U0/D0)\n",
    "    return rel, irr\n",
    "\n",
    "D0 = 100\n",
    "w = -D0/2\n",
    "V0 = 0.1\n",
    "J0_range = 10**np.linspace(-3, 1, 100)\n",
    "results = list(tqdm(Pool(40).imap(get_rel_U, J0_range), total=len(J0_range)))\n",
    "for J0, (rel, irr) in zip(J0_range, results):\n",
    "    plt.plot([J0/D0]*len(rel), rel, color='r')\n",
    "    plt.plot([J0/D0]*len(irr), irr, color='b')\n",
    "plt.plot([],[],color='r', label=r\"$U$ relevant\")\n",
    "plt.plot([],[],color='b', label=r\"$U$ irrelevant\")\n",
    "plt.xscale(\"log\")\n",
    "plt.yscale(\"log\")\n",
    "plt.xlabel(r\"$J_0/D_0$\")\n",
    "plt.ylabel(r\"$U_0/D_0$\")\n",
    "plt.legend(loc=2)\n",
    "plt.text(0.75, 0.2, r\"$V_0/D_0 = {}$\".format(V0/D0), bbox=props, size=35, horizontalalignment='center', verticalalignment='center', transform=plt.gca().transAxes)\n",
    "# plt.savefig(\"UvsJ_relvsirr.pdf\", bbox_inches='tight')\n",
    "plt.show()"
   ]
  },
  {
   "cell_type": "markdown",
   "id": "9beaaeb3-92e4-48cd-83ab-f6bb616b05da",
   "metadata": {},
   "source": [
    "## Get critical $U$ at partition for given $J$ over range of $J$"
   ]
  },
  {
   "cell_type": "code",
   "execution_count": null,
   "id": "6b3c11fd-c0f3-4ce4-8f1a-44c264a1c09b",
   "metadata": {},
   "outputs": [],
   "source": [
    "def get_Uc(J0):\n",
    "    rel = []\n",
    "    irr = []\n",
    "    for U0 in 10**np.linspace(-6, 3, 200):\n",
    "        E, U, V, J = complete_RG(w, D0, U0, V0, J0)\n",
    "        if U[-1] > U0:\n",
    "            continue\n",
    "        else:\n",
    "            return U0/D0\n",
    "\n",
    "D0 = 100\n",
    "w = -D0\n",
    "V0 = 0.2\n",
    "J0_range = 10**np.linspace(-3.5, 1, 100)\n",
    "Uc = list(tqdm(Pool(40).imap(get_Uc, J0_range), total=len(J0_range)))\n",
    "plt.scatter(J0_range/D0, Uc, color='black', marker='.')\n",
    "plt.xscale(\"log\")\n",
    "plt.yscale(\"log\")\n",
    "plt.xlabel(r\"$J_0/D_0$\")\n",
    "plt.ylabel(r\"$U_c/D_0$\")\n",
    "plt.text(0.75, 0.2, r\"$V_0/D_0 = {}$\".format(V0/D0), bbox=props, size=35, horizontalalignment='center', verticalalignment='center', transform=plt.gca().transAxes)\n",
    "# plt.savefig(\"UcvsJ.pdf\", bbox_inches='tight')\n",
    "plt.show()"
   ]
  },
  {
   "cell_type": "markdown",
   "id": "5364d820-1b2b-474a-8a66-9caff5164e3a",
   "metadata": {},
   "source": [
    "## Get critical $V$ at partition for given $J$ over range of $J$"
   ]
  },
  {
   "cell_type": "code",
   "execution_count": null,
   "id": "23b306c0-57a0-40ad-a955-e4b4534f938a",
   "metadata": {},
   "outputs": [],
   "source": [
    "def get_Vc(J0):\n",
    "    rel = []\n",
    "    irr = []\n",
    "    for V0 in 10**np.linspace(-3, 1, 100):\n",
    "        E, U, V, J = complete_RG(w, D0, U0, V0, J0)\n",
    "        if U[-1] > U0:\n",
    "            continue\n",
    "        else:\n",
    "            return V0/D0\n",
    "\n",
    "D0 = 100\n",
    "w = -D0\n",
    "U0 = 1\n",
    "J0_range = 10**np.linspace(-3, 1, 200)\n",
    "Vc = list(tqdm(Pool(40).imap(get_Vc, J0_range), total=len(J0_range)))\n",
    "plt.scatter(J0_range/D0, Vc, color='black', marker='.')\n",
    "plt.xscale(\"log\")\n",
    "plt.yscale(\"log\")\n",
    "plt.xlabel(r\"$J_0/D_0$\")\n",
    "plt.ylabel(r\"$V_c/D_0$\")\n",
    "plt.text(0.75, 0.2, r\"$U_0/D_0 = {}$\".format(U0/D0), bbox=props, size=35, horizontalalignment='center', verticalalignment='center', transform=plt.gca().transAxes)\n",
    "# plt.savefig(\"VcvsJ.pdf\", bbox_inches='tight')\n",
    "plt.show()"
   ]
  },
  {
   "cell_type": "code",
   "execution_count": null,
   "id": "7e193047-b39f-43a7-98de-82b28454b5f1",
   "metadata": {},
   "outputs": [],
   "source": [
    "def get_Jc(D0):\n",
    "    U0 = D0\n",
    "    V0 = D0/100\n",
    "    J0 = V0/10000\n",
    "    w = -D0\n",
    "    acc = -5\n",
    "    deltaj = 1\n",
    "    while np.log10(abs(deltaj)) > acc:\n",
    "#         print (np.log10(abs(deltaj)))\n",
    "        E, U, V, J = complete_RG(w, D0, U0, V0, J0)\n",
    "        if J[-1]/V[-1] > 1:\n",
    "            deltaj /= -10\n",
    "#             print (deltaj)\n",
    "        J0 += deltaj\n",
    "    \n",
    "    print ((J0 - deltaj)/D0)\n",
    "    return (J0 - deltaj)/D0\n",
    "\n",
    "U0 = 1\n",
    "V0 = 0.1\n",
    "Drange = 10**np.linspace(1, 5, 5)\n",
    "Jc = np.array(list(tqdm(Pool(1).imap(get_Jc, Drange), total=len(Drange))))\n",
    "plt.scatter(Drange, Jc)\n",
    "plt.xscale(\"log\")\n",
    "plt.yscale(\"log\")\n",
    "plt.xlabel(r\"$D_0$\")\n",
    "plt.ylabel(r\"$J_c/D_0$\")\n",
    "plt.text(0.8, 0.8, r\"$U_0/V_0 = {:.2f}$\".format(U0/V0), bbox=props, size=35, horizontalalignment='center', verticalalignment='center', transform=plt.gca().transAxes)\n",
    "# plt.savefig(\"Jc_vs_D0.pdf\", bbox_inches='tight')"
   ]
  },
  {
   "cell_type": "markdown",
   "id": "7caed24b-2d2b-42c0-bdc2-42c8585fd3de",
   "metadata": {},
   "source": [
    "## Get $c_s, c_c$ that characterise ground state, for multiple $J$"
   ]
  },
  {
   "cell_type": "code",
   "execution_count": null,
   "id": "2d37e129-e000-4d7d-9cb8-f5bdc24f279c",
   "metadata": {},
   "outputs": [],
   "source": [
    "def get_cs(J0):\n",
    "    E, U, V, J = complete_RG(w, D0, U0, V0, J0)\n",
    "    N = E[-1]/deltaD\n",
    "    v = V[-1]\n",
    "    j = J[-1]\n",
    "    u = U[-1]\n",
    "    gamma = (3*j/8 + u/4)/v\n",
    "    # print (gamma)\n",
    "    c1sq = (1 + gamma/sqrt(gamma**2 + 4))/2\n",
    "    c2sq = (1 - gamma/sqrt(gamma**2 + 4))/2\n",
    "    return (c1sq, c2sq)"
   ]
  },
  {
   "cell_type": "code",
   "execution_count": null,
   "id": "61988e67-2b8b-4b13-b439-a0f454059ae8",
   "metadata": {},
   "outputs": [],
   "source": [
    "D0 = 100\n",
    "w = -D0/2\n",
    "V0 = D0/100\n",
    "J0_range = 10**np.linspace(-2.5, 0, 100)*D0\n",
    "fig, ax = plt.subplots(1,2, figsize=(25, 10))\n",
    "i = 0\n",
    "for U0 in [D0/1000, D0/10]:\n",
    "    results = list(tqdm(Pool().imap(get_cs, J0_range), total=len(J0_range)))\n",
    "    c1sq_arr = [c1 for c1,c2 in results]\n",
    "    c2sq_arr = [c2 for c1,c2 in results]\n",
    "\n",
    "    ax[i].scatter(J0_range/D0, c1sq_arr, color='r', label=r\"$c_s^2$\")\n",
    "    ax[i].scatter(J0_range/D0, c2sq_arr, color='b', label=r\"$c_c^2$\")\n",
    "\n",
    "    ax[i].set_xscale(\"log\")\n",
    "\n",
    "    ax[i].set_xlabel(r\"$J_0/D_0$\")\n",
    "    ax[i].set_ylabel(r\"$c_s^2$, $c_c^2$\")\n",
    "\n",
    "    txt = '\\n'.join([r\"$U_0/D_0 = {}$\".format(U0/D0), r\"$V_0/D_0 = {}$\".format(V0/D0)])\n",
    "    ax[i].text(0.45, 0.5, txt, bbox=props, size=35, horizontalalignment='center', verticalalignment='center', transform=ax[i].transAxes)\n",
    "    ax[i].axhline(1,0,1, ls=\"--\", color='black', label=r\"$c^2=1$\")\n",
    "    ax[i].axhline(0,0,1, ls=\"--\", color='green', label=r\"$c^2=0$\")\n",
    "    ax[i].legend()\n",
    "    i += 1\n",
    "\n",
    "plt.tight_layout()\n",
    "# plt.savefig(\"coeffs_vs_J.pdf\", bbox_inches='tight')"
   ]
  },
  {
   "cell_type": "markdown",
   "id": "194d5244-b315-4c69-aa9a-d77fe90cae20",
   "metadata": {},
   "source": [
    "## $c_s$ $c_c$ under increase of $D_0$"
   ]
  },
  {
   "cell_type": "code",
   "execution_count": 184,
   "id": "34ae7fdc-6020-4b23-a8ac-a7bf5b3632cc",
   "metadata": {},
   "outputs": [
    {
     "name": "stderr",
     "output_type": "stream",
     "text": [
      "100%|██████████| 5/5 [00:01<00:00,  4.34it/s]\n"
     ]
    },
    {
     "data": {
      "image/png": "[encoded data removed]",
      "text/plain": [
       "<Figure size 864x720 with 1 Axes>"
      ]
     },
     "metadata": {
      "needs_background": "light"
     },
     "output_type": "display_data"
    },
    {
     "name": "stderr",
     "output_type": "stream",
     "text": [
      "100%|██████████| 5/5 [00:00<00:00,  8.07it/s]\n"
     ]
    },
    {
     "data": {
      "image/png": "[encoded data removed]",
      "text/plain": [
       "<Figure size 864x720 with 1 Axes>"
      ]
     },
     "metadata": {
      "needs_background": "light"
     },
     "output_type": "display_data"
    }
   ],
   "source": [
    "Drange = 10**np.linspace(0.5, 4, 5)\n",
    "U0 = 0.1\n",
    "V0 = 0.1\n",
    "J0 = 0.05\n",
    "for D0 in tqdm(Drange):\n",
    "    w = -D0/2\n",
    "    c1sq, c2sq = get_cs(J0)\n",
    "    plt.scatter(D0, c1sq, s=100, color='r')\n",
    "    plt.scatter(D0, c2sq, s=100, color='b', marker='^')\n",
    "\n",
    "plt.scatter([], [], s=100, color='r', label=r'$c_s^2$')\n",
    "plt.scatter([], [], s=100, color='b', label=r'$c_c^2$', marker='^')\n",
    "plt.axhline(1, 0, 1, ls='--', color='r', label=r'$c_s^2=1$')\n",
    "plt.axhline(0, 0, 1, ls='--', color='b', label=r'$c_c^2=0$')\n",
    "plt.legend(loc=5).get_frame().set_edgecolor('black')\n",
    "plt.yticks(np.arange(-0.1, 1.1, 0.2))\n",
    "plt.text(0.45, 0.5, r\"$\\frac{{J_0}}{{V_0}}={}$\".format(J0/V0), bbox=props, size=35, horizontalalignment='center', verticalalignment='center', transform=plt.gca().transAxes)\n",
    "plt.xscale(\"log\")\n",
    "plt.savefig(\"coeffs_vs_D_largeV.pdf\", bbox_inches='tight')\n",
    "plt.show()\n",
    "\n",
    "U0 = 0.1\n",
    "V0 = 0.1\n",
    "J0 = 0.25\n",
    "for D0 in tqdm(Drange):\n",
    "    w = -D0/2\n",
    "    c1sq, c2sq = get_cs(J0)\n",
    "    plt.scatter(D0, c1sq, s=100, color='r')\n",
    "    plt.scatter(D0, c2sq, s=100, color='b', marker='^')\n",
    "\n",
    "plt.scatter([], [], color='r', s=100, label=r'$c_s^2$')\n",
    "plt.scatter([], [], color='b', s=100, label=r'$c_c^2$', marker='^')\n",
    "plt.axhline(1, 0, 1, ls='--', color='r', label=r'$c_s^2=1$')\n",
    "plt.axhline(0, 0, 1, ls='--', color='b', label=r'$c_c^2=0$')\n",
    "plt.legend(loc=5).get_frame().set_edgecolor('black')\n",
    "plt.yticks(np.arange(-0.1, 1.1, 0.2))\n",
    "plt.text(0.45, 0.5, r\"$\\frac{{J_0}}{{V_0}}={}$\".format(J0/V0), bbox=props, size=35, horizontalalignment='center', verticalalignment='center', transform=plt.gca().transAxes)\n",
    "plt.xscale(\"log\")\n",
    "plt.savefig(\"coeffs_vs_D_smallV.pdf\", bbox_inches='tight')"
   ]
  },
  {
   "cell_type": "markdown",
   "id": "30bf8269-af2b-4088-9750-44380ef97348",
   "metadata": {},
   "source": [
    "## $\\gamma$ as a function of $D_0$"
   ]
  },
  {
   "cell_type": "markdown",
   "id": "377ce61c-5edb-4d7f-a6b0-6f3af2435a26",
   "metadata": {},
   "source": [
    "## Compare states to find ground state"
   ]
  },
  {
   "cell_type": "code",
   "execution_count": null,
   "id": "bed29b27-dd7d-444b-9d52-6e05adc83c65",
   "metadata": {},
   "outputs": [],
   "source": [
    "def get_Es(J0):\n",
    "    if U0 > 0:\n",
    "        E, U, V, J = complete_RG(w, D0, U0, V0, J0)\n",
    "        K = [0]\n",
    "    else:\n",
    "        E, U, V, K = complete_RG2(w, D0, U0, V0, K0)\n",
    "        # print (U0, K[-1])\n",
    "        J = [0]\n",
    "    v = V[-1]\n",
    "    j = J[-1]\n",
    "    u = U[-1]\n",
    "    k = K[-1]\n",
    "    gamma = (3*j/8 + k/8 + u/4)/v\n",
    "    delta = np.sqrt(u**2 + 16*v**2)/2\n",
    "    E1 = -u/4 - delta/2\n",
    "    E2 = v*(gamma - np.sqrt(gamma**2 + 4)) - u/2 - 3*j/4\n",
    "    E3 = -3*k/4\n",
    "    return (E1, E2, E3)\n",
    "    \n",
    "    \n",
    "D0 = 300\n",
    "w = -D0/2\n",
    "J0 = 0\n",
    "U0 = -D0/10\n",
    "V0 = D0/50\n",
    "K_rang = 10**np.linspace(-2.4, -1, 100)*D0\n",
    "cols = ['r', 'b', 'g']\n",
    "for K0 in tqdm(K_rang, total=len(K_rang)):\n",
    "    E1, E2, E3 = get_Es(J0)\n",
    "    col = 'r' if E1 < E3 else 'b'\n",
    "    plt.scatter(K0/D0, 0, color=col)\n",
    "\n",
    "plt.axvline(V0/D0, 0, 1, ls='--', color='black', label=r\"$V_0/D_0$\")\n",
    "plt.scatter([], [], color='r', label=r\"$E_1 < E_3$\")\n",
    "plt.scatter([], [], color='b', label=r\"$E_1 > E_3$\")\n",
    "plt.legend()\n",
    "plt.xscale(\"log\")"
   ]
  },
  {
   "cell_type": "markdown",
   "id": "4ab78a45-1256-42f3-9bd1-2c8aa1ad5ea3",
   "metadata": {},
   "source": [
    "## Diagonalise $H$ in order to calculate $\\chi$"
   ]
  },
  {
   "cell_type": "code",
   "execution_count": null,
   "id": "f7e7f04a-ec36-4eb3-9b94-134945c7a78c",
   "metadata": {},
   "outputs": [],
   "source": [
    "def get_ham(U,V,J,K,h1,h2):\n",
    "    n = create(2)*destroy(2)\n",
    "    des = destroy(2)\n",
    "    crt = create(2)\n",
    "    Sz = 0.5 * (tensor(n, identity(2)) - tensor(identity(2), n))\n",
    "    Sp = tensor(crt, des)\n",
    "    Sm = Sp.dag()\n",
    "    Cz = 0.5 * (tensor(n, identity(2)) + tensor(identity(2), n) - 1)\n",
    "    Cp = tensor(crt, crt)\n",
    "    Cm = Cp.dag()\n",
    "    H_U = (-U/2) * tensor(Sz**2, identity(2), identity(2))\n",
    "    H_V = V * tensor(crt, identity(2), des, identity(2)) + V * tensor(identity(2), crt, identity(2), des)\n",
    "    H_V += H_V.dag()\n",
    "    H_J = J * (tensor(Sz, Sz) + 0.5*tensor(Sp, Sm) + 0.5*tensor(Sm, Sp))\n",
    "    H_K = K * (tensor(Cz, Cz) + 0.5*tensor(Cp, Cm) + 0.5*tensor(Cm, Cp))\n",
    "    H_h1 = h1 * tensor(Sz, identity(2), identity(2))\n",
    "    H_h2 = h2 * tensor(Cz, identity(2), identity(2))\n",
    "    return H_U + H_V + H_J + H_K + H_h1 + H_h2"
   ]
  },
  {
   "cell_type": "markdown",
   "id": "8d94c968-ffea-419a-b89e-59149f9277ad",
   "metadata": {},
   "source": [
    "## Calculate $\\chi_s, \\chi_c$"
   ]
  },
  {
   "cell_type": "code",
   "execution_count": null,
   "id": "bc19f9f3-e027-4f4b-a803-393067bf0f2d",
   "metadata": {},
   "outputs": [],
   "source": [
    "def get_Ens(args):\n",
    "    U,V,J,K,h1,h2 = args\n",
    "    H = get_ham(U,V,J,K,h1,h2)\n",
    "    E,_ = H.eigenstates()\n",
    "    return E\n",
    "\n",
    "def get_Z(E, deltah, Trange):\n",
    "    E0, E1, E2 = E\n",
    "    Z = np.array([np.sum(np.exp(-E0/T)) for T in Trange])\n",
    "    ZplusdeltaZ = np.array([np.sum(np.exp(-E1/T)) for T in Trange])\n",
    "    Zplus2deltaZ = np.array([np.sum(np.exp(-E2/T)) for T in Trange])\n",
    "    Zp = (ZplusdeltaZ - Z) / deltah\n",
    "    Zpp = (Zplus2deltaZ + Z - 2 * ZplusdeltaZ) / deltah**2\n",
    "    return Z, Zp, Zpp\n",
    "    \n",
    "\n",
    "def get_chi_spin(U,V,J,K,Trange):\n",
    "    deltah = 1e-1\n",
    "    norm = 1\n",
    "    E0 = get_Ens((U,V,J,K,0,0))/norm\n",
    "    E1 = get_Ens((U,V,J,K,deltah,0))/norm\n",
    "    E2 = get_Ens((U,V,J,K,2*deltah,0))/norm\n",
    "    Z, Zp, Zpp = get_Z((E0, E1, E2), deltah, Trange)\n",
    "    return Trange * (Zpp/Z - (Zp/Z)**2)\n",
    "\n",
    "def get_chi_charge(U,V,J,K,Trange):\n",
    "    deltah = 1e-1\n",
    "    norm = 1\n",
    "    E0 = get_Ens((U,V,J,K,0,0))/norm\n",
    "    E1 = get_Ens((U,V,J,K,0,deltah))/norm\n",
    "    E2 = get_Ens((U,V,J,K,0,2*deltah))/norm\n",
    "    Z, Zp, Zpp = get_Z((E0, E1, E2), deltah, Trange)\n",
    "    return Trange * (Zpp/Z - (Zp/Z)**2)\n",
    "\n",
    "D0 = 100\n",
    "w = -D0/2"
   ]
  },
  {
   "cell_type": "markdown",
   "id": "477f5e9e-9830-4670-8f80-1bce6bb886b6",
   "metadata": {},
   "source": [
    "## $U>0$ regime, $\\chi_s$"
   ]
  },
  {
   "cell_type": "code",
   "execution_count": null,
   "id": "332633cc-9d38-43e4-87b1-ff8b06c1ad79",
   "metadata": {},
   "outputs": [],
   "source": [
    "U0 = D0/10\n",
    "V0 = D0/10\n",
    "J0 = V0*2\n",
    "K = 0\n",
    "\n",
    "E, U, V, J = complete_RG(w, D0, U0, V0, J0)\n",
    "U = U[-1]\n",
    "V = V[-1]\n",
    "J = J[-1]\n",
    "print (U,V,J)\n",
    "\n",
    "Trange = 10**np.linspace(1, 4, 100)\n",
    "chi = get_chi_spin(U,V,J,K,Trange)\n",
    "Trange = Trange[~np.isnan(chi)]\n",
    "chi = chi[~np.isnan(chi)]\n",
    "print (chi[0])\n",
    "plt.scatter(Trange/D0, chi*Trange, color='r')\n",
    "plt.xlabel(r\"$T/D_0$\")\n",
    "plt.ylabel(r\"$\\chi \\times T$\")\n",
    "plt.axhline(1/8, 0, 1, ls=\"--\", color='black')\n",
    "plt.xscale(\"log\")\n",
    "txt = '\\n'.join([r\"$U_0/D_0 = {}$\".format(U0/D0), r\"$V_0/D_0 = {}$\".format(V0/D0), r\"$J_0/D_0 = {}$\".format(J0/D0)])\n",
    "plt.text(0.2, 0.6, txt, bbox=props, size=30, horizontalalignment='center', verticalalignment='center', transform=plt.gca().transAxes)\n",
    "# plt.savefig(\"chiT_J={:.3f}.pdf\".format(J0/D0), bbox_inches='tight')\n",
    "plt.show()"
   ]
  },
  {
   "cell_type": "markdown",
   "id": "54c595a1-3fa4-45a9-bc91-8d18561eb85c",
   "metadata": {},
   "source": [
    "## $U>0$ regime, $\\chi_c$"
   ]
  },
  {
   "cell_type": "code",
   "execution_count": null,
   "id": "6581113b-6074-492c-9956-0365ff99e732",
   "metadata": {},
   "outputs": [],
   "source": [
    "U0 = D0/10\n",
    "V0 = D0/10\n",
    "K = 0\n",
    "names = ('small', 'large')\n",
    "for name, J0 in zip(names, (V0/2, V0*2)):\n",
    "    E, U, V, J = complete_RG(w, D0, U0, V0, J0)\n",
    "    U = U[-1]\n",
    "    V = V[-1]\n",
    "    J = J[-1]\n",
    "    print (U,V,J)\n",
    "    Trange = 10**np.linspace(0, 5, 100)\n",
    "    chi = get_chi_charge(U,V,J,K,Trange)\n",
    "    Trange = Trange[~np.isnan(chi)]\n",
    "    chi = chi[~np.isnan(chi)]\n",
    "    print (chi[0])\n",
    "    plt.scatter(Trange/D0, chi, color='r')\n",
    "    plt.xlabel(r\"$T/D_0$\")\n",
    "    plt.ylabel(r\"$\\chi_c$\")\n",
    "    plt.xscale(\"log\")\n",
    "    txt = '\\n'.join([r\"$U_0/D_0 = {}$\".format(U0/D0), r\"$V_0/D_0 = {}$\".format(V0/D0), r\"$J_0/D_0 = {}$\".format(J0/D0)])\n",
    "    plt.text(0.2, 0.6, txt, bbox=props, size=30, horizontalalignment='center', verticalalignment='center', transform=plt.gca().transAxes)\n",
    "    plt.savefig(\"chiC_posU_J={}.pdf\".format(name), bbox_inches='tight')\n",
    "    plt.show()"
   ]
  },
  {
   "cell_type": "markdown",
   "id": "479ab96a-b7de-44f3-ba1a-643cbaf9af6c",
   "metadata": {},
   "source": [
    "## Calculate $\\chi$ in $U<0$"
   ]
  },
  {
   "cell_type": "code",
   "execution_count": null,
   "id": "a1bcd9a9-3639-4b04-9dda-1ece5032ed86",
   "metadata": {},
   "outputs": [],
   "source": [
    "D0 = 80\n",
    "w = -D0/2\n",
    "J = 0\n",
    "U0 = -D0/10\n",
    "V0 = D0/100\n",
    "K0 = D0/10\n",
    "E, U, V, K = complete_RG2(w, D0, U0, V0, K0)\n",
    "U = U[-1]\n",
    "V = V[-1]\n",
    "K = K[-1]\n",
    "print (U,V,K)\n",
    "\n",
    "deltah = 1e-1\n",
    "norm = 1\n",
    "E0 = get_Ens((U,V,J,K,0,0))/norm\n",
    "print (min(E0))\n",
    "E1 = get_Ens((U,V,J,K,0,deltah))/norm\n",
    "E2 = get_Ens((U,V,J,K,0,2*deltah))/norm\n",
    "Trange = 10**np.linspace(-1, 5, 100)\n",
    "\n",
    "Z = np.array([np.sum(np.exp(-E0/T)) for T in Trange])\n",
    "ZplusdeltaZ = np.array([np.sum(np.exp(-E1/T)) for T in Trange])\n",
    "Zplus2deltaZ = np.array([np.sum(np.exp(-E2/T)) for T in Trange])\n",
    "Zp = (ZplusdeltaZ - Z) / deltah\n",
    "# print (E0)\n",
    "Zpp = (Zplus2deltaZ + Z - 2 * ZplusdeltaZ) / deltah**2\n",
    "chi = Trange * (Zpp/Z - (Zp/Z)**2)\n",
    "\n",
    "plt.scatter(Trange/D0, chi*Trange, color='r')\n",
    "plt.axhline(1/8, 0, 1, ls=\"--\", color='b', label=r\"$\\frac{1}{8}$\")\n",
    "# plt.yscale(\"log\")\n",
    "plt.legend()\n",
    "plt.xlabel(r\"$T/D_0$\")\n",
    "plt.ylabel(r\"$\\chi_c \\times T$\")\n",
    "plt.xscale(\"log\")\n",
    "txt = '\\n'.join([r\"$U_0/D_0 = {}$\".format(U0/D0), r\"$V_0/D_0 = {}$\".format(V0/D0), r\"$K_0/D_0 = {}$\".format(K0/D0)])\n",
    "plt.text(0.2, 0.6, txt, bbox=props, size=30, horizontalalignment='center', verticalalignment='center', transform=plt.gca().transAxes)\n",
    "# plt.savefig(\"chi_chargeT_K={:.3f}.pdf\".format(K0/D0), bbox_inches='tight')"
   ]
  },
  {
   "cell_type": "markdown",
   "id": "6899f825-bf95-47f8-95a7-df88370f17b6",
   "metadata": {},
   "source": [
    "## Specific Heat $C_V$"
   ]
  },
  {
   "cell_type": "code",
   "execution_count": 5,
   "id": "0155b898-989a-4c89-bad6-e2931d751078",
   "metadata": {},
   "outputs": [],
   "source": [
    "def get_full_ham(t, dim, U, V, J):\n",
    "    n = create(2)*destroy(2)\n",
    "    des = destroy(2)\n",
    "    crt = create(2)\n",
    "    \n",
    "    Sz = 0.5 * (tensor(n, identity(2)) - tensor(identity(2), n))\n",
    "    Sp = tensor(crt, des)\n",
    "    Sm = Sp.dag()\n",
    "    \n",
    "    Cz = 0.5 * (tensor(n, identity(2)) + tensor(identity(2), n) - 1)\n",
    "    Cp = tensor(crt, crt)\n",
    "    Cm = Cp.dag()\n",
    "    \n",
    "    H_U = (-U/2) * tensor([Sz**2] + [identity(2)]*2*dim)\n",
    "    \n",
    "    H_V = V * tensor([tensor(crt, identity(2), des, identity(2)) + tensor(identity(2), crt, identity(2), des)] + [identity(2)]*2*(dim - 1))\n",
    "    H_V += H_V.dag()\n",
    "    \n",
    "    H_J = J * tensor([tensor(Sz, Sz) + 0.5*tensor(Sp, Sm) + 0.5*tensor(Sm, Sp)] + [identity(2)]*2*(dim - 1))\n",
    "    \n",
    "    H_K = 0\n",
    "    for i in range(0, dim):\n",
    "        if i < dim - 1:\n",
    "            H_K += -t * tensor([identity(2)]*2*(1+i) + [crt, identity(2)] + [des, identity(2)] + [identity(2)]*2*(dim - i - 2))\n",
    "            H_K += -t * tensor([identity(2)]*2*(1+i) + [identity(2), crt] + [identity(2), des] + [identity(2)]*2*(dim - i - 2))\n",
    "        else:\n",
    "            H_K += -t * tensor([identity(2)]*2*(1) + [des, identity(2)] + [identity(2)]*2*(dim - 2) + [crt, identity(2)])\n",
    "            H_K += -t * tensor([identity(2)]*2*(1) + [identity(2), des] + [identity(2)]*2*(dim - 2) + [identity(2), crt])\n",
    "    H_K = H_K + H_K.dag()\n",
    "    \n",
    "    H = H_K + H_U + H_V + H_J\n",
    "    return H"
   ]
  },
  {
   "cell_type": "code",
   "execution_count": 78,
   "id": "d3d31cbc-ef92-4b5d-a3f9-41e89e1931b6",
   "metadata": {},
   "outputs": [
    {
     "name": "stderr",
     "output_type": "stream",
     "text": [
      "  0%|          | 0/500 [00:00<?, ?it/s]<ipython-input-78-b714bac89f5c>:3: RuntimeWarning: overflow encountered in exp\n",
      "  E_avg_T = np.sum(Ens*np.exp(-Ens/T))/np.sum(np.exp(-Ens/T))\n",
      "<ipython-input-78-b714bac89f5c>:3: RuntimeWarning: invalid value encountered in double_scalars\n",
      "  E_avg_T = np.sum(Ens*np.exp(-Ens/T))/np.sum(np.exp(-Ens/T))\n",
      "<ipython-input-78-b714bac89f5c>:5: RuntimeWarning: overflow encountered in exp\n",
      "  E_avg_T_plus_deltaT = np.sum(Ens*np.exp(-Ens/T))/np.sum(np.exp(-Ens/T))\n",
      "<ipython-input-78-b714bac89f5c>:5: RuntimeWarning: invalid value encountered in double_scalars\n",
      "  E_avg_T_plus_deltaT = np.sum(Ens*np.exp(-Ens/T))/np.sum(np.exp(-Ens/T))\n",
      "<ipython-input-78-b714bac89f5c>:5: RuntimeWarning: overflow encountered in multiply\n",
      "  E_avg_T_plus_deltaT = np.sum(Ens*np.exp(-Ens/T))/np.sum(np.exp(-Ens/T))\n",
      "<ipython-input-78-b714bac89f5c>:3: RuntimeWarning: overflow encountered in multiply\n",
      "  E_avg_T = np.sum(Ens*np.exp(-Ens/T))/np.sum(np.exp(-Ens/T))\n",
      "100%|██████████| 500/500 [00:00<00:00, 5518.81it/s]"
     ]
    },
    {
     "name": "stdout",
     "output_type": "stream",
     "text": [
      "ED Done\n"
     ]
    },
    {
     "name": "stderr",
     "output_type": "stream",
     "text": [
      "\n"
     ]
    },
    {
     "data": {
      "image/png": "[encoded data removed]",
      "text/plain": [
       "<Figure size 864x720 with 1 Axes>"
      ]
     },
     "metadata": {
      "needs_background": "light"
     },
     "output_type": "display_data"
    }
   ],
   "source": [
    "def get_Cv(T):\n",
    "    deltaT = T/100\n",
    "    E_avg_T = np.sum(Ens*np.exp(-Ens/T))/np.sum(np.exp(-Ens/T))\n",
    "    T += deltaT\n",
    "    E_avg_T_plus_deltaT = np.sum(Ens*np.exp(-Ens/T))/np.sum(np.exp(-Ens/T))\n",
    "    C_V_T = (E_avg_T_plus_deltaT - E_avg_T)/deltaT\n",
    "    return C_V_T\n",
    "\n",
    "D0 = 1000\n",
    "w = -D0/2\n",
    "U0 = D0/10\n",
    "J0 = D0/10\n",
    "V0 = D0/20\n",
    "dim = 4\n",
    "E,U,V,J = complete_RG(w, D0, U0, V0, J0)\n",
    "U = U[-1]\n",
    "V = V[-1]\n",
    "J = J[-1]\n",
    "t = J/150\n",
    "# print (U,V,J)\n",
    "H = get_full_ham(t, dim, U, V, J)\n",
    "Ens, X = H.eigenstates()\n",
    "print (\"ED Done\")\n",
    "Trange = 10**np.linspace(-2, 5, 500)\n",
    "Cv = []\n",
    "for T in tqdm(Trange):\n",
    "    Cv.append(get_Cv(T))\n",
    "plt.scatter(Trange/D0, Cv)\n",
    "plt.xlabel(r\"$T/D_0$\")\n",
    "plt.ylabel(r\"$C_{{imp}}$\")\n",
    "plt.xscale(\"log\")\n",
    "txt = '\\n'.join([r\"$U_0/D_0 = {}$\".format(U0/D0), r\"$V_0/D_0 = {}$\".format(V0/D0), r\"$J_0/D_0 = {}$\".format(J0/D0)])\n",
    "plt.text(0.2, 0.8, txt, bbox=props, size=30, horizontalalignment='center', verticalalignment='center', transform=plt.gca().transAxes)\n",
    "plt.savefig(\"Cv.pdf\", bbox_inches='tight')\n",
    "plt.show()"
   ]
  },
  {
   "cell_type": "markdown",
   "id": "interpreted-thinking",
   "metadata": {},
   "source": [
    "# 1. $V=0$\n",
    "\n",
    "First we will look at the simplified case of $V=0$. Since the RG equation for $V$ involves $V$, it will not flow. We need to look only at $U$, $J$ and $K$. Depending on the value of $\\omega$, the denominator can be either positive or negative. We look at the two cases separately."
   ]
  },
  {
   "cell_type": "code",
   "execution_count": null,
   "id": "422604f7-09d0-43e2-920e-9d6eb2a1b013",
   "metadata": {},
   "outputs": [],
   "source": [
    "D0 = 20\n",
    "V0 = 0"
   ]
  },
  {
   "cell_type": "code",
   "execution_count": null,
   "id": "62a6d7e3-d9bf-4dee-9e4d-eacc6e38ca70",
   "metadata": {},
   "outputs": [],
   "source": [
    "def plot(x,y,ylabels,locn,bare,log=[]):\n",
    "    if log == []:\n",
    "        log = [0]*len(y)\n",
    "    for yi,yl,logi in zip(y, ylabels, log):\n",
    "        plt.plot(x,yi)\n",
    "        plt.ylabel(yl)\n",
    "        plt.xlabel(r'RG Step')\n",
    "        text = '\\n'.join([r\"$J_0={}, K_0={}, V_0 = {}$,\".format(*bare[:3]), r\"$U_0={}, D_0={}, \\omega={}\\times D$\".format(*bare[3:])])\n",
    "        plt.text(locn[0], locn[1], text, bbox=props, size=25, horizontalalignment='center', verticalalignment='center', transform=plt.gca().transAxes)\n",
    "        plt.tight_layout()\n",
    "        if logi == 1:\n",
    "            plt.yscale(\"log\")\n",
    "        plt.show()\n"
   ]
  },
  {
   "cell_type": "markdown",
   "id": "forbidden-capitol",
   "metadata": {},
   "source": [
    "## a. $\\omega - \\frac{\\epsilon_q}{2} + \\frac{1}{4}J + \\frac{1}{4}K>0$ (high $\\omega$):\n",
    "\n",
    "These aren't truly URG fixed points because the denominator will not converge towards zero."
   ]
  },
  {
   "cell_type": "markdown",
   "id": "reasonable-bouquet",
   "metadata": {},
   "source": [
    "### i. $J=K$\n",
    "\n",
    "Since $\\Delta U \\propto K^2 - J^2$, $U$ will be marginal here."
   ]
  },
  {
   "cell_type": "code",
   "execution_count": null,
   "id": "hybrid-parker",
   "metadata": {},
   "outputs": [],
   "source": [
    "U0 = 1\n",
    "J0 = K0 = 0.1\n",
    "E,U,V,J,K = complete_RG(lambda x: x, D0, U0, V0, J0, K0)\n",
    "steps = np.array(E)/D0\n",
    "plot(steps, (U, J), (r\"$U$\", r\"$J$\"), (0.4,0.8), (J0, K0, 0, U0, D0, 1))"
   ]
  },
  {
   "cell_type": "markdown",
   "id": "dependent-calcium",
   "metadata": {},
   "source": [
    "### ii. $J > K$\n",
    "\n",
    "$U$ will be irrelevant here."
   ]
  },
  {
   "cell_type": "code",
   "execution_count": null,
   "id": "modified-supervision",
   "metadata": {},
   "outputs": [],
   "source": [
    "U0 = 6\n",
    "J0 = 0.02\n",
    "K0 = 0.01\n",
    "E,U,V,J,K = complete_RG(lambda x: x, D0, U0, V0, J0, K0)\n",
    "steps = np.array(E)/D0\n",
    "plot(steps, (U, J, K), (r\"$U$\", r\"$J$\", r\"$K$\"), (0.4,0.8), (J0, K0, 0, U0, D0, 1))"
   ]
  },
  {
   "cell_type": "markdown",
   "id": "unsigned-campbell",
   "metadata": {},
   "source": [
    "### iii. $J < K$\n",
    "\n",
    "$U$ will be relevant here."
   ]
  },
  {
   "cell_type": "code",
   "execution_count": null,
   "id": "precious-proceeding",
   "metadata": {},
   "outputs": [],
   "source": [
    "U0 = 0.1\n",
    "J0 = 0.02\n",
    "K0 = 0.03\n",
    "\n",
    "E,U,V,J,K = complete_RG(lambda x:x, D0, U0, V0, J0, K0)\n",
    "steps = np.array(E)/D0\n",
    "plot(steps, (U, J), (r\"$U$\", r\"$J$\"), (0.3,0.5), (J0, K0, 0, U0, D0, 1), log=[1,1])"
   ]
  },
  {
   "cell_type": "markdown",
   "id": "green-karen",
   "metadata": {},
   "source": [
    "## b. $\\omega - \\frac{\\epsilon_q}{2} + \\frac{1}{4}J + \\frac{1}{4}K<0$ (low $\\omega$):\n",
    "\n",
    "This is the regime where we achieve true strong-coupling fixed points in $J,K$. The signature of $K^2 - J^2$ will determine whether $U$ is relevant or irrelevant."
   ]
  },
  {
   "cell_type": "markdown",
   "id": "standard-serbia",
   "metadata": {},
   "source": [
    "### i. $J>K$"
   ]
  },
  {
   "cell_type": "code",
   "execution_count": null,
   "id": "dressed-consortium",
   "metadata": {},
   "outputs": [],
   "source": [
    "U0 = 0.01\n",
    "J0 = 0.05\n",
    "K0 = 0.04\n",
    "\n",
    "E,U,V,J,K = complete_RG(lambda x:-x, D0, U0, V0, J0, K0)\n",
    "steps = np.array(E)/D0\n",
    "\n",
    "plot(steps, (U, J, K), (r\"$U$\", r\"$J$\", r\"$K$\"), (0.6,0.8), (J0, K0, 0, U0, D0, -0.5), log=[1,1,1])"
   ]
  },
  {
   "cell_type": "markdown",
   "id": "australian-arthritis",
   "metadata": {},
   "source": [
    "### i. $J<K$"
   ]
  },
  {
   "cell_type": "code",
   "execution_count": null,
   "id": "ordinary-delhi",
   "metadata": {},
   "outputs": [],
   "source": [
    "U0 = 20\n",
    "J0 = 0.01\n",
    "K0 = 0.1\n",
    "\n",
    "E,U,V,J,K = complete_RG(lambda x: -x, D0, U0, V0, J0, K0)\n",
    "steps = np.array(E)/D0\n",
    "\n",
    "plot(steps, (U, J, K), (r\"$U$\", r\"$J$\", r\"$K$\"), (0.7,0.5), (J0, K0, 0, U0, D0, -1), log=[0,1,1])"
   ]
  },
  {
   "cell_type": "markdown",
   "id": "neural-parker",
   "metadata": {},
   "source": [
    "To wrap up the $V=0$ case, we look at an RG-invariant:\n",
    "\n",
    "$\\frac{\\Delta J}{\\Delta K} = \\frac{J^2}{K^2} \\implies \\frac{1}{J} - \\frac{1}{K} = \\frac{1}{J_0} - \\frac{1}{K_0}$\n",
    "\n",
    "Note that this is an invariant even when $V$ is turned on."
   ]
  },
  {
   "cell_type": "code",
   "execution_count": null,
   "id": "downtown-lingerie",
   "metadata": {},
   "outputs": [],
   "source": [
    "w = lambda x:0\n",
    "U0 = 1\n",
    "J0 = 0.01\n",
    "K0 = 0.02\n",
    "E,U,V,J,K = complete_RG(w, D0, U0, V0, J0, K0)\n",
    "plt.xlabel(r\"$K$\")\n",
    "plt.ylabel(r\"$J$\")\n",
    "plt.plot(K, J, label=r'$J<K$')\n",
    "J0 = 0.02\n",
    "K0 = 0.01\n",
    "E,U,V,J,K = complete_RG(w, D0, U0, V0, J0, K0)\n",
    "plt.plot(K, J, label=r'$J>K$')\n",
    "J0 = 0.01\n",
    "K0 = 0.01\n",
    "E,U,V,J,K = complete_RG(w, D0, U0, V0, J0, K0)\n",
    "plt.plot(K, J, label=r'$J=K$')\n",
    "plt.xscale(\"log\")\n",
    "plt.yscale(\"log\")\n",
    "plt.legend()\n",
    "plt.title(r\"$\\omega = {}, U_0 = {}, D_0={}$\".format(0, U0, D0))\n",
    "plt.show()"
   ]
  },
  {
   "cell_type": "markdown",
   "id": "literary-murder",
   "metadata": {},
   "source": [
    "# 2. $V > 0$\n",
    "\n",
    "$$\n",
    "\t\\Delta U = 4|V|^2 \\left[\\frac{1}{\\omega - \\frac{\\epsilon_q}{2} + \\frac{U}{2} + \\frac{1}{2}J}  - \\frac{1}{\\omega - \\frac{\\epsilon_q}{2} - \\frac{U}{2} + \\frac{1}{2}K}\\right] + \\sum_{k<\\Lambda_j} \\frac{3}{4}\\frac{K^2 - J^2}{\\omega - \\frac{\\epsilon_q}{2} + \\frac{1}{4}J + \\frac{1}{4}K}\n",
    "$$\n",
    "$$\n",
    "\t\\Delta V = \\frac{V K}{16}\\left(\\frac{1}{\\omega - \\frac{\\epsilon_q}{2} - \\frac{U}{2} + \\frac{1}{2}K} + \\frac{1}{\\omega - \\frac{\\epsilon_q}{2} + \\frac{1}{4}J + \\frac{1}{4}K} \\right) - \\frac{3VJ}{4}\\left( \\frac{1}{\\omega - \\frac{\\epsilon_q}{2} + \\frac{U}{2} + \\frac{1}{2}J} + \\frac{1}{\\omega - \\frac{\\epsilon_q}{2} + \\frac{1}{4}J + \\frac{1}{4}K} \\right)\n",
    "$$\n",
    "$$\n",
    "\t\\Delta J = - \\frac{J^2}{\\omega - \\frac{\\epsilon_q}{2} + \\frac{1}{4}J + \\frac{1}{4}K}\n",
    "$$\n",
    "$$\n",
    "\t\\Delta K = - \\frac{K^2}{\\omega - \\frac{\\epsilon_q}{2} + \\frac{1}{4}J + \\frac{1}{4}K}\n",
    "$$"
   ]
  },
  {
   "cell_type": "markdown",
   "id": "55f39b7f-9557-4f30-90f8-9c4225f773ce",
   "metadata": {},
   "source": [
    "## $U>0, 0 < J = -K$"
   ]
  },
  {
   "cell_type": "code",
   "execution_count": null,
   "id": "c73f2d97-e08b-4263-9754-87a0eac6dbb8",
   "metadata": {},
   "outputs": [],
   "source": [
    "D0 = 50\n",
    "V0 = D0/10\n",
    "J0 = V0\n",
    "K0 = -J0/1.2"
   ]
  },
  {
   "cell_type": "markdown",
   "id": "058f3193-1c49-43fd-9b59-f9a7f8dd5b6c",
   "metadata": {},
   "source": [
    "### $\\omega < \\frac{D_0}{2} - U$"
   ]
  },
  {
   "cell_type": "code",
   "execution_count": null,
   "id": "0b34ba23-f8d4-4b65-af2c-49f47e945e5d",
   "metadata": {},
   "outputs": [],
   "source": [
    "w0 = -D0/2 - abs(J0)/4 - abs(K0)/4 - abs(U0)/2"
   ]
  },
  {
   "cell_type": "code",
   "execution_count": null,
   "id": "fee5c251-3695-4c1a-94f1-41f6ca8d0917",
   "metadata": {},
   "outputs": [],
   "source": [
    "def get_bounds(U0):\n",
    "    w0 = -D0/2 - abs(J0)/4 - abs(K0)/4 - abs(U0)/2\n",
    "    lower = []\n",
    "    upper = []\n",
    "    for wi in w0*10**np.linspace(3, -3, 50):\n",
    "        w = lambda x: wi\n",
    "        E,U,V,J,K = complete_RG(w, D0, U0, V0, J0, K0)\n",
    "        if U[-1] >= U0:\n",
    "            lower.append((wi, 1))\n",
    "        else:\n",
    "            # print (0)\n",
    "            lower.append((wi, 0))\n",
    "    return lower\n",
    "    # for wi in np.linspace(w0, w0*1e5, 10000):\n",
    "    #     w = lambda x: wi\n",
    "    #     E,U,V,J,K = complete_RG(w, D0, U0, V0, J0, K0)\n",
    "    #     if U[-1] >= U0:\n",
    "    #         upper = w(0)\n",
    "    #         break\n",
    "    # return (lower, upper)\n",
    "\n",
    "U0_range = D0*10**np.linspace(-3, 3, 30)\n",
    "up = []\n",
    "lw = []\n",
    "# for bound in list(tqdm(Pool().imap(get_bounds, U0_range), total=len(U0_range))):\n",
    "#     up.append(bound[1])\n",
    "#     lw.append(bound[0])\n",
    "\n",
    "plt.figure(figsize=(30,20))\n",
    "\n",
    "spectrum = list(tqdm(Pool().imap(get_bounds, U0_range), total=len(U0_range)))\n",
    "for U0, state in zip(U0_range, spectrum):\n",
    "    rel = []\n",
    "    irr = []\n",
    "    for wi, sign in state:\n",
    "        # print (wi)\n",
    "        if sign == 0:\n",
    "            irr.append(wi)\n",
    "            # print (irr[-1])\n",
    "        else:\n",
    "            rel.append(wi)\n",
    "    plt.scatter([U0/D0]*len(irr), -np.array(irr), color='b')\n",
    "    plt.scatter([U0/D0]*len(rel), -np.array(rel), color='r')  \n",
    "        \n",
    "# up = np.array(up)\n",
    "# lw = np.array(lw)\n",
    "\n",
    "# plt.plot(U0_range/D0, -up/D0, color='r', label=r'$-\\omega_{c,+}/D_0$')\n",
    "# plt.plot(U0_range/D0, -lw/D0, color='b', label=r'$-\\omega_{c,-}/D_0$')\n",
    "# plt.xlabel(r\"$U_0/D_0$\")\n",
    "# plt.ylabel(r\"$-\\omega_c/D_0$\")\n",
    "plt.xscale(\"log\")\n",
    "plt.yscale(\"log\")\n",
    "# plt.legend()\n",
    "# plt.text(0.22, 0.5,'\\n'.join([r\"$V_0/D_0={:.2f}$\".format(V0/D0), r\"$J_0/D_0={:.2f}$\".format(J0/D0), r\"$K_0/D_0={:.3f}$\".format(K0/D0)]), bbox=props, horizontalalignment='center', verticalalignment='center', transform=plt.gca().transAxes)\n",
    "plt.show()"
   ]
  },
  {
   "cell_type": "code",
   "execution_count": null,
   "id": "abd2ca90-c574-456d-8a62-6f40f6ffee23",
   "metadata": {},
   "outputs": [],
   "source": [
    "D0 = 10\n",
    "V0 = D0/40\n",
    "J0 = V0\n",
    "K0 = -J0/2\n",
    "U0 = 10\n",
    "w0 = -D0/2 - abs(J0)/4 - abs(K0)/4 - abs(U0)/2\n",
    "lw, up = get_bounds(U0)\n",
    "print (lw, up, (lw + up)/2)\n",
    "for wi in (lw/3, -50, up):\n",
    "    fig, ax = plt.subplots(1,3, figsize=(30,6))\n",
    "    w = lambda x: wi\n",
    "    E,U,V,J,K = complete_RG(w, D0, U0, V0, J0, K0)\n",
    "    steps = np.array(E)/D0\n",
    "    ax[0].plot(steps, U)\n",
    "    ax[0].set_ylabel(r\"$U$\")\n",
    "    ax[1].plot(steps, V)\n",
    "    ax[1].set_ylabel(r\"$V$\")\n",
    "    ax[2].plot(steps, J)\n",
    "    ax[2].set_ylabel(r\"$J$\")\n",
    "    plt.show()"
   ]
  },
  {
   "cell_type": "code",
   "execution_count": null,
   "id": "916e3b75-c61d-4fd5-934d-d65d078b8dba",
   "metadata": {},
   "outputs": [],
   "source": [
    "D0 = 20\n",
    "V0 = 0.1\n",
    "J0 = 0.01\n",
    "K0 = -J0\n",
    "w = lambda x: -x/2\n",
    "\n",
    "for U0 in [1, 0.5, 0.05, 0]:\n",
    "    E,U,V,J,K = complete_RG(w, D0, U0, V0, J0, K0)\n",
    "    J = np.array(J)\n",
    "    U = np.array(U)\n",
    "\n",
    "    if U0 != 0:\n",
    "        plt.plot(J[np.where(U > 0)], U[np.where(U > 0)], label=r\"$U_0 = {}$\".format(U0))\n",
    "        rang = len(J[np.where(U > 0)])\n",
    "    else:\n",
    "        plt.plot(J[:rang], U[:rang], label=r\"$U_0 = {}$\".format(U0))\n",
    "    plt.ylabel(r\"$U$\")\n",
    "    plt.xlabel(r\"$J$\")\n",
    "plt.legend()\n",
    "plt.title(r\"$V_0 = {}, J_0 = {}, K_0 = {}, D_0 = {}, \\omega = {}$\".format(V0, J0, K0, D0, 0))\n",
    "plt.show()"
   ]
  },
  {
   "cell_type": "code",
   "execution_count": null,
   "id": "87a555ed",
   "metadata": {},
   "outputs": [],
   "source": [
    "D0 = 20\n",
    "V0 = 0.1\n",
    "J0 = 0.02\n",
    "K0 = 0\n",
    "w = lambda x: -x/2\n",
    "U0 = 0.5\n",
    "\n",
    "E,U,V,J,K = complete_RG(w, D0, U0, V0, J0, K0)\n",
    "steps = np.array(E)/D0\n",
    "U = np.array(U)\n",
    "V = np.array(V)\n",
    "J = np.array(J)\n",
    "\n",
    "plt.plot(J[U>0], U[U>0])\n",
    "plt.xlabel(r\"$J$\")\n",
    "plt.ylabel(r\"$U$\")\n",
    "plt.show()\n",
    "plt.plot(V[U>0], U[U>0])\n",
    "plt.ylabel(r\"$U$\")\n",
    "plt.xlabel(r\"$V$\")\n",
    "# plt.suptitle(r\"$U_0 = {}, V_0 = {}, J_0 = {}, K_0 = {}, D_0 = {}, \\omega = {}\\times D$\".format(U0, V0, J0, K0, D0, -0.5), y=0.95)\n",
    "# plt.show()"
   ]
  },
  {
   "cell_type": "code",
   "execution_count": null,
   "id": "b756166d",
   "metadata": {},
   "outputs": [],
   "source": [
    "def plot(x, y, xlabel, ylabel, ax):\n",
    "    ax.plot(x,y)\n",
    "    ax.set_xlabel(xlabel)\n",
    "    ax.set_ylabel(ylabel)\n",
    "    # ax.set_yscale(\"log\")\n",
    "    \n",
    "\n",
    "D0 = 10\n",
    "U0 = -2 * D0\n",
    "V0 = 1\n",
    "K0 = abs(V0**2/U0)\n",
    "J0 = -K0\n",
    "w = lambda x:-x\n",
    "\n",
    "E,U,V,J,K = complete_RG(w, D0, U0, V0, J0, K0)\n",
    "steps = np.array(E)/D0\n",
    "plt.plot(steps, U)\n",
    "plt.show()\n",
    "plt.plot(steps, K)\n",
    "plt.show()\n",
    "plt.plot(steps, V)\n",
    "# plot(steps, np.array(U), r\"RG steps\", r\"$-|U|$\", ax[0])\n",
    "# plot(steps, K, r\"RG steps\", r\"$K$\", ax[1])\n",
    "\n",
    "# plt.suptitle(r\"$U_0 = {}, V_0 = {}, J_0 = {}, K_0 = {}, D_0 = {}, \\omega = {}\\times D$\".format(U0, V0, J0, K0, D0, -0.5), y=0.9)\n",
    "# fig.tight_layout()\n",
    "# plt.show()"
   ]
  },
  {
   "cell_type": "markdown",
   "id": "weekly-elder",
   "metadata": {},
   "source": [
    "## Scaling of $J^*$ and $V^*$ with system size"
   ]
  },
  {
   "cell_type": "code",
   "execution_count": null,
   "id": "forward-package",
   "metadata": {},
   "outputs": [],
   "source": [
    "def plot_vs_D(w, U0, V0, J0, K0, D0_range):\n",
    "    couplings = [[], [], []]\n",
    "    x = []\n",
    "    for D0 in tqdm(D0_range):\n",
    "        E,U,V,J,K = complete_RG(w, D0, U0, V0, J0, K0)\n",
    "        if V[-1] == 0:\n",
    "            continue\n",
    "    \n",
    "        couplings[0].append(V[-1])\n",
    "        couplings[1].append(J[-1])\n",
    "        couplings[2].append(K[-1])\n",
    "        x.append(D0)\n",
    "    \n",
    "    for coupling, ylabel in zip(couplings, [r\"$V^*$\", r\"$J^*$\", r\"$K^*$\"]):\n",
    "        plt.scatter(x, couplings[0], color=\"r\")\n",
    "        plt.xscale(\"log\")\n",
    "        plt.yscale(\"log\")\n",
    "        plt.ylabel(ylabel)\n",
    "        plt.xlabel(r\"$D_0$\")\n",
    "        plt.show()\n",
    "    \n",
    "V0 = 0.1\n",
    "K0 = 0.01\n",
    "U0 = 10\n",
    "J0 = 0.2\n",
    "w = 0\n",
    "D0_range = 10**np.linspace(0, 7, 6)\n",
    "plot_vs_D(w, U0, V0, J0, K0, D0_range)"
   ]
  },
  {
   "cell_type": "markdown",
   "id": "atlantic-jewelry",
   "metadata": {},
   "source": [
    "### First Quadrant"
   ]
  },
  {
   "cell_type": "markdown",
   "id": "distributed-interval",
   "metadata": {},
   "source": [
    "## Scaling of $\\frac{j}{v}$ with system size"
   ]
  },
  {
   "cell_type": "code",
   "execution_count": null,
   "id": "romantic-legend",
   "metadata": {},
   "outputs": [],
   "source": [
    "def plot_ratio(args):\n",
    "    U0, V0 = args\n",
    "    for D0 in tqdm(D0_range):\n",
    "        w = 0\n",
    "        E,U,V,J,K = complete_RG(w, D0, U0, V0, J0, K0)\n",
    "        if V[-1] == 0:\n",
    "            continue\n",
    "        count = E[-1]*2/deltaD\n",
    "        gamma = (((3*J[-1] + K[-1])*sqrt(count) + 2*U[-1])/V[-1])\n",
    "        plt.scatter(D0, gamma, color='r')\n",
    "\n",
    "\n",
    "    plt.xscale(\"log\")\n",
    "    plt.yscale(\"log\")\n",
    "    plt.title(r\"$U_0={}, V_0={}$\".format(U0,V0))\n",
    "    plt.show()"
   ]
  },
  {
   "cell_type": "code",
   "execution_count": null,
   "id": "b613dcd7-66cb-4c83-a4b6-a361e0ce489d",
   "metadata": {},
   "outputs": [],
   "source": [
    "D0_range = 10**np.linspace(0, 5, 9)\n",
    "J0 = 0.01\n",
    "K0 = 0.2\n",
    "U0 = 10\n",
    "V0 = 0.01\n",
    "plot_ratio((U0, V0))"
   ]
  },
  {
   "cell_type": "code",
   "execution_count": null,
   "id": "acf4bb9e-2a94-4be5-b4d9-59b28b2d71aa",
   "metadata": {},
   "outputs": [],
   "source": [
    "D0_range = 10**np.linspace(0, 5, 10)\n",
    "J0 = 0.2\n",
    "K0 = 0.01\n",
    "U0 = 10\n",
    "V0 = 0.01\n",
    "plot_ratio((U0, V0))\n",
    "V0 = 1\n",
    "plot_ratio((U0, V0))"
   ]
  },
  {
   "cell_type": "markdown",
   "id": "190966dd",
   "metadata": {},
   "source": [
    "## Ground state\n",
    "\n",
    "$$\n",
    "\\Delta E = \tE_-^2 - E_c^2 = \\frac{1}{2}\\epsilon_d - \\frac{3j + k}{8} + k - \\sqrt{4v^2 + \\left(\\frac{3j+k}{8} -\\frac{1}{2} \\epsilon_d\\right) ^2}\n",
    "$$"
   ]
  },
  {
   "cell_type": "code",
   "execution_count": null,
   "id": "8bf69afb",
   "metadata": {},
   "outputs": [],
   "source": [
    "D0 = 20\n",
    "J0 = 1\n",
    "V0 = 0.7\n",
    "w = 0\n",
    "signs = []\n",
    "K0_range = np.linspace(2,0,20,endpoint=True)\n",
    "for K0 in K0_range:\n",
    "    U0 = 0.4 * np.sign(J0 - K0)\n",
    "    E,U,V,J,K = complete_RG(w, D0, U0, V0, J0, K0)\n",
    "    count = E[-1]/deltaD\n",
    "    j = J[-1] * count\n",
    "    k = K[-1] * count\n",
    "    v = V[-1] * sqrt(count)\n",
    "    U = U[-1]\n",
    "    delta = -U/4 - 3*j/8 + 7*j/8 - sqrt(4*v**2 + ((3*j+k)/8 + U/4)**2)\n",
    "    signs.append(np.sign(delta))\n",
    "\n",
    "signs = np.array(signs)\n",
    "plt.title(r\"$U_0 = \\pm 0.4, V_0=0.7, J_0=1$\")\n",
    "plt.plot((K0_range - J0)[signs > 0], signs[signs > 0])\n",
    "plt.plot((K0_range - J0)[signs < 0], signs[signs < 0])\n",
    "plt.xlabel(r\"$K_0 - J_0$\")\n",
    "plt.ylabel(r\"sign ($\\Delta E_g$)\")\n",
    "plt.show()"
   ]
  },
  {
   "cell_type": "code",
   "execution_count": null,
   "id": "b0e9d67f-4339-41f3-ba4c-43e00d01f445",
   "metadata": {},
   "outputs": [],
   "source": []
  }
 ],
 "metadata": {
  "kernelspec": {
   "display_name": "Python 3",
   "language": "python",
   "name": "python3"
  },
  "language_info": {
   "codemirror_mode": {
    "name": "ipython",
    "version": 3
   },
   "file_extension": ".py",
   "mimetype": "text/x-python",
   "name": "python",
   "nbconvert_exporter": "python",
   "pygments_lexer": "ipython3",
   "version": "3.9.4"
  }
 },
 "nbformat": 4,
 "nbformat_minor": 5
}
