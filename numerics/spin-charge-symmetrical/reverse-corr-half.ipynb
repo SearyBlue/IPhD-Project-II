{
 "cells": [
  {
   "cell_type": "markdown",
   "metadata": {
    "id": "9BCqFAZWQaD9"
   },
   "source": [
    "### IR Wavefunction\n",
    "\n",
    "$$\n",
    "\\newcommand{\\ket}[1]{\\vert{#1}\\rangle}\\\\\n",
    "\\newcommand{\\bra}[1]{\\langle{#1}\\vert}\\\\\n",
    "\\ket{\\text{IR}} = \\ket{\\hat n_{k_{-2}} = \\hat n_{k_{-3}} = 2} \\otimes \\frac{1}{2}\\bigg[ \\ket{\\uparrow^d}\\frac{1}{\\sqrt 2}\\left(\\ket{k_1 \\downarrow} + \\ket{k_{-1} \\downarrow}\\right) - \\ket{\\downarrow^d}\\frac{1}{\\sqrt 2}\\left(\\ket{k_1 \\uparrow} + \\ket{k_{-1} \\uparrow}\\right) + \\ket{2^d}\\ket{0} - \\ket{0^d}\\ket{k_1 \\uparrow, k_1 \\downarrow,k_{-1} \\uparrow,k_{-1} \\downarrow}\\bigg] \\otimes  \\ket{\\hat n_{k_{2}} = \\hat n_{k_{3} } = 0} = \\ket{1111}\\ket{0000}\\\\\n",
    "=\\frac{1}{2}\\ket{0000} \\otimes \\left[\\ket{10}\\ket{0101} - \\ket{01}\\ket{1010} + \\ket{11}\\ket{0000} - \\ket{00}\\ket{1111}\\right] \\otimes \\ket{1111}\\\\\n",
    "=\\frac{1}{2}\\ket{0000} \\otimes \\left[\\ket{01} \\underbrace{\\ket{10}}_\\text{imp}\\ket{01} - \\ket{10}\\underbrace{\\ket{01}}_\\text{imp}\\ket{10} + \\ket{00}\\underbrace{\\ket{11}}_\\text{imp}\\ket{00} - \\ket{11}\\underbrace{\\ket{00}}_\\text{imp}\\ket{11}\\right] \\otimes \\ket{1111}\\\\\n",
    "U^\\dagger_{k_+, k_-} = \\frac{1}{2}\\left[1 + \\eta_{k_- \\uparrow} + \\eta^\\dagger_{k_+ \\uparrow} + \\eta_{k_- \\downarrow} + \\eta^\\dagger_{k_+ \\downarrow}\\right] \\\\\n",
    " \\\\\n",
    "\\eta_{k_+\\beta}^\\dagger = V \\left[\\lambda_2 \\hat n_{d\\overline\\beta} + \\lambda_1 \\left( 1 - \\hat n_{d \\overline \\beta} \\right)  \\right]c^\\dagger_{q\\beta}c_{d\\beta} + \\lambda_3 \\sum_{k} \\left\\{ \\frac{J}{2}\\left( S_d^z \\beta c^\\dagger_{q\\beta}c_{k\\beta} + c^\\dagger_{d \\overline \\beta}c_{d\\beta}c^\\dagger_{q\\beta}c_{k \\overline \\beta}\\right) + \\frac{K}{2}\\left( C^z_d c^\\dagger_{q\\beta}c_{k\\beta} + c^\\dagger_{q\\beta}c^\\dagger_{k \\overline \\beta}c_{d \\overline \\beta}c_{d\\beta} \\right) \\right\\}\\\\\n",
    "\\eta_{k_-\\beta} = V^* \\left[\\lambda_1 \\hat n_{d \\overline \\beta} + \\lambda_2 \\left( 1 - \\hat n_{d \\overline \\beta} \\right)  \\right]c^\\dagger_{d\\beta}c_{q\\beta} + \\lambda_3 \\sum_{k} \\left\\{ \\frac{J}{2}\\left( S_d^z \\beta c^\\dagger_{k\\beta}c_{q\\beta} + c^\\dagger_{d\\beta}c_{d \\overline \\beta}c^\\dagger_{k \\overline \\beta}c_{q\\beta}\\right)+ \\frac{K}{2}\\left( C^z_d c^\\dagger_{k\\beta}c_{q\\beta} + c^\\dagger_{d\\beta}c^\\dagger_{d \\overline \\beta}c_{k \\overline \\beta}c_{q\\beta} \\right) \\right\\} \\\\\n",
    "\\lambda_1 = \\frac{1}{\\omega - \\frac{1}{2}D + \\epsilon_d + \\frac{1}{2}K}, \\lambda_2 = \\frac{1}{\\omega - \\frac{1}{2}D - \\epsilon_d + \\frac{1}{2}J}, \\lambda_3 = \\frac{1}{\\omega - \\frac{1}{2}D + \\frac{1}{4}\\left(J + K\\right)} \n",
    "$$"
   ]
  },
  {
   "cell_type": "markdown",
   "metadata": {},
   "source": [
    "Half-way versions\n",
    "$$\n",
    "\\frac{1}{2}\\left[\\underbrace{\\ket{10}}_\\text{imp}\\ket{01} - \\underbrace{\\ket{01}}_\\text{imp}\\ket{10} + \\underbrace{\\ket{11}}_\\text{imp}\\ket{00} - \\underbrace{\\ket{00}}_\\text{imp}\\ket{11}\\right] \\otimes \\ket{11}\\\\\n",
    "U^\\dagger_{k_+, k_-} = \\frac{1}{2}\\left[1 + \\eta_{k_- \\uparrow} + \\eta_{k_- \\downarrow}\\right] \\\\\n",
    " \\\\\n",
    "\\eta_{k_-\\beta} = V^* \\left[\\lambda_1 \\hat n_{d \\overline \\beta} + \\lambda_2 \\left( 1 - \\hat n_{d \\overline \\beta} \\right)  \\right]c^\\dagger_{d\\beta}c_{q\\beta} + \\lambda_3 \\sum_{k} \\left\\{ \\frac{J}{2}\\left( S_d^z \\beta c^\\dagger_{k\\beta}c_{q\\beta} + c^\\dagger_{d\\beta}c_{d \\overline \\beta}c^\\dagger_{k \\overline \\beta}c_{q\\beta}\\right)+ \\frac{K}{2}\\left( C^z_d c^\\dagger_{k\\beta}c_{q\\beta} + c^\\dagger_{d\\beta}c^\\dagger_{d \\overline \\beta}c_{k \\overline \\beta}c_{q\\beta} \\right) \\right\\} \\\\\n",
    "\\lambda_1 = \\frac{1}{\\omega - \\frac{1}{2}D + \\epsilon_d + \\frac{1}{2}K}, \\lambda_2 = \\frac{1}{\\omega - \\frac{1}{2}D - \\epsilon_d + \\frac{1}{2}J}, \\lambda_3 = \\frac{1}{\\omega - \\frac{1}{2}D + \\frac{1}{4}\\left(J + K\\right)} \n",
    "$$"
   ]
  },
  {
   "cell_type": "code",
   "execution_count": 32,
   "metadata": {
    "colab": {
     "base_uri": "https://localhost:8080/"
    },
    "id": "ItCCBwGHQaEI",
    "outputId": "eaa96e66-673b-4138-e8af-eec927f8061b"
   },
   "outputs": [
    {
     "name": "stdout",
     "output_type": "stream",
     "text": [
      "Requirement already satisfied: qutip in ./miniconda3/lib/python3.9/site-packages (4.6.1)\n",
      "Requirement already satisfied: numpy>=1.16.6 in ./miniconda3/lib/python3.9/site-packages (from qutip) (1.20.3)\n",
      "Requirement already satisfied: packaging in ./miniconda3/lib/python3.9/site-packages (from qutip) (20.9)\n",
      "Requirement already satisfied: scipy>=1.0 in ./miniconda3/lib/python3.9/site-packages (from qutip) (1.6.3)\n",
      "Requirement already satisfied: pyparsing>=2.0.2 in ./miniconda3/lib/python3.9/site-packages (from packaging->qutip) (2.4.7)\n",
      "Requirement already satisfied: numpy>=1.16.6 in ./miniconda3/lib/python3.9/site-packages (from qutip) (1.20.3)\n"
     ]
    }
   ],
   "source": [
    "!pip install qutip\n",
    "from qutip import *\n",
    "from math import *\n",
    "import itertools\n",
    "from itertools import product\n",
    "import matplotlib\n",
    "from matplotlib import pyplot as plt\n",
    "\n",
    "import numpy as np\n",
    "\n",
    "font = {'size'   : 17}\n",
    "\n",
    "matplotlib.rc('font', **font)\n",
    "matplotlib.rcParams['text.usetex'] = True\n",
    "plt.rcParams[\"figure.figsize\"]= 6, 4\n",
    "#plt.rcParams['figure.dpi'] = 90\n",
    "matplotlib.rcParams['lines.linewidth'] = 2\n",
    "plt.rcParams['axes.grid'] = True\n",
    "\n",
    "idt = identity(2)\n",
    "n = create(2) * destroy(2)\n",
    "\n",
    "Cdz = 0.5 * (tensor(n, idt) +  tensor(idt, n) - 1)\n",
    "# isospin z component\n",
    "\n",
    " "
   ]
  },
  {
   "cell_type": "markdown",
   "metadata": {
    "id": "pHX_PmeNQaEL"
   },
   "source": [
    "### Writing the impurity+cloud wavefunction"
   ]
  },
  {
   "cell_type": "code",
   "execution_count": 33,
   "metadata": {
    "id": "EiawBOhmQaEM"
   },
   "outputs": [],
   "source": [
    "def get_cloud(csm, ccm, ins):\n",
    "    d_up = tensor(basis(2,1), basis(2,0))\n",
    "    d_dn = tensor(basis(2,0), basis(2,1))\n",
    "    d_c_up = tensor(basis(2,1), basis(2,1))\n",
    "    d_c_dn = tensor(basis(2,0), basis(2,0))\n",
    "    cl_up = sum([tensor([basis(2,0), basis(2,0)]*(k) + [basis(2,1), basis(2,0)] + [basis(2,0), basis(2,0)]*(ins - k - 1)) for k in range(ins)]).unit()\n",
    "    cl_dn = sum([tensor([basis(2,0), basis(2,0)]*(k) + [basis(2,0), basis(2,1)] + [basis(2,0), basis(2,0)]*(ins - k - 1)) for k in range(ins)]).unit()\n",
    "    cl_c_dn = tensor([basis(2,0)]*2*ins)\n",
    "    cl_c_up = 0\n",
    "    for k,q in itertools.product(range(ins), range(ins)):\n",
    "        base = [basis(2,0)]*2*ins\n",
    "        base[2*k] = basis(2,1)\n",
    "        base[2*q+1] = basis(2,1)\n",
    "        cl_c_up += tensor(base)\n",
    "    cl_c_up = cl_c_up.unit()\n",
    "#     up = [1, 0, 0, 1, 0, 1]\n",
    "#     down = [0, 1, 1, 0, 1, 0]\n",
    "#     two = [1, 1, 0, 0, 0, 0]\n",
    "#     zero = [0, 0, 1, 1, 1, 1]\n",
    "#     cloudup = csm * tensor([basis(2,i) for i in up])\n",
    "#     clouddown = csm * tensor([basis(2,i) for i in down])\n",
    "#     cloudtwo = ccm * tensor([basis(2,i) for i in two])\n",
    "#     cloudzero = ccm * tensor([basis(2,i) for i in zero])\n",
    "#     psi_cloud = tensor(cloudup - clouddown + cloudtwo + cloudzero)\n",
    "    psi_unnorm = csm * (tensor(d_up, cl_dn) - tensor(d_dn, cl_up)) + ccm * (tensor(d_c_up, cl_c_dn) + tensor(d_c_dn, cl_c_up))\n",
    "    return psi_unnorm.unit()"
   ]
  },
  {
   "cell_type": "markdown",
   "metadata": {
    "id": "UjM4aSqlQaEN"
   },
   "source": [
    "## Creating the unitary\n",
    "\n",
    "$ \\eta^{\\dagger/-} = \\eta_1^{\\dagger/-} + \\eta_2^{\\dagger/-} + \\eta_3^{\\dagger/-}$"
   ]
  },
  {
   "cell_type": "markdown",
   "metadata": {
    "id": "gzP4JMThQaEP"
   },
   "source": [
    "### Create $c^\\dagger_{q\\beta}\\otimes I_{\\overline\\beta}$ or $c_{q\\beta}\\otimes I_{\\overline\\beta}$"
   ]
  },
  {
   "cell_type": "code",
   "execution_count": 34,
   "metadata": {
    "id": "ll0bRi44QaEQ"
   },
   "outputs": [],
   "source": [
    "def cq(beta):\n",
    "    return tensor([destroy(2), idt]) if beta == 1 else tensor([idt, destroy(2)])\n",
    "    # place cq first if beta == up else place idt first"
   ]
  },
  {
   "cell_type": "markdown",
   "metadata": {
    "id": "AzEvy7_5QaER"
   },
   "source": [
    "### Creating $\\sum_k c_{k\\beta}$"
   ]
  },
  {
   "cell_type": "code",
   "execution_count": 35,
   "metadata": {
    "id": "-tb6q3AaQaES"
   },
   "outputs": [],
   "source": [
    "def sum_k_ck(beta, imp):\n",
    "    # returns \\sum_{k}c_{k\\beta}\n",
    "    \n",
    "    ck = [destroy(2), idt] if beta == 1 else [idt, destroy(2)]\n",
    "    # variable conj is supposed to tell me whether i require \\sum_k c^\\dagger_k or \\sum_k c_k\n",
    "\n",
    "    init = [imp] + [idt]*2*ins\n",
    "    sum_over_k = 0\n",
    "    for k in range(1, 2*ins+1, 2):\n",
    "        sum_over_k += tensor([imp] + [idt]*(k-1) + ck + [idt]*(2*ins - k - 1))\n",
    "#     sum_over_k = sum([tensor(init[:2*k] + ck + init[2*k+1:]) for k in range(2*ins)])\n",
    "\n",
    "#     num = 2 * ins\n",
    "#     for i in range(num):\n",
    "#         # outer loop shifts the position of k over all cloud momenta\n",
    "\n",
    "#         cur = 0\n",
    "#         for j in range(num):\n",
    "#             # inner loop creates the string for a particular k\n",
    "\n",
    "#             if i != j: # if not the particular k, fill with idt\n",
    "#                 cur = tensor(cur, idt, idt) if cur !=0 else tensor(idt, idt)\n",
    "#             elif beta == 1: \n",
    "#                 # otherwise, check if spin is up or down, up goes first, down goes second\n",
    "#                 cur = tensor(cur, ck, idt) if cur !=0 else tensor(ck, idt)\n",
    "#             else: \n",
    "#                 cur = tensor(cur, idt, ck) if cur !=0 else tensor(idt, ck)\n",
    "#         sum = cur if sum == 0 else sum + cur \n",
    "#     return sum\n",
    "    return sum_over_k"
   ]
  },
  {
   "cell_type": "markdown",
   "metadata": {
    "id": "bwkQ6TfTQaEV"
   },
   "source": [
    "### Creating first part of $\\eta$\n",
    "\n",
    "$$\n",
    "V^* \\left[\\lambda_1 \\hat n_{d \\overline \\beta} + \\lambda_2 \\left( 1 - \\hat n_{d \\overline \\beta} \\right)  \\right]c^\\dagger_{d\\beta}c_{q\\beta}\n",
    "$$"
   ]
  },
  {
   "cell_type": "code",
   "execution_count": 36,
   "metadata": {
    "id": "f0npIVqIQaEX"
   },
   "outputs": [],
   "source": [
    "def eta1(beta, args):\n",
    "    c1, c2, c3, V, J, K = args\n",
    "    \n",
    "    c_q = cq(beta)\n",
    "    # gets either c^\\dagger_{q\\beta}\\otimes identity(q\\ol\\beta), or c_{q\\beta}iden(q\\ol\\beta), depending on conj=\\pm 1\n",
    "\n",
    "    imp_part = [create(2), c2 * n + c1 * (1-n)] if beta == 1 else [c2 * n + c1 * (1-n), create(2)]\n",
    "    # the full impurity part will be cimp \\otimes idt(2) if beta is up, else idt(2) \\otimes cimp,\n",
    "    # because up part comes first\n",
    "\n",
    "    cloud_imp_part = tensor(imp_part + [idt]*2*ins)\n",
    "    # cloud electrons do not participate in this part of eta, hence just identities. \n",
    "    # ins is number of k states on one side of FS, *2 for spin \n",
    "\n",
    "    return V * tensor(cloud_imp_part, c_q)\n",
    "    # if conj == 1 (if we are creating eta^dagger), then q is above the FS and eta_1 will be \n",
    "    # c^\\dagger_q \\otimes imp_part \\otimes cloud_part, otherwise it will be imp_part \\otimes cloud_part \\otimes c_q,\n",
    "    # because q will be below the FS"
   ]
  },
  {
   "cell_type": "markdown",
   "metadata": {
    "id": "3ozmH-O8QaEZ"
   },
   "source": [
    "### Creating second part of $\\eta$\n",
    "\n",
    "$$\n",
    "\\lambda_3 \\sum_{k} \\frac{J}{2}\\left( S_d^z \\beta c^\\dagger_{k\\beta} + c^\\dagger_{d\\beta}c_{d \\overline \\beta}c^\\dagger_{k \\overline \\beta}\\right)c_{q\\beta}\n",
    "$$"
   ]
  },
  {
   "cell_type": "code",
   "execution_count": 37,
   "metadata": {
    "id": "kORcckGQQaEa"
   },
   "outputs": [],
   "source": [
    "def eta2(beta, args):\n",
    "    c1, c2, c3, V, J, K = args\n",
    "    \n",
    "    betaSdz = beta * 0.5 * (tensor(n, idt) - tensor(idt, n))\n",
    "    # gets \\beta S_d^z\n",
    "        \n",
    "    c_q = cq(beta)\n",
    "    # gets either c^\\dagger_{q\\beta}\\otimes identity(q\\ol\\beta), or c_{q\\beta}iden(q\\ol\\beta), depending on conj=\\pm 1\n",
    "\n",
    "    imp_part = -tensor(destroy(2), create(2)) if beta == -1 else tensor(create(2), destroy(2))\n",
    "    \n",
    "    k_beta_1 = sum_k_ck(beta, betaSdz)\n",
    "    k_beta_bar_2 = sum_k_ck(-beta, imp_part)\n",
    "\n",
    "    return (c3 / 2) * J * (tensor(k_beta_1.dag(), c_q) + tensor(k_beta_bar_2.dag(), c_q))"
   ]
  },
  {
   "cell_type": "markdown",
   "metadata": {
    "id": "F8G8ZrDuQaEb"
   },
   "source": [
    "### Creating third part of $\\eta$\n",
    "\n",
    "$$\n",
    "\\lambda_3 \\sum_{k} \\frac{K}{2}\\left( C^z_d c^\\dagger_{k\\beta} + c^\\dagger_{d\\beta}c^\\dagger_{d \\overline \\beta}c_{k \\overline \\beta}\\right)c_{q\\beta} \n",
    "$$\n",
    "Impurity part is\n",
    "$$\n",
    "\\text{imp-part} = \\beta * c^\\dagger_{d \\uparrow}c^\\dagger_{d \\downarrow}\n",
    "$$"
   ]
  },
  {
   "cell_type": "code",
   "execution_count": 38,
   "metadata": {
    "id": "DdqLFfQ9QaEd"
   },
   "outputs": [],
   "source": [
    "def eta3(beta, args):\n",
    "    c1, c2, c3, V, J, K = args\n",
    "               \n",
    "    c_q = cq(beta)\n",
    "    # gets either c^\\dagger_{q\\beta}\\otimes identity(q\\ol\\beta), or c_{q\\beta}iden(q\\ol\\beta), depending on conj=\\pm 1\n",
    "\n",
    "    imp_part = beta*tensor(create(2), create(2))\n",
    "    \n",
    "    k_beta_1 = sum_k_ck(beta, Cdz)\n",
    "    k_beta_bar_2 = sum_k_ck(-beta, imp_part)\n",
    "\n",
    "    return (c3 / 2) * K * (tensor(k_beta_1.dag(), c_q) + tensor(k_beta_bar_2, c_q))"
   ]
  },
  {
   "cell_type": "code",
   "execution_count": 39,
   "metadata": {
    "id": "p-eYRPsQQaEe"
   },
   "outputs": [],
   "source": [
    "def rev_one_step(psi, out, ins, args=[1]*4):\n",
    "\n",
    "    Upsi = 0.5 * (psi)\n",
    "    for beta in [1, -1]:   \n",
    "        # beta = 1 is up, -1 is down\n",
    "\n",
    "        iom1 = 0\n",
    "        iom2 = 2*(out - 1)\n",
    "        # iom1 == k states above the FS that are unchanged b4 & after this reverse RG step.\n",
    "        # If conj == 1, that means I am working with a q that's empty, so iom1 will lose 2 states (q up, q down).\n",
    "        # iom2 will lose two states if the electron being re-entangled is below FS, that is if conj == -1\n",
    "        \n",
    "        U, J, K, V, D, w = args\n",
    "        \n",
    "        c1 = 1/(w - D/2 - U/2 + K/2)\n",
    "        c2 = 1/(w - D/2 + U/2 + J/2)\n",
    "        c3 = 1/(w - D/2 + K/4 + J/4)\n",
    "\n",
    "        args = (c1, c2, c3, V, J, K)\n",
    "        \n",
    "        Upsi += 0.5 * (eta1(beta, args) + eta2(beta, args) + eta3(beta, args))(psi)\n",
    "\n",
    "    return Upsi"
   ]
  },
  {
   "cell_type": "markdown",
   "metadata": {
    "id": "W88JSzy5QaEg"
   },
   "source": [
    "## Measures of Entanglement\n",
    "\n",
    "### Mutual Information\n",
    "\n",
    "$\n",
    "\\rho = \\text{density matrix} = \\ket{\\Psi}\\bra{\\Psi}\n",
    "$\n",
    ",\n",
    "$\n",
    "I(A:B) = S_A + S_B - S_{AB}\n",
    "$\n",
    ",\n",
    "$\n",
    "S_X = \\text{Tr}_X \\left[{\\rho}\\right]\n",
    "$"
   ]
  },
  {
   "cell_type": "code",
   "execution_count": 40,
   "metadata": {
    "id": "F1nt-q0bQaEh"
   },
   "outputs": [],
   "source": [
    "def mut_inf(psi, a, b):\n",
    "\n",
    "    N = 2*(out + ins) + 2\n",
    "    bit = [basis(2, 0), basis(2, 1)]\n",
    "    gen = [[identity(2)]] * N\n",
    "    for i in range(N):\n",
    "        if gen.count(bit) >= N - 14:\n",
    "                break\n",
    "        if i not in (a,b):\n",
    "            gen[i] = bit\n",
    "            a = a - 1 if i < a else a\n",
    "            b = b - 1 if i < b else b\n",
    "            \n",
    "    tot = gen.count(bit)\n",
    "    if tot > 0:\n",
    "        rho_ab = 0\n",
    "        for term in tqdm(itertools.product(*gen), total=2**tot):\n",
    "            # base = tensor(*term)\n",
    "            bra = psi.dag() * tensor(*term)\n",
    "            rho_ab += bra.dag() * bra\n",
    "#         a = 0 if a <= N - 14 - 1 else a - (N - 14)\n",
    "#         b = 0 if b <= N - 14 - 1 else b - (N - 14)\n",
    "    else:\n",
    "        rho_ab = psi * psi.dag()\n",
    "    \n",
    "    rho_ab = rho_ab.ptrace([a,b])\n",
    "    rho_a = rho_ab.ptrace(int(a>b))\n",
    "    rho_b = rho_ab.ptrace(int(a<b))\n",
    "\n",
    "\n",
    "    S_a = entropy_vn(rho_a) \n",
    "    S_b = entropy_vn(rho_b)\n",
    "    S_ab = entropy_vn(rho_ab)\n",
    "\n",
    "    return S_a + S_b - S_ab"
   ]
  },
  {
   "cell_type": "code",
   "execution_count": 41,
   "metadata": {},
   "outputs": [],
   "source": [
    "def mutI(psi, k, q):\n",
    "    N = out + ins + 1\n",
    "    bit = [basis(2, 0), basis(2, 1)]\n",
    "    gen = [[identity(2)]] * 2*N\n",
    "    for i in range(N):\n",
    "        if gen.count(bit) >= 2*N - 14:\n",
    "                break\n",
    "        if i not in (k, q):\n",
    "            gen[i] = bit\n",
    "            gen[i+1] = bit\n",
    "            k = k - 1 if i < k else k\n",
    "            q = q - 1 if i < q else q\n",
    "            \n",
    "    tot = gen.count(bit)\n",
    "    if tot > 0:\n",
    "        rho_kq = 0\n",
    "        for term in tqdm(itertools.product(*gen), total=2**tot):\n",
    "            # base = tensor(*term)\n",
    "            bra = psi.dag() * tensor(*term)\n",
    "            rho_kq += bra.dag() * bra\n",
    "#         a = 0 if a <= N - 14 - 1 else a - (N - 14)\n",
    "#         b = 0 if b <= N - 14 - 1 else b - (N - 14)\n",
    "    else:\n",
    "        rho_kq = psi * psi.dag()\n",
    "        \n",
    "    rho_kq = rho_kq.ptrace([2*k, 2*k + 1, 2*q, 2*q + 1])\n",
    "    rho_k = rho_kq.ptrace([2, 3])\n",
    "    rho_q = rho_kq.ptrace([0, 1])\n",
    "    S_k = entropy_vn(rho_k) \n",
    "    S_q = entropy_vn(rho_q)\n",
    "    S_kq = entropy_vn(rho_kq)\n",
    "    return S_k + S_q - S_kq\n"
   ]
  },
  {
   "cell_type": "code",
   "execution_count": 42,
   "metadata": {},
   "outputs": [],
   "source": [
    "def corr(psi):\n",
    "    spin = tensor([idt] * (2) + [n, idt, idt, idt, idt, n] + [idt]*(2*out + 2*ins - 6))\n",
    "    # n_{1 up} n_{3 dn}\n",
    "\n",
    "    charge = tensor([idt] * (2) + [n, idt, idt, idt, n, idt] + [idt]*(2*out + 2*ins - 6))\n",
    "    # n_{1 dn} n_{3 dn}\n",
    "\n",
    "    # off_diag_1 = tensor([idt]*(2*out + 2*ins - 1) + [create(2), idt, idt, destroy(2)] + [idt]*(2*out + 2*ins - 1))\n",
    "    # # c^\\dagger_{1 down}c_{-1 up}\n",
    "\n",
    "    # off_diag_2 = tensor([idt]*(2*out + 2*ins - 2) + [create(2), idt, idt, idt, destroy(2)] + [idt]*(2*out + 2*ins - 1))\n",
    "    # # c^\\dagger_{1 up}c_{-1 up}\n",
    "    \n",
    "    # off_diag_3 = tensor([idt]*(2*out + 2*ins - 2) + [create(2), create(2), idt, idt, destroy(2), destroy(2)] + [idt]*(2*out + 2*ins - 2))\n",
    "    # # c^\\dagger_{1 up} c^\\dagger_1 dn} c_{-1 up} c_{-1 dn}\n",
    "\n",
    "#     off_diag_4 = tensor([idt]*(2*out + 2*ins + 2) + [create(2), create(2), destroy(2), destroy(2)] + [idt]*(2*out + 2*ins - 4))\n",
    "    # c^\\dagger_{-1 up} c^\\dagger_{-1 dn} c_{-2 up} c_{-2 dn}\n",
    "    \n",
    "    off_diag_5 = tensor([idt] * (2) + [create(2), idt, idt, create(2), destroy(2), idt, idt, destroy(2)] + [idt]*(2*out + 2*ins - 8))\n",
    "    \n",
    "    c = []\n",
    "#     print (psi, spin)\n",
    "    c.append(np.real(psi.dag() * spin * psi)[0][0])\n",
    "    c.append(np.real(psi.dag() * charge * psi)[0][0])\n",
    "    # c3 = np.real(psi.dag() * off_diag_1 * psi)[0][0]\n",
    "    # c4 = np.real(psi.dag() * off_diag_2 * psi)[0][0]\n",
    "    # c5 = np.real(psi.dag() * off_diag_3 * psi)[0][0]\n",
    "    # c6 = np.real(psi.dag() * off_diag_4 * psi)[0][0]\n",
    "    c.append(np.real(psi.dag() * off_diag_5 * psi)[0][0])\n",
    "    # return [c1, c2, c3, c4]\n",
    "    return c"
   ]
  },
  {
   "cell_type": "code",
   "execution_count": 47,
   "metadata": {
    "colab": {
     "base_uri": "https://localhost:8080/"
    },
    "id": "v0md4tIeQaEi",
    "outputId": "c3233b65-5c6b-4ce5-bf06-548822512831"
   },
   "outputs": [
    {
     "name": "stdout",
     "output_type": "stream",
     "text": [
      "0\n",
      "1\n",
      "2\n",
      "3\n"
     ]
    },
    {
     "name": "stderr",
     "output_type": "stream",
     "text": [
      "100%|██████████| 4/4 [00:00<00:00, 197.97it/s]"
     ]
    },
    {
     "name": "stdout",
     "output_type": "stream",
     "text": [
      "4\n"
     ]
    },
    {
     "name": "stderr",
     "output_type": "stream",
     "text": [
      "\n",
      "100%|██████████| 4/4 [00:00<00:00, 198.12it/s]\n"
     ]
    },
    {
     "data": {
      "image/png": "[encoded data removed]",
      "text/plain": [
       "<Figure size 432x288 with 1 Axes>"
      ]
     },
     "metadata": {
      "needs_background": "light"
     },
     "output_type": "display_data"
    },
    {
     "data": {
      "image/png": "[encoded data removed]",
      "text/plain": [
       "<Figure size 432x288 with 1 Axes>"
      ]
     },
     "metadata": {
      "needs_background": "light"
     },
     "output_type": "display_data"
    },
    {
     "data": {
      "image/png": "[encoded data removed]",
      "text/plain": [
       "<Figure size 432x288 with 1 Axes>"
      ]
     },
     "metadata": {
      "needs_background": "light"
     },
     "output_type": "display_data"
    },
    {
     "data": {
      "image/png": "[encoded data removed]",
      "text/plain": [
       "<Figure size 432x288 with 1 Axes>"
      ]
     },
     "metadata": {
      "needs_background": "light"
     },
     "output_type": "display_data"
    },
    {
     "data": {
      "image/png": "[encoded data removed]",
      "text/plain": [
       "<Figure size 432x288 with 1 Axes>"
      ]
     },
     "metadata": {
      "needs_background": "light"
     },
     "output_type": "display_data"
    }
   ],
   "source": [
    "from tqdm import tqdm\n",
    "from multiprocessing import Pool\n",
    "\n",
    "out = 0\n",
    "# no of momenta states outside cloud, on each side of FS\n",
    "\n",
    "ins = 2\n",
    "# no of momenta states inside cloud, on each side of FS\n",
    "\n",
    "lastup = 0\n",
    "# position of the last electron to get recoupled\n",
    "\n",
    "imp_up = 0 \n",
    "imp_down = 1\n",
    "\n",
    "# positions of the innermost cloud electrons\n",
    "\n",
    "U =  [0, 0, 0, 0, 0, 0, 0.02588095729063313, 0.05912454680743548, 0.08365083984444548, 0.1]\n",
    "J =  [2.855354625767993, 0.36219509450733745, 0.14919555344849617, 0.09004266975607594, 0.06471443776979428, 0.051115748303351444, 0.04274444278658412, 0.037102979022693, 0.03305084745762712, 0.03]\n",
    "K =  [0.022262653773417348, 0.01686020511451763, 0.014772103640345036, 0.013451885950169088, 0.012505998894282763, 0.011783353226002248, 0.011207813070288258, 0.01073551116534082, 0.010338983050847458, 0.01]\n",
    "V =  [118.39027535266469, 3.3909558102845887, 1.0128755769536313, 0.5007258418588596, 0.3130871074107391, 0.22293440856183244, 0.17132027303879221, 0.1384533114489056, 0.11605639955450608, 0.1]\n",
    "count =  [1, 2, 3, 4, 5, 6, 7, 8, 9, 10]\n",
    "D =  [0.1, 0.2, 0.30000000000000004, 0.4, 0.5, 0.6000000000000001, 0.7000000000000001, 0.8, 0.9, 1.0]\n",
    "\n",
    "'''\n",
    "U =  [0, 0, 0, 0, 0, 0, 0.02588095729063313, 0.05912454680743548, 0.08365083984444548, 0.1]\n",
    "J =  [2.855354625767993, 0.36219509450733745, 0.14919555344849617, 0.09004266975607594, 0.06471443776979428, 0.051115748303351444, 0.04274444278658412, 0.037102979022693, 0.03305084745762712, 0.03]\n",
    "K =  [0.022262653773417348, 0.01686020511451763, 0.014772103640345036, 0.013451885950169088, 0.012505998894282763, 0.011783353226002248, 0.011207813070288258, 0.01073551116534082, 0.010338983050847458, 0.01]\n",
    "V =  [118.39027535266469, 3.3909558102845887, 1.0128755769536313, 0.5007258418588596, 0.3130871074107391, 0.22293440856183244, 0.17132027303879221, 0.1384533114489056, 0.11605639955450608, 0.1]\n",
    "count =  [1, 2, 3, 4, 5, 6, 7, 8, 9, 10]\n",
    "D =  [0.1, 0.2, 0.30000000000000004, 0.4, 0.5, 0.6000000000000001, 0.7000000000000001, 0.8, 0.9, 1.0]\n",
    "off_diag_5 = tensor([idt] * (2) + [create(2), idt, idt, create(2), destroy(2), idt, idt, destroy(2)] + [idt]*(2*out + 2*ins - 8))\n",
    "'''\n",
    "\n",
    "# U =  [0, 0, 0, 0, 0, 0.08863413956678395, 0.3575680281585913, 0.642418643505904, 0.8694729972263011, 1]\n",
    "# J =  [1.1217354477843178, 0.2396246552823889, 0.1198844558431418, 0.07932840917048067, 0.05992173536151718, 0.04875294605271503, 0.04154850055228777, 0.03652945704191348, 0.03283464566929134, 0.03]\n",
    "# K =  [1.1217354477843178, 0.2396246552823889, 0.1198844558431418, 0.07932840917048067, 0.05992173536151718, 0.04875294605271503, 0.04154850055228777, 0.03652945704191348, 0.03283464566929134, 0.03]\n",
    "# V =  [10.668816108968706, 1.635862784927544, 0.6548178775410185, 0.37061031472770484, 0.24943477108338288, 0.18274227298211265, 0.13633103522908355, 0.09976259729680442, 0.07034005110594656, 0.05]\n",
    "# count =  [2, 3, 4, 5, 6, 7, 8, 9, 10, 11]\n",
    "# D =  [0.2, 0.30000000000000004, 0.4, 0.5, 0.6000000000000001, 0.7000000000000001, 0.8, 0.9, 1.0, 1.1]\n",
    "\n",
    "# U =  [0, 0, 0, 0, 0, 0, 0.4335012857596981]\n",
    "# J =  [41.65137072728905, 7.421985528256318, 3.0764876297977835, 1.7632993761561673, 1.1893810568831, 0.8818478505045518, 0.6946383568070326]\n",
    "# K =  [0.11014854383139917, 0.10349303670420885, 0.09899373972501821, 0.09516847820969296, 0.09175302137185129, 0.08864547352971129, 0.08578996582056872]\n",
    "# V =  [698.7912946938286, 56.013376355019446, 16.783149824539997, 7.729738695156247, 4.4289952117072, 2.887478398100373, 2.033462108444947]\n",
    "# count =  [1, 2, 3, 4, 5, 6, 7]\n",
    "# D =  [0.1, 0.2, 0.3, 0.4, 0.5, 0.6, 0.7]\n",
    "\n",
    "# U =  [0, 0, 0, 2.903671720911781, 3.227607510088996, 3.011643496163671]\n",
    "# J =  [41.65137072728905, 7.421985528256318, 3.0764876297977835, 1.7632993761561673, 1.1893810568831, 0.8818478505045518]\n",
    "# K =  [0.11014854383139917, 0.10349303670420885, 0.09899373972501821, 0.09516847820969296, 0.09175302137185129, 0.08864547352971129]\n",
    "# V =  [698.7912946938286, 56.013376355019446, 16.783149824539997, 7.729738695156247, 4.4289952117072, 2.887478398100373]\n",
    "# count =  [1, 2, 3, 4, 5, 6]\n",
    "# D =  [0.1, 0.2, 0.3, 0.4, 0.5, 0.6]\n",
    "\n",
    "\n",
    "w = -0.1\n",
    "j = J[0] * count[0]\n",
    "k = K[0] * count[0]\n",
    "v = V[0] * sqrt(count[0])\n",
    "gamma = (3*j + k + 2*U[0])/(8*v)\n",
    "csm = sqrt(sqrt(gamma**2 + 4) + gamma)\n",
    "ccm = -sqrt(sqrt(gamma**2 + 4) - gamma)\n",
    "\n",
    "corrs = []\n",
    "\n",
    "out = 1\n",
    "psi = tensor(get_cloud(csm, ccm, ins), basis(2,1), basis(2,1))\n",
    "# corrs = [corr(psi)]\n",
    "a = 1\n",
    "b = 2\n",
    "c = 0\n",
    "d = 1\n",
    "I1 = [mutI(psi, a, b)]\n",
    "# I1 = []\n",
    "# print (I1[-1])\n",
    "# mutual information between two electrons inside the cloud, of same spin\n",
    "\n",
    "I2 = [mutI(psi, c, d)]\n",
    "# I2 = []\n",
    "# print (I2[-1])\n",
    "# mutual information between the innermost and outermost electron\n",
    "\n",
    "# I3 = [mut_inf(psi, imp_up, cloud1up)]\n",
    "# print (\"I3:\",I3[-1])\n",
    "# mutual information between the innermost up and impurity up electrons\n",
    "for i in range(5):\n",
    "    # print (corrs[-1])\n",
    "    print (i)\n",
    "    args = (U[i+1], J[i+1], K[i+1], V[i+1], D[i+1], w)\n",
    "    psi = rev_one_step(psi, out, ins, args).unit()\n",
    "    out -= 1\n",
    "    ins += 1\n",
    "    if ins >= 3:\n",
    "        I1.append(mutI(psi, a, b))\n",
    "        I2.append(mutI(psi, c, d))\n",
    "    if ins >= 4:\n",
    "        corrs.append(corr(psi))\n",
    "#         print (corrs[-1])\n",
    "#     print (\"I1:\",I1[-1])\n",
    "#     I2.append(mut_inf(psi, lastup, cloud1up))\n",
    "#     print (I3[-1])\n",
    "#     I3.append(mut_inf(psi, imp_up, cloud1up))\n",
    "#     print (\"I3:\",I3[-1])\n",
    "    out += 1\n",
    "    psi = tensor(psi, basis(2, 1), basis(2, 1))\n",
    "    \n",
    "plt.plot(I1)\n",
    "plt.show()\n",
    "plt.plot(I2)\n",
    "plt.show()\n",
    "# print (\"I1=\", I1)\n",
    "# print (\"I2=\", I2)\n",
    "corrs = np.array(corrs)\n",
    "for i in range(len(corrs[0])):\n",
    "#     print (\"corr_{}=\".format(i),np.array(corrs)[:,i])\n",
    "    plt.plot(np.array(corrs)[:,i])\n",
    "    plt.show()\n",
    "    \n",
    "# print (\"c1 = \", [c[0] for c in corrs])\n",
    "# print (\"c2 = \", [c[1] for c in corrs])\n",
    "# print (\"c3 = \", [c[2] for c in corrs])\n",
    "# print (\"c4 = \", [c[3] for c in corrs])\n",
    "# I1 = mut_inf(psi, cloud1up, cloud2up)\n",
    "# print (I1)\n",
    "# print (I3)\n",
    "# print (I3)"
   ]
  },
  {
   "cell_type": "code",
   "execution_count": 44,
   "metadata": {
    "id": "y4DN_HPJQaEl"
   },
   "outputs": [
    {
     "data": {
      "image/png": "[encoded data removed]",
      "text/plain": [
       "<Figure size 432x288 with 1 Axes>"
      ]
     },
     "metadata": {
      "needs_background": "light"
     },
     "output_type": "display_data"
    },
    {
     "data": {
      "image/png": "[encoded data removed]",
      "text/plain": [
       "<Figure size 792x648 with 6 Axes>"
      ]
     },
     "metadata": {
      "needs_background": "light"
     },
     "output_type": "display_data"
    }
   ],
   "source": [
    "# !apt install texlive-fonts-recommended texlive-fonts-extra cm-super dvipng\n",
    "\n",
    "plt.plot(I1)\n",
    "\n",
    "I1 = [0.6931471805599453, 0.5027994750013625, 0.44287078352334314, 0.3864835472164138, 0.2602715743804396, 0.26413910332887736]\n",
    "\n",
    "'''corrs = [\n",
    "0.2472037332913408, 0.5, 0.0, 0.0]\n",
    "0\n",
    "[0.001838969723091228, 0.2033775756011223, -2.395501581717002e-06, 8.418052584954193e-06]\n",
    "1\n",
    "[0.0031849587068003785, 0.16324321724051036, -1.0674324405191036e-06, 0.00019846561793481634]\n",
    "2\n",
    "[0.0006373262042843603, 0.1471330701462955, 7.597450009337662e-06, 0.006446976306860242]\n",
    "3\n",
    "[0.0026778433681072557, 0.1318862466660754, 0.00014663777870428625, 0.07707810516699248]\n",
    "4\n",
    "[0.0013237558398355744, 0.13305295934205227, 0.0008753705255651228, 0.0786918237687373]]\n",
    "]'''\n",
    "\n",
    "# I3 = [0.6931471805599453, 0.1038192509827075, 0.004080831503544768, 0.02812412852145668, 0.07890958543772397, ]\n",
    "\n",
    "# I1 = [round(element, 10) for element in I1]\n",
    "# I2 = [round(element, 10) for element in I2]\n",
    "# I3 = [round(element, 10) for element in I3]\n",
    "\n",
    "c1 =  [0.2472037332913408, 0.001838969723091228, 0.0031849587068003785, 0.0006373262042843603, 0.0026778433681072557, 0.0013237558398355744]\n",
    "c2 =  [0.5, 0.2033775756011223, 0.16324321724051036, 0.1471330701462955, 0.1318862466660754, 0.13305295934205227]\n",
    "c3 =  [0.0, -2.395501581717002e-06, -1.0674324405191036e-06, 7.597450009337662e-06, 0.00014663777870428625, 0.0008753705255651228]\n",
    "c4 =  [0.0, 8.418052584954193e-06, 0.00019846561793481634, 0.006446976306860242, 0.07707810516699248, 0.0786918237687373]\n",
    "c5 = [0.0, 0.0, 1.8994337469080465e-10, 2.1383517007372293e-07, 1.011924450973683e-06, 6.520980617901891e-06]\n",
    "\n",
    "fig, ax = plt.subplots(3,2)\n",
    "fig.set_size_inches(11,9)\n",
    "ax[0][0].plot(I1)\n",
    "ax[0][0].set_ylabel(r\"I:cloud-cloud\")\n",
    "ax[0][1].plot(np.abs(c1))\n",
    "ax[0][1].set_ylabel(r\"$<n_{1 \\downarrow} n_ {-1 \\uparrow}>$\")\n",
    "ax[1][0].plot(np.abs(c2))\n",
    "ax[1][0].set_ylabel(r\"$<n_{1 \\downarrow} n_ {-1 \\downarrow}>$\")\n",
    "ax[1][1].plot(np.abs(c3))\n",
    "ax[1][1].set_ylabel(r\"$<c^\\dagger_{1 \\downarrow} c{-1 \\uparrow}>$\")\n",
    "ax[2][0].plot(np.abs(c4))\n",
    "ax[2][0].set_ylabel(r\"$<c^\\dagger_{1 \\uparrow} c{-1 \\uparrow}>$\")\n",
    "ax[2][1].plot(np.abs(c5))\n",
    "ax[2][1].set_ylabel(r\"$<c^\\dagger_{1 \\uparrow} c^\\dagger_{1 \\downarrow} c_{-1 \\uparrow} c{-1 \\downarrow}>$\")\n",
    "plt.tight_layout()\n",
    "plt.show()\n",
    "# plt.plot(I2)\n",
    "# # plt.yscale(\"log\")\n",
    "# plt.xlabel(r\"RG step\")\n",
    "# plt.ylabel(r\"$I({}:{})$\".format(lastup, cloud1up))\n",
    "# plt.show()\n",
    "# plt.plot(I3)\n",
    "# # plt.yscale(\"log\")\n",
    "# plt.xlabel(r\"RG step\")\n",
    "# plt.ylabel(r\"$I({}:{})$\".format(imp_up, cloud1up))\n",
    "# plt.show()"
   ]
  },
  {
   "cell_type": "code",
   "execution_count": null,
   "metadata": {},
   "outputs": [],
   "source": []
  }
 ],
 "metadata": {
  "colab": {
   "collapsed_sections": [],
   "name": "reverse.ipynb",
   "provenance": []
  },
  "kernelspec": {
   "display_name": "Python 3 (ipykernel)",
   "language": "python",
   "name": "python3"
  },
  "language_info": {
   "codemirror_mode": {
    "name": "ipython",
    "version": 3
   },
   "file_extension": ".py",
   "mimetype": "text/x-python",
   "name": "python",
   "nbconvert_exporter": "python",
   "pygments_lexer": "ipython3",
   "version": "3.9.7"
  }
 },
 "nbformat": 4,
 "nbformat_minor": 4
}
