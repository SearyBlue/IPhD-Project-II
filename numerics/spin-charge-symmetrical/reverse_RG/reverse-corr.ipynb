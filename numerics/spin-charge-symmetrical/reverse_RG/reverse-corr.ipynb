{
 "cells": [
  {
   "cell_type": "markdown",
   "metadata": {
    "id": "9BCqFAZWQaD9"
   },
   "source": [
    "### IR Wavefunction\n",
    "\n",
    "$$\n",
    "\\newcommand{\\ket}[1]{\\vert{#1}\\rangle}\\\\\n",
    "\\newcommand{\\bra}[1]{\\langle{#1}\\vert}\\\\\n",
    "\\ket{\\text{IR}} = \\ket{\\hat n_{k_{-2}} = \\hat n_{k_{-3}} = 2} \\otimes \\frac{1}{2}\\bigg[ \\ket{\\uparrow^d}\\frac{1}{\\sqrt 2}\\left(\\ket{k_1 \\downarrow} + \\ket{k_{-1} \\downarrow}\\right) - \\ket{\\downarrow^d}\\frac{1}{\\sqrt 2}\\left(\\ket{k_1 \\uparrow} + \\ket{k_{-1} \\uparrow}\\right) + \\ket{2^d}\\ket{0} - \\ket{0^d}\\ket{k_1 \\uparrow, k_1 \\downarrow,k_{-1} \\uparrow,k_{-1} \\downarrow}\\bigg] \\otimes  \\ket{\\hat n_{k_{2}} = \\hat n_{k_{3} } = 0} = \\ket{1111}\\ket{0000}\\\\\n",
    "=\\frac{1}{2}\\ket{0000} \\otimes \\left[\\ket{10}\\ket{0101} - \\ket{01}\\ket{1010} + \\ket{11}\\ket{0000} - \\ket{00}\\ket{1111}\\right] \\otimes \\ket{1111} =\\frac{1}{2}\\ket{0000} \\otimes \\left[\\ket{01} \\underbrace{\\ket{10}}_\\text{imp}\\ket{01} - \\ket{10}\\underbrace{\\ket{01}}_\\text{imp}\\ket{10} + \\ket{00}\\underbrace{\\ket{11}}_\\text{imp}\\ket{00} - \\ket{11}\\underbrace{\\ket{00}}_\\text{imp}\\ket{11}\\right] \\otimes \\ket{1111}\\\\\n",
    "U^\\dagger_{k_+, k_-} = \\frac{1}{2}\\left[1 + \\eta_{k_- \\uparrow} + \\eta^\\dagger_{k_+ \\uparrow} + \\eta_{k_- \\downarrow} + \\eta^\\dagger_{k_+ \\downarrow}\\right] \\\\\n",
    " \\\\\n",
    "\\eta_{k_+\\beta}^\\dagger = V \\left[\\lambda_2 \\hat n_{d\\overline\\beta} + \\lambda_1 \\left( 1 - \\hat n_{d \\overline \\beta} \\right)  \\right]c^\\dagger_{q\\beta}c_{d\\beta} + \\lambda_3 \\sum_{k} \\left\\{ \\frac{J}{2}\\left( S_d^z \\beta c^\\dagger_{q\\beta}c_{k\\beta} + c^\\dagger_{d \\overline \\beta}c_{d\\beta}c^\\dagger_{q\\beta}c_{k \\overline \\beta}\\right) + \\frac{K}{2}\\left( C^z_d c^\\dagger_{q\\beta}c_{k\\beta} + c^\\dagger_{q\\beta}c^\\dagger_{k \\overline \\beta}c_{d \\overline \\beta}c_{d\\beta} \\right) \\right\\}\\\\\n",
    "\\eta_{k_-\\beta} = V^* \\left[\\lambda_1 \\hat n_{d \\overline \\beta} + \\lambda_2 \\left( 1 - \\hat n_{d \\overline \\beta} \\right)  \\right]c^\\dagger_{d\\beta}c_{q\\beta} + \\lambda_3 \\sum_{k} \\left\\{ \\frac{J}{2}\\left( S_d^z \\beta c^\\dagger_{k\\beta}c_{q\\beta} + c^\\dagger_{d\\beta}c_{d \\overline \\beta}c^\\dagger_{k \\overline \\beta}c_{q\\beta}\\right)+ \\frac{K}{2}\\left( C^z_d c^\\dagger_{k\\beta}c_{q\\beta} + c^\\dagger_{d\\beta}c^\\dagger_{d \\overline \\beta}c_{k \\overline \\beta}c_{q\\beta} \\right) \\right\\} \\\\\n",
    "\\lambda_1 = \\frac{1}{\\omega - \\frac{1}{2}D + \\epsilon_d + \\frac{1}{2}K}, \\lambda_2 = \\frac{1}{\\omega - \\frac{1}{2}D - \\epsilon_d + \\frac{1}{2}J}, \\lambda_3 = \\frac{1}{\\omega - \\frac{1}{2}D + \\frac{1}{4}\\left(J + K\\right)} \n",
    "$$"
   ]
  },
  {
   "cell_type": "code",
   "execution_count": null,
   "metadata": {
    "colab": {
     "base_uri": "https://localhost:8080/"
    },
    "id": "ItCCBwGHQaEI",
    "outputId": "eaa96e66-673b-4138-e8af-eec927f8061b"
   },
   "outputs": [],
   "source": [
    "# !pip install qutip\n",
    "from qutip import *\n",
    "from math import *\n",
    "import itertools\n",
    "from itertools import product\n",
    "import matplotlib\n",
    "from matplotlib import pyplot as plt\n",
    "import sympy\n",
    "import numpy as np\n",
    "\n",
    "font = {'size'   : 17}\n",
    "\n",
    "matplotlib.rc('font', **font)\n",
    "matplotlib.rcParams['text.usetex'] = True\n",
    "plt.rcParams[\"figure.figsize\"]= 6, 4\n",
    "#plt.rcParams['figure.dpi'] = 90\n",
    "matplotlib.rcParams['lines.linewidth'] = 2\n",
    "plt.rcParams['axes.grid'] = True\n",
    "\n",
    "idt = identity(2)\n",
    "n = create(2) * destroy(2)\n",
    "\n",
    "Cdz = 0.5 * (tensor(n, idt) +  tensor(idt, n) - 1)\n",
    "# isospin z component\n",
    "\n",
    " "
   ]
  },
  {
   "cell_type": "markdown",
   "metadata": {
    "id": "pHX_PmeNQaEL"
   },
   "source": [
    "### Writing the impurity+cloud wavefunction"
   ]
  },
  {
   "cell_type": "code",
   "execution_count": null,
   "metadata": {
    "id": "EiawBOhmQaEM"
   },
   "outputs": [],
   "source": [
    "def get_cloud(csm, ccm, ins):\n",
    "    d_up = [basis(2,1), basis(2,0)]\n",
    "    d_dn = [basis(2,0), basis(2,1)]\n",
    "    d_c_up = [basis(2,1), basis(2,1)]\n",
    "    d_c_dn = [basis(2,0), basis(2,0)]\n",
    "    d_cl_u_d = 0\n",
    "    d_cl_d_u = 0\n",
    "    momenta_range = list(range(0, 2*ins, 2))+list(range(2*ins+2, 4*ins+2, 2))\n",
    "    for k in momenta_range:\n",
    "        base_u = [basis(2,0)]*2*ins + d_up + [basis(2,0)]*2*ins\n",
    "        base_d = [basis(2,0)]*2*ins + d_dn + [basis(2,0)]*2*ins\n",
    "        base_d[k] = basis(2,1)\n",
    "        base_u[k+1] = basis(2,1)\n",
    "        d_cl_u_d += tensor(base_u)\n",
    "        d_cl_d_u += tensor(base_d)\n",
    "    d_cl_d_u = d_cl_d_u.unit()\n",
    "    d_cl_u_d = d_cl_u_d.unit()\n",
    "    d_cl_c_u_d = tensor([basis(2,0)]*2*ins + d_c_up + [basis(2,0)]*2*ins)\n",
    "    d_cl_c_d_u = 0\n",
    "    for k,q in itertools.product(momenta_range, momenta_range):\n",
    "        base_c_d = [basis(2,0)]*2*ins + d_c_dn + [basis(2,0)]*2*ins\n",
    "        base_c_d[k] = basis(2,1)\n",
    "        base_c_d[q + 1] = basis(2,1)\n",
    "        d_cl_c_d_u += tensor(base_c_d)\n",
    "    d_cl_c_d_u = d_cl_c_d_u.unit()\n",
    "\n",
    "    psi_unnorm = csm * (d_cl_u_d - d_cl_d_u) + ccm * (d_cl_c_d_u + d_cl_c_u_d)\n",
    "    return psi_unnorm.unit()   "
   ]
  },
  {
   "cell_type": "markdown",
   "metadata": {
    "id": "UjM4aSqlQaEN"
   },
   "source": [
    "## Creating the unitary\n",
    "\n",
    "$ \\eta^{\\dagger/-} = \\eta_1^{\\dagger/-} + \\eta_2^{\\dagger/-} + \\eta_3^{\\dagger/-}$"
   ]
  },
  {
   "cell_type": "markdown",
   "metadata": {
    "id": "gzP4JMThQaEP"
   },
   "source": [
    "### Create $c^\\dagger_{q\\beta}\\otimes I_{\\overline\\beta}$ or $c_{q\\beta}\\otimes I_{\\overline\\beta}$"
   ]
  },
  {
   "cell_type": "code",
   "execution_count": null,
   "metadata": {
    "id": "ll0bRi44QaEQ"
   },
   "outputs": [],
   "source": [
    "def cq(beta, conj):\n",
    "    cq_ = create(2) if conj == 1 else destroy(2)\n",
    "    # use c^dagger_q is conj == 1 else c_q\n",
    "\n",
    "    return tensor([cq_, idt]) if beta == 1 else tensor([idt, cq_])\n",
    "    # place cq first if beta == up else place idt first"
   ]
  },
  {
   "cell_type": "markdown",
   "metadata": {
    "id": "AzEvy7_5QaER"
   },
   "source": [
    "### Creating $\\sum_k c_{k\\beta}$"
   ]
  },
  {
   "cell_type": "code",
   "execution_count": null,
   "metadata": {
    "id": "-tb6q3AaQaES"
   },
   "outputs": [],
   "source": [
    "def sum_k_ck(beta, conj, imp):\n",
    "    # returns \\sum_{k}c_{k\\beta} or its conjugate\n",
    "    \n",
    "    ck = ([create(2), idt] if beta == 1 else [idt, create(2)]) if conj == 1 else ([destroy(2), idt] if beta == 1 else [idt, destroy(2)])\n",
    "    # variable conj is supposed to tell me whether i require \\sum_k c^\\dagger_k or \\sum_k c_k\n",
    "\n",
    "    init = [idt]*2*ins + [imp] + [idt]*2*ins\n",
    "    sum_over_k = 0\n",
    "    for k in list(range(0, 2*ins, 2)) + list(range(2*ins+1, 4*ins+1, 2)):\n",
    "        sum_over_k += tensor(init[:k] + ck + init[k+2:])\n",
    "    return sum_over_k"
   ]
  },
  {
   "cell_type": "markdown",
   "metadata": {
    "id": "bwkQ6TfTQaEV"
   },
   "source": [
    "### Creating first part of $\\eta$\n",
    "\n",
    "$$\n",
    "V \\left[\\lambda_2 \\hat n_{d\\overline\\beta} + \\lambda_1 \\left( 1 - \\hat n_{d \\overline \\beta} \\right)  \\right]c^\\dagger_{q\\beta}c_{d\\beta}\n",
    "$$\n",
    "or\n",
    "$$\n",
    "V^* \\left[\\lambda_1 \\hat n_{d \\overline \\beta} + \\lambda_2 \\left( 1 - \\hat n_{d \\overline \\beta} \\right)  \\right]c^\\dagger_{d\\beta}c_{q\\beta}\n",
    "$$"
   ]
  },
  {
   "cell_type": "code",
   "execution_count": null,
   "metadata": {
    "id": "f0npIVqIQaEX"
   },
   "outputs": [],
   "source": [
    "def eta1(beta, conj, args):\n",
    "    c1, c2, c3, V, J, K = args\n",
    "    \n",
    "    c_q = cq(beta, conj)\n",
    "    # gets either c^\\dagger_{q\\beta}\\otimes identity(q\\ol\\beta), or c_{q\\beta}iden(q\\ol\\beta), depending on conj=\\pm 1\n",
    "\n",
    "    betaSdz = beta * 0.5 * (tensor(n, idt) - tensor(idt, n))\n",
    "    # gets \\beta S_d^z\n",
    "\n",
    "    cimp = create(2) if conj == -1 else destroy(2)\n",
    "    # impurity beta operator will be c_{d\\beta} if conj = 1 else c^\\dagger_{d\\beta}\n",
    "    \n",
    "    imp_part = [cimp, c2 * n + c1 * (1-n)] if beta == 1 else [c2 * n + c1 * (1-n), cimp]\n",
    "    # the full impurity part will be cimp \\otimes idt(2) if beta is up, else idt(2) \\otimes cimp,\n",
    "    # because up part comes first\n",
    "\n",
    "    cloud_imp_part = tensor([idt]*2*ins + imp_part + [idt]*2*ins)\n",
    "    # cloud electrons do not participate in this part of eta, hence just identities. \n",
    "    # (ins) is number of k states on one side of FS, *2 for both sides, another *2 for spin \n",
    "\n",
    "    if conj == 1:\n",
    "        return V * tensor(c_q, cloud_imp_part, identity(2), identity(2))\n",
    "    else:\n",
    "        return V * tensor(identity(2), identity(2), cloud_imp_part, c_q)\n",
    "    # if conj == 1 (if we are creating eta^dagger), then q is above the FS and eta_1 will be \n",
    "    # c^\\dagger_q \\otimes imp_part \\otimes cloud_part, otherwise it will be imp_part \\otimes cloud_part \\otimes c_q,\n",
    "    # because q will be below the FS"
   ]
  },
  {
   "cell_type": "markdown",
   "metadata": {
    "id": "3ozmH-O8QaEZ"
   },
   "source": [
    "### Creating second part of $\\eta$\n",
    "\n",
    "$$\n",
    "\\lambda_3 \\sum_{k} \\frac{J}{2}c^\\dagger_{q\\beta}\\left( S_d^z \\beta c_{k\\beta} + c^\\dagger_{d \\overline \\beta}c_{d\\beta}c_{k \\overline \\beta}\\right), \\text{ conj} == 1\n",
    "$$\n",
    "or\n",
    "$$\n",
    "\\lambda_3 \\sum_{k} \\frac{J}{2}\\left( S_d^z \\beta c^\\dagger_{k\\beta} + c^\\dagger_{d\\beta}c_{d \\overline \\beta}c^\\dagger_{k \\overline \\beta}\\right)c_{q\\beta}, \\text{ conj} == -1\n",
    "$$\n",
    "The impurity part can be written as\n",
    "$$\n",
    "\\text{imp-part} = \\begin{cases} c^\\dagger_{d\\uparrow}c_{d \\downarrow}, \\text{ if }\\beta \\neq \\text{conj} \\\\ -c_{d\\uparrow}c^\\dagger_{d \\downarrow}, \\text{ if }\\beta == \\text{conj} \\end{cases}\n",
    "$$\n",
    "Cloud part is $\\sum_k c_{k\\beta}(conj)$"
   ]
  },
  {
   "cell_type": "code",
   "execution_count": null,
   "metadata": {
    "id": "kORcckGQQaEa"
   },
   "outputs": [],
   "source": [
    "def eta2(beta, conj, args):\n",
    "    c1, c2, c3, V, J, K = args\n",
    "    \n",
    "    betaSdz = beta * 0.5 * (tensor(n, idt) - tensor(idt, n))\n",
    "    # gets \\beta S_d^z\n",
    "        \n",
    "    c_q = cq(beta, conj)\n",
    "    # gets either c^\\dagger_{q\\beta}\\otimes identity(q\\ol\\beta), or c_{q\\beta}iden(q\\ol\\beta), depending on conj=\\pm 1\n",
    "\n",
    "    imp_part = -tensor(destroy(2), create(2)) if conj == beta else tensor(create(2), destroy(2))\n",
    "    \n",
    "    k_beta_1 = sum_k_ck(beta, -conj, betaSdz)\n",
    "    k_beta_bar_2 = sum_k_ck(-beta, -conj, imp_part)\n",
    "\n",
    "    if conj == 1:\n",
    "        return (c3 / 2) * J * (tensor(c_q, k_beta_1, identity(2), identity(2)) + tensor(c_q, k_beta_bar_2, identity(2), identity(2)))\n",
    "    else:\n",
    "        return (c3 / 2) * J * (tensor(identity(2), identity(2), k_beta_1.dag(), c_q) + tensor(identity(2), identity(2), k_beta_bar_2.dag(), c_q))"
   ]
  },
  {
   "cell_type": "markdown",
   "metadata": {
    "id": "F8G8ZrDuQaEb"
   },
   "source": [
    "### Creating third part of $\\eta$\n",
    "\n",
    "$$\n",
    "\\lambda_3 \\sum_{k} \\frac{K}{2}\\left( C^z_d c^\\dagger_{q\\beta}c_{k\\beta} + c^\\dagger_{q\\beta}c^\\dagger_{k \\overline \\beta}c_{d \\overline \\beta}c_{d\\beta} \\right)\n",
    "$$\n",
    "or\n",
    "$$\n",
    "\\lambda_3 \\sum_{k} \\frac{K}{2}\\left( C^z_d c^\\dagger_{k\\beta}c_{q\\beta} + c^\\dagger_{d\\beta}c^\\dagger_{d \\overline \\beta}c_{k \\overline \\beta}c_{q\\beta} \\right)\n",
    "$$\n",
    "Impurity part is\n",
    "$$\n",
    "\\text{imp-part} = \\begin{cases}-c_{d \\uparrow}c_{d \\downarrow}, \\beta = \\text{conj} = 1 \\\\\n",
    "c_{d \\uparrow}c_{d \\downarrow}, \\beta = -1, \\text{conj} = 1 \\\\\n",
    "c^\\dagger_{d \\uparrow}c^\\dagger_{d \\downarrow}, \\beta = 1, \\text{conj} = -1 \\\\\n",
    "-c^\\dagger_{d \\uparrow}c^\\dagger_{d \\downarrow}, \\beta = \\text{conj} = -1 \\end{cases} = -(\\beta \\times \\text{conj}) * (c_{d \\uparrow}c_{d \\downarrow})(conj)\n",
    "$$\n",
    "The cloud parts are\n",
    "$$\n",
    "\\sum_k(\\beta, -conj) \\text{ and }\\sum_k(-\\beta, conj)\n",
    "$$"
   ]
  },
  {
   "cell_type": "code",
   "execution_count": null,
   "metadata": {
    "id": "DdqLFfQ9QaEd"
   },
   "outputs": [],
   "source": [
    "def eta3(beta, conj, args):\n",
    "    c1, c2, c3, V, J, K = args\n",
    "               \n",
    "    c_q = cq(beta, conj)\n",
    "    # gets either c^\\dagger_{q\\beta}\\otimes identity(q\\ol\\beta), or c_{q\\beta}iden(q\\ol\\beta), depending on conj=\\pm 1\n",
    "\n",
    "    imp_part = -beta*conj*(tensor(destroy(2), destroy(2)) if conj == 1 else tensor(create(2), create(2)))\n",
    "    \n",
    "    k_beta_1 = sum_k_ck(beta, -conj, Cdz)\n",
    "    k_beta_bar_2 = sum_k_ck(-beta, conj, imp_part)\n",
    "\n",
    "    if conj == 1:\n",
    "        return (c3 / 2) * K * (tensor(c_q, k_beta_1, identity(2), identity(2)) + tensor(c_q, k_beta_bar_2, identity(2), identity(2)))\n",
    "    else:\n",
    "        return (c3 / 2) * K * (tensor(identity(2), identity(2), k_beta_1.dag(), c_q) + tensor(identity(2), identity(2), k_beta_bar_2.dag(), c_q))"
   ]
  },
  {
   "cell_type": "code",
   "execution_count": null,
   "metadata": {
    "id": "p-eYRPsQQaEe"
   },
   "outputs": [],
   "source": [
    "def rev_one_step(psi, out, ins, args=[1]*4):\n",
    "\n",
    "    Udag = 1/2\n",
    "    Upsi = psi/2\n",
    "    for conj, beta in product([1, -1], [1, -1]):   \n",
    "        # conj = 1 means eta dagger (q is above FS), conj = -1 means eta (q is below)\n",
    "\n",
    "        iom1 = 2*(out - 1) if conj == 1 else 2 * out\n",
    "        iom2 = 2*(out - 1) if conj == -1 else 2 * out\n",
    "        # iom1 == k states above the FS that are unchanged b4 & after this reverse RG step.\n",
    "        # If conj == 1, that means I am working with a q that's empty, so iom1 will lose 2 states (q up, q down).\n",
    "        # iom2 will lose two states if the electron being re-entangled is below FS, that is if conj == -1\n",
    "        U, J, K, V, D, w = args\n",
    "        \n",
    "        c1 = 1/(w - D/2 - U/2 + K/2)\n",
    "        c2 = 1/(w - D/2 + U/2 + J/2)\n",
    "        c3 = 1/(w - D/2 + K/4 + J/4)\n",
    "\n",
    "        args = (c1, c2, c3, V, J, K)\n",
    "        \n",
    "        eta_1 = eta1(beta, conj, args)\n",
    "        eta_2 = eta2(beta, conj, args)\n",
    "        eta_3 = eta3(beta, conj, args)\n",
    "\n",
    "        c = 1\n",
    "        for eta_beta_conj in [eta_1, eta_2, eta_3]:\n",
    "\n",
    "            c += 1\n",
    "\n",
    "            Upsi += 0.5 * eta_beta_conj(psi)\n",
    "\n",
    "        eta_beta_conj =  eta_1 = eta_2 = _eta_3 = []\n",
    "    \n",
    "    \n",
    "    # return Udag(psi)\n",
    "    return Upsi\n",
    "\n"
   ]
  },
  {
   "cell_type": "markdown",
   "metadata": {
    "id": "W88JSzy5QaEg"
   },
   "source": [
    "## Measures of Entanglement\n",
    "\n",
    "### Mutual Information\n",
    "\n",
    "$\n",
    "\\rho = \\text{density matrix} = \\ket{\\Psi}\\bra{\\Psi}\n",
    "$\n",
    ",\n",
    "$\n",
    "I(A:B) = S_A + S_B - S_{AB}\n",
    "$\n",
    ",\n",
    "$\n",
    "S_X = \\text{Tr}_X \\left[{\\rho}\\right]\n",
    "$"
   ]
  },
  {
   "cell_type": "code",
   "execution_count": null,
   "metadata": {
    "id": "26Pii8aB2VVf"
   },
   "outputs": [],
   "source": [
    "def ptrace(psi, indices):\n",
    "    N = 4*(out + ins) + 2\n",
    "    bit = [basis(2, 0), basis(2, 1)]\n",
    "    # gen = [bit]*(a) + [[0]] + [bit]*(N-a-1)\n",
    "    gen = [bit] * N\n",
    "    for i in indices:\n",
    "        gen[i] = [identity(2)]\n",
    "    dm_a = 0\n",
    "    for term in tqdm(itertools.product(*gen), total=2**(N-2)):\n",
    "        base = tensor(*term)\n",
    "        bra = psi.dag() * base\n",
    "        dm_a += bra.dag() * bra\n",
    "    return dm_a\n"
   ]
  },
  {
   "cell_type": "code",
   "execution_count": null,
   "metadata": {
    "id": "F1nt-q0bQaEh"
   },
   "outputs": [],
   "source": [
    "def mut_inf(psi, a, b):\n",
    "\n",
    "\n",
    "    N = 4*(out + ins) + 2\n",
    "    bit = [basis(2, 0), basis(2, 1)]\n",
    "    gen = [[identity(2)]] * N\n",
    "    i = 0\n",
    "    while gen.count(bit) < N - 14:\n",
    "        if i not in (a,b):\n",
    "            gen[i] = bit\n",
    "            a = a - 1 if i < a else a\n",
    "            b = b - 1 if i < b else b\n",
    "        i += 1\n",
    "\n",
    "    tot = gen.count(bit)\n",
    "    if tot > 0:\n",
    "        rho_ab = 0\n",
    "        for term in tqdm(itertools.product(*gen), total=2**tot):\n",
    "            # base = tensor(*term)\n",
    "            bra = psi.dag() * tensor(*term)\n",
    "            rho_ab += bra.dag() * bra\n",
    "\n",
    "    else:\n",
    "        rho_ab = psi * psi.dag()\n",
    "    \n",
    "    rho_ab = rho_ab.ptrace([a,b])\n",
    "    rho_a = rho_ab.ptrace(int(a>b))\n",
    "    rho_b = rho_ab.ptrace(int(a<b))\n",
    "\n",
    "\n",
    "    S_a = entropy_vn(rho_a) \n",
    "    S_b = entropy_vn(rho_b)\n",
    "    S_ab = entropy_vn(rho_ab)\n",
    "\n",
    "    return S_a + S_b - S_ab"
   ]
  },
  {
   "cell_type": "code",
   "execution_count": null,
   "metadata": {},
   "outputs": [],
   "source": []
  },
  {
   "cell_type": "code",
   "execution_count": null,
   "metadata": {},
   "outputs": [],
   "source": [
    "def corr(psi):\n",
    "    print (ins)\n",
    "    spin = tensor([idt]*(2*out + 2*ins - 2) + [n, idt, idt, idt, idt, n] + [idt]*(2*out + 2*ins - 2))\n",
    "    # n_{1 down} n_{-1 up}\n",
    "\n",
    "    charge = tensor([idt]*(2*out + 2*ins) + [idt, idt, idt, idt, n, n] + [idt]*(2*out + 2*ins - 4))\n",
    "\n",
    "    c = []\n",
    "    c.append(np.real(psi.dag() * spin * psi)[0][0])\n",
    "    c.append(np.real(psi.dag() * charge * psi)[0][0])\n",
    "\n",
    "    return c\n"
   ]
  },
  {
   "cell_type": "code",
   "execution_count": null,
   "metadata": {
    "colab": {
     "base_uri": "https://localhost:8080/"
    },
    "id": "v0md4tIeQaEi",
    "outputId": "c3233b65-5c6b-4ce5-bf06-548822512831"
   },
   "outputs": [],
   "source": [
    "from tqdm import tqdm\n",
    "from multiprocessing import Pool\n",
    "\n",
    "out = 1\n",
    "# no of momenta states outside cloud, on each side of FS\n",
    "\n",
    "ins = 2\n",
    "# no of momenta states inside cloud, on each side of FS\n",
    "\n",
    "lastup = 0\n",
    "# position of the last electron to get recoupled\n",
    "\n",
    "imp_up = 2 * (ins + out) \n",
    "imp_down = imp_up + 1\n",
    "\n",
    "a = 1\n",
    "b = 1\n",
    "cloud1up = imp_up - a\n",
    "cloud2up = imp_up + b\n",
    "# positions of the innermost cloud electrons\n",
    "\n",
    "U =  [0, 0, 0, 0, 0.06463131507519854, 0.3832892301648289, 0.81035398312819, 0.9653022499322309, 1]\n",
    "J =  [0.4671215288625387, 0.1610471732413586, 0.09292714506948394, 0.06570355318275373, 0.0515190332875324, 0.04292128519020507, 0.0371787477122733, 0.03307692307692307, 0.03]\n",
    "K =  [0.4671215288625387, 0.1610471732413586, 0.09292714506948394, 0.06570355318275373, 0.0515190332875324, 0.04292128519020507, 0.0371787477122733, 0.03307692307692307, 0.03]\n",
    "V =  [3.31196040544157, 0.8600731642469739, 0.40964223204281247, 0.2526301643610369, 0.17618732751694133, 0.12356402131908403, 0.06672654361752858, 0.032185777536821183, 0.02]\n",
    "count =  [2, 3, 4, 5, 6, 7, 8, 9, 10]\n",
    "D =  [0.2, 0.30000000000000004, 0.4, 0.5, 0.6000000000000001, 0.7000000000000001, 0.8, 0.9, 1.0]\n",
    "\n",
    "\n",
    "w = -0.1\n",
    "j = J[0] * count[0]\n",
    "k = K[0] * count[0]\n",
    "v = V[0] * sqrt(count[0])\n",
    "gamma = (3*j + k + 2*U[0])/(8*v)\n",
    "csm = sqrt(sqrt(gamma**2 + 4) + gamma)\n",
    "ccm = -sqrt(sqrt(gamma**2 + 4) - gamma)\n",
    "\n",
    "iom_above = tensor([basis(2,0)] * 2 * out)\n",
    "iom_below = tensor([basis(2,1)] * 2 * out)\n",
    "psi = tensor(iom_above, get_cloud(csm, ccm, ins), iom_below).unit()\n",
    "\n",
    "\n",
    "corrs = [corr(psi)]\n",
    "print (corrs[-1])\n",
    "# print (corrs[-1])\n",
    "# corrs = []\n",
    "for i in range(4):\n",
    "    args = (U[i+1], J[i+1], K[i+1], V[i+1], D[i+1], w)\n",
    "    psi = rev_one_step(psi, out, ins, args).unit()\n",
    "    out -= 1\n",
    "    ins += 1\n",
    "    imp_up = 2 * (ins + out) \n",
    "    imp_down = imp_up + 1\n",
    "    cloud1up = imp_up - a\n",
    "    cloud2up = imp_up + b\n",
    "#     if i > 0:\n",
    "    corrs.append(corr(psi))\n",
    "    print (corrs[-1])\n",
    "\n",
    "    out += 1\n",
    "    psi = tensor(basis(2, 0), basis(2, 0), psi, basis(2, 1), basis(2, 1))\n",
    "\n",
    "\n",
    "for i in range(len(corrs[0])):\n",
    "    print (\"corr_od=\",np.array(corrs)[:,i])"
   ]
  },
  {
   "cell_type": "code",
   "execution_count": null,
   "metadata": {},
   "outputs": [],
   "source": [
    "for i in range(len(corrs[0])):\n",
    "#     print (\"corr_{}=\".format(i),np.array(corrs)[:,i])\n",
    "    plt.plot(np.array(corrs)[:,i])\n",
    "    plt.show()"
   ]
  },
  {
   "cell_type": "code",
   "execution_count": null,
   "metadata": {
    "id": "y4DN_HPJQaEl"
   },
   "outputs": [],
   "source": [
    "# !apt install texlive-fonts-recommended texlive-fonts-extra cm-super dvipng\n",
    "\n",
    "I1 = np.array([0.09560258894703233, 0.053308137769454644, 0.014014944219370051, 0.0065338373289912655, 7.827715309660643e-06])\n",
    "I3 = np.array([0.09560258894703233, 0.049518816903725726, 0.0006669696097013622, 0.00046926792959223196, 0.00023912255141889105])\n",
    "# I1 = np.array([0.6931471805599453, 0.5027994750013625, 0.44287078352334314, 0.3864835472164138, 0.2602715743804396, )0.26413910332887736]\n",
    "corr_diag_spin= np.array([0.01484681922040148, 0.0014102824523514227, 0.0020764268326214524, 0.0006272492041761989,0.0008239299216066614] )\n",
    "corr_off_diag= np.array([0.01484681922040148, 0.0014102824523514227, 0.0020764268326214524, 0.0006269357838438394,0.0008176891175559328] )\n",
    "corr_diag_ch = np.array([0.01484681922040148, 0.0014102824523514227, 0.0020764268326214524, 0.0006272492041761989,0.0008239299216066614] )\n",
    "\n",
    "plt.plot(range(4,9), I1, marker=\"o\", mfc = \"r\")\n",
    "plt.xlabel(r\"no. of momenta in Kondo cloud\")\n",
    "plt.ylabel(r\"I(cloud:cloud)\")\n",
    "plt.show()\n",
    "plt.plot(range(4,9), I3, marker=\"o\", mfc = \"r\")\n",
    "plt.xlabel(r\"no. of momenta in Kondo cloud\")\n",
    "plt.ylabel(r\"I(imp:cloud)\")\n",
    "plt.show()\n",
    "plt.plot(range(4,9), corr_diag_spin, marker=\"o\", mfc = \"r\")\n",
    "plt.xlabel(r\"no. of momenta in Kondo cloud\")\n",
    "plt.ylabel(r\"$\\langle n_{k_1 \\uparrow} n_{k_2 \\downarrow}\\rangle$\")\n",
    "plt.show()\n",
    "plt.plot(range(4,9), corr_diag_ch, marker=\"o\", mfc = \"r\")\n",
    "plt.xlabel(r\"no. of momenta in Kondo cloud\")\n",
    "plt.ylabel(r\"$\\langle n_{k \\uparrow} n_{k \\downarrow}\\rangle$\")\n",
    "plt.show()\n",
    "plt.plot(range(4,9), corr_off_diag, marker=\"o\", mfc = \"r\")\n",
    "plt.xlabel(r\"no. of momenta in Kondo cloud\")\n",
    "plt.ylabel(r\"$\\langle c^\\dagger_{k \\uparrow}c_{k^\\prime \\downarrow}c^\\dagger_{q \\downarrow}c_{q^\\prime \\uparrow}\\rangle$\")\n",
    "plt.show()"
   ]
  },
  {
   "cell_type": "code",
   "execution_count": null,
   "metadata": {},
   "outputs": [],
   "source": [
    "def get_xi(Ek, flag=False):\n",
    "    if flag == False:\n",
    "        J_ = 0\n",
    "    else:\n",
    "        J_ = J\n",
    "    return Ek/(Eg + J_/4) + (Ek/(Eg + J_/4))**2\n",
    "\n",
    "\n",
    "U_arr =  [0, 0, 0, 0, 0.06463131507519854, 0.3832892301648289, 0.81035398312819, 0.9653022499322309, 1]\n",
    "J_arr =  [0.4671215288625387, 0.1610471732413586, 0.09292714506948394, 0.06570355318275373, 0.0515190332875324, 0.04292128519020507, 0.0371787477122733, 0.03307692307692307, 0.03]\n",
    "K_arr =  [0.4671215288625387, 0.1610471732413586, 0.09292714506948394, 0.06570355318275373, 0.0515190332875324, 0.04292128519020507, 0.0371787477122733, 0.03307692307692307, 0.03]\n",
    "V_arr =  [3.31196040544157, 0.8600731642469739, 0.40964223204281247, 0.2526301643610369, 0.17618732751694133, 0.12356402131908403, 0.06672654361752858, 0.032185777536821183, 0.02]\n",
    "count_arr =  [2, 3, 4, 5, 6, 7, 8, 9, 10]\n",
    "D_arr =  [0.2, 0.30000000000000004, 0.4, 0.5, 0.6000000000000001, 0.7000000000000001, 0.8, 0.9, 1.0]\n",
    "F = []\n",
    "f = []\n",
    "for i in range(9):\n",
    "    D = D_arr[i]\n",
    "    J = J_arr[i]\n",
    "    U = U_arr[i]\n",
    "    V = V_arr[i]\n",
    "    count = count_arr[i]\n",
    "    N = 2 * count\n",
    "    K = 0\n",
    "    j = J * N\n",
    "    v = V * sqrt(N)\n",
    "    k = 0\n",
    "    gamma = (3*j + k + 2*U)/(8*v)\n",
    "    Eg = -U/2 - 3*j/4 + v * (gamma - sqrt(gamma*2 + 4))\n",
    "    Ek = [ -0.2, -0.1, 0.1, 0.2]\n",
    "    #        q,   qp,   k,   kp\n",
    "    xi = list(map(get_xi, Ek))\n",
    "    xi_J = [get_xi(0.1, True), get_xi(0.2, True)]\n",
    "    F.append((V**2/(Eg * N * (Eg + J/4))) * ((V**2/(Eg * N)) * (xi[3] - xi[2] + 2) * (xi[0] + xi[1]) + (J/2) * (xi[0]+xi[1]-xi[2]+xi[3] + 2)) + (J**2/(4*(Eg + J/4))) * (xi_J[1] - xi_J[0]))\n",
    "    f.append(abs((J**2/(4*(Eg + J/4)**3) - 2*V**2/Eg**3)/(J**2/(4*(Eg + J/4)**2) - 2*V**2/Eg**2)))\n",
    "    # f.append(Eg)\n",
    "    \n",
    "\n",
    "plt.plot(range(2, 2+9), np.abs(F), marker= \"o\", mfc = \"r\")\n",
    "plt.yscale(\"log\")\n",
    "plt.ylabel(r\"$|F_{kk^\\prime q q^\\prime}|$\")\n",
    "plt.xlabel(r\"size of entangled window\")\n",
    "plt.show()\n",
    "plt.plot(range(2, 2+9), f, marker= \"o\", mfc = \"r\")\n",
    "# plt.yscale(\"log\")\n",
    "plt.ylabel(r\"$|f_{kk^\\prime}|$\")\n",
    "plt.xlabel(r\"size of entangled window\")\n",
    "plt.show()"
   ]
  },
  {
   "cell_type": "markdown",
   "metadata": {},
   "source": [
    "## Impurity Specific Heat"
   ]
  },
  {
   "cell_type": "markdown",
   "metadata": {},
   "source": [
    "### 1. From Fermi liquid part of zero mode effective Hamiltonian with $k=0$"
   ]
  },
  {
   "cell_type": "code",
   "execution_count": null,
   "metadata": {},
   "outputs": [],
   "source": [
    "U       =  0\n",
    "J       =  0.4671215288625387\n",
    "K       =  0 # 0.4671215288625387\n",
    "V       =  3.131196040544157\n",
    "count   =  2\n",
    "D       =  0.2\n",
    "# U = 0\n",
    "# j = 1\n",
    "# k = 0.5\n",
    "# v = 1\n",
    "# count = 2\n",
    "\n",
    "# J0 = 0.099\n",
    "# U = 0\n",
    "# V = 1.32072559037062\n",
    "# J = 5.387232452506739\n",
    "# K = 0.011781744590640684\n",
    "# count = 2\n",
    "# D = 0.2\n",
    "\n",
    "N = 2 * count\n",
    "j = J * N\n",
    "k = K * N\n",
    "v = V * sqrt(N)\n",
    "\n",
    "gamma = (3*j + k + 2*U)/(8*v)\n",
    "Eg = -U/2 - 3*j/4 + v * (gamma - sqrt(gamma*2 + 4))\n",
    "# Eg *= 100\n",
    "# Eg = -1\n",
    "Ek_0 = np.array([-0.2, -0.1, 0.1, 0.2])\n",
    "#        q,   qp,   k,   kp\n",
    "\n",
    "f = (J**2/(4*(Eg + J/4)**3) + K**2/(4*(Eg + K/4)**3) - 2*V**2/Eg**3)/(J**2/(4*(Eg + J/4)**2) + K**2/(4*(Eg + K/4)**2) - 2*V**2/Eg**2)\n",
    "# f = (J**2/(4*(Eg + J/4)**3) + K**2/(4*(Eg + K/4)**3) - 2*V**2/Eg**3)\n",
    "\n",
    "Cv = []\n",
    "Cvj = []\n",
    "Cv_imp = []\n",
    "gamma = []\n",
    "Trange = 10**np.arange(-3, 3, 0.1, dtype=float)\n",
    "for T in Trange:\n",
    "    kb = 1\n",
    "    beta = 1/(kb * T)\n",
    "    fd_0 = 1/(1 + np.exp(beta * Ek_0))\n",
    "    E = Ek_0 + 2*f*Ek_0*sum(Ek_0*fd_0)\n",
    "    fd = 1/(1 + np.exp(beta * E))\n",
    "    Z = 2 * sum(np.exp(-beta * E))\n",
    "    diff1 = -2*f*Ek_0*sum(np.exp(beta*Ek_0)*Ek_0**2/(1+np.exp(beta*Ek_0))**2)\n",
    "    diff2 = np.exp(-beta*E)*(E - 2*f*beta*Ek_0*sum(np.exp(beta*Ek_0)*Ek_0**2/(1+np.exp(beta*Ek_0))**2))/(1+np.exp(beta*E))**2\n",
    "    diff3 = -sum(np.exp(-beta*E) * (E + beta*diff1))\n",
    "    Cv = (-beta/T) * 2 * sum((fd*diff1 + E*diff2)/Z - diff3*E*fd/Z**2)\n",
    "    # E = Ek_0\n",
    "    # for i, ek_0 in enumerate(Ek_0):\n",
    "    #     E[i] += 2 * np.abs(sum([f*Ek_0[j]*ek_0*fd[j] for j in range(len(Ek_0))]))\n",
    "    #     # print (ek_0, np.sign(sum([f*Ek_0[j]*ek_0*fd[j] for j in range(len(Ek_0))])))\n",
    "    #     # print (ek_0)\n",
    "    # Cj = 2 * sum(E * (2*E - Ek_0) / (fk/T + 2 * (np.cosh(E/(2*T)))**2)) / T**2\n",
    "    Cv_0 = (-beta/T) * 2 * ((sum(Ek_0*np.exp(-beta*Ek_0))/sum(np.exp(-beta*Ek_0)))**2 - sum(Ek_0**2 * np.exp(-beta*Ek_0))/sum(np.exp(-beta*Ek_0)))\n",
    "    Cv_imp.append(Cv - Cv_0)\n",
    "\n",
    "plt.plot(np.log10(Trange), Cv_imp)\n",
    "# plt.scatter(np.log10(Trange), np.array(Cv), color=\"y\")\n",
    "# plt.xscale(\"log\")\n",
    "plt.show()"
   ]
  },
  {
   "cell_type": "markdown",
   "metadata": {},
   "source": [
    "### 2. From Fermi liquid part of zero mode effective Hamiltonian with $k=0$, interpreting RG flow as reduction in temperature"
   ]
  },
  {
   "cell_type": "code",
   "execution_count": null,
   "metadata": {},
   "outputs": [],
   "source": [
    "U_arr = np.load(\"../spin-charge-symmetrical/U.npy\")\n",
    "J_arr = np.load(\"../spin-charge-symmetrical/J.npy\")\n",
    "K_arr = np.load(\"../spin-charge-symmetrical/K.npy\")\n",
    "V_arr = np.load(\"../spin-charge-symmetrical/V.npy\")\n",
    "count_arr = np.load(\"../spin-charge-symmetrical/count.npy\")\n",
    "D_arr = count_arr/10\n",
    "Cv = []\n",
    "Cvj = []\n",
    "Cv_imp = []\n",
    "for U,J,K,V,count,D in zip(U_arr, J_arr, K_arr, V_arr, count_arr, D_arr):\n",
    "    # if count > 290:\n",
    "    #     print (U,J,K,V,count,D)\n",
    "    N = 2 * count\n",
    "    # K = 0\n",
    "    j = J * N\n",
    "    v = V * sqrt(N)\n",
    "    # k = 0\n",
    "    gamma = (3*j + k + 2*U)/(8*v)\n",
    "    Eg = -U/2 - 3*j/4 + v * (gamma - sqrt(gamma*2 + 4))\n",
    "    # Eg = -1\n",
    "    Ek = np.linspace(-D, D, N, endpoint=True)\n",
    "    fk = ((J**2/(4*(Eg + J/4)**3) - 2*V**2/Eg**3)/(J**2/(4*(Eg + J/4)**2) - 2*V**2/Eg**2)) * Ek**2\n",
    "\n",
    "    T = D\n",
    "    fd = 1/(1 + np.exp(Ek/T))\n",
    "    E = Ek + fk * fd\n",
    "    Cj = 2 * sum(E * (2*E - Ek) / (fk/T + 2 * (np.cosh(E/(2*T)))**2)) / T**2\n",
    "    C = 2 * sum(Ek**2 * np.exp(Ek/T)/((1 + np.exp(Ek/T))**2)) / T**2\n",
    "    Cvj.append((Cj))\n",
    "    Cv.append((C))\n",
    "    Cv_imp.append(Cj - C)\n",
    "\n",
    "plt.plot(D_arr, Cv_imp)\n",
    "# plt.scatter(np.log10(Trange), np.array(Cv), color=\"y\")\n",
    "# plt.xscale(\"log\")\n",
    "plt.show()\n",
    "# print (np.argmax(Cv_imp))"
   ]
  },
  {
   "cell_type": "markdown",
   "metadata": {},
   "source": [
    "### 3. From partition function of zero mode two site Hamiltonian, interpreting RG flow as reduction in temperature"
   ]
  },
  {
   "cell_type": "code",
   "execution_count": null,
   "metadata": {},
   "outputs": [],
   "source": [
    "U_arr = np.load(\"../spin-charge-symmetrical/U.npy\")\n",
    "J_arr = np.load(\"../spin-charge-symmetrical/J.npy\")\n",
    "K_arr = np.load(\"../spin-charge-symmetrical/K.npy\")\n",
    "V_arr = np.load(\"../spin-charge-symmetrical/V.npy\")\n",
    "count_arr = np.load(\"../spin-charge-symmetrical/count.npy\")\n",
    "D_arr = count_arr/10\n",
    "Cv = []\n",
    "for U,J,K,V,count,D in zip(U_arr, J_arr, K_arr, V_arr, count_arr, D_arr):\n",
    "    N = 2 * count\n",
    "    j = J * N\n",
    "    k = K * N\n",
    "    v = V * sqrt(N)\n",
    "    delta = sqrt(2*v**2 + U**2/4)\n",
    "    gamma = (3*j + k + 2*U)/(8*v)\n",
    "    Ep = -U/2 - 3*j/4 + v * (gamma + sqrt(gamma*2 + 4))\n",
    "    Em = -U/2 - 3*j/4 + v * (gamma - sqrt(gamma*2 + 4))\n",
    "    csp = sqrt(sqrt(gamma**2 + 4) - gamma)/sqrt(2*sqrt(gamma**2 + 4))\n",
    "    csm = sqrt(sqrt(gamma**2 + 4) + gamma)/sqrt(2*sqrt(gamma**2 + 4))\n",
    "    ccp = csm\n",
    "    ccm = -csp\n",
    "    evals = np.array([k/4]*2 + [-U/4 + delta/2, -U/4 - delta/2] * 4 + [-U/2 + j/4]*3 + [-3*k/4] + [Ep, Em])\n",
    "    T = D\n",
    "    Z = sum(np.exp(-evals/T))\n",
    "    Zp = sum(evals * np.exp(-evals/T))\n",
    "    # print (Z)\n",
    "    Cv_T = sum(evals**2 * np.exp(-evals/T)) / (Z * T**2) - (sum(evals * np.exp(-evals/T)/(Z * T)))**2\n",
    "    Cv.append(Cv_T)\n",
    "plt.plot((Cv))\n",
    "plt.show()"
   ]
  },
  {
   "cell_type": "markdown",
   "metadata": {},
   "source": [
    "### 4. From partition function of zero mode two site Hamiltonian"
   ]
  },
  {
   "cell_type": "code",
   "execution_count": null,
   "metadata": {},
   "outputs": [],
   "source": [
    "U_arr =  [0, 0, 0, 0, 0.06463131507519854, 0.3832892301648289, 0.81035398312819, 0.9653022499322309, 1]\n",
    "J_arr =  [0.4671215288625387, 0.1610471732413586, 0.09292714506948394, 0.06570355318275373, 0.0515190332875324, 0.04292128519020507, 0.0371787477122733, 0.03307692307692307, 0.03]\n",
    "K_arr =  [0.4671215288625387, 0.1610471732413586, 0.09292714506948394, 0.06570355318275373, 0.0515190332875324, 0.04292128519020507, 0.0371787477122733, 0.03307692307692307, 0.03]\n",
    "V_arr =  [3.31196040544157, 0.8600731642469739, 0.40964223204281247, 0.2526301643610369, 0.17618732751694133, 0.12356402131908403, 0.06672654361752858, 0.032185777536821183, 0.02]\n",
    "count_arr =  [2, 3, 4, 5, 6, 7, 8, 9, 10]\n",
    "D_arr =  [0.2, 0.30000000000000004, 0.4, 0.5, 0.6000000000000001, 0.7000000000000001, 0.8, 0.9, 1.0]\n",
    "D = D_arr[0]\n",
    "J = J_arr[0]\n",
    "K = K_arr[0]\n",
    "U = U_arr[0]\n",
    "V = V_arr[0]\n",
    "count = count_arr[0]\n",
    "N = 2 * count\n",
    "j = J * N\n",
    "k = K * N\n",
    "v = V * sqrt(N)\n",
    "delta = sqrt(2*v**2 + U**2/4)\n",
    "gamma = (3*j + k + 2*U)/(8*v)\n",
    "Eg = -U/2 - 3*j/4 + v * (gamma - sqrt(gamma*2 + 4))\n",
    "Eg *= 100\n",
    "Cv = []\n",
    "Ep = -U/2 - 3*j/4 + v * (gamma + sqrt(gamma*2 + 4))\n",
    "Em = -U/2 - 3*j/4 + v * (gamma - sqrt(gamma*2 + 4))\n",
    "csp = sqrt(sqrt(gamma**2 + 4) - gamma)/sqrt(2*sqrt(gamma**2 + 4))\n",
    "csm = sqrt(sqrt(gamma**2 + 4) + gamma)/sqrt(2*sqrt(gamma**2 + 4))\n",
    "ccp = csm\n",
    "ccm = -csp\n",
    "evals = np.array([k/4]*2 + [-U/4 + delta/2, -U/4 - delta/2] * 4 + [-U/2 + j/4]*3 + [-3*k/4] + [Ep, Em])\n",
    "Trange = 10**np.arange(-2, 2, 0.01, dtype=float)\n",
    "Gamma = []\n",
    "for T in Trange:\n",
    "    kB = 1\n",
    "    beta = 1/(kB * T)\n",
    "    Z = sum(np.exp(-evals * beta))\n",
    "    # Zp = sum(evals * np.exp(-evals * beta))\n",
    "    Cv_T = (sum(evals**2 * np.exp(-evals * beta)) / (Z * T**2) - (sum(evals * np.exp(-evals * beta)/(Z * T)))**2) / kB\n",
    "    Cv.append(Cv_T)\n",
    "    Gamma.append(Cv_T/T)\n",
    "plt.plot(np.log10(Trange), Cv)\n",
    "# plt.plot(np.log10(Trange), Gamma)\n",
    "plt.show()"
   ]
  },
  {
   "cell_type": "markdown",
   "metadata": {},
   "source": [
    "## Exact diagonalization of fixed-point Hamiltonian"
   ]
  },
  {
   "cell_type": "code",
   "execution_count": null,
   "metadata": {},
   "outputs": [],
   "source": [
    "def kin_en():\n",
    "    H = 0\n",
    "    dim = 2*len(Ek_0)\n",
    "    for i, Ek in enumerate(Ek_0):\n",
    "        print (i)\n",
    "        imp = 2\n",
    "        bef = 2 * i\n",
    "        aft = imp + dim - bef\n",
    "        tau = create(2)*destroy(2) - 1/2\n",
    "        mats = [identity(2)]*2*(imp+bef) + [Ek*tau]*2 + [identity(2)]*2*aft\n",
    "        # print (mats)\n",
    "        # for mat in mats:\n",
    "        #     print (mat)\n",
    "        #     print (\"Osu!\")\n",
    "        H += tensor(mats)\n",
    "        # print (H)\n",
    "    return H\n",
    "\n",
    "# def hyb():\n",
    "\n",
    "print (kin_en())"
   ]
  },
  {
   "cell_type": "code",
   "execution_count": null,
   "metadata": {},
   "outputs": [],
   "source": []
  }
 ],
 "metadata": {
  "colab": {
   "collapsed_sections": [],
   "name": "reverse.ipynb",
   "provenance": []
  },
  "kernelspec": {
   "display_name": "Python 3 (ipykernel)",
   "language": "python",
   "name": "python3"
  },
  "language_info": {
   "codemirror_mode": {
    "name": "ipython",
    "version": 3
   },
   "file_extension": ".py",
   "mimetype": "text/x-python",
   "name": "python",
   "nbconvert_exporter": "python",
   "pygments_lexer": "ipython3",
   "version": "3.9.9"
  }
 },
 "nbformat": 4,
 "nbformat_minor": 4
}
